{
  "nbformat": 4,
  "nbformat_minor": 0,
  "metadata": {
    "colab": {
      "name": "Multi-Armed-Bandit-Problem.ipynb",
      "provenance": [],
      "collapsed_sections": [],
      "authorship_tag": "ABX9TyMCT7RZOy3xNtlKBNbtodaq",
      "include_colab_link": true
    },
    "kernelspec": {
      "name": "python3",
      "display_name": "Python 3"
    }
  },
  "cells": [
    {
      "cell_type": "markdown",
      "metadata": {
        "id": "view-in-github",
        "colab_type": "text"
      },
      "source": [
        "<a href=\"https://colab.research.google.com/github/pko89403/Recsys_test/blob/master/Multi_Armed_Bandit_Problem.ipynb\" target=\"_parent\"><img src=\"https://colab.research.google.com/assets/colab-badge.svg\" alt=\"Open In Colab\"/></a>"
      ]
    },
    {
      "cell_type": "markdown",
      "metadata": {
        "id": "qdXksHmVIIJs",
        "colab_type": "text"
      },
      "source": [
        "# Multi Armed Bandit Problem\n",
        "https://github.com/PacktPublishing/Hands-On-Reinforcement-Learning-with-Python/blob/master/Chapter06/6.1%20MAB%20-%20Various%20Exploration%20Strategies.ipynb    \n",
        "\n",
        "멀티 암드 밴딧 문제는 강화 학습 분야에서 한 클래식한 분야이다. 멀티 암드 밴딧은 슬롯 머신이다.    \n",
        "슬롯 머신은 카지노에서 하는 도박이다. Arm(레버)를 당겨 보상(reward)를 받는 기반해서 임의로 생성된 확률 분포.    \n",
        "싱글 슬롯 머신을 원(one)-암드 밴딧으로 부르고 멀티 슬롯 머신을 멀티 암드 밴듯 이나 k 암드 밴딧이라 부른다."
      ]
    },
    {
      "cell_type": "markdown",
      "metadata": {
        "id": "lsrRlNz9KgvD",
        "colab_type": "text"
      },
      "source": [
        "각 슬롯 머신이 보상을 준다. 슬롯 머신 각각이 가진 고유한 확률 분포에 따라, 우리의 목적은 찾아내는 것이다.   \n",
        "어떤 슬롯 머신이 최대로 누적된 보상을 주는지 시간의 흐름에 따라.   \n",
        "따라서 각 타임 스텝 t에 대해, 에이전트는 액션을 한다. 즉(i.e) \n",
        "- 슬롯 머신의 레버를 당기고\n",
        "- 보상을 받고\n",
        "- 우리의 에이전트의 목적은 누적 보상을 최대화 하는 것이다.\n",
        "\n",
        "Q(a)를 레버를 당겼을 때의 평균 보상이라고 정의를 한다."
      ]
    },
    {
      "cell_type": "markdown",
      "metadata": {
        "id": "d73ohRClMmaO",
        "colab_type": "text"
      },
      "source": [
        "![image.png](data:image/png;base64,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)"
      ]
    },
    {
      "cell_type": "markdown",
      "metadata": {
        "id": "Xo-MDPyWMyMn",
        "colab_type": "text"
      },
      "source": [
        "그에 따라 최대의 누적 보상을 주는 최적(optimal)의 레버는 아래와 같아진다."
      ]
    },
    {
      "cell_type": "markdown",
      "metadata": {
        "id": "BNHhjp98NO21",
        "colab_type": "text"
      },
      "source": [
        "![image.png](data:image/png;base64,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)"
      ]
    },
    {
      "cell_type": "markdown",
      "metadata": {
        "id": "HawUfof3NReT",
        "colab_type": "text"
      },
      "source": [
        "우리의 에이전트의 목적은 최적의 레버(ARM)을 찾는 것 뿐만 아니라 Regret을 최소화하는 것도 포함된다.    \n",
        "regret은 정의된다. k개 Arm 중 최적의 Arm을 아는데 소요한 비용으로. 어떻게 최고의 Arm을 찾을까?    \n",
        "모든 Arm들을 조사해야 할까? ( Exploration, GO 스톱)\n",
        "지금까지 최대 누적 보상을 주는 Arm을 선택해야 할까? ( Exploitation, 고 STOP)\n",
        "\n",
        "- 하나의 레버만 당기면 다른 레버를 모른다.\n",
        "- 모든 레버를 도전해서 좋은 레버에서 얻을 수익을 못얻는다.\n",
        "\n",
        "Exploration과 Exploitation의 TradeOff가 딜레마이다. ( 핵심 )   \n",
        "다양한 Exploration 전략이 있는데 다음과 같다\n",
        "- Epsilon-Greedy Policy ( 그리디 한데 입실론 확률로 반항 )\n",
        "- Softmax Exploration ( Softmax 함수를 써서 Exploration )\n",
        "- Upper Confidence Bound Problem ( 예측 범위, 예측 범위 신뢰도 )\n",
        "- Thomson Sampling Technique ( 연속적 확률 분포, 샘플링)"
      ]
    },
    {
      "cell_type": "code",
      "metadata": {
        "id": "6ikl4qjDVp8s",
        "colab_type": "code",
        "colab": {
          "base_uri": "https://localhost:8080/",
          "height": 153
        },
        "outputId": "833e0428-caff-4e8a-98d6-42a2ddf7f7bb"
      },
      "source": [
        "!pip install gym_bandits gym"
      ],
      "execution_count": 5,
      "outputs": [
        {
          "output_type": "stream",
          "text": [
            "Requirement already satisfied: gym_bandits in /usr/local/lib/python3.6/dist-packages (0.0.1)\n",
            "Requirement already satisfied: gym in /usr/local/lib/python3.6/dist-packages (0.17.1)\n",
            "Requirement already satisfied: numpy in /usr/local/lib/python3.6/dist-packages (from gym_bandits) (1.18.2)\n",
            "Requirement already satisfied: scipy in /usr/local/lib/python3.6/dist-packages (from gym) (1.4.1)\n",
            "Requirement already satisfied: six in /usr/local/lib/python3.6/dist-packages (from gym) (1.12.0)\n",
            "Requirement already satisfied: cloudpickle<1.4.0,>=1.2.0 in /usr/local/lib/python3.6/dist-packages (from gym) (1.3.0)\n",
            "Requirement already satisfied: pyglet<=1.5.0,>=1.4.0 in /usr/local/lib/python3.6/dist-packages (from gym) (1.5.0)\n",
            "Requirement already satisfied: future in /usr/local/lib/python3.6/dist-packages (from pyglet<=1.5.0,>=1.4.0->gym) (0.16.0)\n"
          ],
          "name": "stdout"
        }
      ]
    },
    {
      "cell_type": "code",
      "metadata": {
        "id": "lQooPuUMGAhJ",
        "colab_type": "code",
        "colab": {
          "base_uri": "https://localhost:8080/",
          "height": 426
        },
        "outputId": "84c5b8b2-84f0-4d0c-e84a-eafc8534f758"
      },
      "source": [
        "import gym_bandits\n",
        "import gym\n",
        "import numpy as np\n",
        "import math \n",
        "import random\n",
        "env = gym.make(\"BanditTenArmedGaussian-v0\", nr_arms=10)"
      ],
      "execution_count": 9,
      "outputs": [
        {
          "output_type": "error",
          "ename": "UnregisteredEnv",
          "evalue": "ignored",
          "traceback": [
            "\u001b[0;31m---------------------------------------------------------------------------\u001b[0m",
            "\u001b[0;31mKeyError\u001b[0m                                  Traceback (most recent call last)",
            "\u001b[0;32m/usr/local/lib/python3.6/dist-packages/gym/envs/registration.py\u001b[0m in \u001b[0;36mspec\u001b[0;34m(self, path)\u001b[0m\n\u001b[1;32m    117\u001b[0m         \u001b[0;32mtry\u001b[0m\u001b[0;34m:\u001b[0m\u001b[0;34m\u001b[0m\u001b[0;34m\u001b[0m\u001b[0m\n\u001b[0;32m--> 118\u001b[0;31m             \u001b[0;32mreturn\u001b[0m \u001b[0mself\u001b[0m\u001b[0;34m.\u001b[0m\u001b[0menv_specs\u001b[0m\u001b[0;34m[\u001b[0m\u001b[0mid\u001b[0m\u001b[0;34m]\u001b[0m\u001b[0;34m\u001b[0m\u001b[0;34m\u001b[0m\u001b[0m\n\u001b[0m\u001b[1;32m    119\u001b[0m         \u001b[0;32mexcept\u001b[0m \u001b[0mKeyError\u001b[0m\u001b[0;34m:\u001b[0m\u001b[0;34m\u001b[0m\u001b[0;34m\u001b[0m\u001b[0m\n",
            "\u001b[0;31mKeyError\u001b[0m: 'BanditTenArmedGaussian-v0'",
            "\nDuring handling of the above exception, another exception occurred:\n",
            "\u001b[0;31mUnregisteredEnv\u001b[0m                           Traceback (most recent call last)",
            "\u001b[0;32m<ipython-input-9-f689de046773>\u001b[0m in \u001b[0;36m<module>\u001b[0;34m()\u001b[0m\n\u001b[1;32m      4\u001b[0m \u001b[0;32mimport\u001b[0m \u001b[0mmath\u001b[0m\u001b[0;34m\u001b[0m\u001b[0;34m\u001b[0m\u001b[0m\n\u001b[1;32m      5\u001b[0m \u001b[0;32mimport\u001b[0m \u001b[0mrandom\u001b[0m\u001b[0;34m\u001b[0m\u001b[0;34m\u001b[0m\u001b[0m\n\u001b[0;32m----> 6\u001b[0;31m \u001b[0menv\u001b[0m \u001b[0;34m=\u001b[0m \u001b[0mgym\u001b[0m\u001b[0;34m.\u001b[0m\u001b[0mmake\u001b[0m\u001b[0;34m(\u001b[0m\u001b[0;34m\"BanditTenArmedGaussian-v0\"\u001b[0m\u001b[0;34m,\u001b[0m \u001b[0mnr_arms\u001b[0m\u001b[0;34m=\u001b[0m\u001b[0;36m10\u001b[0m\u001b[0;34m)\u001b[0m\u001b[0;34m\u001b[0m\u001b[0;34m\u001b[0m\u001b[0m\n\u001b[0m",
            "\u001b[0;32m/usr/local/lib/python3.6/dist-packages/gym/envs/registration.py\u001b[0m in \u001b[0;36mmake\u001b[0;34m(id, **kwargs)\u001b[0m\n\u001b[1;32m    140\u001b[0m \u001b[0;34m\u001b[0m\u001b[0m\n\u001b[1;32m    141\u001b[0m \u001b[0;32mdef\u001b[0m \u001b[0mmake\u001b[0m\u001b[0;34m(\u001b[0m\u001b[0mid\u001b[0m\u001b[0;34m,\u001b[0m \u001b[0;34m**\u001b[0m\u001b[0mkwargs\u001b[0m\u001b[0;34m)\u001b[0m\u001b[0;34m:\u001b[0m\u001b[0;34m\u001b[0m\u001b[0;34m\u001b[0m\u001b[0m\n\u001b[0;32m--> 142\u001b[0;31m     \u001b[0;32mreturn\u001b[0m \u001b[0mregistry\u001b[0m\u001b[0;34m.\u001b[0m\u001b[0mmake\u001b[0m\u001b[0;34m(\u001b[0m\u001b[0mid\u001b[0m\u001b[0;34m,\u001b[0m \u001b[0;34m**\u001b[0m\u001b[0mkwargs\u001b[0m\u001b[0;34m)\u001b[0m\u001b[0;34m\u001b[0m\u001b[0;34m\u001b[0m\u001b[0m\n\u001b[0m\u001b[1;32m    143\u001b[0m \u001b[0;34m\u001b[0m\u001b[0m\n\u001b[1;32m    144\u001b[0m \u001b[0;32mdef\u001b[0m \u001b[0mspec\u001b[0m\u001b[0;34m(\u001b[0m\u001b[0mid\u001b[0m\u001b[0;34m)\u001b[0m\u001b[0;34m:\u001b[0m\u001b[0;34m\u001b[0m\u001b[0;34m\u001b[0m\u001b[0m\n",
            "\u001b[0;32m/usr/local/lib/python3.6/dist-packages/gym/envs/registration.py\u001b[0m in \u001b[0;36mmake\u001b[0;34m(self, path, **kwargs)\u001b[0m\n\u001b[1;32m     84\u001b[0m         \u001b[0;32melse\u001b[0m\u001b[0;34m:\u001b[0m\u001b[0;34m\u001b[0m\u001b[0;34m\u001b[0m\u001b[0m\n\u001b[1;32m     85\u001b[0m             \u001b[0mlogger\u001b[0m\u001b[0;34m.\u001b[0m\u001b[0minfo\u001b[0m\u001b[0;34m(\u001b[0m\u001b[0;34m'Making new env: %s'\u001b[0m\u001b[0;34m,\u001b[0m \u001b[0mpath\u001b[0m\u001b[0;34m)\u001b[0m\u001b[0;34m\u001b[0m\u001b[0;34m\u001b[0m\u001b[0m\n\u001b[0;32m---> 86\u001b[0;31m         \u001b[0mspec\u001b[0m \u001b[0;34m=\u001b[0m \u001b[0mself\u001b[0m\u001b[0;34m.\u001b[0m\u001b[0mspec\u001b[0m\u001b[0;34m(\u001b[0m\u001b[0mpath\u001b[0m\u001b[0;34m)\u001b[0m\u001b[0;34m\u001b[0m\u001b[0;34m\u001b[0m\u001b[0m\n\u001b[0m\u001b[1;32m     87\u001b[0m         \u001b[0menv\u001b[0m \u001b[0;34m=\u001b[0m \u001b[0mspec\u001b[0m\u001b[0;34m.\u001b[0m\u001b[0mmake\u001b[0m\u001b[0;34m(\u001b[0m\u001b[0;34m**\u001b[0m\u001b[0mkwargs\u001b[0m\u001b[0;34m)\u001b[0m\u001b[0;34m\u001b[0m\u001b[0;34m\u001b[0m\u001b[0m\n\u001b[1;32m     88\u001b[0m         \u001b[0;31m# We used to have people override _reset/_step rather than\u001b[0m\u001b[0;34m\u001b[0m\u001b[0;34m\u001b[0m\u001b[0;34m\u001b[0m\u001b[0m\n",
            "\u001b[0;32m/usr/local/lib/python3.6/dist-packages/gym/envs/registration.py\u001b[0m in \u001b[0;36mspec\u001b[0;34m(self, path)\u001b[0m\n\u001b[1;32m    126\u001b[0m                 \u001b[0;32mraise\u001b[0m \u001b[0merror\u001b[0m\u001b[0;34m.\u001b[0m\u001b[0mDeprecatedEnv\u001b[0m\u001b[0;34m(\u001b[0m\u001b[0;34m'Env {} not found (valid versions include {})'\u001b[0m\u001b[0;34m.\u001b[0m\u001b[0mformat\u001b[0m\u001b[0;34m(\u001b[0m\u001b[0mid\u001b[0m\u001b[0;34m,\u001b[0m \u001b[0mmatching_envs\u001b[0m\u001b[0;34m)\u001b[0m\u001b[0;34m)\u001b[0m\u001b[0;34m\u001b[0m\u001b[0;34m\u001b[0m\u001b[0m\n\u001b[1;32m    127\u001b[0m             \u001b[0;32melse\u001b[0m\u001b[0;34m:\u001b[0m\u001b[0;34m\u001b[0m\u001b[0;34m\u001b[0m\u001b[0m\n\u001b[0;32m--> 128\u001b[0;31m                 \u001b[0;32mraise\u001b[0m \u001b[0merror\u001b[0m\u001b[0;34m.\u001b[0m\u001b[0mUnregisteredEnv\u001b[0m\u001b[0;34m(\u001b[0m\u001b[0;34m'No registered env with id: {}'\u001b[0m\u001b[0;34m.\u001b[0m\u001b[0mformat\u001b[0m\u001b[0;34m(\u001b[0m\u001b[0mid\u001b[0m\u001b[0;34m)\u001b[0m\u001b[0;34m)\u001b[0m\u001b[0;34m\u001b[0m\u001b[0;34m\u001b[0m\u001b[0m\n\u001b[0m\u001b[1;32m    129\u001b[0m \u001b[0;34m\u001b[0m\u001b[0m\n\u001b[1;32m    130\u001b[0m     \u001b[0;32mdef\u001b[0m \u001b[0mregister\u001b[0m\u001b[0;34m(\u001b[0m\u001b[0mself\u001b[0m\u001b[0;34m,\u001b[0m \u001b[0mid\u001b[0m\u001b[0;34m,\u001b[0m \u001b[0;34m**\u001b[0m\u001b[0mkwargs\u001b[0m\u001b[0;34m)\u001b[0m\u001b[0;34m:\u001b[0m\u001b[0;34m\u001b[0m\u001b[0;34m\u001b[0m\u001b[0m\n",
            "\u001b[0;31mUnregisteredEnv\u001b[0m: No registered env with id: BanditTenArmedGaussian-v0"
          ]
        }
      ]
    },
    {
      "cell_type": "code",
      "metadata": {
        "id": "Qhvgn3ndVdQE",
        "colab_type": "code",
        "colab": {}
      },
      "source": [
        ""
      ],
      "execution_count": 0,
      "outputs": []
    }
  ]
}