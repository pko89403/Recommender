{
  "nbformat": 4,
  "nbformat_minor": 0,
  "metadata": {
    "colab": {
      "name": "implicit.ipynb",
      "provenance": [],
      "toc_visible": true,
      "mount_file_id": "1u-rl7HMEWK4QpQHA24J-9A5pImhrrAsC",
      "authorship_tag": "ABX9TyPd2o1duJgNpWJAP6/JJHfk",
      "include_colab_link": true
    },
    "kernelspec": {
      "name": "python3",
      "display_name": "Python 3"
    },
    "accelerator": "GPU"
  },
  "cells": [
    {
      "cell_type": "markdown",
      "metadata": {
        "id": "view-in-github",
        "colab_type": "text"
      },
      "source": [
        "<a href=\"https://colab.research.google.com/github/pko89403/Recsys_test/blob/master/implicit.ipynb\" target=\"_parent\"><img src=\"https://colab.research.google.com/assets/colab-badge.svg\" alt=\"Open In Colab\"/></a>"
      ]
    },
    {
      "cell_type": "code",
      "metadata": {
        "id": "0GGkiN3vfr1Y",
        "colab_type": "code",
        "colab": {
          "base_uri": "https://localhost:8080/",
          "height": 34
        },
        "outputId": "bdf6171a-493d-40cc-f326-56b4465e06b0"
      },
      "source": [
        "!pwd"
      ],
      "execution_count": 1,
      "outputs": [
        {
          "output_type": "stream",
          "text": [
            "/content\n"
          ],
          "name": "stdout"
        }
      ]
    },
    {
      "cell_type": "code",
      "metadata": {
        "id": "M4Su8B0Pf-MN",
        "colab_type": "code",
        "colab": {
          "base_uri": "https://localhost:8080/",
          "height": 306
        },
        "outputId": "c6d8342e-f27e-4489-8c62-418cbb2d1b6f"
      },
      "source": [
        "!nvidia-smi"
      ],
      "execution_count": 2,
      "outputs": [
        {
          "output_type": "stream",
          "text": [
            "Sat Feb 15 01:40:01 2020       \n",
            "+-----------------------------------------------------------------------------+\n",
            "| NVIDIA-SMI 440.48.02    Driver Version: 418.67       CUDA Version: 10.1     |\n",
            "|-------------------------------+----------------------+----------------------+\n",
            "| GPU  Name        Persistence-M| Bus-Id        Disp.A | Volatile Uncorr. ECC |\n",
            "| Fan  Temp  Perf  Pwr:Usage/Cap|         Memory-Usage | GPU-Util  Compute M. |\n",
            "|===============================+======================+======================|\n",
            "|   0  Tesla T4            Off  | 00000000:00:04.0 Off |                    0 |\n",
            "| N/A   62C    P8    11W /  70W |      0MiB / 15079MiB |      0%      Default |\n",
            "+-------------------------------+----------------------+----------------------+\n",
            "                                                                               \n",
            "+-----------------------------------------------------------------------------+\n",
            "| Processes:                                                       GPU Memory |\n",
            "|  GPU       PID   Type   Process name                             Usage      |\n",
            "|=============================================================================|\n",
            "|  No running processes found                                                 |\n",
            "+-----------------------------------------------------------------------------+\n"
          ],
          "name": "stdout"
        }
      ]
    },
    {
      "cell_type": "code",
      "metadata": {
        "id": "BQdzmXrfgJrF",
        "colab_type": "code",
        "colab": {
          "base_uri": "https://localhost:8080/",
          "height": 34
        },
        "outputId": "b773579f-bbbe-413c-f408-c86f9d69e74e"
      },
      "source": [
        "!nvidia-smi --query | fgrep 'Product Name'"
      ],
      "execution_count": 3,
      "outputs": [
        {
          "output_type": "stream",
          "text": [
            "    Product Name                    : Tesla T4\n"
          ],
          "name": "stdout"
        }
      ]
    },
    {
      "cell_type": "code",
      "metadata": {
        "id": "WG5CuDVagTS_",
        "colab_type": "code",
        "colab": {}
      },
      "source": [
        "!mkdir data"
      ],
      "execution_count": 0,
      "outputs": []
    },
    {
      "cell_type": "code",
      "metadata": {
        "id": "dqJyzvZvgeCa",
        "colab_type": "code",
        "colab": {}
      },
      "source": [
        "!wget -q http://www.grouplens.org/system/files/ml-1m.zip ./data"
      ],
      "execution_count": 0,
      "outputs": []
    },
    {
      "cell_type": "code",
      "metadata": {
        "id": "W0-vJs_pgoIz",
        "colab_type": "code",
        "colab": {
          "base_uri": "https://localhost:8080/",
          "height": 119
        },
        "outputId": "312bf840-515a-449f-84ba-be6748163761"
      },
      "source": [
        "!unzip -o ml-1m -d data"
      ],
      "execution_count": 6,
      "outputs": [
        {
          "output_type": "stream",
          "text": [
            "Archive:  ml-1m.zip\n",
            "   creating: data/ml-1m/\n",
            "  inflating: data/ml-1m/movies.dat   \n",
            "  inflating: data/ml-1m/ratings.dat  \n",
            "  inflating: data/ml-1m/README       \n",
            "  inflating: data/ml-1m/users.dat    \n"
          ],
          "name": "stdout"
        }
      ]
    },
    {
      "cell_type": "code",
      "metadata": {
        "id": "2OymygIQg1rG",
        "colab_type": "code",
        "colab": {}
      },
      "source": [
        "cp -rf ./data ./drive/My\\ Drive/"
      ],
      "execution_count": 0,
      "outputs": []
    },
    {
      "cell_type": "code",
      "metadata": {
        "id": "u8ZaUxfWhiv2",
        "colab_type": "code",
        "colab": {
          "base_uri": "https://localhost:8080/",
          "height": 258
        },
        "outputId": "c311f006-6e71-44e3-b561-781f50d417c9"
      },
      "source": [
        "!pip install implicit==v0.4.0"
      ],
      "execution_count": 13,
      "outputs": [
        {
          "output_type": "stream",
          "text": [
            "Collecting implicit==v0.4.0\n",
            "\u001b[?25l  Downloading https://files.pythonhosted.org/packages/c4/4d/47e8d8c9966a8aa5aa66de5bdd1eb608dee9b7b9305561f179c6249510e3/implicit-0.4.0.tar.gz (1.1MB)\n",
            "\r\u001b[K     |▎                               | 10kB 26.6MB/s eta 0:00:01\r\u001b[K     |▋                               | 20kB 33.4MB/s eta 0:00:01\r\u001b[K     |▉                               | 30kB 39.4MB/s eta 0:00:01\r\u001b[K     |█▏                              | 40kB 26.4MB/s eta 0:00:01\r\u001b[K     |█▌                              | 51kB 23.8MB/s eta 0:00:01\r\u001b[K     |█▊                              | 61kB 26.5MB/s eta 0:00:01\r\u001b[K     |██                              | 71kB 20.5MB/s eta 0:00:01\r\u001b[K     |██▍                             | 81kB 20.1MB/s eta 0:00:01\r\u001b[K     |██▋                             | 92kB 20.0MB/s eta 0:00:01\r\u001b[K     |███                             | 102kB 21.5MB/s eta 0:00:01\r\u001b[K     |███▎                            | 112kB 21.5MB/s eta 0:00:01\r\u001b[K     |███▌                            | 122kB 21.5MB/s eta 0:00:01\r\u001b[K     |███▉                            | 133kB 21.5MB/s eta 0:00:01\r\u001b[K     |████▏                           | 143kB 21.5MB/s eta 0:00:01\r\u001b[K     |████▍                           | 153kB 21.5MB/s eta 0:00:01\r\u001b[K     |████▊                           | 163kB 21.5MB/s eta 0:00:01\r\u001b[K     |█████                           | 174kB 21.5MB/s eta 0:00:01\r\u001b[K     |█████▎                          | 184kB 21.5MB/s eta 0:00:01\r\u001b[K     |█████▋                          | 194kB 21.5MB/s eta 0:00:01\r\u001b[K     |██████                          | 204kB 21.5MB/s eta 0:00:01\r\u001b[K     |██████▏                         | 215kB 21.5MB/s eta 0:00:01\r\u001b[K     |██████▌                         | 225kB 21.5MB/s eta 0:00:01\r\u001b[K     |██████▉                         | 235kB 21.5MB/s eta 0:00:01\r\u001b[K     |███████                         | 245kB 21.5MB/s eta 0:00:01\r\u001b[K     |███████▍                        | 256kB 21.5MB/s eta 0:00:01\r\u001b[K     |███████▊                        | 266kB 21.5MB/s eta 0:00:01\r\u001b[K     |████████                        | 276kB 21.5MB/s eta 0:00:01\r\u001b[K     |████████▎                       | 286kB 21.5MB/s eta 0:00:01\r\u001b[K     |████████▋                       | 296kB 21.5MB/s eta 0:00:01\r\u001b[K     |████████▉                       | 307kB 21.5MB/s eta 0:00:01\r\u001b[K     |█████████▏                      | 317kB 21.5MB/s eta 0:00:01\r\u001b[K     |█████████▌                      | 327kB 21.5MB/s eta 0:00:01\r\u001b[K     |█████████▊                      | 337kB 21.5MB/s eta 0:00:01\r\u001b[K     |██████████                      | 348kB 21.5MB/s eta 0:00:01\r\u001b[K     |██████████▍                     | 358kB 21.5MB/s eta 0:00:01\r\u001b[K     |██████████▋                     | 368kB 21.5MB/s eta 0:00:01\r\u001b[K     |███████████                     | 378kB 21.5MB/s eta 0:00:01\r\u001b[K     |███████████▎                    | 389kB 21.5MB/s eta 0:00:01\r\u001b[K     |███████████▌                    | 399kB 21.5MB/s eta 0:00:01\r\u001b[K     |███████████▉                    | 409kB 21.5MB/s eta 0:00:01\r\u001b[K     |████████████▏                   | 419kB 21.5MB/s eta 0:00:01\r\u001b[K     |████████████▍                   | 430kB 21.5MB/s eta 0:00:01\r\u001b[K     |████████████▊                   | 440kB 21.5MB/s eta 0:00:01\r\u001b[K     |█████████████                   | 450kB 21.5MB/s eta 0:00:01\r\u001b[K     |█████████████▎                  | 460kB 21.5MB/s eta 0:00:01\r\u001b[K     |█████████████▋                  | 471kB 21.5MB/s eta 0:00:01\r\u001b[K     |█████████████▉                  | 481kB 21.5MB/s eta 0:00:01\r\u001b[K     |██████████████▏                 | 491kB 21.5MB/s eta 0:00:01\r\u001b[K     |██████████████▌                 | 501kB 21.5MB/s eta 0:00:01\r\u001b[K     |██████████████▊                 | 512kB 21.5MB/s eta 0:00:01\r\u001b[K     |███████████████                 | 522kB 21.5MB/s eta 0:00:01\r\u001b[K     |███████████████▍                | 532kB 21.5MB/s eta 0:00:01\r\u001b[K     |███████████████▋                | 542kB 21.5MB/s eta 0:00:01\r\u001b[K     |████████████████                | 552kB 21.5MB/s eta 0:00:01\r\u001b[K     |████████████████▎               | 563kB 21.5MB/s eta 0:00:01\r\u001b[K     |████████████████▌               | 573kB 21.5MB/s eta 0:00:01\r\u001b[K     |████████████████▉               | 583kB 21.5MB/s eta 0:00:01\r\u001b[K     |█████████████████▏              | 593kB 21.5MB/s eta 0:00:01\r\u001b[K     |█████████████████▍              | 604kB 21.5MB/s eta 0:00:01\r\u001b[K     |█████████████████▊              | 614kB 21.5MB/s eta 0:00:01\r\u001b[K     |██████████████████              | 624kB 21.5MB/s eta 0:00:01\r\u001b[K     |██████████████████▎             | 634kB 21.5MB/s eta 0:00:01\r\u001b[K     |██████████████████▋             | 645kB 21.5MB/s eta 0:00:01\r\u001b[K     |███████████████████             | 655kB 21.5MB/s eta 0:00:01\r\u001b[K     |███████████████████▏            | 665kB 21.5MB/s eta 0:00:01\r\u001b[K     |███████████████████▌            | 675kB 21.5MB/s eta 0:00:01\r\u001b[K     |███████████████████▉            | 686kB 21.5MB/s eta 0:00:01\r\u001b[K     |████████████████████            | 696kB 21.5MB/s eta 0:00:01\r\u001b[K     |████████████████████▍           | 706kB 21.5MB/s eta 0:00:01\r\u001b[K     |████████████████████▊           | 716kB 21.5MB/s eta 0:00:01\r\u001b[K     |█████████████████████           | 727kB 21.5MB/s eta 0:00:01\r\u001b[K     |█████████████████████▎          | 737kB 21.5MB/s eta 0:00:01\r\u001b[K     |█████████████████████▋          | 747kB 21.5MB/s eta 0:00:01\r\u001b[K     |█████████████████████▉          | 757kB 21.5MB/s eta 0:00:01\r\u001b[K     |██████████████████████▏         | 768kB 21.5MB/s eta 0:00:01\r\u001b[K     |██████████████████████▌         | 778kB 21.5MB/s eta 0:00:01\r\u001b[K     |██████████████████████▊         | 788kB 21.5MB/s eta 0:00:01\r\u001b[K     |███████████████████████         | 798kB 21.5MB/s eta 0:00:01\r\u001b[K     |███████████████████████▍        | 808kB 21.5MB/s eta 0:00:01\r\u001b[K     |███████████████████████▋        | 819kB 21.5MB/s eta 0:00:01\r\u001b[K     |████████████████████████        | 829kB 21.5MB/s eta 0:00:01\r\u001b[K     |████████████████████████▎       | 839kB 21.5MB/s eta 0:00:01\r\u001b[K     |████████████████████████▌       | 849kB 21.5MB/s eta 0:00:01\r\u001b[K     |████████████████████████▉       | 860kB 21.5MB/s eta 0:00:01\r\u001b[K     |█████████████████████████▏      | 870kB 21.5MB/s eta 0:00:01\r\u001b[K     |█████████████████████████▍      | 880kB 21.5MB/s eta 0:00:01\r\u001b[K     |█████████████████████████▊      | 890kB 21.5MB/s eta 0:00:01\r\u001b[K     |██████████████████████████      | 901kB 21.5MB/s eta 0:00:01\r\u001b[K     |██████████████████████████▎     | 911kB 21.5MB/s eta 0:00:01\r\u001b[K     |██████████████████████████▋     | 921kB 21.5MB/s eta 0:00:01\r\u001b[K     |██████████████████████████▉     | 931kB 21.5MB/s eta 0:00:01\r\u001b[K     |███████████████████████████▏    | 942kB 21.5MB/s eta 0:00:01\r\u001b[K     |███████████████████████████▌    | 952kB 21.5MB/s eta 0:00:01\r\u001b[K     |███████████████████████████▊    | 962kB 21.5MB/s eta 0:00:01\r\u001b[K     |████████████████████████████    | 972kB 21.5MB/s eta 0:00:01\r\u001b[K     |████████████████████████████▍   | 983kB 21.5MB/s eta 0:00:01\r\u001b[K     |████████████████████████████▋   | 993kB 21.5MB/s eta 0:00:01\r\u001b[K     |█████████████████████████████   | 1.0MB 21.5MB/s eta 0:00:01\r\u001b[K     |█████████████████████████████▎  | 1.0MB 21.5MB/s eta 0:00:01\r\u001b[K     |█████████████████████████████▌  | 1.0MB 21.5MB/s eta 0:00:01\r\u001b[K     |█████████████████████████████▉  | 1.0MB 21.5MB/s eta 0:00:01\r\u001b[K     |██████████████████████████████▏ | 1.0MB 21.5MB/s eta 0:00:01\r\u001b[K     |██████████████████████████████▍ | 1.1MB 21.5MB/s eta 0:00:01\r\u001b[K     |██████████████████████████████▊ | 1.1MB 21.5MB/s eta 0:00:01\r\u001b[K     |███████████████████████████████ | 1.1MB 21.5MB/s eta 0:00:01\r\u001b[K     |███████████████████████████████▎| 1.1MB 21.5MB/s eta 0:00:01\r\u001b[K     |███████████████████████████████▋| 1.1MB 21.5MB/s eta 0:00:01\r\u001b[K     |████████████████████████████████| 1.1MB 21.5MB/s eta 0:00:01\r\u001b[K     |████████████████████████████████| 1.1MB 21.5MB/s \n",
            "\u001b[?25hRequirement already satisfied: numpy in /usr/local/lib/python3.6/dist-packages (from implicit==v0.4.0) (1.17.5)\n",
            "Requirement already satisfied: scipy>=0.16 in /usr/local/lib/python3.6/dist-packages (from implicit==v0.4.0) (1.4.1)\n",
            "Requirement already satisfied: tqdm>=4.27 in /usr/local/lib/python3.6/dist-packages (from implicit==v0.4.0) (4.28.1)\n",
            "Building wheels for collected packages: implicit\n",
            "  Building wheel for implicit (setup.py) ... \u001b[?25l\u001b[?25hdone\n",
            "  Created wheel for implicit: filename=implicit-0.4.0-cp36-cp36m-linux_x86_64.whl size=3440513 sha256=bee6a8d8772b3d43e83db70e52c8276016dcad5f1ea77f97e85ebe67e11d2df1\n",
            "  Stored in directory: /root/.cache/pip/wheels/fd/d1/66/84e83191d9f626c521271023e4ef83e634e3b8c154f2c4b2da\n",
            "Successfully built implicit\n",
            "Installing collected packages: implicit\n",
            "Successfully installed implicit-0.4.0\n"
          ],
          "name": "stdout"
        }
      ]
    },
    {
      "cell_type": "code",
      "metadata": {
        "id": "UVDmvD1Shn0I",
        "colab_type": "code",
        "colab": {
          "base_uri": "https://localhost:8080/",
          "height": 34
        },
        "outputId": "1a2f1970-32de-497c-b6c9-14e7af215537"
      },
      "source": [
        "!pip freeze | grep implicit"
      ],
      "execution_count": 14,
      "outputs": [
        {
          "output_type": "stream",
          "text": [
            "implicit==0.4.0\n"
          ],
          "name": "stdout"
        }
      ]
    },
    {
      "cell_type": "code",
      "metadata": {
        "id": "0N5_9Ejzi0GT",
        "colab_type": "code",
        "colab": {}
      },
      "source": [
        "import implicit"
      ],
      "execution_count": 0,
      "outputs": []
    },
    {
      "cell_type": "code",
      "metadata": {
        "id": "ZtgYAQFRi2lf",
        "colab_type": "code",
        "colab": {
          "base_uri": "https://localhost:8080/",
          "height": 85
        },
        "outputId": "1b801867-a8c4-4ece-8669-91cae9a04b7c"
      },
      "source": [
        "!du -sh ./data/ml-1m/*"
      ],
      "execution_count": 21,
      "outputs": [
        {
          "output_type": "stream",
          "text": [
            "168K\t./data/ml-1m/movies.dat\n",
            "24M\t./data/ml-1m/ratings.dat\n",
            "8.0K\t./data/ml-1m/README\n",
            "132K\t./data/ml-1m/users.dat\n"
          ],
          "name": "stdout"
        }
      ]
    },
    {
      "cell_type": "code",
      "metadata": {
        "id": "9PWS8qtHjGc8",
        "colab_type": "code",
        "colab": {
          "base_uri": "https://localhost:8080/",
          "height": 102
        },
        "outputId": "e4cdf5ab-cf36-4c1c-a072-c74f6a74cef7"
      },
      "source": [
        "!head -n 5 ./data/ml-1m/ratings.dat"
      ],
      "execution_count": 22,
      "outputs": [
        {
          "output_type": "stream",
          "text": [
            "1::1193::5::978300760\n",
            "1::661::3::978302109\n",
            "1::914::3::978301968\n",
            "1::3408::4::978300275\n",
            "1::2355::5::978824291\n"
          ],
          "name": "stdout"
        }
      ]
    },
    {
      "cell_type": "code",
      "metadata": {
        "id": "Z3W2ofGejdF1",
        "colab_type": "code",
        "colab": {}
      },
      "source": [
        ""
      ],
      "execution_count": 0,
      "outputs": []
    }
  ]
}