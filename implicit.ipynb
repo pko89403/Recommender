{
  "nbformat": 4,
  "nbformat_minor": 0,
  "metadata": {
    "colab": {
      "name": "implicit.ipynb",
      "provenance": [],
      "toc_visible": true,
      "mount_file_id": "1u-rl7HMEWK4QpQHA24J-9A5pImhrrAsC",
      "authorship_tag": "ABX9TyNoyU6C5TJRLA51ddzZqlWR",
      "include_colab_link": true
    },
    "kernelspec": {
      "name": "python3",
      "display_name": "Python 3"
    },
    "accelerator": "GPU"
  },
  "cells": [
    {
      "cell_type": "markdown",
      "metadata": {
        "id": "view-in-github",
        "colab_type": "text"
      },
      "source": [
        "<a href=\"https://colab.research.google.com/github/pko89403/Recsys_test/blob/master/implicit.ipynb\" target=\"_parent\"><img src=\"https://colab.research.google.com/assets/colab-badge.svg\" alt=\"Open In Colab\"/></a>"
      ]
    },
    {
      "cell_type": "code",
      "metadata": {
        "id": "0GGkiN3vfr1Y",
        "colab_type": "code",
        "colab": {
          "base_uri": "https://localhost:8080/",
          "height": 34
        },
        "outputId": "bdf6171a-493d-40cc-f326-56b4465e06b0"
      },
      "source": [
        "!pwd"
      ],
      "execution_count": 1,
      "outputs": [
        {
          "output_type": "stream",
          "text": [
            "/content\n"
          ],
          "name": "stdout"
        }
      ]
    },
    {
      "cell_type": "code",
      "metadata": {
        "id": "M4Su8B0Pf-MN",
        "colab_type": "code",
        "colab": {
          "base_uri": "https://localhost:8080/",
          "height": 306
        },
        "outputId": "c6d8342e-f27e-4489-8c62-418cbb2d1b6f"
      },
      "source": [
        "!nvidia-smi"
      ],
      "execution_count": 2,
      "outputs": [
        {
          "output_type": "stream",
          "text": [
            "Sat Feb 15 01:40:01 2020       \n",
            "+-----------------------------------------------------------------------------+\n",
            "| NVIDIA-SMI 440.48.02    Driver Version: 418.67       CUDA Version: 10.1     |\n",
            "|-------------------------------+----------------------+----------------------+\n",
            "| GPU  Name        Persistence-M| Bus-Id        Disp.A | Volatile Uncorr. ECC |\n",
            "| Fan  Temp  Perf  Pwr:Usage/Cap|         Memory-Usage | GPU-Util  Compute M. |\n",
            "|===============================+======================+======================|\n",
            "|   0  Tesla T4            Off  | 00000000:00:04.0 Off |                    0 |\n",
            "| N/A   62C    P8    11W /  70W |      0MiB / 15079MiB |      0%      Default |\n",
            "+-------------------------------+----------------------+----------------------+\n",
            "                                                                               \n",
            "+-----------------------------------------------------------------------------+\n",
            "| Processes:                                                       GPU Memory |\n",
            "|  GPU       PID   Type   Process name                             Usage      |\n",
            "|=============================================================================|\n",
            "|  No running processes found                                                 |\n",
            "+-----------------------------------------------------------------------------+\n"
          ],
          "name": "stdout"
        }
      ]
    },
    {
      "cell_type": "code",
      "metadata": {
        "id": "BQdzmXrfgJrF",
        "colab_type": "code",
        "colab": {
          "base_uri": "https://localhost:8080/",
          "height": 34
        },
        "outputId": "b773579f-bbbe-413c-f408-c86f9d69e74e"
      },
      "source": [
        "!nvidia-smi --query | fgrep 'Product Name'"
      ],
      "execution_count": 3,
      "outputs": [
        {
          "output_type": "stream",
          "text": [
            "    Product Name                    : Tesla T4\n"
          ],
          "name": "stdout"
        }
      ]
    },
    {
      "cell_type": "code",
      "metadata": {
        "id": "WG5CuDVagTS_",
        "colab_type": "code",
        "colab": {}
      },
      "source": [
        "!mkdir data"
      ],
      "execution_count": 0,
      "outputs": []
    },
    {
      "cell_type": "code",
      "metadata": {
        "id": "dqJyzvZvgeCa",
        "colab_type": "code",
        "colab": {}
      },
      "source": [
        "!wget -q http://www.grouplens.org/system/files/ml-1m.zip ./data"
      ],
      "execution_count": 0,
      "outputs": []
    },
    {
      "cell_type": "code",
      "metadata": {
        "id": "W0-vJs_pgoIz",
        "colab_type": "code",
        "colab": {
          "base_uri": "https://localhost:8080/",
          "height": 119
        },
        "outputId": "312bf840-515a-449f-84ba-be6748163761"
      },
      "source": [
        "!unzip -o ml-1m -d data"
      ],
      "execution_count": 6,
      "outputs": [
        {
          "output_type": "stream",
          "text": [
            "Archive:  ml-1m.zip\n",
            "   creating: data/ml-1m/\n",
            "  inflating: data/ml-1m/movies.dat   \n",
            "  inflating: data/ml-1m/ratings.dat  \n",
            "  inflating: data/ml-1m/README       \n",
            "  inflating: data/ml-1m/users.dat    \n"
          ],
          "name": "stdout"
        }
      ]
    },
    {
      "cell_type": "code",
      "metadata": {
        "id": "2OymygIQg1rG",
        "colab_type": "code",
        "colab": {}
      },
      "source": [
        "cp -rf ./data ./drive/My\\ Drive/"
      ],
      "execution_count": 0,
      "outputs": []
    },
    {
      "cell_type": "code",
      "metadata": {
        "id": "u8ZaUxfWhiv2",
        "colab_type": "code",
        "colab": {
          "base_uri": "https://localhost:8080/",
          "height": 258
        },
        "outputId": "3b5f5552-a937-4f69-b37b-06bc4942ce3b"
      },
      "source": [
        "!pip install implicit==v0.4.0"
      ],
      "execution_count": 7,
      "outputs": [
        {
          "output_type": "stream",
          "text": [
            "Collecting implicit==v0.4.0\n",
            "\u001b[?25l  Downloading https://files.pythonhosted.org/packages/c4/4d/47e8d8c9966a8aa5aa66de5bdd1eb608dee9b7b9305561f179c6249510e3/implicit-0.4.0.tar.gz (1.1MB)\n",
            "\r\u001b[K     |▎                               | 10kB 20.4MB/s eta 0:00:01\r\u001b[K     |▋                               | 20kB 26.0MB/s eta 0:00:01\r\u001b[K     |▉                               | 30kB 31.1MB/s eta 0:00:01\r\u001b[K     |█▏                              | 40kB 33.2MB/s eta 0:00:01\r\u001b[K     |█▌                              | 51kB 35.7MB/s eta 0:00:01\r\u001b[K     |█▊                              | 61kB 38.4MB/s eta 0:00:01\r\u001b[K     |██                              | 71kB 39.0MB/s eta 0:00:01\r\u001b[K     |██▍                             | 81kB 38.2MB/s eta 0:00:01\r\u001b[K     |██▋                             | 92kB 37.7MB/s eta 0:00:01\r\u001b[K     |███                             | 102kB 32.0MB/s eta 0:00:01\r\u001b[K     |███▎                            | 112kB 32.0MB/s eta 0:00:01\r\u001b[K     |███▌                            | 122kB 32.0MB/s eta 0:00:01\r\u001b[K     |███▉                            | 133kB 32.0MB/s eta 0:00:01\r\u001b[K     |████▏                           | 143kB 32.0MB/s eta 0:00:01\r\u001b[K     |████▍                           | 153kB 32.0MB/s eta 0:00:01\r\u001b[K     |████▊                           | 163kB 32.0MB/s eta 0:00:01\r\u001b[K     |█████                           | 174kB 32.0MB/s eta 0:00:01\r\u001b[K     |█████▎                          | 184kB 32.0MB/s eta 0:00:01\r\u001b[K     |█████▋                          | 194kB 32.0MB/s eta 0:00:01\r\u001b[K     |██████                          | 204kB 32.0MB/s eta 0:00:01\r\u001b[K     |██████▏                         | 215kB 32.0MB/s eta 0:00:01\r\u001b[K     |██████▌                         | 225kB 32.0MB/s eta 0:00:01\r\u001b[K     |██████▉                         | 235kB 32.0MB/s eta 0:00:01\r\u001b[K     |███████                         | 245kB 32.0MB/s eta 0:00:01\r\u001b[K     |███████▍                        | 256kB 32.0MB/s eta 0:00:01\r\u001b[K     |███████▊                        | 266kB 32.0MB/s eta 0:00:01\r\u001b[K     |████████                        | 276kB 32.0MB/s eta 0:00:01\r\u001b[K     |████████▎                       | 286kB 32.0MB/s eta 0:00:01\r\u001b[K     |████████▋                       | 296kB 32.0MB/s eta 0:00:01\r\u001b[K     |████████▉                       | 307kB 32.0MB/s eta 0:00:01\r\u001b[K     |█████████▏                      | 317kB 32.0MB/s eta 0:00:01\r\u001b[K     |█████████▌                      | 327kB 32.0MB/s eta 0:00:01\r\u001b[K     |█████████▊                      | 337kB 32.0MB/s eta 0:00:01\r\u001b[K     |██████████                      | 348kB 32.0MB/s eta 0:00:01\r\u001b[K     |██████████▍                     | 358kB 32.0MB/s eta 0:00:01\r\u001b[K     |██████████▋                     | 368kB 32.0MB/s eta 0:00:01\r\u001b[K     |███████████                     | 378kB 32.0MB/s eta 0:00:01\r\u001b[K     |███████████▎                    | 389kB 32.0MB/s eta 0:00:01\r\u001b[K     |███████████▌                    | 399kB 32.0MB/s eta 0:00:01\r\u001b[K     |███████████▉                    | 409kB 32.0MB/s eta 0:00:01\r\u001b[K     |████████████▏                   | 419kB 32.0MB/s eta 0:00:01\r\u001b[K     |████████████▍                   | 430kB 32.0MB/s eta 0:00:01\r\u001b[K     |████████████▊                   | 440kB 32.0MB/s eta 0:00:01\r\u001b[K     |█████████████                   | 450kB 32.0MB/s eta 0:00:01\r\u001b[K     |█████████████▎                  | 460kB 32.0MB/s eta 0:00:01\r\u001b[K     |█████████████▋                  | 471kB 32.0MB/s eta 0:00:01\r\u001b[K     |█████████████▉                  | 481kB 32.0MB/s eta 0:00:01\r\u001b[K     |██████████████▏                 | 491kB 32.0MB/s eta 0:00:01\r\u001b[K     |██████████████▌                 | 501kB 32.0MB/s eta 0:00:01\r\u001b[K     |██████████████▊                 | 512kB 32.0MB/s eta 0:00:01\r\u001b[K     |███████████████                 | 522kB 32.0MB/s eta 0:00:01\r\u001b[K     |███████████████▍                | 532kB 32.0MB/s eta 0:00:01\r\u001b[K     |███████████████▋                | 542kB 32.0MB/s eta 0:00:01\r\u001b[K     |████████████████                | 552kB 32.0MB/s eta 0:00:01\r\u001b[K     |████████████████▎               | 563kB 32.0MB/s eta 0:00:01\r\u001b[K     |████████████████▌               | 573kB 32.0MB/s eta 0:00:01\r\u001b[K     |████████████████▉               | 583kB 32.0MB/s eta 0:00:01\r\u001b[K     |█████████████████▏              | 593kB 32.0MB/s eta 0:00:01\r\u001b[K     |█████████████████▍              | 604kB 32.0MB/s eta 0:00:01\r\u001b[K     |█████████████████▊              | 614kB 32.0MB/s eta 0:00:01\r\u001b[K     |██████████████████              | 624kB 32.0MB/s eta 0:00:01\r\u001b[K     |██████████████████▎             | 634kB 32.0MB/s eta 0:00:01\r\u001b[K     |██████████████████▋             | 645kB 32.0MB/s eta 0:00:01\r\u001b[K     |███████████████████             | 655kB 32.0MB/s eta 0:00:01\r\u001b[K     |███████████████████▏            | 665kB 32.0MB/s eta 0:00:01\r\u001b[K     |███████████████████▌            | 675kB 32.0MB/s eta 0:00:01\r\u001b[K     |███████████████████▉            | 686kB 32.0MB/s eta 0:00:01\r\u001b[K     |████████████████████            | 696kB 32.0MB/s eta 0:00:01\r\u001b[K     |████████████████████▍           | 706kB 32.0MB/s eta 0:00:01\r\u001b[K     |████████████████████▊           | 716kB 32.0MB/s eta 0:00:01\r\u001b[K     |█████████████████████           | 727kB 32.0MB/s eta 0:00:01\r\u001b[K     |█████████████████████▎          | 737kB 32.0MB/s eta 0:00:01\r\u001b[K     |█████████████████████▋          | 747kB 32.0MB/s eta 0:00:01\r\u001b[K     |█████████████████████▉          | 757kB 32.0MB/s eta 0:00:01\r\u001b[K     |██████████████████████▏         | 768kB 32.0MB/s eta 0:00:01\r\u001b[K     |██████████████████████▌         | 778kB 32.0MB/s eta 0:00:01\r\u001b[K     |██████████████████████▊         | 788kB 32.0MB/s eta 0:00:01\r\u001b[K     |███████████████████████         | 798kB 32.0MB/s eta 0:00:01\r\u001b[K     |███████████████████████▍        | 808kB 32.0MB/s eta 0:00:01\r\u001b[K     |███████████████████████▋        | 819kB 32.0MB/s eta 0:00:01\r\u001b[K     |████████████████████████        | 829kB 32.0MB/s eta 0:00:01\r\u001b[K     |████████████████████████▎       | 839kB 32.0MB/s eta 0:00:01\r\u001b[K     |████████████████████████▌       | 849kB 32.0MB/s eta 0:00:01\r\u001b[K     |████████████████████████▉       | 860kB 32.0MB/s eta 0:00:01\r\u001b[K     |█████████████████████████▏      | 870kB 32.0MB/s eta 0:00:01\r\u001b[K     |█████████████████████████▍      | 880kB 32.0MB/s eta 0:00:01\r\u001b[K     |█████████████████████████▊      | 890kB 32.0MB/s eta 0:00:01\r\u001b[K     |██████████████████████████      | 901kB 32.0MB/s eta 0:00:01\r\u001b[K     |██████████████████████████▎     | 911kB 32.0MB/s eta 0:00:01\r\u001b[K     |██████████████████████████▋     | 921kB 32.0MB/s eta 0:00:01\r\u001b[K     |██████████████████████████▉     | 931kB 32.0MB/s eta 0:00:01\r\u001b[K     |███████████████████████████▏    | 942kB 32.0MB/s eta 0:00:01\r\u001b[K     |███████████████████████████▌    | 952kB 32.0MB/s eta 0:00:01\r\u001b[K     |███████████████████████████▊    | 962kB 32.0MB/s eta 0:00:01\r\u001b[K     |████████████████████████████    | 972kB 32.0MB/s eta 0:00:01\r\u001b[K     |████████████████████████████▍   | 983kB 32.0MB/s eta 0:00:01\r\u001b[K     |████████████████████████████▋   | 993kB 32.0MB/s eta 0:00:01\r\u001b[K     |█████████████████████████████   | 1.0MB 32.0MB/s eta 0:00:01\r\u001b[K     |█████████████████████████████▎  | 1.0MB 32.0MB/s eta 0:00:01\r\u001b[K     |█████████████████████████████▌  | 1.0MB 32.0MB/s eta 0:00:01\r\u001b[K     |█████████████████████████████▉  | 1.0MB 32.0MB/s eta 0:00:01\r\u001b[K     |██████████████████████████████▏ | 1.0MB 32.0MB/s eta 0:00:01\r\u001b[K     |██████████████████████████████▍ | 1.1MB 32.0MB/s eta 0:00:01\r\u001b[K     |██████████████████████████████▊ | 1.1MB 32.0MB/s eta 0:00:01\r\u001b[K     |███████████████████████████████ | 1.1MB 32.0MB/s eta 0:00:01\r\u001b[K     |███████████████████████████████▎| 1.1MB 32.0MB/s eta 0:00:01\r\u001b[K     |███████████████████████████████▋| 1.1MB 32.0MB/s eta 0:00:01\r\u001b[K     |████████████████████████████████| 1.1MB 32.0MB/s eta 0:00:01\r\u001b[K     |████████████████████████████████| 1.1MB 32.0MB/s \n",
            "\u001b[?25hRequirement already satisfied: numpy in /usr/local/lib/python3.6/dist-packages (from implicit==v0.4.0) (1.17.5)\n",
            "Requirement already satisfied: scipy>=0.16 in /usr/local/lib/python3.6/dist-packages (from implicit==v0.4.0) (1.4.1)\n",
            "Requirement already satisfied: tqdm>=4.27 in /usr/local/lib/python3.6/dist-packages (from implicit==v0.4.0) (4.28.1)\n",
            "Building wheels for collected packages: implicit\n",
            "  Building wheel for implicit (setup.py) ... \u001b[?25l\u001b[?25hdone\n",
            "  Created wheel for implicit: filename=implicit-0.4.0-cp36-cp36m-linux_x86_64.whl size=3440522 sha256=4e3b4dc980e80842322a505f570cbb756eafe8d76f000480dc974a9eb99062fe\n",
            "  Stored in directory: /root/.cache/pip/wheels/fd/d1/66/84e83191d9f626c521271023e4ef83e634e3b8c154f2c4b2da\n",
            "Successfully built implicit\n",
            "Installing collected packages: implicit\n",
            "Successfully installed implicit-0.4.0\n"
          ],
          "name": "stdout"
        }
      ]
    },
    {
      "cell_type": "code",
      "metadata": {
        "id": "UVDmvD1Shn0I",
        "colab_type": "code",
        "colab": {
          "base_uri": "https://localhost:8080/",
          "height": 34
        },
        "outputId": "1a2f1970-32de-497c-b6c9-14e7af215537"
      },
      "source": [
        "!pip freeze | grep implicit"
      ],
      "execution_count": 14,
      "outputs": [
        {
          "output_type": "stream",
          "text": [
            "implicit==0.4.0\n"
          ],
          "name": "stdout"
        }
      ]
    },
    {
      "cell_type": "code",
      "metadata": {
        "id": "0N5_9Ejzi0GT",
        "colab_type": "code",
        "colab": {}
      },
      "source": [
        "import implicit"
      ],
      "execution_count": 0,
      "outputs": []
    },
    {
      "cell_type": "code",
      "metadata": {
        "id": "ZtgYAQFRi2lf",
        "colab_type": "code",
        "colab": {
          "base_uri": "https://localhost:8080/",
          "height": 85
        },
        "outputId": "1b801867-a8c4-4ece-8669-91cae9a04b7c"
      },
      "source": [
        "!du -sh ./data/ml-1m/*"
      ],
      "execution_count": 21,
      "outputs": [
        {
          "output_type": "stream",
          "text": [
            "168K\t./data/ml-1m/movies.dat\n",
            "24M\t./data/ml-1m/ratings.dat\n",
            "8.0K\t./data/ml-1m/README\n",
            "132K\t./data/ml-1m/users.dat\n"
          ],
          "name": "stdout"
        }
      ]
    },
    {
      "cell_type": "code",
      "metadata": {
        "id": "9PWS8qtHjGc8",
        "colab_type": "code",
        "colab": {
          "base_uri": "https://localhost:8080/",
          "height": 34
        },
        "outputId": "6cf2e8fc-fe66-45e1-f98e-825cf01bf4f9"
      },
      "source": [
        "!head -n 5 ./data/ml-1m/ratings.dat"
      ],
      "execution_count": 5,
      "outputs": [
        {
          "output_type": "stream",
          "text": [
            "head: cannot open './data/ml-1m/ratings.dat' for reading: No such file or directory\n"
          ],
          "name": "stdout"
        }
      ]
    },
    {
      "cell_type": "code",
      "metadata": {
        "id": "Z3W2ofGejdF1",
        "colab_type": "code",
        "colab": {}
      },
      "source": [
        "import pandas as pd\n",
        "from scipy.sparse import csr_matrix # compressed sparse row\n",
        "from scipy.io import mmwrite\n",
        "import numpy as np"
      ],
      "execution_count": 0,
      "outputs": []
    },
    {
      "cell_type": "code",
      "metadata": {
        "id": "USSqspsE0cMJ",
        "colab_type": "code",
        "colab": {}
      },
      "source": [
        "ratings_path = \"/content/drive/My Drive/data/ml-1m/ratings.dat\"\n",
        "movies_path = \"/content/drive/My Drive/data/ml-1m/movies.dat\"\n",
        "\n",
        "ratings= pd.read_csv(ratings_path, header=None, sep='::', engine='python')\n",
        "movies = pd.read_csv(movies_path, header=None, sep='::', engine='python')"
      ],
      "execution_count": 0,
      "outputs": []
    },
    {
      "cell_type": "code",
      "metadata": {
        "id": "nF2dqAEC0n13",
        "colab_type": "code",
        "colab": {
          "base_uri": "https://localhost:8080/",
          "height": 204
        },
        "outputId": "d957853f-9924-4b1b-a5b3-4efa0f3e50ea"
      },
      "source": [
        "ratings.head()"
      ],
      "execution_count": 13,
      "outputs": [
        {
          "output_type": "execute_result",
          "data": {
            "text/html": [
              "<div>\n",
              "<style scoped>\n",
              "    .dataframe tbody tr th:only-of-type {\n",
              "        vertical-align: middle;\n",
              "    }\n",
              "\n",
              "    .dataframe tbody tr th {\n",
              "        vertical-align: top;\n",
              "    }\n",
              "\n",
              "    .dataframe thead th {\n",
              "        text-align: right;\n",
              "    }\n",
              "</style>\n",
              "<table border=\"1\" class=\"dataframe\">\n",
              "  <thead>\n",
              "    <tr style=\"text-align: right;\">\n",
              "      <th></th>\n",
              "      <th>0</th>\n",
              "      <th>1</th>\n",
              "      <th>2</th>\n",
              "      <th>3</th>\n",
              "    </tr>\n",
              "  </thead>\n",
              "  <tbody>\n",
              "    <tr>\n",
              "      <th>0</th>\n",
              "      <td>1</td>\n",
              "      <td>1193</td>\n",
              "      <td>5</td>\n",
              "      <td>978300760</td>\n",
              "    </tr>\n",
              "    <tr>\n",
              "      <th>1</th>\n",
              "      <td>1</td>\n",
              "      <td>661</td>\n",
              "      <td>3</td>\n",
              "      <td>978302109</td>\n",
              "    </tr>\n",
              "    <tr>\n",
              "      <th>2</th>\n",
              "      <td>1</td>\n",
              "      <td>914</td>\n",
              "      <td>3</td>\n",
              "      <td>978301968</td>\n",
              "    </tr>\n",
              "    <tr>\n",
              "      <th>3</th>\n",
              "      <td>1</td>\n",
              "      <td>3408</td>\n",
              "      <td>4</td>\n",
              "      <td>978300275</td>\n",
              "    </tr>\n",
              "    <tr>\n",
              "      <th>4</th>\n",
              "      <td>1</td>\n",
              "      <td>2355</td>\n",
              "      <td>5</td>\n",
              "      <td>978824291</td>\n",
              "    </tr>\n",
              "  </tbody>\n",
              "</table>\n",
              "</div>"
            ],
            "text/plain": [
              "   0     1  2          3\n",
              "0  1  1193  5  978300760\n",
              "1  1   661  3  978302109\n",
              "2  1   914  3  978301968\n",
              "3  1  3408  4  978300275\n",
              "4  1  2355  5  978824291"
            ]
          },
          "metadata": {
            "tags": []
          },
          "execution_count": 13
        }
      ]
    },
    {
      "cell_type": "code",
      "metadata": {
        "id": "NVrHKCOq1qZN",
        "colab_type": "code",
        "colab": {
          "base_uri": "https://localhost:8080/",
          "height": 204
        },
        "outputId": "04ad956f-7ad2-4389-bcc2-e7f143a27db6"
      },
      "source": [
        "movies.head()"
      ],
      "execution_count": 14,
      "outputs": [
        {
          "output_type": "execute_result",
          "data": {
            "text/html": [
              "<div>\n",
              "<style scoped>\n",
              "    .dataframe tbody tr th:only-of-type {\n",
              "        vertical-align: middle;\n",
              "    }\n",
              "\n",
              "    .dataframe tbody tr th {\n",
              "        vertical-align: top;\n",
              "    }\n",
              "\n",
              "    .dataframe thead th {\n",
              "        text-align: right;\n",
              "    }\n",
              "</style>\n",
              "<table border=\"1\" class=\"dataframe\">\n",
              "  <thead>\n",
              "    <tr style=\"text-align: right;\">\n",
              "      <th></th>\n",
              "      <th>0</th>\n",
              "      <th>1</th>\n",
              "      <th>2</th>\n",
              "    </tr>\n",
              "  </thead>\n",
              "  <tbody>\n",
              "    <tr>\n",
              "      <th>0</th>\n",
              "      <td>1</td>\n",
              "      <td>Toy Story (1995)</td>\n",
              "      <td>Animation|Children's|Comedy</td>\n",
              "    </tr>\n",
              "    <tr>\n",
              "      <th>1</th>\n",
              "      <td>2</td>\n",
              "      <td>Jumanji (1995)</td>\n",
              "      <td>Adventure|Children's|Fantasy</td>\n",
              "    </tr>\n",
              "    <tr>\n",
              "      <th>2</th>\n",
              "      <td>3</td>\n",
              "      <td>Grumpier Old Men (1995)</td>\n",
              "      <td>Comedy|Romance</td>\n",
              "    </tr>\n",
              "    <tr>\n",
              "      <th>3</th>\n",
              "      <td>4</td>\n",
              "      <td>Waiting to Exhale (1995)</td>\n",
              "      <td>Comedy|Drama</td>\n",
              "    </tr>\n",
              "    <tr>\n",
              "      <th>4</th>\n",
              "      <td>5</td>\n",
              "      <td>Father of the Bride Part II (1995)</td>\n",
              "      <td>Comedy</td>\n",
              "    </tr>\n",
              "  </tbody>\n",
              "</table>\n",
              "</div>"
            ],
            "text/plain": [
              "   0                                   1                             2\n",
              "0  1                    Toy Story (1995)   Animation|Children's|Comedy\n",
              "1  2                      Jumanji (1995)  Adventure|Children's|Fantasy\n",
              "2  3             Grumpier Old Men (1995)                Comedy|Romance\n",
              "3  4            Waiting to Exhale (1995)                  Comedy|Drama\n",
              "4  5  Father of the Bride Part II (1995)                        Comedy"
            ]
          },
          "metadata": {
            "tags": []
          },
          "execution_count": 14
        }
      ]
    },
    {
      "cell_type": "code",
      "metadata": {
        "id": "5CVoDESD1zIU",
        "colab_type": "code",
        "colab": {
          "base_uri": "https://localhost:8080/",
          "height": 170
        },
        "outputId": "333cf951-cafb-403f-ff31-a0bf7f247407"
      },
      "source": [
        "ratings.info()"
      ],
      "execution_count": 15,
      "outputs": [
        {
          "output_type": "stream",
          "text": [
            "<class 'pandas.core.frame.DataFrame'>\n",
            "RangeIndex: 1000209 entries, 0 to 1000208\n",
            "Data columns (total 4 columns):\n",
            "0    1000209 non-null int64\n",
            "1    1000209 non-null int64\n",
            "2    1000209 non-null int64\n",
            "3    1000209 non-null int64\n",
            "dtypes: int64(4)\n",
            "memory usage: 30.5 MB\n"
          ],
          "name": "stdout"
        }
      ]
    },
    {
      "cell_type": "code",
      "metadata": {
        "id": "mEva_6Ng12CO",
        "colab_type": "code",
        "colab": {
          "base_uri": "https://localhost:8080/",
          "height": 153
        },
        "outputId": "83366adf-e979-4ea6-9059-5c41486e8f18"
      },
      "source": [
        "movies.info()"
      ],
      "execution_count": 16,
      "outputs": [
        {
          "output_type": "stream",
          "text": [
            "<class 'pandas.core.frame.DataFrame'>\n",
            "RangeIndex: 3883 entries, 0 to 3882\n",
            "Data columns (total 3 columns):\n",
            "0    3883 non-null int64\n",
            "1    3883 non-null object\n",
            "2    3883 non-null object\n",
            "dtypes: int64(1), object(2)\n",
            "memory usage: 91.1+ KB\n"
          ],
          "name": "stdout"
        }
      ]
    },
    {
      "cell_type": "code",
      "metadata": {
        "id": "pEnzEj4W12_j",
        "colab_type": "code",
        "colab": {
          "base_uri": "https://localhost:8080/",
          "height": 204
        },
        "outputId": "2fd72572-3525-4475-908c-c4537337fabd"
      },
      "source": [
        "ratings.columns = [\"uid\", \"iid\", \"ratings\", \"timestamp\"]\n",
        "ratings.head()"
      ],
      "execution_count": 18,
      "outputs": [
        {
          "output_type": "execute_result",
          "data": {
            "text/html": [
              "<div>\n",
              "<style scoped>\n",
              "    .dataframe tbody tr th:only-of-type {\n",
              "        vertical-align: middle;\n",
              "    }\n",
              "\n",
              "    .dataframe tbody tr th {\n",
              "        vertical-align: top;\n",
              "    }\n",
              "\n",
              "    .dataframe thead th {\n",
              "        text-align: right;\n",
              "    }\n",
              "</style>\n",
              "<table border=\"1\" class=\"dataframe\">\n",
              "  <thead>\n",
              "    <tr style=\"text-align: right;\">\n",
              "      <th></th>\n",
              "      <th>uid</th>\n",
              "      <th>iid</th>\n",
              "      <th>ratings</th>\n",
              "      <th>timestamp</th>\n",
              "    </tr>\n",
              "  </thead>\n",
              "  <tbody>\n",
              "    <tr>\n",
              "      <th>0</th>\n",
              "      <td>1</td>\n",
              "      <td>1193</td>\n",
              "      <td>5</td>\n",
              "      <td>978300760</td>\n",
              "    </tr>\n",
              "    <tr>\n",
              "      <th>1</th>\n",
              "      <td>1</td>\n",
              "      <td>661</td>\n",
              "      <td>3</td>\n",
              "      <td>978302109</td>\n",
              "    </tr>\n",
              "    <tr>\n",
              "      <th>2</th>\n",
              "      <td>1</td>\n",
              "      <td>914</td>\n",
              "      <td>3</td>\n",
              "      <td>978301968</td>\n",
              "    </tr>\n",
              "    <tr>\n",
              "      <th>3</th>\n",
              "      <td>1</td>\n",
              "      <td>3408</td>\n",
              "      <td>4</td>\n",
              "      <td>978300275</td>\n",
              "    </tr>\n",
              "    <tr>\n",
              "      <th>4</th>\n",
              "      <td>1</td>\n",
              "      <td>2355</td>\n",
              "      <td>5</td>\n",
              "      <td>978824291</td>\n",
              "    </tr>\n",
              "  </tbody>\n",
              "</table>\n",
              "</div>"
            ],
            "text/plain": [
              "   uid   iid  ratings  timestamp\n",
              "0    1  1193        5  978300760\n",
              "1    1   661        3  978302109\n",
              "2    1   914        3  978301968\n",
              "3    1  3408        4  978300275\n",
              "4    1  2355        5  978824291"
            ]
          },
          "metadata": {
            "tags": []
          },
          "execution_count": 18
        }
      ]
    },
    {
      "cell_type": "code",
      "metadata": {
        "id": "M35o4AXj2Gns",
        "colab_type": "code",
        "colab": {
          "base_uri": "https://localhost:8080/",
          "height": 204
        },
        "outputId": "c3a4b577-f1f8-479a-db09-2335f8d351c2"
      },
      "source": [
        "movies.columns = [\"iid\", \"movie_name\", \"genre\"]\n",
        "movies.head()"
      ],
      "execution_count": 19,
      "outputs": [
        {
          "output_type": "execute_result",
          "data": {
            "text/html": [
              "<div>\n",
              "<style scoped>\n",
              "    .dataframe tbody tr th:only-of-type {\n",
              "        vertical-align: middle;\n",
              "    }\n",
              "\n",
              "    .dataframe tbody tr th {\n",
              "        vertical-align: top;\n",
              "    }\n",
              "\n",
              "    .dataframe thead th {\n",
              "        text-align: right;\n",
              "    }\n",
              "</style>\n",
              "<table border=\"1\" class=\"dataframe\">\n",
              "  <thead>\n",
              "    <tr style=\"text-align: right;\">\n",
              "      <th></th>\n",
              "      <th>iid</th>\n",
              "      <th>movie_name</th>\n",
              "      <th>genre</th>\n",
              "    </tr>\n",
              "  </thead>\n",
              "  <tbody>\n",
              "    <tr>\n",
              "      <th>0</th>\n",
              "      <td>1</td>\n",
              "      <td>Toy Story (1995)</td>\n",
              "      <td>Animation|Children's|Comedy</td>\n",
              "    </tr>\n",
              "    <tr>\n",
              "      <th>1</th>\n",
              "      <td>2</td>\n",
              "      <td>Jumanji (1995)</td>\n",
              "      <td>Adventure|Children's|Fantasy</td>\n",
              "    </tr>\n",
              "    <tr>\n",
              "      <th>2</th>\n",
              "      <td>3</td>\n",
              "      <td>Grumpier Old Men (1995)</td>\n",
              "      <td>Comedy|Romance</td>\n",
              "    </tr>\n",
              "    <tr>\n",
              "      <th>3</th>\n",
              "      <td>4</td>\n",
              "      <td>Waiting to Exhale (1995)</td>\n",
              "      <td>Comedy|Drama</td>\n",
              "    </tr>\n",
              "    <tr>\n",
              "      <th>4</th>\n",
              "      <td>5</td>\n",
              "      <td>Father of the Bride Part II (1995)</td>\n",
              "      <td>Comedy</td>\n",
              "    </tr>\n",
              "  </tbody>\n",
              "</table>\n",
              "</div>"
            ],
            "text/plain": [
              "   iid                          movie_name                         genre\n",
              "0    1                    Toy Story (1995)   Animation|Children's|Comedy\n",
              "1    2                      Jumanji (1995)  Adventure|Children's|Fantasy\n",
              "2    3             Grumpier Old Men (1995)                Comedy|Romance\n",
              "3    4            Waiting to Exhale (1995)                  Comedy|Drama\n",
              "4    5  Father of the Bride Part II (1995)                        Comedy"
            ]
          },
          "metadata": {
            "tags": []
          },
          "execution_count": 19
        }
      ]
    },
    {
      "cell_type": "code",
      "metadata": {
        "id": "rBurXPZo2RSs",
        "colab_type": "code",
        "colab": {
          "base_uri": "https://localhost:8080/",
          "height": 297
        },
        "outputId": "9b0d46a1-2de8-4d64-a4ff-45cac4697f30"
      },
      "source": [
        "ratings.describe() # Ratings Mean is 3.58"
      ],
      "execution_count": 21,
      "outputs": [
        {
          "output_type": "execute_result",
          "data": {
            "text/html": [
              "<div>\n",
              "<style scoped>\n",
              "    .dataframe tbody tr th:only-of-type {\n",
              "        vertical-align: middle;\n",
              "    }\n",
              "\n",
              "    .dataframe tbody tr th {\n",
              "        vertical-align: top;\n",
              "    }\n",
              "\n",
              "    .dataframe thead th {\n",
              "        text-align: right;\n",
              "    }\n",
              "</style>\n",
              "<table border=\"1\" class=\"dataframe\">\n",
              "  <thead>\n",
              "    <tr style=\"text-align: right;\">\n",
              "      <th></th>\n",
              "      <th>uid</th>\n",
              "      <th>iid</th>\n",
              "      <th>ratings</th>\n",
              "      <th>timestamp</th>\n",
              "    </tr>\n",
              "  </thead>\n",
              "  <tbody>\n",
              "    <tr>\n",
              "      <th>count</th>\n",
              "      <td>1.000209e+06</td>\n",
              "      <td>1.000209e+06</td>\n",
              "      <td>1.000209e+06</td>\n",
              "      <td>1.000209e+06</td>\n",
              "    </tr>\n",
              "    <tr>\n",
              "      <th>mean</th>\n",
              "      <td>3.024512e+03</td>\n",
              "      <td>1.865540e+03</td>\n",
              "      <td>3.581564e+00</td>\n",
              "      <td>9.722437e+08</td>\n",
              "    </tr>\n",
              "    <tr>\n",
              "      <th>std</th>\n",
              "      <td>1.728413e+03</td>\n",
              "      <td>1.096041e+03</td>\n",
              "      <td>1.117102e+00</td>\n",
              "      <td>1.215256e+07</td>\n",
              "    </tr>\n",
              "    <tr>\n",
              "      <th>min</th>\n",
              "      <td>1.000000e+00</td>\n",
              "      <td>1.000000e+00</td>\n",
              "      <td>1.000000e+00</td>\n",
              "      <td>9.567039e+08</td>\n",
              "    </tr>\n",
              "    <tr>\n",
              "      <th>25%</th>\n",
              "      <td>1.506000e+03</td>\n",
              "      <td>1.030000e+03</td>\n",
              "      <td>3.000000e+00</td>\n",
              "      <td>9.653026e+08</td>\n",
              "    </tr>\n",
              "    <tr>\n",
              "      <th>50%</th>\n",
              "      <td>3.070000e+03</td>\n",
              "      <td>1.835000e+03</td>\n",
              "      <td>4.000000e+00</td>\n",
              "      <td>9.730180e+08</td>\n",
              "    </tr>\n",
              "    <tr>\n",
              "      <th>75%</th>\n",
              "      <td>4.476000e+03</td>\n",
              "      <td>2.770000e+03</td>\n",
              "      <td>4.000000e+00</td>\n",
              "      <td>9.752209e+08</td>\n",
              "    </tr>\n",
              "    <tr>\n",
              "      <th>max</th>\n",
              "      <td>6.040000e+03</td>\n",
              "      <td>3.952000e+03</td>\n",
              "      <td>5.000000e+00</td>\n",
              "      <td>1.046455e+09</td>\n",
              "    </tr>\n",
              "  </tbody>\n",
              "</table>\n",
              "</div>"
            ],
            "text/plain": [
              "                uid           iid       ratings     timestamp\n",
              "count  1.000209e+06  1.000209e+06  1.000209e+06  1.000209e+06\n",
              "mean   3.024512e+03  1.865540e+03  3.581564e+00  9.722437e+08\n",
              "std    1.728413e+03  1.096041e+03  1.117102e+00  1.215256e+07\n",
              "min    1.000000e+00  1.000000e+00  1.000000e+00  9.567039e+08\n",
              "25%    1.506000e+03  1.030000e+03  3.000000e+00  9.653026e+08\n",
              "50%    3.070000e+03  1.835000e+03  4.000000e+00  9.730180e+08\n",
              "75%    4.476000e+03  2.770000e+03  4.000000e+00  9.752209e+08\n",
              "max    6.040000e+03  3.952000e+03  5.000000e+00  1.046455e+09"
            ]
          },
          "metadata": {
            "tags": []
          },
          "execution_count": 21
        }
      ]
    },
    {
      "cell_type": "code",
      "metadata": {
        "id": "HzSGMH2D2p4d",
        "colab_type": "code",
        "colab": {}
      },
      "source": [
        "def parse_moviename(movie_name):\n",
        "  return movie_name.replace(' ', '_').encode('utf-8').decode('ascii', 'ignore')\n"
      ],
      "execution_count": 0,
      "outputs": []
    },
    {
      "cell_type": "code",
      "metadata": {
        "id": "73kJeCb-3jSJ",
        "colab_type": "code",
        "colab": {}
      },
      "source": [
        "iid_to_movie_name = dict( zip(movies.iid.tolist(), movies.movie_name.tolist()) )"
      ],
      "execution_count": 0,
      "outputs": []
    },
    {
      "cell_type": "code",
      "metadata": {
        "id": "wfXTK0qJ3qqa",
        "colab_type": "code",
        "colab": {}
      },
      "source": [
        "iid_to_movie_name = {iid:parse_moviename(movie_name) for (iid, movie_name) in iid_to_movie_name.items()}"
      ],
      "execution_count": 0,
      "outputs": []
    },
    {
      "cell_type": "code",
      "metadata": {
        "id": "Ro_ZPNTL4eRC",
        "colab_type": "code",
        "colab": {
          "base_uri": "https://localhost:8080/",
          "height": 34
        },
        "outputId": "2c47ddd1-6642-4e42-d6e0-7a8b6e5e4acc"
      },
      "source": [
        "iid_to_movie_name[1]"
      ],
      "execution_count": 59,
      "outputs": [
        {
          "output_type": "execute_result",
          "data": {
            "text/plain": [
              "'Toy_Story_(1995)'"
            ]
          },
          "metadata": {
            "tags": []
          },
          "execution_count": 59
        }
      ]
    },
    {
      "cell_type": "code",
      "metadata": {
        "id": "PnjLPaYK5Mk3",
        "colab_type": "code",
        "colab": {}
      },
      "source": [
        "uid_to_idx = { uid:idx for (idx, uid) in enumerate(ratings.uid.unique().tolist()) } # 평점을 매긴 유니크한 uid"
      ],
      "execution_count": 0,
      "outputs": []
    },
    {
      "cell_type": "code",
      "metadata": {
        "id": "qfCO76QJ5ds0",
        "colab_type": "code",
        "colab": {}
      },
      "source": [
        "iid_to_idx = {iid: idx for (idx, iid) in enumerate(ratings.iid.unique().tolist())} # 평점이 매겨진 유니크한 iid"
      ],
      "execution_count": 0,
      "outputs": []
    },
    {
      "cell_type": "code",
      "metadata": {
        "id": "cMuzZsNR6Qxk",
        "colab_type": "code",
        "colab": {}
      },
      "source": [
        "idx_to_movie_name = {idx : iid_to_movie_name[iid] for (iid, idx) in iid_to_idx.items()} # idx -> movie_name"
      ],
      "execution_count": 0,
      "outputs": []
    },
    {
      "cell_type": "code",
      "metadata": {
        "id": "r_AsGwb47Bv1",
        "colab_type": "code",
        "colab": {
          "base_uri": "https://localhost:8080/",
          "height": 34
        },
        "outputId": "26a5953e-ccfa-4fad-c772-7555edac79da"
      },
      "source": [
        "len(ratings) / ( len(uid_to_idx) * len(iid_to_idx) ) # sparsity calc"
      ],
      "execution_count": 79,
      "outputs": [
        {
          "output_type": "execute_result",
          "data": {
            "text/plain": [
              "0.044683625622312845"
            ]
          },
          "metadata": {
            "tags": []
          },
          "execution_count": 79
        }
      ]
    },
    {
      "cell_type": "code",
      "metadata": {
        "id": "Shg1oT1R776-",
        "colab_type": "code",
        "colab": {}
      },
      "source": [
        "row = ratings.iid.tolist()\n",
        "col = ratings.uid.tolist()\n",
        "dat = ratings.ratings.tolist()"
      ],
      "execution_count": 0,
      "outputs": []
    },
    {
      "cell_type": "code",
      "metadata": {
        "id": "Ws-OUm-Y8Qk8",
        "colab_type": "code",
        "colab": {}
      },
      "source": [
        "row = [iid_to_idx[r] for r in row]\n",
        "col = [uid_to_idx[c] for c in col]"
      ],
      "execution_count": 0,
      "outputs": []
    },
    {
      "cell_type": "code",
      "metadata": {
        "id": "I_NAbAES8jjj",
        "colab_type": "code",
        "colab": {}
      },
      "source": [
        "train_matrix = csr_matrix((dat, (row, col)), shape=(1+np.max(row), 1+np.max(col)))"
      ],
      "execution_count": 0,
      "outputs": []
    },
    {
      "cell_type": "code",
      "metadata": {
        "id": "W1DFVP8Q8v1T",
        "colab_type": "code",
        "colab": {
          "base_uri": "https://localhost:8080/",
          "height": 34
        },
        "outputId": "f3a386b7-7622-45b2-b75f-7cbf31ccb550"
      },
      "source": [
        "train_matrix.shape"
      ],
      "execution_count": 91,
      "outputs": [
        {
          "output_type": "execute_result",
          "data": {
            "text/plain": [
              "(3706, 6040)"
            ]
          },
          "metadata": {
            "tags": []
          },
          "execution_count": 91
        }
      ]
    },
    {
      "cell_type": "code",
      "metadata": {
        "id": "5jZ0lhTI9Wr3",
        "colab_type": "code",
        "colab": {}
      },
      "source": [
        ""
      ],
      "execution_count": 0,
      "outputs": []
    }
  ]
}