{
  "nbformat": 4,
  "nbformat_minor": 0,
  "metadata": {
    "colab": {
      "name": "Wide&Deep-Data2Model.ipynb의 사본",
      "provenance": [],
      "collapsed_sections": [],
      "toc_visible": true,
      "mount_file_id": "https://github.com/pko89403/Recsys_test/blob/master/Wide%26Deep_Data_Model_subscriton.ipynb",
      "authorship_tag": "ABX9TyMgX4k2vNDDekWH7RBkHBkT",
      "include_colab_link": true
    },
    "kernelspec": {
      "name": "python3",
      "display_name": "Python 3"
    },
    "accelerator": "GPU"
  },
  "cells": [
    {
      "cell_type": "markdown",
      "metadata": {
        "id": "view-in-github",
        "colab_type": "text"
      },
      "source": [
        "<a href=\"https://colab.research.google.com/github/pko89403/Recsys_test/blob/master/Wide%26Deep_Data_Model_subscriton.ipynb\" target=\"_parent\"><img src=\"https://colab.research.google.com/assets/colab-badge.svg\" alt=\"Open In Colab\"/></a>"
      ]
    },
    {
      "cell_type": "markdown",
      "metadata": {
        "id": "pBJ7-GshRchP",
        "colab_type": "text"
      },
      "source": [
        "# Wide - And - Deep - Pytorch\n",
        "1. Wide : 스파스한 피처들, 원-핫 인코딩 되어 아웃풋 뉴런과 바로 연결됨\n",
        "2. Deep Dense : 카테고리 피처들, 임베딩으로 표횐됨, 연속성 피처들이 덴스 레이어로 보내짐\n",
        "3. Deep Text : 워드 임베딩들 보내지는 RNN들의 스택으로\n",
        "4. Deep Image : RGB 이미지들 CNN으로 보내지는, ResNet"
      ]
    },
    {
      "cell_type": "markdown",
      "metadata": {
        "id": "LVCRvwWtUkuG",
        "colab_type": "text"
      },
      "source": [
        "# 데이터 전처리\n",
        "https://github.com/Srifox/Wide-and-Deep-PyTorch/blob/master/demo1_prepare_data.ipynb"
      ]
    },
    {
      "cell_type": "code",
      "metadata": {
        "id": "keehjOrxTXS4",
        "colab_type": "code",
        "outputId": "6e528d73-5597-4617-8e4c-bbc3fd2f40ad",
        "colab": {
          "base_uri": "https://localhost:8080/",
          "height": 289
        }
      },
      "source": [
        "import pandas as pd\n",
        "import numpy as np\n",
        "\n",
        "raw_data_path = \"/content/drive/My Drive/data/adult_data/adult-data.csv\"\n",
        "raw_data = pd.read_csv(raw_data_path)\n",
        "raw_data.head()"
      ],
      "execution_count": 337,
      "outputs": [
        {
          "output_type": "execute_result",
          "data": {
            "text/html": [
              "<div>\n",
              "<style scoped>\n",
              "    .dataframe tbody tr th:only-of-type {\n",
              "        vertical-align: middle;\n",
              "    }\n",
              "\n",
              "    .dataframe tbody tr th {\n",
              "        vertical-align: top;\n",
              "    }\n",
              "\n",
              "    .dataframe thead th {\n",
              "        text-align: right;\n",
              "    }\n",
              "</style>\n",
              "<table border=\"1\" class=\"dataframe\">\n",
              "  <thead>\n",
              "    <tr style=\"text-align: right;\">\n",
              "      <th></th>\n",
              "      <th>age</th>\n",
              "      <th>workclass</th>\n",
              "      <th>fnlwgt</th>\n",
              "      <th>education</th>\n",
              "      <th>education_num</th>\n",
              "      <th>marital_status</th>\n",
              "      <th>occupation</th>\n",
              "      <th>relationship</th>\n",
              "      <th>race</th>\n",
              "      <th>sex</th>\n",
              "      <th>capital-gain</th>\n",
              "      <th>capital-loss</th>\n",
              "      <th>wrk_hrs_per_week</th>\n",
              "      <th>native_country</th>\n",
              "      <th>income</th>\n",
              "    </tr>\n",
              "  </thead>\n",
              "  <tbody>\n",
              "    <tr>\n",
              "      <th>0</th>\n",
              "      <td>39</td>\n",
              "      <td>State-gov</td>\n",
              "      <td>77516</td>\n",
              "      <td>Bachelors</td>\n",
              "      <td>13</td>\n",
              "      <td>Never-married</td>\n",
              "      <td>Adm-clerical</td>\n",
              "      <td>Not-in-family</td>\n",
              "      <td>White</td>\n",
              "      <td>Male</td>\n",
              "      <td>2174</td>\n",
              "      <td>0</td>\n",
              "      <td>40</td>\n",
              "      <td>United-States</td>\n",
              "      <td>&lt;=50K</td>\n",
              "    </tr>\n",
              "    <tr>\n",
              "      <th>1</th>\n",
              "      <td>50</td>\n",
              "      <td>Self-emp-not-inc</td>\n",
              "      <td>83311</td>\n",
              "      <td>Bachelors</td>\n",
              "      <td>13</td>\n",
              "      <td>Married-civ-spouse</td>\n",
              "      <td>Exec-managerial</td>\n",
              "      <td>Husband</td>\n",
              "      <td>White</td>\n",
              "      <td>Male</td>\n",
              "      <td>0</td>\n",
              "      <td>0</td>\n",
              "      <td>13</td>\n",
              "      <td>United-States</td>\n",
              "      <td>&lt;=50K</td>\n",
              "    </tr>\n",
              "    <tr>\n",
              "      <th>2</th>\n",
              "      <td>38</td>\n",
              "      <td>Private</td>\n",
              "      <td>215646</td>\n",
              "      <td>HS-grad</td>\n",
              "      <td>9</td>\n",
              "      <td>Divorced</td>\n",
              "      <td>Handlers-cleaners</td>\n",
              "      <td>Not-in-family</td>\n",
              "      <td>White</td>\n",
              "      <td>Male</td>\n",
              "      <td>0</td>\n",
              "      <td>0</td>\n",
              "      <td>40</td>\n",
              "      <td>United-States</td>\n",
              "      <td>&lt;=50K</td>\n",
              "    </tr>\n",
              "    <tr>\n",
              "      <th>3</th>\n",
              "      <td>53</td>\n",
              "      <td>Private</td>\n",
              "      <td>234721</td>\n",
              "      <td>11th</td>\n",
              "      <td>7</td>\n",
              "      <td>Married-civ-spouse</td>\n",
              "      <td>Handlers-cleaners</td>\n",
              "      <td>Husband</td>\n",
              "      <td>Black</td>\n",
              "      <td>Male</td>\n",
              "      <td>0</td>\n",
              "      <td>0</td>\n",
              "      <td>40</td>\n",
              "      <td>United-States</td>\n",
              "      <td>&lt;=50K</td>\n",
              "    </tr>\n",
              "    <tr>\n",
              "      <th>4</th>\n",
              "      <td>28</td>\n",
              "      <td>Private</td>\n",
              "      <td>338409</td>\n",
              "      <td>Bachelors</td>\n",
              "      <td>13</td>\n",
              "      <td>Married-civ-spouse</td>\n",
              "      <td>Prof-specialty</td>\n",
              "      <td>Wife</td>\n",
              "      <td>Black</td>\n",
              "      <td>Female</td>\n",
              "      <td>0</td>\n",
              "      <td>0</td>\n",
              "      <td>40</td>\n",
              "      <td>Cuba</td>\n",
              "      <td>&lt;=50K</td>\n",
              "    </tr>\n",
              "  </tbody>\n",
              "</table>\n",
              "</div>"
            ],
            "text/plain": [
              "   age          workclass  fnlwgt  ... wrk_hrs_per_week  native_country  income\n",
              "0   39          State-gov   77516  ...               40   United-States   <=50K\n",
              "1   50   Self-emp-not-inc   83311  ...               13   United-States   <=50K\n",
              "2   38            Private  215646  ...               40   United-States   <=50K\n",
              "3   53            Private  234721  ...               40   United-States   <=50K\n",
              "4   28            Private  338409  ...               40            Cuba   <=50K\n",
              "\n",
              "[5 rows x 15 columns]"
            ]
          },
          "metadata": {
            "tags": []
          },
          "execution_count": 337
        }
      ]
    },
    {
      "cell_type": "markdown",
      "metadata": {
        "id": "5oyAhUXcBmXD",
        "colab_type": "text"
      },
      "source": [
        "age 컬럼의 카테고리 버전을 만든다."
      ]
    },
    {
      "cell_type": "code",
      "metadata": {
        "id": "mY6gmeFxBDdl",
        "colab_type": "code",
        "colab": {}
      },
      "source": [
        "raw_data['age_buckets'] = pd.cut(raw_data.age, bins=[16, 25, 30, 35, 40, 45, 50, 55, 60, 91], labels=np.arange(9))"
      ],
      "execution_count": 0,
      "outputs": []
    },
    {
      "cell_type": "markdown",
      "metadata": {
        "id": "l3TU0YnYY7kf",
        "colab_type": "text"
      },
      "source": [
        "Logist Regression에 사용하기 위한 라벨 만들기"
      ]
    },
    {
      "cell_type": "code",
      "metadata": {
        "id": "3YtLuzgEZIJa",
        "colab_type": "code",
        "outputId": "ab343c9f-92c7-40b0-8225-9af03c68d51a",
        "colab": {
          "base_uri": "https://localhost:8080/",
          "height": 309
        }
      },
      "source": [
        "raw_data['income_label'] = (raw_data['income'].apply(lambda x: \">50K\" in x)).astype(int)\n",
        "raw_data.drop('income', axis=1, inplace=True)\n",
        "raw_data.head()"
      ],
      "execution_count": 339,
      "outputs": [
        {
          "output_type": "execute_result",
          "data": {
            "text/html": [
              "<div>\n",
              "<style scoped>\n",
              "    .dataframe tbody tr th:only-of-type {\n",
              "        vertical-align: middle;\n",
              "    }\n",
              "\n",
              "    .dataframe tbody tr th {\n",
              "        vertical-align: top;\n",
              "    }\n",
              "\n",
              "    .dataframe thead th {\n",
              "        text-align: right;\n",
              "    }\n",
              "</style>\n",
              "<table border=\"1\" class=\"dataframe\">\n",
              "  <thead>\n",
              "    <tr style=\"text-align: right;\">\n",
              "      <th></th>\n",
              "      <th>age</th>\n",
              "      <th>workclass</th>\n",
              "      <th>fnlwgt</th>\n",
              "      <th>education</th>\n",
              "      <th>education_num</th>\n",
              "      <th>marital_status</th>\n",
              "      <th>occupation</th>\n",
              "      <th>relationship</th>\n",
              "      <th>race</th>\n",
              "      <th>sex</th>\n",
              "      <th>capital-gain</th>\n",
              "      <th>capital-loss</th>\n",
              "      <th>wrk_hrs_per_week</th>\n",
              "      <th>native_country</th>\n",
              "      <th>age_buckets</th>\n",
              "      <th>income_label</th>\n",
              "    </tr>\n",
              "  </thead>\n",
              "  <tbody>\n",
              "    <tr>\n",
              "      <th>0</th>\n",
              "      <td>39</td>\n",
              "      <td>State-gov</td>\n",
              "      <td>77516</td>\n",
              "      <td>Bachelors</td>\n",
              "      <td>13</td>\n",
              "      <td>Never-married</td>\n",
              "      <td>Adm-clerical</td>\n",
              "      <td>Not-in-family</td>\n",
              "      <td>White</td>\n",
              "      <td>Male</td>\n",
              "      <td>2174</td>\n",
              "      <td>0</td>\n",
              "      <td>40</td>\n",
              "      <td>United-States</td>\n",
              "      <td>3</td>\n",
              "      <td>0</td>\n",
              "    </tr>\n",
              "    <tr>\n",
              "      <th>1</th>\n",
              "      <td>50</td>\n",
              "      <td>Self-emp-not-inc</td>\n",
              "      <td>83311</td>\n",
              "      <td>Bachelors</td>\n",
              "      <td>13</td>\n",
              "      <td>Married-civ-spouse</td>\n",
              "      <td>Exec-managerial</td>\n",
              "      <td>Husband</td>\n",
              "      <td>White</td>\n",
              "      <td>Male</td>\n",
              "      <td>0</td>\n",
              "      <td>0</td>\n",
              "      <td>13</td>\n",
              "      <td>United-States</td>\n",
              "      <td>5</td>\n",
              "      <td>0</td>\n",
              "    </tr>\n",
              "    <tr>\n",
              "      <th>2</th>\n",
              "      <td>38</td>\n",
              "      <td>Private</td>\n",
              "      <td>215646</td>\n",
              "      <td>HS-grad</td>\n",
              "      <td>9</td>\n",
              "      <td>Divorced</td>\n",
              "      <td>Handlers-cleaners</td>\n",
              "      <td>Not-in-family</td>\n",
              "      <td>White</td>\n",
              "      <td>Male</td>\n",
              "      <td>0</td>\n",
              "      <td>0</td>\n",
              "      <td>40</td>\n",
              "      <td>United-States</td>\n",
              "      <td>3</td>\n",
              "      <td>0</td>\n",
              "    </tr>\n",
              "    <tr>\n",
              "      <th>3</th>\n",
              "      <td>53</td>\n",
              "      <td>Private</td>\n",
              "      <td>234721</td>\n",
              "      <td>11th</td>\n",
              "      <td>7</td>\n",
              "      <td>Married-civ-spouse</td>\n",
              "      <td>Handlers-cleaners</td>\n",
              "      <td>Husband</td>\n",
              "      <td>Black</td>\n",
              "      <td>Male</td>\n",
              "      <td>0</td>\n",
              "      <td>0</td>\n",
              "      <td>40</td>\n",
              "      <td>United-States</td>\n",
              "      <td>6</td>\n",
              "      <td>0</td>\n",
              "    </tr>\n",
              "    <tr>\n",
              "      <th>4</th>\n",
              "      <td>28</td>\n",
              "      <td>Private</td>\n",
              "      <td>338409</td>\n",
              "      <td>Bachelors</td>\n",
              "      <td>13</td>\n",
              "      <td>Married-civ-spouse</td>\n",
              "      <td>Prof-specialty</td>\n",
              "      <td>Wife</td>\n",
              "      <td>Black</td>\n",
              "      <td>Female</td>\n",
              "      <td>0</td>\n",
              "      <td>0</td>\n",
              "      <td>40</td>\n",
              "      <td>Cuba</td>\n",
              "      <td>1</td>\n",
              "      <td>0</td>\n",
              "    </tr>\n",
              "  </tbody>\n",
              "</table>\n",
              "</div>"
            ],
            "text/plain": [
              "   age          workclass  fnlwgt  ...  native_country  age_buckets income_label\n",
              "0   39          State-gov   77516  ...   United-States            3            0\n",
              "1   50   Self-emp-not-inc   83311  ...   United-States            5            0\n",
              "2   38            Private  215646  ...   United-States            3            0\n",
              "3   53            Private  234721  ...   United-States            6            0\n",
              "4   28            Private  338409  ...            Cuba            1            0\n",
              "\n",
              "[5 rows x 16 columns]"
            ]
          },
          "metadata": {
            "tags": []
          },
          "execution_count": 339
        }
      ]
    },
    {
      "cell_type": "markdown",
      "metadata": {
        "id": "M94H0WHhCgDF",
        "colab_type": "text"
      },
      "source": [
        "wide-side 모델에서 사용할 컬럼을 선택하기"
      ]
    },
    {
      "cell_type": "code",
      "metadata": {
        "id": "wUxdJIrYC9sP",
        "colab_type": "code",
        "colab": {}
      },
      "source": [
        "wide_cols = ['workclass', 'education', 'marital_status', 'occupation', 'relationship', 'race', 'sex', 'native_country', 'age_buckets']\n",
        "crossed_cols = (['education', 'occupation'], ['native_country', 'occupation'])"
      ],
      "execution_count": 0,
      "outputs": []
    },
    {
      "cell_type": "markdown",
      "metadata": {
        "id": "bU97PQBPDl4S",
        "colab_type": "text"
      },
      "source": [
        "기존 논문의 crossed 에 대한 표현이 좀 더 합리적으로 변경 되었다.   \n",
        "전에는 crossed columns 에 대한 표현이 (true, true) -> 1, (다른 페어) -> 0\n",
        "- education_occupation\n",
        "- native_country_occupation"
      ]
    },
    {
      "cell_type": "code",
      "metadata": {
        "id": "p5lWM8qFDsIr",
        "colab_type": "code",
        "outputId": "149df272-f2f7-4b5c-ad14-4a6b17b5ffe7",
        "colab": {
          "base_uri": "https://localhost:8080/",
          "height": 204
        }
      },
      "source": [
        "df_adult_wide = raw_data.copy()[wide_cols]\n",
        "crossed_columns = []\n",
        "for cols in crossed_cols:\n",
        "  colname = '_'.join(cols)\n",
        "  df_adult_wide[colname] = df_adult_wide[cols].apply(lambda x: '-'.join(x), axis=1)\n",
        "  crossed_columns.append(colname)\n",
        "df_adult_wide['age_buckets'].astype(str)\n",
        "df_adult_wide.head() \n",
        "\n"
      ],
      "execution_count": 341,
      "outputs": [
        {
          "output_type": "execute_result",
          "data": {
            "text/html": [
              "<div>\n",
              "<style scoped>\n",
              "    .dataframe tbody tr th:only-of-type {\n",
              "        vertical-align: middle;\n",
              "    }\n",
              "\n",
              "    .dataframe tbody tr th {\n",
              "        vertical-align: top;\n",
              "    }\n",
              "\n",
              "    .dataframe thead th {\n",
              "        text-align: right;\n",
              "    }\n",
              "</style>\n",
              "<table border=\"1\" class=\"dataframe\">\n",
              "  <thead>\n",
              "    <tr style=\"text-align: right;\">\n",
              "      <th></th>\n",
              "      <th>workclass</th>\n",
              "      <th>education</th>\n",
              "      <th>marital_status</th>\n",
              "      <th>occupation</th>\n",
              "      <th>relationship</th>\n",
              "      <th>race</th>\n",
              "      <th>sex</th>\n",
              "      <th>native_country</th>\n",
              "      <th>age_buckets</th>\n",
              "      <th>education_occupation</th>\n",
              "      <th>native_country_occupation</th>\n",
              "    </tr>\n",
              "  </thead>\n",
              "  <tbody>\n",
              "    <tr>\n",
              "      <th>0</th>\n",
              "      <td>State-gov</td>\n",
              "      <td>Bachelors</td>\n",
              "      <td>Never-married</td>\n",
              "      <td>Adm-clerical</td>\n",
              "      <td>Not-in-family</td>\n",
              "      <td>White</td>\n",
              "      <td>Male</td>\n",
              "      <td>United-States</td>\n",
              "      <td>3</td>\n",
              "      <td>Bachelors- Adm-clerical</td>\n",
              "      <td>United-States- Adm-clerical</td>\n",
              "    </tr>\n",
              "    <tr>\n",
              "      <th>1</th>\n",
              "      <td>Self-emp-not-inc</td>\n",
              "      <td>Bachelors</td>\n",
              "      <td>Married-civ-spouse</td>\n",
              "      <td>Exec-managerial</td>\n",
              "      <td>Husband</td>\n",
              "      <td>White</td>\n",
              "      <td>Male</td>\n",
              "      <td>United-States</td>\n",
              "      <td>5</td>\n",
              "      <td>Bachelors- Exec-managerial</td>\n",
              "      <td>United-States- Exec-managerial</td>\n",
              "    </tr>\n",
              "    <tr>\n",
              "      <th>2</th>\n",
              "      <td>Private</td>\n",
              "      <td>HS-grad</td>\n",
              "      <td>Divorced</td>\n",
              "      <td>Handlers-cleaners</td>\n",
              "      <td>Not-in-family</td>\n",
              "      <td>White</td>\n",
              "      <td>Male</td>\n",
              "      <td>United-States</td>\n",
              "      <td>3</td>\n",
              "      <td>HS-grad- Handlers-cleaners</td>\n",
              "      <td>United-States- Handlers-cleaners</td>\n",
              "    </tr>\n",
              "    <tr>\n",
              "      <th>3</th>\n",
              "      <td>Private</td>\n",
              "      <td>11th</td>\n",
              "      <td>Married-civ-spouse</td>\n",
              "      <td>Handlers-cleaners</td>\n",
              "      <td>Husband</td>\n",
              "      <td>Black</td>\n",
              "      <td>Male</td>\n",
              "      <td>United-States</td>\n",
              "      <td>6</td>\n",
              "      <td>11th- Handlers-cleaners</td>\n",
              "      <td>United-States- Handlers-cleaners</td>\n",
              "    </tr>\n",
              "    <tr>\n",
              "      <th>4</th>\n",
              "      <td>Private</td>\n",
              "      <td>Bachelors</td>\n",
              "      <td>Married-civ-spouse</td>\n",
              "      <td>Prof-specialty</td>\n",
              "      <td>Wife</td>\n",
              "      <td>Black</td>\n",
              "      <td>Female</td>\n",
              "      <td>Cuba</td>\n",
              "      <td>1</td>\n",
              "      <td>Bachelors- Prof-specialty</td>\n",
              "      <td>Cuba- Prof-specialty</td>\n",
              "    </tr>\n",
              "  </tbody>\n",
              "</table>\n",
              "</div>"
            ],
            "text/plain": [
              "           workclass  ...          native_country_occupation\n",
              "0          State-gov  ...        United-States- Adm-clerical\n",
              "1   Self-emp-not-inc  ...     United-States- Exec-managerial\n",
              "2            Private  ...   United-States- Handlers-cleaners\n",
              "3            Private  ...   United-States- Handlers-cleaners\n",
              "4            Private  ...               Cuba- Prof-specialty\n",
              "\n",
              "[5 rows x 11 columns]"
            ]
          },
          "metadata": {
            "tags": []
          },
          "execution_count": 341
        }
      ]
    },
    {
      "cell_type": "markdown",
      "metadata": {
        "id": "aU5QXjbAGXBi",
        "colab_type": "text"
      },
      "source": [
        "pd.get_dummies()를 이용해 가변수 (dummy var) 만들기 - 원-핫 인코딩"
      ]
    },
    {
      "cell_type": "code",
      "metadata": {
        "id": "3AZQ_rW-FUQ8",
        "colab_type": "code",
        "outputId": "87d34401-6282-48e8-fddc-d12d662a30b1",
        "colab": {
          "base_uri": "https://localhost:8080/",
          "height": 34
        }
      },
      "source": [
        "dummy_cols = wide_cols + crossed_columns\n",
        "df_adult_wide = pd.get_dummies(df_adult_wide, columns=dummy_cols)\n",
        "print(df_adult_wide.shape)"
      ],
      "execution_count": 342,
      "outputs": [
        {
          "output_type": "stream",
          "text": [
            "(32561, 770)\n"
          ],
          "name": "stdout"
        }
      ]
    },
    {
      "cell_type": "code",
      "metadata": {
        "id": "G-7xCQm2Fy5s",
        "colab_type": "code",
        "outputId": "9e367d29-5a0e-4366-a134-a3bf68f85ecf",
        "colab": {
          "base_uri": "https://localhost:8080/",
          "height": 287
        }
      },
      "source": [
        "df_adult_wide.head()"
      ],
      "execution_count": 343,
      "outputs": [
        {
          "output_type": "execute_result",
          "data": {
            "text/html": [
              "<div>\n",
              "<style scoped>\n",
              "    .dataframe tbody tr th:only-of-type {\n",
              "        vertical-align: middle;\n",
              "    }\n",
              "\n",
              "    .dataframe tbody tr th {\n",
              "        vertical-align: top;\n",
              "    }\n",
              "\n",
              "    .dataframe thead th {\n",
              "        text-align: right;\n",
              "    }\n",
              "</style>\n",
              "<table border=\"1\" class=\"dataframe\">\n",
              "  <thead>\n",
              "    <tr style=\"text-align: right;\">\n",
              "      <th></th>\n",
              "      <th>workclass_ ?</th>\n",
              "      <th>workclass_ Federal-gov</th>\n",
              "      <th>workclass_ Local-gov</th>\n",
              "      <th>workclass_ Never-worked</th>\n",
              "      <th>workclass_ Private</th>\n",
              "      <th>workclass_ Self-emp-inc</th>\n",
              "      <th>workclass_ Self-emp-not-inc</th>\n",
              "      <th>workclass_ State-gov</th>\n",
              "      <th>workclass_ Without-pay</th>\n",
              "      <th>education_ 10th</th>\n",
              "      <th>education_ 11th</th>\n",
              "      <th>education_ 12th</th>\n",
              "      <th>education_ 1st-4th</th>\n",
              "      <th>education_ 5th-6th</th>\n",
              "      <th>education_ 7th-8th</th>\n",
              "      <th>education_ 9th</th>\n",
              "      <th>education_ Assoc-acdm</th>\n",
              "      <th>education_ Assoc-voc</th>\n",
              "      <th>education_ Bachelors</th>\n",
              "      <th>education_ Doctorate</th>\n",
              "      <th>education_ HS-grad</th>\n",
              "      <th>education_ Masters</th>\n",
              "      <th>education_ Preschool</th>\n",
              "      <th>education_ Prof-school</th>\n",
              "      <th>education_ Some-college</th>\n",
              "      <th>marital_status_ Divorced</th>\n",
              "      <th>marital_status_ Married-AF-spouse</th>\n",
              "      <th>marital_status_ Married-civ-spouse</th>\n",
              "      <th>marital_status_ Married-spouse-absent</th>\n",
              "      <th>marital_status_ Never-married</th>\n",
              "      <th>marital_status_ Separated</th>\n",
              "      <th>marital_status_ Widowed</th>\n",
              "      <th>occupation_ ?</th>\n",
              "      <th>occupation_ Adm-clerical</th>\n",
              "      <th>occupation_ Armed-Forces</th>\n",
              "      <th>occupation_ Craft-repair</th>\n",
              "      <th>occupation_ Exec-managerial</th>\n",
              "      <th>occupation_ Farming-fishing</th>\n",
              "      <th>occupation_ Handlers-cleaners</th>\n",
              "      <th>occupation_ Machine-op-inspct</th>\n",
              "      <th>...</th>\n",
              "      <th>native_country_occupation_ Trinadad&amp;Tobago- Machine-op-inspct</th>\n",
              "      <th>native_country_occupation_ Trinadad&amp;Tobago- Other-service</th>\n",
              "      <th>native_country_occupation_ Trinadad&amp;Tobago- Prof-specialty</th>\n",
              "      <th>native_country_occupation_ Trinadad&amp;Tobago- Sales</th>\n",
              "      <th>native_country_occupation_ Trinadad&amp;Tobago- Tech-support</th>\n",
              "      <th>native_country_occupation_ Trinadad&amp;Tobago- Transport-moving</th>\n",
              "      <th>native_country_occupation_ United-States- ?</th>\n",
              "      <th>native_country_occupation_ United-States- Adm-clerical</th>\n",
              "      <th>native_country_occupation_ United-States- Armed-Forces</th>\n",
              "      <th>native_country_occupation_ United-States- Craft-repair</th>\n",
              "      <th>native_country_occupation_ United-States- Exec-managerial</th>\n",
              "      <th>native_country_occupation_ United-States- Farming-fishing</th>\n",
              "      <th>native_country_occupation_ United-States- Handlers-cleaners</th>\n",
              "      <th>native_country_occupation_ United-States- Machine-op-inspct</th>\n",
              "      <th>native_country_occupation_ United-States- Other-service</th>\n",
              "      <th>native_country_occupation_ United-States- Priv-house-serv</th>\n",
              "      <th>native_country_occupation_ United-States- Prof-specialty</th>\n",
              "      <th>native_country_occupation_ United-States- Protective-serv</th>\n",
              "      <th>native_country_occupation_ United-States- Sales</th>\n",
              "      <th>native_country_occupation_ United-States- Tech-support</th>\n",
              "      <th>native_country_occupation_ United-States- Transport-moving</th>\n",
              "      <th>native_country_occupation_ Vietnam- ?</th>\n",
              "      <th>native_country_occupation_ Vietnam- Adm-clerical</th>\n",
              "      <th>native_country_occupation_ Vietnam- Craft-repair</th>\n",
              "      <th>native_country_occupation_ Vietnam- Exec-managerial</th>\n",
              "      <th>native_country_occupation_ Vietnam- Farming-fishing</th>\n",
              "      <th>native_country_occupation_ Vietnam- Handlers-cleaners</th>\n",
              "      <th>native_country_occupation_ Vietnam- Machine-op-inspct</th>\n",
              "      <th>native_country_occupation_ Vietnam- Other-service</th>\n",
              "      <th>native_country_occupation_ Vietnam- Prof-specialty</th>\n",
              "      <th>native_country_occupation_ Vietnam- Sales</th>\n",
              "      <th>native_country_occupation_ Vietnam- Tech-support</th>\n",
              "      <th>native_country_occupation_ Vietnam- Transport-moving</th>\n",
              "      <th>native_country_occupation_ Yugoslavia- Adm-clerical</th>\n",
              "      <th>native_country_occupation_ Yugoslavia- Craft-repair</th>\n",
              "      <th>native_country_occupation_ Yugoslavia- Exec-managerial</th>\n",
              "      <th>native_country_occupation_ Yugoslavia- Farming-fishing</th>\n",
              "      <th>native_country_occupation_ Yugoslavia- Machine-op-inspct</th>\n",
              "      <th>native_country_occupation_ Yugoslavia- Other-service</th>\n",
              "      <th>native_country_occupation_ Yugoslavia- Transport-moving</th>\n",
              "    </tr>\n",
              "  </thead>\n",
              "  <tbody>\n",
              "    <tr>\n",
              "      <th>0</th>\n",
              "      <td>0</td>\n",
              "      <td>0</td>\n",
              "      <td>0</td>\n",
              "      <td>0</td>\n",
              "      <td>0</td>\n",
              "      <td>0</td>\n",
              "      <td>0</td>\n",
              "      <td>1</td>\n",
              "      <td>0</td>\n",
              "      <td>0</td>\n",
              "      <td>0</td>\n",
              "      <td>0</td>\n",
              "      <td>0</td>\n",
              "      <td>0</td>\n",
              "      <td>0</td>\n",
              "      <td>0</td>\n",
              "      <td>0</td>\n",
              "      <td>0</td>\n",
              "      <td>1</td>\n",
              "      <td>0</td>\n",
              "      <td>0</td>\n",
              "      <td>0</td>\n",
              "      <td>0</td>\n",
              "      <td>0</td>\n",
              "      <td>0</td>\n",
              "      <td>0</td>\n",
              "      <td>0</td>\n",
              "      <td>0</td>\n",
              "      <td>0</td>\n",
              "      <td>1</td>\n",
              "      <td>0</td>\n",
              "      <td>0</td>\n",
              "      <td>0</td>\n",
              "      <td>1</td>\n",
              "      <td>0</td>\n",
              "      <td>0</td>\n",
              "      <td>0</td>\n",
              "      <td>0</td>\n",
              "      <td>0</td>\n",
              "      <td>0</td>\n",
              "      <td>...</td>\n",
              "      <td>0</td>\n",
              "      <td>0</td>\n",
              "      <td>0</td>\n",
              "      <td>0</td>\n",
              "      <td>0</td>\n",
              "      <td>0</td>\n",
              "      <td>0</td>\n",
              "      <td>1</td>\n",
              "      <td>0</td>\n",
              "      <td>0</td>\n",
              "      <td>0</td>\n",
              "      <td>0</td>\n",
              "      <td>0</td>\n",
              "      <td>0</td>\n",
              "      <td>0</td>\n",
              "      <td>0</td>\n",
              "      <td>0</td>\n",
              "      <td>0</td>\n",
              "      <td>0</td>\n",
              "      <td>0</td>\n",
              "      <td>0</td>\n",
              "      <td>0</td>\n",
              "      <td>0</td>\n",
              "      <td>0</td>\n",
              "      <td>0</td>\n",
              "      <td>0</td>\n",
              "      <td>0</td>\n",
              "      <td>0</td>\n",
              "      <td>0</td>\n",
              "      <td>0</td>\n",
              "      <td>0</td>\n",
              "      <td>0</td>\n",
              "      <td>0</td>\n",
              "      <td>0</td>\n",
              "      <td>0</td>\n",
              "      <td>0</td>\n",
              "      <td>0</td>\n",
              "      <td>0</td>\n",
              "      <td>0</td>\n",
              "      <td>0</td>\n",
              "    </tr>\n",
              "    <tr>\n",
              "      <th>1</th>\n",
              "      <td>0</td>\n",
              "      <td>0</td>\n",
              "      <td>0</td>\n",
              "      <td>0</td>\n",
              "      <td>0</td>\n",
              "      <td>0</td>\n",
              "      <td>1</td>\n",
              "      <td>0</td>\n",
              "      <td>0</td>\n",
              "      <td>0</td>\n",
              "      <td>0</td>\n",
              "      <td>0</td>\n",
              "      <td>0</td>\n",
              "      <td>0</td>\n",
              "      <td>0</td>\n",
              "      <td>0</td>\n",
              "      <td>0</td>\n",
              "      <td>0</td>\n",
              "      <td>1</td>\n",
              "      <td>0</td>\n",
              "      <td>0</td>\n",
              "      <td>0</td>\n",
              "      <td>0</td>\n",
              "      <td>0</td>\n",
              "      <td>0</td>\n",
              "      <td>0</td>\n",
              "      <td>0</td>\n",
              "      <td>1</td>\n",
              "      <td>0</td>\n",
              "      <td>0</td>\n",
              "      <td>0</td>\n",
              "      <td>0</td>\n",
              "      <td>0</td>\n",
              "      <td>0</td>\n",
              "      <td>0</td>\n",
              "      <td>0</td>\n",
              "      <td>1</td>\n",
              "      <td>0</td>\n",
              "      <td>0</td>\n",
              "      <td>0</td>\n",
              "      <td>...</td>\n",
              "      <td>0</td>\n",
              "      <td>0</td>\n",
              "      <td>0</td>\n",
              "      <td>0</td>\n",
              "      <td>0</td>\n",
              "      <td>0</td>\n",
              "      <td>0</td>\n",
              "      <td>0</td>\n",
              "      <td>0</td>\n",
              "      <td>0</td>\n",
              "      <td>1</td>\n",
              "      <td>0</td>\n",
              "      <td>0</td>\n",
              "      <td>0</td>\n",
              "      <td>0</td>\n",
              "      <td>0</td>\n",
              "      <td>0</td>\n",
              "      <td>0</td>\n",
              "      <td>0</td>\n",
              "      <td>0</td>\n",
              "      <td>0</td>\n",
              "      <td>0</td>\n",
              "      <td>0</td>\n",
              "      <td>0</td>\n",
              "      <td>0</td>\n",
              "      <td>0</td>\n",
              "      <td>0</td>\n",
              "      <td>0</td>\n",
              "      <td>0</td>\n",
              "      <td>0</td>\n",
              "      <td>0</td>\n",
              "      <td>0</td>\n",
              "      <td>0</td>\n",
              "      <td>0</td>\n",
              "      <td>0</td>\n",
              "      <td>0</td>\n",
              "      <td>0</td>\n",
              "      <td>0</td>\n",
              "      <td>0</td>\n",
              "      <td>0</td>\n",
              "    </tr>\n",
              "    <tr>\n",
              "      <th>2</th>\n",
              "      <td>0</td>\n",
              "      <td>0</td>\n",
              "      <td>0</td>\n",
              "      <td>0</td>\n",
              "      <td>1</td>\n",
              "      <td>0</td>\n",
              "      <td>0</td>\n",
              "      <td>0</td>\n",
              "      <td>0</td>\n",
              "      <td>0</td>\n",
              "      <td>0</td>\n",
              "      <td>0</td>\n",
              "      <td>0</td>\n",
              "      <td>0</td>\n",
              "      <td>0</td>\n",
              "      <td>0</td>\n",
              "      <td>0</td>\n",
              "      <td>0</td>\n",
              "      <td>0</td>\n",
              "      <td>0</td>\n",
              "      <td>1</td>\n",
              "      <td>0</td>\n",
              "      <td>0</td>\n",
              "      <td>0</td>\n",
              "      <td>0</td>\n",
              "      <td>1</td>\n",
              "      <td>0</td>\n",
              "      <td>0</td>\n",
              "      <td>0</td>\n",
              "      <td>0</td>\n",
              "      <td>0</td>\n",
              "      <td>0</td>\n",
              "      <td>0</td>\n",
              "      <td>0</td>\n",
              "      <td>0</td>\n",
              "      <td>0</td>\n",
              "      <td>0</td>\n",
              "      <td>0</td>\n",
              "      <td>1</td>\n",
              "      <td>0</td>\n",
              "      <td>...</td>\n",
              "      <td>0</td>\n",
              "      <td>0</td>\n",
              "      <td>0</td>\n",
              "      <td>0</td>\n",
              "      <td>0</td>\n",
              "      <td>0</td>\n",
              "      <td>0</td>\n",
              "      <td>0</td>\n",
              "      <td>0</td>\n",
              "      <td>0</td>\n",
              "      <td>0</td>\n",
              "      <td>0</td>\n",
              "      <td>1</td>\n",
              "      <td>0</td>\n",
              "      <td>0</td>\n",
              "      <td>0</td>\n",
              "      <td>0</td>\n",
              "      <td>0</td>\n",
              "      <td>0</td>\n",
              "      <td>0</td>\n",
              "      <td>0</td>\n",
              "      <td>0</td>\n",
              "      <td>0</td>\n",
              "      <td>0</td>\n",
              "      <td>0</td>\n",
              "      <td>0</td>\n",
              "      <td>0</td>\n",
              "      <td>0</td>\n",
              "      <td>0</td>\n",
              "      <td>0</td>\n",
              "      <td>0</td>\n",
              "      <td>0</td>\n",
              "      <td>0</td>\n",
              "      <td>0</td>\n",
              "      <td>0</td>\n",
              "      <td>0</td>\n",
              "      <td>0</td>\n",
              "      <td>0</td>\n",
              "      <td>0</td>\n",
              "      <td>0</td>\n",
              "    </tr>\n",
              "    <tr>\n",
              "      <th>3</th>\n",
              "      <td>0</td>\n",
              "      <td>0</td>\n",
              "      <td>0</td>\n",
              "      <td>0</td>\n",
              "      <td>1</td>\n",
              "      <td>0</td>\n",
              "      <td>0</td>\n",
              "      <td>0</td>\n",
              "      <td>0</td>\n",
              "      <td>0</td>\n",
              "      <td>1</td>\n",
              "      <td>0</td>\n",
              "      <td>0</td>\n",
              "      <td>0</td>\n",
              "      <td>0</td>\n",
              "      <td>0</td>\n",
              "      <td>0</td>\n",
              "      <td>0</td>\n",
              "      <td>0</td>\n",
              "      <td>0</td>\n",
              "      <td>0</td>\n",
              "      <td>0</td>\n",
              "      <td>0</td>\n",
              "      <td>0</td>\n",
              "      <td>0</td>\n",
              "      <td>0</td>\n",
              "      <td>0</td>\n",
              "      <td>1</td>\n",
              "      <td>0</td>\n",
              "      <td>0</td>\n",
              "      <td>0</td>\n",
              "      <td>0</td>\n",
              "      <td>0</td>\n",
              "      <td>0</td>\n",
              "      <td>0</td>\n",
              "      <td>0</td>\n",
              "      <td>0</td>\n",
              "      <td>0</td>\n",
              "      <td>1</td>\n",
              "      <td>0</td>\n",
              "      <td>...</td>\n",
              "      <td>0</td>\n",
              "      <td>0</td>\n",
              "      <td>0</td>\n",
              "      <td>0</td>\n",
              "      <td>0</td>\n",
              "      <td>0</td>\n",
              "      <td>0</td>\n",
              "      <td>0</td>\n",
              "      <td>0</td>\n",
              "      <td>0</td>\n",
              "      <td>0</td>\n",
              "      <td>0</td>\n",
              "      <td>1</td>\n",
              "      <td>0</td>\n",
              "      <td>0</td>\n",
              "      <td>0</td>\n",
              "      <td>0</td>\n",
              "      <td>0</td>\n",
              "      <td>0</td>\n",
              "      <td>0</td>\n",
              "      <td>0</td>\n",
              "      <td>0</td>\n",
              "      <td>0</td>\n",
              "      <td>0</td>\n",
              "      <td>0</td>\n",
              "      <td>0</td>\n",
              "      <td>0</td>\n",
              "      <td>0</td>\n",
              "      <td>0</td>\n",
              "      <td>0</td>\n",
              "      <td>0</td>\n",
              "      <td>0</td>\n",
              "      <td>0</td>\n",
              "      <td>0</td>\n",
              "      <td>0</td>\n",
              "      <td>0</td>\n",
              "      <td>0</td>\n",
              "      <td>0</td>\n",
              "      <td>0</td>\n",
              "      <td>0</td>\n",
              "    </tr>\n",
              "    <tr>\n",
              "      <th>4</th>\n",
              "      <td>0</td>\n",
              "      <td>0</td>\n",
              "      <td>0</td>\n",
              "      <td>0</td>\n",
              "      <td>1</td>\n",
              "      <td>0</td>\n",
              "      <td>0</td>\n",
              "      <td>0</td>\n",
              "      <td>0</td>\n",
              "      <td>0</td>\n",
              "      <td>0</td>\n",
              "      <td>0</td>\n",
              "      <td>0</td>\n",
              "      <td>0</td>\n",
              "      <td>0</td>\n",
              "      <td>0</td>\n",
              "      <td>0</td>\n",
              "      <td>0</td>\n",
              "      <td>1</td>\n",
              "      <td>0</td>\n",
              "      <td>0</td>\n",
              "      <td>0</td>\n",
              "      <td>0</td>\n",
              "      <td>0</td>\n",
              "      <td>0</td>\n",
              "      <td>0</td>\n",
              "      <td>0</td>\n",
              "      <td>1</td>\n",
              "      <td>0</td>\n",
              "      <td>0</td>\n",
              "      <td>0</td>\n",
              "      <td>0</td>\n",
              "      <td>0</td>\n",
              "      <td>0</td>\n",
              "      <td>0</td>\n",
              "      <td>0</td>\n",
              "      <td>0</td>\n",
              "      <td>0</td>\n",
              "      <td>0</td>\n",
              "      <td>0</td>\n",
              "      <td>...</td>\n",
              "      <td>0</td>\n",
              "      <td>0</td>\n",
              "      <td>0</td>\n",
              "      <td>0</td>\n",
              "      <td>0</td>\n",
              "      <td>0</td>\n",
              "      <td>0</td>\n",
              "      <td>0</td>\n",
              "      <td>0</td>\n",
              "      <td>0</td>\n",
              "      <td>0</td>\n",
              "      <td>0</td>\n",
              "      <td>0</td>\n",
              "      <td>0</td>\n",
              "      <td>0</td>\n",
              "      <td>0</td>\n",
              "      <td>0</td>\n",
              "      <td>0</td>\n",
              "      <td>0</td>\n",
              "      <td>0</td>\n",
              "      <td>0</td>\n",
              "      <td>0</td>\n",
              "      <td>0</td>\n",
              "      <td>0</td>\n",
              "      <td>0</td>\n",
              "      <td>0</td>\n",
              "      <td>0</td>\n",
              "      <td>0</td>\n",
              "      <td>0</td>\n",
              "      <td>0</td>\n",
              "      <td>0</td>\n",
              "      <td>0</td>\n",
              "      <td>0</td>\n",
              "      <td>0</td>\n",
              "      <td>0</td>\n",
              "      <td>0</td>\n",
              "      <td>0</td>\n",
              "      <td>0</td>\n",
              "      <td>0</td>\n",
              "      <td>0</td>\n",
              "    </tr>\n",
              "  </tbody>\n",
              "</table>\n",
              "<p>5 rows × 770 columns</p>\n",
              "</div>"
            ],
            "text/plain": [
              "   workclass_ ?  ...  native_country_occupation_ Yugoslavia- Transport-moving\n",
              "0             0  ...                                                  0      \n",
              "1             0  ...                                                  0      \n",
              "2             0  ...                                                  0      \n",
              "3             0  ...                                                  0      \n",
              "4             0  ...                                                  0      \n",
              "\n",
              "[5 rows x 770 columns]"
            ]
          },
          "metadata": {
            "tags": []
          },
          "execution_count": 343
        }
      ]
    },
    {
      "cell_type": "markdown",
      "metadata": {
        "id": "TMdpQmT2IUfn",
        "colab_type": "text"
      },
      "source": [
        "deep-dense 사이드 모델에 사용할 컬럼을 정의한다.   \n",
        "임베딩으로 표현되어 Dense 레이어로 들어갈 예정이다."
      ]
    },
    {
      "cell_type": "code",
      "metadata": {
        "id": "KwFF84VqIoKK",
        "colab_type": "code",
        "colab": {}
      },
      "source": [
        "# embeddings_cols = [(column_name, dimension of the corresponding embeddings)]\n",
        "embeddings_cols = [('workclass', 10),\n",
        "                   ('education', 10),\n",
        "                   ('occupation', 10),\n",
        "                   ('relationship', 8),\n",
        "                   ('native_country', 10)]\n",
        "continuous_cols = ['age', 'wrk_hrs_per_week', 'capital-gain', 'capital-loss']"
      ],
      "execution_count": 0,
      "outputs": []
    },
    {
      "cell_type": "code",
      "metadata": {
        "id": "A0YvwXdKJ3v3",
        "colab_type": "code",
        "outputId": "1905eb24-d376-461f-8940-4488fb6a8d83",
        "colab": {
          "base_uri": "https://localhost:8080/",
          "height": 170
        }
      },
      "source": [
        "def_dum = 8\n",
        "if type(embeddings_cols[0]) is tuple:\n",
        "  emb_dim = dict(embeddings_cols)\n",
        "  embeddings_cols = [emb[0] for emb in embeddings_cols]\n",
        "else:\n",
        "  emb_dim = {e:def_dim for e in embeddings_cols}\n",
        "  embeddings_cols = embeddings_cols\n",
        "deep_cols = embeddings_cols + continuous_cols\n",
        "deep_cols"
      ],
      "execution_count": 345,
      "outputs": [
        {
          "output_type": "execute_result",
          "data": {
            "text/plain": [
              "['workclass',\n",
              " 'education',\n",
              " 'occupation',\n",
              " 'relationship',\n",
              " 'native_country',\n",
              " 'age',\n",
              " 'wrk_hrs_per_week',\n",
              " 'capital-gain',\n",
              " 'capital-loss']"
            ]
          },
          "metadata": {
            "tags": []
          },
          "execution_count": 345
        }
      ]
    },
    {
      "cell_type": "code",
      "metadata": {
        "id": "5tmLldEiJwyp",
        "colab_type": "code",
        "outputId": "b88e8f0d-d388-4f11-d96c-cf3e8f97fccb",
        "colab": {
          "base_uri": "https://localhost:8080/",
          "height": 34
        }
      },
      "source": [
        "df_adult_deep = raw_data.copy()[deep_cols]\n",
        "categorical_columns = list(df_adult_deep.select_dtypes(include=['object']).columns)\n",
        "categorical_columns"
      ],
      "execution_count": 346,
      "outputs": [
        {
          "output_type": "execute_result",
          "data": {
            "text/plain": [
              "['workclass', 'education', 'occupation', 'relationship', 'native_country']"
            ]
          },
          "metadata": {
            "tags": []
          },
          "execution_count": 346
        }
      ]
    },
    {
      "cell_type": "markdown",
      "metadata": {
        "id": "Vdtn4iUfM2iH",
        "colab_type": "text"
      },
      "source": [
        "카테고리컬 컬럼들을 'label encode' 한다."
      ]
    },
    {
      "cell_type": "code",
      "metadata": {
        "id": "dx0_PkrQNB-h",
        "colab_type": "code",
        "colab": {}
      },
      "source": [
        "def label_encode(df_input, cols=None, val_to_idx=None):\n",
        "  df = df_input.copy()\n",
        "  if cols == None:\n",
        "    cols = list(df.select_dtypes(include=['object']).columns)\n",
        "\n",
        "  if not val_to_idx:\n",
        "    val_types = dict()\n",
        "    for c in cols:\n",
        "      val_types[c] = df[c].unique() # 각 카테고리 컬럼의 항목을 넣는다. \n",
        "\n",
        "      val_to_idx = dict()\n",
        "      for k, v in val_types.items(): # 카테고리 컬럼 이름, 카테고리 항목\n",
        "        val_to_idx[k] = {o: i for i, o in enumerate(val_types[k])}\n",
        "\n",
        "  for k, v in val_to_idx.items():\n",
        "    df[k] = df[k].apply(lambda x: v[x])\n",
        "  \n",
        "  return df, val_to_idx"
      ],
      "execution_count": 0,
      "outputs": []
    },
    {
      "cell_type": "code",
      "metadata": {
        "id": "RGidGtIuOseU",
        "colab_type": "code",
        "colab": {}
      },
      "source": [
        "df_adult_deep, encoding_dict = label_encode(df_adult_deep, cols=categorical_columns)\n",
        "embeddings_encoding_dict = {k:encoding_dict[k] for k in encoding_dict if k in deep_cols}\n",
        "embeddings_input = []\n",
        "for k, v in embeddings_encoding_dict.items():\n",
        "  embeddings_input.append((k, len(v), emb_dim[k]))\n",
        "\n",
        "deep_column_idx = {k:v for v,k in enumerate(df_adult_deep.columns)}"
      ],
      "execution_count": 0,
      "outputs": []
    },
    {
      "cell_type": "code",
      "metadata": {
        "id": "92a7Ht0kXszq",
        "colab_type": "code",
        "outputId": "05401721-1325-43a1-b566-4f7b94c02650",
        "colab": {
          "base_uri": "https://localhost:8080/",
          "height": 170
        }
      },
      "source": [
        "deep_column_idx"
      ],
      "execution_count": 349,
      "outputs": [
        {
          "output_type": "execute_result",
          "data": {
            "text/plain": [
              "{'age': 5,\n",
              " 'capital-gain': 7,\n",
              " 'capital-loss': 8,\n",
              " 'education': 1,\n",
              " 'native_country': 4,\n",
              " 'occupation': 2,\n",
              " 'relationship': 3,\n",
              " 'workclass': 0,\n",
              " 'wrk_hrs_per_week': 6}"
            ]
          },
          "metadata": {
            "tags": []
          },
          "execution_count": 349
        }
      ]
    },
    {
      "cell_type": "code",
      "metadata": {
        "id": "LKTLrXj2RBGo",
        "colab_type": "code",
        "outputId": "2b9a5e9e-7ef4-4753-bfef-6db4c00a4e02",
        "colab": {
          "base_uri": "https://localhost:8080/",
          "height": 1000
        }
      },
      "source": [
        "embeddings_encoding_dict"
      ],
      "execution_count": 350,
      "outputs": [
        {
          "output_type": "execute_result",
          "data": {
            "text/plain": [
              "{'education': {' 10th': 12,\n",
              "  ' 11th': 2,\n",
              "  ' 12th': 15,\n",
              "  ' 1st-4th': 13,\n",
              "  ' 5th-6th': 11,\n",
              "  ' 7th-8th': 8,\n",
              "  ' 9th': 4,\n",
              "  ' Assoc-acdm': 6,\n",
              "  ' Assoc-voc': 7,\n",
              "  ' Bachelors': 0,\n",
              "  ' Doctorate': 9,\n",
              "  ' HS-grad': 1,\n",
              "  ' Masters': 3,\n",
              "  ' Preschool': 14,\n",
              "  ' Prof-school': 10,\n",
              "  ' Some-college': 5},\n",
              " 'native_country': {' ?': 4,\n",
              "  ' Cambodia': 17,\n",
              "  ' Canada': 10,\n",
              "  ' China': 28,\n",
              "  ' Columbia': 16,\n",
              "  ' Cuba': 1,\n",
              "  ' Dominican-Republic': 24,\n",
              "  ' Ecuador': 19,\n",
              "  ' El-Salvador': 25,\n",
              "  ' England': 9,\n",
              "  ' France': 26,\n",
              "  ' Germany': 11,\n",
              "  ' Greece': 35,\n",
              "  ' Guatemala': 27,\n",
              "  ' Haiti': 22,\n",
              "  ' Holand-Netherlands': 41,\n",
              "  ' Honduras': 8,\n",
              "  ' Hong': 38,\n",
              "  ' Hungary': 40,\n",
              "  ' India': 3,\n",
              "  ' Iran': 12,\n",
              "  ' Ireland': 39,\n",
              "  ' Italy': 14,\n",
              "  ' Jamaica': 2,\n",
              "  ' Japan': 29,\n",
              "  ' Laos': 20,\n",
              "  ' Mexico': 5,\n",
              "  ' Nicaragua': 36,\n",
              "  ' Outlying-US(Guam-USVI-etc)': 32,\n",
              "  ' Peru': 31,\n",
              "  ' Philippines': 13,\n",
              "  ' Poland': 15,\n",
              "  ' Portugal': 23,\n",
              "  ' Puerto-Rico': 7,\n",
              "  ' Scotland': 33,\n",
              "  ' South': 6,\n",
              "  ' Taiwan': 21,\n",
              "  ' Thailand': 18,\n",
              "  ' Trinadad&Tobago': 34,\n",
              "  ' United-States': 0,\n",
              "  ' Vietnam': 37,\n",
              "  ' Yugoslavia': 30},\n",
              " 'occupation': {' ?': 11,\n",
              "  ' Adm-clerical': 0,\n",
              "  ' Armed-Forces': 13,\n",
              "  ' Craft-repair': 6,\n",
              "  ' Exec-managerial': 1,\n",
              "  ' Farming-fishing': 8,\n",
              "  ' Handlers-cleaners': 2,\n",
              "  ' Machine-op-inspct': 9,\n",
              "  ' Other-service': 4,\n",
              "  ' Priv-house-serv': 14,\n",
              "  ' Prof-specialty': 3,\n",
              "  ' Protective-serv': 12,\n",
              "  ' Sales': 5,\n",
              "  ' Tech-support': 10,\n",
              "  ' Transport-moving': 7},\n",
              " 'relationship': {' Husband': 1,\n",
              "  ' Not-in-family': 0,\n",
              "  ' Other-relative': 5,\n",
              "  ' Own-child': 3,\n",
              "  ' Unmarried': 4,\n",
              "  ' Wife': 2},\n",
              " 'workclass': {' ?': 5,\n",
              "  ' Federal-gov': 3,\n",
              "  ' Local-gov': 4,\n",
              "  ' Never-worked': 8,\n",
              "  ' Private': 2,\n",
              "  ' Self-emp-inc': 6,\n",
              "  ' Self-emp-not-inc': 1,\n",
              "  ' State-gov': 0,\n",
              "  ' Without-pay': 7}}"
            ]
          },
          "metadata": {
            "tags": []
          },
          "execution_count": 350
        }
      ]
    },
    {
      "cell_type": "code",
      "metadata": {
        "id": "zmPwOls_RQKa",
        "colab_type": "code",
        "outputId": "f36de7ed-9a54-4fe4-bc3f-0d47e52437f0",
        "colab": {
          "base_uri": "https://localhost:8080/",
          "height": 102
        }
      },
      "source": [
        "embeddings_input"
      ],
      "execution_count": 351,
      "outputs": [
        {
          "output_type": "execute_result",
          "data": {
            "text/plain": [
              "[('workclass', 9, 10),\n",
              " ('education', 16, 10),\n",
              " ('occupation', 15, 10),\n",
              " ('relationship', 6, 8),\n",
              " ('native_country', 42, 10)]"
            ]
          },
          "metadata": {
            "tags": []
          },
          "execution_count": 351
        }
      ]
    },
    {
      "cell_type": "code",
      "metadata": {
        "id": "AvZGwvyrRYak",
        "colab_type": "code",
        "outputId": "59d62509-0591-4028-9e9e-8de1b20e28e0",
        "colab": {
          "base_uri": "https://localhost:8080/",
          "height": 204
        }
      },
      "source": [
        "df_adult_deep.head()"
      ],
      "execution_count": 352,
      "outputs": [
        {
          "output_type": "execute_result",
          "data": {
            "text/html": [
              "<div>\n",
              "<style scoped>\n",
              "    .dataframe tbody tr th:only-of-type {\n",
              "        vertical-align: middle;\n",
              "    }\n",
              "\n",
              "    .dataframe tbody tr th {\n",
              "        vertical-align: top;\n",
              "    }\n",
              "\n",
              "    .dataframe thead th {\n",
              "        text-align: right;\n",
              "    }\n",
              "</style>\n",
              "<table border=\"1\" class=\"dataframe\">\n",
              "  <thead>\n",
              "    <tr style=\"text-align: right;\">\n",
              "      <th></th>\n",
              "      <th>workclass</th>\n",
              "      <th>education</th>\n",
              "      <th>occupation</th>\n",
              "      <th>relationship</th>\n",
              "      <th>native_country</th>\n",
              "      <th>age</th>\n",
              "      <th>wrk_hrs_per_week</th>\n",
              "      <th>capital-gain</th>\n",
              "      <th>capital-loss</th>\n",
              "    </tr>\n",
              "  </thead>\n",
              "  <tbody>\n",
              "    <tr>\n",
              "      <th>0</th>\n",
              "      <td>0</td>\n",
              "      <td>0</td>\n",
              "      <td>0</td>\n",
              "      <td>0</td>\n",
              "      <td>0</td>\n",
              "      <td>39</td>\n",
              "      <td>40</td>\n",
              "      <td>2174</td>\n",
              "      <td>0</td>\n",
              "    </tr>\n",
              "    <tr>\n",
              "      <th>1</th>\n",
              "      <td>1</td>\n",
              "      <td>0</td>\n",
              "      <td>1</td>\n",
              "      <td>1</td>\n",
              "      <td>0</td>\n",
              "      <td>50</td>\n",
              "      <td>13</td>\n",
              "      <td>0</td>\n",
              "      <td>0</td>\n",
              "    </tr>\n",
              "    <tr>\n",
              "      <th>2</th>\n",
              "      <td>2</td>\n",
              "      <td>1</td>\n",
              "      <td>2</td>\n",
              "      <td>0</td>\n",
              "      <td>0</td>\n",
              "      <td>38</td>\n",
              "      <td>40</td>\n",
              "      <td>0</td>\n",
              "      <td>0</td>\n",
              "    </tr>\n",
              "    <tr>\n",
              "      <th>3</th>\n",
              "      <td>2</td>\n",
              "      <td>2</td>\n",
              "      <td>2</td>\n",
              "      <td>1</td>\n",
              "      <td>0</td>\n",
              "      <td>53</td>\n",
              "      <td>40</td>\n",
              "      <td>0</td>\n",
              "      <td>0</td>\n",
              "    </tr>\n",
              "    <tr>\n",
              "      <th>4</th>\n",
              "      <td>2</td>\n",
              "      <td>0</td>\n",
              "      <td>3</td>\n",
              "      <td>2</td>\n",
              "      <td>1</td>\n",
              "      <td>28</td>\n",
              "      <td>40</td>\n",
              "      <td>0</td>\n",
              "      <td>0</td>\n",
              "    </tr>\n",
              "  </tbody>\n",
              "</table>\n",
              "</div>"
            ],
            "text/plain": [
              "   workclass  education  ...  capital-gain  capital-loss\n",
              "0          0          0  ...          2174             0\n",
              "1          1          0  ...             0             0\n",
              "2          2          1  ...             0             0\n",
              "3          2          2  ...             0             0\n",
              "4          2          0  ...             0             0\n",
              "\n",
              "[5 rows x 9 columns]"
            ]
          },
          "metadata": {
            "tags": []
          },
          "execution_count": 352
        }
      ]
    },
    {
      "cell_type": "code",
      "metadata": {
        "id": "QFg49u-RSFVe",
        "colab_type": "code",
        "outputId": "239cc48d-d8f5-4b8c-c23b-1736957e22c4",
        "colab": {
          "base_uri": "https://localhost:8080/",
          "height": 204
        }
      },
      "source": [
        "from sklearn.preprocessing import StandardScaler\n",
        "\n",
        "standardize_cols = continuous_cols\n",
        "scaler = StandardScaler()\n",
        "\n",
        "for cc in standardize_cols:\n",
        "  df_adult_deep[cc] = scaler.fit_transform(raw_data[cc].values.reshape(-1, 1).astype(float))\n",
        "\n",
        "df_adult_deep.head()"
      ],
      "execution_count": 353,
      "outputs": [
        {
          "output_type": "execute_result",
          "data": {
            "text/html": [
              "<div>\n",
              "<style scoped>\n",
              "    .dataframe tbody tr th:only-of-type {\n",
              "        vertical-align: middle;\n",
              "    }\n",
              "\n",
              "    .dataframe tbody tr th {\n",
              "        vertical-align: top;\n",
              "    }\n",
              "\n",
              "    .dataframe thead th {\n",
              "        text-align: right;\n",
              "    }\n",
              "</style>\n",
              "<table border=\"1\" class=\"dataframe\">\n",
              "  <thead>\n",
              "    <tr style=\"text-align: right;\">\n",
              "      <th></th>\n",
              "      <th>workclass</th>\n",
              "      <th>education</th>\n",
              "      <th>occupation</th>\n",
              "      <th>relationship</th>\n",
              "      <th>native_country</th>\n",
              "      <th>age</th>\n",
              "      <th>wrk_hrs_per_week</th>\n",
              "      <th>capital-gain</th>\n",
              "      <th>capital-loss</th>\n",
              "    </tr>\n",
              "  </thead>\n",
              "  <tbody>\n",
              "    <tr>\n",
              "      <th>0</th>\n",
              "      <td>0</td>\n",
              "      <td>0</td>\n",
              "      <td>0</td>\n",
              "      <td>0</td>\n",
              "      <td>0</td>\n",
              "      <td>0.030671</td>\n",
              "      <td>-0.035429</td>\n",
              "      <td>0.148453</td>\n",
              "      <td>-0.21666</td>\n",
              "    </tr>\n",
              "    <tr>\n",
              "      <th>1</th>\n",
              "      <td>1</td>\n",
              "      <td>0</td>\n",
              "      <td>1</td>\n",
              "      <td>1</td>\n",
              "      <td>0</td>\n",
              "      <td>0.837109</td>\n",
              "      <td>-2.222153</td>\n",
              "      <td>-0.145920</td>\n",
              "      <td>-0.21666</td>\n",
              "    </tr>\n",
              "    <tr>\n",
              "      <th>2</th>\n",
              "      <td>2</td>\n",
              "      <td>1</td>\n",
              "      <td>2</td>\n",
              "      <td>0</td>\n",
              "      <td>0</td>\n",
              "      <td>-0.042642</td>\n",
              "      <td>-0.035429</td>\n",
              "      <td>-0.145920</td>\n",
              "      <td>-0.21666</td>\n",
              "    </tr>\n",
              "    <tr>\n",
              "      <th>3</th>\n",
              "      <td>2</td>\n",
              "      <td>2</td>\n",
              "      <td>2</td>\n",
              "      <td>1</td>\n",
              "      <td>0</td>\n",
              "      <td>1.057047</td>\n",
              "      <td>-0.035429</td>\n",
              "      <td>-0.145920</td>\n",
              "      <td>-0.21666</td>\n",
              "    </tr>\n",
              "    <tr>\n",
              "      <th>4</th>\n",
              "      <td>2</td>\n",
              "      <td>0</td>\n",
              "      <td>3</td>\n",
              "      <td>2</td>\n",
              "      <td>1</td>\n",
              "      <td>-0.775768</td>\n",
              "      <td>-0.035429</td>\n",
              "      <td>-0.145920</td>\n",
              "      <td>-0.21666</td>\n",
              "    </tr>\n",
              "  </tbody>\n",
              "</table>\n",
              "</div>"
            ],
            "text/plain": [
              "   workclass  education  ...  capital-gain  capital-loss\n",
              "0          0          0  ...      0.148453      -0.21666\n",
              "1          1          0  ...     -0.145920      -0.21666\n",
              "2          2          1  ...     -0.145920      -0.21666\n",
              "3          2          2  ...     -0.145920      -0.21666\n",
              "4          2          0  ...     -0.145920      -0.21666\n",
              "\n",
              "[5 rows x 9 columns]"
            ]
          },
          "metadata": {
            "tags": []
          },
          "execution_count": 353
        }
      ]
    },
    {
      "cell_type": "markdown",
      "metadata": {
        "id": "Ltj7Yxe0c0ra",
        "colab_type": "text"
      },
      "source": [
        ""
      ]
    },
    {
      "cell_type": "code",
      "metadata": {
        "id": "zYELTNCuWW3A",
        "colab_type": "code",
        "colab": {}
      },
      "source": [
        "from sklearn.model_selection import train_test_split\n",
        "\n",
        "x_wide = df_adult_wide.values\n",
        "y = np.array(raw_data['income_label'])\n",
        "\n",
        "x_deep = df_adult_deep.values\n",
        "cat_embed_input = embeddings_input\n",
        "cat_embed_encoding_dict = embeddings_encoding_dict\n",
        "deep_column_idx = deep_column_idx\n",
        "continuous_cols = continuous_cols\n",
        "\n",
        "# train / valid / test split\n",
        "x_train_wide, x_valid_wide = train_test_split(x_wide, test_size=0.4, random_state=1004)\n",
        "x_train_deep, x_valid_deep = train_test_split(x_deep, test_size=0.4, random_state=1004)\n",
        "y_train, y_valid = train_test_split(y, test_size=0.4, random_state=1004)\n",
        "\n",
        "x_valid_wide, x_test_wide = train_test_split(x_valid_wide, test_size=0.4, random_state=1004)\n",
        "x_valid_deep, x_test_deep = train_test_split(x_valid_deep, test_size=0.4, random_state=1004)\n",
        "y_valid, y_test = train_test_split(y_valid, test_size=0.4, random_state=1004)"
      ],
      "execution_count": 0,
      "outputs": []
    },
    {
      "cell_type": "code",
      "metadata": {
        "id": "PmxaOeHDlwyf",
        "colab_type": "code",
        "colab": {}
      },
      "source": [
        "from collections import namedtuple\n",
        "\n",
        "wd_dataset = dict()\n",
        "train_dataset = namedtuple('train_dataset', 'wide, deep, labels')\n",
        "test_dataset = namedtuple('valid_dataset', 'wide, deep, labels')\n",
        "test_dataset = namedtuple('test_dataset', 'wide, deep, labels')\n",
        "wd_dataset['train_dataset'] = train_dataset(x_train_wide, x_train_deep, y_train)\n",
        "wd_dataset['valid_dataset'] = train_dataset(x_valid_wide, x_valid_deep, y_valid)\n",
        "wd_dataset['test_dataset'] = test_dataset(x_test_wide, x_test_deep, y_test)\n",
        "wd_dataset['embeddings_input'] = embeddings_input\n",
        "wd_dataset['deep_column_idx'] = deep_column_idx\n",
        "wd_dataset['continuous_cols'] = continuous_cols\n",
        "wd_dataset['encoding_dict'] = encoding_dict"
      ],
      "execution_count": 0,
      "outputs": []
    },
    {
      "cell_type": "markdown",
      "metadata": {
        "id": "MsBr3kAhfzac",
        "colab_type": "text"
      },
      "source": [
        "## 모델을 만들어 보자 https://github.com/Srifox/Wide-and-Deep-PyTorch/blob/master/demo2_building_blocks.ipynb   \n",
        "### Wide"
      ]
    },
    {
      "cell_type": "code",
      "metadata": {
        "id": "Lcc9g5F-Tlv0",
        "colab_type": "code",
        "colab": {}
      },
      "source": [
        "import torch\n",
        "import torch.nn as nn\n",
        "import torch.nn.functional as F\n",
        "\n",
        "class Wide(nn.Module):\n",
        "  def __init__(self, wide_dim, output_dim):\n",
        "    super(Wide, self).__init__()\n",
        "    self.linear = nn.Linear(wide_dim, output_dim)\n",
        "  def forward(self, input):\n",
        "    out = self.linear(input)\n",
        "    return F.sigmoid(out)"
      ],
      "execution_count": 0,
      "outputs": []
    },
    {
      "cell_type": "code",
      "metadata": {
        "id": "NMvrcOJ-UAw4",
        "colab_type": "code",
        "outputId": "0ee784af-8b18-4b36-9d57-8f3870e40bbf",
        "colab": {
          "base_uri": "https://localhost:8080/",
          "height": 34
        }
      },
      "source": [
        "x_train_wide.shape"
      ],
      "execution_count": 357,
      "outputs": [
        {
          "output_type": "execute_result",
          "data": {
            "text/plain": [
              "(19536, 770)"
            ]
          },
          "metadata": {
            "tags": []
          },
          "execution_count": 357
        }
      ]
    },
    {
      "cell_type": "code",
      "metadata": {
        "id": "NCcZ1rgIaodO",
        "colab_type": "code",
        "outputId": "10f6b4ed-6cbd-4f8f-8ef7-c4f602f1f942",
        "colab": {
          "base_uri": "https://localhost:8080/",
          "height": 136
        }
      },
      "source": [
        "wide_model = Wide(wide_dim=wd_dataset['train_dataset'].wide.shape[1], output_dim=1)\n",
        "\n",
        "wide_x_train = torch.Tensor(x_train_wide[0:4])\n",
        "print(wide_x_train.shape)\n",
        "\n",
        "result = wide_model(wide_x_train)\n",
        "print(result)"
      ],
      "execution_count": 358,
      "outputs": [
        {
          "output_type": "stream",
          "text": [
            "torch.Size([4, 770])\n",
            "tensor([[0.4731],\n",
            "        [0.4958],\n",
            "        [0.5336],\n",
            "        [0.4976]], grad_fn=<SigmoidBackward>)\n"
          ],
          "name": "stdout"
        },
        {
          "output_type": "stream",
          "text": [
            "/usr/local/lib/python3.6/dist-packages/torch/nn/functional.py:1351: UserWarning: nn.functional.sigmoid is deprecated. Use torch.sigmoid instead.\n",
            "  warnings.warn(\"nn.functional.sigmoid is deprecated. Use torch.sigmoid instead.\")\n"
          ],
          "name": "stderr"
        }
      ]
    },
    {
      "cell_type": "code",
      "metadata": {
        "id": "SyRQpBWwnMTz",
        "colab_type": "code",
        "colab": {
          "base_uri": "https://localhost:8080/",
          "height": 136
        },
        "outputId": "c320ce0b-2009-4c60-a163-c54235e41a8b"
      },
      "source": [
        "train_dataset = np.hstack([wd_dataset['train_dataset'].labels.reshape(-1,1), wd_dataset['train_dataset'].wide]) # 이럴려고 네임튜플을 만들었구나\n",
        "train_dataset"
      ],
      "execution_count": 359,
      "outputs": [
        {
          "output_type": "execute_result",
          "data": {
            "text/plain": [
              "array([[1, 0, 0, ..., 0, 0, 0],\n",
              "       [1, 0, 0, ..., 0, 0, 0],\n",
              "       [0, 0, 0, ..., 0, 0, 0],\n",
              "       ...,\n",
              "       [0, 0, 0, ..., 0, 0, 0],\n",
              "       [0, 0, 0, ..., 0, 0, 0],\n",
              "       [0, 0, 0, ..., 0, 0, 0]])"
            ]
          },
          "metadata": {
            "tags": []
          },
          "execution_count": 359
        }
      ]
    },
    {
      "cell_type": "code",
      "metadata": {
        "id": "YQDYHv-nn-8j",
        "colab_type": "code",
        "colab": {}
      },
      "source": [
        "optimizer = torch.optim.Adam(wide_model.parameters())\n",
        "batch_size = 64\n",
        "n_epochs = 10\n",
        "train_loader = torch.utils.data.DataLoader(dataset=train_dataset,\n",
        "                                           batch_size=batch_size,\n",
        "                                           shuffle=True)"
      ],
      "execution_count": 0,
      "outputs": []
    },
    {
      "cell_type": "code",
      "metadata": {
        "id": "_k4zYLJ2oFAU",
        "colab_type": "code",
        "colab": {
          "base_uri": "https://localhost:8080/",
          "height": 221
        },
        "outputId": "bcfc7430-0a73-4988-dbab-2be674cb7c30"
      },
      "source": [
        "for epoch in range(n_epochs):\n",
        "  total = 0\n",
        "  correct = 0\n",
        "\n",
        "  for i, batch in enumerate(train_loader):\n",
        "    x_w = torch.autograd.Variable(batch[:, 1:]).float()\n",
        "    y = torch.autograd.Variable(batch[:, 0]).float()\n",
        "    y = y.reshape(-1,1)\n",
        "    optimizer.zero_grad() # zeroes the gradient buffers of all parameters\n",
        "    y_pred = wide_model(x_w)\n",
        "\n",
        "    loss = F.binary_cross_entropy(y_pred, y)\n",
        "    loss.backward()\n",
        "    optimizer.step()\n",
        "\n",
        "    total += y.size(0)\n",
        "    y_pred_cat = (y_pred > 0.5).squeeze(1).float()\n",
        "  \n",
        "    correct += float((y_pred_cat == y).sum().item())\n",
        "\n",
        "  print('Epoch {} of {}, Loss: {}, Accuracy: {}'.format(epoch+1, n_epochs, round(loss.item(),3), round(correct/total,4)))"
      ],
      "execution_count": 361,
      "outputs": [
        {
          "output_type": "stream",
          "text": [
            "/usr/local/lib/python3.6/dist-packages/torch/nn/functional.py:1351: UserWarning: nn.functional.sigmoid is deprecated. Use torch.sigmoid instead.\n",
            "  warnings.warn(\"nn.functional.sigmoid is deprecated. Use torch.sigmoid instead.\")\n"
          ],
          "name": "stderr"
        },
        {
          "output_type": "stream",
          "text": [
            "Epoch 1 of 10, Loss: 0.468, Accuracy: 47.8645\n",
            "Epoch 2 of 10, Loss: 0.201, Accuracy: 45.2072\n",
            "Epoch 3 of 10, Loss: 0.394, Accuracy: 43.9482\n",
            "Epoch 4 of 10, Loss: 0.554, Accuracy: 43.4011\n",
            "Epoch 5 of 10, Loss: 0.518, Accuracy: 43.1529\n",
            "Epoch 6 of 10, Loss: 0.358, Accuracy: 43.1069\n",
            "Epoch 7 of 10, Loss: 0.366, Accuracy: 42.8866\n",
            "Epoch 8 of 10, Loss: 0.382, Accuracy: 42.8473\n",
            "Epoch 9 of 10, Loss: 0.333, Accuracy: 42.8183\n",
            "Epoch 10 of 10, Loss: 0.159, Accuracy: 42.6628\n"
          ],
          "name": "stdout"
        }
      ]
    },
    {
      "cell_type": "markdown",
      "metadata": {
        "id": "Pau_fMLUJbXb",
        "colab_type": "text"
      },
      "source": [
        "### Deep"
      ]
    },
    {
      "cell_type": "code",
      "metadata": {
        "id": "AIkkIp4EppdM",
        "colab_type": "code",
        "colab": {
          "base_uri": "https://localhost:8080/",
          "height": 51
        },
        "outputId": "9c26c660-51cd-41da-a060-c1b7373b99b9"
      },
      "source": [
        "print(wd_dataset['embeddings_input'])\n",
        "print(wd_dataset['deep_column_idx'])"
      ],
      "execution_count": 362,
      "outputs": [
        {
          "output_type": "stream",
          "text": [
            "[('workclass', 9, 10), ('education', 16, 10), ('occupation', 15, 10), ('relationship', 6, 8), ('native_country', 42, 10)]\n",
            "{'workclass': 0, 'education': 1, 'occupation': 2, 'relationship': 3, 'native_country': 4, 'age': 5, 'wrk_hrs_per_week': 6, 'capital-gain': 7, 'capital-loss': 8}\n"
          ],
          "name": "stdout"
        }
      ]
    },
    {
      "cell_type": "code",
      "metadata": {
        "id": "fkXdDN--puHs",
        "colab_type": "code",
        "colab": {
          "base_uri": "https://localhost:8080/",
          "height": 34
        },
        "outputId": "8b585074-557b-4f08-a964-06c6b6dd4beb"
      },
      "source": [
        "col_name, unique_vals, n_emb = wd_dataset['embeddings_input'][0]\n",
        "emb_layer = nn.Embedding(unique_vals, n_emb)\n",
        "print(emb_layer)"
      ],
      "execution_count": 363,
      "outputs": [
        {
          "output_type": "stream",
          "text": [
            "Embedding(9, 10)\n"
          ],
          "name": "stdout"
        }
      ]
    },
    {
      "cell_type": "code",
      "metadata": {
        "id": "iLIXQ1J8Lkq7",
        "colab_type": "code",
        "colab": {}
      },
      "source": [
        "def dense_layer(input, output):\n",
        "  return nn.Sequential(\n",
        "      nn.Linear(input, output),\n",
        "      nn.LeakyReLU(inplace=True),\n",
        "      nn.Dropout()\n",
        "      )\n",
        "\n",
        "class DeepDense(nn.Module):\n",
        "  def __init__(self, embeddings_input, embeddings_encoding_dict, continuous_cols, deep_column_idx, hidden_layers, output_dim):\n",
        "    super(DeepDense, self).__init__()\n",
        "\n",
        "    self.embeddings_input = embeddings_input\n",
        "    self.embeddings_encoding_dict = embeddings_encoding_dict\n",
        "    self.continuous_cols = continuous_cols\n",
        "    self.deep_column_idx = deep_column_idx\n",
        "\n",
        "    for col, val, dim in embeddings_input:\n",
        "      print(col, val, dim)\n",
        "      setattr(self, 'emb_layer_' + col, nn.Embedding(val, dim))\n",
        "    \n",
        "    input_emb_dim = np.sum([emb[2] for emb in embeddings_input]) + len(continuous_cols)\n",
        "    hidden_layers = [input_emb_dim] + hidden_layers\n",
        "    \n",
        "    self.dense = nn.Sequential()\n",
        "    for i in range(1, len(hidden_layers)):\n",
        "      self.dense.add_module(\n",
        "          'dense_layer_{}'.format(i-1),\n",
        "          dense_layer( hidden_layers[i-1], hidden_layers[i])\n",
        "\n",
        "      )\n",
        "    \n",
        "    self.dense.add_module('last_linear', nn.Linear(hidden_layers[-1], output_dim))\n",
        "\n",
        "  def forward(self, X:torch.Tensor)->torch.Tensor:\n",
        "    emb = [getattr(self, 'emb_layer_' + col)(X[:, self.deep_column_idx[col]].long())\n",
        "            for col, _, _ in self.embeddings_input]     \n",
        "    if self.continuous_cols:\n",
        "      cont_idx = [self.deep_column_idx[col] for col in self.continuous_cols]\n",
        "      cont = [X[:, cont_idx].float()]\n",
        "      input = torch.cat(emb+cont, 1)\n",
        "    else:\n",
        "      input = torch.cat(emb, 1)\n",
        "    out = self.dense(input)                                                                                        \n",
        "    return out"
      ],
      "execution_count": 0,
      "outputs": []
    },
    {
      "cell_type": "code",
      "metadata": {
        "id": "Jm8m-sIFhVJf",
        "colab_type": "code",
        "outputId": "0ab47275-7167-4178-f2ff-16cf183d56b8",
        "colab": {
          "base_uri": "https://localhost:8080/",
          "height": 102
        }
      },
      "source": [
        "cat_embed_input # 유니크 항목의 수, 임베딩 차원 수"
      ],
      "execution_count": 365,
      "outputs": [
        {
          "output_type": "execute_result",
          "data": {
            "text/plain": [
              "[('workclass', 9, 10),\n",
              " ('education', 16, 10),\n",
              " ('occupation', 15, 10),\n",
              " ('relationship', 6, 8),\n",
              " ('native_country', 42, 10)]"
            ]
          },
          "metadata": {
            "tags": []
          },
          "execution_count": 365
        }
      ]
    },
    {
      "cell_type": "code",
      "metadata": {
        "id": "YgIZ-ar_iGA2",
        "colab_type": "code",
        "outputId": "6a82470f-50bc-48e0-edb7-bf5213d0c6e3",
        "colab": {
          "base_uri": "https://localhost:8080/",
          "height": 1000
        }
      },
      "source": [
        "cat_embed_encoding_dict "
      ],
      "execution_count": 366,
      "outputs": [
        {
          "output_type": "execute_result",
          "data": {
            "text/plain": [
              "{'education': {' 10th': 12,\n",
              "  ' 11th': 2,\n",
              "  ' 12th': 15,\n",
              "  ' 1st-4th': 13,\n",
              "  ' 5th-6th': 11,\n",
              "  ' 7th-8th': 8,\n",
              "  ' 9th': 4,\n",
              "  ' Assoc-acdm': 6,\n",
              "  ' Assoc-voc': 7,\n",
              "  ' Bachelors': 0,\n",
              "  ' Doctorate': 9,\n",
              "  ' HS-grad': 1,\n",
              "  ' Masters': 3,\n",
              "  ' Preschool': 14,\n",
              "  ' Prof-school': 10,\n",
              "  ' Some-college': 5},\n",
              " 'native_country': {' ?': 4,\n",
              "  ' Cambodia': 17,\n",
              "  ' Canada': 10,\n",
              "  ' China': 28,\n",
              "  ' Columbia': 16,\n",
              "  ' Cuba': 1,\n",
              "  ' Dominican-Republic': 24,\n",
              "  ' Ecuador': 19,\n",
              "  ' El-Salvador': 25,\n",
              "  ' England': 9,\n",
              "  ' France': 26,\n",
              "  ' Germany': 11,\n",
              "  ' Greece': 35,\n",
              "  ' Guatemala': 27,\n",
              "  ' Haiti': 22,\n",
              "  ' Holand-Netherlands': 41,\n",
              "  ' Honduras': 8,\n",
              "  ' Hong': 38,\n",
              "  ' Hungary': 40,\n",
              "  ' India': 3,\n",
              "  ' Iran': 12,\n",
              "  ' Ireland': 39,\n",
              "  ' Italy': 14,\n",
              "  ' Jamaica': 2,\n",
              "  ' Japan': 29,\n",
              "  ' Laos': 20,\n",
              "  ' Mexico': 5,\n",
              "  ' Nicaragua': 36,\n",
              "  ' Outlying-US(Guam-USVI-etc)': 32,\n",
              "  ' Peru': 31,\n",
              "  ' Philippines': 13,\n",
              "  ' Poland': 15,\n",
              "  ' Portugal': 23,\n",
              "  ' Puerto-Rico': 7,\n",
              "  ' Scotland': 33,\n",
              "  ' South': 6,\n",
              "  ' Taiwan': 21,\n",
              "  ' Thailand': 18,\n",
              "  ' Trinadad&Tobago': 34,\n",
              "  ' United-States': 0,\n",
              "  ' Vietnam': 37,\n",
              "  ' Yugoslavia': 30},\n",
              " 'occupation': {' ?': 11,\n",
              "  ' Adm-clerical': 0,\n",
              "  ' Armed-Forces': 13,\n",
              "  ' Craft-repair': 6,\n",
              "  ' Exec-managerial': 1,\n",
              "  ' Farming-fishing': 8,\n",
              "  ' Handlers-cleaners': 2,\n",
              "  ' Machine-op-inspct': 9,\n",
              "  ' Other-service': 4,\n",
              "  ' Priv-house-serv': 14,\n",
              "  ' Prof-specialty': 3,\n",
              "  ' Protective-serv': 12,\n",
              "  ' Sales': 5,\n",
              "  ' Tech-support': 10,\n",
              "  ' Transport-moving': 7},\n",
              " 'relationship': {' Husband': 1,\n",
              "  ' Not-in-family': 0,\n",
              "  ' Other-relative': 5,\n",
              "  ' Own-child': 3,\n",
              "  ' Unmarried': 4,\n",
              "  ' Wife': 2},\n",
              " 'workclass': {' ?': 5,\n",
              "  ' Federal-gov': 3,\n",
              "  ' Local-gov': 4,\n",
              "  ' Never-worked': 8,\n",
              "  ' Private': 2,\n",
              "  ' Self-emp-inc': 6,\n",
              "  ' Self-emp-not-inc': 1,\n",
              "  ' State-gov': 0,\n",
              "  ' Without-pay': 7}}"
            ]
          },
          "metadata": {
            "tags": []
          },
          "execution_count": 366
        }
      ]
    },
    {
      "cell_type": "code",
      "metadata": {
        "id": "V8Duso7iiuvY",
        "colab_type": "code",
        "outputId": "eb3605f6-7399-421d-80a1-09d6ef454ead",
        "colab": {
          "base_uri": "https://localhost:8080/",
          "height": 34
        }
      },
      "source": [
        "continuous_cols"
      ],
      "execution_count": 367,
      "outputs": [
        {
          "output_type": "execute_result",
          "data": {
            "text/plain": [
              "['age', 'wrk_hrs_per_week', 'capital-gain', 'capital-loss']"
            ]
          },
          "metadata": {
            "tags": []
          },
          "execution_count": 367
        }
      ]
    },
    {
      "cell_type": "code",
      "metadata": {
        "id": "Ekya-Qz3w4O7",
        "colab_type": "code",
        "colab": {
          "base_uri": "https://localhost:8080/",
          "height": 170
        },
        "outputId": "63185079-0a1f-46ff-b985-6d00b3f9c16c"
      },
      "source": [
        "wd_dataset['train_dataset']\n",
        "wd_dataset['valid_dataset']\n",
        "wd_dataset['test_dataset']\n",
        "\n",
        "wd_dataset['embeddings_input']\n",
        "wd_dataset['encoding_dict']\n",
        "wd_dataset['continuous_cols']\n",
        "wd_dataset['deep_column_idx']"
      ],
      "execution_count": 368,
      "outputs": [
        {
          "output_type": "execute_result",
          "data": {
            "text/plain": [
              "{'age': 5,\n",
              " 'capital-gain': 7,\n",
              " 'capital-loss': 8,\n",
              " 'education': 1,\n",
              " 'native_country': 4,\n",
              " 'occupation': 2,\n",
              " 'relationship': 3,\n",
              " 'workclass': 0,\n",
              " 'wrk_hrs_per_week': 6}"
            ]
          },
          "metadata": {
            "tags": []
          },
          "execution_count": 368
        }
      ]
    },
    {
      "cell_type": "code",
      "metadata": {
        "id": "cWGIc8rPlWHr",
        "colab_type": "code",
        "outputId": "fe3d4e5d-bb83-49b1-e51e-e4e584ea3e52",
        "colab": {
          "base_uri": "https://localhost:8080/",
          "height": 102
        }
      },
      "source": [
        "deep = DeepDense( embeddings_input=wd_dataset['embeddings_input'],\n",
        "                  embeddings_encoding_dict=wd_dataset['encoding_dict'], \n",
        "                  continuous_cols=wd_dataset['continuous_cols'],\n",
        "                  deep_column_idx=wd_dataset['deep_column_idx'], \n",
        "                  hidden_layers=[32,16], \n",
        "                  output_dim=1)"
      ],
      "execution_count": 369,
      "outputs": [
        {
          "output_type": "stream",
          "text": [
            "workclass 9 10\n",
            "education 16 10\n",
            "occupation 15 10\n",
            "relationship 6 8\n",
            "native_country 42 10\n"
          ],
          "name": "stdout"
        }
      ]
    },
    {
      "cell_type": "code",
      "metadata": {
        "id": "bi3R8HXOmBYA",
        "colab_type": "code",
        "outputId": "6ce466a8-8955-4b12-8516-6a8c4da6906c",
        "colab": {
          "base_uri": "https://localhost:8080/",
          "height": 357
        }
      },
      "source": [
        "deep"
      ],
      "execution_count": 370,
      "outputs": [
        {
          "output_type": "execute_result",
          "data": {
            "text/plain": [
              "DeepDense(\n",
              "  (emb_layer_workclass): Embedding(9, 10)\n",
              "  (emb_layer_education): Embedding(16, 10)\n",
              "  (emb_layer_occupation): Embedding(15, 10)\n",
              "  (emb_layer_relationship): Embedding(6, 8)\n",
              "  (emb_layer_native_country): Embedding(42, 10)\n",
              "  (dense): Sequential(\n",
              "    (dense_layer_0): Sequential(\n",
              "      (0): Linear(in_features=52, out_features=32, bias=True)\n",
              "      (1): LeakyReLU(negative_slope=0.01, inplace=True)\n",
              "      (2): Dropout(p=0.5, inplace=False)\n",
              "    )\n",
              "    (dense_layer_1): Sequential(\n",
              "      (0): Linear(in_features=32, out_features=16, bias=True)\n",
              "      (1): LeakyReLU(negative_slope=0.01, inplace=True)\n",
              "      (2): Dropout(p=0.5, inplace=False)\n",
              "    )\n",
              "    (last_linear): Linear(in_features=16, out_features=1, bias=True)\n",
              "  )\n",
              ")"
            ]
          },
          "metadata": {
            "tags": []
          },
          "execution_count": 370
        }
      ]
    },
    {
      "cell_type": "code",
      "metadata": {
        "id": "zAiHdg15m3Dg",
        "colab_type": "code",
        "outputId": "3111a597-ecbd-4575-c7d7-faf0cc24111b",
        "colab": {
          "base_uri": "https://localhost:8080/",
          "height": 34
        }
      },
      "source": [
        "deep_batch = torch.from_numpy(x_train_deep[:4])\n",
        "deep_batch.shape"
      ],
      "execution_count": 371,
      "outputs": [
        {
          "output_type": "execute_result",
          "data": {
            "text/plain": [
              "torch.Size([4, 9])"
            ]
          },
          "metadata": {
            "tags": []
          },
          "execution_count": 371
        }
      ]
    },
    {
      "cell_type": "code",
      "metadata": {
        "id": "6hdXgRl7nMit",
        "colab_type": "code",
        "outputId": "91b5a129-2eb7-4854-f8bb-97c42ee34d47",
        "colab": {
          "base_uri": "https://localhost:8080/",
          "height": 85
        }
      },
      "source": [
        "out = deep(deep_batch)\n",
        "out"
      ],
      "execution_count": 372,
      "outputs": [
        {
          "output_type": "execute_result",
          "data": {
            "text/plain": [
              "tensor([[-0.4796],\n",
              "        [-0.3287],\n",
              "        [-0.2823],\n",
              "        [-0.4917]], grad_fn=<AddmmBackward>)"
            ]
          },
          "metadata": {
            "tags": []
          },
          "execution_count": 372
        }
      ]
    },
    {
      "cell_type": "markdown",
      "metadata": {
        "id": "tL5f80sang3u",
        "colab_type": "text"
      },
      "source": [
        "Wide and Deep "
      ]
    },
    {
      "cell_type": "code",
      "metadata": {
        "id": "_3dr1Lorfeo5",
        "colab_type": "code",
        "colab": {}
      },
      "source": [
        "def set_method(method):\n",
        "  if method == 'regression':\n",
        "    return None, F.mse_loss\n",
        "  if method == 'logistic':\n",
        "    return torch.sigmoid, F.binary_cross_entropy\n",
        "  if method == 'multiclass':\n",
        "    return F.softmax, F.cross_entropy"
      ],
      "execution_count": 0,
      "outputs": []
    },
    {
      "cell_type": "code",
      "metadata": {
        "id": "mJXVU41gfx0C",
        "colab_type": "code",
        "colab": {}
      },
      "source": [
        "def set_optimizer(model_params, opt_params):\n",
        "  try:\n",
        "    opt, lr, m = opt_params\n",
        "  except:\n",
        "    opt, lr = opt_params\n",
        "\n",
        "  if opt == \"Adam\":\n",
        "    return torch.optim.Adam(model_params, lr=lr)\n",
        "  if opt == \"Adagrad\":\n",
        "    return torch.optim.Adam(model_params, lr=lr)\n",
        "  if opt == \"RMSprop\":\n",
        "    return torch.optim.RMSprop(model_params, lr=lr, momentum=m)\n",
        "  if opt == \"SGD\":\n",
        "    return torch.optim.SGD(model_params, lr=lr, momentum=m)"
      ],
      "execution_count": 0,
      "outputs": []
    },
    {
      "cell_type": "code",
      "metadata": {
        "id": "rd6zJJSXnXUc",
        "colab_type": "code",
        "colab": {}
      },
      "source": [
        "class WideDeep(nn.Module):\n",
        "  def __init__(self, output_dim, **params):\n",
        "    super(WideDeep, self).__init__()\n",
        "\n",
        "    self.datasets = {}\n",
        "    self.output_dim = output_dim\n",
        "    self.n_datasets = 1\n",
        "    for k, v in params['wide'].items():\n",
        "      setattr(self, k, v)\n",
        "    self.wide = Wide(\n",
        "      self.wide_dim,\n",
        "      self.output_dim)\n",
        "    \n",
        "    self.datasets['deep_dense'] = self.n_datasets\n",
        "    self.n_datasets += 1\n",
        "    for k, v in params['deep_dense'].items():\n",
        "      setattr(self, k, v)\n",
        "    self.deep_dense = DeepDense(\n",
        "      embeddings_input=self.embeddings_input,\n",
        "      embeddings_encoding_dict=self.embeddings_encoding_dict, \n",
        "      continuous_cols=self.continuous_cols,\n",
        "      deep_column_idx=self.deep_column_idx, \n",
        "      hidden_layers=self.hidden_layers, \n",
        "      output_dim=self.output_dim)\n",
        "    \n",
        "  def compile(self, method, optimizer):\n",
        "    self.method = method,\n",
        "    self.activation, self.criterion = set_method(method)\n",
        "    self.optimizer = set_optimizer(self.parameters(), optimizer)\n",
        "\n",
        "  def forward(self, input):\n",
        "    wide_inp = input[0]\n",
        "    wide_deep = self.wide(wide_inp)\n",
        "\n",
        "    deep_dense_idx = self.datasets['deep_dense']\n",
        "    deep_dense_out = self.deep_dense(input[deep_dense_idx])\n",
        "    wide_deep.add_(deep_dense_out)\n",
        "\n",
        "    if not self.activation:\n",
        "      return wide_deep\n",
        "    else:\n",
        "      if( self.activation == F.softmax):\n",
        "        out = self.activation(wide_deep, dim=1)\n",
        "      else:\n",
        "        out = self.activation(wide_deep)\n",
        "      return out"
      ],
      "execution_count": 0,
      "outputs": []
    },
    {
      "cell_type": "code",
      "metadata": {
        "id": "E_qui3sFnip0",
        "colab_type": "code",
        "outputId": "c9e45766-5b7e-43a5-e6ab-12619d773bcf",
        "colab": {
          "base_uri": "https://localhost:8080/",
          "height": 1000
        }
      },
      "source": [
        "params = dict()\n",
        "params['wide'] = dict(\n",
        "  wide_dim = 770\n",
        ")\n",
        "params['deep_dense'] = dict(\n",
        "  embeddings_input=wd_dataset['embeddings_input'],\n",
        "  embeddings_encoding_dict=wd_dataset['encoding_dict'], \n",
        "  continuous_cols=wd_dataset['continuous_cols'],\n",
        "  deep_column_idx=wd_dataset['deep_column_idx'], \n",
        "  hidden_layers=[32,16]\n",
        ")\n",
        "\n",
        "params"
      ],
      "execution_count": 376,
      "outputs": [
        {
          "output_type": "execute_result",
          "data": {
            "text/plain": [
              "{'deep_dense': {'continuous_cols': ['age',\n",
              "   'wrk_hrs_per_week',\n",
              "   'capital-gain',\n",
              "   'capital-loss'],\n",
              "  'deep_column_idx': {'age': 5,\n",
              "   'capital-gain': 7,\n",
              "   'capital-loss': 8,\n",
              "   'education': 1,\n",
              "   'native_country': 4,\n",
              "   'occupation': 2,\n",
              "   'relationship': 3,\n",
              "   'workclass': 0,\n",
              "   'wrk_hrs_per_week': 6},\n",
              "  'embeddings_encoding_dict': {'education': {' 10th': 12,\n",
              "    ' 11th': 2,\n",
              "    ' 12th': 15,\n",
              "    ' 1st-4th': 13,\n",
              "    ' 5th-6th': 11,\n",
              "    ' 7th-8th': 8,\n",
              "    ' 9th': 4,\n",
              "    ' Assoc-acdm': 6,\n",
              "    ' Assoc-voc': 7,\n",
              "    ' Bachelors': 0,\n",
              "    ' Doctorate': 9,\n",
              "    ' HS-grad': 1,\n",
              "    ' Masters': 3,\n",
              "    ' Preschool': 14,\n",
              "    ' Prof-school': 10,\n",
              "    ' Some-college': 5},\n",
              "   'native_country': {' ?': 4,\n",
              "    ' Cambodia': 17,\n",
              "    ' Canada': 10,\n",
              "    ' China': 28,\n",
              "    ' Columbia': 16,\n",
              "    ' Cuba': 1,\n",
              "    ' Dominican-Republic': 24,\n",
              "    ' Ecuador': 19,\n",
              "    ' El-Salvador': 25,\n",
              "    ' England': 9,\n",
              "    ' France': 26,\n",
              "    ' Germany': 11,\n",
              "    ' Greece': 35,\n",
              "    ' Guatemala': 27,\n",
              "    ' Haiti': 22,\n",
              "    ' Holand-Netherlands': 41,\n",
              "    ' Honduras': 8,\n",
              "    ' Hong': 38,\n",
              "    ' Hungary': 40,\n",
              "    ' India': 3,\n",
              "    ' Iran': 12,\n",
              "    ' Ireland': 39,\n",
              "    ' Italy': 14,\n",
              "    ' Jamaica': 2,\n",
              "    ' Japan': 29,\n",
              "    ' Laos': 20,\n",
              "    ' Mexico': 5,\n",
              "    ' Nicaragua': 36,\n",
              "    ' Outlying-US(Guam-USVI-etc)': 32,\n",
              "    ' Peru': 31,\n",
              "    ' Philippines': 13,\n",
              "    ' Poland': 15,\n",
              "    ' Portugal': 23,\n",
              "    ' Puerto-Rico': 7,\n",
              "    ' Scotland': 33,\n",
              "    ' South': 6,\n",
              "    ' Taiwan': 21,\n",
              "    ' Thailand': 18,\n",
              "    ' Trinadad&Tobago': 34,\n",
              "    ' United-States': 0,\n",
              "    ' Vietnam': 37,\n",
              "    ' Yugoslavia': 30},\n",
              "   'occupation': {' ?': 11,\n",
              "    ' Adm-clerical': 0,\n",
              "    ' Armed-Forces': 13,\n",
              "    ' Craft-repair': 6,\n",
              "    ' Exec-managerial': 1,\n",
              "    ' Farming-fishing': 8,\n",
              "    ' Handlers-cleaners': 2,\n",
              "    ' Machine-op-inspct': 9,\n",
              "    ' Other-service': 4,\n",
              "    ' Priv-house-serv': 14,\n",
              "    ' Prof-specialty': 3,\n",
              "    ' Protective-serv': 12,\n",
              "    ' Sales': 5,\n",
              "    ' Tech-support': 10,\n",
              "    ' Transport-moving': 7},\n",
              "   'relationship': {' Husband': 1,\n",
              "    ' Not-in-family': 0,\n",
              "    ' Other-relative': 5,\n",
              "    ' Own-child': 3,\n",
              "    ' Unmarried': 4,\n",
              "    ' Wife': 2},\n",
              "   'workclass': {' ?': 5,\n",
              "    ' Federal-gov': 3,\n",
              "    ' Local-gov': 4,\n",
              "    ' Never-worked': 8,\n",
              "    ' Private': 2,\n",
              "    ' Self-emp-inc': 6,\n",
              "    ' Self-emp-not-inc': 1,\n",
              "    ' State-gov': 0,\n",
              "    ' Without-pay': 7}},\n",
              "  'embeddings_input': [('workclass', 9, 10),\n",
              "   ('education', 16, 10),\n",
              "   ('occupation', 15, 10),\n",
              "   ('relationship', 6, 8),\n",
              "   ('native_country', 42, 10)],\n",
              "  'hidden_layers': [32, 16]},\n",
              " 'wide': {'wide_dim': 770}}"
            ]
          },
          "metadata": {
            "tags": []
          },
          "execution_count": 376
        }
      ]
    },
    {
      "cell_type": "code",
      "metadata": {
        "id": "3wF_5a_wiYs6",
        "colab_type": "code",
        "outputId": "43ac800f-6b89-45ef-b623-bc42cbfa35a8",
        "colab": {
          "base_uri": "https://localhost:8080/",
          "height": 102
        }
      },
      "source": [
        "wide_deep = WideDeep(output_dim=1, **params)"
      ],
      "execution_count": 377,
      "outputs": [
        {
          "output_type": "stream",
          "text": [
            "workclass 9 10\n",
            "education 16 10\n",
            "occupation 15 10\n",
            "relationship 6 8\n",
            "native_country 42 10\n"
          ],
          "name": "stdout"
        }
      ]
    },
    {
      "cell_type": "code",
      "metadata": {
        "id": "007EuLpVijL9",
        "colab_type": "code",
        "outputId": "eb9d840d-8b45-4a33-d032-d92d294033e2",
        "colab": {
          "base_uri": "https://localhost:8080/",
          "height": 442
        }
      },
      "source": [
        "wide_deep"
      ],
      "execution_count": 378,
      "outputs": [
        {
          "output_type": "execute_result",
          "data": {
            "text/plain": [
              "WideDeep(\n",
              "  (wide): Wide(\n",
              "    (linear): Linear(in_features=770, out_features=1, bias=True)\n",
              "  )\n",
              "  (deep_dense): DeepDense(\n",
              "    (emb_layer_workclass): Embedding(9, 10)\n",
              "    (emb_layer_education): Embedding(16, 10)\n",
              "    (emb_layer_occupation): Embedding(15, 10)\n",
              "    (emb_layer_relationship): Embedding(6, 8)\n",
              "    (emb_layer_native_country): Embedding(42, 10)\n",
              "    (dense): Sequential(\n",
              "      (dense_layer_0): Sequential(\n",
              "        (0): Linear(in_features=52, out_features=32, bias=True)\n",
              "        (1): LeakyReLU(negative_slope=0.01, inplace=True)\n",
              "        (2): Dropout(p=0.5, inplace=False)\n",
              "      )\n",
              "      (dense_layer_1): Sequential(\n",
              "        (0): Linear(in_features=32, out_features=16, bias=True)\n",
              "        (1): LeakyReLU(negative_slope=0.01, inplace=True)\n",
              "        (2): Dropout(p=0.5, inplace=False)\n",
              "      )\n",
              "      (last_linear): Linear(in_features=16, out_features=1, bias=True)\n",
              "    )\n",
              "  )\n",
              ")"
            ]
          },
          "metadata": {
            "tags": []
          },
          "execution_count": 378
        }
      ]
    },
    {
      "cell_type": "code",
      "metadata": {
        "id": "OaYqD-_Tkmu0",
        "colab_type": "code",
        "colab": {}
      },
      "source": [
        "wide_batch = torch.Tensor(x_train_wide[0:4])\n",
        "deep_batch = torch.from_numpy(x_train_deep[:4])\n",
        "wide_deep_batch = (wide_batch, deep_batch)"
      ],
      "execution_count": 0,
      "outputs": []
    },
    {
      "cell_type": "code",
      "metadata": {
        "id": "uVfowIyJk64q",
        "colab_type": "code",
        "outputId": "04dc2c19-f95c-4201-e0f3-c92c8863b031",
        "colab": {
          "base_uri": "https://localhost:8080/",
          "height": 119
        }
      },
      "source": [
        "wide_deep.compile(method='regression', optimizer=[\"Adam\", 0.01])\n",
        "wide_deep(wide_deep_batch)"
      ],
      "execution_count": 380,
      "outputs": [
        {
          "output_type": "stream",
          "text": [
            "/usr/local/lib/python3.6/dist-packages/torch/nn/functional.py:1351: UserWarning: nn.functional.sigmoid is deprecated. Use torch.sigmoid instead.\n",
            "  warnings.warn(\"nn.functional.sigmoid is deprecated. Use torch.sigmoid instead.\")\n"
          ],
          "name": "stderr"
        },
        {
          "output_type": "execute_result",
          "data": {
            "text/plain": [
              "tensor([[0.5616],\n",
              "        [0.3905],\n",
              "        [0.3615],\n",
              "        [0.2980]], grad_fn=<AddBackward0>)"
            ]
          },
          "metadata": {
            "tags": []
          },
          "execution_count": 380
        }
      ]
    },
    {
      "cell_type": "markdown",
      "metadata": {
        "id": "oFrI8FktyC7m",
        "colab_type": "text"
      },
      "source": [
        "https://github.com/Srifox/Wide-and-Deep-PyTorch/blob/master/demo3_using_it.ipynb"
      ]
    },
    {
      "cell_type": "code",
      "metadata": {
        "id": "o-BlKOHtyD6v",
        "colab_type": "code",
        "colab": {}
      },
      "source": [
        ""
      ],
      "execution_count": 0,
      "outputs": []
    }
  ]
}