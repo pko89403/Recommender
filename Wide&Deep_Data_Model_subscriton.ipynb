{
  "nbformat": 4,
  "nbformat_minor": 0,
  "metadata": {
    "colab": {
      "name": "Wide&Deep-Data2Model.ipynb의 사본",
      "provenance": [],
      "collapsed_sections": [],
      "toc_visible": true,
      "mount_file_id": "1pcqjiuJtNDwwd0NVqXvZGsJEYCbNp_9D",
      "authorship_tag": "ABX9TyNh8rOj4Z2Hm3dVjyQvZEPq",
      "include_colab_link": true
    },
    "kernelspec": {
      "name": "python3",
      "display_name": "Python 3"
    },
    "accelerator": "GPU"
  },
  "cells": [
    {
      "cell_type": "markdown",
      "metadata": {
        "id": "view-in-github",
        "colab_type": "text"
      },
      "source": [
        "<a href=\"https://colab.research.google.com/github/pko89403/Recsys_test/blob/master/Wide%26Deep_Data_Model_subscriton.ipynb\" target=\"_parent\"><img src=\"https://colab.research.google.com/assets/colab-badge.svg\" alt=\"Open In Colab\"/></a>"
      ]
    },
    {
      "cell_type": "markdown",
      "metadata": {
        "id": "pBJ7-GshRchP",
        "colab_type": "text"
      },
      "source": [
        "# Wide - And - Deep - Pytorch\n",
        "1. Wide : 스파스한 피처들, 원-핫 인코딩 되어 아웃풋 뉴런과 바로 연결됨\n",
        "2. Deep Dense : 카테고리 피처들, 임베딩으로 표횐됨, 연속성 피처들이 덴스 레이어로 보내짐\n",
        "3. Deep Text : 워드 임베딩들 보내지는 RNN들의 스택으로\n",
        "4. Deep Image : RGB 이미지들 CNN으로 보내지는, ResNet"
      ]
    },
    {
      "cell_type": "markdown",
      "metadata": {
        "id": "LVCRvwWtUkuG",
        "colab_type": "text"
      },
      "source": [
        "# 데이터 전처리\n",
        "https://github.com/Srifox/Wide-and-Deep-PyTorch/blob/master/demo1_prepare_data.ipynb"
      ]
    },
    {
      "cell_type": "code",
      "metadata": {
        "id": "keehjOrxTXS4",
        "colab_type": "code",
        "outputId": "6a42f94f-7b43-4b83-f58e-d45fed7b1928",
        "colab": {
          "base_uri": "https://localhost:8080/",
          "height": 289
        }
      },
      "source": [
        "import pandas as pd\n",
        "import numpy as np\n",
        "\n",
        "raw_data_path = \"/content/drive/My Drive/data/adult_data/adult-data.csv\"\n",
        "raw_data = pd.read_csv(raw_data_path)\n",
        "raw_data.head()"
      ],
      "execution_count": 6,
      "outputs": [
        {
          "output_type": "execute_result",
          "data": {
            "text/html": [
              "<div>\n",
              "<style scoped>\n",
              "    .dataframe tbody tr th:only-of-type {\n",
              "        vertical-align: middle;\n",
              "    }\n",
              "\n",
              "    .dataframe tbody tr th {\n",
              "        vertical-align: top;\n",
              "    }\n",
              "\n",
              "    .dataframe thead th {\n",
              "        text-align: right;\n",
              "    }\n",
              "</style>\n",
              "<table border=\"1\" class=\"dataframe\">\n",
              "  <thead>\n",
              "    <tr style=\"text-align: right;\">\n",
              "      <th></th>\n",
              "      <th>age</th>\n",
              "      <th>workclass</th>\n",
              "      <th>fnlwgt</th>\n",
              "      <th>education</th>\n",
              "      <th>education_num</th>\n",
              "      <th>marital_status</th>\n",
              "      <th>occupation</th>\n",
              "      <th>relationship</th>\n",
              "      <th>race</th>\n",
              "      <th>sex</th>\n",
              "      <th>capital-gain</th>\n",
              "      <th>capital-loss</th>\n",
              "      <th>wrk_hrs_per_week</th>\n",
              "      <th>native_country</th>\n",
              "      <th>income</th>\n",
              "    </tr>\n",
              "  </thead>\n",
              "  <tbody>\n",
              "    <tr>\n",
              "      <th>0</th>\n",
              "      <td>39</td>\n",
              "      <td>State-gov</td>\n",
              "      <td>77516</td>\n",
              "      <td>Bachelors</td>\n",
              "      <td>13</td>\n",
              "      <td>Never-married</td>\n",
              "      <td>Adm-clerical</td>\n",
              "      <td>Not-in-family</td>\n",
              "      <td>White</td>\n",
              "      <td>Male</td>\n",
              "      <td>2174</td>\n",
              "      <td>0</td>\n",
              "      <td>40</td>\n",
              "      <td>United-States</td>\n",
              "      <td>&lt;=50K</td>\n",
              "    </tr>\n",
              "    <tr>\n",
              "      <th>1</th>\n",
              "      <td>50</td>\n",
              "      <td>Self-emp-not-inc</td>\n",
              "      <td>83311</td>\n",
              "      <td>Bachelors</td>\n",
              "      <td>13</td>\n",
              "      <td>Married-civ-spouse</td>\n",
              "      <td>Exec-managerial</td>\n",
              "      <td>Husband</td>\n",
              "      <td>White</td>\n",
              "      <td>Male</td>\n",
              "      <td>0</td>\n",
              "      <td>0</td>\n",
              "      <td>13</td>\n",
              "      <td>United-States</td>\n",
              "      <td>&lt;=50K</td>\n",
              "    </tr>\n",
              "    <tr>\n",
              "      <th>2</th>\n",
              "      <td>38</td>\n",
              "      <td>Private</td>\n",
              "      <td>215646</td>\n",
              "      <td>HS-grad</td>\n",
              "      <td>9</td>\n",
              "      <td>Divorced</td>\n",
              "      <td>Handlers-cleaners</td>\n",
              "      <td>Not-in-family</td>\n",
              "      <td>White</td>\n",
              "      <td>Male</td>\n",
              "      <td>0</td>\n",
              "      <td>0</td>\n",
              "      <td>40</td>\n",
              "      <td>United-States</td>\n",
              "      <td>&lt;=50K</td>\n",
              "    </tr>\n",
              "    <tr>\n",
              "      <th>3</th>\n",
              "      <td>53</td>\n",
              "      <td>Private</td>\n",
              "      <td>234721</td>\n",
              "      <td>11th</td>\n",
              "      <td>7</td>\n",
              "      <td>Married-civ-spouse</td>\n",
              "      <td>Handlers-cleaners</td>\n",
              "      <td>Husband</td>\n",
              "      <td>Black</td>\n",
              "      <td>Male</td>\n",
              "      <td>0</td>\n",
              "      <td>0</td>\n",
              "      <td>40</td>\n",
              "      <td>United-States</td>\n",
              "      <td>&lt;=50K</td>\n",
              "    </tr>\n",
              "    <tr>\n",
              "      <th>4</th>\n",
              "      <td>28</td>\n",
              "      <td>Private</td>\n",
              "      <td>338409</td>\n",
              "      <td>Bachelors</td>\n",
              "      <td>13</td>\n",
              "      <td>Married-civ-spouse</td>\n",
              "      <td>Prof-specialty</td>\n",
              "      <td>Wife</td>\n",
              "      <td>Black</td>\n",
              "      <td>Female</td>\n",
              "      <td>0</td>\n",
              "      <td>0</td>\n",
              "      <td>40</td>\n",
              "      <td>Cuba</td>\n",
              "      <td>&lt;=50K</td>\n",
              "    </tr>\n",
              "  </tbody>\n",
              "</table>\n",
              "</div>"
            ],
            "text/plain": [
              "   age          workclass  fnlwgt  ... wrk_hrs_per_week  native_country  income\n",
              "0   39          State-gov   77516  ...               40   United-States   <=50K\n",
              "1   50   Self-emp-not-inc   83311  ...               13   United-States   <=50K\n",
              "2   38            Private  215646  ...               40   United-States   <=50K\n",
              "3   53            Private  234721  ...               40   United-States   <=50K\n",
              "4   28            Private  338409  ...               40            Cuba   <=50K\n",
              "\n",
              "[5 rows x 15 columns]"
            ]
          },
          "metadata": {
            "tags": []
          },
          "execution_count": 6
        }
      ]
    },
    {
      "cell_type": "markdown",
      "metadata": {
        "id": "5oyAhUXcBmXD",
        "colab_type": "text"
      },
      "source": [
        "age 컬럼의 카테고리 버전을 만든다."
      ]
    },
    {
      "cell_type": "code",
      "metadata": {
        "id": "mY6gmeFxBDdl",
        "colab_type": "code",
        "colab": {}
      },
      "source": [
        "raw_data['age_buckets'] = pd.cut(raw_data.age, bins=[16, 25, 30, 35, 40, 45, 50, 55, 60, 91], labels=np.arange(9))"
      ],
      "execution_count": 0,
      "outputs": []
    },
    {
      "cell_type": "markdown",
      "metadata": {
        "id": "l3TU0YnYY7kf",
        "colab_type": "text"
      },
      "source": [
        "Logist Regression에 사용하기 위한 라벨 만들기"
      ]
    },
    {
      "cell_type": "code",
      "metadata": {
        "id": "3YtLuzgEZIJa",
        "colab_type": "code",
        "outputId": "a035df63-39c9-47a4-ef7b-36d8ce34b069",
        "colab": {
          "base_uri": "https://localhost:8080/",
          "height": 309
        }
      },
      "source": [
        "raw_data['income_label'] = (raw_data['income'].apply(lambda x: \">50K\" in x)).astype(int)\n",
        "raw_data.drop('income', axis=1, inplace=True)\n",
        "raw_data.head()"
      ],
      "execution_count": 8,
      "outputs": [
        {
          "output_type": "execute_result",
          "data": {
            "text/html": [
              "<div>\n",
              "<style scoped>\n",
              "    .dataframe tbody tr th:only-of-type {\n",
              "        vertical-align: middle;\n",
              "    }\n",
              "\n",
              "    .dataframe tbody tr th {\n",
              "        vertical-align: top;\n",
              "    }\n",
              "\n",
              "    .dataframe thead th {\n",
              "        text-align: right;\n",
              "    }\n",
              "</style>\n",
              "<table border=\"1\" class=\"dataframe\">\n",
              "  <thead>\n",
              "    <tr style=\"text-align: right;\">\n",
              "      <th></th>\n",
              "      <th>age</th>\n",
              "      <th>workclass</th>\n",
              "      <th>fnlwgt</th>\n",
              "      <th>education</th>\n",
              "      <th>education_num</th>\n",
              "      <th>marital_status</th>\n",
              "      <th>occupation</th>\n",
              "      <th>relationship</th>\n",
              "      <th>race</th>\n",
              "      <th>sex</th>\n",
              "      <th>capital-gain</th>\n",
              "      <th>capital-loss</th>\n",
              "      <th>wrk_hrs_per_week</th>\n",
              "      <th>native_country</th>\n",
              "      <th>age_buckets</th>\n",
              "      <th>income_label</th>\n",
              "    </tr>\n",
              "  </thead>\n",
              "  <tbody>\n",
              "    <tr>\n",
              "      <th>0</th>\n",
              "      <td>39</td>\n",
              "      <td>State-gov</td>\n",
              "      <td>77516</td>\n",
              "      <td>Bachelors</td>\n",
              "      <td>13</td>\n",
              "      <td>Never-married</td>\n",
              "      <td>Adm-clerical</td>\n",
              "      <td>Not-in-family</td>\n",
              "      <td>White</td>\n",
              "      <td>Male</td>\n",
              "      <td>2174</td>\n",
              "      <td>0</td>\n",
              "      <td>40</td>\n",
              "      <td>United-States</td>\n",
              "      <td>3</td>\n",
              "      <td>0</td>\n",
              "    </tr>\n",
              "    <tr>\n",
              "      <th>1</th>\n",
              "      <td>50</td>\n",
              "      <td>Self-emp-not-inc</td>\n",
              "      <td>83311</td>\n",
              "      <td>Bachelors</td>\n",
              "      <td>13</td>\n",
              "      <td>Married-civ-spouse</td>\n",
              "      <td>Exec-managerial</td>\n",
              "      <td>Husband</td>\n",
              "      <td>White</td>\n",
              "      <td>Male</td>\n",
              "      <td>0</td>\n",
              "      <td>0</td>\n",
              "      <td>13</td>\n",
              "      <td>United-States</td>\n",
              "      <td>5</td>\n",
              "      <td>0</td>\n",
              "    </tr>\n",
              "    <tr>\n",
              "      <th>2</th>\n",
              "      <td>38</td>\n",
              "      <td>Private</td>\n",
              "      <td>215646</td>\n",
              "      <td>HS-grad</td>\n",
              "      <td>9</td>\n",
              "      <td>Divorced</td>\n",
              "      <td>Handlers-cleaners</td>\n",
              "      <td>Not-in-family</td>\n",
              "      <td>White</td>\n",
              "      <td>Male</td>\n",
              "      <td>0</td>\n",
              "      <td>0</td>\n",
              "      <td>40</td>\n",
              "      <td>United-States</td>\n",
              "      <td>3</td>\n",
              "      <td>0</td>\n",
              "    </tr>\n",
              "    <tr>\n",
              "      <th>3</th>\n",
              "      <td>53</td>\n",
              "      <td>Private</td>\n",
              "      <td>234721</td>\n",
              "      <td>11th</td>\n",
              "      <td>7</td>\n",
              "      <td>Married-civ-spouse</td>\n",
              "      <td>Handlers-cleaners</td>\n",
              "      <td>Husband</td>\n",
              "      <td>Black</td>\n",
              "      <td>Male</td>\n",
              "      <td>0</td>\n",
              "      <td>0</td>\n",
              "      <td>40</td>\n",
              "      <td>United-States</td>\n",
              "      <td>6</td>\n",
              "      <td>0</td>\n",
              "    </tr>\n",
              "    <tr>\n",
              "      <th>4</th>\n",
              "      <td>28</td>\n",
              "      <td>Private</td>\n",
              "      <td>338409</td>\n",
              "      <td>Bachelors</td>\n",
              "      <td>13</td>\n",
              "      <td>Married-civ-spouse</td>\n",
              "      <td>Prof-specialty</td>\n",
              "      <td>Wife</td>\n",
              "      <td>Black</td>\n",
              "      <td>Female</td>\n",
              "      <td>0</td>\n",
              "      <td>0</td>\n",
              "      <td>40</td>\n",
              "      <td>Cuba</td>\n",
              "      <td>1</td>\n",
              "      <td>0</td>\n",
              "    </tr>\n",
              "  </tbody>\n",
              "</table>\n",
              "</div>"
            ],
            "text/plain": [
              "   age          workclass  fnlwgt  ...  native_country  age_buckets income_label\n",
              "0   39          State-gov   77516  ...   United-States            3            0\n",
              "1   50   Self-emp-not-inc   83311  ...   United-States            5            0\n",
              "2   38            Private  215646  ...   United-States            3            0\n",
              "3   53            Private  234721  ...   United-States            6            0\n",
              "4   28            Private  338409  ...            Cuba            1            0\n",
              "\n",
              "[5 rows x 16 columns]"
            ]
          },
          "metadata": {
            "tags": []
          },
          "execution_count": 8
        }
      ]
    },
    {
      "cell_type": "markdown",
      "metadata": {
        "id": "M94H0WHhCgDF",
        "colab_type": "text"
      },
      "source": [
        "wide-side 모델에서 사용할 컬럼을 선택하기"
      ]
    },
    {
      "cell_type": "code",
      "metadata": {
        "id": "wUxdJIrYC9sP",
        "colab_type": "code",
        "colab": {}
      },
      "source": [
        "wide_cols = ['workclass', 'education', 'marital_status', 'occupation', 'relationship', 'race', 'sex', 'native_country', 'age_buckets']\n",
        "crossed_cols = (['education', 'occupation'], ['native_country', 'occupation'])"
      ],
      "execution_count": 0,
      "outputs": []
    },
    {
      "cell_type": "markdown",
      "metadata": {
        "id": "bU97PQBPDl4S",
        "colab_type": "text"
      },
      "source": [
        "기존 논문의 crossed 에 대한 표현이 좀 더 합리적으로 변경 되었다.   \n",
        "전에는 crossed columns 에 대한 표현이 (true, true) -> 1, (다른 페어) -> 0\n",
        "- education_occupation\n",
        "- native_country_occupation"
      ]
    },
    {
      "cell_type": "code",
      "metadata": {
        "id": "p5lWM8qFDsIr",
        "colab_type": "code",
        "outputId": "2b12aebe-db63-4fed-8665-51eec083d03f",
        "colab": {
          "base_uri": "https://localhost:8080/",
          "height": 204
        }
      },
      "source": [
        "df_adult_wide = raw_data.copy()[wide_cols]\n",
        "crossed_columns = []\n",
        "for cols in crossed_cols:\n",
        "  colname = '_'.join(cols)\n",
        "  df_adult_wide[colname] = df_adult_wide[cols].apply(lambda x: '-'.join(x), axis=1)\n",
        "  crossed_columns.append(colname)\n",
        "df_adult_wide['age_buckets'].astype(str)\n",
        "df_adult_wide.head() \n",
        "\n"
      ],
      "execution_count": 10,
      "outputs": [
        {
          "output_type": "execute_result",
          "data": {
            "text/html": [
              "<div>\n",
              "<style scoped>\n",
              "    .dataframe tbody tr th:only-of-type {\n",
              "        vertical-align: middle;\n",
              "    }\n",
              "\n",
              "    .dataframe tbody tr th {\n",
              "        vertical-align: top;\n",
              "    }\n",
              "\n",
              "    .dataframe thead th {\n",
              "        text-align: right;\n",
              "    }\n",
              "</style>\n",
              "<table border=\"1\" class=\"dataframe\">\n",
              "  <thead>\n",
              "    <tr style=\"text-align: right;\">\n",
              "      <th></th>\n",
              "      <th>workclass</th>\n",
              "      <th>education</th>\n",
              "      <th>marital_status</th>\n",
              "      <th>occupation</th>\n",
              "      <th>relationship</th>\n",
              "      <th>race</th>\n",
              "      <th>sex</th>\n",
              "      <th>native_country</th>\n",
              "      <th>age_buckets</th>\n",
              "      <th>education_occupation</th>\n",
              "      <th>native_country_occupation</th>\n",
              "    </tr>\n",
              "  </thead>\n",
              "  <tbody>\n",
              "    <tr>\n",
              "      <th>0</th>\n",
              "      <td>State-gov</td>\n",
              "      <td>Bachelors</td>\n",
              "      <td>Never-married</td>\n",
              "      <td>Adm-clerical</td>\n",
              "      <td>Not-in-family</td>\n",
              "      <td>White</td>\n",
              "      <td>Male</td>\n",
              "      <td>United-States</td>\n",
              "      <td>3</td>\n",
              "      <td>Bachelors- Adm-clerical</td>\n",
              "      <td>United-States- Adm-clerical</td>\n",
              "    </tr>\n",
              "    <tr>\n",
              "      <th>1</th>\n",
              "      <td>Self-emp-not-inc</td>\n",
              "      <td>Bachelors</td>\n",
              "      <td>Married-civ-spouse</td>\n",
              "      <td>Exec-managerial</td>\n",
              "      <td>Husband</td>\n",
              "      <td>White</td>\n",
              "      <td>Male</td>\n",
              "      <td>United-States</td>\n",
              "      <td>5</td>\n",
              "      <td>Bachelors- Exec-managerial</td>\n",
              "      <td>United-States- Exec-managerial</td>\n",
              "    </tr>\n",
              "    <tr>\n",
              "      <th>2</th>\n",
              "      <td>Private</td>\n",
              "      <td>HS-grad</td>\n",
              "      <td>Divorced</td>\n",
              "      <td>Handlers-cleaners</td>\n",
              "      <td>Not-in-family</td>\n",
              "      <td>White</td>\n",
              "      <td>Male</td>\n",
              "      <td>United-States</td>\n",
              "      <td>3</td>\n",
              "      <td>HS-grad- Handlers-cleaners</td>\n",
              "      <td>United-States- Handlers-cleaners</td>\n",
              "    </tr>\n",
              "    <tr>\n",
              "      <th>3</th>\n",
              "      <td>Private</td>\n",
              "      <td>11th</td>\n",
              "      <td>Married-civ-spouse</td>\n",
              "      <td>Handlers-cleaners</td>\n",
              "      <td>Husband</td>\n",
              "      <td>Black</td>\n",
              "      <td>Male</td>\n",
              "      <td>United-States</td>\n",
              "      <td>6</td>\n",
              "      <td>11th- Handlers-cleaners</td>\n",
              "      <td>United-States- Handlers-cleaners</td>\n",
              "    </tr>\n",
              "    <tr>\n",
              "      <th>4</th>\n",
              "      <td>Private</td>\n",
              "      <td>Bachelors</td>\n",
              "      <td>Married-civ-spouse</td>\n",
              "      <td>Prof-specialty</td>\n",
              "      <td>Wife</td>\n",
              "      <td>Black</td>\n",
              "      <td>Female</td>\n",
              "      <td>Cuba</td>\n",
              "      <td>1</td>\n",
              "      <td>Bachelors- Prof-specialty</td>\n",
              "      <td>Cuba- Prof-specialty</td>\n",
              "    </tr>\n",
              "  </tbody>\n",
              "</table>\n",
              "</div>"
            ],
            "text/plain": [
              "           workclass  ...          native_country_occupation\n",
              "0          State-gov  ...        United-States- Adm-clerical\n",
              "1   Self-emp-not-inc  ...     United-States- Exec-managerial\n",
              "2            Private  ...   United-States- Handlers-cleaners\n",
              "3            Private  ...   United-States- Handlers-cleaners\n",
              "4            Private  ...               Cuba- Prof-specialty\n",
              "\n",
              "[5 rows x 11 columns]"
            ]
          },
          "metadata": {
            "tags": []
          },
          "execution_count": 10
        }
      ]
    },
    {
      "cell_type": "markdown",
      "metadata": {
        "id": "aU5QXjbAGXBi",
        "colab_type": "text"
      },
      "source": [
        "pd.get_dummies()를 이용해 가변수 (dummy var) 만들기 - 원-핫 인코딩"
      ]
    },
    {
      "cell_type": "code",
      "metadata": {
        "id": "3AZQ_rW-FUQ8",
        "colab_type": "code",
        "outputId": "9e9b8c2e-89b1-4ab7-a402-e9d9b73d2fe7",
        "colab": {
          "base_uri": "https://localhost:8080/",
          "height": 34
        }
      },
      "source": [
        "dummy_cols = wide_cols + crossed_columns\n",
        "df_adult_wide = pd.get_dummies(df_adult_wide, columns=dummy_cols)\n",
        "print(df_adult_wide.shape)"
      ],
      "execution_count": 11,
      "outputs": [
        {
          "output_type": "stream",
          "text": [
            "(32561, 770)\n"
          ],
          "name": "stdout"
        }
      ]
    },
    {
      "cell_type": "code",
      "metadata": {
        "id": "G-7xCQm2Fy5s",
        "colab_type": "code",
        "outputId": "6b7e533a-fbd6-47a1-b165-8d13556755e0",
        "colab": {
          "base_uri": "https://localhost:8080/",
          "height": 287
        }
      },
      "source": [
        "df_adult_wide.head()"
      ],
      "execution_count": 12,
      "outputs": [
        {
          "output_type": "execute_result",
          "data": {
            "text/html": [
              "<div>\n",
              "<style scoped>\n",
              "    .dataframe tbody tr th:only-of-type {\n",
              "        vertical-align: middle;\n",
              "    }\n",
              "\n",
              "    .dataframe tbody tr th {\n",
              "        vertical-align: top;\n",
              "    }\n",
              "\n",
              "    .dataframe thead th {\n",
              "        text-align: right;\n",
              "    }\n",
              "</style>\n",
              "<table border=\"1\" class=\"dataframe\">\n",
              "  <thead>\n",
              "    <tr style=\"text-align: right;\">\n",
              "      <th></th>\n",
              "      <th>workclass_ ?</th>\n",
              "      <th>workclass_ Federal-gov</th>\n",
              "      <th>workclass_ Local-gov</th>\n",
              "      <th>workclass_ Never-worked</th>\n",
              "      <th>workclass_ Private</th>\n",
              "      <th>workclass_ Self-emp-inc</th>\n",
              "      <th>workclass_ Self-emp-not-inc</th>\n",
              "      <th>workclass_ State-gov</th>\n",
              "      <th>workclass_ Without-pay</th>\n",
              "      <th>education_ 10th</th>\n",
              "      <th>education_ 11th</th>\n",
              "      <th>education_ 12th</th>\n",
              "      <th>education_ 1st-4th</th>\n",
              "      <th>education_ 5th-6th</th>\n",
              "      <th>education_ 7th-8th</th>\n",
              "      <th>education_ 9th</th>\n",
              "      <th>education_ Assoc-acdm</th>\n",
              "      <th>education_ Assoc-voc</th>\n",
              "      <th>education_ Bachelors</th>\n",
              "      <th>education_ Doctorate</th>\n",
              "      <th>education_ HS-grad</th>\n",
              "      <th>education_ Masters</th>\n",
              "      <th>education_ Preschool</th>\n",
              "      <th>education_ Prof-school</th>\n",
              "      <th>education_ Some-college</th>\n",
              "      <th>marital_status_ Divorced</th>\n",
              "      <th>marital_status_ Married-AF-spouse</th>\n",
              "      <th>marital_status_ Married-civ-spouse</th>\n",
              "      <th>marital_status_ Married-spouse-absent</th>\n",
              "      <th>marital_status_ Never-married</th>\n",
              "      <th>marital_status_ Separated</th>\n",
              "      <th>marital_status_ Widowed</th>\n",
              "      <th>occupation_ ?</th>\n",
              "      <th>occupation_ Adm-clerical</th>\n",
              "      <th>occupation_ Armed-Forces</th>\n",
              "      <th>occupation_ Craft-repair</th>\n",
              "      <th>occupation_ Exec-managerial</th>\n",
              "      <th>occupation_ Farming-fishing</th>\n",
              "      <th>occupation_ Handlers-cleaners</th>\n",
              "      <th>occupation_ Machine-op-inspct</th>\n",
              "      <th>...</th>\n",
              "      <th>native_country_occupation_ Trinadad&amp;Tobago- Machine-op-inspct</th>\n",
              "      <th>native_country_occupation_ Trinadad&amp;Tobago- Other-service</th>\n",
              "      <th>native_country_occupation_ Trinadad&amp;Tobago- Prof-specialty</th>\n",
              "      <th>native_country_occupation_ Trinadad&amp;Tobago- Sales</th>\n",
              "      <th>native_country_occupation_ Trinadad&amp;Tobago- Tech-support</th>\n",
              "      <th>native_country_occupation_ Trinadad&amp;Tobago- Transport-moving</th>\n",
              "      <th>native_country_occupation_ United-States- ?</th>\n",
              "      <th>native_country_occupation_ United-States- Adm-clerical</th>\n",
              "      <th>native_country_occupation_ United-States- Armed-Forces</th>\n",
              "      <th>native_country_occupation_ United-States- Craft-repair</th>\n",
              "      <th>native_country_occupation_ United-States- Exec-managerial</th>\n",
              "      <th>native_country_occupation_ United-States- Farming-fishing</th>\n",
              "      <th>native_country_occupation_ United-States- Handlers-cleaners</th>\n",
              "      <th>native_country_occupation_ United-States- Machine-op-inspct</th>\n",
              "      <th>native_country_occupation_ United-States- Other-service</th>\n",
              "      <th>native_country_occupation_ United-States- Priv-house-serv</th>\n",
              "      <th>native_country_occupation_ United-States- Prof-specialty</th>\n",
              "      <th>native_country_occupation_ United-States- Protective-serv</th>\n",
              "      <th>native_country_occupation_ United-States- Sales</th>\n",
              "      <th>native_country_occupation_ United-States- Tech-support</th>\n",
              "      <th>native_country_occupation_ United-States- Transport-moving</th>\n",
              "      <th>native_country_occupation_ Vietnam- ?</th>\n",
              "      <th>native_country_occupation_ Vietnam- Adm-clerical</th>\n",
              "      <th>native_country_occupation_ Vietnam- Craft-repair</th>\n",
              "      <th>native_country_occupation_ Vietnam- Exec-managerial</th>\n",
              "      <th>native_country_occupation_ Vietnam- Farming-fishing</th>\n",
              "      <th>native_country_occupation_ Vietnam- Handlers-cleaners</th>\n",
              "      <th>native_country_occupation_ Vietnam- Machine-op-inspct</th>\n",
              "      <th>native_country_occupation_ Vietnam- Other-service</th>\n",
              "      <th>native_country_occupation_ Vietnam- Prof-specialty</th>\n",
              "      <th>native_country_occupation_ Vietnam- Sales</th>\n",
              "      <th>native_country_occupation_ Vietnam- Tech-support</th>\n",
              "      <th>native_country_occupation_ Vietnam- Transport-moving</th>\n",
              "      <th>native_country_occupation_ Yugoslavia- Adm-clerical</th>\n",
              "      <th>native_country_occupation_ Yugoslavia- Craft-repair</th>\n",
              "      <th>native_country_occupation_ Yugoslavia- Exec-managerial</th>\n",
              "      <th>native_country_occupation_ Yugoslavia- Farming-fishing</th>\n",
              "      <th>native_country_occupation_ Yugoslavia- Machine-op-inspct</th>\n",
              "      <th>native_country_occupation_ Yugoslavia- Other-service</th>\n",
              "      <th>native_country_occupation_ Yugoslavia- Transport-moving</th>\n",
              "    </tr>\n",
              "  </thead>\n",
              "  <tbody>\n",
              "    <tr>\n",
              "      <th>0</th>\n",
              "      <td>0</td>\n",
              "      <td>0</td>\n",
              "      <td>0</td>\n",
              "      <td>0</td>\n",
              "      <td>0</td>\n",
              "      <td>0</td>\n",
              "      <td>0</td>\n",
              "      <td>1</td>\n",
              "      <td>0</td>\n",
              "      <td>0</td>\n",
              "      <td>0</td>\n",
              "      <td>0</td>\n",
              "      <td>0</td>\n",
              "      <td>0</td>\n",
              "      <td>0</td>\n",
              "      <td>0</td>\n",
              "      <td>0</td>\n",
              "      <td>0</td>\n",
              "      <td>1</td>\n",
              "      <td>0</td>\n",
              "      <td>0</td>\n",
              "      <td>0</td>\n",
              "      <td>0</td>\n",
              "      <td>0</td>\n",
              "      <td>0</td>\n",
              "      <td>0</td>\n",
              "      <td>0</td>\n",
              "      <td>0</td>\n",
              "      <td>0</td>\n",
              "      <td>1</td>\n",
              "      <td>0</td>\n",
              "      <td>0</td>\n",
              "      <td>0</td>\n",
              "      <td>1</td>\n",
              "      <td>0</td>\n",
              "      <td>0</td>\n",
              "      <td>0</td>\n",
              "      <td>0</td>\n",
              "      <td>0</td>\n",
              "      <td>0</td>\n",
              "      <td>...</td>\n",
              "      <td>0</td>\n",
              "      <td>0</td>\n",
              "      <td>0</td>\n",
              "      <td>0</td>\n",
              "      <td>0</td>\n",
              "      <td>0</td>\n",
              "      <td>0</td>\n",
              "      <td>1</td>\n",
              "      <td>0</td>\n",
              "      <td>0</td>\n",
              "      <td>0</td>\n",
              "      <td>0</td>\n",
              "      <td>0</td>\n",
              "      <td>0</td>\n",
              "      <td>0</td>\n",
              "      <td>0</td>\n",
              "      <td>0</td>\n",
              "      <td>0</td>\n",
              "      <td>0</td>\n",
              "      <td>0</td>\n",
              "      <td>0</td>\n",
              "      <td>0</td>\n",
              "      <td>0</td>\n",
              "      <td>0</td>\n",
              "      <td>0</td>\n",
              "      <td>0</td>\n",
              "      <td>0</td>\n",
              "      <td>0</td>\n",
              "      <td>0</td>\n",
              "      <td>0</td>\n",
              "      <td>0</td>\n",
              "      <td>0</td>\n",
              "      <td>0</td>\n",
              "      <td>0</td>\n",
              "      <td>0</td>\n",
              "      <td>0</td>\n",
              "      <td>0</td>\n",
              "      <td>0</td>\n",
              "      <td>0</td>\n",
              "      <td>0</td>\n",
              "    </tr>\n",
              "    <tr>\n",
              "      <th>1</th>\n",
              "      <td>0</td>\n",
              "      <td>0</td>\n",
              "      <td>0</td>\n",
              "      <td>0</td>\n",
              "      <td>0</td>\n",
              "      <td>0</td>\n",
              "      <td>1</td>\n",
              "      <td>0</td>\n",
              "      <td>0</td>\n",
              "      <td>0</td>\n",
              "      <td>0</td>\n",
              "      <td>0</td>\n",
              "      <td>0</td>\n",
              "      <td>0</td>\n",
              "      <td>0</td>\n",
              "      <td>0</td>\n",
              "      <td>0</td>\n",
              "      <td>0</td>\n",
              "      <td>1</td>\n",
              "      <td>0</td>\n",
              "      <td>0</td>\n",
              "      <td>0</td>\n",
              "      <td>0</td>\n",
              "      <td>0</td>\n",
              "      <td>0</td>\n",
              "      <td>0</td>\n",
              "      <td>0</td>\n",
              "      <td>1</td>\n",
              "      <td>0</td>\n",
              "      <td>0</td>\n",
              "      <td>0</td>\n",
              "      <td>0</td>\n",
              "      <td>0</td>\n",
              "      <td>0</td>\n",
              "      <td>0</td>\n",
              "      <td>0</td>\n",
              "      <td>1</td>\n",
              "      <td>0</td>\n",
              "      <td>0</td>\n",
              "      <td>0</td>\n",
              "      <td>...</td>\n",
              "      <td>0</td>\n",
              "      <td>0</td>\n",
              "      <td>0</td>\n",
              "      <td>0</td>\n",
              "      <td>0</td>\n",
              "      <td>0</td>\n",
              "      <td>0</td>\n",
              "      <td>0</td>\n",
              "      <td>0</td>\n",
              "      <td>0</td>\n",
              "      <td>1</td>\n",
              "      <td>0</td>\n",
              "      <td>0</td>\n",
              "      <td>0</td>\n",
              "      <td>0</td>\n",
              "      <td>0</td>\n",
              "      <td>0</td>\n",
              "      <td>0</td>\n",
              "      <td>0</td>\n",
              "      <td>0</td>\n",
              "      <td>0</td>\n",
              "      <td>0</td>\n",
              "      <td>0</td>\n",
              "      <td>0</td>\n",
              "      <td>0</td>\n",
              "      <td>0</td>\n",
              "      <td>0</td>\n",
              "      <td>0</td>\n",
              "      <td>0</td>\n",
              "      <td>0</td>\n",
              "      <td>0</td>\n",
              "      <td>0</td>\n",
              "      <td>0</td>\n",
              "      <td>0</td>\n",
              "      <td>0</td>\n",
              "      <td>0</td>\n",
              "      <td>0</td>\n",
              "      <td>0</td>\n",
              "      <td>0</td>\n",
              "      <td>0</td>\n",
              "    </tr>\n",
              "    <tr>\n",
              "      <th>2</th>\n",
              "      <td>0</td>\n",
              "      <td>0</td>\n",
              "      <td>0</td>\n",
              "      <td>0</td>\n",
              "      <td>1</td>\n",
              "      <td>0</td>\n",
              "      <td>0</td>\n",
              "      <td>0</td>\n",
              "      <td>0</td>\n",
              "      <td>0</td>\n",
              "      <td>0</td>\n",
              "      <td>0</td>\n",
              "      <td>0</td>\n",
              "      <td>0</td>\n",
              "      <td>0</td>\n",
              "      <td>0</td>\n",
              "      <td>0</td>\n",
              "      <td>0</td>\n",
              "      <td>0</td>\n",
              "      <td>0</td>\n",
              "      <td>1</td>\n",
              "      <td>0</td>\n",
              "      <td>0</td>\n",
              "      <td>0</td>\n",
              "      <td>0</td>\n",
              "      <td>1</td>\n",
              "      <td>0</td>\n",
              "      <td>0</td>\n",
              "      <td>0</td>\n",
              "      <td>0</td>\n",
              "      <td>0</td>\n",
              "      <td>0</td>\n",
              "      <td>0</td>\n",
              "      <td>0</td>\n",
              "      <td>0</td>\n",
              "      <td>0</td>\n",
              "      <td>0</td>\n",
              "      <td>0</td>\n",
              "      <td>1</td>\n",
              "      <td>0</td>\n",
              "      <td>...</td>\n",
              "      <td>0</td>\n",
              "      <td>0</td>\n",
              "      <td>0</td>\n",
              "      <td>0</td>\n",
              "      <td>0</td>\n",
              "      <td>0</td>\n",
              "      <td>0</td>\n",
              "      <td>0</td>\n",
              "      <td>0</td>\n",
              "      <td>0</td>\n",
              "      <td>0</td>\n",
              "      <td>0</td>\n",
              "      <td>1</td>\n",
              "      <td>0</td>\n",
              "      <td>0</td>\n",
              "      <td>0</td>\n",
              "      <td>0</td>\n",
              "      <td>0</td>\n",
              "      <td>0</td>\n",
              "      <td>0</td>\n",
              "      <td>0</td>\n",
              "      <td>0</td>\n",
              "      <td>0</td>\n",
              "      <td>0</td>\n",
              "      <td>0</td>\n",
              "      <td>0</td>\n",
              "      <td>0</td>\n",
              "      <td>0</td>\n",
              "      <td>0</td>\n",
              "      <td>0</td>\n",
              "      <td>0</td>\n",
              "      <td>0</td>\n",
              "      <td>0</td>\n",
              "      <td>0</td>\n",
              "      <td>0</td>\n",
              "      <td>0</td>\n",
              "      <td>0</td>\n",
              "      <td>0</td>\n",
              "      <td>0</td>\n",
              "      <td>0</td>\n",
              "    </tr>\n",
              "    <tr>\n",
              "      <th>3</th>\n",
              "      <td>0</td>\n",
              "      <td>0</td>\n",
              "      <td>0</td>\n",
              "      <td>0</td>\n",
              "      <td>1</td>\n",
              "      <td>0</td>\n",
              "      <td>0</td>\n",
              "      <td>0</td>\n",
              "      <td>0</td>\n",
              "      <td>0</td>\n",
              "      <td>1</td>\n",
              "      <td>0</td>\n",
              "      <td>0</td>\n",
              "      <td>0</td>\n",
              "      <td>0</td>\n",
              "      <td>0</td>\n",
              "      <td>0</td>\n",
              "      <td>0</td>\n",
              "      <td>0</td>\n",
              "      <td>0</td>\n",
              "      <td>0</td>\n",
              "      <td>0</td>\n",
              "      <td>0</td>\n",
              "      <td>0</td>\n",
              "      <td>0</td>\n",
              "      <td>0</td>\n",
              "      <td>0</td>\n",
              "      <td>1</td>\n",
              "      <td>0</td>\n",
              "      <td>0</td>\n",
              "      <td>0</td>\n",
              "      <td>0</td>\n",
              "      <td>0</td>\n",
              "      <td>0</td>\n",
              "      <td>0</td>\n",
              "      <td>0</td>\n",
              "      <td>0</td>\n",
              "      <td>0</td>\n",
              "      <td>1</td>\n",
              "      <td>0</td>\n",
              "      <td>...</td>\n",
              "      <td>0</td>\n",
              "      <td>0</td>\n",
              "      <td>0</td>\n",
              "      <td>0</td>\n",
              "      <td>0</td>\n",
              "      <td>0</td>\n",
              "      <td>0</td>\n",
              "      <td>0</td>\n",
              "      <td>0</td>\n",
              "      <td>0</td>\n",
              "      <td>0</td>\n",
              "      <td>0</td>\n",
              "      <td>1</td>\n",
              "      <td>0</td>\n",
              "      <td>0</td>\n",
              "      <td>0</td>\n",
              "      <td>0</td>\n",
              "      <td>0</td>\n",
              "      <td>0</td>\n",
              "      <td>0</td>\n",
              "      <td>0</td>\n",
              "      <td>0</td>\n",
              "      <td>0</td>\n",
              "      <td>0</td>\n",
              "      <td>0</td>\n",
              "      <td>0</td>\n",
              "      <td>0</td>\n",
              "      <td>0</td>\n",
              "      <td>0</td>\n",
              "      <td>0</td>\n",
              "      <td>0</td>\n",
              "      <td>0</td>\n",
              "      <td>0</td>\n",
              "      <td>0</td>\n",
              "      <td>0</td>\n",
              "      <td>0</td>\n",
              "      <td>0</td>\n",
              "      <td>0</td>\n",
              "      <td>0</td>\n",
              "      <td>0</td>\n",
              "    </tr>\n",
              "    <tr>\n",
              "      <th>4</th>\n",
              "      <td>0</td>\n",
              "      <td>0</td>\n",
              "      <td>0</td>\n",
              "      <td>0</td>\n",
              "      <td>1</td>\n",
              "      <td>0</td>\n",
              "      <td>0</td>\n",
              "      <td>0</td>\n",
              "      <td>0</td>\n",
              "      <td>0</td>\n",
              "      <td>0</td>\n",
              "      <td>0</td>\n",
              "      <td>0</td>\n",
              "      <td>0</td>\n",
              "      <td>0</td>\n",
              "      <td>0</td>\n",
              "      <td>0</td>\n",
              "      <td>0</td>\n",
              "      <td>1</td>\n",
              "      <td>0</td>\n",
              "      <td>0</td>\n",
              "      <td>0</td>\n",
              "      <td>0</td>\n",
              "      <td>0</td>\n",
              "      <td>0</td>\n",
              "      <td>0</td>\n",
              "      <td>0</td>\n",
              "      <td>1</td>\n",
              "      <td>0</td>\n",
              "      <td>0</td>\n",
              "      <td>0</td>\n",
              "      <td>0</td>\n",
              "      <td>0</td>\n",
              "      <td>0</td>\n",
              "      <td>0</td>\n",
              "      <td>0</td>\n",
              "      <td>0</td>\n",
              "      <td>0</td>\n",
              "      <td>0</td>\n",
              "      <td>0</td>\n",
              "      <td>...</td>\n",
              "      <td>0</td>\n",
              "      <td>0</td>\n",
              "      <td>0</td>\n",
              "      <td>0</td>\n",
              "      <td>0</td>\n",
              "      <td>0</td>\n",
              "      <td>0</td>\n",
              "      <td>0</td>\n",
              "      <td>0</td>\n",
              "      <td>0</td>\n",
              "      <td>0</td>\n",
              "      <td>0</td>\n",
              "      <td>0</td>\n",
              "      <td>0</td>\n",
              "      <td>0</td>\n",
              "      <td>0</td>\n",
              "      <td>0</td>\n",
              "      <td>0</td>\n",
              "      <td>0</td>\n",
              "      <td>0</td>\n",
              "      <td>0</td>\n",
              "      <td>0</td>\n",
              "      <td>0</td>\n",
              "      <td>0</td>\n",
              "      <td>0</td>\n",
              "      <td>0</td>\n",
              "      <td>0</td>\n",
              "      <td>0</td>\n",
              "      <td>0</td>\n",
              "      <td>0</td>\n",
              "      <td>0</td>\n",
              "      <td>0</td>\n",
              "      <td>0</td>\n",
              "      <td>0</td>\n",
              "      <td>0</td>\n",
              "      <td>0</td>\n",
              "      <td>0</td>\n",
              "      <td>0</td>\n",
              "      <td>0</td>\n",
              "      <td>0</td>\n",
              "    </tr>\n",
              "  </tbody>\n",
              "</table>\n",
              "<p>5 rows × 770 columns</p>\n",
              "</div>"
            ],
            "text/plain": [
              "   workclass_ ?  ...  native_country_occupation_ Yugoslavia- Transport-moving\n",
              "0             0  ...                                                  0      \n",
              "1             0  ...                                                  0      \n",
              "2             0  ...                                                  0      \n",
              "3             0  ...                                                  0      \n",
              "4             0  ...                                                  0      \n",
              "\n",
              "[5 rows x 770 columns]"
            ]
          },
          "metadata": {
            "tags": []
          },
          "execution_count": 12
        }
      ]
    },
    {
      "cell_type": "markdown",
      "metadata": {
        "id": "TMdpQmT2IUfn",
        "colab_type": "text"
      },
      "source": [
        "deep-dense 사이드 모델에 사용할 컬럼을 정의한다.   \n",
        "임베딩으로 표현되어 Dense 레이어로 들어갈 예정이다."
      ]
    },
    {
      "cell_type": "code",
      "metadata": {
        "id": "KwFF84VqIoKK",
        "colab_type": "code",
        "colab": {}
      },
      "source": [
        "# embeddings_cols = [(column_name, dimension of the corresponding embeddings)]\n",
        "embeddings_cols = [('workclass', 10),\n",
        "                   ('education', 10),\n",
        "                   ('occupation', 10),\n",
        "                   ('relationship', 8),\n",
        "                   ('native_country', 10)]\n",
        "continuous_cols = ['age', 'wrk_hrs_per_week', 'capital-gain', 'capital-loss']"
      ],
      "execution_count": 0,
      "outputs": []
    },
    {
      "cell_type": "code",
      "metadata": {
        "id": "A0YvwXdKJ3v3",
        "colab_type": "code",
        "outputId": "3ff56bd2-605b-4bb6-e6ce-2b749dbab494",
        "colab": {
          "base_uri": "https://localhost:8080/",
          "height": 170
        }
      },
      "source": [
        "def_dum = 8\n",
        "if type(embeddings_cols[0]) is tuple:\n",
        "  emb_dim = dict(embeddings_cols)\n",
        "  embeddings_cols = [emb[0] for emb in embeddings_cols]\n",
        "else:\n",
        "  emb_dim = {e:def_dim for e in embeddings_cols}\n",
        "  embeddings_cols = embeddings_cols\n",
        "deep_cols = embeddings_cols + continuous_cols\n",
        "deep_cols"
      ],
      "execution_count": 14,
      "outputs": [
        {
          "output_type": "execute_result",
          "data": {
            "text/plain": [
              "['workclass',\n",
              " 'education',\n",
              " 'occupation',\n",
              " 'relationship',\n",
              " 'native_country',\n",
              " 'age',\n",
              " 'wrk_hrs_per_week',\n",
              " 'capital-gain',\n",
              " 'capital-loss']"
            ]
          },
          "metadata": {
            "tags": []
          },
          "execution_count": 14
        }
      ]
    },
    {
      "cell_type": "code",
      "metadata": {
        "id": "5tmLldEiJwyp",
        "colab_type": "code",
        "outputId": "362c14b0-1824-40c0-e4f0-342325cfe615",
        "colab": {
          "base_uri": "https://localhost:8080/",
          "height": 34
        }
      },
      "source": [
        "df_adult_deep = raw_data.copy()[deep_cols]\n",
        "categorical_columns = list(df_adult_deep.select_dtypes(include=['object']).columns)\n",
        "categorical_columns"
      ],
      "execution_count": 15,
      "outputs": [
        {
          "output_type": "execute_result",
          "data": {
            "text/plain": [
              "['workclass', 'education', 'occupation', 'relationship', 'native_country']"
            ]
          },
          "metadata": {
            "tags": []
          },
          "execution_count": 15
        }
      ]
    },
    {
      "cell_type": "markdown",
      "metadata": {
        "id": "Vdtn4iUfM2iH",
        "colab_type": "text"
      },
      "source": [
        "카테고리컬 컬럼들을 'label encode' 한다."
      ]
    },
    {
      "cell_type": "code",
      "metadata": {
        "id": "dx0_PkrQNB-h",
        "colab_type": "code",
        "colab": {}
      },
      "source": [
        "def label_encode(df_input, cols=None, val_to_idx=None):\n",
        "  df = df_input.copy()\n",
        "  if cols == None:\n",
        "    cols = list(df.select_dtypes(include=['object']).columns)\n",
        "\n",
        "  if not val_to_idx:\n",
        "    val_types = dict()\n",
        "    for c in cols:\n",
        "      val_types[c] = df[c].unique() # 각 카테고리 컬럼의 항목을 넣는다. \n",
        "\n",
        "      val_to_idx = dict()\n",
        "      for k, v in val_types.items(): # 카테고리 컬럼 이름, 카테고리 항목\n",
        "        val_to_idx[k] = {o: i for i, o in enumerate(val_types[k])}\n",
        "\n",
        "  for k, v in val_to_idx.items():\n",
        "    df[k] = df[k].apply(lambda x: v[x])\n",
        "  \n",
        "  return df, val_to_idx"
      ],
      "execution_count": 0,
      "outputs": []
    },
    {
      "cell_type": "code",
      "metadata": {
        "id": "RGidGtIuOseU",
        "colab_type": "code",
        "colab": {}
      },
      "source": [
        "df_adult_deep, encoding_dict = label_encode(df_adult_deep, cols=categorical_columns)\n",
        "embeddings_encoding_dict = {k:encoding_dict[k] for k in encoding_dict if k in deep_cols}\n",
        "embeddings_input = []\n",
        "for k, v in embeddings_encoding_dict.items():\n",
        "  embeddings_input.append((k, len(v), emb_dim[k]))\n",
        "\n",
        "deep_column_idx = {k:v for v,k in enumerate(df_adult_deep.columns)}"
      ],
      "execution_count": 0,
      "outputs": []
    },
    {
      "cell_type": "code",
      "metadata": {
        "id": "92a7Ht0kXszq",
        "colab_type": "code",
        "outputId": "07c90f3b-0d09-4cc1-9c6d-183f266f6cc9",
        "colab": {
          "base_uri": "https://localhost:8080/",
          "height": 170
        }
      },
      "source": [
        "deep_column_idx"
      ],
      "execution_count": 18,
      "outputs": [
        {
          "output_type": "execute_result",
          "data": {
            "text/plain": [
              "{'age': 5,\n",
              " 'capital-gain': 7,\n",
              " 'capital-loss': 8,\n",
              " 'education': 1,\n",
              " 'native_country': 4,\n",
              " 'occupation': 2,\n",
              " 'relationship': 3,\n",
              " 'workclass': 0,\n",
              " 'wrk_hrs_per_week': 6}"
            ]
          },
          "metadata": {
            "tags": []
          },
          "execution_count": 18
        }
      ]
    },
    {
      "cell_type": "code",
      "metadata": {
        "id": "LKTLrXj2RBGo",
        "colab_type": "code",
        "outputId": "dd36c9e1-4cc6-4fc2-b777-6b8086e23a45",
        "colab": {
          "base_uri": "https://localhost:8080/",
          "height": 1000
        }
      },
      "source": [
        "embeddings_encoding_dict"
      ],
      "execution_count": 19,
      "outputs": [
        {
          "output_type": "execute_result",
          "data": {
            "text/plain": [
              "{'education': {' 10th': 12,\n",
              "  ' 11th': 2,\n",
              "  ' 12th': 15,\n",
              "  ' 1st-4th': 13,\n",
              "  ' 5th-6th': 11,\n",
              "  ' 7th-8th': 8,\n",
              "  ' 9th': 4,\n",
              "  ' Assoc-acdm': 6,\n",
              "  ' Assoc-voc': 7,\n",
              "  ' Bachelors': 0,\n",
              "  ' Doctorate': 9,\n",
              "  ' HS-grad': 1,\n",
              "  ' Masters': 3,\n",
              "  ' Preschool': 14,\n",
              "  ' Prof-school': 10,\n",
              "  ' Some-college': 5},\n",
              " 'native_country': {' ?': 4,\n",
              "  ' Cambodia': 17,\n",
              "  ' Canada': 10,\n",
              "  ' China': 28,\n",
              "  ' Columbia': 16,\n",
              "  ' Cuba': 1,\n",
              "  ' Dominican-Republic': 24,\n",
              "  ' Ecuador': 19,\n",
              "  ' El-Salvador': 25,\n",
              "  ' England': 9,\n",
              "  ' France': 26,\n",
              "  ' Germany': 11,\n",
              "  ' Greece': 35,\n",
              "  ' Guatemala': 27,\n",
              "  ' Haiti': 22,\n",
              "  ' Holand-Netherlands': 41,\n",
              "  ' Honduras': 8,\n",
              "  ' Hong': 38,\n",
              "  ' Hungary': 40,\n",
              "  ' India': 3,\n",
              "  ' Iran': 12,\n",
              "  ' Ireland': 39,\n",
              "  ' Italy': 14,\n",
              "  ' Jamaica': 2,\n",
              "  ' Japan': 29,\n",
              "  ' Laos': 20,\n",
              "  ' Mexico': 5,\n",
              "  ' Nicaragua': 36,\n",
              "  ' Outlying-US(Guam-USVI-etc)': 32,\n",
              "  ' Peru': 31,\n",
              "  ' Philippines': 13,\n",
              "  ' Poland': 15,\n",
              "  ' Portugal': 23,\n",
              "  ' Puerto-Rico': 7,\n",
              "  ' Scotland': 33,\n",
              "  ' South': 6,\n",
              "  ' Taiwan': 21,\n",
              "  ' Thailand': 18,\n",
              "  ' Trinadad&Tobago': 34,\n",
              "  ' United-States': 0,\n",
              "  ' Vietnam': 37,\n",
              "  ' Yugoslavia': 30},\n",
              " 'occupation': {' ?': 11,\n",
              "  ' Adm-clerical': 0,\n",
              "  ' Armed-Forces': 13,\n",
              "  ' Craft-repair': 6,\n",
              "  ' Exec-managerial': 1,\n",
              "  ' Farming-fishing': 8,\n",
              "  ' Handlers-cleaners': 2,\n",
              "  ' Machine-op-inspct': 9,\n",
              "  ' Other-service': 4,\n",
              "  ' Priv-house-serv': 14,\n",
              "  ' Prof-specialty': 3,\n",
              "  ' Protective-serv': 12,\n",
              "  ' Sales': 5,\n",
              "  ' Tech-support': 10,\n",
              "  ' Transport-moving': 7},\n",
              " 'relationship': {' Husband': 1,\n",
              "  ' Not-in-family': 0,\n",
              "  ' Other-relative': 5,\n",
              "  ' Own-child': 3,\n",
              "  ' Unmarried': 4,\n",
              "  ' Wife': 2},\n",
              " 'workclass': {' ?': 5,\n",
              "  ' Federal-gov': 3,\n",
              "  ' Local-gov': 4,\n",
              "  ' Never-worked': 8,\n",
              "  ' Private': 2,\n",
              "  ' Self-emp-inc': 6,\n",
              "  ' Self-emp-not-inc': 1,\n",
              "  ' State-gov': 0,\n",
              "  ' Without-pay': 7}}"
            ]
          },
          "metadata": {
            "tags": []
          },
          "execution_count": 19
        }
      ]
    },
    {
      "cell_type": "code",
      "metadata": {
        "id": "zmPwOls_RQKa",
        "colab_type": "code",
        "outputId": "a106479f-9566-4315-ae58-6a84f739c551",
        "colab": {
          "base_uri": "https://localhost:8080/",
          "height": 102
        }
      },
      "source": [
        "embeddings_input"
      ],
      "execution_count": 20,
      "outputs": [
        {
          "output_type": "execute_result",
          "data": {
            "text/plain": [
              "[('workclass', 9, 10),\n",
              " ('education', 16, 10),\n",
              " ('occupation', 15, 10),\n",
              " ('relationship', 6, 8),\n",
              " ('native_country', 42, 10)]"
            ]
          },
          "metadata": {
            "tags": []
          },
          "execution_count": 20
        }
      ]
    },
    {
      "cell_type": "code",
      "metadata": {
        "id": "AvZGwvyrRYak",
        "colab_type": "code",
        "outputId": "a6b63f8a-1b27-40e6-8f86-19195dd3aab9",
        "colab": {
          "base_uri": "https://localhost:8080/",
          "height": 204
        }
      },
      "source": [
        "df_adult_deep.head()"
      ],
      "execution_count": 21,
      "outputs": [
        {
          "output_type": "execute_result",
          "data": {
            "text/html": [
              "<div>\n",
              "<style scoped>\n",
              "    .dataframe tbody tr th:only-of-type {\n",
              "        vertical-align: middle;\n",
              "    }\n",
              "\n",
              "    .dataframe tbody tr th {\n",
              "        vertical-align: top;\n",
              "    }\n",
              "\n",
              "    .dataframe thead th {\n",
              "        text-align: right;\n",
              "    }\n",
              "</style>\n",
              "<table border=\"1\" class=\"dataframe\">\n",
              "  <thead>\n",
              "    <tr style=\"text-align: right;\">\n",
              "      <th></th>\n",
              "      <th>workclass</th>\n",
              "      <th>education</th>\n",
              "      <th>occupation</th>\n",
              "      <th>relationship</th>\n",
              "      <th>native_country</th>\n",
              "      <th>age</th>\n",
              "      <th>wrk_hrs_per_week</th>\n",
              "      <th>capital-gain</th>\n",
              "      <th>capital-loss</th>\n",
              "    </tr>\n",
              "  </thead>\n",
              "  <tbody>\n",
              "    <tr>\n",
              "      <th>0</th>\n",
              "      <td>0</td>\n",
              "      <td>0</td>\n",
              "      <td>0</td>\n",
              "      <td>0</td>\n",
              "      <td>0</td>\n",
              "      <td>39</td>\n",
              "      <td>40</td>\n",
              "      <td>2174</td>\n",
              "      <td>0</td>\n",
              "    </tr>\n",
              "    <tr>\n",
              "      <th>1</th>\n",
              "      <td>1</td>\n",
              "      <td>0</td>\n",
              "      <td>1</td>\n",
              "      <td>1</td>\n",
              "      <td>0</td>\n",
              "      <td>50</td>\n",
              "      <td>13</td>\n",
              "      <td>0</td>\n",
              "      <td>0</td>\n",
              "    </tr>\n",
              "    <tr>\n",
              "      <th>2</th>\n",
              "      <td>2</td>\n",
              "      <td>1</td>\n",
              "      <td>2</td>\n",
              "      <td>0</td>\n",
              "      <td>0</td>\n",
              "      <td>38</td>\n",
              "      <td>40</td>\n",
              "      <td>0</td>\n",
              "      <td>0</td>\n",
              "    </tr>\n",
              "    <tr>\n",
              "      <th>3</th>\n",
              "      <td>2</td>\n",
              "      <td>2</td>\n",
              "      <td>2</td>\n",
              "      <td>1</td>\n",
              "      <td>0</td>\n",
              "      <td>53</td>\n",
              "      <td>40</td>\n",
              "      <td>0</td>\n",
              "      <td>0</td>\n",
              "    </tr>\n",
              "    <tr>\n",
              "      <th>4</th>\n",
              "      <td>2</td>\n",
              "      <td>0</td>\n",
              "      <td>3</td>\n",
              "      <td>2</td>\n",
              "      <td>1</td>\n",
              "      <td>28</td>\n",
              "      <td>40</td>\n",
              "      <td>0</td>\n",
              "      <td>0</td>\n",
              "    </tr>\n",
              "  </tbody>\n",
              "</table>\n",
              "</div>"
            ],
            "text/plain": [
              "   workclass  education  ...  capital-gain  capital-loss\n",
              "0          0          0  ...          2174             0\n",
              "1          1          0  ...             0             0\n",
              "2          2          1  ...             0             0\n",
              "3          2          2  ...             0             0\n",
              "4          2          0  ...             0             0\n",
              "\n",
              "[5 rows x 9 columns]"
            ]
          },
          "metadata": {
            "tags": []
          },
          "execution_count": 21
        }
      ]
    },
    {
      "cell_type": "code",
      "metadata": {
        "id": "QFg49u-RSFVe",
        "colab_type": "code",
        "outputId": "a3ac7668-045d-4d1e-ea99-830c33988e7a",
        "colab": {
          "base_uri": "https://localhost:8080/",
          "height": 204
        }
      },
      "source": [
        "from sklearn.preprocessing import StandardScaler\n",
        "\n",
        "standardize_cols = continuous_cols\n",
        "scaler = StandardScaler()\n",
        "\n",
        "for cc in standardize_cols:\n",
        "  df_adult_deep[cc] = scaler.fit_transform(raw_data[cc].values.reshape(-1, 1).astype(float))\n",
        "\n",
        "df_adult_deep.head()"
      ],
      "execution_count": 22,
      "outputs": [
        {
          "output_type": "execute_result",
          "data": {
            "text/html": [
              "<div>\n",
              "<style scoped>\n",
              "    .dataframe tbody tr th:only-of-type {\n",
              "        vertical-align: middle;\n",
              "    }\n",
              "\n",
              "    .dataframe tbody tr th {\n",
              "        vertical-align: top;\n",
              "    }\n",
              "\n",
              "    .dataframe thead th {\n",
              "        text-align: right;\n",
              "    }\n",
              "</style>\n",
              "<table border=\"1\" class=\"dataframe\">\n",
              "  <thead>\n",
              "    <tr style=\"text-align: right;\">\n",
              "      <th></th>\n",
              "      <th>workclass</th>\n",
              "      <th>education</th>\n",
              "      <th>occupation</th>\n",
              "      <th>relationship</th>\n",
              "      <th>native_country</th>\n",
              "      <th>age</th>\n",
              "      <th>wrk_hrs_per_week</th>\n",
              "      <th>capital-gain</th>\n",
              "      <th>capital-loss</th>\n",
              "    </tr>\n",
              "  </thead>\n",
              "  <tbody>\n",
              "    <tr>\n",
              "      <th>0</th>\n",
              "      <td>0</td>\n",
              "      <td>0</td>\n",
              "      <td>0</td>\n",
              "      <td>0</td>\n",
              "      <td>0</td>\n",
              "      <td>0.030671</td>\n",
              "      <td>-0.035429</td>\n",
              "      <td>0.148453</td>\n",
              "      <td>-0.21666</td>\n",
              "    </tr>\n",
              "    <tr>\n",
              "      <th>1</th>\n",
              "      <td>1</td>\n",
              "      <td>0</td>\n",
              "      <td>1</td>\n",
              "      <td>1</td>\n",
              "      <td>0</td>\n",
              "      <td>0.837109</td>\n",
              "      <td>-2.222153</td>\n",
              "      <td>-0.145920</td>\n",
              "      <td>-0.21666</td>\n",
              "    </tr>\n",
              "    <tr>\n",
              "      <th>2</th>\n",
              "      <td>2</td>\n",
              "      <td>1</td>\n",
              "      <td>2</td>\n",
              "      <td>0</td>\n",
              "      <td>0</td>\n",
              "      <td>-0.042642</td>\n",
              "      <td>-0.035429</td>\n",
              "      <td>-0.145920</td>\n",
              "      <td>-0.21666</td>\n",
              "    </tr>\n",
              "    <tr>\n",
              "      <th>3</th>\n",
              "      <td>2</td>\n",
              "      <td>2</td>\n",
              "      <td>2</td>\n",
              "      <td>1</td>\n",
              "      <td>0</td>\n",
              "      <td>1.057047</td>\n",
              "      <td>-0.035429</td>\n",
              "      <td>-0.145920</td>\n",
              "      <td>-0.21666</td>\n",
              "    </tr>\n",
              "    <tr>\n",
              "      <th>4</th>\n",
              "      <td>2</td>\n",
              "      <td>0</td>\n",
              "      <td>3</td>\n",
              "      <td>2</td>\n",
              "      <td>1</td>\n",
              "      <td>-0.775768</td>\n",
              "      <td>-0.035429</td>\n",
              "      <td>-0.145920</td>\n",
              "      <td>-0.21666</td>\n",
              "    </tr>\n",
              "  </tbody>\n",
              "</table>\n",
              "</div>"
            ],
            "text/plain": [
              "   workclass  education  ...  capital-gain  capital-loss\n",
              "0          0          0  ...      0.148453      -0.21666\n",
              "1          1          0  ...     -0.145920      -0.21666\n",
              "2          2          1  ...     -0.145920      -0.21666\n",
              "3          2          2  ...     -0.145920      -0.21666\n",
              "4          2          0  ...     -0.145920      -0.21666\n",
              "\n",
              "[5 rows x 9 columns]"
            ]
          },
          "metadata": {
            "tags": []
          },
          "execution_count": 22
        }
      ]
    },
    {
      "cell_type": "markdown",
      "metadata": {
        "id": "Ltj7Yxe0c0ra",
        "colab_type": "text"
      },
      "source": [
        ""
      ]
    },
    {
      "cell_type": "code",
      "metadata": {
        "id": "zYELTNCuWW3A",
        "colab_type": "code",
        "colab": {}
      },
      "source": [
        "from sklearn.model_selection import train_test_split\n",
        "\n",
        "x_wide = df_adult_wide.values\n",
        "y = raw_data['income_label']\n",
        "\n",
        "x_deep = df_adult_deep.values\n",
        "cat_embed_input = embeddings_input\n",
        "cat_embed_encoding_dict = embeddings_encoding_dict\n",
        "deep_column_idx = deep_column_idx\n",
        "continuous_cols = continuous_cols\n",
        "\n",
        "# train / valid / test split\n",
        "x_train_wide, x_valid_wide = train_test_split(x_wide, test_size=0.4, random_state=1004)\n",
        "x_train_deep, x_valid_deep = train_test_split(x_deep, test_size=0.4, random_state=1004)\n",
        "y_train, y_valid = train_test_split(y, test_size=0.4, random_state=1004)\n",
        "\n",
        "x_valid_wide, x_test_wide = train_test_split(x_valid_wide, test_size=0.4, random_state=1004)\n",
        "x_valid_deep, x_test_deep = train_test_split(x_valid_deep, test_size=0.4, random_state=1004)\n",
        "y_valid, y_test = train_test_split(y_valid, test_size=0.4, random_state=1004)"
      ],
      "execution_count": 0,
      "outputs": []
    },
    {
      "cell_type": "markdown",
      "metadata": {
        "id": "MsBr3kAhfzac",
        "colab_type": "text"
      },
      "source": [
        "## 모델을 만들어 보자 https://github.com/Srifox/Wide-and-Deep-PyTorch/blob/master/demo2_building_blocks.ipynb   \n",
        "### Wide"
      ]
    },
    {
      "cell_type": "code",
      "metadata": {
        "id": "Lcc9g5F-Tlv0",
        "colab_type": "code",
        "colab": {}
      },
      "source": [
        "import torch\n",
        "import torch.nn as nn\n",
        "import torch.nn.functional as F\n",
        "\n",
        "class Wide(nn.Module):\n",
        "  def __init__(self, wide_dim, output_dim):\n",
        "    super(Wide, self).__init__()\n",
        "    self.linear = nn.Linear(wide_dim, output_dim)\n",
        "  def forward(self, input):\n",
        "    out = self.linear(input)\n",
        "    return out"
      ],
      "execution_count": 0,
      "outputs": []
    },
    {
      "cell_type": "code",
      "metadata": {
        "id": "NMvrcOJ-UAw4",
        "colab_type": "code",
        "outputId": "c562bb76-6104-40a8-e279-e943fba1d99a",
        "colab": {
          "base_uri": "https://localhost:8080/",
          "height": 34
        }
      },
      "source": [
        "x_train_wide.shape"
      ],
      "execution_count": 25,
      "outputs": [
        {
          "output_type": "execute_result",
          "data": {
            "text/plain": [
              "(19536, 770)"
            ]
          },
          "metadata": {
            "tags": []
          },
          "execution_count": 25
        }
      ]
    },
    {
      "cell_type": "code",
      "metadata": {
        "id": "NCcZ1rgIaodO",
        "colab_type": "code",
        "outputId": "9fccd932-f189-4336-b063-79460caab028",
        "colab": {
          "base_uri": "https://localhost:8080/",
          "height": 102
        }
      },
      "source": [
        "wide_model = Wide(wide_dim=770, output_dim=1)\n",
        "\n",
        "x_train_batch4 = torch.Tensor(x_train_wide[0:4])\n",
        "print(x_train_batch4.shape)\n",
        "\n",
        "result = wide_model(x_train_batch4)\n",
        "print(result)"
      ],
      "execution_count": 26,
      "outputs": [
        {
          "output_type": "stream",
          "text": [
            "torch.Size([4, 770])\n",
            "tensor([[ 0.0140],\n",
            "        [ 0.0277],\n",
            "        [-0.0214],\n",
            "        [ 0.0476]], grad_fn=<AddmmBackward>)\n"
          ],
          "name": "stdout"
        }
      ]
    },
    {
      "cell_type": "markdown",
      "metadata": {
        "id": "Pau_fMLUJbXb",
        "colab_type": "text"
      },
      "source": [
        "### Deep"
      ]
    },
    {
      "cell_type": "code",
      "metadata": {
        "id": "iLIXQ1J8Lkq7",
        "colab_type": "code",
        "colab": {}
      },
      "source": [
        "def dense_layer(input, output):\n",
        "  return nn.Sequential(\n",
        "      nn.Linear(input, output),\n",
        "      nn.LeakyReLU(inplace=True),\n",
        "      nn.Dropout()\n",
        "      )\n",
        "\n",
        "class DeepDense(nn.Module):\n",
        "  def __init__(self, embeddings_input, embeddings_encoding_dict, continuous_cols, deep_column_idx, hidden_layers, output_dim):\n",
        "    super(DeepDense, self).__init__()\n",
        "\n",
        "    self.embeddings_input = embeddings_input\n",
        "    self.embeddings_encoding_dict = embeddings_encoding_dict\n",
        "    self.continuous_cols = continuous_cols\n",
        "    self.deep_column_idx = deep_column_idx\n",
        "\n",
        "    for col, val, dim in embeddings_input:\n",
        "      print(col, val, dim)\n",
        "      setattr(self, 'emb_layer_' + col, nn.Embedding(val, dim))\n",
        "    \n",
        "    input_emb_dim = np.sum([emb[2] for emb in embeddings_input]) + len(continuous_cols)\n",
        "    hidden_layers = [input_emb_dim] + hidden_layers\n",
        "    \n",
        "    self.dense = nn.Sequential()\n",
        "    for i in range(1, len(hidden_layers)):\n",
        "      self.dense.add_module(\n",
        "          'dense_layer_{}'.format(i-1),\n",
        "          dense_layer( hidden_layers[i-1], hidden_layers[i])\n",
        "\n",
        "      )\n",
        "    \n",
        "    self.dense.add_module('last_linear', nn.Linear(hidden_layers[-1], output_dim))\n",
        "\n",
        "  def forward(self, X:torch.Tensor)->torch.Tensor:\n",
        "    emb = [getattr(self, 'emb_layer_' + col)(X[:, self.deep_column_idx[col]].long())\n",
        "            for col, _, _ in self.embeddings_input]     \n",
        "    if self.continuous_cols:\n",
        "      cont_idx = [self.deep_column_idx[col] for col in self.continuous_cols]\n",
        "      cont = [X[:, cont_idx].float()]\n",
        "      input = torch.cat(emb+cont, 1)\n",
        "    else:\n",
        "      input = torch.cat(emb, 1)\n",
        "    out = self.dense(input)                                                                                        \n",
        "    return out"
      ],
      "execution_count": 0,
      "outputs": []
    },
    {
      "cell_type": "code",
      "metadata": {
        "id": "Jm8m-sIFhVJf",
        "colab_type": "code",
        "outputId": "6ec48fdb-a140-45ed-82d9-4828d53deb15",
        "colab": {
          "base_uri": "https://localhost:8080/",
          "height": 102
        }
      },
      "source": [
        "cat_embed_input # 유니크 항목의 수, 임베딩 차원 수"
      ],
      "execution_count": 28,
      "outputs": [
        {
          "output_type": "execute_result",
          "data": {
            "text/plain": [
              "[('workclass', 9, 10),\n",
              " ('education', 16, 10),\n",
              " ('occupation', 15, 10),\n",
              " ('relationship', 6, 8),\n",
              " ('native_country', 42, 10)]"
            ]
          },
          "metadata": {
            "tags": []
          },
          "execution_count": 28
        }
      ]
    },
    {
      "cell_type": "code",
      "metadata": {
        "id": "YgIZ-ar_iGA2",
        "colab_type": "code",
        "outputId": "c63bb694-2035-4e58-ab99-ad036b211a88",
        "colab": {
          "base_uri": "https://localhost:8080/",
          "height": 1000
        }
      },
      "source": [
        "cat_embed_encoding_dict "
      ],
      "execution_count": 29,
      "outputs": [
        {
          "output_type": "execute_result",
          "data": {
            "text/plain": [
              "{'education': {' 10th': 12,\n",
              "  ' 11th': 2,\n",
              "  ' 12th': 15,\n",
              "  ' 1st-4th': 13,\n",
              "  ' 5th-6th': 11,\n",
              "  ' 7th-8th': 8,\n",
              "  ' 9th': 4,\n",
              "  ' Assoc-acdm': 6,\n",
              "  ' Assoc-voc': 7,\n",
              "  ' Bachelors': 0,\n",
              "  ' Doctorate': 9,\n",
              "  ' HS-grad': 1,\n",
              "  ' Masters': 3,\n",
              "  ' Preschool': 14,\n",
              "  ' Prof-school': 10,\n",
              "  ' Some-college': 5},\n",
              " 'native_country': {' ?': 4,\n",
              "  ' Cambodia': 17,\n",
              "  ' Canada': 10,\n",
              "  ' China': 28,\n",
              "  ' Columbia': 16,\n",
              "  ' Cuba': 1,\n",
              "  ' Dominican-Republic': 24,\n",
              "  ' Ecuador': 19,\n",
              "  ' El-Salvador': 25,\n",
              "  ' England': 9,\n",
              "  ' France': 26,\n",
              "  ' Germany': 11,\n",
              "  ' Greece': 35,\n",
              "  ' Guatemala': 27,\n",
              "  ' Haiti': 22,\n",
              "  ' Holand-Netherlands': 41,\n",
              "  ' Honduras': 8,\n",
              "  ' Hong': 38,\n",
              "  ' Hungary': 40,\n",
              "  ' India': 3,\n",
              "  ' Iran': 12,\n",
              "  ' Ireland': 39,\n",
              "  ' Italy': 14,\n",
              "  ' Jamaica': 2,\n",
              "  ' Japan': 29,\n",
              "  ' Laos': 20,\n",
              "  ' Mexico': 5,\n",
              "  ' Nicaragua': 36,\n",
              "  ' Outlying-US(Guam-USVI-etc)': 32,\n",
              "  ' Peru': 31,\n",
              "  ' Philippines': 13,\n",
              "  ' Poland': 15,\n",
              "  ' Portugal': 23,\n",
              "  ' Puerto-Rico': 7,\n",
              "  ' Scotland': 33,\n",
              "  ' South': 6,\n",
              "  ' Taiwan': 21,\n",
              "  ' Thailand': 18,\n",
              "  ' Trinadad&Tobago': 34,\n",
              "  ' United-States': 0,\n",
              "  ' Vietnam': 37,\n",
              "  ' Yugoslavia': 30},\n",
              " 'occupation': {' ?': 11,\n",
              "  ' Adm-clerical': 0,\n",
              "  ' Armed-Forces': 13,\n",
              "  ' Craft-repair': 6,\n",
              "  ' Exec-managerial': 1,\n",
              "  ' Farming-fishing': 8,\n",
              "  ' Handlers-cleaners': 2,\n",
              "  ' Machine-op-inspct': 9,\n",
              "  ' Other-service': 4,\n",
              "  ' Priv-house-serv': 14,\n",
              "  ' Prof-specialty': 3,\n",
              "  ' Protective-serv': 12,\n",
              "  ' Sales': 5,\n",
              "  ' Tech-support': 10,\n",
              "  ' Transport-moving': 7},\n",
              " 'relationship': {' Husband': 1,\n",
              "  ' Not-in-family': 0,\n",
              "  ' Other-relative': 5,\n",
              "  ' Own-child': 3,\n",
              "  ' Unmarried': 4,\n",
              "  ' Wife': 2},\n",
              " 'workclass': {' ?': 5,\n",
              "  ' Federal-gov': 3,\n",
              "  ' Local-gov': 4,\n",
              "  ' Never-worked': 8,\n",
              "  ' Private': 2,\n",
              "  ' Self-emp-inc': 6,\n",
              "  ' Self-emp-not-inc': 1,\n",
              "  ' State-gov': 0,\n",
              "  ' Without-pay': 7}}"
            ]
          },
          "metadata": {
            "tags": []
          },
          "execution_count": 29
        }
      ]
    },
    {
      "cell_type": "code",
      "metadata": {
        "id": "V8Duso7iiuvY",
        "colab_type": "code",
        "outputId": "46f291a0-a91b-43d2-bd23-8ae254b3b43e",
        "colab": {
          "base_uri": "https://localhost:8080/",
          "height": 34
        }
      },
      "source": [
        "continuous_cols"
      ],
      "execution_count": 30,
      "outputs": [
        {
          "output_type": "execute_result",
          "data": {
            "text/plain": [
              "['age', 'wrk_hrs_per_week', 'capital-gain', 'capital-loss']"
            ]
          },
          "metadata": {
            "tags": []
          },
          "execution_count": 30
        }
      ]
    },
    {
      "cell_type": "code",
      "metadata": {
        "id": "cWGIc8rPlWHr",
        "colab_type": "code",
        "outputId": "819a0175-46a3-4565-c9e8-d63de8b77046",
        "colab": {
          "base_uri": "https://localhost:8080/",
          "height": 102
        }
      },
      "source": [
        "deep = DeepDense( embeddings_input=cat_embed_input,\n",
        "                  embeddings_encoding_dict=cat_embed_encoding_dict, \n",
        "                  continuous_cols=continuous_cols,\n",
        "                  deep_column_idx=deep_column_idx, \n",
        "                  hidden_layers=[32,16], \n",
        "                  output_dim=1)"
      ],
      "execution_count": 31,
      "outputs": [
        {
          "output_type": "stream",
          "text": [
            "workclass 9 10\n",
            "education 16 10\n",
            "occupation 15 10\n",
            "relationship 6 8\n",
            "native_country 42 10\n"
          ],
          "name": "stdout"
        }
      ]
    },
    {
      "cell_type": "code",
      "metadata": {
        "id": "bi3R8HXOmBYA",
        "colab_type": "code",
        "outputId": "5ac3930d-35ba-47e4-ef3e-a0e1589e8687",
        "colab": {
          "base_uri": "https://localhost:8080/",
          "height": 357
        }
      },
      "source": [
        "deep"
      ],
      "execution_count": 32,
      "outputs": [
        {
          "output_type": "execute_result",
          "data": {
            "text/plain": [
              "DeepDense(\n",
              "  (emb_layer_workclass): Embedding(9, 10)\n",
              "  (emb_layer_education): Embedding(16, 10)\n",
              "  (emb_layer_occupation): Embedding(15, 10)\n",
              "  (emb_layer_relationship): Embedding(6, 8)\n",
              "  (emb_layer_native_country): Embedding(42, 10)\n",
              "  (dense): Sequential(\n",
              "    (dense_layer_0): Sequential(\n",
              "      (0): Linear(in_features=52, out_features=32, bias=True)\n",
              "      (1): LeakyReLU(negative_slope=0.01, inplace=True)\n",
              "      (2): Dropout(p=0.5, inplace=False)\n",
              "    )\n",
              "    (dense_layer_1): Sequential(\n",
              "      (0): Linear(in_features=32, out_features=16, bias=True)\n",
              "      (1): LeakyReLU(negative_slope=0.01, inplace=True)\n",
              "      (2): Dropout(p=0.5, inplace=False)\n",
              "    )\n",
              "    (last_linear): Linear(in_features=16, out_features=1, bias=True)\n",
              "  )\n",
              ")"
            ]
          },
          "metadata": {
            "tags": []
          },
          "execution_count": 32
        }
      ]
    },
    {
      "cell_type": "code",
      "metadata": {
        "id": "zAiHdg15m3Dg",
        "colab_type": "code",
        "outputId": "d988696b-0922-4453-c62c-4a7e9675eb8a",
        "colab": {
          "base_uri": "https://localhost:8080/",
          "height": 34
        }
      },
      "source": [
        "deep_batch = torch.from_numpy(x_train_deep[:4])\n",
        "deep_batch.shape"
      ],
      "execution_count": 33,
      "outputs": [
        {
          "output_type": "execute_result",
          "data": {
            "text/plain": [
              "torch.Size([4, 9])"
            ]
          },
          "metadata": {
            "tags": []
          },
          "execution_count": 33
        }
      ]
    },
    {
      "cell_type": "code",
      "metadata": {
        "id": "6hdXgRl7nMit",
        "colab_type": "code",
        "outputId": "e194bbd4-4c09-4699-de4f-667dc3f9c93c",
        "colab": {
          "base_uri": "https://localhost:8080/",
          "height": 85
        }
      },
      "source": [
        "out = deep(deep_batch)\n",
        "out"
      ],
      "execution_count": 34,
      "outputs": [
        {
          "output_type": "execute_result",
          "data": {
            "text/plain": [
              "tensor([[-0.1113],\n",
              "        [-0.2046],\n",
              "        [-0.2811],\n",
              "        [-0.5020]], grad_fn=<AddmmBackward>)"
            ]
          },
          "metadata": {
            "tags": []
          },
          "execution_count": 34
        }
      ]
    },
    {
      "cell_type": "markdown",
      "metadata": {
        "id": "tL5f80sang3u",
        "colab_type": "text"
      },
      "source": [
        "Wide and Deep "
      ]
    },
    {
      "cell_type": "code",
      "metadata": {
        "id": "_3dr1Lorfeo5",
        "colab_type": "code",
        "colab": {}
      },
      "source": [
        "def set_method(method):\n",
        "  if method == 'regression':\n",
        "    return None, F.mse_loss\n",
        "  if method == 'logistic':\n",
        "    return torch.sigmoid, F.binary_cross_entropy\n",
        "  if method == 'multiclass':\n",
        "    return F.softmax, F.cross_entropy"
      ],
      "execution_count": 0,
      "outputs": []
    },
    {
      "cell_type": "code",
      "metadata": {
        "id": "mJXVU41gfx0C",
        "colab_type": "code",
        "colab": {}
      },
      "source": [
        "def set_optimizer(model_params, opt_params):\n",
        "  try:\n",
        "    opt, lr, m = opt_params\n",
        "  except:\n",
        "    opt, lr = opt_params\n",
        "\n",
        "  if opt == \"Adam\":\n",
        "    return torch.optim.Adam(model_params, lr=lr)\n",
        "  if opt == \"Adagrad\":\n",
        "    return torch.optim.Adam(model_params, lr=lr)\n",
        "  if opt == \"RMSprop\":\n",
        "    return torch.optim.RMSprop(model_params, lr=lr, momentum=m)\n",
        "  if opt == \"SGD\":\n",
        "    return torch.optim.SGD(model_params, lr=lr, momentum=m)"
      ],
      "execution_count": 0,
      "outputs": []
    },
    {
      "cell_type": "code",
      "metadata": {
        "id": "rd6zJJSXnXUc",
        "colab_type": "code",
        "colab": {}
      },
      "source": [
        "class WideDeep(nn.Module):\n",
        "  def __init__(self, output_dim, **params):\n",
        "    super(WideDeep, self).__init__()\n",
        "\n",
        "    self.datasets = {}\n",
        "    self.output_dim = output_dim\n",
        "    self.n_datasets = 1\n",
        "    for k, v in params['wide'].items():\n",
        "      setattr(self, k, v)\n",
        "    self.wide = Wide(\n",
        "      self.wide_dim,\n",
        "      self.output_dim)\n",
        "    \n",
        "    self.datasets['deep_dense'] = self.n_datasets\n",
        "    self.n_datasets += 1\n",
        "    for k, v in params['deep_dense'].items():\n",
        "      setattr(self, k, v)\n",
        "    self.deep_dense = DeepDense(\n",
        "      embeddings_input=self.embeddings_input,\n",
        "      embeddings_encoding_dict=self.embeddings_encoding_dict, \n",
        "      continuous_cols=self.continuous_cols,\n",
        "      deep_column_idx=self.deep_column_idx, \n",
        "      hidden_layers=self.hidden_layers, \n",
        "      output_dim=self.output_dim)\n",
        "    \n",
        "  def compile(self, method, optimizer):\n",
        "    self.method = method,\n",
        "    self.activation, self.criterion = set_method(method)\n",
        "    self.optimizer = set_optimizer(self.parameters(), optimizer)\n",
        "\n",
        "  def forward(self, input):\n",
        "    wide_inp = input[0]\n",
        "    wide_deep = self.wide(wide_inp)\n",
        "\n",
        "    deep_dense_idx = self.datasets['deep_dense']\n",
        "    deep_dense_out = self.deep_dense(input[deep_dense_idx])\n",
        "    wide_deep.add_(deep_dense_out)\n",
        "\n",
        "    if not self.activation:\n",
        "      return wide_deep\n",
        "    else:\n",
        "      if( self.activation == F.softmax):\n",
        "        out = self.activation(wide_deep, dim=1)\n",
        "      else:\n",
        "        out = self.activation(wide_deep)\n",
        "      return out"
      ],
      "execution_count": 0,
      "outputs": []
    },
    {
      "cell_type": "code",
      "metadata": {
        "id": "E_qui3sFnip0",
        "colab_type": "code",
        "colab": {
          "base_uri": "https://localhost:8080/",
          "height": 1000
        },
        "outputId": "f2471884-ebaf-49c1-bc04-1c0407de2b0b"
      },
      "source": [
        "params = dict()\n",
        "params['wide'] = dict(\n",
        "  wide_dim = 770\n",
        ")\n",
        "params['deep_dense'] = dict(\n",
        "  embeddings_input=cat_embed_input,\n",
        "  embeddings_encoding_dict=cat_embed_encoding_dict, \n",
        "  continuous_cols=continuous_cols,\n",
        "  deep_column_idx=deep_column_idx, \n",
        "  hidden_layers=[32,16]\n",
        ")\n",
        "\n",
        "params"
      ],
      "execution_count": 63,
      "outputs": [
        {
          "output_type": "execute_result",
          "data": {
            "text/plain": [
              "{'deep_dense': {'continuous_cols': ['age',\n",
              "   'wrk_hrs_per_week',\n",
              "   'capital-gain',\n",
              "   'capital-loss'],\n",
              "  'deep_column_idx': {'age': 5,\n",
              "   'capital-gain': 7,\n",
              "   'capital-loss': 8,\n",
              "   'education': 1,\n",
              "   'native_country': 4,\n",
              "   'occupation': 2,\n",
              "   'relationship': 3,\n",
              "   'workclass': 0,\n",
              "   'wrk_hrs_per_week': 6},\n",
              "  'embeddings_encoding_dict': {'education': {' 10th': 12,\n",
              "    ' 11th': 2,\n",
              "    ' 12th': 15,\n",
              "    ' 1st-4th': 13,\n",
              "    ' 5th-6th': 11,\n",
              "    ' 7th-8th': 8,\n",
              "    ' 9th': 4,\n",
              "    ' Assoc-acdm': 6,\n",
              "    ' Assoc-voc': 7,\n",
              "    ' Bachelors': 0,\n",
              "    ' Doctorate': 9,\n",
              "    ' HS-grad': 1,\n",
              "    ' Masters': 3,\n",
              "    ' Preschool': 14,\n",
              "    ' Prof-school': 10,\n",
              "    ' Some-college': 5},\n",
              "   'native_country': {' ?': 4,\n",
              "    ' Cambodia': 17,\n",
              "    ' Canada': 10,\n",
              "    ' China': 28,\n",
              "    ' Columbia': 16,\n",
              "    ' Cuba': 1,\n",
              "    ' Dominican-Republic': 24,\n",
              "    ' Ecuador': 19,\n",
              "    ' El-Salvador': 25,\n",
              "    ' England': 9,\n",
              "    ' France': 26,\n",
              "    ' Germany': 11,\n",
              "    ' Greece': 35,\n",
              "    ' Guatemala': 27,\n",
              "    ' Haiti': 22,\n",
              "    ' Holand-Netherlands': 41,\n",
              "    ' Honduras': 8,\n",
              "    ' Hong': 38,\n",
              "    ' Hungary': 40,\n",
              "    ' India': 3,\n",
              "    ' Iran': 12,\n",
              "    ' Ireland': 39,\n",
              "    ' Italy': 14,\n",
              "    ' Jamaica': 2,\n",
              "    ' Japan': 29,\n",
              "    ' Laos': 20,\n",
              "    ' Mexico': 5,\n",
              "    ' Nicaragua': 36,\n",
              "    ' Outlying-US(Guam-USVI-etc)': 32,\n",
              "    ' Peru': 31,\n",
              "    ' Philippines': 13,\n",
              "    ' Poland': 15,\n",
              "    ' Portugal': 23,\n",
              "    ' Puerto-Rico': 7,\n",
              "    ' Scotland': 33,\n",
              "    ' South': 6,\n",
              "    ' Taiwan': 21,\n",
              "    ' Thailand': 18,\n",
              "    ' Trinadad&Tobago': 34,\n",
              "    ' United-States': 0,\n",
              "    ' Vietnam': 37,\n",
              "    ' Yugoslavia': 30},\n",
              "   'occupation': {' ?': 11,\n",
              "    ' Adm-clerical': 0,\n",
              "    ' Armed-Forces': 13,\n",
              "    ' Craft-repair': 6,\n",
              "    ' Exec-managerial': 1,\n",
              "    ' Farming-fishing': 8,\n",
              "    ' Handlers-cleaners': 2,\n",
              "    ' Machine-op-inspct': 9,\n",
              "    ' Other-service': 4,\n",
              "    ' Priv-house-serv': 14,\n",
              "    ' Prof-specialty': 3,\n",
              "    ' Protective-serv': 12,\n",
              "    ' Sales': 5,\n",
              "    ' Tech-support': 10,\n",
              "    ' Transport-moving': 7},\n",
              "   'relationship': {' Husband': 1,\n",
              "    ' Not-in-family': 0,\n",
              "    ' Other-relative': 5,\n",
              "    ' Own-child': 3,\n",
              "    ' Unmarried': 4,\n",
              "    ' Wife': 2},\n",
              "   'workclass': {' ?': 5,\n",
              "    ' Federal-gov': 3,\n",
              "    ' Local-gov': 4,\n",
              "    ' Never-worked': 8,\n",
              "    ' Private': 2,\n",
              "    ' Self-emp-inc': 6,\n",
              "    ' Self-emp-not-inc': 1,\n",
              "    ' State-gov': 0,\n",
              "    ' Without-pay': 7}},\n",
              "  'embeddings_input': [('workclass', 9, 10),\n",
              "   ('education', 16, 10),\n",
              "   ('occupation', 15, 10),\n",
              "   ('relationship', 6, 8),\n",
              "   ('native_country', 42, 10)],\n",
              "  'hidden_layers': [32, 16]},\n",
              " 'wide': {'wide_dim': 770}}"
            ]
          },
          "metadata": {
            "tags": []
          },
          "execution_count": 63
        }
      ]
    },
    {
      "cell_type": "code",
      "metadata": {
        "id": "3wF_5a_wiYs6",
        "colab_type": "code",
        "colab": {
          "base_uri": "https://localhost:8080/",
          "height": 102
        },
        "outputId": "4e67a696-5889-4a74-b4e9-beaa180dbc7a"
      },
      "source": [
        "wide_deep = WideDeep(output_dim=1, **params)"
      ],
      "execution_count": 64,
      "outputs": [
        {
          "output_type": "stream",
          "text": [
            "workclass 9 10\n",
            "education 16 10\n",
            "occupation 15 10\n",
            "relationship 6 8\n",
            "native_country 42 10\n"
          ],
          "name": "stdout"
        }
      ]
    },
    {
      "cell_type": "code",
      "metadata": {
        "id": "007EuLpVijL9",
        "colab_type": "code",
        "colab": {
          "base_uri": "https://localhost:8080/",
          "height": 442
        },
        "outputId": "a7c6a8dc-dfaa-4022-a358-85a4d754f5a1"
      },
      "source": [
        "wide_deep"
      ],
      "execution_count": 65,
      "outputs": [
        {
          "output_type": "execute_result",
          "data": {
            "text/plain": [
              "WideDeep(\n",
              "  (wide): Wide(\n",
              "    (linear): Linear(in_features=770, out_features=1, bias=True)\n",
              "  )\n",
              "  (deep_dense): DeepDense(\n",
              "    (emb_layer_workclass): Embedding(9, 10)\n",
              "    (emb_layer_education): Embedding(16, 10)\n",
              "    (emb_layer_occupation): Embedding(15, 10)\n",
              "    (emb_layer_relationship): Embedding(6, 8)\n",
              "    (emb_layer_native_country): Embedding(42, 10)\n",
              "    (dense): Sequential(\n",
              "      (dense_layer_0): Sequential(\n",
              "        (0): Linear(in_features=52, out_features=32, bias=True)\n",
              "        (1): LeakyReLU(negative_slope=0.01, inplace=True)\n",
              "        (2): Dropout(p=0.5, inplace=False)\n",
              "      )\n",
              "      (dense_layer_1): Sequential(\n",
              "        (0): Linear(in_features=32, out_features=16, bias=True)\n",
              "        (1): LeakyReLU(negative_slope=0.01, inplace=True)\n",
              "        (2): Dropout(p=0.5, inplace=False)\n",
              "      )\n",
              "      (last_linear): Linear(in_features=16, out_features=1, bias=True)\n",
              "    )\n",
              "  )\n",
              ")"
            ]
          },
          "metadata": {
            "tags": []
          },
          "execution_count": 65
        }
      ]
    },
    {
      "cell_type": "code",
      "metadata": {
        "id": "OaYqD-_Tkmu0",
        "colab_type": "code",
        "colab": {}
      },
      "source": [
        "wide_batch = torch.Tensor(x_train_wide[0:4])\n",
        "deep_batch = torch.from_numpy(x_train_deep[:4])\n",
        "wide_deep_batch = (wide_batch, deep_batch)"
      ],
      "execution_count": 0,
      "outputs": []
    },
    {
      "cell_type": "code",
      "metadata": {
        "id": "uVfowIyJk64q",
        "colab_type": "code",
        "colab": {
          "base_uri": "https://localhost:8080/",
          "height": 85
        },
        "outputId": "954d7d0b-44d4-4835-9328-ace77451bea1"
      },
      "source": [
        "wide_deep.compile(method='regression', optimizer=[\"Adam\", 0.01])\n",
        "wide_deep(wide_deep_batch)"
      ],
      "execution_count": 67,
      "outputs": [
        {
          "output_type": "execute_result",
          "data": {
            "text/plain": [
              "tensor([[-0.3260],\n",
              "        [-0.2096],\n",
              "        [-0.3274],\n",
              "        [-0.3310]], grad_fn=<AddBackward0>)"
            ]
          },
          "metadata": {
            "tags": []
          },
          "execution_count": 67
        }
      ]
    },
    {
      "cell_type": "code",
      "metadata": {
        "id": "rFE1pJA1lCkQ",
        "colab_type": "code",
        "colab": {}
      },
      "source": [
        ""
      ],
      "execution_count": 0,
      "outputs": []
    }
  ]
}