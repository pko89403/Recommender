{
  "nbformat": 4,
  "nbformat_minor": 0,
  "metadata": {
    "colab": {
      "name": "item2vec.ipynb",
      "provenance": [],
      "collapsed_sections": [],
      "mount_file_id": "144VhdxwnoIYyR9RsF2lCREtPknAu5Nb3",
      "authorship_tag": "ABX9TyOytSW/4bZpKImIj8cVjS9e",
      "include_colab_link": true
    },
    "kernelspec": {
      "name": "python3",
      "display_name": "Python 3"
    }
  },
  "cells": [
    {
      "cell_type": "markdown",
      "metadata": {
        "id": "view-in-github",
        "colab_type": "text"
      },
      "source": [
        "<a href=\"https://colab.research.google.com/github/pko89403/Recsys_test/blob/master/item2vec.ipynb\" target=\"_parent\"><img src=\"https://colab.research.google.com/assets/colab-badge.svg\" alt=\"Open In Colab\"/></a>"
      ]
    },
    {
      "cell_type": "code",
      "metadata": {
        "id": "KO0XqrETwZ-u",
        "colab_type": "code",
        "outputId": "e052eb1e-81f7-4998-986d-3ca4238f7d71",
        "colab": {
          "base_uri": "https://localhost:8080/",
          "height": 34
        }
      },
      "source": [
        "!pwd"
      ],
      "execution_count": 0,
      "outputs": [
        {
          "output_type": "stream",
          "text": [
            "/content\n"
          ],
          "name": "stdout"
        }
      ]
    },
    {
      "cell_type": "code",
      "metadata": {
        "id": "9074bAdIw7KJ",
        "colab_type": "code",
        "outputId": "0e56fe81-a428-454f-91d1-fe65a4c431c1",
        "colab": {
          "base_uri": "https://localhost:8080/",
          "height": 34
        }
      },
      "source": [
        "!ls /content/"
      ],
      "execution_count": 0,
      "outputs": [
        {
          "output_type": "stream",
          "text": [
            "sample_data\n"
          ],
          "name": "stdout"
        }
      ]
    },
    {
      "cell_type": "code",
      "metadata": {
        "id": "PVMrYgFGw9Gk",
        "colab_type": "code",
        "colab": {}
      },
      "source": [
        "import pandas as pd\n",
        "\n",
        "RATINGS_PATH = \"/content/drive/My Drive/data/ml-1m/ratings.dat\"\n",
        "MOVIES_PATH = \"/content/drive/My Drive/data/ml-1m/movies.dat\""
      ],
      "execution_count": 0,
      "outputs": []
    },
    {
      "cell_type": "code",
      "metadata": {
        "id": "DoNBawYpxTQP",
        "colab_type": "code",
        "colab": {}
      },
      "source": [
        "ratings = pd.read_csv(RATINGS_PATH, header=None, sep=\"::\", engine=\"python\")\n",
        "movies = pd.read_csv(MOVIES_PATH, header=None, sep=\"::\", engine=\"python\")"
      ],
      "execution_count": 0,
      "outputs": []
    },
    {
      "cell_type": "code",
      "metadata": {
        "id": "6m8XrGnmxYVr",
        "colab_type": "code",
        "colab": {}
      },
      "source": [
        "ratings.columns = [\"uuid\", \"iid\", \"rating\", \"timestamp\"]\n",
        "movies.columns = [\"iid\", \"movie_name\", \"genre\"]"
      ],
      "execution_count": 0,
      "outputs": []
    },
    {
      "cell_type": "code",
      "metadata": {
        "id": "1gE3ywoSIl2h",
        "colab_type": "code",
        "colab": {
          "base_uri": "https://localhost:8080/",
          "height": 204
        },
        "outputId": "c37ce795-7f14-4a7a-f990-4cabd0fb1f9a"
      },
      "source": [
        "ratings.head()\n",
        "movies.head()"
      ],
      "execution_count": 30,
      "outputs": [
        {
          "output_type": "execute_result",
          "data": {
            "text/html": [
              "<div>\n",
              "<style scoped>\n",
              "    .dataframe tbody tr th:only-of-type {\n",
              "        vertical-align: middle;\n",
              "    }\n",
              "\n",
              "    .dataframe tbody tr th {\n",
              "        vertical-align: top;\n",
              "    }\n",
              "\n",
              "    .dataframe thead th {\n",
              "        text-align: right;\n",
              "    }\n",
              "</style>\n",
              "<table border=\"1\" class=\"dataframe\">\n",
              "  <thead>\n",
              "    <tr style=\"text-align: right;\">\n",
              "      <th></th>\n",
              "      <th>iid</th>\n",
              "      <th>movie_name</th>\n",
              "      <th>genre</th>\n",
              "    </tr>\n",
              "  </thead>\n",
              "  <tbody>\n",
              "    <tr>\n",
              "      <th>0</th>\n",
              "      <td>1</td>\n",
              "      <td>Toy Story (1995)</td>\n",
              "      <td>Animation|Children's|Comedy</td>\n",
              "    </tr>\n",
              "    <tr>\n",
              "      <th>1</th>\n",
              "      <td>2</td>\n",
              "      <td>Jumanji (1995)</td>\n",
              "      <td>Adventure|Children's|Fantasy</td>\n",
              "    </tr>\n",
              "    <tr>\n",
              "      <th>2</th>\n",
              "      <td>3</td>\n",
              "      <td>Grumpier Old Men (1995)</td>\n",
              "      <td>Comedy|Romance</td>\n",
              "    </tr>\n",
              "    <tr>\n",
              "      <th>3</th>\n",
              "      <td>4</td>\n",
              "      <td>Waiting to Exhale (1995)</td>\n",
              "      <td>Comedy|Drama</td>\n",
              "    </tr>\n",
              "    <tr>\n",
              "      <th>4</th>\n",
              "      <td>5</td>\n",
              "      <td>Father of the Bride Part II (1995)</td>\n",
              "      <td>Comedy</td>\n",
              "    </tr>\n",
              "  </tbody>\n",
              "</table>\n",
              "</div>"
            ],
            "text/plain": [
              "   iid                          movie_name                         genre\n",
              "0    1                    Toy Story (1995)   Animation|Children's|Comedy\n",
              "1    2                      Jumanji (1995)  Adventure|Children's|Fantasy\n",
              "2    3             Grumpier Old Men (1995)                Comedy|Romance\n",
              "3    4            Waiting to Exhale (1995)                  Comedy|Drama\n",
              "4    5  Father of the Bride Part II (1995)                        Comedy"
            ]
          },
          "metadata": {
            "tags": []
          },
          "execution_count": 30
        }
      ]
    },
    {
      "cell_type": "code",
      "metadata": {
        "id": "ZnPBKq_wIm_b",
        "colab_type": "code",
        "colab": {}
      },
      "source": [
        "iid_to_movie_name = dict( zip(movies.iid.tolist(), movies.movie_name.tolist()))\n",
        "movie_name_to_iid = { v: k for k, v in iid_to_movie_name.items()}"
      ],
      "execution_count": 0,
      "outputs": []
    },
    {
      "cell_type": "code",
      "metadata": {
        "id": "rlrSwuxaIxow",
        "colab_type": "code",
        "colab": {}
      },
      "source": [
        "iid_to_movie_name"
      ],
      "execution_count": 0,
      "outputs": []
    },
    {
      "cell_type": "code",
      "metadata": {
        "id": "xMpwpCEDI0SC",
        "colab_type": "code",
        "colab": {}
      },
      "source": [
        "movie_name_to_iid"
      ],
      "execution_count": 0,
      "outputs": []
    },
    {
      "cell_type": "markdown",
      "metadata": {
        "id": "cmE6F1R0PZRt",
        "colab_type": "text"
      },
      "source": [
        "Total Items는 중요하다. Total Items가 Word2Vec에서의 Vocab Size와 같다."
      ]
    },
    {
      "cell_type": "code",
      "metadata": {
        "id": "1t13Lkg_JyJZ",
        "colab_type": "code",
        "colab": {
          "base_uri": "https://localhost:8080/",
          "height": 34
        },
        "outputId": "fc24074c-491c-423c-f056-883e98b353d4"
      },
      "source": [
        "only_user = ratings.uuid.unique().tolist()\n",
        "total_items = len(movie_name_to_iid)\n",
        "print(f\"Total Users : {len(only_user)}, Total Items : {total_items}\")\n"
      ],
      "execution_count": 53,
      "outputs": [
        {
          "output_type": "stream",
          "text": [
            "Total Users : 6040, Total Items : 3883\n"
          ],
          "name": "stdout"
        }
      ]
    },
    {
      "cell_type": "markdown",
      "metadata": {
        "id": "u0h4dTiYOmmX",
        "colab_type": "text"
      },
      "source": [
        "유저 하나당 평점 매긴 영화들의 리스트를 만든다.    \n",
        "왜냐면 그걸로 Item2Vec의 데이터로 사용할 것이기 때문에"
      ]
    },
    {
      "cell_type": "code",
      "metadata": {
        "id": "bOlIMuxSL_CX",
        "colab_type": "code",
        "colab": {}
      },
      "source": [
        "skip_item_dataset = [ratings[ratings.uuid==user]['iid'].tolist() for user in only_user]"
      ],
      "execution_count": 0,
      "outputs": []
    },
    {
      "cell_type": "code",
      "metadata": {
        "id": "Ay8DXIJGsgWi",
        "colab_type": "code",
        "colab": {}
      },
      "source": [
        "with open('/content/drive/My Drive/data/ml-1m/skip_item.dat', 'w') as f:\n",
        "  for line in skip_item_dataset:\n",
        "    f.write(str(line)+'\\n')"
      ],
      "execution_count": 0,
      "outputs": []
    },
    {
      "cell_type": "code",
      "metadata": {
        "id": "EpBqbwTrOKB5",
        "colab_type": "code",
        "colab": {}
      },
      "source": [
        "def proc_item_freq(skip_item_dataset):\n",
        "  total_items_with_dup = 0\n",
        "  item_frequency = dict()\n",
        "  for rate_hist in skip_item_dataset:\n",
        "    for item in rate_hist:\n",
        "      total_items_with_dup += 1\n",
        "      try:\n",
        "        item_frequency[item] += 1\n",
        "      except:\n",
        "        item_frequency[item] = 1\n",
        "  return item_frequency, total_items_with_dup"
      ],
      "execution_count": 0,
      "outputs": []
    },
    {
      "cell_type": "code",
      "metadata": {
        "id": "zATc4ugFOPrf",
        "colab_type": "code",
        "colab": {}
      },
      "source": [
        "item_freq, total_items_with_dup = proc_item_freq(skip_item_dataset)"
      ],
      "execution_count": 0,
      "outputs": []
    },
    {
      "cell_type": "code",
      "metadata": {
        "id": "3FJLwQcpSnjt",
        "colab_type": "code",
        "colab": {}
      },
      "source": [
        "import numpy as np \n",
        "\n",
        "def create_sample_table(item_frequency):\n",
        "  sample_table_size = 1e6\n",
        "\n",
        "  freq_dist = [ f ** 0.75 for f in item_frequency.values()]\n",
        "  prob_dist = np.array(freq_dist) / sum(freq_dist)\n",
        "  count_dist = np.round( prob_dist * sample_table_size)\n",
        "\n",
        "  sample_table = list()\n",
        "  for iid, cnt in enumerate(count_dist):\n",
        "    sample_table += ( [iid] * int(cnt) )\n",
        "  \n",
        "  return sample_table"
      ],
      "execution_count": 0,
      "outputs": []
    },
    {
      "cell_type": "code",
      "metadata": {
        "id": "Vot6_eNKSpTL",
        "colab_type": "code",
        "colab": {}
      },
      "source": [
        "sample_table = create_sample_table(item_freq) "
      ],
      "execution_count": 0,
      "outputs": []
    },
    {
      "cell_type": "code",
      "metadata": {
        "id": "M7K_A-llbta7",
        "colab_type": "code",
        "colab": {}
      },
      "source": [
        "def get_positive_pair(dataset, window_size, batch_size):\n",
        "  pairs = list()\n",
        "  \n",
        "  while(len(pairs) < batch_size):\n",
        "    open_file = dataset\n",
        "    rate_hist = list()\n",
        "    \n",
        "    for line in open_file:\n",
        "      rate_hist = line \n",
        "\n",
        "    for pos, u in enumerate(rate_hist):\n",
        "      for v in rate_hist[max(pos-window_size,0): min(pos+window_size,len(rate_hist))]:\n",
        "        if u == v:\n",
        "          continue\n",
        "        pairs.append((u, v))\n",
        "    \n",
        "  \n",
        "  positive_pairs = random.sample(pairs,batch_size)\n",
        "\n",
        "  return positive_pairs\n",
        "\n",
        "import random \n",
        "def negative_samples(sample_table, k=5):\n",
        "  return random.sample(sample_table, k)\n",
        "\n",
        "\n"
      ],
      "execution_count": 0,
      "outputs": []
    },
    {
      "cell_type": "code",
      "metadata": {
        "id": "6CzSp3RqiOlj",
        "colab_type": "code",
        "colab": {}
      },
      "source": [
        "positive_pairs = get_positive_pair(dataset=skip_item_dataset, window_size=3, batch_size=1024)"
      ],
      "execution_count": 0,
      "outputs": []
    },
    {
      "cell_type": "code",
      "metadata": {
        "id": "MaePSLWNvyIY",
        "colab_type": "code",
        "colab": {}
      },
      "source": [
        "import torch\n",
        "import torch.nn as nn\n",
        "from torch.autograd import Variable\n",
        "import numpy as np\n",
        "import torch.nn.functional as F "
      ],
      "execution_count": 0,
      "outputs": []
    },
    {
      "cell_type": "code",
      "metadata": {
        "id": "J50uZvaR7Awq",
        "colab_type": "code",
        "colab": {}
      },
      "source": [
        "class SGNS(nn.Module):\n",
        "  def __init__(self, total_items, embedding_dims):\n",
        "    super(SGNS, self).__init__()\n",
        "    self.u_embedding = nn.Embedding(total_items, embedding_dims)\n",
        "    self.v_embedding = nn.Embedding(total_items, embedding_dims)\n",
        "  \n",
        "  def forward(self, u_idx, v_pos_idx, v_neg_idx):\n",
        "    u_emb_vec = self.u_embedding(Variable(torch.LongTensor(u_idx)))\n",
        "    v_pos_emb_vec = self.v_embedding(Variable(torch.LongTensor(v_pos_idx)))\n",
        "\n",
        "    pos_pred = torch.mul(u_emb_vec, v_emb_vec).squeeze()\n",
        "    pos_pred = torch.sum(pred, dim=1)\n",
        "    pos_pred = F.logsigmoid(pred)\n",
        "\n",
        "    v_neg_emb_vec = self.v_embedding(Variable(torch.LongTensor(v_neg_idx)))\n",
        "    neg_pred = torch.bmm(v_neg_emb_vec, u_emb_vec.unsqueeze(2)).squeeze()\n",
        "    neg_pred = F.logsigmoid(-1 * neg_pred)\n",
        "\n",
        "    return -1 * ( torch.sum(pred) + torch.sum(neg_pred))"
      ],
      "execution_count": 0,
      "outputs": []
    },
    {
      "cell_type": "code",
      "metadata": {
        "id": "e3ajW8NA7nnQ",
        "colab_type": "code",
        "colab": {}
      },
      "source": [
        ""
      ],
      "execution_count": 0,
      "outputs": []
    }
  ]
}