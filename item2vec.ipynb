{
  "nbformat": 4,
  "nbformat_minor": 0,
  "metadata": {
    "colab": {
      "name": "item2vec.ipynb",
      "provenance": [],
      "collapsed_sections": [],
      "mount_file_id": "144VhdxwnoIYyR9RsF2lCREtPknAu5Nb3",
      "authorship_tag": "ABX9TyNguSMRPOQOuG7Q6CqI/Osr",
      "include_colab_link": true
    },
    "kernelspec": {
      "name": "python3",
      "display_name": "Python 3"
    }
  },
  "cells": [
    {
      "cell_type": "markdown",
      "metadata": {
        "id": "view-in-github",
        "colab_type": "text"
      },
      "source": [
        "<a href=\"https://colab.research.google.com/github/pko89403/Recsys_test/blob/master/item2vec.ipynb\" target=\"_parent\"><img src=\"https://colab.research.google.com/assets/colab-badge.svg\" alt=\"Open In Colab\"/></a>"
      ]
    },
    {
      "cell_type": "code",
      "metadata": {
        "id": "-c-PRmPButs3",
        "colab_type": "code",
        "colab": {}
      },
      "source": [
        "import torch\n",
        "import torch.nn as nn\n",
        "from torch.autograd import Variable\n",
        "import torch.optim as optim\n",
        "import random\n",
        "from collections import Counter\n",
        "import pandas as pd"
      ],
      "execution_count": 0,
      "outputs": []
    },
    {
      "cell_type": "code",
      "metadata": {
        "id": "2BHADoXwwDA7",
        "colab_type": "code",
        "colab": {}
      },
      "source": [
        "class SGNS(nn.Module): # Skip-Gram Model with Negative Sampling\n",
        "  def __init__(self, total_items, embedding_dimensions):\n",
        "    super(SGNS, self).__init__()\n",
        "  \n",
        "  def forward(self, pos_v, neg_v):\n",
        "    pass"
      ],
      "execution_count": 0,
      "outputs": []
    },
    {
      "cell_type": "code",
      "metadata": {
        "id": "KO0XqrETwZ-u",
        "colab_type": "code",
        "outputId": "e052eb1e-81f7-4998-986d-3ca4238f7d71",
        "colab": {
          "base_uri": "https://localhost:8080/",
          "height": 34
        }
      },
      "source": [
        "!pwd"
      ],
      "execution_count": 0,
      "outputs": [
        {
          "output_type": "stream",
          "text": [
            "/content\n"
          ],
          "name": "stdout"
        }
      ]
    },
    {
      "cell_type": "code",
      "metadata": {
        "id": "9074bAdIw7KJ",
        "colab_type": "code",
        "outputId": "0e56fe81-a428-454f-91d1-fe65a4c431c1",
        "colab": {
          "base_uri": "https://localhost:8080/",
          "height": 34
        }
      },
      "source": [
        "!ls /content/"
      ],
      "execution_count": 0,
      "outputs": [
        {
          "output_type": "stream",
          "text": [
            "sample_data\n"
          ],
          "name": "stdout"
        }
      ]
    },
    {
      "cell_type": "code",
      "metadata": {
        "id": "PVMrYgFGw9Gk",
        "colab_type": "code",
        "colab": {}
      },
      "source": [
        "DATASET_PATH = \"/content/drive/My Drive/data/ml-1m/ratings.dat\""
      ],
      "execution_count": 0,
      "outputs": []
    },
    {
      "cell_type": "code",
      "metadata": {
        "id": "DoNBawYpxTQP",
        "colab_type": "code",
        "outputId": "d91bab32-d74c-472f-e636-f10ac4412627",
        "colab": {
          "base_uri": "https://localhost:8080/",
          "height": 51
        }
      },
      "source": [
        "with open(DATASET_PATH, 'r') as f:\n",
        "  print(f.readline())"
      ],
      "execution_count": 0,
      "outputs": [
        {
          "output_type": "stream",
          "text": [
            "1::1193::5::978300760\n",
            "\n"
          ],
          "name": "stdout"
        }
      ]
    },
    {
      "cell_type": "code",
      "metadata": {
        "id": "6m8XrGnmxYVr",
        "colab_type": "code",
        "colab": {}
      },
      "source": [
        ""
      ],
      "execution_count": 0,
      "outputs": []
    }
  ]
}