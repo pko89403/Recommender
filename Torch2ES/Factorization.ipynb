{
 "cells": [
  {
   "cell_type": "code",
   "execution_count": 1,
   "source": [
    "!wget http://files.grouplens.org/datasets/movielens/ml-1m.zip"
   ],
   "outputs": [
    {
     "output_type": "stream",
     "name": "stdout",
     "text": [
      "--2021-08-29 17:40:05--  http://files.grouplens.org/datasets/movielens/ml-1m.zip\n",
      "Resolving files.grouplens.org (files.grouplens.org)... 128.101.65.152\n",
      "Connecting to files.grouplens.org (files.grouplens.org)|128.101.65.152|:80... connected.\n",
      "HTTP request sent, awaiting response... 200 OK\n",
      "Length: 5917549 (5.6M) [application/zip]\n",
      "Saving to: ‘ml-1m.zip’\n",
      "\n",
      "ml-1m.zip           100%[===================>]   5.64M  20.5KB/s    in 4m 41s  \n",
      "\n",
      "2021-08-29 17:44:46 (20.6 KB/s) - ‘ml-1m.zip’ saved [5917549/5917549]\n",
      "\n"
     ]
    }
   ],
   "metadata": {}
  },
  {
   "cell_type": "code",
   "execution_count": 2,
   "source": [
    "!unzip ml-1m.zip"
   ],
   "outputs": [
    {
     "output_type": "stream",
     "name": "stdout",
     "text": [
      "Archive:  ml-1m.zip\n",
      "   creating: ml-1m/\n",
      "  inflating: ml-1m/movies.dat        \n",
      "  inflating: ml-1m/ratings.dat       \n",
      "  inflating: ml-1m/README            \n",
      "  inflating: ml-1m/users.dat         \n"
     ]
    }
   ],
   "metadata": {}
  },
  {
   "cell_type": "code",
   "execution_count": 3,
   "source": [
    "import pandas as pd"
   ],
   "outputs": [],
   "metadata": {}
  },
  {
   "cell_type": "code",
   "execution_count": 6,
   "source": [
    "movies_df = pd.read_csv(\"ml-1m/movies.dat\", sep='::',\n",
    "                    names=['movieId', 'title', 'genres'],\n",
    "                    encoding='latin-1', engine='python')"
   ],
   "outputs": [],
   "metadata": {}
  },
  {
   "cell_type": "code",
   "execution_count": 7,
   "source": [
    "movies_df['movieId_index'] = movies_df['movieId'].astype('category').cat.codes # pandas 오브젝트를 category 타입으로 캐스팅한다."
   ],
   "outputs": [],
   "metadata": {}
  },
  {
   "cell_type": "code",
   "execution_count": 8,
   "source": [
    "movies_df.head(4)"
   ],
   "outputs": [
    {
     "output_type": "execute_result",
     "data": {
      "text/plain": [
       "   movieId                     title                        genres  \\\n",
       "0        1          Toy Story (1995)   Animation|Children's|Comedy   \n",
       "1        2            Jumanji (1995)  Adventure|Children's|Fantasy   \n",
       "2        3   Grumpier Old Men (1995)                Comedy|Romance   \n",
       "3        4  Waiting to Exhale (1995)                  Comedy|Drama   \n",
       "\n",
       "   movieId_index  \n",
       "0              0  \n",
       "1              1  \n",
       "2              2  \n",
       "3              3  "
      ],
      "text/html": [
       "<div>\n",
       "<style scoped>\n",
       "    .dataframe tbody tr th:only-of-type {\n",
       "        vertical-align: middle;\n",
       "    }\n",
       "\n",
       "    .dataframe tbody tr th {\n",
       "        vertical-align: top;\n",
       "    }\n",
       "\n",
       "    .dataframe thead th {\n",
       "        text-align: right;\n",
       "    }\n",
       "</style>\n",
       "<table border=\"1\" class=\"dataframe\">\n",
       "  <thead>\n",
       "    <tr style=\"text-align: right;\">\n",
       "      <th></th>\n",
       "      <th>movieId</th>\n",
       "      <th>title</th>\n",
       "      <th>genres</th>\n",
       "      <th>movieId_index</th>\n",
       "    </tr>\n",
       "  </thead>\n",
       "  <tbody>\n",
       "    <tr>\n",
       "      <th>0</th>\n",
       "      <td>1</td>\n",
       "      <td>Toy Story (1995)</td>\n",
       "      <td>Animation|Children's|Comedy</td>\n",
       "      <td>0</td>\n",
       "    </tr>\n",
       "    <tr>\n",
       "      <th>1</th>\n",
       "      <td>2</td>\n",
       "      <td>Jumanji (1995)</td>\n",
       "      <td>Adventure|Children's|Fantasy</td>\n",
       "      <td>1</td>\n",
       "    </tr>\n",
       "    <tr>\n",
       "      <th>2</th>\n",
       "      <td>3</td>\n",
       "      <td>Grumpier Old Men (1995)</td>\n",
       "      <td>Comedy|Romance</td>\n",
       "      <td>2</td>\n",
       "    </tr>\n",
       "    <tr>\n",
       "      <th>3</th>\n",
       "      <td>4</td>\n",
       "      <td>Waiting to Exhale (1995)</td>\n",
       "      <td>Comedy|Drama</td>\n",
       "      <td>3</td>\n",
       "    </tr>\n",
       "  </tbody>\n",
       "</table>\n",
       "</div>"
      ]
     },
     "metadata": {},
     "execution_count": 8
    }
   ],
   "metadata": {}
  },
  {
   "cell_type": "code",
   "execution_count": 10,
   "source": [
    "users_df = pd.read_csv('ml-1m/users.dat', sep='::', \n",
    "                    header=None, \n",
    "                    names=['userId', 'gender', 'age', 'occupation', 'zipcode'],\n",
    "                    engine='python')"
   ],
   "outputs": [],
   "metadata": {}
  },
  {
   "cell_type": "code",
   "execution_count": 17,
   "source": [
    "users_df['gender_index'] = users_df['gender'].astype('category').cat.codes\n",
    "users_df['age_index'] = users_df['age'].astype('category').cat.codes \n",
    "users_df['occupation_index'] = users_df['occupation'].astype('category').cat.codes\n",
    "users_df['userId_index'] = users_df['userId'].astype('category').cat.codes"
   ],
   "outputs": [],
   "metadata": {}
  },
  {
   "cell_type": "code",
   "execution_count": 13,
   "source": [
    "users_df.head(4)"
   ],
   "outputs": [
    {
     "output_type": "execute_result",
     "data": {
      "text/plain": [
       "   userId gender  age  occupation zipcode  gender_index  age_index  \\\n",
       "0       1      F    1          10   48067             0          0   \n",
       "1       2      M   56          16   70072             1          6   \n",
       "2       3      M   25          15   55117             1          2   \n",
       "3       4      M   45           7   02460             1          4   \n",
       "\n",
       "   occupation_index  userId_index  \n",
       "0                10             0  \n",
       "1                16             1  \n",
       "2                15             2  \n",
       "3                 7             3  "
      ],
      "text/html": [
       "<div>\n",
       "<style scoped>\n",
       "    .dataframe tbody tr th:only-of-type {\n",
       "        vertical-align: middle;\n",
       "    }\n",
       "\n",
       "    .dataframe tbody tr th {\n",
       "        vertical-align: top;\n",
       "    }\n",
       "\n",
       "    .dataframe thead th {\n",
       "        text-align: right;\n",
       "    }\n",
       "</style>\n",
       "<table border=\"1\" class=\"dataframe\">\n",
       "  <thead>\n",
       "    <tr style=\"text-align: right;\">\n",
       "      <th></th>\n",
       "      <th>userId</th>\n",
       "      <th>gender</th>\n",
       "      <th>age</th>\n",
       "      <th>occupation</th>\n",
       "      <th>zipcode</th>\n",
       "      <th>gender_index</th>\n",
       "      <th>age_index</th>\n",
       "      <th>occupation_index</th>\n",
       "      <th>userId_index</th>\n",
       "    </tr>\n",
       "  </thead>\n",
       "  <tbody>\n",
       "    <tr>\n",
       "      <th>0</th>\n",
       "      <td>1</td>\n",
       "      <td>F</td>\n",
       "      <td>1</td>\n",
       "      <td>10</td>\n",
       "      <td>48067</td>\n",
       "      <td>0</td>\n",
       "      <td>0</td>\n",
       "      <td>10</td>\n",
       "      <td>0</td>\n",
       "    </tr>\n",
       "    <tr>\n",
       "      <th>1</th>\n",
       "      <td>2</td>\n",
       "      <td>M</td>\n",
       "      <td>56</td>\n",
       "      <td>16</td>\n",
       "      <td>70072</td>\n",
       "      <td>1</td>\n",
       "      <td>6</td>\n",
       "      <td>16</td>\n",
       "      <td>1</td>\n",
       "    </tr>\n",
       "    <tr>\n",
       "      <th>2</th>\n",
       "      <td>3</td>\n",
       "      <td>M</td>\n",
       "      <td>25</td>\n",
       "      <td>15</td>\n",
       "      <td>55117</td>\n",
       "      <td>1</td>\n",
       "      <td>2</td>\n",
       "      <td>15</td>\n",
       "      <td>2</td>\n",
       "    </tr>\n",
       "    <tr>\n",
       "      <th>3</th>\n",
       "      <td>4</td>\n",
       "      <td>M</td>\n",
       "      <td>45</td>\n",
       "      <td>7</td>\n",
       "      <td>02460</td>\n",
       "      <td>1</td>\n",
       "      <td>4</td>\n",
       "      <td>7</td>\n",
       "      <td>3</td>\n",
       "    </tr>\n",
       "  </tbody>\n",
       "</table>\n",
       "</div>"
      ]
     },
     "metadata": {},
     "execution_count": 13
    }
   ],
   "metadata": {}
  },
  {
   "cell_type": "code",
   "execution_count": 18,
   "source": [
    "ratings = pd.read_csv('ml-1m/ratings.dat', sep='::',\n",
    "                    names=['userId', 'movieId', 'rating', 'time'],\n",
    "                    engine='python')"
   ],
   "outputs": [],
   "metadata": {}
  },
  {
   "cell_type": "code",
   "execution_count": 19,
   "source": [
    "ratings = ratings.join(movies_df.set_index('movieId'), on = 'movieId')\n",
    "ratings = ratings.join(users_df.set_index('userId'), on='userId')"
   ],
   "outputs": [],
   "metadata": {}
  },
  {
   "cell_type": "code",
   "execution_count": 20,
   "source": [
    "ratings.head(4)"
   ],
   "outputs": [
    {
     "output_type": "execute_result",
     "data": {
      "text/plain": [
       "   userId  movieId  rating       time                                   title  \\\n",
       "0       1     1193       5  978300760  One Flew Over the Cuckoo's Nest (1975)   \n",
       "1       1      661       3  978302109        James and the Giant Peach (1996)   \n",
       "2       1      914       3  978301968                     My Fair Lady (1964)   \n",
       "3       1     3408       4  978300275                  Erin Brockovich (2000)   \n",
       "\n",
       "                         genres  movieId_index gender  age  occupation  \\\n",
       "0                         Drama           1176      F    1          10   \n",
       "1  Animation|Children's|Musical            655      F    1          10   \n",
       "2               Musical|Romance            902      F    1          10   \n",
       "3                         Drama           3339      F    1          10   \n",
       "\n",
       "  zipcode  gender_index  age_index  occupation_index  userId_index  \n",
       "0   48067             0          0                10             0  \n",
       "1   48067             0          0                10             0  \n",
       "2   48067             0          0                10             0  \n",
       "3   48067             0          0                10             0  "
      ],
      "text/html": [
       "<div>\n",
       "<style scoped>\n",
       "    .dataframe tbody tr th:only-of-type {\n",
       "        vertical-align: middle;\n",
       "    }\n",
       "\n",
       "    .dataframe tbody tr th {\n",
       "        vertical-align: top;\n",
       "    }\n",
       "\n",
       "    .dataframe thead th {\n",
       "        text-align: right;\n",
       "    }\n",
       "</style>\n",
       "<table border=\"1\" class=\"dataframe\">\n",
       "  <thead>\n",
       "    <tr style=\"text-align: right;\">\n",
       "      <th></th>\n",
       "      <th>userId</th>\n",
       "      <th>movieId</th>\n",
       "      <th>rating</th>\n",
       "      <th>time</th>\n",
       "      <th>title</th>\n",
       "      <th>genres</th>\n",
       "      <th>movieId_index</th>\n",
       "      <th>gender</th>\n",
       "      <th>age</th>\n",
       "      <th>occupation</th>\n",
       "      <th>zipcode</th>\n",
       "      <th>gender_index</th>\n",
       "      <th>age_index</th>\n",
       "      <th>occupation_index</th>\n",
       "      <th>userId_index</th>\n",
       "    </tr>\n",
       "  </thead>\n",
       "  <tbody>\n",
       "    <tr>\n",
       "      <th>0</th>\n",
       "      <td>1</td>\n",
       "      <td>1193</td>\n",
       "      <td>5</td>\n",
       "      <td>978300760</td>\n",
       "      <td>One Flew Over the Cuckoo's Nest (1975)</td>\n",
       "      <td>Drama</td>\n",
       "      <td>1176</td>\n",
       "      <td>F</td>\n",
       "      <td>1</td>\n",
       "      <td>10</td>\n",
       "      <td>48067</td>\n",
       "      <td>0</td>\n",
       "      <td>0</td>\n",
       "      <td>10</td>\n",
       "      <td>0</td>\n",
       "    </tr>\n",
       "    <tr>\n",
       "      <th>1</th>\n",
       "      <td>1</td>\n",
       "      <td>661</td>\n",
       "      <td>3</td>\n",
       "      <td>978302109</td>\n",
       "      <td>James and the Giant Peach (1996)</td>\n",
       "      <td>Animation|Children's|Musical</td>\n",
       "      <td>655</td>\n",
       "      <td>F</td>\n",
       "      <td>1</td>\n",
       "      <td>10</td>\n",
       "      <td>48067</td>\n",
       "      <td>0</td>\n",
       "      <td>0</td>\n",
       "      <td>10</td>\n",
       "      <td>0</td>\n",
       "    </tr>\n",
       "    <tr>\n",
       "      <th>2</th>\n",
       "      <td>1</td>\n",
       "      <td>914</td>\n",
       "      <td>3</td>\n",
       "      <td>978301968</td>\n",
       "      <td>My Fair Lady (1964)</td>\n",
       "      <td>Musical|Romance</td>\n",
       "      <td>902</td>\n",
       "      <td>F</td>\n",
       "      <td>1</td>\n",
       "      <td>10</td>\n",
       "      <td>48067</td>\n",
       "      <td>0</td>\n",
       "      <td>0</td>\n",
       "      <td>10</td>\n",
       "      <td>0</td>\n",
       "    </tr>\n",
       "    <tr>\n",
       "      <th>3</th>\n",
       "      <td>1</td>\n",
       "      <td>3408</td>\n",
       "      <td>4</td>\n",
       "      <td>978300275</td>\n",
       "      <td>Erin Brockovich (2000)</td>\n",
       "      <td>Drama</td>\n",
       "      <td>3339</td>\n",
       "      <td>F</td>\n",
       "      <td>1</td>\n",
       "      <td>10</td>\n",
       "      <td>48067</td>\n",
       "      <td>0</td>\n",
       "      <td>0</td>\n",
       "      <td>10</td>\n",
       "      <td>0</td>\n",
       "    </tr>\n",
       "  </tbody>\n",
       "</table>\n",
       "</div>"
      ]
     },
     "metadata": {},
     "execution_count": 20
    }
   ],
   "metadata": {}
  },
  {
   "cell_type": "code",
   "execution_count": 21,
   "source": [
    "features_columns = ['userId_index', 'movieId_index', 'age_index', 'gender_index', 'occupation_index']"
   ],
   "outputs": [],
   "metadata": {}
  },
  {
   "cell_type": "code",
   "execution_count": 23,
   "source": [
    "features_sizes = {\n",
    "    'userId_index' : len(ratings['userId_index'].unique()),\n",
    "    'movieId_index' : len(ratings['movieId_index'].unique()),\n",
    "    'age_index' : len(ratings['age_index'].unique()),\n",
    "    'gender_index' : len(ratings['gender_index'].unique()),\n",
    "    'occupation_index' : len(ratings['occupation_index'].unique()),\n",
    "}"
   ],
   "outputs": [],
   "metadata": {}
  },
  {
   "cell_type": "code",
   "execution_count": 24,
   "source": [
    "features_sizes"
   ],
   "outputs": [
    {
     "output_type": "execute_result",
     "data": {
      "text/plain": [
       "{'userId_index': 6040,\n",
       " 'movieId_index': 3706,\n",
       " 'age_index': 7,\n",
       " 'gender_index': 2,\n",
       " 'occupation_index': 21}"
      ]
     },
     "metadata": {},
     "execution_count": 24
    }
   ],
   "metadata": {}
  },
  {
   "cell_type": "code",
   "execution_count": 25,
   "source": [
    "next_offsets = 0 \n",
    "features_offsets = {} \n",
    "for k, v in features_sizes.items():\n",
    "    features_offsets[k] = next_offsets\n",
    "    next_offsets += v "
   ],
   "outputs": [],
   "metadata": {}
  },
  {
   "cell_type": "code",
   "execution_count": 26,
   "source": [
    "for column in features_columns:\n",
    "    ratings[column] = ratings[column].apply(lambda c: c + features_offsets[column])"
   ],
   "outputs": [],
   "metadata": {}
  },
  {
   "cell_type": "code",
   "execution_count": 28,
   "source": [
    "ratings[[*features_columns, 'rating']].head(4)"
   ],
   "outputs": [
    {
     "output_type": "execute_result",
     "data": {
      "text/plain": [
       "   userId_index  movieId_index  age_index  gender_index  occupation_index  \\\n",
       "0             0           7216       9746          9753              9765   \n",
       "1             0           6695       9746          9753              9765   \n",
       "2             0           6942       9746          9753              9765   \n",
       "3             0           9379       9746          9753              9765   \n",
       "\n",
       "   rating  \n",
       "0       5  \n",
       "1       3  \n",
       "2       3  \n",
       "3       4  "
      ],
      "text/html": [
       "<div>\n",
       "<style scoped>\n",
       "    .dataframe tbody tr th:only-of-type {\n",
       "        vertical-align: middle;\n",
       "    }\n",
       "\n",
       "    .dataframe tbody tr th {\n",
       "        vertical-align: top;\n",
       "    }\n",
       "\n",
       "    .dataframe thead th {\n",
       "        text-align: right;\n",
       "    }\n",
       "</style>\n",
       "<table border=\"1\" class=\"dataframe\">\n",
       "  <thead>\n",
       "    <tr style=\"text-align: right;\">\n",
       "      <th></th>\n",
       "      <th>userId_index</th>\n",
       "      <th>movieId_index</th>\n",
       "      <th>age_index</th>\n",
       "      <th>gender_index</th>\n",
       "      <th>occupation_index</th>\n",
       "      <th>rating</th>\n",
       "    </tr>\n",
       "  </thead>\n",
       "  <tbody>\n",
       "    <tr>\n",
       "      <th>0</th>\n",
       "      <td>0</td>\n",
       "      <td>7216</td>\n",
       "      <td>9746</td>\n",
       "      <td>9753</td>\n",
       "      <td>9765</td>\n",
       "      <td>5</td>\n",
       "    </tr>\n",
       "    <tr>\n",
       "      <th>1</th>\n",
       "      <td>0</td>\n",
       "      <td>6695</td>\n",
       "      <td>9746</td>\n",
       "      <td>9753</td>\n",
       "      <td>9765</td>\n",
       "      <td>3</td>\n",
       "    </tr>\n",
       "    <tr>\n",
       "      <th>2</th>\n",
       "      <td>0</td>\n",
       "      <td>6942</td>\n",
       "      <td>9746</td>\n",
       "      <td>9753</td>\n",
       "      <td>9765</td>\n",
       "      <td>3</td>\n",
       "    </tr>\n",
       "    <tr>\n",
       "      <th>3</th>\n",
       "      <td>0</td>\n",
       "      <td>9379</td>\n",
       "      <td>9746</td>\n",
       "      <td>9753</td>\n",
       "      <td>9765</td>\n",
       "      <td>4</td>\n",
       "    </tr>\n",
       "  </tbody>\n",
       "</table>\n",
       "</div>"
      ]
     },
     "metadata": {},
     "execution_count": 28
    }
   ],
   "metadata": {}
  },
  {
   "cell_type": "code",
   "execution_count": 50,
   "source": [
    "import time \n",
    "import math\n",
    "\n",
    "import torch \n",
    "import torch.utils.data as data \n",
    "import torch.nn as nn \n",
    "import torch.optim as optim \n",
    "import numpy as np "
   ],
   "outputs": [],
   "metadata": {}
  },
  {
   "cell_type": "code",
   "execution_count": 33,
   "source": [
    "data_x = torch.tensor(ratings[features_columns].values)\n",
    "data_y = torch.tensor(ratings['rating'].values).float()\n",
    "dataset = data.TensorDataset(data_x, data_y)"
   ],
   "outputs": [],
   "metadata": {}
  },
  {
   "cell_type": "code",
   "execution_count": 34,
   "source": [
    "batch_size = 1024 \n",
    "train_n = int(len(dataset) * 0.9)\n",
    "valid_n = len(dataset) - train_n \n",
    "splits = [train_n, valid_n]\n",
    "assert sum(splits) == len(dataset)\n",
    "trainset, devset = torch.utils.data.random_split(dataset, splits)\n",
    "train_dataloader = data.DataLoader(trainset, batch_size=batch_size, shuffle=True) \n",
    "dev_dataloader = data.DataLoader(devset, batch_size=batch_size, shuffle=True)"
   ],
   "outputs": [],
   "metadata": {}
  },
  {
   "cell_type": "code",
   "execution_count": 35,
   "source": [
    "def trunc_normal_(x, mean=0., std=1.):\n",
    "    return x.normal_().fmod_(2).mul_(std).add_(mean)"
   ],
   "outputs": [],
   "metadata": {}
  },
  {
   "cell_type": "code",
   "execution_count": 37,
   "source": [
    "class FMModel(nn.Module):\n",
    "    def __init__(self, n, k):\n",
    "        super().__init__()\n",
    "\n",
    "        self.w0 = nn.Parameter(torch.zeros(1))\n",
    "        self.bias = nn.Embedding(n, 1)\n",
    "        self.embeddings = nn.Embedding(n, k)\n",
    "\n",
    "        with torch.no_grad(): trunc_normal_(self.embeddings.weight, std=0.01)\n",
    "        with torch.no_grad(): trunc_normal_(self.bias.weight, std=0.01)\n",
    "\n",
    "    def forward(self, X):\n",
    "        emb = self.embeddings(X)\n",
    "\n",
    "        power_of_sum = emb.sum(dim=1).pow(2)\n",
    "        sum_of_pow = emb.pow(2).sum(dim=1)\n",
    "\n",
    "        pairwise = (power_of_sum - sum_of_pow).sum(1)*0.5\n",
    "        bias = self.bias(X).squeeze().sum(1)\n",
    "\n",
    "        return torch.sigmoid(self.w0 + bias + pairwise) * 5.5 "
   ],
   "outputs": [],
   "metadata": {}
  },
  {
   "cell_type": "code",
   "execution_count": 38,
   "source": [
    "device = torch.device(\"cuda\" if torch.cuda.is_available() else \"cpu\")\n",
    "\n",
    "def fit(iterator, model, optimizer, criterion):\n",
    "    train_loss = 0 \n",
    "    model.train()\n",
    "\n",
    "    for x, y in iterator:\n",
    "        optimizer.zero_grad()\n",
    "        y_hat = model(x.to(device))\n",
    "        loss = criterion(y_hat, y.to(device))\n",
    "        train_loss = loss.item() * x.shape[0]\n",
    "        loss.backward()\n",
    "        optimizer.step()\n",
    "    return train_loss / len(iterator.dataset) \n",
    "\n",
    "def test(iterator, model, criterion):\n",
    "    train_loss = 0 \n",
    "    model.eval() \n",
    "\n",
    "    for x, y in iterator:\n",
    "        with torch.no_grad():\n",
    "            y_hat = model(x.to(device))\n",
    "        loss = criterion(y_hat, y.to(device))\n",
    "        train_loss = loss.item() * x.shape[0]\n",
    "    return train_loss / len(iterator.dataset)"
   ],
   "outputs": [],
   "metadata": {}
  },
  {
   "cell_type": "code",
   "execution_count": 45,
   "source": [
    "def train_n_epochs(model, n, optimizer, scheduler):\n",
    "    criterion = nn.MSELoss().to(device)\n",
    "    for epoch in range(n):\n",
    "        start_time = time.time()\n",
    "        train_loss = fit(train_dataloader, model, optimizer, criterion)\n",
    "        valid_loss = test(dev_dataloader, model, criterion) \n",
    "        scheduler.step()\n",
    "        secs = int(time.time() - start_time)\n",
    "\n",
    "        print(f\"epoch {epoch}. time: {secs}[s]\")\n",
    "        print(f\"\\ttrain rmse: {(math.sqrt(train_loss)):.4f}\")\n",
    "        print(f\"\\tvalidation rms: {(math.sqrt(valid_loss)):.4f}\")"
   ],
   "outputs": [],
   "metadata": {}
  },
  {
   "cell_type": "code",
   "execution_count": 47,
   "source": [
    "model = FMModel(data_x.max() + 1, 120).to(device)\n",
    "\n",
    "wd = 1e-5 \n",
    "lr = 1e-3\n",
    "epochs = 10\n",
    "optimizer = optim.Adam(model.parameters(), lr=lr, weight_decay=wd)\n",
    "scheduler = optim.lr_scheduler.MultiStepLR(optimizer, milestones=[7], gamma=0.1)\n",
    "criterion = nn.MSELoss().to(device) \n",
    "\n",
    "for epoch in range(epochs):\n",
    "    start_time = time.time( )\n",
    "    train_loss = fit(train_dataloader, model, optimizer, criterion)\n",
    "    valid_loss = test(dev_dataloader, model, criterion)\n",
    "    scheduler.step() \n",
    "    secs = int(time.time() - start_time)\n",
    "\n",
    "    print(f\"epoch {epoch}. time: {secs}[s]\")\n",
    "    print(f\"\\ttrain rmse: {math.sqrt(train_loss):.4f}\")\n",
    "    print(f\"\\tvalidation rmse: {math.sqrt(valid_loss):.4f}\")"
   ],
   "outputs": [
    {
     "output_type": "stream",
     "name": "stdout",
     "text": [
      "epoch 0. time: 33[s]\n",
      "\ttrain rmse: 0.0093\n",
      "\tvalidation rmse: 0.0757\n",
      "epoch 1. time: 33[s]\n",
      "\ttrain rmse: 0.0087\n",
      "\tvalidation rmse: 0.0720\n",
      "epoch 2. time: 32[s]\n",
      "\ttrain rmse: 0.0093\n",
      "\tvalidation rmse: 0.0745\n",
      "epoch 3. time: 32[s]\n",
      "\ttrain rmse: 0.0076\n",
      "\tvalidation rmse: 0.0746\n",
      "epoch 4. time: 32[s]\n",
      "\ttrain rmse: 0.0088\n",
      "\tvalidation rmse: 0.0690\n",
      "epoch 5. time: 30[s]\n",
      "\ttrain rmse: 0.0073\n",
      "\tvalidation rmse: 0.0676\n",
      "epoch 6. time: 32[s]\n",
      "\ttrain rmse: 0.0079\n",
      "\tvalidation rmse: 0.0684\n",
      "epoch 7. time: 31[s]\n",
      "\ttrain rmse: 0.0073\n",
      "\tvalidation rmse: 0.0718\n",
      "epoch 8. time: 31[s]\n",
      "\ttrain rmse: 0.0078\n",
      "\tvalidation rmse: 0.0727\n",
      "epoch 9. time: 31[s]\n",
      "\ttrain rmse: 0.0069\n",
      "\tvalidation rmse: 0.0718\n"
     ]
    }
   ],
   "metadata": {}
  },
  {
   "cell_type": "code",
   "execution_count": 48,
   "source": [
    "movies = ratings.drop_duplicates('movieId_index').copy()\n",
    "movie_embeddings = model.embeddings(torch.tensor(movies['movieId_index'].values, device=device).long())\n",
    "movies['embedding'] = movie_embeddings.tolist()\n",
    "movie_biases = model.bias(torch.tensor(movies['movieId_index'].values, device=device).long())\n",
    "movies['bias'] = movie_biases.cpu().detach().numpy()"
   ],
   "outputs": [],
   "metadata": {}
  },
  {
   "cell_type": "code",
   "execution_count": 49,
   "source": [
    "movies[['title', 'movieId_index', 'embedding', 'bias']]"
   ],
   "outputs": [
    {
     "output_type": "execute_result",
     "data": {
      "text/plain": [
       "                                              title  movieId_index  \\\n",
       "0            One Flew Over the Cuckoo's Nest (1975)           7216   \n",
       "1                  James and the Giant Peach (1996)           6695   \n",
       "2                               My Fair Lady (1964)           6942   \n",
       "3                            Erin Brockovich (2000)           9379   \n",
       "4                              Bug's Life, A (1998)           8326   \n",
       "...                                             ...            ...   \n",
       "919876                           Modulations (1998)           8169   \n",
       "940262                        Broken Vessels (1998)           8674   \n",
       "957826                            White Boys (1999)           8816   \n",
       "970914                     One Little Indian (1973)           9578   \n",
       "983062  Five Wives, Three Secretaries and Me (1998)           8880   \n",
       "\n",
       "                                                embedding      bias  \n",
       "0       [-0.2293398380279541, 0.01329464465379715, 0.1...  0.278234  \n",
       "1       [-0.17184315621852875, 0.008792947046458721, 0... -0.034111  \n",
       "2       [0.13778415322303772, 0.035215508192777634, 0....  0.120326  \n",
       "3       [0.07152204215526581, 0.08016274124383926, 0.0...  0.180796  \n",
       "4       [0.15271271765232086, 0.04877089336514473, 0.0...  0.145772  \n",
       "...                                                   ...       ...  \n",
       "919876  [-0.010986817069351673, 0.034929100424051285, ...  0.086558  \n",
       "940262  [0.0004596385988406837, 0.0009937833528965712,... -0.067447  \n",
       "957826  [0.048646632581949234, 0.014861658215522766, 0... -0.131593  \n",
       "970914  [0.013227395713329315, 0.014315467327833176, 0...  0.092184  \n",
       "983062  [-0.0076110283844172955, 0.005144286435097456,...  0.073443  \n",
       "\n",
       "[3706 rows x 4 columns]"
      ],
      "text/html": [
       "<div>\n",
       "<style scoped>\n",
       "    .dataframe tbody tr th:only-of-type {\n",
       "        vertical-align: middle;\n",
       "    }\n",
       "\n",
       "    .dataframe tbody tr th {\n",
       "        vertical-align: top;\n",
       "    }\n",
       "\n",
       "    .dataframe thead th {\n",
       "        text-align: right;\n",
       "    }\n",
       "</style>\n",
       "<table border=\"1\" class=\"dataframe\">\n",
       "  <thead>\n",
       "    <tr style=\"text-align: right;\">\n",
       "      <th></th>\n",
       "      <th>title</th>\n",
       "      <th>movieId_index</th>\n",
       "      <th>embedding</th>\n",
       "      <th>bias</th>\n",
       "    </tr>\n",
       "  </thead>\n",
       "  <tbody>\n",
       "    <tr>\n",
       "      <th>0</th>\n",
       "      <td>One Flew Over the Cuckoo's Nest (1975)</td>\n",
       "      <td>7216</td>\n",
       "      <td>[-0.2293398380279541, 0.01329464465379715, 0.1...</td>\n",
       "      <td>0.278234</td>\n",
       "    </tr>\n",
       "    <tr>\n",
       "      <th>1</th>\n",
       "      <td>James and the Giant Peach (1996)</td>\n",
       "      <td>6695</td>\n",
       "      <td>[-0.17184315621852875, 0.008792947046458721, 0...</td>\n",
       "      <td>-0.034111</td>\n",
       "    </tr>\n",
       "    <tr>\n",
       "      <th>2</th>\n",
       "      <td>My Fair Lady (1964)</td>\n",
       "      <td>6942</td>\n",
       "      <td>[0.13778415322303772, 0.035215508192777634, 0....</td>\n",
       "      <td>0.120326</td>\n",
       "    </tr>\n",
       "    <tr>\n",
       "      <th>3</th>\n",
       "      <td>Erin Brockovich (2000)</td>\n",
       "      <td>9379</td>\n",
       "      <td>[0.07152204215526581, 0.08016274124383926, 0.0...</td>\n",
       "      <td>0.180796</td>\n",
       "    </tr>\n",
       "    <tr>\n",
       "      <th>4</th>\n",
       "      <td>Bug's Life, A (1998)</td>\n",
       "      <td>8326</td>\n",
       "      <td>[0.15271271765232086, 0.04877089336514473, 0.0...</td>\n",
       "      <td>0.145772</td>\n",
       "    </tr>\n",
       "    <tr>\n",
       "      <th>...</th>\n",
       "      <td>...</td>\n",
       "      <td>...</td>\n",
       "      <td>...</td>\n",
       "      <td>...</td>\n",
       "    </tr>\n",
       "    <tr>\n",
       "      <th>919876</th>\n",
       "      <td>Modulations (1998)</td>\n",
       "      <td>8169</td>\n",
       "      <td>[-0.010986817069351673, 0.034929100424051285, ...</td>\n",
       "      <td>0.086558</td>\n",
       "    </tr>\n",
       "    <tr>\n",
       "      <th>940262</th>\n",
       "      <td>Broken Vessels (1998)</td>\n",
       "      <td>8674</td>\n",
       "      <td>[0.0004596385988406837, 0.0009937833528965712,...</td>\n",
       "      <td>-0.067447</td>\n",
       "    </tr>\n",
       "    <tr>\n",
       "      <th>957826</th>\n",
       "      <td>White Boys (1999)</td>\n",
       "      <td>8816</td>\n",
       "      <td>[0.048646632581949234, 0.014861658215522766, 0...</td>\n",
       "      <td>-0.131593</td>\n",
       "    </tr>\n",
       "    <tr>\n",
       "      <th>970914</th>\n",
       "      <td>One Little Indian (1973)</td>\n",
       "      <td>9578</td>\n",
       "      <td>[0.013227395713329315, 0.014315467327833176, 0...</td>\n",
       "      <td>0.092184</td>\n",
       "    </tr>\n",
       "    <tr>\n",
       "      <th>983062</th>\n",
       "      <td>Five Wives, Three Secretaries and Me (1998)</td>\n",
       "      <td>8880</td>\n",
       "      <td>[-0.0076110283844172955, 0.005144286435097456,...</td>\n",
       "      <td>0.073443</td>\n",
       "    </tr>\n",
       "  </tbody>\n",
       "</table>\n",
       "<p>3706 rows × 4 columns</p>\n",
       "</div>"
      ]
     },
     "metadata": {},
     "execution_count": 49
    }
   ],
   "metadata": {}
  },
  {
   "cell_type": "code",
   "execution_count": 58,
   "source": [
    "from sklearn.manifold import TSNE\n",
    "import matplotlib.pyplot as plt \n",
    "import seaborn as sns\n",
    "\n",
    "movies_subset = movies[movies['genres'].str.contains('Children\\'s|Horror|Documentary')].copy()\n",
    "X = np.stack(movies_subset['embedding'].values)\n",
    "ldr = TSNE(n_components=2, random_state=0)\n",
    "Y = ldr.fit_transform(X)\n",
    "movies_subset['x'] = Y[:, 0]\n",
    "movies_subset['y'] = Y[:, 1]"
   ],
   "outputs": [],
   "metadata": {}
  },
  {
   "cell_type": "code",
   "execution_count": 59,
   "source": [
    "def single_genre(g):\n",
    "    for i in ['Children\\'s', 'Horror', 'Documentary']:\n",
    "        if i in g: return i\n",
    "        \n",
    "movies_subset['genres']=movies_subset['genres'].apply(single_genre)\n",
    "plt.figure(figsize=(12, 12))\n",
    "ax = sns.scatterplot(x=\"x\", y=\"y\", hue='genres',data=movies_subset)\n",
    "plt.savefig('movie_emb.png', bbox_inches='tight')"
   ],
   "outputs": [
    {
     "output_type": "display_data",
     "data": {
      "text/plain": [
       "<Figure size 864x864 with 1 Axes>"
      ],
      "image/svg+xml": "<?xml version=\"1.0\" encoding=\"utf-8\" standalone=\"no\"?>\n<!DOCTYPE svg PUBLIC \"-//W3C//DTD SVG 1.1//EN\"\n  \"http://www.w3.org/Graphics/SVG/1.1/DTD/svg11.dtd\">\n<!-- Created with matplotlib (https://matplotlib.org/) -->\n<svg height=\"697.07625pt\" version=\"1.1\" viewBox=\"0 0 725.782812 697.07625\" width=\"725.782812pt\" xmlns=\"http://www.w3.org/2000/svg\" xmlns:xlink=\"http://www.w3.org/1999/xlink\">\n <metadata>\n  <rdf:RDF xmlns:cc=\"http://creativecommons.org/ns#\" xmlns:dc=\"http://purl.org/dc/elements/1.1/\" xmlns:rdf=\"http://www.w3.org/1999/02/22-rdf-syntax-ns#\">\n   <cc:Work>\n    <dc:type rdf:resource=\"http://purl.org/dc/dcmitype/StillImage\"/>\n    <dc:date>2021-08-29T19:37:48.276638</dc:date>\n    <dc:format>image/svg+xml</dc:format>\n    <dc:creator>\n     <cc:Agent>\n      <dc:title>Matplotlib v3.3.4, https://matplotlib.org/</dc:title>\n     </cc:Agent>\n    </dc:creator>\n   </cc:Work>\n  </rdf:RDF>\n </metadata>\n <defs>\n  <style type=\"text/css\">*{stroke-linecap:butt;stroke-linejoin:round;}</style>\n </defs>\n <g id=\"figure_1\">\n  <g id=\"patch_1\">\n   <path d=\"M 0 697.07625 \nL 725.782812 697.07625 \nL 725.782812 0 \nL 0 0 \nz\n\" style=\"fill:none;\"/>\n  </g>\n  <g id=\"axes_1\">\n   <g id=\"patch_2\">\n    <path d=\"M 48.982813 659.52 \nL 718.582813 659.52 \nL 718.582813 7.2 \nL 48.982813 7.2 \nz\n\" style=\"fill:#ffffff;\"/>\n   </g>\n   <g id=\"PathCollection_1\">\n    <defs>\n     <path d=\"M 0 3 \nC 0.795609 3 1.55874 2.683901 2.12132 2.12132 \nC 2.683901 1.55874 3 0.795609 3 -0 \nC 3 -0.795609 2.683901 -1.55874 2.12132 -2.12132 \nC 1.55874 -2.683901 0.795609 -3 0 -3 \nC -0.795609 -3 -1.55874 -2.683901 -2.12132 -2.12132 \nC -2.683901 -1.55874 -3 -0.795609 -3 0 \nC -3 0.795609 -2.683901 1.55874 -2.12132 2.12132 \nC -1.55874 2.683901 -0.795609 3 0 3 \nz\n\" id=\"C0_0_46e89c1f76\"/>\n    </defs>\n    <g clip-path=\"url(#p57eb2c0284)\">\n     <use style=\"fill:#1f77b4;stroke:#ffffff;stroke-width:0.48;\" x=\"260.184208\" xlink:href=\"#C0_0_46e89c1f76\" y=\"470.205263\"/>\n    </g>\n    <g clip-path=\"url(#p57eb2c0284)\">\n     <use style=\"fill:#1f77b4;stroke:#ffffff;stroke-width:0.48;\" x=\"494.784592\" xlink:href=\"#C0_0_46e89c1f76\" y=\"586.860719\"/>\n    </g>\n    <g clip-path=\"url(#p57eb2c0284)\">\n     <use style=\"fill:#1f77b4;stroke:#ffffff;stroke-width:0.48;\" x=\"401.440555\" xlink:href=\"#C0_0_46e89c1f76\" y=\"611.685313\"/>\n    </g>\n    <g clip-path=\"url(#p57eb2c0284)\">\n     <use style=\"fill:#1f77b4;stroke:#ffffff;stroke-width:0.48;\" x=\"400.676887\" xlink:href=\"#C0_0_46e89c1f76\" y=\"629.869091\"/>\n    </g>\n    <g clip-path=\"url(#p57eb2c0284)\">\n     <use style=\"fill:#1f77b4;stroke:#ffffff;stroke-width:0.48;\" x=\"462.486076\" xlink:href=\"#C0_0_46e89c1f76\" y=\"607.929543\"/>\n    </g>\n    <g clip-path=\"url(#p57eb2c0284)\">\n     <use style=\"fill:#1f77b4;stroke:#ffffff;stroke-width:0.48;\" x=\"465.47792\" xlink:href=\"#C0_0_46e89c1f76\" y=\"569.660555\"/>\n    </g>\n    <g clip-path=\"url(#p57eb2c0284)\">\n     <use style=\"fill:#1f77b4;stroke:#ffffff;stroke-width:0.48;\" x=\"390.111351\" xlink:href=\"#C0_0_46e89c1f76\" y=\"617.867\"/>\n    </g>\n    <g clip-path=\"url(#p57eb2c0284)\">\n     <use style=\"fill:#1f77b4;stroke:#ffffff;stroke-width:0.48;\" x=\"626.002187\" xlink:href=\"#C0_0_46e89c1f76\" y=\"331.792498\"/>\n    </g>\n    <g clip-path=\"url(#p57eb2c0284)\">\n     <use style=\"fill:#1f77b4;stroke:#ffffff;stroke-width:0.48;\" x=\"422.101344\" xlink:href=\"#C0_0_46e89c1f76\" y=\"623.785798\"/>\n    </g>\n    <g clip-path=\"url(#p57eb2c0284)\">\n     <use style=\"fill:#1f77b4;stroke:#ffffff;stroke-width:0.48;\" x=\"363.120311\" xlink:href=\"#C0_0_46e89c1f76\" y=\"441.987737\"/>\n    </g>\n    <g clip-path=\"url(#p57eb2c0284)\">\n     <use style=\"fill:#1f77b4;stroke:#ffffff;stroke-width:0.48;\" x=\"488.966667\" xlink:href=\"#C0_0_46e89c1f76\" y=\"513.7287\"/>\n    </g>\n    <g clip-path=\"url(#p57eb2c0284)\">\n     <use style=\"fill:#1f77b4;stroke:#ffffff;stroke-width:0.48;\" x=\"455.997611\" xlink:href=\"#C0_0_46e89c1f76\" y=\"606.412282\"/>\n    </g>\n    <g clip-path=\"url(#p57eb2c0284)\">\n     <use style=\"fill:#1f77b4;stroke:#ffffff;stroke-width:0.48;\" x=\"467.668388\" xlink:href=\"#C0_0_46e89c1f76\" y=\"573.437671\"/>\n    </g>\n    <g clip-path=\"url(#p57eb2c0284)\">\n     <use style=\"fill:#1f77b4;stroke:#ffffff;stroke-width:0.48;\" x=\"465.647021\" xlink:href=\"#C0_0_46e89c1f76\" y=\"545.691198\"/>\n    </g>\n    <g clip-path=\"url(#p57eb2c0284)\">\n     <use style=\"fill:#1f77b4;stroke:#ffffff;stroke-width:0.48;\" x=\"407.118087\" xlink:href=\"#C0_0_46e89c1f76\" y=\"608.499087\"/>\n    </g>\n    <g clip-path=\"url(#p57eb2c0284)\">\n     <use style=\"fill:#1f77b4;stroke:#ffffff;stroke-width:0.48;\" x=\"493.068382\" xlink:href=\"#C0_0_46e89c1f76\" y=\"602.23859\"/>\n    </g>\n    <g clip-path=\"url(#p57eb2c0284)\">\n     <use style=\"fill:#1f77b4;stroke:#ffffff;stroke-width:0.48;\" x=\"421.494613\" xlink:href=\"#C0_0_46e89c1f76\" y=\"593.564719\"/>\n    </g>\n    <g clip-path=\"url(#p57eb2c0284)\">\n     <use style=\"fill:#1f77b4;stroke:#ffffff;stroke-width:0.48;\" x=\"393.041853\" xlink:href=\"#C0_0_46e89c1f76\" y=\"612.981413\"/>\n    </g>\n    <g clip-path=\"url(#p57eb2c0284)\">\n     <use style=\"fill:#1f77b4;stroke:#ffffff;stroke-width:0.48;\" x=\"322.537251\" xlink:href=\"#C0_0_46e89c1f76\" y=\"558.119945\"/>\n    </g>\n    <g clip-path=\"url(#p57eb2c0284)\">\n     <use style=\"fill:#1f77b4;stroke:#ffffff;stroke-width:0.48;\" x=\"495.308671\" xlink:href=\"#C0_0_46e89c1f76\" y=\"602.048623\"/>\n    </g>\n    <g clip-path=\"url(#p57eb2c0284)\">\n     <use style=\"fill:#ff7f0e;stroke:#ffffff;stroke-width:0.48;\" x=\"318.741495\" xlink:href=\"#C0_0_46e89c1f76\" y=\"219.788373\"/>\n    </g>\n    <g clip-path=\"url(#p57eb2c0284)\">\n     <use style=\"fill:#ff7f0e;stroke:#ffffff;stroke-width:0.48;\" x=\"436.508281\" xlink:href=\"#C0_0_46e89c1f76\" y=\"361.282495\"/>\n    </g>\n    <g clip-path=\"url(#p57eb2c0284)\">\n     <use style=\"fill:#ff7f0e;stroke:#ffffff;stroke-width:0.48;\" x=\"285.069304\" xlink:href=\"#C0_0_46e89c1f76\" y=\"240.726757\"/>\n    </g>\n    <g clip-path=\"url(#p57eb2c0284)\">\n     <use style=\"fill:#ff7f0e;stroke:#ffffff;stroke-width:0.48;\" x=\"171.543966\" xlink:href=\"#C0_0_46e89c1f76\" y=\"406.037037\"/>\n    </g>\n    <g clip-path=\"url(#p57eb2c0284)\">\n     <use style=\"fill:#ff7f0e;stroke:#ffffff;stroke-width:0.48;\" x=\"410.515819\" xlink:href=\"#C0_0_46e89c1f76\" y=\"355.006073\"/>\n    </g>\n    <g clip-path=\"url(#p57eb2c0284)\">\n     <use style=\"fill:#1f77b4;stroke:#ffffff;stroke-width:0.48;\" x=\"449.247769\" xlink:href=\"#C0_0_46e89c1f76\" y=\"606.421937\"/>\n    </g>\n    <g clip-path=\"url(#p57eb2c0284)\">\n     <use style=\"fill:#ff7f0e;stroke:#ffffff;stroke-width:0.48;\" x=\"106.570562\" xlink:href=\"#C0_0_46e89c1f76\" y=\"240.345468\"/>\n    </g>\n    <g clip-path=\"url(#p57eb2c0284)\">\n     <use style=\"fill:#ff7f0e;stroke:#ffffff;stroke-width:0.48;\" x=\"96.399002\" xlink:href=\"#C0_0_46e89c1f76\" y=\"346.045614\"/>\n    </g>\n    <g clip-path=\"url(#p57eb2c0284)\">\n     <use style=\"fill:#ff7f0e;stroke:#ffffff;stroke-width:0.48;\" x=\"110.419388\" xlink:href=\"#C0_0_46e89c1f76\" y=\"242.554935\"/>\n    </g>\n    <g clip-path=\"url(#p57eb2c0284)\">\n     <use style=\"fill:#1f77b4;stroke:#ffffff;stroke-width:0.48;\" x=\"317.713749\" xlink:href=\"#C0_0_46e89c1f76\" y=\"429.873161\"/>\n    </g>\n    <g clip-path=\"url(#p57eb2c0284)\">\n     <use style=\"fill:#2ca02c;stroke:#ffffff;stroke-width:0.48;\" x=\"182.694657\" xlink:href=\"#C0_0_46e89c1f76\" y=\"480.191216\"/>\n    </g>\n    <g clip-path=\"url(#p57eb2c0284)\">\n     <use style=\"fill:#ff7f0e;stroke:#ffffff;stroke-width:0.48;\" x=\"301.597896\" xlink:href=\"#C0_0_46e89c1f76\" y=\"188.30606\"/>\n    </g>\n    <g clip-path=\"url(#p57eb2c0284)\">\n     <use style=\"fill:#2ca02c;stroke:#ffffff;stroke-width:0.48;\" x=\"276.873945\" xlink:href=\"#C0_0_46e89c1f76\" y=\"213.353493\"/>\n    </g>\n    <g clip-path=\"url(#p57eb2c0284)\">\n     <use style=\"fill:#2ca02c;stroke:#ffffff;stroke-width:0.48;\" x=\"116.895483\" xlink:href=\"#C0_0_46e89c1f76\" y=\"485.521902\"/>\n    </g>\n    <g clip-path=\"url(#p57eb2c0284)\">\n     <use style=\"fill:#ff7f0e;stroke:#ffffff;stroke-width:0.48;\" x=\"299.08901\" xlink:href=\"#C0_0_46e89c1f76\" y=\"331.934746\"/>\n    </g>\n    <g clip-path=\"url(#p57eb2c0284)\">\n     <use style=\"fill:#ff7f0e;stroke:#ffffff;stroke-width:0.48;\" x=\"443.859827\" xlink:href=\"#C0_0_46e89c1f76\" y=\"288.242487\"/>\n    </g>\n    <g clip-path=\"url(#p57eb2c0284)\">\n     <use style=\"fill:#ff7f0e;stroke:#ffffff;stroke-width:0.48;\" x=\"441.259486\" xlink:href=\"#C0_0_46e89c1f76\" y=\"367.019437\"/>\n    </g>\n    <g clip-path=\"url(#p57eb2c0284)\">\n     <use style=\"fill:#2ca02c;stroke:#ffffff;stroke-width:0.48;\" x=\"144.52992\" xlink:href=\"#C0_0_46e89c1f76\" y=\"483.412074\"/>\n    </g>\n    <g clip-path=\"url(#p57eb2c0284)\">\n     <use style=\"fill:#ff7f0e;stroke:#ffffff;stroke-width:0.48;\" x=\"297.74372\" xlink:href=\"#C0_0_46e89c1f76\" y=\"286.164437\"/>\n    </g>\n    <g clip-path=\"url(#p57eb2c0284)\">\n     <use style=\"fill:#ff7f0e;stroke:#ffffff;stroke-width:0.48;\" x=\"162.031189\" xlink:href=\"#C0_0_46e89c1f76\" y=\"240.174089\"/>\n    </g>\n    <g clip-path=\"url(#p57eb2c0284)\">\n     <use style=\"fill:#ff7f0e;stroke:#ffffff;stroke-width:0.48;\" x=\"189.89174\" xlink:href=\"#C0_0_46e89c1f76\" y=\"402.426074\"/>\n    </g>\n    <g clip-path=\"url(#p57eb2c0284)\">\n     <use style=\"fill:#2ca02c;stroke:#ffffff;stroke-width:0.48;\" x=\"120.158008\" xlink:href=\"#C0_0_46e89c1f76\" y=\"503.480971\"/>\n    </g>\n    <g clip-path=\"url(#p57eb2c0284)\">\n     <use style=\"fill:#1f77b4;stroke:#ffffff;stroke-width:0.48;\" x=\"206.443423\" xlink:href=\"#C0_0_46e89c1f76\" y=\"365.15428\"/>\n    </g>\n    <g clip-path=\"url(#p57eb2c0284)\">\n     <use style=\"fill:#ff7f0e;stroke:#ffffff;stroke-width:0.48;\" x=\"248.637532\" xlink:href=\"#C0_0_46e89c1f76\" y=\"457.440154\"/>\n    </g>\n    <g clip-path=\"url(#p57eb2c0284)\">\n     <use style=\"fill:#1f77b4;stroke:#ffffff;stroke-width:0.48;\" x=\"282.270124\" xlink:href=\"#C0_0_46e89c1f76\" y=\"497.663704\"/>\n    </g>\n    <g clip-path=\"url(#p57eb2c0284)\">\n     <use style=\"fill:#2ca02c;stroke:#ffffff;stroke-width:0.48;\" x=\"274.484613\" xlink:href=\"#C0_0_46e89c1f76\" y=\"529.095224\"/>\n    </g>\n    <g clip-path=\"url(#p57eb2c0284)\">\n     <use style=\"fill:#ff7f0e;stroke:#ffffff;stroke-width:0.48;\" x=\"112.058714\" xlink:href=\"#C0_0_46e89c1f76\" y=\"402.188127\"/>\n    </g>\n    <g clip-path=\"url(#p57eb2c0284)\">\n     <use style=\"fill:#1f77b4;stroke:#ffffff;stroke-width:0.48;\" x=\"481.736993\" xlink:href=\"#C0_0_46e89c1f76\" y=\"610.748708\"/>\n    </g>\n    <g clip-path=\"url(#p57eb2c0284)\">\n     <use style=\"fill:#1f77b4;stroke:#ffffff;stroke-width:0.48;\" x=\"489.976637\" xlink:href=\"#C0_0_46e89c1f76\" y=\"390.939299\"/>\n    </g>\n    <g clip-path=\"url(#p57eb2c0284)\">\n     <use style=\"fill:#1f77b4;stroke:#ffffff;stroke-width:0.48;\" x=\"395.100159\" xlink:href=\"#C0_0_46e89c1f76\" y=\"493.581571\"/>\n    </g>\n    <g clip-path=\"url(#p57eb2c0284)\">\n     <use style=\"fill:#1f77b4;stroke:#ffffff;stroke-width:0.48;\" x=\"453.031592\" xlink:href=\"#C0_0_46e89c1f76\" y=\"606.774969\"/>\n    </g>\n    <g clip-path=\"url(#p57eb2c0284)\">\n     <use style=\"fill:#1f77b4;stroke:#ffffff;stroke-width:0.48;\" x=\"636.23551\" xlink:href=\"#C0_0_46e89c1f76\" y=\"364.117455\"/>\n    </g>\n    <g clip-path=\"url(#p57eb2c0284)\">\n     <use style=\"fill:#1f77b4;stroke:#ffffff;stroke-width:0.48;\" x=\"518.134167\" xlink:href=\"#C0_0_46e89c1f76\" y=\"404.38829\"/>\n    </g>\n    <g clip-path=\"url(#p57eb2c0284)\">\n     <use style=\"fill:#1f77b4;stroke:#ffffff;stroke-width:0.48;\" x=\"588.798279\" xlink:href=\"#C0_0_46e89c1f76\" y=\"421.678534\"/>\n    </g>\n    <g clip-path=\"url(#p57eb2c0284)\">\n     <use style=\"fill:#1f77b4;stroke:#ffffff;stroke-width:0.48;\" x=\"633.771419\" xlink:href=\"#C0_0_46e89c1f76\" y=\"419.932864\"/>\n    </g>\n    <g clip-path=\"url(#p57eb2c0284)\">\n     <use style=\"fill:#1f77b4;stroke:#ffffff;stroke-width:0.48;\" x=\"627.450133\" xlink:href=\"#C0_0_46e89c1f76\" y=\"368.863366\"/>\n    </g>\n    <g clip-path=\"url(#p57eb2c0284)\">\n     <use style=\"fill:#ff7f0e;stroke:#ffffff;stroke-width:0.48;\" x=\"118.803465\" xlink:href=\"#C0_0_46e89c1f76\" y=\"255.742443\"/>\n    </g>\n    <g clip-path=\"url(#p57eb2c0284)\">\n     <use style=\"fill:#1f77b4;stroke:#ffffff;stroke-width:0.48;\" x=\"291.653447\" xlink:href=\"#C0_0_46e89c1f76\" y=\"472.968684\"/>\n    </g>\n    <g clip-path=\"url(#p57eb2c0284)\">\n     <use style=\"fill:#1f77b4;stroke:#ffffff;stroke-width:0.48;\" x=\"368.111849\" xlink:href=\"#C0_0_46e89c1f76\" y=\"317.003275\"/>\n    </g>\n    <g clip-path=\"url(#p57eb2c0284)\">\n     <use style=\"fill:#ff7f0e;stroke:#ffffff;stroke-width:0.48;\" x=\"350.783496\" xlink:href=\"#C0_0_46e89c1f76\" y=\"397.809084\"/>\n    </g>\n    <g clip-path=\"url(#p57eb2c0284)\">\n     <use style=\"fill:#1f77b4;stroke:#ffffff;stroke-width:0.48;\" x=\"235.886282\" xlink:href=\"#C0_0_46e89c1f76\" y=\"566.774258\"/>\n    </g>\n    <g clip-path=\"url(#p57eb2c0284)\">\n     <use style=\"fill:#ff7f0e;stroke:#ffffff;stroke-width:0.48;\" x=\"465.40092\" xlink:href=\"#C0_0_46e89c1f76\" y=\"116.193292\"/>\n    </g>\n    <g clip-path=\"url(#p57eb2c0284)\">\n     <use style=\"fill:#2ca02c;stroke:#ffffff;stroke-width:0.48;\" x=\"326.25132\" xlink:href=\"#C0_0_46e89c1f76\" y=\"357.129485\"/>\n    </g>\n    <g clip-path=\"url(#p57eb2c0284)\">\n     <use style=\"fill:#ff7f0e;stroke:#ffffff;stroke-width:0.48;\" x=\"287.382073\" xlink:href=\"#C0_0_46e89c1f76\" y=\"141.190399\"/>\n    </g>\n    <g clip-path=\"url(#p57eb2c0284)\">\n     <use style=\"fill:#ff7f0e;stroke:#ffffff;stroke-width:0.48;\" x=\"249.264352\" xlink:href=\"#C0_0_46e89c1f76\" y=\"183.72963\"/>\n    </g>\n    <g clip-path=\"url(#p57eb2c0284)\">\n     <use style=\"fill:#1f77b4;stroke:#ffffff;stroke-width:0.48;\" x=\"674.734018\" xlink:href=\"#C0_0_46e89c1f76\" y=\"390.015651\"/>\n    </g>\n    <g clip-path=\"url(#p57eb2c0284)\">\n     <use style=\"fill:#1f77b4;stroke:#ffffff;stroke-width:0.48;\" x=\"645.863242\" xlink:href=\"#C0_0_46e89c1f76\" y=\"363.714349\"/>\n    </g>\n    <g clip-path=\"url(#p57eb2c0284)\">\n     <use style=\"fill:#1f77b4;stroke:#ffffff;stroke-width:0.48;\" x=\"425.133442\" xlink:href=\"#C0_0_46e89c1f76\" y=\"244.163411\"/>\n    </g>\n    <g clip-path=\"url(#p57eb2c0284)\">\n     <use style=\"fill:#1f77b4;stroke:#ffffff;stroke-width:0.48;\" x=\"607.523539\" xlink:href=\"#C0_0_46e89c1f76\" y=\"158.548745\"/>\n    </g>\n    <g clip-path=\"url(#p57eb2c0284)\">\n     <use style=\"fill:#1f77b4;stroke:#ffffff;stroke-width:0.48;\" x=\"435.120462\" xlink:href=\"#C0_0_46e89c1f76\" y=\"412.020643\"/>\n    </g>\n    <g clip-path=\"url(#p57eb2c0284)\">\n     <use style=\"fill:#1f77b4;stroke:#ffffff;stroke-width:0.48;\" x=\"337.787718\" xlink:href=\"#C0_0_46e89c1f76\" y=\"572.828434\"/>\n    </g>\n    <g clip-path=\"url(#p57eb2c0284)\">\n     <use style=\"fill:#1f77b4;stroke:#ffffff;stroke-width:0.48;\" x=\"260.422978\" xlink:href=\"#C0_0_46e89c1f76\" y=\"515.952657\"/>\n    </g>\n    <g clip-path=\"url(#p57eb2c0284)\">\n     <use style=\"fill:#ff7f0e;stroke:#ffffff;stroke-width:0.48;\" x=\"348.205667\" xlink:href=\"#C0_0_46e89c1f76\" y=\"247.124296\"/>\n    </g>\n    <g clip-path=\"url(#p57eb2c0284)\">\n     <use style=\"fill:#1f77b4;stroke:#ffffff;stroke-width:0.48;\" x=\"393.208662\" xlink:href=\"#C0_0_46e89c1f76\" y=\"614.291432\"/>\n    </g>\n    <g clip-path=\"url(#p57eb2c0284)\">\n     <use style=\"fill:#1f77b4;stroke:#ffffff;stroke-width:0.48;\" x=\"332.516954\" xlink:href=\"#C0_0_46e89c1f76\" y=\"530.773803\"/>\n    </g>\n    <g clip-path=\"url(#p57eb2c0284)\">\n     <use style=\"fill:#ff7f0e;stroke:#ffffff;stroke-width:0.48;\" x=\"136.296348\" xlink:href=\"#C0_0_46e89c1f76\" y=\"273.077786\"/>\n    </g>\n    <g clip-path=\"url(#p57eb2c0284)\">\n     <use style=\"fill:#1f77b4;stroke:#ffffff;stroke-width:0.48;\" x=\"381.797029\" xlink:href=\"#C0_0_46e89c1f76\" y=\"475.697144\"/>\n    </g>\n    <g clip-path=\"url(#p57eb2c0284)\">\n     <use style=\"fill:#1f77b4;stroke:#ffffff;stroke-width:0.48;\" x=\"359.019143\" xlink:href=\"#C0_0_46e89c1f76\" y=\"576.990875\"/>\n    </g>\n    <g clip-path=\"url(#p57eb2c0284)\">\n     <use style=\"fill:#ff7f0e;stroke:#ffffff;stroke-width:0.48;\" x=\"208.791387\" xlink:href=\"#C0_0_46e89c1f76\" y=\"491.212828\"/>\n    </g>\n    <g clip-path=\"url(#p57eb2c0284)\">\n     <use style=\"fill:#ff7f0e;stroke:#ffffff;stroke-width:0.48;\" x=\"251.783827\" xlink:href=\"#C0_0_46e89c1f76\" y=\"422.469864\"/>\n    </g>\n    <g clip-path=\"url(#p57eb2c0284)\">\n     <use style=\"fill:#1f77b4;stroke:#ffffff;stroke-width:0.48;\" x=\"639.293608\" xlink:href=\"#C0_0_46e89c1f76\" y=\"376.371037\"/>\n    </g>\n    <g clip-path=\"url(#p57eb2c0284)\">\n     <use style=\"fill:#1f77b4;stroke:#ffffff;stroke-width:0.48;\" x=\"417.17332\" xlink:href=\"#C0_0_46e89c1f76\" y=\"602.818284\"/>\n    </g>\n    <g clip-path=\"url(#p57eb2c0284)\">\n     <use style=\"fill:#1f77b4;stroke:#ffffff;stroke-width:0.48;\" x=\"280.963694\" xlink:href=\"#C0_0_46e89c1f76\" y=\"564.520991\"/>\n    </g>\n    <g clip-path=\"url(#p57eb2c0284)\">\n     <use style=\"fill:#1f77b4;stroke:#ffffff;stroke-width:0.48;\" x=\"413.079014\" xlink:href=\"#C0_0_46e89c1f76\" y=\"609.131595\"/>\n    </g>\n    <g clip-path=\"url(#p57eb2c0284)\">\n     <use style=\"fill:#1f77b4;stroke:#ffffff;stroke-width:0.48;\" x=\"402.679663\" xlink:href=\"#C0_0_46e89c1f76\" y=\"566.183657\"/>\n    </g>\n    <g clip-path=\"url(#p57eb2c0284)\">\n     <use style=\"fill:#1f77b4;stroke:#ffffff;stroke-width:0.48;\" x=\"371.969702\" xlink:href=\"#C0_0_46e89c1f76\" y=\"530.030123\"/>\n    </g>\n    <g clip-path=\"url(#p57eb2c0284)\">\n     <use style=\"fill:#1f77b4;stroke:#ffffff;stroke-width:0.48;\" x=\"453.516127\" xlink:href=\"#C0_0_46e89c1f76\" y=\"552.651363\"/>\n    </g>\n    <g clip-path=\"url(#p57eb2c0284)\">\n     <use style=\"fill:#1f77b4;stroke:#ffffff;stroke-width:0.48;\" x=\"643.055344\" xlink:href=\"#C0_0_46e89c1f76\" y=\"463.65221\"/>\n    </g>\n    <g clip-path=\"url(#p57eb2c0284)\">\n     <use style=\"fill:#1f77b4;stroke:#ffffff;stroke-width:0.48;\" x=\"457.170925\" xlink:href=\"#C0_0_46e89c1f76\" y=\"241.654366\"/>\n    </g>\n    <g clip-path=\"url(#p57eb2c0284)\">\n     <use style=\"fill:#1f77b4;stroke:#ffffff;stroke-width:0.48;\" x=\"405.793921\" xlink:href=\"#C0_0_46e89c1f76\" y=\"605.632746\"/>\n    </g>\n    <g clip-path=\"url(#p57eb2c0284)\">\n     <use style=\"fill:#ff7f0e;stroke:#ffffff;stroke-width:0.48;\" x=\"300.327162\" xlink:href=\"#C0_0_46e89c1f76\" y=\"504.908668\"/>\n    </g>\n    <g clip-path=\"url(#p57eb2c0284)\">\n     <use style=\"fill:#1f77b4;stroke:#ffffff;stroke-width:0.48;\" x=\"640.96709\" xlink:href=\"#C0_0_46e89c1f76\" y=\"466.200013\"/>\n    </g>\n    <g clip-path=\"url(#p57eb2c0284)\">\n     <use style=\"fill:#1f77b4;stroke:#ffffff;stroke-width:0.48;\" x=\"377.021047\" xlink:href=\"#C0_0_46e89c1f76\" y=\"624.532793\"/>\n    </g>\n    <g clip-path=\"url(#p57eb2c0284)\">\n     <use style=\"fill:#ff7f0e;stroke:#ffffff;stroke-width:0.48;\" x=\"394.899068\" xlink:href=\"#C0_0_46e89c1f76\" y=\"320.241676\"/>\n    </g>\n    <g clip-path=\"url(#p57eb2c0284)\">\n     <use style=\"fill:#1f77b4;stroke:#ffffff;stroke-width:0.48;\" x=\"460.427237\" xlink:href=\"#C0_0_46e89c1f76\" y=\"491.443987\"/>\n    </g>\n    <g clip-path=\"url(#p57eb2c0284)\">\n     <use style=\"fill:#1f77b4;stroke:#ffffff;stroke-width:0.48;\" x=\"578.328704\" xlink:href=\"#C0_0_46e89c1f76\" y=\"448.831112\"/>\n    </g>\n    <g clip-path=\"url(#p57eb2c0284)\">\n     <use style=\"fill:#1f77b4;stroke:#ffffff;stroke-width:0.48;\" x=\"351.17593\" xlink:href=\"#C0_0_46e89c1f76\" y=\"550.637618\"/>\n    </g>\n    <g clip-path=\"url(#p57eb2c0284)\">\n     <use style=\"fill:#1f77b4;stroke:#ffffff;stroke-width:0.48;\" x=\"349.736371\" xlink:href=\"#C0_0_46e89c1f76\" y=\"576.83543\"/>\n    </g>\n    <g clip-path=\"url(#p57eb2c0284)\">\n     <use style=\"fill:#1f77b4;stroke:#ffffff;stroke-width:0.48;\" x=\"401.943222\" xlink:href=\"#C0_0_46e89c1f76\" y=\"562.838836\"/>\n    </g>\n    <g clip-path=\"url(#p57eb2c0284)\">\n     <use style=\"fill:#2ca02c;stroke:#ffffff;stroke-width:0.48;\" x=\"201.50825\" xlink:href=\"#C0_0_46e89c1f76\" y=\"589.193744\"/>\n    </g>\n    <g clip-path=\"url(#p57eb2c0284)\">\n     <use style=\"fill:#1f77b4;stroke:#ffffff;stroke-width:0.48;\" x=\"333.773681\" xlink:href=\"#C0_0_46e89c1f76\" y=\"529.909516\"/>\n    </g>\n    <g clip-path=\"url(#p57eb2c0284)\">\n     <use style=\"fill:#1f77b4;stroke:#ffffff;stroke-width:0.48;\" x=\"444.839873\" xlink:href=\"#C0_0_46e89c1f76\" y=\"551.013798\"/>\n    </g>\n    <g clip-path=\"url(#p57eb2c0284)\">\n     <use style=\"fill:#1f77b4;stroke:#ffffff;stroke-width:0.48;\" x=\"361.142927\" xlink:href=\"#C0_0_46e89c1f76\" y=\"603.890143\"/>\n    </g>\n    <g clip-path=\"url(#p57eb2c0284)\">\n     <use style=\"fill:#ff7f0e;stroke:#ffffff;stroke-width:0.48;\" x=\"353.385989\" xlink:href=\"#C0_0_46e89c1f76\" y=\"304.228897\"/>\n    </g>\n    <g clip-path=\"url(#p57eb2c0284)\">\n     <use style=\"fill:#1f77b4;stroke:#ffffff;stroke-width:0.48;\" x=\"357.302966\" xlink:href=\"#C0_0_46e89c1f76\" y=\"510.038549\"/>\n    </g>\n    <g clip-path=\"url(#p57eb2c0284)\">\n     <use style=\"fill:#1f77b4;stroke:#ffffff;stroke-width:0.48;\" x=\"563.168152\" xlink:href=\"#C0_0_46e89c1f76\" y=\"462.794167\"/>\n    </g>\n    <g clip-path=\"url(#p57eb2c0284)\">\n     <use style=\"fill:#ff7f0e;stroke:#ffffff;stroke-width:0.48;\" x=\"202.361627\" xlink:href=\"#C0_0_46e89c1f76\" y=\"420.239511\"/>\n    </g>\n    <g clip-path=\"url(#p57eb2c0284)\">\n     <use style=\"fill:#1f77b4;stroke:#ffffff;stroke-width:0.48;\" x=\"309.047748\" xlink:href=\"#C0_0_46e89c1f76\" y=\"537.683203\"/>\n    </g>\n    <g clip-path=\"url(#p57eb2c0284)\">\n     <use style=\"fill:#1f77b4;stroke:#ffffff;stroke-width:0.48;\" x=\"394.095481\" xlink:href=\"#C0_0_46e89c1f76\" y=\"496.996729\"/>\n    </g>\n    <g clip-path=\"url(#p57eb2c0284)\">\n     <use style=\"fill:#1f77b4;stroke:#ffffff;stroke-width:0.48;\" x=\"589.409075\" xlink:href=\"#C0_0_46e89c1f76\" y=\"336.851007\"/>\n    </g>\n    <g clip-path=\"url(#p57eb2c0284)\">\n     <use style=\"fill:#2ca02c;stroke:#ffffff;stroke-width:0.48;\" x=\"199.805801\" xlink:href=\"#C0_0_46e89c1f76\" y=\"511.177499\"/>\n    </g>\n    <g clip-path=\"url(#p57eb2c0284)\">\n     <use style=\"fill:#ff7f0e;stroke:#ffffff;stroke-width:0.48;\" x=\"354.215385\" xlink:href=\"#C0_0_46e89c1f76\" y=\"322.875177\"/>\n    </g>\n    <g clip-path=\"url(#p57eb2c0284)\">\n     <use style=\"fill:#1f77b4;stroke:#ffffff;stroke-width:0.48;\" x=\"662.372043\" xlink:href=\"#C0_0_46e89c1f76\" y=\"351.97141\"/>\n    </g>\n    <g clip-path=\"url(#p57eb2c0284)\">\n     <use style=\"fill:#1f77b4;stroke:#ffffff;stroke-width:0.48;\" x=\"383.61181\" xlink:href=\"#C0_0_46e89c1f76\" y=\"392.784691\"/>\n    </g>\n    <g clip-path=\"url(#p57eb2c0284)\">\n     <use style=\"fill:#1f77b4;stroke:#ffffff;stroke-width:0.48;\" x=\"549.14996\" xlink:href=\"#C0_0_46e89c1f76\" y=\"392.971398\"/>\n    </g>\n    <g clip-path=\"url(#p57eb2c0284)\">\n     <use style=\"fill:#1f77b4;stroke:#ffffff;stroke-width:0.48;\" x=\"660.109521\" xlink:href=\"#C0_0_46e89c1f76\" y=\"436.884731\"/>\n    </g>\n    <g clip-path=\"url(#p57eb2c0284)\">\n     <use style=\"fill:#ff7f0e;stroke:#ffffff;stroke-width:0.48;\" x=\"393.253715\" xlink:href=\"#C0_0_46e89c1f76\" y=\"430.23199\"/>\n    </g>\n    <g clip-path=\"url(#p57eb2c0284)\">\n     <use style=\"fill:#1f77b4;stroke:#ffffff;stroke-width:0.48;\" x=\"413.125114\" xlink:href=\"#C0_0_46e89c1f76\" y=\"441.118774\"/>\n    </g>\n    <g clip-path=\"url(#p57eb2c0284)\">\n     <use style=\"fill:#1f77b4;stroke:#ffffff;stroke-width:0.48;\" x=\"413.271463\" xlink:href=\"#C0_0_46e89c1f76\" y=\"393.175497\"/>\n    </g>\n    <g clip-path=\"url(#p57eb2c0284)\">\n     <use style=\"fill:#1f77b4;stroke:#ffffff;stroke-width:0.48;\" x=\"413.90053\" xlink:href=\"#C0_0_46e89c1f76\" y=\"424.822619\"/>\n    </g>\n    <g clip-path=\"url(#p57eb2c0284)\">\n     <use style=\"fill:#1f77b4;stroke:#ffffff;stroke-width:0.48;\" x=\"376.661601\" xlink:href=\"#C0_0_46e89c1f76\" y=\"415.200432\"/>\n    </g>\n    <g clip-path=\"url(#p57eb2c0284)\">\n     <use style=\"fill:#ff7f0e;stroke:#ffffff;stroke-width:0.48;\" x=\"229.44635\" xlink:href=\"#C0_0_46e89c1f76\" y=\"289.906405\"/>\n    </g>\n    <g clip-path=\"url(#p57eb2c0284)\">\n     <use style=\"fill:#2ca02c;stroke:#ffffff;stroke-width:0.48;\" x=\"163.940905\" xlink:href=\"#C0_0_46e89c1f76\" y=\"504.138223\"/>\n    </g>\n    <g clip-path=\"url(#p57eb2c0284)\">\n     <use style=\"fill:#1f77b4;stroke:#ffffff;stroke-width:0.48;\" x=\"281.24606\" xlink:href=\"#C0_0_46e89c1f76\" y=\"600.860737\"/>\n    </g>\n    <g clip-path=\"url(#p57eb2c0284)\">\n     <use style=\"fill:#2ca02c;stroke:#ffffff;stroke-width:0.48;\" x=\"149.991451\" xlink:href=\"#C0_0_46e89c1f76\" y=\"463.930627\"/>\n    </g>\n    <g clip-path=\"url(#p57eb2c0284)\">\n     <use style=\"fill:#1f77b4;stroke:#ffffff;stroke-width:0.48;\" x=\"449.512109\" xlink:href=\"#C0_0_46e89c1f76\" y=\"470.190037\"/>\n    </g>\n    <g clip-path=\"url(#p57eb2c0284)\">\n     <use style=\"fill:#ff7f0e;stroke:#ffffff;stroke-width:0.48;\" x=\"335.307212\" xlink:href=\"#C0_0_46e89c1f76\" y=\"462.910125\"/>\n    </g>\n    <g clip-path=\"url(#p57eb2c0284)\">\n     <use style=\"fill:#ff7f0e;stroke:#ffffff;stroke-width:0.48;\" x=\"381.110113\" xlink:href=\"#C0_0_46e89c1f76\" y=\"449.660485\"/>\n    </g>\n    <g clip-path=\"url(#p57eb2c0284)\">\n     <use style=\"fill:#1f77b4;stroke:#ffffff;stroke-width:0.48;\" x=\"438.150932\" xlink:href=\"#C0_0_46e89c1f76\" y=\"448.83083\"/>\n    </g>\n    <g clip-path=\"url(#p57eb2c0284)\">\n     <use style=\"fill:#1f77b4;stroke:#ffffff;stroke-width:0.48;\" x=\"467.97012\" xlink:href=\"#C0_0_46e89c1f76\" y=\"436.838587\"/>\n    </g>\n    <g clip-path=\"url(#p57eb2c0284)\">\n     <use style=\"fill:#ff7f0e;stroke:#ffffff;stroke-width:0.48;\" x=\"154.654463\" xlink:href=\"#C0_0_46e89c1f76\" y=\"242.635636\"/>\n    </g>\n    <g clip-path=\"url(#p57eb2c0284)\">\n     <use style=\"fill:#ff7f0e;stroke:#ffffff;stroke-width:0.48;\" x=\"104.141835\" xlink:href=\"#C0_0_46e89c1f76\" y=\"442.725751\"/>\n    </g>\n    <g clip-path=\"url(#p57eb2c0284)\">\n     <use style=\"fill:#ff7f0e;stroke:#ffffff;stroke-width:0.48;\" x=\"552.367562\" xlink:href=\"#C0_0_46e89c1f76\" y=\"211.434457\"/>\n    </g>\n    <g clip-path=\"url(#p57eb2c0284)\">\n     <use style=\"fill:#ff7f0e;stroke:#ffffff;stroke-width:0.48;\" x=\"243.042863\" xlink:href=\"#C0_0_46e89c1f76\" y=\"313.618093\"/>\n    </g>\n    <g clip-path=\"url(#p57eb2c0284)\">\n     <use style=\"fill:#1f77b4;stroke:#ffffff;stroke-width:0.48;\" x=\"624.7404\" xlink:href=\"#C0_0_46e89c1f76\" y=\"306.651796\"/>\n    </g>\n    <g clip-path=\"url(#p57eb2c0284)\">\n     <use style=\"fill:#ff7f0e;stroke:#ffffff;stroke-width:0.48;\" x=\"282.827041\" xlink:href=\"#C0_0_46e89c1f76\" y=\"240.574255\"/>\n    </g>\n    <g clip-path=\"url(#p57eb2c0284)\">\n     <use style=\"fill:#ff7f0e;stroke:#ffffff;stroke-width:0.48;\" x=\"537.412278\" xlink:href=\"#C0_0_46e89c1f76\" y=\"229.813236\"/>\n    </g>\n    <g clip-path=\"url(#p57eb2c0284)\">\n     <use style=\"fill:#ff7f0e;stroke:#ffffff;stroke-width:0.48;\" x=\"369.400121\" xlink:href=\"#C0_0_46e89c1f76\" y=\"345.195734\"/>\n    </g>\n    <g clip-path=\"url(#p57eb2c0284)\">\n     <use style=\"fill:#ff7f0e;stroke:#ffffff;stroke-width:0.48;\" x=\"473.579286\" xlink:href=\"#C0_0_46e89c1f76\" y=\"300.689705\"/>\n    </g>\n    <g clip-path=\"url(#p57eb2c0284)\">\n     <use style=\"fill:#ff7f0e;stroke:#ffffff;stroke-width:0.48;\" x=\"566.987041\" xlink:href=\"#C0_0_46e89c1f76\" y=\"222.236407\"/>\n    </g>\n    <g clip-path=\"url(#p57eb2c0284)\">\n     <use style=\"fill:#1f77b4;stroke:#ffffff;stroke-width:0.48;\" x=\"616.83485\" xlink:href=\"#C0_0_46e89c1f76\" y=\"206.059772\"/>\n    </g>\n    <g clip-path=\"url(#p57eb2c0284)\">\n     <use style=\"fill:#1f77b4;stroke:#ffffff;stroke-width:0.48;\" x=\"593.777814\" xlink:href=\"#C0_0_46e89c1f76\" y=\"215.61856\"/>\n    </g>\n    <g clip-path=\"url(#p57eb2c0284)\">\n     <use style=\"fill:#1f77b4;stroke:#ffffff;stroke-width:0.48;\" x=\"274.091911\" xlink:href=\"#C0_0_46e89c1f76\" y=\"484.045256\"/>\n    </g>\n    <g clip-path=\"url(#p57eb2c0284)\">\n     <use style=\"fill:#ff7f0e;stroke:#ffffff;stroke-width:0.48;\" x=\"213.37884\" xlink:href=\"#C0_0_46e89c1f76\" y=\"337.192214\"/>\n    </g>\n    <g clip-path=\"url(#p57eb2c0284)\">\n     <use style=\"fill:#ff7f0e;stroke:#ffffff;stroke-width:0.48;\" x=\"213.118008\" xlink:href=\"#C0_0_46e89c1f76\" y=\"334.253374\"/>\n    </g>\n    <g clip-path=\"url(#p57eb2c0284)\">\n     <use style=\"fill:#ff7f0e;stroke:#ffffff;stroke-width:0.48;\" x=\"254.807183\" xlink:href=\"#C0_0_46e89c1f76\" y=\"447.9213\"/>\n    </g>\n    <g clip-path=\"url(#p57eb2c0284)\">\n     <use style=\"fill:#ff7f0e;stroke:#ffffff;stroke-width:0.48;\" x=\"87.93059\" xlink:href=\"#C0_0_46e89c1f76\" y=\"340.623077\"/>\n    </g>\n    <g clip-path=\"url(#p57eb2c0284)\">\n     <use style=\"fill:#ff7f0e;stroke:#ffffff;stroke-width:0.48;\" x=\"489.113735\" xlink:href=\"#C0_0_46e89c1f76\" y=\"224.400652\"/>\n    </g>\n    <g clip-path=\"url(#p57eb2c0284)\">\n     <use style=\"fill:#ff7f0e;stroke:#ffffff;stroke-width:0.48;\" x=\"264.416007\" xlink:href=\"#C0_0_46e89c1f76\" y=\"292.206252\"/>\n    </g>\n    <g clip-path=\"url(#p57eb2c0284)\">\n     <use style=\"fill:#ff7f0e;stroke:#ffffff;stroke-width:0.48;\" x=\"271.801476\" xlink:href=\"#C0_0_46e89c1f76\" y=\"308.756983\"/>\n    </g>\n    <g clip-path=\"url(#p57eb2c0284)\">\n     <use style=\"fill:#ff7f0e;stroke:#ffffff;stroke-width:0.48;\" x=\"184.165396\" xlink:href=\"#C0_0_46e89c1f76\" y=\"246.91453\"/>\n    </g>\n    <g clip-path=\"url(#p57eb2c0284)\">\n     <use style=\"fill:#ff7f0e;stroke:#ffffff;stroke-width:0.48;\" x=\"552.276558\" xlink:href=\"#C0_0_46e89c1f76\" y=\"103.692256\"/>\n    </g>\n    <g clip-path=\"url(#p57eb2c0284)\">\n     <use style=\"fill:#ff7f0e;stroke:#ffffff;stroke-width:0.48;\" x=\"375.364291\" xlink:href=\"#C0_0_46e89c1f76\" y=\"233.439246\"/>\n    </g>\n    <g clip-path=\"url(#p57eb2c0284)\">\n     <use style=\"fill:#ff7f0e;stroke:#ffffff;stroke-width:0.48;\" x=\"283.930984\" xlink:href=\"#C0_0_46e89c1f76\" y=\"422.148913\"/>\n    </g>\n    <g clip-path=\"url(#p57eb2c0284)\">\n     <use style=\"fill:#ff7f0e;stroke:#ffffff;stroke-width:0.48;\" x=\"154.548049\" xlink:href=\"#C0_0_46e89c1f76\" y=\"303.41409\"/>\n    </g>\n    <g clip-path=\"url(#p57eb2c0284)\">\n     <use style=\"fill:#ff7f0e;stroke:#ffffff;stroke-width:0.48;\" x=\"165.871272\" xlink:href=\"#C0_0_46e89c1f76\" y=\"256.707504\"/>\n    </g>\n    <g clip-path=\"url(#p57eb2c0284)\">\n     <use style=\"fill:#ff7f0e;stroke:#ffffff;stroke-width:0.48;\" x=\"422.738991\" xlink:href=\"#C0_0_46e89c1f76\" y=\"199.535643\"/>\n    </g>\n    <g clip-path=\"url(#p57eb2c0284)\">\n     <use style=\"fill:#ff7f0e;stroke:#ffffff;stroke-width:0.48;\" x=\"291.648582\" xlink:href=\"#C0_0_46e89c1f76\" y=\"364.187231\"/>\n    </g>\n    <g clip-path=\"url(#p57eb2c0284)\">\n     <use style=\"fill:#1f77b4;stroke:#ffffff;stroke-width:0.48;\" x=\"283.123543\" xlink:href=\"#C0_0_46e89c1f76\" y=\"422.934962\"/>\n    </g>\n    <g clip-path=\"url(#p57eb2c0284)\">\n     <use style=\"fill:#1f77b4;stroke:#ffffff;stroke-width:0.48;\" x=\"687.537047\" xlink:href=\"#C0_0_46e89c1f76\" y=\"257.897508\"/>\n    </g>\n    <g clip-path=\"url(#p57eb2c0284)\">\n     <use style=\"fill:#1f77b4;stroke:#ffffff;stroke-width:0.48;\" x=\"508.637736\" xlink:href=\"#C0_0_46e89c1f76\" y=\"292.667037\"/>\n    </g>\n    <g clip-path=\"url(#p57eb2c0284)\">\n     <use style=\"fill:#1f77b4;stroke:#ffffff;stroke-width:0.48;\" x=\"507.700032\" xlink:href=\"#C0_0_46e89c1f76\" y=\"281.037725\"/>\n    </g>\n    <g clip-path=\"url(#p57eb2c0284)\">\n     <use style=\"fill:#1f77b4;stroke:#ffffff;stroke-width:0.48;\" x=\"340.587302\" xlink:href=\"#C0_0_46e89c1f76\" y=\"510.950301\"/>\n    </g>\n    <g clip-path=\"url(#p57eb2c0284)\">\n     <use style=\"fill:#1f77b4;stroke:#ffffff;stroke-width:0.48;\" x=\"601.951102\" xlink:href=\"#C0_0_46e89c1f76\" y=\"158.737694\"/>\n    </g>\n    <g clip-path=\"url(#p57eb2c0284)\">\n     <use style=\"fill:#1f77b4;stroke:#ffffff;stroke-width:0.48;\" x=\"392.830353\" xlink:href=\"#C0_0_46e89c1f76\" y=\"537.968305\"/>\n    </g>\n    <g clip-path=\"url(#p57eb2c0284)\">\n     <use style=\"fill:#1f77b4;stroke:#ffffff;stroke-width:0.48;\" x=\"489.676104\" xlink:href=\"#C0_0_46e89c1f76\" y=\"372.236457\"/>\n    </g>\n    <g clip-path=\"url(#p57eb2c0284)\">\n     <use style=\"fill:#1f77b4;stroke:#ffffff;stroke-width:0.48;\" x=\"520.417101\" xlink:href=\"#C0_0_46e89c1f76\" y=\"467.79358\"/>\n    </g>\n    <g clip-path=\"url(#p57eb2c0284)\">\n     <use style=\"fill:#1f77b4;stroke:#ffffff;stroke-width:0.48;\" x=\"386.467915\" xlink:href=\"#C0_0_46e89c1f76\" y=\"536.414362\"/>\n    </g>\n    <g clip-path=\"url(#p57eb2c0284)\">\n     <use style=\"fill:#1f77b4;stroke:#ffffff;stroke-width:0.48;\" x=\"429.612642\" xlink:href=\"#C0_0_46e89c1f76\" y=\"591.130852\"/>\n    </g>\n    <g clip-path=\"url(#p57eb2c0284)\">\n     <use style=\"fill:#1f77b4;stroke:#ffffff;stroke-width:0.48;\" x=\"464.646504\" xlink:href=\"#C0_0_46e89c1f76\" y=\"548.249716\"/>\n    </g>\n    <g clip-path=\"url(#p57eb2c0284)\">\n     <use style=\"fill:#1f77b4;stroke:#ffffff;stroke-width:0.48;\" x=\"277.773274\" xlink:href=\"#C0_0_46e89c1f76\" y=\"604.193579\"/>\n    </g>\n    <g clip-path=\"url(#p57eb2c0284)\">\n     <use style=\"fill:#1f77b4;stroke:#ffffff;stroke-width:0.48;\" x=\"276.406569\" xlink:href=\"#C0_0_46e89c1f76\" y=\"605.912002\"/>\n    </g>\n    <g clip-path=\"url(#p57eb2c0284)\">\n     <use style=\"fill:#1f77b4;stroke:#ffffff;stroke-width:0.48;\" x=\"463.408037\" xlink:href=\"#C0_0_46e89c1f76\" y=\"253.324998\"/>\n    </g>\n    <g clip-path=\"url(#p57eb2c0284)\">\n     <use style=\"fill:#1f77b4;stroke:#ffffff;stroke-width:0.48;\" x=\"608.554857\" xlink:href=\"#C0_0_46e89c1f76\" y=\"388.385331\"/>\n    </g>\n    <g clip-path=\"url(#p57eb2c0284)\">\n     <use style=\"fill:#1f77b4;stroke:#ffffff;stroke-width:0.48;\" x=\"688.146449\" xlink:href=\"#C0_0_46e89c1f76\" y=\"324.032725\"/>\n    </g>\n    <g clip-path=\"url(#p57eb2c0284)\">\n     <use style=\"fill:#1f77b4;stroke:#ffffff;stroke-width:0.48;\" x=\"234.698573\" xlink:href=\"#C0_0_46e89c1f76\" y=\"445.4083\"/>\n    </g>\n    <g clip-path=\"url(#p57eb2c0284)\">\n     <use style=\"fill:#1f77b4;stroke:#ffffff;stroke-width:0.48;\" x=\"468.254779\" xlink:href=\"#C0_0_46e89c1f76\" y=\"464.938421\"/>\n    </g>\n    <g clip-path=\"url(#p57eb2c0284)\">\n     <use style=\"fill:#1f77b4;stroke:#ffffff;stroke-width:0.48;\" x=\"421.47661\" xlink:href=\"#C0_0_46e89c1f76\" y=\"529.277434\"/>\n    </g>\n    <g clip-path=\"url(#p57eb2c0284)\">\n     <use style=\"fill:#1f77b4;stroke:#ffffff;stroke-width:0.48;\" x=\"606.867819\" xlink:href=\"#C0_0_46e89c1f76\" y=\"390.054818\"/>\n    </g>\n    <g clip-path=\"url(#p57eb2c0284)\">\n     <use style=\"fill:#ff7f0e;stroke:#ffffff;stroke-width:0.48;\" x=\"255.461542\" xlink:href=\"#C0_0_46e89c1f76\" y=\"349.849271\"/>\n    </g>\n    <g clip-path=\"url(#p57eb2c0284)\">\n     <use style=\"fill:#1f77b4;stroke:#ffffff;stroke-width:0.48;\" x=\"479.646749\" xlink:href=\"#C0_0_46e89c1f76\" y=\"415.63109\"/>\n    </g>\n    <g clip-path=\"url(#p57eb2c0284)\">\n     <use style=\"fill:#1f77b4;stroke:#ffffff;stroke-width:0.48;\" x=\"650.651873\" xlink:href=\"#C0_0_46e89c1f76\" y=\"318.712284\"/>\n    </g>\n    <g clip-path=\"url(#p57eb2c0284)\">\n     <use style=\"fill:#1f77b4;stroke:#ffffff;stroke-width:0.48;\" x=\"449.365597\" xlink:href=\"#C0_0_46e89c1f76\" y=\"550.917123\"/>\n    </g>\n    <g clip-path=\"url(#p57eb2c0284)\">\n     <use style=\"fill:#1f77b4;stroke:#ffffff;stroke-width:0.48;\" x=\"594.858938\" xlink:href=\"#C0_0_46e89c1f76\" y=\"132.75004\"/>\n    </g>\n    <g clip-path=\"url(#p57eb2c0284)\">\n     <use style=\"fill:#1f77b4;stroke:#ffffff;stroke-width:0.48;\" x=\"600.509774\" xlink:href=\"#C0_0_46e89c1f76\" y=\"108.14812\"/>\n    </g>\n    <g clip-path=\"url(#p57eb2c0284)\">\n     <use style=\"fill:#1f77b4;stroke:#ffffff;stroke-width:0.48;\" x=\"639.537924\" xlink:href=\"#C0_0_46e89c1f76\" y=\"224.381706\"/>\n    </g>\n    <g clip-path=\"url(#p57eb2c0284)\">\n     <use style=\"fill:#1f77b4;stroke:#ffffff;stroke-width:0.48;\" x=\"687.627269\" xlink:href=\"#C0_0_46e89c1f76\" y=\"324.652763\"/>\n    </g>\n    <g clip-path=\"url(#p57eb2c0284)\">\n     <use style=\"fill:#ff7f0e;stroke:#ffffff;stroke-width:0.48;\" x=\"238.972787\" xlink:href=\"#C0_0_46e89c1f76\" y=\"361.521438\"/>\n    </g>\n    <g clip-path=\"url(#p57eb2c0284)\">\n     <use style=\"fill:#ff7f0e;stroke:#ffffff;stroke-width:0.48;\" x=\"129.710793\" xlink:href=\"#C0_0_46e89c1f76\" y=\"238.154568\"/>\n    </g>\n    <g clip-path=\"url(#p57eb2c0284)\">\n     <use style=\"fill:#ff7f0e;stroke:#ffffff;stroke-width:0.48;\" x=\"327.304216\" xlink:href=\"#C0_0_46e89c1f76\" y=\"168.106639\"/>\n    </g>\n    <g clip-path=\"url(#p57eb2c0284)\">\n     <use style=\"fill:#ff7f0e;stroke:#ffffff;stroke-width:0.48;\" x=\"110.977318\" xlink:href=\"#C0_0_46e89c1f76\" y=\"273.126268\"/>\n    </g>\n    <g clip-path=\"url(#p57eb2c0284)\">\n     <use style=\"fill:#ff7f0e;stroke:#ffffff;stroke-width:0.48;\" x=\"139.037839\" xlink:href=\"#C0_0_46e89c1f76\" y=\"341.461746\"/>\n    </g>\n    <g clip-path=\"url(#p57eb2c0284)\">\n     <use style=\"fill:#ff7f0e;stroke:#ffffff;stroke-width:0.48;\" x=\"332.20863\" xlink:href=\"#C0_0_46e89c1f76\" y=\"306.558002\"/>\n    </g>\n    <g clip-path=\"url(#p57eb2c0284)\">\n     <use style=\"fill:#ff7f0e;stroke:#ffffff;stroke-width:0.48;\" x=\"444.810875\" xlink:href=\"#C0_0_46e89c1f76\" y=\"318.618983\"/>\n    </g>\n    <g clip-path=\"url(#p57eb2c0284)\">\n     <use style=\"fill:#ff7f0e;stroke:#ffffff;stroke-width:0.48;\" x=\"172.592023\" xlink:href=\"#C0_0_46e89c1f76\" y=\"339.34557\"/>\n    </g>\n    <g clip-path=\"url(#p57eb2c0284)\">\n     <use style=\"fill:#2ca02c;stroke:#ffffff;stroke-width:0.48;\" x=\"162.071928\" xlink:href=\"#C0_0_46e89c1f76\" y=\"462.100042\"/>\n    </g>\n    <g clip-path=\"url(#p57eb2c0284)\">\n     <use style=\"fill:#ff7f0e;stroke:#ffffff;stroke-width:0.48;\" x=\"94.365078\" xlink:href=\"#C0_0_46e89c1f76\" y=\"348.162313\"/>\n    </g>\n    <g clip-path=\"url(#p57eb2c0284)\">\n     <use style=\"fill:#ff7f0e;stroke:#ffffff;stroke-width:0.48;\" x=\"178.75828\" xlink:href=\"#C0_0_46e89c1f76\" y=\"314.290629\"/>\n    </g>\n    <g clip-path=\"url(#p57eb2c0284)\">\n     <use style=\"fill:#ff7f0e;stroke:#ffffff;stroke-width:0.48;\" x=\"144.67129\" xlink:href=\"#C0_0_46e89c1f76\" y=\"329.936119\"/>\n    </g>\n    <g clip-path=\"url(#p57eb2c0284)\">\n     <use style=\"fill:#ff7f0e;stroke:#ffffff;stroke-width:0.48;\" x=\"90.487266\" xlink:href=\"#C0_0_46e89c1f76\" y=\"352.721483\"/>\n    </g>\n    <g clip-path=\"url(#p57eb2c0284)\">\n     <use style=\"fill:#ff7f0e;stroke:#ffffff;stroke-width:0.48;\" x=\"188.00468\" xlink:href=\"#C0_0_46e89c1f76\" y=\"298.036964\"/>\n    </g>\n    <g clip-path=\"url(#p57eb2c0284)\">\n     <use style=\"fill:#ff7f0e;stroke:#ffffff;stroke-width:0.48;\" x=\"89.179875\" xlink:href=\"#C0_0_46e89c1f76\" y=\"349.783985\"/>\n    </g>\n    <g clip-path=\"url(#p57eb2c0284)\">\n     <use style=\"fill:#ff7f0e;stroke:#ffffff;stroke-width:0.48;\" x=\"153.599654\" xlink:href=\"#C0_0_46e89c1f76\" y=\"327.003384\"/>\n    </g>\n    <g clip-path=\"url(#p57eb2c0284)\">\n     <use style=\"fill:#ff7f0e;stroke:#ffffff;stroke-width:0.48;\" x=\"122.683233\" xlink:href=\"#C0_0_46e89c1f76\" y=\"258.037294\"/>\n    </g>\n    <g clip-path=\"url(#p57eb2c0284)\">\n     <use style=\"fill:#ff7f0e;stroke:#ffffff;stroke-width:0.48;\" x=\"131.906313\" xlink:href=\"#C0_0_46e89c1f76\" y=\"280.146192\"/>\n    </g>\n    <g clip-path=\"url(#p57eb2c0284)\">\n     <use style=\"fill:#ff7f0e;stroke:#ffffff;stroke-width:0.48;\" x=\"479.154759\" xlink:href=\"#C0_0_46e89c1f76\" y=\"268.341386\"/>\n    </g>\n    <g clip-path=\"url(#p57eb2c0284)\">\n     <use style=\"fill:#ff7f0e;stroke:#ffffff;stroke-width:0.48;\" x=\"453.818744\" xlink:href=\"#C0_0_46e89c1f76\" y=\"203.613884\"/>\n    </g>\n    <g clip-path=\"url(#p57eb2c0284)\">\n     <use style=\"fill:#ff7f0e;stroke:#ffffff;stroke-width:0.48;\" x=\"540.122666\" xlink:href=\"#C0_0_46e89c1f76\" y=\"228.596935\"/>\n    </g>\n    <g clip-path=\"url(#p57eb2c0284)\">\n     <use style=\"fill:#ff7f0e;stroke:#ffffff;stroke-width:0.48;\" x=\"328.32381\" xlink:href=\"#C0_0_46e89c1f76\" y=\"158.84767\"/>\n    </g>\n    <g clip-path=\"url(#p57eb2c0284)\">\n     <use style=\"fill:#ff7f0e;stroke:#ffffff;stroke-width:0.48;\" x=\"417.21202\" xlink:href=\"#C0_0_46e89c1f76\" y=\"325.808518\"/>\n    </g>\n    <g clip-path=\"url(#p57eb2c0284)\">\n     <use style=\"fill:#ff7f0e;stroke:#ffffff;stroke-width:0.48;\" x=\"311.691261\" xlink:href=\"#C0_0_46e89c1f76\" y=\"346.592211\"/>\n    </g>\n    <g clip-path=\"url(#p57eb2c0284)\">\n     <use style=\"fill:#ff7f0e;stroke:#ffffff;stroke-width:0.48;\" x=\"365.359838\" xlink:href=\"#C0_0_46e89c1f76\" y=\"160.075207\"/>\n    </g>\n    <g clip-path=\"url(#p57eb2c0284)\">\n     <use style=\"fill:#ff7f0e;stroke:#ffffff;stroke-width:0.48;\" x=\"381.926955\" xlink:href=\"#C0_0_46e89c1f76\" y=\"162.293787\"/>\n    </g>\n    <g clip-path=\"url(#p57eb2c0284)\">\n     <use style=\"fill:#ff7f0e;stroke:#ffffff;stroke-width:0.48;\" x=\"126.379157\" xlink:href=\"#C0_0_46e89c1f76\" y=\"237.71748\"/>\n    </g>\n    <g clip-path=\"url(#p57eb2c0284)\">\n     <use style=\"fill:#ff7f0e;stroke:#ffffff;stroke-width:0.48;\" x=\"394.497461\" xlink:href=\"#C0_0_46e89c1f76\" y=\"377.392598\"/>\n    </g>\n    <g clip-path=\"url(#p57eb2c0284)\">\n     <use style=\"fill:#ff7f0e;stroke:#ffffff;stroke-width:0.48;\" x=\"437.337593\" xlink:href=\"#C0_0_46e89c1f76\" y=\"240.803517\"/>\n    </g>\n    <g clip-path=\"url(#p57eb2c0284)\">\n     <use style=\"fill:#ff7f0e;stroke:#ffffff;stroke-width:0.48;\" x=\"445.516754\" xlink:href=\"#C0_0_46e89c1f76\" y=\"315.793453\"/>\n    </g>\n    <g clip-path=\"url(#p57eb2c0284)\">\n     <use style=\"fill:#ff7f0e;stroke:#ffffff;stroke-width:0.48;\" x=\"97.28383\" xlink:href=\"#C0_0_46e89c1f76\" y=\"365.559034\"/>\n    </g>\n    <g clip-path=\"url(#p57eb2c0284)\">\n     <use style=\"fill:#ff7f0e;stroke:#ffffff;stroke-width:0.48;\" x=\"470.463149\" xlink:href=\"#C0_0_46e89c1f76\" y=\"181.770406\"/>\n    </g>\n    <g clip-path=\"url(#p57eb2c0284)\">\n     <use style=\"fill:#1f77b4;stroke:#ffffff;stroke-width:0.48;\" x=\"427.803074\" xlink:href=\"#C0_0_46e89c1f76\" y=\"381.54263\"/>\n    </g>\n    <g clip-path=\"url(#p57eb2c0284)\">\n     <use style=\"fill:#ff7f0e;stroke:#ffffff;stroke-width:0.48;\" x=\"448.29439\" xlink:href=\"#C0_0_46e89c1f76\" y=\"306.191206\"/>\n    </g>\n    <g clip-path=\"url(#p57eb2c0284)\">\n     <use style=\"fill:#1f77b4;stroke:#ffffff;stroke-width:0.48;\" x=\"330.056456\" xlink:href=\"#C0_0_46e89c1f76\" y=\"338.846498\"/>\n    </g>\n    <g clip-path=\"url(#p57eb2c0284)\">\n     <use style=\"fill:#ff7f0e;stroke:#ffffff;stroke-width:0.48;\" x=\"463.14416\" xlink:href=\"#C0_0_46e89c1f76\" y=\"46.683838\"/>\n    </g>\n    <g clip-path=\"url(#p57eb2c0284)\">\n     <use style=\"fill:#ff7f0e;stroke:#ffffff;stroke-width:0.48;\" x=\"401.597039\" xlink:href=\"#C0_0_46e89c1f76\" y=\"129.676444\"/>\n    </g>\n    <g clip-path=\"url(#p57eb2c0284)\">\n     <use style=\"fill:#ff7f0e;stroke:#ffffff;stroke-width:0.48;\" x=\"152.933983\" xlink:href=\"#C0_0_46e89c1f76\" y=\"243.511503\"/>\n    </g>\n    <g clip-path=\"url(#p57eb2c0284)\">\n     <use style=\"fill:#ff7f0e;stroke:#ffffff;stroke-width:0.48;\" x=\"325.603182\" xlink:href=\"#C0_0_46e89c1f76\" y=\"96.061086\"/>\n    </g>\n    <g clip-path=\"url(#p57eb2c0284)\">\n     <use style=\"fill:#ff7f0e;stroke:#ffffff;stroke-width:0.48;\" x=\"406.658914\" xlink:href=\"#C0_0_46e89c1f76\" y=\"357.257067\"/>\n    </g>\n    <g clip-path=\"url(#p57eb2c0284)\">\n     <use style=\"fill:#ff7f0e;stroke:#ffffff;stroke-width:0.48;\" x=\"366.724938\" xlink:href=\"#C0_0_46e89c1f76\" y=\"202.837786\"/>\n    </g>\n    <g clip-path=\"url(#p57eb2c0284)\">\n     <use style=\"fill:#ff7f0e;stroke:#ffffff;stroke-width:0.48;\" x=\"548.115971\" xlink:href=\"#C0_0_46e89c1f76\" y=\"99.030443\"/>\n    </g>\n    <g clip-path=\"url(#p57eb2c0284)\">\n     <use style=\"fill:#ff7f0e;stroke:#ffffff;stroke-width:0.48;\" x=\"444.244705\" xlink:href=\"#C0_0_46e89c1f76\" y=\"71.616619\"/>\n    </g>\n    <g clip-path=\"url(#p57eb2c0284)\">\n     <use style=\"fill:#1f77b4;stroke:#ffffff;stroke-width:0.48;\" x=\"398.5012\" xlink:href=\"#C0_0_46e89c1f76\" y=\"244.359238\"/>\n    </g>\n    <g clip-path=\"url(#p57eb2c0284)\">\n     <use style=\"fill:#ff7f0e;stroke:#ffffff;stroke-width:0.48;\" x=\"239.533182\" xlink:href=\"#C0_0_46e89c1f76\" y=\"231.301751\"/>\n    </g>\n    <g clip-path=\"url(#p57eb2c0284)\">\n     <use style=\"fill:#2ca02c;stroke:#ffffff;stroke-width:0.48;\" x=\"196.114147\" xlink:href=\"#C0_0_46e89c1f76\" y=\"449.365473\"/>\n    </g>\n    <g clip-path=\"url(#p57eb2c0284)\">\n     <use style=\"fill:#ff7f0e;stroke:#ffffff;stroke-width:0.48;\" x=\"346.558156\" xlink:href=\"#C0_0_46e89c1f76\" y=\"262.120025\"/>\n    </g>\n    <g clip-path=\"url(#p57eb2c0284)\">\n     <use style=\"fill:#ff7f0e;stroke:#ffffff;stroke-width:0.48;\" x=\"619.210029\" xlink:href=\"#C0_0_46e89c1f76\" y=\"100.380018\"/>\n    </g>\n    <g clip-path=\"url(#p57eb2c0284)\">\n     <use style=\"fill:#ff7f0e;stroke:#ffffff;stroke-width:0.48;\" x=\"395.655597\" xlink:href=\"#C0_0_46e89c1f76\" y=\"221.206236\"/>\n    </g>\n    <g clip-path=\"url(#p57eb2c0284)\">\n     <use style=\"fill:#ff7f0e;stroke:#ffffff;stroke-width:0.48;\" x=\"448.636033\" xlink:href=\"#C0_0_46e89c1f76\" y=\"107.068531\"/>\n    </g>\n    <g clip-path=\"url(#p57eb2c0284)\">\n     <use style=\"fill:#ff7f0e;stroke:#ffffff;stroke-width:0.48;\" x=\"397.607474\" xlink:href=\"#C0_0_46e89c1f76\" y=\"281.604003\"/>\n    </g>\n    <g clip-path=\"url(#p57eb2c0284)\">\n     <use style=\"fill:#2ca02c;stroke:#ffffff;stroke-width:0.48;\" x=\"235.604868\" xlink:href=\"#C0_0_46e89c1f76\" y=\"519.506453\"/>\n    </g>\n    <g clip-path=\"url(#p57eb2c0284)\">\n     <use style=\"fill:#2ca02c;stroke:#ffffff;stroke-width:0.48;\" x=\"215.389103\" xlink:href=\"#C0_0_46e89c1f76\" y=\"482.23526\"/>\n    </g>\n    <g clip-path=\"url(#p57eb2c0284)\">\n     <use style=\"fill:#ff7f0e;stroke:#ffffff;stroke-width:0.48;\" x=\"115.430545\" xlink:href=\"#C0_0_46e89c1f76\" y=\"402.210546\"/>\n    </g>\n    <g clip-path=\"url(#p57eb2c0284)\">\n     <use style=\"fill:#ff7f0e;stroke:#ffffff;stroke-width:0.48;\" x=\"457.99268\" xlink:href=\"#C0_0_46e89c1f76\" y=\"143.840655\"/>\n    </g>\n    <g clip-path=\"url(#p57eb2c0284)\">\n     <use style=\"fill:#1f77b4;stroke:#ffffff;stroke-width:0.48;\" x=\"395.408563\" xlink:href=\"#C0_0_46e89c1f76\" y=\"411.621323\"/>\n    </g>\n    <g clip-path=\"url(#p57eb2c0284)\">\n     <use style=\"fill:#1f77b4;stroke:#ffffff;stroke-width:0.48;\" x=\"421.04221\" xlink:href=\"#C0_0_46e89c1f76\" y=\"294.954902\"/>\n    </g>\n    <g clip-path=\"url(#p57eb2c0284)\">\n     <use style=\"fill:#ff7f0e;stroke:#ffffff;stroke-width:0.48;\" x=\"126.850624\" xlink:href=\"#C0_0_46e89c1f76\" y=\"441.278916\"/>\n    </g>\n    <g clip-path=\"url(#p57eb2c0284)\">\n     <use style=\"fill:#1f77b4;stroke:#ffffff;stroke-width:0.48;\" x=\"495.11764\" xlink:href=\"#C0_0_46e89c1f76\" y=\"542.539591\"/>\n    </g>\n    <g clip-path=\"url(#p57eb2c0284)\">\n     <use style=\"fill:#1f77b4;stroke:#ffffff;stroke-width:0.48;\" x=\"653.758824\" xlink:href=\"#C0_0_46e89c1f76\" y=\"302.043863\"/>\n    </g>\n    <g clip-path=\"url(#p57eb2c0284)\">\n     <use style=\"fill:#1f77b4;stroke:#ffffff;stroke-width:0.48;\" x=\"573.933344\" xlink:href=\"#C0_0_46e89c1f76\" y=\"389.45002\"/>\n    </g>\n    <g clip-path=\"url(#p57eb2c0284)\">\n     <use style=\"fill:#ff7f0e;stroke:#ffffff;stroke-width:0.48;\" x=\"396.489854\" xlink:href=\"#C0_0_46e89c1f76\" y=\"301.533461\"/>\n    </g>\n    <g clip-path=\"url(#p57eb2c0284)\">\n     <use style=\"fill:#1f77b4;stroke:#ffffff;stroke-width:0.48;\" x=\"644.99345\" xlink:href=\"#C0_0_46e89c1f76\" y=\"329.309088\"/>\n    </g>\n    <g clip-path=\"url(#p57eb2c0284)\">\n     <use style=\"fill:#1f77b4;stroke:#ffffff;stroke-width:0.48;\" x=\"625.91547\" xlink:href=\"#C0_0_46e89c1f76\" y=\"344.601821\"/>\n    </g>\n    <g clip-path=\"url(#p57eb2c0284)\">\n     <use style=\"fill:#1f77b4;stroke:#ffffff;stroke-width:0.48;\" x=\"610.626476\" xlink:href=\"#C0_0_46e89c1f76\" y=\"269.71001\"/>\n    </g>\n    <g clip-path=\"url(#p57eb2c0284)\">\n     <use style=\"fill:#1f77b4;stroke:#ffffff;stroke-width:0.48;\" x=\"544.185785\" xlink:href=\"#C0_0_46e89c1f76\" y=\"351.466417\"/>\n    </g>\n    <g clip-path=\"url(#p57eb2c0284)\">\n     <use style=\"fill:#1f77b4;stroke:#ffffff;stroke-width:0.48;\" x=\"534.553172\" xlink:href=\"#C0_0_46e89c1f76\" y=\"486.739125\"/>\n    </g>\n    <g clip-path=\"url(#p57eb2c0284)\">\n     <use style=\"fill:#ff7f0e;stroke:#ffffff;stroke-width:0.48;\" x=\"197.87011\" xlink:href=\"#C0_0_46e89c1f76\" y=\"257.299432\"/>\n    </g>\n    <g clip-path=\"url(#p57eb2c0284)\">\n     <use style=\"fill:#1f77b4;stroke:#ffffff;stroke-width:0.48;\" x=\"551.204228\" xlink:href=\"#C0_0_46e89c1f76\" y=\"390.341282\"/>\n    </g>\n    <g clip-path=\"url(#p57eb2c0284)\">\n     <use style=\"fill:#ff7f0e;stroke:#ffffff;stroke-width:0.48;\" x=\"157.438564\" xlink:href=\"#C0_0_46e89c1f76\" y=\"280.37326\"/>\n    </g>\n    <g clip-path=\"url(#p57eb2c0284)\">\n     <use style=\"fill:#2ca02c;stroke:#ffffff;stroke-width:0.48;\" x=\"316.064413\" xlink:href=\"#C0_0_46e89c1f76\" y=\"493.392278\"/>\n    </g>\n    <g clip-path=\"url(#p57eb2c0284)\">\n     <use style=\"fill:#ff7f0e;stroke:#ffffff;stroke-width:0.48;\" x=\"303.164759\" xlink:href=\"#C0_0_46e89c1f76\" y=\"502.14438\"/>\n    </g>\n    <g clip-path=\"url(#p57eb2c0284)\">\n     <use style=\"fill:#ff7f0e;stroke:#ffffff;stroke-width:0.48;\" x=\"504.129846\" xlink:href=\"#C0_0_46e89c1f76\" y=\"58.014827\"/>\n    </g>\n    <g clip-path=\"url(#p57eb2c0284)\">\n     <use style=\"fill:#ff7f0e;stroke:#ffffff;stroke-width:0.48;\" x=\"274.255769\" xlink:href=\"#C0_0_46e89c1f76\" y=\"346.715522\"/>\n    </g>\n    <g clip-path=\"url(#p57eb2c0284)\">\n     <use style=\"fill:#1f77b4;stroke:#ffffff;stroke-width:0.48;\" x=\"414.532933\" xlink:href=\"#C0_0_46e89c1f76\" y=\"525.901159\"/>\n    </g>\n    <g clip-path=\"url(#p57eb2c0284)\">\n     <use style=\"fill:#ff7f0e;stroke:#ffffff;stroke-width:0.48;\" x=\"313.374097\" xlink:href=\"#C0_0_46e89c1f76\" y=\"409.671375\"/>\n    </g>\n    <g clip-path=\"url(#p57eb2c0284)\">\n     <use style=\"fill:#ff7f0e;stroke:#ffffff;stroke-width:0.48;\" x=\"292.985332\" xlink:href=\"#C0_0_46e89c1f76\" y=\"315.714997\"/>\n    </g>\n    <g clip-path=\"url(#p57eb2c0284)\">\n     <use style=\"fill:#ff7f0e;stroke:#ffffff;stroke-width:0.48;\" x=\"123.133132\" xlink:href=\"#C0_0_46e89c1f76\" y=\"343.806138\"/>\n    </g>\n    <g clip-path=\"url(#p57eb2c0284)\">\n     <use style=\"fill:#ff7f0e;stroke:#ffffff;stroke-width:0.48;\" x=\"192.132778\" xlink:href=\"#C0_0_46e89c1f76\" y=\"255.038477\"/>\n    </g>\n    <g clip-path=\"url(#p57eb2c0284)\">\n     <use style=\"fill:#ff7f0e;stroke:#ffffff;stroke-width:0.48;\" x=\"79.419176\" xlink:href=\"#C0_0_46e89c1f76\" y=\"359.178699\"/>\n    </g>\n    <g clip-path=\"url(#p57eb2c0284)\">\n     <use style=\"fill:#ff7f0e;stroke:#ffffff;stroke-width:0.48;\" x=\"188.541279\" xlink:href=\"#C0_0_46e89c1f76\" y=\"304.520137\"/>\n    </g>\n    <g clip-path=\"url(#p57eb2c0284)\">\n     <use style=\"fill:#1f77b4;stroke:#ffffff;stroke-width:0.48;\" x=\"438.244797\" xlink:href=\"#C0_0_46e89c1f76\" y=\"502.662127\"/>\n    </g>\n    <g clip-path=\"url(#p57eb2c0284)\">\n     <use style=\"fill:#ff7f0e;stroke:#ffffff;stroke-width:0.48;\" x=\"187.267295\" xlink:href=\"#C0_0_46e89c1f76\" y=\"414.743553\"/>\n    </g>\n    <g clip-path=\"url(#p57eb2c0284)\">\n     <use style=\"fill:#ff7f0e;stroke:#ffffff;stroke-width:0.48;\" x=\"395.622634\" xlink:href=\"#C0_0_46e89c1f76\" y=\"245.711873\"/>\n    </g>\n    <g clip-path=\"url(#p57eb2c0284)\">\n     <use style=\"fill:#ff7f0e;stroke:#ffffff;stroke-width:0.48;\" x=\"307.687642\" xlink:href=\"#C0_0_46e89c1f76\" y=\"264.791455\"/>\n    </g>\n    <g clip-path=\"url(#p57eb2c0284)\">\n     <use style=\"fill:#ff7f0e;stroke:#ffffff;stroke-width:0.48;\" x=\"215.003605\" xlink:href=\"#C0_0_46e89c1f76\" y=\"264.246125\"/>\n    </g>\n    <g clip-path=\"url(#p57eb2c0284)\">\n     <use style=\"fill:#ff7f0e;stroke:#ffffff;stroke-width:0.48;\" x=\"363.113269\" xlink:href=\"#C0_0_46e89c1f76\" y=\"92.665005\"/>\n    </g>\n    <g clip-path=\"url(#p57eb2c0284)\">\n     <use style=\"fill:#ff7f0e;stroke:#ffffff;stroke-width:0.48;\" x=\"178.623577\" xlink:href=\"#C0_0_46e89c1f76\" y=\"375.708504\"/>\n    </g>\n    <g clip-path=\"url(#p57eb2c0284)\">\n     <use style=\"fill:#ff7f0e;stroke:#ffffff;stroke-width:0.48;\" x=\"275.069333\" xlink:href=\"#C0_0_46e89c1f76\" y=\"387.22431\"/>\n    </g>\n    <g clip-path=\"url(#p57eb2c0284)\">\n     <use style=\"fill:#1f77b4;stroke:#ffffff;stroke-width:0.48;\" x=\"385.775515\" xlink:href=\"#C0_0_46e89c1f76\" y=\"502.165382\"/>\n    </g>\n    <g clip-path=\"url(#p57eb2c0284)\">\n     <use style=\"fill:#2ca02c;stroke:#ffffff;stroke-width:0.48;\" x=\"214.735493\" xlink:href=\"#C0_0_46e89c1f76\" y=\"534.62783\"/>\n    </g>\n    <g clip-path=\"url(#p57eb2c0284)\">\n     <use style=\"fill:#2ca02c;stroke:#ffffff;stroke-width:0.48;\" x=\"355.014113\" xlink:href=\"#C0_0_46e89c1f76\" y=\"465.339316\"/>\n    </g>\n    <g clip-path=\"url(#p57eb2c0284)\">\n     <use style=\"fill:#2ca02c;stroke:#ffffff;stroke-width:0.48;\" x=\"233.108662\" xlink:href=\"#C0_0_46e89c1f76\" y=\"513.579637\"/>\n    </g>\n    <g clip-path=\"url(#p57eb2c0284)\">\n     <use style=\"fill:#ff7f0e;stroke:#ffffff;stroke-width:0.48;\" x=\"505.221925\" xlink:href=\"#C0_0_46e89c1f76\" y=\"58.42623\"/>\n    </g>\n    <g clip-path=\"url(#p57eb2c0284)\">\n     <use style=\"fill:#2ca02c;stroke:#ffffff;stroke-width:0.48;\" x=\"241.115507\" xlink:href=\"#C0_0_46e89c1f76\" y=\"538.187031\"/>\n    </g>\n    <g clip-path=\"url(#p57eb2c0284)\">\n     <use style=\"fill:#1f77b4;stroke:#ffffff;stroke-width:0.48;\" x=\"433.843727\" xlink:href=\"#C0_0_46e89c1f76\" y=\"429.513824\"/>\n    </g>\n    <g clip-path=\"url(#p57eb2c0284)\">\n     <use style=\"fill:#1f77b4;stroke:#ffffff;stroke-width:0.48;\" x=\"588.169469\" xlink:href=\"#C0_0_46e89c1f76\" y=\"457.933254\"/>\n    </g>\n    <g clip-path=\"url(#p57eb2c0284)\">\n     <use style=\"fill:#1f77b4;stroke:#ffffff;stroke-width:0.48;\" x=\"666.837313\" xlink:href=\"#C0_0_46e89c1f76\" y=\"248.096399\"/>\n    </g>\n    <g clip-path=\"url(#p57eb2c0284)\">\n     <use style=\"fill:#1f77b4;stroke:#ffffff;stroke-width:0.48;\" x=\"180.378077\" xlink:href=\"#C0_0_46e89c1f76\" y=\"321.079232\"/>\n    </g>\n    <g clip-path=\"url(#p57eb2c0284)\">\n     <use style=\"fill:#ff7f0e;stroke:#ffffff;stroke-width:0.48;\" x=\"173.186677\" xlink:href=\"#C0_0_46e89c1f76\" y=\"370.099249\"/>\n    </g>\n    <g clip-path=\"url(#p57eb2c0284)\">\n     <use style=\"fill:#ff7f0e;stroke:#ffffff;stroke-width:0.48;\" x=\"521.23041\" xlink:href=\"#C0_0_46e89c1f76\" y=\"70.124637\"/>\n    </g>\n    <g clip-path=\"url(#p57eb2c0284)\">\n     <use style=\"fill:#1f77b4;stroke:#ffffff;stroke-width:0.48;\" x=\"293.833283\" xlink:href=\"#C0_0_46e89c1f76\" y=\"422.057223\"/>\n    </g>\n    <g clip-path=\"url(#p57eb2c0284)\">\n     <use style=\"fill:#1f77b4;stroke:#ffffff;stroke-width:0.48;\" x=\"421.635171\" xlink:href=\"#C0_0_46e89c1f76\" y=\"488.710632\"/>\n    </g>\n    <g clip-path=\"url(#p57eb2c0284)\">\n     <use style=\"fill:#ff7f0e;stroke:#ffffff;stroke-width:0.48;\" x=\"449.71378\" xlink:href=\"#C0_0_46e89c1f76\" y=\"98.732151\"/>\n    </g>\n    <g clip-path=\"url(#p57eb2c0284)\">\n     <use style=\"fill:#ff7f0e;stroke:#ffffff;stroke-width:0.48;\" x=\"664.463018\" xlink:href=\"#C0_0_46e89c1f76\" y=\"140.634335\"/>\n    </g>\n    <g clip-path=\"url(#p57eb2c0284)\">\n     <use style=\"fill:#ff7f0e;stroke:#ffffff;stroke-width:0.48;\" x=\"494.841525\" xlink:href=\"#C0_0_46e89c1f76\" y=\"66.707815\"/>\n    </g>\n    <g clip-path=\"url(#p57eb2c0284)\">\n     <use style=\"fill:#ff7f0e;stroke:#ffffff;stroke-width:0.48;\" x=\"477.876744\" xlink:href=\"#C0_0_46e89c1f76\" y=\"84.214\"/>\n    </g>\n    <g clip-path=\"url(#p57eb2c0284)\">\n     <use style=\"fill:#ff7f0e;stroke:#ffffff;stroke-width:0.48;\" x=\"489.413767\" xlink:href=\"#C0_0_46e89c1f76\" y=\"66.915415\"/>\n    </g>\n    <g clip-path=\"url(#p57eb2c0284)\">\n     <use style=\"fill:#1f77b4;stroke:#ffffff;stroke-width:0.48;\" x=\"399.802542\" xlink:href=\"#C0_0_46e89c1f76\" y=\"410.492468\"/>\n    </g>\n    <g clip-path=\"url(#p57eb2c0284)\">\n     <use style=\"fill:#ff7f0e;stroke:#ffffff;stroke-width:0.48;\" x=\"478.810187\" xlink:href=\"#C0_0_46e89c1f76\" y=\"165.29061\"/>\n    </g>\n    <g clip-path=\"url(#p57eb2c0284)\">\n     <use style=\"fill:#ff7f0e;stroke:#ffffff;stroke-width:0.48;\" x=\"527.460285\" xlink:href=\"#C0_0_46e89c1f76\" y=\"123.410143\"/>\n    </g>\n    <g clip-path=\"url(#p57eb2c0284)\">\n     <use style=\"fill:#ff7f0e;stroke:#ffffff;stroke-width:0.48;\" x=\"588.008639\" xlink:href=\"#C0_0_46e89c1f76\" y=\"148.432393\"/>\n    </g>\n    <g clip-path=\"url(#p57eb2c0284)\">\n     <use style=\"fill:#ff7f0e;stroke:#ffffff;stroke-width:0.48;\" x=\"352.483304\" xlink:href=\"#C0_0_46e89c1f76\" y=\"138.140019\"/>\n    </g>\n    <g clip-path=\"url(#p57eb2c0284)\">\n     <use style=\"fill:#1f77b4;stroke:#ffffff;stroke-width:0.48;\" x=\"454.397859\" xlink:href=\"#C0_0_46e89c1f76\" y=\"473.969216\"/>\n    </g>\n    <g clip-path=\"url(#p57eb2c0284)\">\n     <use style=\"fill:#1f77b4;stroke:#ffffff;stroke-width:0.48;\" x=\"563.203839\" xlink:href=\"#C0_0_46e89c1f76\" y=\"446.699229\"/>\n    </g>\n    <g clip-path=\"url(#p57eb2c0284)\">\n     <use style=\"fill:#1f77b4;stroke:#ffffff;stroke-width:0.48;\" x=\"635.584825\" xlink:href=\"#C0_0_46e89c1f76\" y=\"293.332531\"/>\n    </g>\n    <g clip-path=\"url(#p57eb2c0284)\">\n     <use style=\"fill:#1f77b4;stroke:#ffffff;stroke-width:0.48;\" x=\"356.838741\" xlink:href=\"#C0_0_46e89c1f76\" y=\"413.916057\"/>\n    </g>\n    <g clip-path=\"url(#p57eb2c0284)\">\n     <use style=\"fill:#ff7f0e;stroke:#ffffff;stroke-width:0.48;\" x=\"339.28796\" xlink:href=\"#C0_0_46e89c1f76\" y=\"391.367956\"/>\n    </g>\n    <g clip-path=\"url(#p57eb2c0284)\">\n     <use style=\"fill:#ff7f0e;stroke:#ffffff;stroke-width:0.48;\" x=\"511.824285\" xlink:href=\"#C0_0_46e89c1f76\" y=\"132.142564\"/>\n    </g>\n    <g clip-path=\"url(#p57eb2c0284)\">\n     <use style=\"fill:#ff7f0e;stroke:#ffffff;stroke-width:0.48;\" x=\"534.718135\" xlink:href=\"#C0_0_46e89c1f76\" y=\"36.850909\"/>\n    </g>\n    <g clip-path=\"url(#p57eb2c0284)\">\n     <use style=\"fill:#ff7f0e;stroke:#ffffff;stroke-width:0.48;\" x=\"536.889704\" xlink:href=\"#C0_0_46e89c1f76\" y=\"39.282768\"/>\n    </g>\n    <g clip-path=\"url(#p57eb2c0284)\">\n     <use style=\"fill:#ff7f0e;stroke:#ffffff;stroke-width:0.48;\" x=\"541.353886\" xlink:href=\"#C0_0_46e89c1f76\" y=\"38.07549\"/>\n    </g>\n    <g clip-path=\"url(#p57eb2c0284)\">\n     <use style=\"fill:#ff7f0e;stroke:#ffffff;stroke-width:0.48;\" x=\"544.879761\" xlink:href=\"#C0_0_46e89c1f76\" y=\"39.570662\"/>\n    </g>\n    <g clip-path=\"url(#p57eb2c0284)\">\n     <use style=\"fill:#ff7f0e;stroke:#ffffff;stroke-width:0.48;\" x=\"546.142024\" xlink:href=\"#C0_0_46e89c1f76\" y=\"42.006345\"/>\n    </g>\n    <g clip-path=\"url(#p57eb2c0284)\">\n     <use style=\"fill:#ff7f0e;stroke:#ffffff;stroke-width:0.48;\" x=\"471.711541\" xlink:href=\"#C0_0_46e89c1f76\" y=\"49.939328\"/>\n    </g>\n    <g clip-path=\"url(#p57eb2c0284)\">\n     <use style=\"fill:#ff7f0e;stroke:#ffffff;stroke-width:0.48;\" x=\"480.863664\" xlink:href=\"#C0_0_46e89c1f76\" y=\"52.235685\"/>\n    </g>\n    <g clip-path=\"url(#p57eb2c0284)\">\n     <use style=\"fill:#ff7f0e;stroke:#ffffff;stroke-width:0.48;\" x=\"490.704701\" xlink:href=\"#C0_0_46e89c1f76\" y=\"53.781609\"/>\n    </g>\n    <g clip-path=\"url(#p57eb2c0284)\">\n     <use style=\"fill:#ff7f0e;stroke:#ffffff;stroke-width:0.48;\" x=\"348.268745\" xlink:href=\"#C0_0_46e89c1f76\" y=\"132.844708\"/>\n    </g>\n    <g clip-path=\"url(#p57eb2c0284)\">\n     <use style=\"fill:#ff7f0e;stroke:#ffffff;stroke-width:0.48;\" x=\"485.458066\" xlink:href=\"#C0_0_46e89c1f76\" y=\"50.971108\"/>\n    </g>\n    <g clip-path=\"url(#p57eb2c0284)\">\n     <use style=\"fill:#ff7f0e;stroke:#ffffff;stroke-width:0.48;\" x=\"549.464101\" xlink:href=\"#C0_0_46e89c1f76\" y=\"136.589502\"/>\n    </g>\n    <g clip-path=\"url(#p57eb2c0284)\">\n     <use style=\"fill:#2ca02c;stroke:#ffffff;stroke-width:0.48;\" x=\"274.044258\" xlink:href=\"#C0_0_46e89c1f76\" y=\"541.245925\"/>\n    </g>\n    <g clip-path=\"url(#p57eb2c0284)\">\n     <use style=\"fill:#1f77b4;stroke:#ffffff;stroke-width:0.48;\" x=\"574.63972\" xlink:href=\"#C0_0_46e89c1f76\" y=\"371.062783\"/>\n    </g>\n    <g clip-path=\"url(#p57eb2c0284)\">\n     <use style=\"fill:#1f77b4;stroke:#ffffff;stroke-width:0.48;\" x=\"606.574872\" xlink:href=\"#C0_0_46e89c1f76\" y=\"427.474352\"/>\n    </g>\n    <g clip-path=\"url(#p57eb2c0284)\">\n     <use style=\"fill:#1f77b4;stroke:#ffffff;stroke-width:0.48;\" x=\"644.956777\" xlink:href=\"#C0_0_46e89c1f76\" y=\"229.42866\"/>\n    </g>\n    <g clip-path=\"url(#p57eb2c0284)\">\n     <use style=\"fill:#1f77b4;stroke:#ffffff;stroke-width:0.48;\" x=\"620.990316\" xlink:href=\"#C0_0_46e89c1f76\" y=\"284.610935\"/>\n    </g>\n    <g clip-path=\"url(#p57eb2c0284)\">\n     <use style=\"fill:#1f77b4;stroke:#ffffff;stroke-width:0.48;\" x=\"617.266071\" xlink:href=\"#C0_0_46e89c1f76\" y=\"291.927807\"/>\n    </g>\n    <g clip-path=\"url(#p57eb2c0284)\">\n     <use style=\"fill:#ff7f0e;stroke:#ffffff;stroke-width:0.48;\" x=\"432.982777\" xlink:href=\"#C0_0_46e89c1f76\" y=\"278.391727\"/>\n    </g>\n    <g clip-path=\"url(#p57eb2c0284)\">\n     <use style=\"fill:#1f77b4;stroke:#ffffff;stroke-width:0.48;\" x=\"515.666997\" xlink:href=\"#C0_0_46e89c1f76\" y=\"364.543762\"/>\n    </g>\n    <g clip-path=\"url(#p57eb2c0284)\">\n     <use style=\"fill:#2ca02c;stroke:#ffffff;stroke-width:0.48;\" x=\"324.086754\" xlink:href=\"#C0_0_46e89c1f76\" y=\"479.26197\"/>\n    </g>\n    <g clip-path=\"url(#p57eb2c0284)\">\n     <use style=\"fill:#1f77b4;stroke:#ffffff;stroke-width:0.48;\" x=\"500.102686\" xlink:href=\"#C0_0_46e89c1f76\" y=\"443.866111\"/>\n    </g>\n    <g clip-path=\"url(#p57eb2c0284)\">\n     <use style=\"fill:#1f77b4;stroke:#ffffff;stroke-width:0.48;\" x=\"565.79906\" xlink:href=\"#C0_0_46e89c1f76\" y=\"432.263952\"/>\n    </g>\n    <g clip-path=\"url(#p57eb2c0284)\">\n     <use style=\"fill:#1f77b4;stroke:#ffffff;stroke-width:0.48;\" x=\"591.662242\" xlink:href=\"#C0_0_46e89c1f76\" y=\"435.353345\"/>\n    </g>\n    <g clip-path=\"url(#p57eb2c0284)\">\n     <use style=\"fill:#1f77b4;stroke:#ffffff;stroke-width:0.48;\" x=\"599.070418\" xlink:href=\"#C0_0_46e89c1f76\" y=\"307.769548\"/>\n    </g>\n    <g clip-path=\"url(#p57eb2c0284)\">\n     <use style=\"fill:#1f77b4;stroke:#ffffff;stroke-width:0.48;\" x=\"647.202135\" xlink:href=\"#C0_0_46e89c1f76\" y=\"288.272862\"/>\n    </g>\n    <g clip-path=\"url(#p57eb2c0284)\">\n     <use style=\"fill:#1f77b4;stroke:#ffffff;stroke-width:0.48;\" x=\"535.90723\" xlink:href=\"#C0_0_46e89c1f76\" y=\"420.347403\"/>\n    </g>\n    <g clip-path=\"url(#p57eb2c0284)\">\n     <use style=\"fill:#1f77b4;stroke:#ffffff;stroke-width:0.48;\" x=\"591.357269\" xlink:href=\"#C0_0_46e89c1f76\" y=\"419.271555\"/>\n    </g>\n    <g clip-path=\"url(#p57eb2c0284)\">\n     <use style=\"fill:#ff7f0e;stroke:#ffffff;stroke-width:0.48;\" x=\"228.718678\" xlink:href=\"#C0_0_46e89c1f76\" y=\"421.792518\"/>\n    </g>\n    <g clip-path=\"url(#p57eb2c0284)\">\n     <use style=\"fill:#ff7f0e;stroke:#ffffff;stroke-width:0.48;\" x=\"392.820525\" xlink:href=\"#C0_0_46e89c1f76\" y=\"315.754896\"/>\n    </g>\n    <g clip-path=\"url(#p57eb2c0284)\">\n     <use style=\"fill:#ff7f0e;stroke:#ffffff;stroke-width:0.48;\" x=\"314.576061\" xlink:href=\"#C0_0_46e89c1f76\" y=\"378.272334\"/>\n    </g>\n    <g clip-path=\"url(#p57eb2c0284)\">\n     <use style=\"fill:#ff7f0e;stroke:#ffffff;stroke-width:0.48;\" x=\"345.983872\" xlink:href=\"#C0_0_46e89c1f76\" y=\"162.633299\"/>\n    </g>\n    <g clip-path=\"url(#p57eb2c0284)\">\n     <use style=\"fill:#1f77b4;stroke:#ffffff;stroke-width:0.48;\" x=\"678.051673\" xlink:href=\"#C0_0_46e89c1f76\" y=\"226.701039\"/>\n    </g>\n    <g clip-path=\"url(#p57eb2c0284)\">\n     <use style=\"fill:#ff7f0e;stroke:#ffffff;stroke-width:0.48;\" x=\"509.794197\" xlink:href=\"#C0_0_46e89c1f76\" y=\"109.63295\"/>\n    </g>\n    <g clip-path=\"url(#p57eb2c0284)\">\n     <use style=\"fill:#ff7f0e;stroke:#ffffff;stroke-width:0.48;\" x=\"351.581994\" xlink:href=\"#C0_0_46e89c1f76\" y=\"232.924545\"/>\n    </g>\n    <g clip-path=\"url(#p57eb2c0284)\">\n     <use style=\"fill:#ff7f0e;stroke:#ffffff;stroke-width:0.48;\" x=\"617.97823\" xlink:href=\"#C0_0_46e89c1f76\" y=\"143.106204\"/>\n    </g>\n    <g clip-path=\"url(#p57eb2c0284)\">\n     <use style=\"fill:#ff7f0e;stroke:#ffffff;stroke-width:0.48;\" x=\"378.032527\" xlink:href=\"#C0_0_46e89c1f76\" y=\"290.292366\"/>\n    </g>\n    <g clip-path=\"url(#p57eb2c0284)\">\n     <use style=\"fill:#ff7f0e;stroke:#ffffff;stroke-width:0.48;\" x=\"472.140101\" xlink:href=\"#C0_0_46e89c1f76\" y=\"196.086651\"/>\n    </g>\n    <g clip-path=\"url(#p57eb2c0284)\">\n     <use style=\"fill:#1f77b4;stroke:#ffffff;stroke-width:0.48;\" x=\"673.144686\" xlink:href=\"#C0_0_46e89c1f76\" y=\"232.675265\"/>\n    </g>\n    <g clip-path=\"url(#p57eb2c0284)\">\n     <use style=\"fill:#1f77b4;stroke:#ffffff;stroke-width:0.48;\" x=\"531.561302\" xlink:href=\"#C0_0_46e89c1f76\" y=\"483.503729\"/>\n    </g>\n    <g clip-path=\"url(#p57eb2c0284)\">\n     <use style=\"fill:#ff7f0e;stroke:#ffffff;stroke-width:0.48;\" x=\"373.541476\" xlink:href=\"#C0_0_46e89c1f76\" y=\"304.462447\"/>\n    </g>\n    <g clip-path=\"url(#p57eb2c0284)\">\n     <use style=\"fill:#ff7f0e;stroke:#ffffff;stroke-width:0.48;\" x=\"349.391586\" xlink:href=\"#C0_0_46e89c1f76\" y=\"349.02978\"/>\n    </g>\n    <g clip-path=\"url(#p57eb2c0284)\">\n     <use style=\"fill:#ff7f0e;stroke:#ffffff;stroke-width:0.48;\" x=\"256.621677\" xlink:href=\"#C0_0_46e89c1f76\" y=\"421.461472\"/>\n    </g>\n    <g clip-path=\"url(#p57eb2c0284)\">\n     <use style=\"fill:#ff7f0e;stroke:#ffffff;stroke-width:0.48;\" x=\"165.468373\" xlink:href=\"#C0_0_46e89c1f76\" y=\"307.826705\"/>\n    </g>\n    <g clip-path=\"url(#p57eb2c0284)\">\n     <use style=\"fill:#ff7f0e;stroke:#ffffff;stroke-width:0.48;\" x=\"351.82573\" xlink:href=\"#C0_0_46e89c1f76\" y=\"174.041694\"/>\n    </g>\n    <g clip-path=\"url(#p57eb2c0284)\">\n     <use style=\"fill:#ff7f0e;stroke:#ffffff;stroke-width:0.48;\" x=\"488.979126\" xlink:href=\"#C0_0_46e89c1f76\" y=\"242.503159\"/>\n    </g>\n    <g clip-path=\"url(#p57eb2c0284)\">\n     <use style=\"fill:#ff7f0e;stroke:#ffffff;stroke-width:0.48;\" x=\"418.304891\" xlink:href=\"#C0_0_46e89c1f76\" y=\"328.81034\"/>\n    </g>\n    <g clip-path=\"url(#p57eb2c0284)\">\n     <use style=\"fill:#ff7f0e;stroke:#ffffff;stroke-width:0.48;\" x=\"496.6183\" xlink:href=\"#C0_0_46e89c1f76\" y=\"80.836844\"/>\n    </g>\n    <g clip-path=\"url(#p57eb2c0284)\">\n     <use style=\"fill:#ff7f0e;stroke:#ffffff;stroke-width:0.48;\" x=\"241.682179\" xlink:href=\"#C0_0_46e89c1f76\" y=\"235.131372\"/>\n    </g>\n    <g clip-path=\"url(#p57eb2c0284)\">\n     <use style=\"fill:#ff7f0e;stroke:#ffffff;stroke-width:0.48;\" x=\"489.955145\" xlink:href=\"#C0_0_46e89c1f76\" y=\"142.15993\"/>\n    </g>\n    <g clip-path=\"url(#p57eb2c0284)\">\n     <use style=\"fill:#1f77b4;stroke:#ffffff;stroke-width:0.48;\" x=\"656.37922\" xlink:href=\"#C0_0_46e89c1f76\" y=\"437.741893\"/>\n    </g>\n    <g clip-path=\"url(#p57eb2c0284)\">\n     <use style=\"fill:#1f77b4;stroke:#ffffff;stroke-width:0.48;\" x=\"488.036677\" xlink:href=\"#C0_0_46e89c1f76\" y=\"389.994384\"/>\n    </g>\n    <g clip-path=\"url(#p57eb2c0284)\">\n     <use style=\"fill:#1f77b4;stroke:#ffffff;stroke-width:0.48;\" x=\"590.345665\" xlink:href=\"#C0_0_46e89c1f76\" y=\"207.767866\"/>\n    </g>\n    <g clip-path=\"url(#p57eb2c0284)\">\n     <use style=\"fill:#ff7f0e;stroke:#ffffff;stroke-width:0.48;\" x=\"510.256377\" xlink:href=\"#C0_0_46e89c1f76\" y=\"207.38873\"/>\n    </g>\n    <g clip-path=\"url(#p57eb2c0284)\">\n     <use style=\"fill:#1f77b4;stroke:#ffffff;stroke-width:0.48;\" x=\"481.022997\" xlink:href=\"#C0_0_46e89c1f76\" y=\"481.535867\"/>\n    </g>\n    <g clip-path=\"url(#p57eb2c0284)\">\n     <use style=\"fill:#ff7f0e;stroke:#ffffff;stroke-width:0.48;\" x=\"413.164629\" xlink:href=\"#C0_0_46e89c1f76\" y=\"100.443973\"/>\n    </g>\n    <g clip-path=\"url(#p57eb2c0284)\">\n     <use style=\"fill:#ff7f0e;stroke:#ffffff;stroke-width:0.48;\" x=\"556.969338\" xlink:href=\"#C0_0_46e89c1f76\" y=\"201.645238\"/>\n    </g>\n    <g clip-path=\"url(#p57eb2c0284)\">\n     <use style=\"fill:#ff7f0e;stroke:#ffffff;stroke-width:0.48;\" x=\"560.109203\" xlink:href=\"#C0_0_46e89c1f76\" y=\"114.14878\"/>\n    </g>\n    <g clip-path=\"url(#p57eb2c0284)\">\n     <use style=\"fill:#ff7f0e;stroke:#ffffff;stroke-width:0.48;\" x=\"559.626152\" xlink:href=\"#C0_0_46e89c1f76\" y=\"111.538273\"/>\n    </g>\n    <g clip-path=\"url(#p57eb2c0284)\">\n     <use style=\"fill:#1f77b4;stroke:#ffffff;stroke-width:0.48;\" x=\"328.696538\" xlink:href=\"#C0_0_46e89c1f76\" y=\"403.287844\"/>\n    </g>\n    <g clip-path=\"url(#p57eb2c0284)\">\n     <use style=\"fill:#ff7f0e;stroke:#ffffff;stroke-width:0.48;\" x=\"388.959488\" xlink:href=\"#C0_0_46e89c1f76\" y=\"187.305625\"/>\n    </g>\n    <g clip-path=\"url(#p57eb2c0284)\">\n     <use style=\"fill:#2ca02c;stroke:#ffffff;stroke-width:0.48;\" x=\"302.371589\" xlink:href=\"#C0_0_46e89c1f76\" y=\"434.918966\"/>\n    </g>\n    <g clip-path=\"url(#p57eb2c0284)\">\n     <use style=\"fill:#ff7f0e;stroke:#ffffff;stroke-width:0.48;\" x=\"163.320396\" xlink:href=\"#C0_0_46e89c1f76\" y=\"397.101972\"/>\n    </g>\n    <g clip-path=\"url(#p57eb2c0284)\">\n     <use style=\"fill:#1f77b4;stroke:#ffffff;stroke-width:0.48;\" x=\"592.195387\" xlink:href=\"#C0_0_46e89c1f76\" y=\"190.575405\"/>\n    </g>\n    <g clip-path=\"url(#p57eb2c0284)\">\n     <use style=\"fill:#ff7f0e;stroke:#ffffff;stroke-width:0.48;\" x=\"568.694968\" xlink:href=\"#C0_0_46e89c1f76\" y=\"200.001359\"/>\n    </g>\n    <g clip-path=\"url(#p57eb2c0284)\">\n     <use style=\"fill:#1f77b4;stroke:#ffffff;stroke-width:0.48;\" x=\"390.876954\" xlink:href=\"#C0_0_46e89c1f76\" y=\"445.972054\"/>\n    </g>\n    <g clip-path=\"url(#p57eb2c0284)\">\n     <use style=\"fill:#2ca02c;stroke:#ffffff;stroke-width:0.48;\" x=\"244.002773\" xlink:href=\"#C0_0_46e89c1f76\" y=\"473.067794\"/>\n    </g>\n    <g clip-path=\"url(#p57eb2c0284)\">\n     <use style=\"fill:#2ca02c;stroke:#ffffff;stroke-width:0.48;\" x=\"194.064029\" xlink:href=\"#C0_0_46e89c1f76\" y=\"463.616491\"/>\n    </g>\n    <g clip-path=\"url(#p57eb2c0284)\">\n     <use style=\"fill:#1f77b4;stroke:#ffffff;stroke-width:0.48;\" x=\"633.587643\" xlink:href=\"#C0_0_46e89c1f76\" y=\"246.402409\"/>\n    </g>\n    <g clip-path=\"url(#p57eb2c0284)\">\n     <use style=\"fill:#1f77b4;stroke:#ffffff;stroke-width:0.48;\" x=\"362.318358\" xlink:href=\"#C0_0_46e89c1f76\" y=\"386.554807\"/>\n    </g>\n    <g clip-path=\"url(#p57eb2c0284)\">\n     <use style=\"fill:#ff7f0e;stroke:#ffffff;stroke-width:0.48;\" x=\"495.161807\" xlink:href=\"#C0_0_46e89c1f76\" y=\"193.836548\"/>\n    </g>\n    <g clip-path=\"url(#p57eb2c0284)\">\n     <use style=\"fill:#1f77b4;stroke:#ffffff;stroke-width:0.48;\" x=\"470.972694\" xlink:href=\"#C0_0_46e89c1f76\" y=\"405.913363\"/>\n    </g>\n    <g clip-path=\"url(#p57eb2c0284)\">\n     <use style=\"fill:#ff7f0e;stroke:#ffffff;stroke-width:0.48;\" x=\"591.529989\" xlink:href=\"#C0_0_46e89c1f76\" y=\"254.665832\"/>\n    </g>\n    <g clip-path=\"url(#p57eb2c0284)\">\n     <use style=\"fill:#1f77b4;stroke:#ffffff;stroke-width:0.48;\" x=\"588.405109\" xlink:href=\"#C0_0_46e89c1f76\" y=\"363.726688\"/>\n    </g>\n    <g clip-path=\"url(#p57eb2c0284)\">\n     <use style=\"fill:#1f77b4;stroke:#ffffff;stroke-width:0.48;\" x=\"497.586213\" xlink:href=\"#C0_0_46e89c1f76\" y=\"348.35134\"/>\n    </g>\n    <g clip-path=\"url(#p57eb2c0284)\">\n     <use style=\"fill:#1f77b4;stroke:#ffffff;stroke-width:0.48;\" x=\"668.12681\" xlink:href=\"#C0_0_46e89c1f76\" y=\"277.561123\"/>\n    </g>\n    <g clip-path=\"url(#p57eb2c0284)\">\n     <use style=\"fill:#1f77b4;stroke:#ffffff;stroke-width:0.48;\" x=\"633.61144\" xlink:href=\"#C0_0_46e89c1f76\" y=\"128.913096\"/>\n    </g>\n    <g clip-path=\"url(#p57eb2c0284)\">\n     <use style=\"fill:#1f77b4;stroke:#ffffff;stroke-width:0.48;\" x=\"519.206888\" xlink:href=\"#C0_0_46e89c1f76\" y=\"396.631363\"/>\n    </g>\n    <g clip-path=\"url(#p57eb2c0284)\">\n     <use style=\"fill:#1f77b4;stroke:#ffffff;stroke-width:0.48;\" x=\"576.97098\" xlink:href=\"#C0_0_46e89c1f76\" y=\"325.784776\"/>\n    </g>\n    <g clip-path=\"url(#p57eb2c0284)\">\n     <use style=\"fill:#1f77b4;stroke:#ffffff;stroke-width:0.48;\" x=\"533.328585\" xlink:href=\"#C0_0_46e89c1f76\" y=\"379.713465\"/>\n    </g>\n    <g clip-path=\"url(#p57eb2c0284)\">\n     <use style=\"fill:#1f77b4;stroke:#ffffff;stroke-width:0.48;\" x=\"480.294814\" xlink:href=\"#C0_0_46e89c1f76\" y=\"363.356816\"/>\n    </g>\n    <g clip-path=\"url(#p57eb2c0284)\">\n     <use style=\"fill:#1f77b4;stroke:#ffffff;stroke-width:0.48;\" x=\"569.746698\" xlink:href=\"#C0_0_46e89c1f76\" y=\"270.33976\"/>\n    </g>\n    <g clip-path=\"url(#p57eb2c0284)\">\n     <use style=\"fill:#1f77b4;stroke:#ffffff;stroke-width:0.48;\" x=\"626.511468\" xlink:href=\"#C0_0_46e89c1f76\" y=\"228.800092\"/>\n    </g>\n    <g clip-path=\"url(#p57eb2c0284)\">\n     <use style=\"fill:#1f77b4;stroke:#ffffff;stroke-width:0.48;\" x=\"507.880347\" xlink:href=\"#C0_0_46e89c1f76\" y=\"439.625403\"/>\n    </g>\n    <g clip-path=\"url(#p57eb2c0284)\">\n     <use style=\"fill:#1f77b4;stroke:#ffffff;stroke-width:0.48;\" x=\"596.794731\" xlink:href=\"#C0_0_46e89c1f76\" y=\"289.996561\"/>\n    </g>\n    <g clip-path=\"url(#p57eb2c0284)\">\n     <use style=\"fill:#1f77b4;stroke:#ffffff;stroke-width:0.48;\" x=\"589.057614\" xlink:href=\"#C0_0_46e89c1f76\" y=\"286.297546\"/>\n    </g>\n    <g clip-path=\"url(#p57eb2c0284)\">\n     <use style=\"fill:#1f77b4;stroke:#ffffff;stroke-width:0.48;\" x=\"561.097282\" xlink:href=\"#C0_0_46e89c1f76\" y=\"297.03223\"/>\n    </g>\n    <g clip-path=\"url(#p57eb2c0284)\">\n     <use style=\"fill:#1f77b4;stroke:#ffffff;stroke-width:0.48;\" x=\"553.196307\" xlink:href=\"#C0_0_46e89c1f76\" y=\"327.70605\"/>\n    </g>\n    <g clip-path=\"url(#p57eb2c0284)\">\n     <use style=\"fill:#1f77b4;stroke:#ffffff;stroke-width:0.48;\" x=\"480.33051\" xlink:href=\"#C0_0_46e89c1f76\" y=\"336.883675\"/>\n    </g>\n    <g clip-path=\"url(#p57eb2c0284)\">\n     <use style=\"fill:#1f77b4;stroke:#ffffff;stroke-width:0.48;\" x=\"614.48988\" xlink:href=\"#C0_0_46e89c1f76\" y=\"262.124853\"/>\n    </g>\n    <g clip-path=\"url(#p57eb2c0284)\">\n     <use style=\"fill:#1f77b4;stroke:#ffffff;stroke-width:0.48;\" x=\"626.847841\" xlink:href=\"#C0_0_46e89c1f76\" y=\"130.583189\"/>\n    </g>\n    <g clip-path=\"url(#p57eb2c0284)\">\n     <use style=\"fill:#1f77b4;stroke:#ffffff;stroke-width:0.48;\" x=\"599.842759\" xlink:href=\"#C0_0_46e89c1f76\" y=\"174.595957\"/>\n    </g>\n    <g clip-path=\"url(#p57eb2c0284)\">\n     <use style=\"fill:#1f77b4;stroke:#ffffff;stroke-width:0.48;\" x=\"487.29936\" xlink:href=\"#C0_0_46e89c1f76\" y=\"501.966392\"/>\n    </g>\n    <g clip-path=\"url(#p57eb2c0284)\">\n     <use style=\"fill:#1f77b4;stroke:#ffffff;stroke-width:0.48;\" x=\"639.352905\" xlink:href=\"#C0_0_46e89c1f76\" y=\"275.702706\"/>\n    </g>\n    <g clip-path=\"url(#p57eb2c0284)\">\n     <use style=\"fill:#1f77b4;stroke:#ffffff;stroke-width:0.48;\" x=\"273.658785\" xlink:href=\"#C0_0_46e89c1f76\" y=\"449.238203\"/>\n    </g>\n    <g clip-path=\"url(#p57eb2c0284)\">\n     <use style=\"fill:#1f77b4;stroke:#ffffff;stroke-width:0.48;\" x=\"535.892542\" xlink:href=\"#C0_0_46e89c1f76\" y=\"316.823404\"/>\n    </g>\n    <g clip-path=\"url(#p57eb2c0284)\">\n     <use style=\"fill:#1f77b4;stroke:#ffffff;stroke-width:0.48;\" x=\"594.11167\" xlink:href=\"#C0_0_46e89c1f76\" y=\"277.236603\"/>\n    </g>\n    <g clip-path=\"url(#p57eb2c0284)\">\n     <use style=\"fill:#1f77b4;stroke:#ffffff;stroke-width:0.48;\" x=\"671.502537\" xlink:href=\"#C0_0_46e89c1f76\" y=\"247.588272\"/>\n    </g>\n    <g clip-path=\"url(#p57eb2c0284)\">\n     <use style=\"fill:#1f77b4;stroke:#ffffff;stroke-width:0.48;\" x=\"480.56706\" xlink:href=\"#C0_0_46e89c1f76\" y=\"544.928208\"/>\n    </g>\n    <g clip-path=\"url(#p57eb2c0284)\">\n     <use style=\"fill:#1f77b4;stroke:#ffffff;stroke-width:0.48;\" x=\"554.296619\" xlink:href=\"#C0_0_46e89c1f76\" y=\"327.66527\"/>\n    </g>\n    <g clip-path=\"url(#p57eb2c0284)\">\n     <use style=\"fill:#1f77b4;stroke:#ffffff;stroke-width:0.48;\" x=\"397.824324\" xlink:href=\"#C0_0_46e89c1f76\" y=\"462.64989\"/>\n    </g>\n    <g clip-path=\"url(#p57eb2c0284)\">\n     <use style=\"fill:#ff7f0e;stroke:#ffffff;stroke-width:0.48;\" x=\"168.590225\" xlink:href=\"#C0_0_46e89c1f76\" y=\"312.075806\"/>\n    </g>\n    <g clip-path=\"url(#p57eb2c0284)\">\n     <use style=\"fill:#2ca02c;stroke:#ffffff;stroke-width:0.48;\" x=\"116.800414\" xlink:href=\"#C0_0_46e89c1f76\" y=\"460.521356\"/>\n    </g>\n    <g clip-path=\"url(#p57eb2c0284)\">\n     <use style=\"fill:#1f77b4;stroke:#ffffff;stroke-width:0.48;\" x=\"492.232449\" xlink:href=\"#C0_0_46e89c1f76\" y=\"275.580002\"/>\n    </g>\n    <g clip-path=\"url(#p57eb2c0284)\">\n     <use style=\"fill:#ff7f0e;stroke:#ffffff;stroke-width:0.48;\" x=\"532.567922\" xlink:href=\"#C0_0_46e89c1f76\" y=\"230.341284\"/>\n    </g>\n    <g clip-path=\"url(#p57eb2c0284)\">\n     <use style=\"fill:#ff7f0e;stroke:#ffffff;stroke-width:0.48;\" x=\"621.708531\" xlink:href=\"#C0_0_46e89c1f76\" y=\"180.124121\"/>\n    </g>\n    <g clip-path=\"url(#p57eb2c0284)\">\n     <use style=\"fill:#1f77b4;stroke:#ffffff;stroke-width:0.48;\" x=\"633.17816\" xlink:href=\"#C0_0_46e89c1f76\" y=\"219.276155\"/>\n    </g>\n    <g clip-path=\"url(#p57eb2c0284)\">\n     <use style=\"fill:#1f77b4;stroke:#ffffff;stroke-width:0.48;\" x=\"565.970896\" xlink:href=\"#C0_0_46e89c1f76\" y=\"510.31445\"/>\n    </g>\n    <g clip-path=\"url(#p57eb2c0284)\">\n     <use style=\"fill:#1f77b4;stroke:#ffffff;stroke-width:0.48;\" x=\"624.662052\" xlink:href=\"#C0_0_46e89c1f76\" y=\"233.728872\"/>\n    </g>\n    <g clip-path=\"url(#p57eb2c0284)\">\n     <use style=\"fill:#1f77b4;stroke:#ffffff;stroke-width:0.48;\" x=\"661.139479\" xlink:href=\"#C0_0_46e89c1f76\" y=\"215.434961\"/>\n    </g>\n    <g clip-path=\"url(#p57eb2c0284)\">\n     <use style=\"fill:#1f77b4;stroke:#ffffff;stroke-width:0.48;\" x=\"647.161124\" xlink:href=\"#C0_0_46e89c1f76\" y=\"278.082673\"/>\n    </g>\n    <g clip-path=\"url(#p57eb2c0284)\">\n     <use style=\"fill:#1f77b4;stroke:#ffffff;stroke-width:0.48;\" x=\"516.012105\" xlink:href=\"#C0_0_46e89c1f76\" y=\"304.839348\"/>\n    </g>\n    <g clip-path=\"url(#p57eb2c0284)\">\n     <use style=\"fill:#1f77b4;stroke:#ffffff;stroke-width:0.48;\" x=\"577.315416\" xlink:href=\"#C0_0_46e89c1f76\" y=\"294.60961\"/>\n    </g>\n    <g clip-path=\"url(#p57eb2c0284)\">\n     <use style=\"fill:#1f77b4;stroke:#ffffff;stroke-width:0.48;\" x=\"426.619067\" xlink:href=\"#C0_0_46e89c1f76\" y=\"464.340737\"/>\n    </g>\n    <g clip-path=\"url(#p57eb2c0284)\">\n     <use style=\"fill:#1f77b4;stroke:#ffffff;stroke-width:0.48;\" x=\"348.219951\" xlink:href=\"#C0_0_46e89c1f76\" y=\"496.703031\"/>\n    </g>\n    <g clip-path=\"url(#p57eb2c0284)\">\n     <use style=\"fill:#1f77b4;stroke:#ffffff;stroke-width:0.48;\" x=\"374.896887\" xlink:href=\"#C0_0_46e89c1f76\" y=\"567.780951\"/>\n    </g>\n    <g clip-path=\"url(#p57eb2c0284)\">\n     <use style=\"fill:#ff7f0e;stroke:#ffffff;stroke-width:0.48;\" x=\"524.152147\" xlink:href=\"#C0_0_46e89c1f76\" y=\"332.596463\"/>\n    </g>\n    <g clip-path=\"url(#p57eb2c0284)\">\n     <use style=\"fill:#ff7f0e;stroke:#ffffff;stroke-width:0.48;\" x=\"205.171668\" xlink:href=\"#C0_0_46e89c1f76\" y=\"263.283711\"/>\n    </g>\n    <g clip-path=\"url(#p57eb2c0284)\">\n     <use style=\"fill:#ff7f0e;stroke:#ffffff;stroke-width:0.48;\" x=\"313.675872\" xlink:href=\"#C0_0_46e89c1f76\" y=\"300.167148\"/>\n    </g>\n    <g clip-path=\"url(#p57eb2c0284)\">\n     <use style=\"fill:#1f77b4;stroke:#ffffff;stroke-width:0.48;\" x=\"557.578858\" xlink:href=\"#C0_0_46e89c1f76\" y=\"255.0004\"/>\n    </g>\n    <g clip-path=\"url(#p57eb2c0284)\">\n     <use style=\"fill:#ff7f0e;stroke:#ffffff;stroke-width:0.48;\" x=\"488.404723\" xlink:href=\"#C0_0_46e89c1f76\" y=\"140.394029\"/>\n    </g>\n    <g clip-path=\"url(#p57eb2c0284)\">\n     <use style=\"fill:#2ca02c;stroke:#ffffff;stroke-width:0.48;\" x=\"201.670169\" xlink:href=\"#C0_0_46e89c1f76\" y=\"589.539101\"/>\n    </g>\n    <g clip-path=\"url(#p57eb2c0284)\">\n     <use style=\"fill:#1f77b4;stroke:#ffffff;stroke-width:0.48;\" x=\"545.158793\" xlink:href=\"#C0_0_46e89c1f76\" y=\"356.920089\"/>\n    </g>\n    <g clip-path=\"url(#p57eb2c0284)\">\n     <use style=\"fill:#ff7f0e;stroke:#ffffff;stroke-width:0.48;\" x=\"557.67653\" xlink:href=\"#C0_0_46e89c1f76\" y=\"175.617766\"/>\n    </g>\n    <g clip-path=\"url(#p57eb2c0284)\">\n     <use style=\"fill:#2ca02c;stroke:#ffffff;stroke-width:0.48;\" x=\"194.908152\" xlink:href=\"#C0_0_46e89c1f76\" y=\"226.201461\"/>\n    </g>\n    <g clip-path=\"url(#p57eb2c0284)\">\n     <use style=\"fill:#1f77b4;stroke:#ffffff;stroke-width:0.48;\" x=\"439.190738\" xlink:href=\"#C0_0_46e89c1f76\" y=\"506.150482\"/>\n    </g>\n    <g clip-path=\"url(#p57eb2c0284)\">\n     <use style=\"fill:#ff7f0e;stroke:#ffffff;stroke-width:0.48;\" x=\"444.124495\" xlink:href=\"#C0_0_46e89c1f76\" y=\"159.64653\"/>\n    </g>\n    <g clip-path=\"url(#p57eb2c0284)\">\n     <use style=\"fill:#ff7f0e;stroke:#ffffff;stroke-width:0.48;\" x=\"378.233773\" xlink:href=\"#C0_0_46e89c1f76\" y=\"159.770025\"/>\n    </g>\n    <g clip-path=\"url(#p57eb2c0284)\">\n     <use style=\"fill:#ff7f0e;stroke:#ffffff;stroke-width:0.48;\" x=\"542.620913\" xlink:href=\"#C0_0_46e89c1f76\" y=\"157.94219\"/>\n    </g>\n    <g clip-path=\"url(#p57eb2c0284)\">\n     <use style=\"fill:#ff7f0e;stroke:#ffffff;stroke-width:0.48;\" x=\"470.061755\" xlink:href=\"#C0_0_46e89c1f76\" y=\"95.130313\"/>\n    </g>\n    <g clip-path=\"url(#p57eb2c0284)\">\n     <use style=\"fill:#ff7f0e;stroke:#ffffff;stroke-width:0.48;\" x=\"560.843611\" xlink:href=\"#C0_0_46e89c1f76\" y=\"170.131978\"/>\n    </g>\n    <g clip-path=\"url(#p57eb2c0284)\">\n     <use style=\"fill:#ff7f0e;stroke:#ffffff;stroke-width:0.48;\" x=\"485.783553\" xlink:href=\"#C0_0_46e89c1f76\" y=\"128.536696\"/>\n    </g>\n    <g clip-path=\"url(#p57eb2c0284)\">\n     <use style=\"fill:#ff7f0e;stroke:#ffffff;stroke-width:0.48;\" x=\"498.858351\" xlink:href=\"#C0_0_46e89c1f76\" y=\"123.7906\"/>\n    </g>\n    <g clip-path=\"url(#p57eb2c0284)\">\n     <use style=\"fill:#ff7f0e;stroke:#ffffff;stroke-width:0.48;\" x=\"501.234585\" xlink:href=\"#C0_0_46e89c1f76\" y=\"124.96817\"/>\n    </g>\n    <g clip-path=\"url(#p57eb2c0284)\">\n     <use style=\"fill:#ff7f0e;stroke:#ffffff;stroke-width:0.48;\" x=\"315.979244\" xlink:href=\"#C0_0_46e89c1f76\" y=\"250.134487\"/>\n    </g>\n    <g clip-path=\"url(#p57eb2c0284)\">\n     <use style=\"fill:#ff7f0e;stroke:#ffffff;stroke-width:0.48;\" x=\"336.823525\" xlink:href=\"#C0_0_46e89c1f76\" y=\"200.293407\"/>\n    </g>\n    <g clip-path=\"url(#p57eb2c0284)\">\n     <use style=\"fill:#ff7f0e;stroke:#ffffff;stroke-width:0.48;\" x=\"583.82252\" xlink:href=\"#C0_0_46e89c1f76\" y=\"191.694879\"/>\n    </g>\n    <g clip-path=\"url(#p57eb2c0284)\">\n     <use style=\"fill:#ff7f0e;stroke:#ffffff;stroke-width:0.48;\" x=\"575.450895\" xlink:href=\"#C0_0_46e89c1f76\" y=\"130.438169\"/>\n    </g>\n    <g clip-path=\"url(#p57eb2c0284)\">\n     <use style=\"fill:#ff7f0e;stroke:#ffffff;stroke-width:0.48;\" x=\"469.848143\" xlink:href=\"#C0_0_46e89c1f76\" y=\"156.316205\"/>\n    </g>\n    <g clip-path=\"url(#p57eb2c0284)\">\n     <use style=\"fill:#ff7f0e;stroke:#ffffff;stroke-width:0.48;\" x=\"417.470107\" xlink:href=\"#C0_0_46e89c1f76\" y=\"82.019916\"/>\n    </g>\n    <g clip-path=\"url(#p57eb2c0284)\">\n     <use style=\"fill:#ff7f0e;stroke:#ffffff;stroke-width:0.48;\" x=\"309.767323\" xlink:href=\"#C0_0_46e89c1f76\" y=\"271.777284\"/>\n    </g>\n    <g clip-path=\"url(#p57eb2c0284)\">\n     <use style=\"fill:#ff7f0e;stroke:#ffffff;stroke-width:0.48;\" x=\"269.405357\" xlink:href=\"#C0_0_46e89c1f76\" y=\"368.775544\"/>\n    </g>\n    <g clip-path=\"url(#p57eb2c0284)\">\n     <use style=\"fill:#ff7f0e;stroke:#ffffff;stroke-width:0.48;\" x=\"148.197641\" xlink:href=\"#C0_0_46e89c1f76\" y=\"378.029116\"/>\n    </g>\n    <g clip-path=\"url(#p57eb2c0284)\">\n     <use style=\"fill:#ff7f0e;stroke:#ffffff;stroke-width:0.48;\" x=\"247.492059\" xlink:href=\"#C0_0_46e89c1f76\" y=\"265.632539\"/>\n    </g>\n    <g clip-path=\"url(#p57eb2c0284)\">\n     <use style=\"fill:#ff7f0e;stroke:#ffffff;stroke-width:0.48;\" x=\"364.294076\" xlink:href=\"#C0_0_46e89c1f76\" y=\"208.191647\"/>\n    </g>\n    <g clip-path=\"url(#p57eb2c0284)\">\n     <use style=\"fill:#ff7f0e;stroke:#ffffff;stroke-width:0.48;\" x=\"432.816827\" xlink:href=\"#C0_0_46e89c1f76\" y=\"134.900167\"/>\n    </g>\n    <g clip-path=\"url(#p57eb2c0284)\">\n     <use style=\"fill:#ff7f0e;stroke:#ffffff;stroke-width:0.48;\" x=\"332.372186\" xlink:href=\"#C0_0_46e89c1f76\" y=\"218.913083\"/>\n    </g>\n    <g clip-path=\"url(#p57eb2c0284)\">\n     <use style=\"fill:#ff7f0e;stroke:#ffffff;stroke-width:0.48;\" x=\"371.994721\" xlink:href=\"#C0_0_46e89c1f76\" y=\"336.78644\"/>\n    </g>\n    <g clip-path=\"url(#p57eb2c0284)\">\n     <use style=\"fill:#ff7f0e;stroke:#ffffff;stroke-width:0.48;\" x=\"408.845867\" xlink:href=\"#C0_0_46e89c1f76\" y=\"164.54466\"/>\n    </g>\n    <g clip-path=\"url(#p57eb2c0284)\">\n     <use style=\"fill:#ff7f0e;stroke:#ffffff;stroke-width:0.48;\" x=\"486.457559\" xlink:href=\"#C0_0_46e89c1f76\" y=\"161.631199\"/>\n    </g>\n    <g clip-path=\"url(#p57eb2c0284)\">\n     <use style=\"fill:#ff7f0e;stroke:#ffffff;stroke-width:0.48;\" x=\"519.099622\" xlink:href=\"#C0_0_46e89c1f76\" y=\"95.980241\"/>\n    </g>\n    <g clip-path=\"url(#p57eb2c0284)\">\n     <use style=\"fill:#ff7f0e;stroke:#ffffff;stroke-width:0.48;\" x=\"201.876756\" xlink:href=\"#C0_0_46e89c1f76\" y=\"302.254516\"/>\n    </g>\n    <g clip-path=\"url(#p57eb2c0284)\">\n     <use style=\"fill:#ff7f0e;stroke:#ffffff;stroke-width:0.48;\" x=\"523.160326\" xlink:href=\"#C0_0_46e89c1f76\" y=\"103.541432\"/>\n    </g>\n    <g clip-path=\"url(#p57eb2c0284)\">\n     <use style=\"fill:#ff7f0e;stroke:#ffffff;stroke-width:0.48;\" x=\"573.30911\" xlink:href=\"#C0_0_46e89c1f76\" y=\"153.649267\"/>\n    </g>\n    <g clip-path=\"url(#p57eb2c0284)\">\n     <use style=\"fill:#ff7f0e;stroke:#ffffff;stroke-width:0.48;\" x=\"417.812506\" xlink:href=\"#C0_0_46e89c1f76\" y=\"214.072801\"/>\n    </g>\n    <g clip-path=\"url(#p57eb2c0284)\">\n     <use style=\"fill:#ff7f0e;stroke:#ffffff;stroke-width:0.48;\" x=\"419.993526\" xlink:href=\"#C0_0_46e89c1f76\" y=\"166.371931\"/>\n    </g>\n    <g clip-path=\"url(#p57eb2c0284)\">\n     <use style=\"fill:#ff7f0e;stroke:#ffffff;stroke-width:0.48;\" x=\"500.169111\" xlink:href=\"#C0_0_46e89c1f76\" y=\"154.192238\"/>\n    </g>\n    <g clip-path=\"url(#p57eb2c0284)\">\n     <use style=\"fill:#ff7f0e;stroke:#ffffff;stroke-width:0.48;\" x=\"597.969342\" xlink:href=\"#C0_0_46e89c1f76\" y=\"327.767768\"/>\n    </g>\n    <g clip-path=\"url(#p57eb2c0284)\">\n     <use style=\"fill:#ff7f0e;stroke:#ffffff;stroke-width:0.48;\" x=\"492.82439\" xlink:href=\"#C0_0_46e89c1f76\" y=\"118.038856\"/>\n    </g>\n    <g clip-path=\"url(#p57eb2c0284)\">\n     <use style=\"fill:#ff7f0e;stroke:#ffffff;stroke-width:0.48;\" x=\"419.599729\" xlink:href=\"#C0_0_46e89c1f76\" y=\"142.808366\"/>\n    </g>\n    <g clip-path=\"url(#p57eb2c0284)\">\n     <use style=\"fill:#ff7f0e;stroke:#ffffff;stroke-width:0.48;\" x=\"441.154266\" xlink:href=\"#C0_0_46e89c1f76\" y=\"133.761947\"/>\n    </g>\n    <g clip-path=\"url(#p57eb2c0284)\">\n     <use style=\"fill:#1f77b4;stroke:#ffffff;stroke-width:0.48;\" x=\"370.21023\" xlink:href=\"#C0_0_46e89c1f76\" y=\"422.653511\"/>\n    </g>\n    <g clip-path=\"url(#p57eb2c0284)\">\n     <use style=\"fill:#ff7f0e;stroke:#ffffff;stroke-width:0.48;\" x=\"404.033832\" xlink:href=\"#C0_0_46e89c1f76\" y=\"126.418643\"/>\n    </g>\n    <g clip-path=\"url(#p57eb2c0284)\">\n     <use style=\"fill:#ff7f0e;stroke:#ffffff;stroke-width:0.48;\" x=\"382.971869\" xlink:href=\"#C0_0_46e89c1f76\" y=\"359.80522\"/>\n    </g>\n    <g clip-path=\"url(#p57eb2c0284)\">\n     <use style=\"fill:#ff7f0e;stroke:#ffffff;stroke-width:0.48;\" x=\"566.946081\" xlink:href=\"#C0_0_46e89c1f76\" y=\"89.661594\"/>\n    </g>\n    <g clip-path=\"url(#p57eb2c0284)\">\n     <use style=\"fill:#2ca02c;stroke:#ffffff;stroke-width:0.48;\" x=\"349.476189\" xlink:href=\"#C0_0_46e89c1f76\" y=\"366.691262\"/>\n    </g>\n    <g clip-path=\"url(#p57eb2c0284)\">\n     <use style=\"fill:#ff7f0e;stroke:#ffffff;stroke-width:0.48;\" x=\"130.839579\" xlink:href=\"#C0_0_46e89c1f76\" y=\"336.732269\"/>\n    </g>\n    <g clip-path=\"url(#p57eb2c0284)\">\n     <use style=\"fill:#ff7f0e;stroke:#ffffff;stroke-width:0.48;\" x=\"365.452598\" xlink:href=\"#C0_0_46e89c1f76\" y=\"216.154393\"/>\n    </g>\n    <g clip-path=\"url(#p57eb2c0284)\">\n     <use style=\"fill:#2ca02c;stroke:#ffffff;stroke-width:0.48;\" x=\"95.847265\" xlink:href=\"#C0_0_46e89c1f76\" y=\"470.187053\"/>\n    </g>\n    <g clip-path=\"url(#p57eb2c0284)\">\n     <use style=\"fill:#2ca02c;stroke:#ffffff;stroke-width:0.48;\" x=\"295.500938\" xlink:href=\"#C0_0_46e89c1f76\" y=\"477.743402\"/>\n    </g>\n    <g clip-path=\"url(#p57eb2c0284)\">\n     <use style=\"fill:#2ca02c;stroke:#ffffff;stroke-width:0.48;\" x=\"241.25703\" xlink:href=\"#C0_0_46e89c1f76\" y=\"338.285524\"/>\n    </g>\n    <g clip-path=\"url(#p57eb2c0284)\">\n     <use style=\"fill:#2ca02c;stroke:#ffffff;stroke-width:0.48;\" x=\"279.247389\" xlink:href=\"#C0_0_46e89c1f76\" y=\"557.753654\"/>\n    </g>\n    <g clip-path=\"url(#p57eb2c0284)\">\n     <use style=\"fill:#2ca02c;stroke:#ffffff;stroke-width:0.48;\" x=\"127.804751\" xlink:href=\"#C0_0_46e89c1f76\" y=\"471.10249\"/>\n    </g>\n    <g clip-path=\"url(#p57eb2c0284)\">\n     <use style=\"fill:#2ca02c;stroke:#ffffff;stroke-width:0.48;\" x=\"148.151952\" xlink:href=\"#C0_0_46e89c1f76\" y=\"532.80331\"/>\n    </g>\n    <g clip-path=\"url(#p57eb2c0284)\">\n     <use style=\"fill:#2ca02c;stroke:#ffffff;stroke-width:0.48;\" x=\"246.985568\" xlink:href=\"#C0_0_46e89c1f76\" y=\"533.392329\"/>\n    </g>\n    <g clip-path=\"url(#p57eb2c0284)\">\n     <use style=\"fill:#ff7f0e;stroke:#ffffff;stroke-width:0.48;\" x=\"200.329166\" xlink:href=\"#C0_0_46e89c1f76\" y=\"388.393356\"/>\n    </g>\n    <g clip-path=\"url(#p57eb2c0284)\">\n     <use style=\"fill:#2ca02c;stroke:#ffffff;stroke-width:0.48;\" x=\"214.105254\" xlink:href=\"#C0_0_46e89c1f76\" y=\"533.781602\"/>\n    </g>\n    <g clip-path=\"url(#p57eb2c0284)\">\n     <use style=\"fill:#1f77b4;stroke:#ffffff;stroke-width:0.48;\" x=\"484.24366\" xlink:href=\"#C0_0_46e89c1f76\" y=\"321.365993\"/>\n    </g>\n    <g clip-path=\"url(#p57eb2c0284)\">\n     <use style=\"fill:#2ca02c;stroke:#ffffff;stroke-width:0.48;\" x=\"235.636898\" xlink:href=\"#C0_0_46e89c1f76\" y=\"502.198817\"/>\n    </g>\n    <g clip-path=\"url(#p57eb2c0284)\">\n     <use style=\"fill:#ff7f0e;stroke:#ffffff;stroke-width:0.48;\" x=\"274.731786\" xlink:href=\"#C0_0_46e89c1f76\" y=\"334.866425\"/>\n    </g>\n    <g clip-path=\"url(#p57eb2c0284)\">\n     <use style=\"fill:#2ca02c;stroke:#ffffff;stroke-width:0.48;\" x=\"236.673132\" xlink:href=\"#C0_0_46e89c1f76\" y=\"493.839248\"/>\n    </g>\n    <g clip-path=\"url(#p57eb2c0284)\">\n     <use style=\"fill:#2ca02c;stroke:#ffffff;stroke-width:0.48;\" x=\"220.425996\" xlink:href=\"#C0_0_46e89c1f76\" y=\"470.239689\"/>\n    </g>\n    <g clip-path=\"url(#p57eb2c0284)\">\n     <use style=\"fill:#2ca02c;stroke:#ffffff;stroke-width:0.48;\" x=\"334.150066\" xlink:href=\"#C0_0_46e89c1f76\" y=\"500.421445\"/>\n    </g>\n    <g clip-path=\"url(#p57eb2c0284)\">\n     <use style=\"fill:#2ca02c;stroke:#ffffff;stroke-width:0.48;\" x=\"164.406827\" xlink:href=\"#C0_0_46e89c1f76\" y=\"437.335683\"/>\n    </g>\n    <g clip-path=\"url(#p57eb2c0284)\">\n     <use style=\"fill:#2ca02c;stroke:#ffffff;stroke-width:0.48;\" x=\"181.239687\" xlink:href=\"#C0_0_46e89c1f76\" y=\"502.965356\"/>\n    </g>\n    <g clip-path=\"url(#p57eb2c0284)\">\n     <use style=\"fill:#2ca02c;stroke:#ffffff;stroke-width:0.48;\" x=\"138.785784\" xlink:href=\"#C0_0_46e89c1f76\" y=\"502.38939\"/>\n    </g>\n    <g clip-path=\"url(#p57eb2c0284)\">\n     <use style=\"fill:#2ca02c;stroke:#ffffff;stroke-width:0.48;\" x=\"155.44674\" xlink:href=\"#C0_0_46e89c1f76\" y=\"479.883338\"/>\n    </g>\n    <g clip-path=\"url(#p57eb2c0284)\">\n     <use style=\"fill:#2ca02c;stroke:#ffffff;stroke-width:0.48;\" x=\"211.350955\" xlink:href=\"#C0_0_46e89c1f76\" y=\"504.184724\"/>\n    </g>\n    <g clip-path=\"url(#p57eb2c0284)\">\n     <use style=\"fill:#1f77b4;stroke:#ffffff;stroke-width:0.48;\" x=\"340.353835\" xlink:href=\"#C0_0_46e89c1f76\" y=\"479.029779\"/>\n    </g>\n    <g clip-path=\"url(#p57eb2c0284)\">\n     <use style=\"fill:#ff7f0e;stroke:#ffffff;stroke-width:0.48;\" x=\"541.699905\" xlink:href=\"#C0_0_46e89c1f76\" y=\"149.515076\"/>\n    </g>\n    <g clip-path=\"url(#p57eb2c0284)\">\n     <use style=\"fill:#2ca02c;stroke:#ffffff;stroke-width:0.48;\" x=\"164.570736\" xlink:href=\"#C0_0_46e89c1f76\" y=\"505.101276\"/>\n    </g>\n    <g clip-path=\"url(#p57eb2c0284)\">\n     <use style=\"fill:#2ca02c;stroke:#ffffff;stroke-width:0.48;\" x=\"160.331444\" xlink:href=\"#C0_0_46e89c1f76\" y=\"486.840985\"/>\n    </g>\n    <g clip-path=\"url(#p57eb2c0284)\">\n     <use style=\"fill:#2ca02c;stroke:#ffffff;stroke-width:0.48;\" x=\"212.343014\" xlink:href=\"#C0_0_46e89c1f76\" y=\"451.72833\"/>\n    </g>\n    <g clip-path=\"url(#p57eb2c0284)\">\n     <use style=\"fill:#ff7f0e;stroke:#ffffff;stroke-width:0.48;\" x=\"582.28187\" xlink:href=\"#C0_0_46e89c1f76\" y=\"126.569041\"/>\n    </g>\n    <g clip-path=\"url(#p57eb2c0284)\">\n     <use style=\"fill:#ff7f0e;stroke:#ffffff;stroke-width:0.48;\" x=\"574.115046\" xlink:href=\"#C0_0_46e89c1f76\" y=\"131.352258\"/>\n    </g>\n    <g clip-path=\"url(#p57eb2c0284)\">\n     <use style=\"fill:#ff7f0e;stroke:#ffffff;stroke-width:0.48;\" x=\"549.742369\" xlink:href=\"#C0_0_46e89c1f76\" y=\"179.254855\"/>\n    </g>\n    <g clip-path=\"url(#p57eb2c0284)\">\n     <use style=\"fill:#ff7f0e;stroke:#ffffff;stroke-width:0.48;\" x=\"267.663164\" xlink:href=\"#C0_0_46e89c1f76\" y=\"275.567638\"/>\n    </g>\n    <g clip-path=\"url(#p57eb2c0284)\">\n     <use style=\"fill:#ff7f0e;stroke:#ffffff;stroke-width:0.48;\" x=\"478.71323\" xlink:href=\"#C0_0_46e89c1f76\" y=\"188.593308\"/>\n    </g>\n    <g clip-path=\"url(#p57eb2c0284)\">\n     <use style=\"fill:#ff7f0e;stroke:#ffffff;stroke-width:0.48;\" x=\"475.721385\" xlink:href=\"#C0_0_46e89c1f76\" y=\"140.660095\"/>\n    </g>\n    <g clip-path=\"url(#p57eb2c0284)\">\n     <use style=\"fill:#ff7f0e;stroke:#ffffff;stroke-width:0.48;\" x=\"390.249041\" xlink:href=\"#C0_0_46e89c1f76\" y=\"261.025913\"/>\n    </g>\n    <g clip-path=\"url(#p57eb2c0284)\">\n     <use style=\"fill:#ff7f0e;stroke:#ffffff;stroke-width:0.48;\" x=\"602.727236\" xlink:href=\"#C0_0_46e89c1f76\" y=\"195.697502\"/>\n    </g>\n    <g clip-path=\"url(#p57eb2c0284)\">\n     <use style=\"fill:#ff7f0e;stroke:#ffffff;stroke-width:0.48;\" x=\"369.04627\" xlink:href=\"#C0_0_46e89c1f76\" y=\"370.230611\"/>\n    </g>\n    <g clip-path=\"url(#p57eb2c0284)\">\n     <use style=\"fill:#ff7f0e;stroke:#ffffff;stroke-width:0.48;\" x=\"455.978687\" xlink:href=\"#C0_0_46e89c1f76\" y=\"271.720646\"/>\n    </g>\n    <g clip-path=\"url(#p57eb2c0284)\">\n     <use style=\"fill:#1f77b4;stroke:#ffffff;stroke-width:0.48;\" x=\"463.350632\" xlink:href=\"#C0_0_46e89c1f76\" y=\"415.146944\"/>\n    </g>\n    <g clip-path=\"url(#p57eb2c0284)\">\n     <use style=\"fill:#ff7f0e;stroke:#ffffff;stroke-width:0.48;\" x=\"385.874421\" xlink:href=\"#C0_0_46e89c1f76\" y=\"129.618485\"/>\n    </g>\n    <g clip-path=\"url(#p57eb2c0284)\">\n     <use style=\"fill:#1f77b4;stroke:#ffffff;stroke-width:0.48;\" x=\"555.138428\" xlink:href=\"#C0_0_46e89c1f76\" y=\"281.84926\"/>\n    </g>\n    <g clip-path=\"url(#p57eb2c0284)\">\n     <use style=\"fill:#1f77b4;stroke:#ffffff;stroke-width:0.48;\" x=\"618.8445\" xlink:href=\"#C0_0_46e89c1f76\" y=\"423.835641\"/>\n    </g>\n    <g clip-path=\"url(#p57eb2c0284)\">\n     <use style=\"fill:#2ca02c;stroke:#ffffff;stroke-width:0.48;\" x=\"179.26079\" xlink:href=\"#C0_0_46e89c1f76\" y=\"478.39115\"/>\n    </g>\n    <g clip-path=\"url(#p57eb2c0284)\">\n     <use style=\"fill:#2ca02c;stroke:#ffffff;stroke-width:0.48;\" x=\"126.680507\" xlink:href=\"#C0_0_46e89c1f76\" y=\"461.929509\"/>\n    </g>\n    <g clip-path=\"url(#p57eb2c0284)\">\n     <use style=\"fill:#2ca02c;stroke:#ffffff;stroke-width:0.48;\" x=\"234.887963\" xlink:href=\"#C0_0_46e89c1f76\" y=\"563.174841\"/>\n    </g>\n    <g clip-path=\"url(#p57eb2c0284)\">\n     <use style=\"fill:#ff7f0e;stroke:#ffffff;stroke-width:0.48;\" x=\"207.772604\" xlink:href=\"#C0_0_46e89c1f76\" y=\"368.123537\"/>\n    </g>\n    <g clip-path=\"url(#p57eb2c0284)\">\n     <use style=\"fill:#2ca02c;stroke:#ffffff;stroke-width:0.48;\" x=\"363.956893\" xlink:href=\"#C0_0_46e89c1f76\" y=\"455.929509\"/>\n    </g>\n    <g clip-path=\"url(#p57eb2c0284)\">\n     <use style=\"fill:#2ca02c;stroke:#ffffff;stroke-width:0.48;\" x=\"172.794612\" xlink:href=\"#C0_0_46e89c1f76\" y=\"529.700844\"/>\n    </g>\n    <g clip-path=\"url(#p57eb2c0284)\">\n     <use style=\"fill:#2ca02c;stroke:#ffffff;stroke-width:0.48;\" x=\"284.706148\" xlink:href=\"#C0_0_46e89c1f76\" y=\"379.752666\"/>\n    </g>\n    <g clip-path=\"url(#p57eb2c0284)\">\n     <use style=\"fill:#2ca02c;stroke:#ffffff;stroke-width:0.48;\" x=\"213.841819\" xlink:href=\"#C0_0_46e89c1f76\" y=\"511.828768\"/>\n    </g>\n    <g clip-path=\"url(#p57eb2c0284)\">\n     <use style=\"fill:#2ca02c;stroke:#ffffff;stroke-width:0.48;\" x=\"248.762301\" xlink:href=\"#C0_0_46e89c1f76\" y=\"389.350041\"/>\n    </g>\n    <g clip-path=\"url(#p57eb2c0284)\">\n     <use style=\"fill:#2ca02c;stroke:#ffffff;stroke-width:0.48;\" x=\"196.693305\" xlink:href=\"#C0_0_46e89c1f76\" y=\"479.717467\"/>\n    </g>\n    <g clip-path=\"url(#p57eb2c0284)\">\n     <use style=\"fill:#ff7f0e;stroke:#ffffff;stroke-width:0.48;\" x=\"545.608318\" xlink:href=\"#C0_0_46e89c1f76\" y=\"147.608872\"/>\n    </g>\n    <g clip-path=\"url(#p57eb2c0284)\">\n     <use style=\"fill:#1f77b4;stroke:#ffffff;stroke-width:0.48;\" x=\"487.11242\" xlink:href=\"#C0_0_46e89c1f76\" y=\"502.887262\"/>\n    </g>\n    <g clip-path=\"url(#p57eb2c0284)\">\n     <use style=\"fill:#ff7f0e;stroke:#ffffff;stroke-width:0.48;\" x=\"333.923237\" xlink:href=\"#C0_0_46e89c1f76\" y=\"288.763377\"/>\n    </g>\n    <g clip-path=\"url(#p57eb2c0284)\">\n     <use style=\"fill:#ff7f0e;stroke:#ffffff;stroke-width:0.48;\" x=\"540.543239\" xlink:href=\"#C0_0_46e89c1f76\" y=\"192.613879\"/>\n    </g>\n    <g clip-path=\"url(#p57eb2c0284)\">\n     <use style=\"fill:#2ca02c;stroke:#ffffff;stroke-width:0.48;\" x=\"589.362536\" xlink:href=\"#C0_0_46e89c1f76\" y=\"358.196842\"/>\n    </g>\n    <g clip-path=\"url(#p57eb2c0284)\">\n     <use style=\"fill:#ff7f0e;stroke:#ffffff;stroke-width:0.48;\" x=\"141.968174\" xlink:href=\"#C0_0_46e89c1f76\" y=\"415.647822\"/>\n    </g>\n    <g clip-path=\"url(#p57eb2c0284)\">\n     <use style=\"fill:#ff7f0e;stroke:#ffffff;stroke-width:0.48;\" x=\"373.98174\" xlink:href=\"#C0_0_46e89c1f76\" y=\"259.341386\"/>\n    </g>\n    <g clip-path=\"url(#p57eb2c0284)\">\n     <use style=\"fill:#ff7f0e;stroke:#ffffff;stroke-width:0.48;\" x=\"566.807313\" xlink:href=\"#C0_0_46e89c1f76\" y=\"316.630291\"/>\n    </g>\n    <g clip-path=\"url(#p57eb2c0284)\">\n     <use style=\"fill:#ff7f0e;stroke:#ffffff;stroke-width:0.48;\" x=\"568.011505\" xlink:href=\"#C0_0_46e89c1f76\" y=\"139.351575\"/>\n    </g>\n    <g clip-path=\"url(#p57eb2c0284)\">\n     <use style=\"fill:#ff7f0e;stroke:#ffffff;stroke-width:0.48;\" x=\"247.338322\" xlink:href=\"#C0_0_46e89c1f76\" y=\"186.626642\"/>\n    </g>\n    <g clip-path=\"url(#p57eb2c0284)\">\n     <use style=\"fill:#ff7f0e;stroke:#ffffff;stroke-width:0.48;\" x=\"129.863969\" xlink:href=\"#C0_0_46e89c1f76\" y=\"329.520337\"/>\n    </g>\n    <g clip-path=\"url(#p57eb2c0284)\">\n     <use style=\"fill:#1f77b4;stroke:#ffffff;stroke-width:0.48;\" x=\"560.953513\" xlink:href=\"#C0_0_46e89c1f76\" y=\"151.412312\"/>\n    </g>\n    <g clip-path=\"url(#p57eb2c0284)\">\n     <use style=\"fill:#2ca02c;stroke:#ffffff;stroke-width:0.48;\" x=\"258.254079\" xlink:href=\"#C0_0_46e89c1f76\" y=\"499.204113\"/>\n    </g>\n    <g clip-path=\"url(#p57eb2c0284)\">\n     <use style=\"fill:#2ca02c;stroke:#ffffff;stroke-width:0.48;\" x=\"314.270288\" xlink:href=\"#C0_0_46e89c1f76\" y=\"455.008061\"/>\n    </g>\n    <g clip-path=\"url(#p57eb2c0284)\">\n     <use style=\"fill:#ff7f0e;stroke:#ffffff;stroke-width:0.48;\" x=\"320.000553\" xlink:href=\"#C0_0_46e89c1f76\" y=\"260.081338\"/>\n    </g>\n    <g clip-path=\"url(#p57eb2c0284)\">\n     <use style=\"fill:#1f77b4;stroke:#ffffff;stroke-width:0.48;\" x=\"384.182267\" xlink:href=\"#C0_0_46e89c1f76\" y=\"480.758903\"/>\n    </g>\n    <g clip-path=\"url(#p57eb2c0284)\">\n     <use style=\"fill:#1f77b4;stroke:#ffffff;stroke-width:0.48;\" x=\"591.313689\" xlink:href=\"#C0_0_46e89c1f76\" y=\"433.331465\"/>\n    </g>\n    <g clip-path=\"url(#p57eb2c0284)\">\n     <use style=\"fill:#ff7f0e;stroke:#ffffff;stroke-width:0.48;\" x=\"508.799025\" xlink:href=\"#C0_0_46e89c1f76\" y=\"209.748341\"/>\n    </g>\n    <g clip-path=\"url(#p57eb2c0284)\">\n     <use style=\"fill:#1f77b4;stroke:#ffffff;stroke-width:0.48;\" x=\"522.494366\" xlink:href=\"#C0_0_46e89c1f76\" y=\"428.759966\"/>\n    </g>\n    <g clip-path=\"url(#p57eb2c0284)\">\n     <use style=\"fill:#1f77b4;stroke:#ffffff;stroke-width:0.48;\" x=\"538.909706\" xlink:href=\"#C0_0_46e89c1f76\" y=\"386.244769\"/>\n    </g>\n    <g clip-path=\"url(#p57eb2c0284)\">\n     <use style=\"fill:#ff7f0e;stroke:#ffffff;stroke-width:0.48;\" x=\"389.9325\" xlink:href=\"#C0_0_46e89c1f76\" y=\"188.396464\"/>\n    </g>\n    <g clip-path=\"url(#p57eb2c0284)\">\n     <use style=\"fill:#ff7f0e;stroke:#ffffff;stroke-width:0.48;\" x=\"448.972257\" xlink:href=\"#C0_0_46e89c1f76\" y=\"265.925089\"/>\n    </g>\n    <g clip-path=\"url(#p57eb2c0284)\">\n     <use style=\"fill:#2ca02c;stroke:#ffffff;stroke-width:0.48;\" x=\"216.743034\" xlink:href=\"#C0_0_46e89c1f76\" y=\"458.316448\"/>\n    </g>\n    <g clip-path=\"url(#p57eb2c0284)\">\n     <use style=\"fill:#2ca02c;stroke:#ffffff;stroke-width:0.48;\" x=\"271.259255\" xlink:href=\"#C0_0_46e89c1f76\" y=\"482.858045\"/>\n    </g>\n    <g clip-path=\"url(#p57eb2c0284)\">\n     <use style=\"fill:#ff7f0e;stroke:#ffffff;stroke-width:0.48;\" x=\"295.988021\" xlink:href=\"#C0_0_46e89c1f76\" y=\"347.882531\"/>\n    </g>\n    <g clip-path=\"url(#p57eb2c0284)\">\n     <use style=\"fill:#1f77b4;stroke:#ffffff;stroke-width:0.48;\" x=\"588.398322\" xlink:href=\"#C0_0_46e89c1f76\" y=\"357.437604\"/>\n    </g>\n    <g clip-path=\"url(#p57eb2c0284)\">\n     <use style=\"fill:#ff7f0e;stroke:#ffffff;stroke-width:0.48;\" x=\"517.463223\" xlink:href=\"#C0_0_46e89c1f76\" y=\"155.215106\"/>\n    </g>\n    <g clip-path=\"url(#p57eb2c0284)\">\n     <use style=\"fill:#ff7f0e;stroke:#ffffff;stroke-width:0.48;\" x=\"662.301298\" xlink:href=\"#C0_0_46e89c1f76\" y=\"158.0786\"/>\n    </g>\n    <g clip-path=\"url(#p57eb2c0284)\">\n     <use style=\"fill:#ff7f0e;stroke:#ffffff;stroke-width:0.48;\" x=\"313.196691\" xlink:href=\"#C0_0_46e89c1f76\" y=\"361.992587\"/>\n    </g>\n    <g clip-path=\"url(#p57eb2c0284)\">\n     <use style=\"fill:#2ca02c;stroke:#ffffff;stroke-width:0.48;\" x=\"285.984308\" xlink:href=\"#C0_0_46e89c1f76\" y=\"556.608089\"/>\n    </g>\n    <g clip-path=\"url(#p57eb2c0284)\">\n     <use style=\"fill:#ff7f0e;stroke:#ffffff;stroke-width:0.48;\" x=\"637.83658\" xlink:href=\"#C0_0_46e89c1f76\" y=\"196.565461\"/>\n    </g>\n    <g clip-path=\"url(#p57eb2c0284)\">\n     <use style=\"fill:#ff7f0e;stroke:#ffffff;stroke-width:0.48;\" x=\"503.639294\" xlink:href=\"#C0_0_46e89c1f76\" y=\"209.093413\"/>\n    </g>\n    <g clip-path=\"url(#p57eb2c0284)\">\n     <use style=\"fill:#ff7f0e;stroke:#ffffff;stroke-width:0.48;\" x=\"516.010328\" xlink:href=\"#C0_0_46e89c1f76\" y=\"176.491543\"/>\n    </g>\n    <g clip-path=\"url(#p57eb2c0284)\">\n     <use style=\"fill:#ff7f0e;stroke:#ffffff;stroke-width:0.48;\" x=\"461.80991\" xlink:href=\"#C0_0_46e89c1f76\" y=\"398.166201\"/>\n    </g>\n    <g clip-path=\"url(#p57eb2c0284)\">\n     <use style=\"fill:#ff7f0e;stroke:#ffffff;stroke-width:0.48;\" x=\"515.697173\" xlink:href=\"#C0_0_46e89c1f76\" y=\"188.548773\"/>\n    </g>\n    <g clip-path=\"url(#p57eb2c0284)\">\n     <use style=\"fill:#ff7f0e;stroke:#ffffff;stroke-width:0.48;\" x=\"425.631313\" xlink:href=\"#C0_0_46e89c1f76\" y=\"173.907856\"/>\n    </g>\n    <g clip-path=\"url(#p57eb2c0284)\">\n     <use style=\"fill:#ff7f0e;stroke:#ffffff;stroke-width:0.48;\" x=\"202.619839\" xlink:href=\"#C0_0_46e89c1f76\" y=\"388.320461\"/>\n    </g>\n    <g clip-path=\"url(#p57eb2c0284)\">\n     <use style=\"fill:#ff7f0e;stroke:#ffffff;stroke-width:0.48;\" x=\"458.424598\" xlink:href=\"#C0_0_46e89c1f76\" y=\"241.064419\"/>\n    </g>\n    <g clip-path=\"url(#p57eb2c0284)\">\n     <use style=\"fill:#ff7f0e;stroke:#ffffff;stroke-width:0.48;\" x=\"416.863563\" xlink:href=\"#C0_0_46e89c1f76\" y=\"302.734492\"/>\n    </g>\n    <g clip-path=\"url(#p57eb2c0284)\">\n     <use style=\"fill:#ff7f0e;stroke:#ffffff;stroke-width:0.48;\" x=\"346.716115\" xlink:href=\"#C0_0_46e89c1f76\" y=\"319.669766\"/>\n    </g>\n    <g clip-path=\"url(#p57eb2c0284)\">\n     <use style=\"fill:#ff7f0e;stroke:#ffffff;stroke-width:0.48;\" x=\"399.901673\" xlink:href=\"#C0_0_46e89c1f76\" y=\"163.919043\"/>\n    </g>\n    <g clip-path=\"url(#p57eb2c0284)\">\n     <use style=\"fill:#ff7f0e;stroke:#ffffff;stroke-width:0.48;\" x=\"471.216805\" xlink:href=\"#C0_0_46e89c1f76\" y=\"217.450287\"/>\n    </g>\n    <g clip-path=\"url(#p57eb2c0284)\">\n     <use style=\"fill:#ff7f0e;stroke:#ffffff;stroke-width:0.48;\" x=\"636.263458\" xlink:href=\"#C0_0_46e89c1f76\" y=\"166.704016\"/>\n    </g>\n    <g clip-path=\"url(#p57eb2c0284)\">\n     <use style=\"fill:#ff7f0e;stroke:#ffffff;stroke-width:0.48;\" x=\"521.969955\" xlink:href=\"#C0_0_46e89c1f76\" y=\"193.790927\"/>\n    </g>\n    <g clip-path=\"url(#p57eb2c0284)\">\n     <use style=\"fill:#ff7f0e;stroke:#ffffff;stroke-width:0.48;\" x=\"324.881429\" xlink:href=\"#C0_0_46e89c1f76\" y=\"323.585599\"/>\n    </g>\n    <g clip-path=\"url(#p57eb2c0284)\">\n     <use style=\"fill:#ff7f0e;stroke:#ffffff;stroke-width:0.48;\" x=\"440.583167\" xlink:href=\"#C0_0_46e89c1f76\" y=\"218.508365\"/>\n    </g>\n    <g clip-path=\"url(#p57eb2c0284)\">\n     <use style=\"fill:#ff7f0e;stroke:#ffffff;stroke-width:0.48;\" x=\"333.199979\" xlink:href=\"#C0_0_46e89c1f76\" y=\"288.347195\"/>\n    </g>\n    <g clip-path=\"url(#p57eb2c0284)\">\n     <use style=\"fill:#ff7f0e;stroke:#ffffff;stroke-width:0.48;\" x=\"366.56798\" xlink:href=\"#C0_0_46e89c1f76\" y=\"93.592724\"/>\n    </g>\n    <g clip-path=\"url(#p57eb2c0284)\">\n     <use style=\"fill:#1f77b4;stroke:#ffffff;stroke-width:0.48;\" x=\"584.79347\" xlink:href=\"#C0_0_46e89c1f76\" y=\"438.703523\"/>\n    </g>\n    <g clip-path=\"url(#p57eb2c0284)\">\n     <use style=\"fill:#1f77b4;stroke:#ffffff;stroke-width:0.48;\" x=\"321.760326\" xlink:href=\"#C0_0_46e89c1f76\" y=\"468.254387\"/>\n    </g>\n    <g clip-path=\"url(#p57eb2c0284)\">\n     <use style=\"fill:#1f77b4;stroke:#ffffff;stroke-width:0.48;\" x=\"331.573871\" xlink:href=\"#C0_0_46e89c1f76\" y=\"376.977977\"/>\n    </g>\n    <g clip-path=\"url(#p57eb2c0284)\">\n     <use style=\"fill:#1f77b4;stroke:#ffffff;stroke-width:0.48;\" x=\"531.020281\" xlink:href=\"#C0_0_46e89c1f76\" y=\"295.433657\"/>\n    </g>\n    <g clip-path=\"url(#p57eb2c0284)\">\n     <use style=\"fill:#ff7f0e;stroke:#ffffff;stroke-width:0.48;\" x=\"249.847796\" xlink:href=\"#C0_0_46e89c1f76\" y=\"514.741266\"/>\n    </g>\n    <g clip-path=\"url(#p57eb2c0284)\">\n     <use style=\"fill:#ff7f0e;stroke:#ffffff;stroke-width:0.48;\" x=\"364.451595\" xlink:href=\"#C0_0_46e89c1f76\" y=\"290.47623\"/>\n    </g>\n    <g clip-path=\"url(#p57eb2c0284)\">\n     <use style=\"fill:#ff7f0e;stroke:#ffffff;stroke-width:0.48;\" x=\"359.821761\" xlink:href=\"#C0_0_46e89c1f76\" y=\"241.078448\"/>\n    </g>\n    <g clip-path=\"url(#p57eb2c0284)\">\n     <use style=\"fill:#ff7f0e;stroke:#ffffff;stroke-width:0.48;\" x=\"381.104651\" xlink:href=\"#C0_0_46e89c1f76\" y=\"305.226142\"/>\n    </g>\n    <g clip-path=\"url(#p57eb2c0284)\">\n     <use style=\"fill:#2ca02c;stroke:#ffffff;stroke-width:0.48;\" x=\"212.723256\" xlink:href=\"#C0_0_46e89c1f76\" y=\"493.483658\"/>\n    </g>\n    <g clip-path=\"url(#p57eb2c0284)\">\n     <use style=\"fill:#ff7f0e;stroke:#ffffff;stroke-width:0.48;\" x=\"272.40597\" xlink:href=\"#C0_0_46e89c1f76\" y=\"273.738585\"/>\n    </g>\n    <g clip-path=\"url(#p57eb2c0284)\">\n     <use style=\"fill:#ff7f0e;stroke:#ffffff;stroke-width:0.48;\" x=\"340.904594\" xlink:href=\"#C0_0_46e89c1f76\" y=\"432.567773\"/>\n    </g>\n    <g clip-path=\"url(#p57eb2c0284)\">\n     <use style=\"fill:#ff7f0e;stroke:#ffffff;stroke-width:0.48;\" x=\"413.301849\" xlink:href=\"#C0_0_46e89c1f76\" y=\"275.27275\"/>\n    </g>\n    <g clip-path=\"url(#p57eb2c0284)\">\n     <use style=\"fill:#ff7f0e;stroke:#ffffff;stroke-width:0.48;\" x=\"539.852462\" xlink:href=\"#C0_0_46e89c1f76\" y=\"173.860488\"/>\n    </g>\n    <g clip-path=\"url(#p57eb2c0284)\">\n     <use style=\"fill:#ff7f0e;stroke:#ffffff;stroke-width:0.48;\" x=\"575.781366\" xlink:href=\"#C0_0_46e89c1f76\" y=\"186.592313\"/>\n    </g>\n    <g clip-path=\"url(#p57eb2c0284)\">\n     <use style=\"fill:#ff7f0e;stroke:#ffffff;stroke-width:0.48;\" x=\"584.78357\" xlink:href=\"#C0_0_46e89c1f76\" y=\"163.916952\"/>\n    </g>\n    <g clip-path=\"url(#p57eb2c0284)\">\n     <use style=\"fill:#1f77b4;stroke:#ffffff;stroke-width:0.48;\" x=\"510.643644\" xlink:href=\"#C0_0_46e89c1f76\" y=\"317.442694\"/>\n    </g>\n    <g clip-path=\"url(#p57eb2c0284)\">\n     <use style=\"fill:#ff7f0e;stroke:#ffffff;stroke-width:0.48;\" x=\"310.05589\" xlink:href=\"#C0_0_46e89c1f76\" y=\"186.805317\"/>\n    </g>\n    <g clip-path=\"url(#p57eb2c0284)\">\n     <use style=\"fill:#ff7f0e;stroke:#ffffff;stroke-width:0.48;\" x=\"424.423395\" xlink:href=\"#C0_0_46e89c1f76\" y=\"389.688425\"/>\n    </g>\n    <g clip-path=\"url(#p57eb2c0284)\">\n     <use style=\"fill:#ff7f0e;stroke:#ffffff;stroke-width:0.48;\" x=\"559.844629\" xlink:href=\"#C0_0_46e89c1f76\" y=\"113.457598\"/>\n    </g>\n    <g clip-path=\"url(#p57eb2c0284)\">\n     <use style=\"fill:#1f77b4;stroke:#ffffff;stroke-width:0.48;\" x=\"623.331476\" xlink:href=\"#C0_0_46e89c1f76\" y=\"246.590285\"/>\n    </g>\n    <g clip-path=\"url(#p57eb2c0284)\">\n     <use style=\"fill:#1f77b4;stroke:#ffffff;stroke-width:0.48;\" x=\"598.87414\" xlink:href=\"#C0_0_46e89c1f76\" y=\"298.556251\"/>\n    </g>\n    <g clip-path=\"url(#p57eb2c0284)\">\n     <use style=\"fill:#1f77b4;stroke:#ffffff;stroke-width:0.48;\" x=\"591.27545\" xlink:href=\"#C0_0_46e89c1f76\" y=\"292.823126\"/>\n    </g>\n    <g clip-path=\"url(#p57eb2c0284)\">\n     <use style=\"fill:#ff7f0e;stroke:#ffffff;stroke-width:0.48;\" x=\"437.85605\" xlink:href=\"#C0_0_46e89c1f76\" y=\"188.378391\"/>\n    </g>\n    <g clip-path=\"url(#p57eb2c0284)\">\n     <use style=\"fill:#2ca02c;stroke:#ffffff;stroke-width:0.48;\" x=\"179.620331\" xlink:href=\"#C0_0_46e89c1f76\" y=\"534.232134\"/>\n    </g>\n    <g clip-path=\"url(#p57eb2c0284)\">\n     <use style=\"fill:#2ca02c;stroke:#ffffff;stroke-width:0.48;\" x=\"310.264739\" xlink:href=\"#C0_0_46e89c1f76\" y=\"420.802701\"/>\n    </g>\n    <g clip-path=\"url(#p57eb2c0284)\">\n     <use style=\"fill:#1f77b4;stroke:#ffffff;stroke-width:0.48;\" x=\"544.977909\" xlink:href=\"#C0_0_46e89c1f76\" y=\"262.488682\"/>\n    </g>\n    <g clip-path=\"url(#p57eb2c0284)\">\n     <use style=\"fill:#1f77b4;stroke:#ffffff;stroke-width:0.48;\" x=\"492.975966\" xlink:href=\"#C0_0_46e89c1f76\" y=\"327.816609\"/>\n    </g>\n    <g clip-path=\"url(#p57eb2c0284)\">\n     <use style=\"fill:#1f77b4;stroke:#ffffff;stroke-width:0.48;\" x=\"639.383643\" xlink:href=\"#C0_0_46e89c1f76\" y=\"324.704566\"/>\n    </g>\n    <g clip-path=\"url(#p57eb2c0284)\">\n     <use style=\"fill:#2ca02c;stroke:#ffffff;stroke-width:0.48;\" x=\"127.197663\" xlink:href=\"#C0_0_46e89c1f76\" y=\"461.296381\"/>\n    </g>\n    <g clip-path=\"url(#p57eb2c0284)\">\n     <use style=\"fill:#ff7f0e;stroke:#ffffff;stroke-width:0.48;\" x=\"358.232012\" xlink:href=\"#C0_0_46e89c1f76\" y=\"275.938955\"/>\n    </g>\n    <g clip-path=\"url(#p57eb2c0284)\">\n     <use style=\"fill:#ff7f0e;stroke:#ffffff;stroke-width:0.48;\" x=\"444.382337\" xlink:href=\"#C0_0_46e89c1f76\" y=\"135.063191\"/>\n    </g>\n    <g clip-path=\"url(#p57eb2c0284)\">\n     <use style=\"fill:#ff7f0e;stroke:#ffffff;stroke-width:0.48;\" x=\"496.967992\" xlink:href=\"#C0_0_46e89c1f76\" y=\"184.135587\"/>\n    </g>\n    <g clip-path=\"url(#p57eb2c0284)\">\n     <use style=\"fill:#ff7f0e;stroke:#ffffff;stroke-width:0.48;\" x=\"487.925516\" xlink:href=\"#C0_0_46e89c1f76\" y=\"292.112001\"/>\n    </g>\n    <g clip-path=\"url(#p57eb2c0284)\">\n     <use style=\"fill:#1f77b4;stroke:#ffffff;stroke-width:0.48;\" x=\"516.320642\" xlink:href=\"#C0_0_46e89c1f76\" y=\"468.326553\"/>\n    </g>\n    <g clip-path=\"url(#p57eb2c0284)\">\n     <use style=\"fill:#2ca02c;stroke:#ffffff;stroke-width:0.48;\" x=\"225.085453\" xlink:href=\"#C0_0_46e89c1f76\" y=\"400.903415\"/>\n    </g>\n    <g clip-path=\"url(#p57eb2c0284)\">\n     <use style=\"fill:#1f77b4;stroke:#ffffff;stroke-width:0.48;\" x=\"530.932773\" xlink:href=\"#C0_0_46e89c1f76\" y=\"258.931468\"/>\n    </g>\n    <g clip-path=\"url(#p57eb2c0284)\">\n     <use style=\"fill:#ff7f0e;stroke:#ffffff;stroke-width:0.48;\" x=\"509.254885\" xlink:href=\"#C0_0_46e89c1f76\" y=\"271.895367\"/>\n    </g>\n    <g clip-path=\"url(#p57eb2c0284)\">\n     <use style=\"fill:#ff7f0e;stroke:#ffffff;stroke-width:0.48;\" x=\"228.721893\" xlink:href=\"#C0_0_46e89c1f76\" y=\"354.717203\"/>\n    </g>\n    <g clip-path=\"url(#p57eb2c0284)\">\n     <use style=\"fill:#ff7f0e;stroke:#ffffff;stroke-width:0.48;\" x=\"499.269365\" xlink:href=\"#C0_0_46e89c1f76\" y=\"170.073594\"/>\n    </g>\n    <g clip-path=\"url(#p57eb2c0284)\">\n     <use style=\"fill:#ff7f0e;stroke:#ffffff;stroke-width:0.48;\" x=\"457.11221\" xlink:href=\"#C0_0_46e89c1f76\" y=\"118.55117\"/>\n    </g>\n    <g clip-path=\"url(#p57eb2c0284)\">\n     <use style=\"fill:#ff7f0e;stroke:#ffffff;stroke-width:0.48;\" x=\"254.709588\" xlink:href=\"#C0_0_46e89c1f76\" y=\"325.324562\"/>\n    </g>\n    <g clip-path=\"url(#p57eb2c0284)\">\n     <use style=\"fill:#1f77b4;stroke:#ffffff;stroke-width:0.48;\" x=\"554.265558\" xlink:href=\"#C0_0_46e89c1f76\" y=\"258.694779\"/>\n    </g>\n    <g clip-path=\"url(#p57eb2c0284)\">\n     <use style=\"fill:#ff7f0e;stroke:#ffffff;stroke-width:0.48;\" x=\"312.184169\" xlink:href=\"#C0_0_46e89c1f76\" y=\"397.408657\"/>\n    </g>\n    <g clip-path=\"url(#p57eb2c0284)\">\n     <use style=\"fill:#2ca02c;stroke:#ffffff;stroke-width:0.48;\" x=\"367.104502\" xlink:href=\"#C0_0_46e89c1f76\" y=\"470.614383\"/>\n    </g>\n    <g clip-path=\"url(#p57eb2c0284)\">\n     <use style=\"fill:#1f77b4;stroke:#ffffff;stroke-width:0.48;\" x=\"545.876158\" xlink:href=\"#C0_0_46e89c1f76\" y=\"519.238708\"/>\n    </g>\n    <g clip-path=\"url(#p57eb2c0284)\">\n     <use style=\"fill:#ff7f0e;stroke:#ffffff;stroke-width:0.48;\" x=\"258.020344\" xlink:href=\"#C0_0_46e89c1f76\" y=\"370.551352\"/>\n    </g>\n    <g clip-path=\"url(#p57eb2c0284)\">\n     <use style=\"fill:#ff7f0e;stroke:#ffffff;stroke-width:0.48;\" x=\"324.505439\" xlink:href=\"#C0_0_46e89c1f76\" y=\"269.685851\"/>\n    </g>\n    <g clip-path=\"url(#p57eb2c0284)\">\n     <use style=\"fill:#ff7f0e;stroke:#ffffff;stroke-width:0.48;\" x=\"526.436944\" xlink:href=\"#C0_0_46e89c1f76\" y=\"137.859154\"/>\n    </g>\n    <g clip-path=\"url(#p57eb2c0284)\">\n     <use style=\"fill:#2ca02c;stroke:#ffffff;stroke-width:0.48;\" x=\"372.19682\" xlink:href=\"#C0_0_46e89c1f76\" y=\"432.298075\"/>\n    </g>\n    <g clip-path=\"url(#p57eb2c0284)\">\n     <use style=\"fill:#1f77b4;stroke:#ffffff;stroke-width:0.48;\" x=\"402.198662\" xlink:href=\"#C0_0_46e89c1f76\" y=\"460.939567\"/>\n    </g>\n    <g clip-path=\"url(#p57eb2c0284)\">\n     <use style=\"fill:#1f77b4;stroke:#ffffff;stroke-width:0.48;\" x=\"593.960161\" xlink:href=\"#C0_0_46e89c1f76\" y=\"243.425597\"/>\n    </g>\n    <g clip-path=\"url(#p57eb2c0284)\">\n     <use style=\"fill:#1f77b4;stroke:#ffffff;stroke-width:0.48;\" x=\"510.520083\" xlink:href=\"#C0_0_46e89c1f76\" y=\"352.635415\"/>\n    </g>\n    <g clip-path=\"url(#p57eb2c0284)\">\n     <use style=\"fill:#1f77b4;stroke:#ffffff;stroke-width:0.48;\" x=\"344.094554\" xlink:href=\"#C0_0_46e89c1f76\" y=\"452.285468\"/>\n    </g>\n    <g clip-path=\"url(#p57eb2c0284)\">\n     <use style=\"fill:#ff7f0e;stroke:#ffffff;stroke-width:0.48;\" x=\"423.431835\" xlink:href=\"#C0_0_46e89c1f76\" y=\"264.318648\"/>\n    </g>\n    <g clip-path=\"url(#p57eb2c0284)\">\n     <use style=\"fill:#ff7f0e;stroke:#ffffff;stroke-width:0.48;\" x=\"457.304487\" xlink:href=\"#C0_0_46e89c1f76\" y=\"178.587494\"/>\n    </g>\n    <g clip-path=\"url(#p57eb2c0284)\">\n     <use style=\"fill:#1f77b4;stroke:#ffffff;stroke-width:0.48;\" x=\"430.909334\" xlink:href=\"#C0_0_46e89c1f76\" y=\"460.599547\"/>\n    </g>\n    <g clip-path=\"url(#p57eb2c0284)\">\n     <use style=\"fill:#ff7f0e;stroke:#ffffff;stroke-width:0.48;\" x=\"564.947113\" xlink:href=\"#C0_0_46e89c1f76\" y=\"183.871638\"/>\n    </g>\n    <g clip-path=\"url(#p57eb2c0284)\">\n     <use style=\"fill:#2ca02c;stroke:#ffffff;stroke-width:0.48;\" x=\"252.958915\" xlink:href=\"#C0_0_46e89c1f76\" y=\"460.56966\"/>\n    </g>\n    <g clip-path=\"url(#p57eb2c0284)\">\n     <use style=\"fill:#1f77b4;stroke:#ffffff;stroke-width:0.48;\" x=\"501.338219\" xlink:href=\"#C0_0_46e89c1f76\" y=\"325.550912\"/>\n    </g>\n    <g clip-path=\"url(#p57eb2c0284)\">\n     <use style=\"fill:#2ca02c;stroke:#ffffff;stroke-width:0.48;\" x=\"327.788168\" xlink:href=\"#C0_0_46e89c1f76\" y=\"453.577325\"/>\n    </g>\n    <g clip-path=\"url(#p57eb2c0284)\">\n     <use style=\"fill:#ff7f0e;stroke:#ffffff;stroke-width:0.48;\" x=\"508.934297\" xlink:href=\"#C0_0_46e89c1f76\" y=\"242.845855\"/>\n    </g>\n    <g clip-path=\"url(#p57eb2c0284)\">\n     <use style=\"fill:#2ca02c;stroke:#ffffff;stroke-width:0.48;\" x=\"170.101736\" xlink:href=\"#C0_0_46e89c1f76\" y=\"438.768516\"/>\n    </g>\n    <g clip-path=\"url(#p57eb2c0284)\">\n     <use style=\"fill:#2ca02c;stroke:#ffffff;stroke-width:0.48;\" x=\"216.266447\" xlink:href=\"#C0_0_46e89c1f76\" y=\"481.925869\"/>\n    </g>\n    <g clip-path=\"url(#p57eb2c0284)\">\n     <use style=\"fill:#1f77b4;stroke:#ffffff;stroke-width:0.48;\" x=\"550.107914\" xlink:href=\"#C0_0_46e89c1f76\" y=\"168.433484\"/>\n    </g>\n    <g clip-path=\"url(#p57eb2c0284)\">\n     <use style=\"fill:#ff7f0e;stroke:#ffffff;stroke-width:0.48;\" x=\"441.234715\" xlink:href=\"#C0_0_46e89c1f76\" y=\"343.433277\"/>\n    </g>\n    <g clip-path=\"url(#p57eb2c0284)\">\n     <use style=\"fill:#2ca02c;stroke:#ffffff;stroke-width:0.48;\" x=\"296.111564\" xlink:href=\"#C0_0_46e89c1f76\" y=\"444.336414\"/>\n    </g>\n    <g clip-path=\"url(#p57eb2c0284)\">\n     <use style=\"fill:#2ca02c;stroke:#ffffff;stroke-width:0.48;\" x=\"178.290572\" xlink:href=\"#C0_0_46e89c1f76\" y=\"549.013174\"/>\n    </g>\n    <g clip-path=\"url(#p57eb2c0284)\">\n     <use style=\"fill:#2ca02c;stroke:#ffffff;stroke-width:0.48;\" x=\"264.53387\" xlink:href=\"#C0_0_46e89c1f76\" y=\"401.977096\"/>\n    </g>\n    <g clip-path=\"url(#p57eb2c0284)\">\n     <use style=\"fill:#2ca02c;stroke:#ffffff;stroke-width:0.48;\" x=\"189.475181\" xlink:href=\"#C0_0_46e89c1f76\" y=\"454.093724\"/>\n    </g>\n    <g clip-path=\"url(#p57eb2c0284)\">\n     <use style=\"fill:#ff7f0e;stroke:#ffffff;stroke-width:0.48;\" x=\"530.25124\" xlink:href=\"#C0_0_46e89c1f76\" y=\"168.860497\"/>\n    </g>\n    <g clip-path=\"url(#p57eb2c0284)\">\n     <use style=\"fill:#1f77b4;stroke:#ffffff;stroke-width:0.48;\" x=\"525.451348\" xlink:href=\"#C0_0_46e89c1f76\" y=\"339.842009\"/>\n    </g>\n    <g clip-path=\"url(#p57eb2c0284)\">\n     <use style=\"fill:#2ca02c;stroke:#ffffff;stroke-width:0.48;\" x=\"257.724523\" xlink:href=\"#C0_0_46e89c1f76\" y=\"484.153691\"/>\n    </g>\n    <g clip-path=\"url(#p57eb2c0284)\">\n     <use style=\"fill:#ff7f0e;stroke:#ffffff;stroke-width:0.48;\" x=\"566.230009\" xlink:href=\"#C0_0_46e89c1f76\" y=\"176.531594\"/>\n    </g>\n    <g clip-path=\"url(#p57eb2c0284)\">\n     <use style=\"fill:#ff7f0e;stroke:#ffffff;stroke-width:0.48;\" x=\"558.456559\" xlink:href=\"#C0_0_46e89c1f76\" y=\"160.86946\"/>\n    </g>\n    <g clip-path=\"url(#p57eb2c0284)\">\n     <use style=\"fill:#2ca02c;stroke:#ffffff;stroke-width:0.48;\" x=\"342.461438\" xlink:href=\"#C0_0_46e89c1f76\" y=\"346.212155\"/>\n    </g>\n    <g clip-path=\"url(#p57eb2c0284)\">\n     <use style=\"fill:#ff7f0e;stroke:#ffffff;stroke-width:0.48;\" x=\"498.108906\" xlink:href=\"#C0_0_46e89c1f76\" y=\"174.760879\"/>\n    </g>\n    <g clip-path=\"url(#p57eb2c0284)\">\n     <use style=\"fill:#ff7f0e;stroke:#ffffff;stroke-width:0.48;\" x=\"504.871365\" xlink:href=\"#C0_0_46e89c1f76\" y=\"317.273834\"/>\n    </g>\n    <g clip-path=\"url(#p57eb2c0284)\">\n     <use style=\"fill:#ff7f0e;stroke:#ffffff;stroke-width:0.48;\" x=\"361.618098\" xlink:href=\"#C0_0_46e89c1f76\" y=\"276.85127\"/>\n    </g>\n    <g clip-path=\"url(#p57eb2c0284)\">\n     <use style=\"fill:#ff7f0e;stroke:#ffffff;stroke-width:0.48;\" x=\"276.991723\" xlink:href=\"#C0_0_46e89c1f76\" y=\"302.873367\"/>\n    </g>\n    <g clip-path=\"url(#p57eb2c0284)\">\n     <use style=\"fill:#ff7f0e;stroke:#ffffff;stroke-width:0.48;\" x=\"277.25605\" xlink:href=\"#C0_0_46e89c1f76\" y=\"357.562612\"/>\n    </g>\n    <g clip-path=\"url(#p57eb2c0284)\">\n     <use style=\"fill:#2ca02c;stroke:#ffffff;stroke-width:0.48;\" x=\"241.364942\" xlink:href=\"#C0_0_46e89c1f76\" y=\"475.758816\"/>\n    </g>\n    <g clip-path=\"url(#p57eb2c0284)\">\n     <use style=\"fill:#ff7f0e;stroke:#ffffff;stroke-width:0.48;\" x=\"375.101317\" xlink:href=\"#C0_0_46e89c1f76\" y=\"369.923104\"/>\n    </g>\n    <g clip-path=\"url(#p57eb2c0284)\">\n     <use style=\"fill:#2ca02c;stroke:#ffffff;stroke-width:0.48;\" x=\"179.046362\" xlink:href=\"#C0_0_46e89c1f76\" y=\"400.367864\"/>\n    </g>\n    <g clip-path=\"url(#p57eb2c0284)\">\n     <use style=\"fill:#2ca02c;stroke:#ffffff;stroke-width:0.48;\" x=\"288.042318\" xlink:href=\"#C0_0_46e89c1f76\" y=\"518.358329\"/>\n    </g>\n    <g clip-path=\"url(#p57eb2c0284)\">\n     <use style=\"fill:#2ca02c;stroke:#ffffff;stroke-width:0.48;\" x=\"149.117782\" xlink:href=\"#C0_0_46e89c1f76\" y=\"276.888735\"/>\n    </g>\n    <g clip-path=\"url(#p57eb2c0284)\">\n     <use style=\"fill:#2ca02c;stroke:#ffffff;stroke-width:0.48;\" x=\"342.988613\" xlink:href=\"#C0_0_46e89c1f76\" y=\"471.303048\"/>\n    </g>\n    <g clip-path=\"url(#p57eb2c0284)\">\n     <use style=\"fill:#2ca02c;stroke:#ffffff;stroke-width:0.48;\" x=\"369.809062\" xlink:href=\"#C0_0_46e89c1f76\" y=\"386.761069\"/>\n    </g>\n    <g clip-path=\"url(#p57eb2c0284)\">\n     <use style=\"fill:#ff7f0e;stroke:#ffffff;stroke-width:0.48;\" x=\"317.28177\" xlink:href=\"#C0_0_46e89c1f76\" y=\"337.410251\"/>\n    </g>\n    <g clip-path=\"url(#p57eb2c0284)\">\n     <use style=\"fill:#2ca02c;stroke:#ffffff;stroke-width:0.48;\" x=\"371.005567\" xlink:href=\"#C0_0_46e89c1f76\" y=\"406.067557\"/>\n    </g>\n    <g clip-path=\"url(#p57eb2c0284)\">\n     <use style=\"fill:#ff7f0e;stroke:#ffffff;stroke-width:0.48;\" x=\"269.042439\" xlink:href=\"#C0_0_46e89c1f76\" y=\"396.84488\"/>\n    </g>\n    <g clip-path=\"url(#p57eb2c0284)\">\n     <use style=\"fill:#ff7f0e;stroke:#ffffff;stroke-width:0.48;\" x=\"333.197236\" xlink:href=\"#C0_0_46e89c1f76\" y=\"437.731633\"/>\n    </g>\n    <g clip-path=\"url(#p57eb2c0284)\">\n     <use style=\"fill:#2ca02c;stroke:#ffffff;stroke-width:0.48;\" x=\"337.691619\" xlink:href=\"#C0_0_46e89c1f76\" y=\"412.619922\"/>\n    </g>\n    <g clip-path=\"url(#p57eb2c0284)\">\n     <use style=\"fill:#2ca02c;stroke:#ffffff;stroke-width:0.48;\" x=\"230.567788\" xlink:href=\"#C0_0_46e89c1f76\" y=\"486.236617\"/>\n    </g>\n    <g clip-path=\"url(#p57eb2c0284)\">\n     <use style=\"fill:#ff7f0e;stroke:#ffffff;stroke-width:0.48;\" x=\"259.957711\" xlink:href=\"#C0_0_46e89c1f76\" y=\"390.091496\"/>\n    </g>\n    <g clip-path=\"url(#p57eb2c0284)\">\n     <use style=\"fill:#2ca02c;stroke:#ffffff;stroke-width:0.48;\" x=\"294.302998\" xlink:href=\"#C0_0_46e89c1f76\" y=\"404.222179\"/>\n    </g>\n    <g clip-path=\"url(#p57eb2c0284)\">\n     <use style=\"fill:#ff7f0e;stroke:#ffffff;stroke-width:0.48;\" x=\"269.053709\" xlink:href=\"#C0_0_46e89c1f76\" y=\"366.03704\"/>\n    </g>\n    <g clip-path=\"url(#p57eb2c0284)\">\n     <use style=\"fill:#ff7f0e;stroke:#ffffff;stroke-width:0.48;\" x=\"269.41558\" xlink:href=\"#C0_0_46e89c1f76\" y=\"361.235844\"/>\n    </g>\n    <g clip-path=\"url(#p57eb2c0284)\">\n     <use style=\"fill:#2ca02c;stroke:#ffffff;stroke-width:0.48;\" x=\"327.872278\" xlink:href=\"#C0_0_46e89c1f76\" y=\"422.184013\"/>\n    </g>\n    <g clip-path=\"url(#p57eb2c0284)\">\n     <use style=\"fill:#2ca02c;stroke:#ffffff;stroke-width:0.48;\" x=\"324.381794\" xlink:href=\"#C0_0_46e89c1f76\" y=\"420.882438\"/>\n    </g>\n    <g clip-path=\"url(#p57eb2c0284)\">\n     <use style=\"fill:#2ca02c;stroke:#ffffff;stroke-width:0.48;\" x=\"353.102682\" xlink:href=\"#C0_0_46e89c1f76\" y=\"457.96779\"/>\n    </g>\n    <g clip-path=\"url(#p57eb2c0284)\">\n     <use style=\"fill:#2ca02c;stroke:#ffffff;stroke-width:0.48;\" x=\"294.414048\" xlink:href=\"#C0_0_46e89c1f76\" y=\"452.382267\"/>\n    </g>\n    <g clip-path=\"url(#p57eb2c0284)\">\n     <use style=\"fill:#ff7f0e;stroke:#ffffff;stroke-width:0.48;\" x=\"292.27325\" xlink:href=\"#C0_0_46e89c1f76\" y=\"321.945794\"/>\n    </g>\n    <g clip-path=\"url(#p57eb2c0284)\">\n     <use style=\"fill:#ff7f0e;stroke:#ffffff;stroke-width:0.48;\" x=\"233.147513\" xlink:href=\"#C0_0_46e89c1f76\" y=\"383.406631\"/>\n    </g>\n    <g clip-path=\"url(#p57eb2c0284)\">\n     <use style=\"fill:#2ca02c;stroke:#ffffff;stroke-width:0.48;\" x=\"247.210713\" xlink:href=\"#C0_0_46e89c1f76\" y=\"500.018418\"/>\n    </g>\n    <g clip-path=\"url(#p57eb2c0284)\">\n     <use style=\"fill:#ff7f0e;stroke:#ffffff;stroke-width:0.48;\" x=\"388.070921\" xlink:href=\"#C0_0_46e89c1f76\" y=\"337.65265\"/>\n    </g>\n    <g clip-path=\"url(#p57eb2c0284)\">\n     <use style=\"fill:#ff7f0e;stroke:#ffffff;stroke-width:0.48;\" x=\"375.147617\" xlink:href=\"#C0_0_46e89c1f76\" y=\"257.900066\"/>\n    </g>\n    <g clip-path=\"url(#p57eb2c0284)\">\n     <use style=\"fill:#2ca02c;stroke:#ffffff;stroke-width:0.48;\" x=\"335.595894\" xlink:href=\"#C0_0_46e89c1f76\" y=\"440.32785\"/>\n    </g>\n    <g clip-path=\"url(#p57eb2c0284)\">\n     <use style=\"fill:#ff7f0e;stroke:#ffffff;stroke-width:0.48;\" x=\"309.429921\" xlink:href=\"#C0_0_46e89c1f76\" y=\"317.877799\"/>\n    </g>\n    <g clip-path=\"url(#p57eb2c0284)\">\n     <use style=\"fill:#2ca02c;stroke:#ffffff;stroke-width:0.48;\" x=\"347.117378\" xlink:href=\"#C0_0_46e89c1f76\" y=\"429.990433\"/>\n    </g>\n    <g clip-path=\"url(#p57eb2c0284)\">\n     <use style=\"fill:#1f77b4;stroke:#ffffff;stroke-width:0.48;\" x=\"426.961418\" xlink:href=\"#C0_0_46e89c1f76\" y=\"409.949779\"/>\n    </g>\n    <g clip-path=\"url(#p57eb2c0284)\">\n     <use style=\"fill:#2ca02c;stroke:#ffffff;stroke-width:0.48;\" x=\"350.048896\" xlink:href=\"#C0_0_46e89c1f76\" y=\"429.060712\"/>\n    </g>\n    <g clip-path=\"url(#p57eb2c0284)\">\n     <use style=\"fill:#2ca02c;stroke:#ffffff;stroke-width:0.48;\" x=\"212.262352\" xlink:href=\"#C0_0_46e89c1f76\" y=\"461.714812\"/>\n    </g>\n    <g clip-path=\"url(#p57eb2c0284)\">\n     <use style=\"fill:#ff7f0e;stroke:#ffffff;stroke-width:0.48;\" x=\"411.948172\" xlink:href=\"#C0_0_46e89c1f76\" y=\"265.157113\"/>\n    </g>\n    <g clip-path=\"url(#p57eb2c0284)\">\n     <use style=\"fill:#ff7f0e;stroke:#ffffff;stroke-width:0.48;\" x=\"339.493952\" xlink:href=\"#C0_0_46e89c1f76\" y=\"376.153019\"/>\n    </g>\n    <g clip-path=\"url(#p57eb2c0284)\">\n     <use style=\"fill:#2ca02c;stroke:#ffffff;stroke-width:0.48;\" x=\"338.008712\" xlink:href=\"#C0_0_46e89c1f76\" y=\"447.019073\"/>\n    </g>\n    <g clip-path=\"url(#p57eb2c0284)\">\n     <use style=\"fill:#2ca02c;stroke:#ffffff;stroke-width:0.48;\" x=\"336.535018\" xlink:href=\"#C0_0_46e89c1f76\" y=\"429.000808\"/>\n    </g>\n    <g clip-path=\"url(#p57eb2c0284)\">\n     <use style=\"fill:#2ca02c;stroke:#ffffff;stroke-width:0.48;\" x=\"348.063799\" xlink:href=\"#C0_0_46e89c1f76\" y=\"420.686248\"/>\n    </g>\n    <g clip-path=\"url(#p57eb2c0284)\">\n     <use style=\"fill:#2ca02c;stroke:#ffffff;stroke-width:0.48;\" x=\"321.19572\" xlink:href=\"#C0_0_46e89c1f76\" y=\"445.049808\"/>\n    </g>\n    <g clip-path=\"url(#p57eb2c0284)\">\n     <use style=\"fill:#2ca02c;stroke:#ffffff;stroke-width:0.48;\" x=\"319.284149\" xlink:href=\"#C0_0_46e89c1f76\" y=\"338.390149\"/>\n    </g>\n    <g clip-path=\"url(#p57eb2c0284)\">\n     <use style=\"fill:#ff7f0e;stroke:#ffffff;stroke-width:0.48;\" x=\"388.182298\" xlink:href=\"#C0_0_46e89c1f76\" y=\"276.46547\"/>\n    </g>\n    <g clip-path=\"url(#p57eb2c0284)\">\n     <use style=\"fill:#ff7f0e;stroke:#ffffff;stroke-width:0.48;\" x=\"340.409989\" xlink:href=\"#C0_0_46e89c1f76\" y=\"432.373638\"/>\n    </g>\n    <g clip-path=\"url(#p57eb2c0284)\">\n     <use style=\"fill:#ff7f0e;stroke:#ffffff;stroke-width:0.48;\" x=\"341.039101\" xlink:href=\"#C0_0_46e89c1f76\" y=\"433.690472\"/>\n    </g>\n    <g clip-path=\"url(#p57eb2c0284)\">\n     <use style=\"fill:#2ca02c;stroke:#ffffff;stroke-width:0.48;\" x=\"277.636309\" xlink:href=\"#C0_0_46e89c1f76\" y=\"459.046567\"/>\n    </g>\n    <g clip-path=\"url(#p57eb2c0284)\">\n     <use style=\"fill:#2ca02c;stroke:#ffffff;stroke-width:0.48;\" x=\"347.406434\" xlink:href=\"#C0_0_46e89c1f76\" y=\"436.118893\"/>\n    </g>\n    <g clip-path=\"url(#p57eb2c0284)\">\n     <use style=\"fill:#2ca02c;stroke:#ffffff;stroke-width:0.48;\" x=\"379.824986\" xlink:href=\"#C0_0_46e89c1f76\" y=\"441.352251\"/>\n    </g>\n    <g clip-path=\"url(#p57eb2c0284)\">\n     <use style=\"fill:#1f77b4;stroke:#ffffff;stroke-width:0.48;\" x=\"349.553219\" xlink:href=\"#C0_0_46e89c1f76\" y=\"440.292984\"/>\n    </g>\n    <g clip-path=\"url(#p57eb2c0284)\">\n     <use style=\"fill:#2ca02c;stroke:#ffffff;stroke-width:0.48;\" x=\"310.566242\" xlink:href=\"#C0_0_46e89c1f76\" y=\"467.571732\"/>\n    </g>\n    <g clip-path=\"url(#p57eb2c0284)\">\n     <use style=\"fill:#2ca02c;stroke:#ffffff;stroke-width:0.48;\" x=\"321.70819\" xlink:href=\"#C0_0_46e89c1f76\" y=\"446.070194\"/>\n    </g>\n   </g>\n   <g id=\"PathCollection_2\"/>\n   <g id=\"PathCollection_3\"/>\n   <g id=\"PathCollection_4\"/>\n   <g id=\"matplotlib.axis_1\">\n    <g id=\"xtick_1\">\n     <g id=\"line2d_1\">\n      <defs>\n       <path d=\"M 0 0 \nL 0 3.5 \n\" id=\"mc4380f0910\" style=\"stroke:#000000;stroke-width:0.8;\"/>\n      </defs>\n      <g>\n       <use style=\"stroke:#000000;stroke-width:0.8;\" x=\"129.588474\" xlink:href=\"#mc4380f0910\" y=\"659.52\"/>\n      </g>\n     </g>\n     <g id=\"text_1\">\n      <!-- −15 -->\n      <g transform=\"translate(119.036131 674.118438)scale(0.1 -0.1)\">\n       <defs>\n        <path d=\"M 10.59375 35.5 \nL 73.1875 35.5 \nL 73.1875 27.203125 \nL 10.59375 27.203125 \nz\n\" id=\"DejaVuSans-8722\"/>\n        <path d=\"M 12.40625 8.296875 \nL 28.515625 8.296875 \nL 28.515625 63.921875 \nL 10.984375 60.40625 \nL 10.984375 69.390625 \nL 28.421875 72.90625 \nL 38.28125 72.90625 \nL 38.28125 8.296875 \nL 54.390625 8.296875 \nL 54.390625 0 \nL 12.40625 0 \nz\n\" id=\"DejaVuSans-49\"/>\n        <path d=\"M 10.796875 72.90625 \nL 49.515625 72.90625 \nL 49.515625 64.59375 \nL 19.828125 64.59375 \nL 19.828125 46.734375 \nQ 21.96875 47.46875 24.109375 47.828125 \nQ 26.265625 48.1875 28.421875 48.1875 \nQ 40.625 48.1875 47.75 41.5 \nQ 54.890625 34.8125 54.890625 23.390625 \nQ 54.890625 11.625 47.5625 5.09375 \nQ 40.234375 -1.421875 26.90625 -1.421875 \nQ 22.3125 -1.421875 17.546875 -0.640625 \nQ 12.796875 0.140625 7.71875 1.703125 \nL 7.71875 11.625 \nQ 12.109375 9.234375 16.796875 8.0625 \nQ 21.484375 6.890625 26.703125 6.890625 \nQ 35.15625 6.890625 40.078125 11.328125 \nQ 45.015625 15.765625 45.015625 23.390625 \nQ 45.015625 31 40.078125 35.4375 \nQ 35.15625 39.890625 26.703125 39.890625 \nQ 22.75 39.890625 18.8125 39.015625 \nQ 14.890625 38.140625 10.796875 36.28125 \nz\n\" id=\"DejaVuSans-53\"/>\n       </defs>\n       <use xlink:href=\"#DejaVuSans-8722\"/>\n       <use x=\"83.789062\" xlink:href=\"#DejaVuSans-49\"/>\n       <use x=\"147.412109\" xlink:href=\"#DejaVuSans-53\"/>\n      </g>\n     </g>\n    </g>\n    <g id=\"xtick_2\">\n     <g id=\"line2d_2\">\n      <g>\n       <use style=\"stroke:#000000;stroke-width:0.8;\" x=\"218.770052\" xlink:href=\"#mc4380f0910\" y=\"659.52\"/>\n      </g>\n     </g>\n     <g id=\"text_2\">\n      <!-- −10 -->\n      <g transform=\"translate(208.217708 674.118438)scale(0.1 -0.1)\">\n       <defs>\n        <path d=\"M 31.78125 66.40625 \nQ 24.171875 66.40625 20.328125 58.90625 \nQ 16.5 51.421875 16.5 36.375 \nQ 16.5 21.390625 20.328125 13.890625 \nQ 24.171875 6.390625 31.78125 6.390625 \nQ 39.453125 6.390625 43.28125 13.890625 \nQ 47.125 21.390625 47.125 36.375 \nQ 47.125 51.421875 43.28125 58.90625 \nQ 39.453125 66.40625 31.78125 66.40625 \nz\nM 31.78125 74.21875 \nQ 44.046875 74.21875 50.515625 64.515625 \nQ 56.984375 54.828125 56.984375 36.375 \nQ 56.984375 17.96875 50.515625 8.265625 \nQ 44.046875 -1.421875 31.78125 -1.421875 \nQ 19.53125 -1.421875 13.0625 8.265625 \nQ 6.59375 17.96875 6.59375 36.375 \nQ 6.59375 54.828125 13.0625 64.515625 \nQ 19.53125 74.21875 31.78125 74.21875 \nz\n\" id=\"DejaVuSans-48\"/>\n       </defs>\n       <use xlink:href=\"#DejaVuSans-8722\"/>\n       <use x=\"83.789062\" xlink:href=\"#DejaVuSans-49\"/>\n       <use x=\"147.412109\" xlink:href=\"#DejaVuSans-48\"/>\n      </g>\n     </g>\n    </g>\n    <g id=\"xtick_3\">\n     <g id=\"line2d_3\">\n      <g>\n       <use style=\"stroke:#000000;stroke-width:0.8;\" x=\"307.95163\" xlink:href=\"#mc4380f0910\" y=\"659.52\"/>\n      </g>\n     </g>\n     <g id=\"text_3\">\n      <!-- −5 -->\n      <g transform=\"translate(300.580536 674.118438)scale(0.1 -0.1)\">\n       <use xlink:href=\"#DejaVuSans-8722\"/>\n       <use x=\"83.789062\" xlink:href=\"#DejaVuSans-53\"/>\n      </g>\n     </g>\n    </g>\n    <g id=\"xtick_4\">\n     <g id=\"line2d_4\">\n      <g>\n       <use style=\"stroke:#000000;stroke-width:0.8;\" x=\"397.133207\" xlink:href=\"#mc4380f0910\" y=\"659.52\"/>\n      </g>\n     </g>\n     <g id=\"text_4\">\n      <!-- 0 -->\n      <g transform=\"translate(393.951957 674.118438)scale(0.1 -0.1)\">\n       <use xlink:href=\"#DejaVuSans-48\"/>\n      </g>\n     </g>\n    </g>\n    <g id=\"xtick_5\">\n     <g id=\"line2d_5\">\n      <g>\n       <use style=\"stroke:#000000;stroke-width:0.8;\" x=\"486.314785\" xlink:href=\"#mc4380f0910\" y=\"659.52\"/>\n      </g>\n     </g>\n     <g id=\"text_5\">\n      <!-- 5 -->\n      <g transform=\"translate(483.133535 674.118438)scale(0.1 -0.1)\">\n       <use xlink:href=\"#DejaVuSans-53\"/>\n      </g>\n     </g>\n    </g>\n    <g id=\"xtick_6\">\n     <g id=\"line2d_6\">\n      <g>\n       <use style=\"stroke:#000000;stroke-width:0.8;\" x=\"575.496363\" xlink:href=\"#mc4380f0910\" y=\"659.52\"/>\n      </g>\n     </g>\n     <g id=\"text_6\">\n      <!-- 10 -->\n      <g transform=\"translate(569.133863 674.118438)scale(0.1 -0.1)\">\n       <use xlink:href=\"#DejaVuSans-49\"/>\n       <use x=\"63.623047\" xlink:href=\"#DejaVuSans-48\"/>\n      </g>\n     </g>\n    </g>\n    <g id=\"xtick_7\">\n     <g id=\"line2d_7\">\n      <g>\n       <use style=\"stroke:#000000;stroke-width:0.8;\" x=\"664.67794\" xlink:href=\"#mc4380f0910\" y=\"659.52\"/>\n      </g>\n     </g>\n     <g id=\"text_7\">\n      <!-- 15 -->\n      <g transform=\"translate(658.31544 674.118438)scale(0.1 -0.1)\">\n       <use xlink:href=\"#DejaVuSans-49\"/>\n       <use x=\"63.623047\" xlink:href=\"#DejaVuSans-53\"/>\n      </g>\n     </g>\n    </g>\n    <g id=\"text_8\">\n     <!-- x -->\n     <g transform=\"translate(380.823438 687.796563)scale(0.1 -0.1)\">\n      <defs>\n       <path d=\"M 54.890625 54.6875 \nL 35.109375 28.078125 \nL 55.90625 0 \nL 45.3125 0 \nL 29.390625 21.484375 \nL 13.484375 0 \nL 2.875 0 \nL 24.125 28.609375 \nL 4.6875 54.6875 \nL 15.28125 54.6875 \nL 29.78125 35.203125 \nL 44.28125 54.6875 \nz\n\" id=\"DejaVuSans-120\"/>\n      </defs>\n      <use xlink:href=\"#DejaVuSans-120\"/>\n     </g>\n    </g>\n   </g>\n   <g id=\"matplotlib.axis_2\">\n    <g id=\"ytick_1\">\n     <g id=\"line2d_8\">\n      <defs>\n       <path d=\"M 0 0 \nL -3.5 0 \n\" id=\"m9437273eed\" style=\"stroke:#000000;stroke-width:0.8;\"/>\n      </defs>\n      <g>\n       <use style=\"stroke:#000000;stroke-width:0.8;\" x=\"48.982813\" xlink:href=\"#m9437273eed\" y=\"627.912397\"/>\n      </g>\n     </g>\n     <g id=\"text_9\">\n      <!-- −20 -->\n      <g transform=\"translate(20.878125 631.711616)scale(0.1 -0.1)\">\n       <defs>\n        <path d=\"M 19.1875 8.296875 \nL 53.609375 8.296875 \nL 53.609375 0 \nL 7.328125 0 \nL 7.328125 8.296875 \nQ 12.9375 14.109375 22.625 23.890625 \nQ 32.328125 33.6875 34.8125 36.53125 \nQ 39.546875 41.84375 41.421875 45.53125 \nQ 43.3125 49.21875 43.3125 52.78125 \nQ 43.3125 58.59375 39.234375 62.25 \nQ 35.15625 65.921875 28.609375 65.921875 \nQ 23.96875 65.921875 18.8125 64.3125 \nQ 13.671875 62.703125 7.8125 59.421875 \nL 7.8125 69.390625 \nQ 13.765625 71.78125 18.9375 73 \nQ 24.125 74.21875 28.421875 74.21875 \nQ 39.75 74.21875 46.484375 68.546875 \nQ 53.21875 62.890625 53.21875 53.421875 \nQ 53.21875 48.921875 51.53125 44.890625 \nQ 49.859375 40.875 45.40625 35.40625 \nQ 44.1875 33.984375 37.640625 27.21875 \nQ 31.109375 20.453125 19.1875 8.296875 \nz\n\" id=\"DejaVuSans-50\"/>\n       </defs>\n       <use xlink:href=\"#DejaVuSans-8722\"/>\n       <use x=\"83.789062\" xlink:href=\"#DejaVuSans-50\"/>\n       <use x=\"147.412109\" xlink:href=\"#DejaVuSans-48\"/>\n      </g>\n     </g>\n    </g>\n    <g id=\"ytick_2\">\n     <g id=\"line2d_9\">\n      <g>\n       <use style=\"stroke:#000000;stroke-width:0.8;\" x=\"48.982813\" xlink:href=\"#m9437273eed\" y=\"483.693655\"/>\n      </g>\n     </g>\n     <g id=\"text_10\">\n      <!-- −10 -->\n      <g transform=\"translate(20.878125 487.492874)scale(0.1 -0.1)\">\n       <use xlink:href=\"#DejaVuSans-8722\"/>\n       <use x=\"83.789062\" xlink:href=\"#DejaVuSans-49\"/>\n       <use x=\"147.412109\" xlink:href=\"#DejaVuSans-48\"/>\n      </g>\n     </g>\n    </g>\n    <g id=\"ytick_3\">\n     <g id=\"line2d_10\">\n      <g>\n       <use style=\"stroke:#000000;stroke-width:0.8;\" x=\"48.982813\" xlink:href=\"#m9437273eed\" y=\"339.474913\"/>\n      </g>\n     </g>\n     <g id=\"text_11\">\n      <!-- 0 -->\n      <g transform=\"translate(35.620312 343.274132)scale(0.1 -0.1)\">\n       <use xlink:href=\"#DejaVuSans-48\"/>\n      </g>\n     </g>\n    </g>\n    <g id=\"ytick_4\">\n     <g id=\"line2d_11\">\n      <g>\n       <use style=\"stroke:#000000;stroke-width:0.8;\" x=\"48.982813\" xlink:href=\"#m9437273eed\" y=\"195.256171\"/>\n      </g>\n     </g>\n     <g id=\"text_12\">\n      <!-- 10 -->\n      <g transform=\"translate(29.257812 199.05539)scale(0.1 -0.1)\">\n       <use xlink:href=\"#DejaVuSans-49\"/>\n       <use x=\"63.623047\" xlink:href=\"#DejaVuSans-48\"/>\n      </g>\n     </g>\n    </g>\n    <g id=\"ytick_5\">\n     <g id=\"line2d_12\">\n      <g>\n       <use style=\"stroke:#000000;stroke-width:0.8;\" x=\"48.982813\" xlink:href=\"#m9437273eed\" y=\"51.037429\"/>\n      </g>\n     </g>\n     <g id=\"text_13\">\n      <!-- 20 -->\n      <g transform=\"translate(29.257812 54.836648)scale(0.1 -0.1)\">\n       <use xlink:href=\"#DejaVuSans-50\"/>\n       <use x=\"63.623047\" xlink:href=\"#DejaVuSans-48\"/>\n      </g>\n     </g>\n    </g>\n    <g id=\"text_14\">\n     <!-- y -->\n     <g transform=\"translate(14.798438 336.319375)rotate(-90)scale(0.1 -0.1)\">\n      <defs>\n       <path d=\"M 32.171875 -5.078125 \nQ 28.375 -14.84375 24.75 -17.8125 \nQ 21.140625 -20.796875 15.09375 -20.796875 \nL 7.90625 -20.796875 \nL 7.90625 -13.28125 \nL 13.1875 -13.28125 \nQ 16.890625 -13.28125 18.9375 -11.515625 \nQ 21 -9.765625 23.484375 -3.21875 \nL 25.09375 0.875 \nL 2.984375 54.6875 \nL 12.5 54.6875 \nL 29.59375 11.921875 \nL 46.6875 54.6875 \nL 56.203125 54.6875 \nz\n\" id=\"DejaVuSans-121\"/>\n      </defs>\n      <use xlink:href=\"#DejaVuSans-121\"/>\n     </g>\n    </g>\n   </g>\n   <g id=\"patch_3\">\n    <path d=\"M 48.982813 659.52 \nL 48.982813 7.2 \n\" style=\"fill:none;stroke:#000000;stroke-linecap:square;stroke-linejoin:miter;stroke-width:0.8;\"/>\n   </g>\n   <g id=\"patch_4\">\n    <path d=\"M 718.582813 659.52 \nL 718.582813 7.2 \n\" style=\"fill:none;stroke:#000000;stroke-linecap:square;stroke-linejoin:miter;stroke-width:0.8;\"/>\n   </g>\n   <g id=\"patch_5\">\n    <path d=\"M 48.982813 659.52 \nL 718.582813 659.52 \n\" style=\"fill:none;stroke:#000000;stroke-linecap:square;stroke-linejoin:miter;stroke-width:0.8;\"/>\n   </g>\n   <g id=\"patch_6\">\n    <path d=\"M 48.982813 7.2 \nL 718.582813 7.2 \n\" style=\"fill:none;stroke:#000000;stroke-linecap:square;stroke-linejoin:miter;stroke-width:0.8;\"/>\n   </g>\n   <g id=\"legend_1\">\n    <g id=\"patch_7\">\n     <path d=\"M 611.61875 73.9125 \nL 711.582813 73.9125 \nQ 713.582813 73.9125 713.582813 71.9125 \nL 713.582813 14.2 \nQ 713.582813 12.2 711.582813 12.2 \nL 611.61875 12.2 \nQ 609.61875 12.2 609.61875 14.2 \nL 609.61875 71.9125 \nQ 609.61875 73.9125 611.61875 73.9125 \nz\n\" style=\"fill:#ffffff;opacity:0.8;stroke:#cccccc;stroke-linejoin:miter;\"/>\n    </g>\n    <g id=\"text_15\">\n     <!-- genres -->\n     <g transform=\"translate(644.557031 23.798437)scale(0.1 -0.1)\">\n      <defs>\n       <path d=\"M 45.40625 27.984375 \nQ 45.40625 37.75 41.375 43.109375 \nQ 37.359375 48.484375 30.078125 48.484375 \nQ 22.859375 48.484375 18.828125 43.109375 \nQ 14.796875 37.75 14.796875 27.984375 \nQ 14.796875 18.265625 18.828125 12.890625 \nQ 22.859375 7.515625 30.078125 7.515625 \nQ 37.359375 7.515625 41.375 12.890625 \nQ 45.40625 18.265625 45.40625 27.984375 \nz\nM 54.390625 6.78125 \nQ 54.390625 -7.171875 48.1875 -13.984375 \nQ 42 -20.796875 29.203125 -20.796875 \nQ 24.46875 -20.796875 20.265625 -20.09375 \nQ 16.0625 -19.390625 12.109375 -17.921875 \nL 12.109375 -9.1875 \nQ 16.0625 -11.328125 19.921875 -12.34375 \nQ 23.78125 -13.375 27.78125 -13.375 \nQ 36.625 -13.375 41.015625 -8.765625 \nQ 45.40625 -4.15625 45.40625 5.171875 \nL 45.40625 9.625 \nQ 42.625 4.78125 38.28125 2.390625 \nQ 33.9375 0 27.875 0 \nQ 17.828125 0 11.671875 7.65625 \nQ 5.515625 15.328125 5.515625 27.984375 \nQ 5.515625 40.671875 11.671875 48.328125 \nQ 17.828125 56 27.875 56 \nQ 33.9375 56 38.28125 53.609375 \nQ 42.625 51.21875 45.40625 46.390625 \nL 45.40625 54.6875 \nL 54.390625 54.6875 \nz\n\" id=\"DejaVuSans-103\"/>\n       <path d=\"M 56.203125 29.59375 \nL 56.203125 25.203125 \nL 14.890625 25.203125 \nQ 15.484375 15.921875 20.484375 11.0625 \nQ 25.484375 6.203125 34.421875 6.203125 \nQ 39.59375 6.203125 44.453125 7.46875 \nQ 49.3125 8.734375 54.109375 11.28125 \nL 54.109375 2.78125 \nQ 49.265625 0.734375 44.1875 -0.34375 \nQ 39.109375 -1.421875 33.890625 -1.421875 \nQ 20.796875 -1.421875 13.15625 6.1875 \nQ 5.515625 13.8125 5.515625 26.8125 \nQ 5.515625 40.234375 12.765625 48.109375 \nQ 20.015625 56 32.328125 56 \nQ 43.359375 56 49.78125 48.890625 \nQ 56.203125 41.796875 56.203125 29.59375 \nz\nM 47.21875 32.234375 \nQ 47.125 39.59375 43.09375 43.984375 \nQ 39.0625 48.390625 32.421875 48.390625 \nQ 24.90625 48.390625 20.390625 44.140625 \nQ 15.875 39.890625 15.1875 32.171875 \nz\n\" id=\"DejaVuSans-101\"/>\n       <path d=\"M 54.890625 33.015625 \nL 54.890625 0 \nL 45.90625 0 \nL 45.90625 32.71875 \nQ 45.90625 40.484375 42.875 44.328125 \nQ 39.84375 48.1875 33.796875 48.1875 \nQ 26.515625 48.1875 22.3125 43.546875 \nQ 18.109375 38.921875 18.109375 30.90625 \nL 18.109375 0 \nL 9.078125 0 \nL 9.078125 54.6875 \nL 18.109375 54.6875 \nL 18.109375 46.1875 \nQ 21.34375 51.125 25.703125 53.5625 \nQ 30.078125 56 35.796875 56 \nQ 45.21875 56 50.046875 50.171875 \nQ 54.890625 44.34375 54.890625 33.015625 \nz\n\" id=\"DejaVuSans-110\"/>\n       <path d=\"M 41.109375 46.296875 \nQ 39.59375 47.171875 37.8125 47.578125 \nQ 36.03125 48 33.890625 48 \nQ 26.265625 48 22.1875 43.046875 \nQ 18.109375 38.09375 18.109375 28.8125 \nL 18.109375 0 \nL 9.078125 0 \nL 9.078125 54.6875 \nL 18.109375 54.6875 \nL 18.109375 46.1875 \nQ 20.953125 51.171875 25.484375 53.578125 \nQ 30.03125 56 36.53125 56 \nQ 37.453125 56 38.578125 55.875 \nQ 39.703125 55.765625 41.0625 55.515625 \nz\n\" id=\"DejaVuSans-114\"/>\n       <path d=\"M 44.28125 53.078125 \nL 44.28125 44.578125 \nQ 40.484375 46.53125 36.375 47.5 \nQ 32.28125 48.484375 27.875 48.484375 \nQ 21.1875 48.484375 17.84375 46.4375 \nQ 14.5 44.390625 14.5 40.28125 \nQ 14.5 37.15625 16.890625 35.375 \nQ 19.28125 33.59375 26.515625 31.984375 \nL 29.59375 31.296875 \nQ 39.15625 29.25 43.1875 25.515625 \nQ 47.21875 21.78125 47.21875 15.09375 \nQ 47.21875 7.46875 41.1875 3.015625 \nQ 35.15625 -1.421875 24.609375 -1.421875 \nQ 20.21875 -1.421875 15.453125 -0.5625 \nQ 10.6875 0.296875 5.421875 2 \nL 5.421875 11.28125 \nQ 10.40625 8.6875 15.234375 7.390625 \nQ 20.0625 6.109375 24.8125 6.109375 \nQ 31.15625 6.109375 34.5625 8.28125 \nQ 37.984375 10.453125 37.984375 14.40625 \nQ 37.984375 18.0625 35.515625 20.015625 \nQ 33.0625 21.96875 24.703125 23.78125 \nL 21.578125 24.515625 \nQ 13.234375 26.265625 9.515625 29.90625 \nQ 5.8125 33.546875 5.8125 39.890625 \nQ 5.8125 47.609375 11.28125 51.796875 \nQ 16.75 56 26.8125 56 \nQ 31.78125 56 36.171875 55.265625 \nQ 40.578125 54.546875 44.28125 53.078125 \nz\n\" id=\"DejaVuSans-115\"/>\n      </defs>\n      <use xlink:href=\"#DejaVuSans-103\"/>\n      <use x=\"63.476562\" xlink:href=\"#DejaVuSans-101\"/>\n      <use x=\"125\" xlink:href=\"#DejaVuSans-110\"/>\n      <use x=\"188.378906\" xlink:href=\"#DejaVuSans-114\"/>\n      <use x=\"227.242188\" xlink:href=\"#DejaVuSans-101\"/>\n      <use x=\"288.765625\" xlink:href=\"#DejaVuSans-115\"/>\n     </g>\n    </g>\n    <g id=\"PathCollection_5\">\n     <defs>\n      <path d=\"M 0 3 \nC 0.795609 3 1.55874 2.683901 2.12132 2.12132 \nC 2.683901 1.55874 3 0.795609 3 0 \nC 3 -0.795609 2.683901 -1.55874 2.12132 -2.12132 \nC 1.55874 -2.683901 0.795609 -3 0 -3 \nC -0.795609 -3 -1.55874 -2.683901 -2.12132 -2.12132 \nC -2.683901 -1.55874 -3 -0.795609 -3 0 \nC -3 0.795609 -2.683901 1.55874 -2.12132 2.12132 \nC -1.55874 2.683901 -0.795609 3 0 3 \nz\n\" id=\"m5be6a97fe8\" style=\"stroke:#1f77b4;\"/>\n     </defs>\n     <g>\n      <use style=\"fill:#1f77b4;stroke:#1f77b4;\" x=\"623.61875\" xlink:href=\"#m5be6a97fe8\" y=\"35.851562\"/>\n     </g>\n    </g>\n    <g id=\"text_16\">\n     <!-- Children's -->\n     <g transform=\"translate(641.61875 38.476562)scale(0.1 -0.1)\">\n      <defs>\n       <path d=\"M 64.40625 67.28125 \nL 64.40625 56.890625 \nQ 59.421875 61.53125 53.78125 63.8125 \nQ 48.140625 66.109375 41.796875 66.109375 \nQ 29.296875 66.109375 22.65625 58.46875 \nQ 16.015625 50.828125 16.015625 36.375 \nQ 16.015625 21.96875 22.65625 14.328125 \nQ 29.296875 6.6875 41.796875 6.6875 \nQ 48.140625 6.6875 53.78125 8.984375 \nQ 59.421875 11.28125 64.40625 15.921875 \nL 64.40625 5.609375 \nQ 59.234375 2.09375 53.4375 0.328125 \nQ 47.65625 -1.421875 41.21875 -1.421875 \nQ 24.65625 -1.421875 15.125 8.703125 \nQ 5.609375 18.84375 5.609375 36.375 \nQ 5.609375 53.953125 15.125 64.078125 \nQ 24.65625 74.21875 41.21875 74.21875 \nQ 47.75 74.21875 53.53125 72.484375 \nQ 59.328125 70.75 64.40625 67.28125 \nz\n\" id=\"DejaVuSans-67\"/>\n       <path d=\"M 54.890625 33.015625 \nL 54.890625 0 \nL 45.90625 0 \nL 45.90625 32.71875 \nQ 45.90625 40.484375 42.875 44.328125 \nQ 39.84375 48.1875 33.796875 48.1875 \nQ 26.515625 48.1875 22.3125 43.546875 \nQ 18.109375 38.921875 18.109375 30.90625 \nL 18.109375 0 \nL 9.078125 0 \nL 9.078125 75.984375 \nL 18.109375 75.984375 \nL 18.109375 46.1875 \nQ 21.34375 51.125 25.703125 53.5625 \nQ 30.078125 56 35.796875 56 \nQ 45.21875 56 50.046875 50.171875 \nQ 54.890625 44.34375 54.890625 33.015625 \nz\n\" id=\"DejaVuSans-104\"/>\n       <path d=\"M 9.421875 54.6875 \nL 18.40625 54.6875 \nL 18.40625 0 \nL 9.421875 0 \nz\nM 9.421875 75.984375 \nL 18.40625 75.984375 \nL 18.40625 64.59375 \nL 9.421875 64.59375 \nz\n\" id=\"DejaVuSans-105\"/>\n       <path d=\"M 9.421875 75.984375 \nL 18.40625 75.984375 \nL 18.40625 0 \nL 9.421875 0 \nz\n\" id=\"DejaVuSans-108\"/>\n       <path d=\"M 45.40625 46.390625 \nL 45.40625 75.984375 \nL 54.390625 75.984375 \nL 54.390625 0 \nL 45.40625 0 \nL 45.40625 8.203125 \nQ 42.578125 3.328125 38.25 0.953125 \nQ 33.9375 -1.421875 27.875 -1.421875 \nQ 17.96875 -1.421875 11.734375 6.484375 \nQ 5.515625 14.40625 5.515625 27.296875 \nQ 5.515625 40.1875 11.734375 48.09375 \nQ 17.96875 56 27.875 56 \nQ 33.9375 56 38.25 53.625 \nQ 42.578125 51.265625 45.40625 46.390625 \nz\nM 14.796875 27.296875 \nQ 14.796875 17.390625 18.875 11.75 \nQ 22.953125 6.109375 30.078125 6.109375 \nQ 37.203125 6.109375 41.296875 11.75 \nQ 45.40625 17.390625 45.40625 27.296875 \nQ 45.40625 37.203125 41.296875 42.84375 \nQ 37.203125 48.484375 30.078125 48.484375 \nQ 22.953125 48.484375 18.875 42.84375 \nQ 14.796875 37.203125 14.796875 27.296875 \nz\n\" id=\"DejaVuSans-100\"/>\n       <path d=\"M 17.921875 72.90625 \nL 17.921875 45.796875 \nL 9.625 45.796875 \nL 9.625 72.90625 \nz\n\" id=\"DejaVuSans-39\"/>\n      </defs>\n      <use xlink:href=\"#DejaVuSans-67\"/>\n      <use x=\"69.824219\" xlink:href=\"#DejaVuSans-104\"/>\n      <use x=\"133.203125\" xlink:href=\"#DejaVuSans-105\"/>\n      <use x=\"160.986328\" xlink:href=\"#DejaVuSans-108\"/>\n      <use x=\"188.769531\" xlink:href=\"#DejaVuSans-100\"/>\n      <use x=\"252.246094\" xlink:href=\"#DejaVuSans-114\"/>\n      <use x=\"291.109375\" xlink:href=\"#DejaVuSans-101\"/>\n      <use x=\"352.632812\" xlink:href=\"#DejaVuSans-110\"/>\n      <use x=\"416.011719\" xlink:href=\"#DejaVuSans-39\"/>\n      <use x=\"443.501953\" xlink:href=\"#DejaVuSans-115\"/>\n     </g>\n    </g>\n    <g id=\"PathCollection_6\">\n     <defs>\n      <path d=\"M 0 3 \nC 0.795609 3 1.55874 2.683901 2.12132 2.12132 \nC 2.683901 1.55874 3 0.795609 3 0 \nC 3 -0.795609 2.683901 -1.55874 2.12132 -2.12132 \nC 1.55874 -2.683901 0.795609 -3 0 -3 \nC -0.795609 -3 -1.55874 -2.683901 -2.12132 -2.12132 \nC -2.683901 -1.55874 -3 -0.795609 -3 0 \nC -3 0.795609 -2.683901 1.55874 -2.12132 2.12132 \nC -1.55874 2.683901 -0.795609 3 0 3 \nz\n\" id=\"m30aebe4b0b\" style=\"stroke:#ff7f0e;\"/>\n     </defs>\n     <g>\n      <use style=\"fill:#ff7f0e;stroke:#ff7f0e;\" x=\"623.61875\" xlink:href=\"#m30aebe4b0b\" y=\"50.529688\"/>\n     </g>\n    </g>\n    <g id=\"text_17\">\n     <!-- Horror -->\n     <g transform=\"translate(641.61875 53.154688)scale(0.1 -0.1)\">\n      <defs>\n       <path d=\"M 9.8125 72.90625 \nL 19.671875 72.90625 \nL 19.671875 43.015625 \nL 55.515625 43.015625 \nL 55.515625 72.90625 \nL 65.375 72.90625 \nL 65.375 0 \nL 55.515625 0 \nL 55.515625 34.71875 \nL 19.671875 34.71875 \nL 19.671875 0 \nL 9.8125 0 \nz\n\" id=\"DejaVuSans-72\"/>\n       <path d=\"M 30.609375 48.390625 \nQ 23.390625 48.390625 19.1875 42.75 \nQ 14.984375 37.109375 14.984375 27.296875 \nQ 14.984375 17.484375 19.15625 11.84375 \nQ 23.34375 6.203125 30.609375 6.203125 \nQ 37.796875 6.203125 41.984375 11.859375 \nQ 46.1875 17.53125 46.1875 27.296875 \nQ 46.1875 37.015625 41.984375 42.703125 \nQ 37.796875 48.390625 30.609375 48.390625 \nz\nM 30.609375 56 \nQ 42.328125 56 49.015625 48.375 \nQ 55.71875 40.765625 55.71875 27.296875 \nQ 55.71875 13.875 49.015625 6.21875 \nQ 42.328125 -1.421875 30.609375 -1.421875 \nQ 18.84375 -1.421875 12.171875 6.21875 \nQ 5.515625 13.875 5.515625 27.296875 \nQ 5.515625 40.765625 12.171875 48.375 \nQ 18.84375 56 30.609375 56 \nz\n\" id=\"DejaVuSans-111\"/>\n      </defs>\n      <use xlink:href=\"#DejaVuSans-72\"/>\n      <use x=\"75.195312\" xlink:href=\"#DejaVuSans-111\"/>\n      <use x=\"136.376953\" xlink:href=\"#DejaVuSans-114\"/>\n      <use x=\"175.740234\" xlink:href=\"#DejaVuSans-114\"/>\n      <use x=\"214.603516\" xlink:href=\"#DejaVuSans-111\"/>\n      <use x=\"275.785156\" xlink:href=\"#DejaVuSans-114\"/>\n     </g>\n    </g>\n    <g id=\"PathCollection_7\">\n     <defs>\n      <path d=\"M 0 3 \nC 0.795609 3 1.55874 2.683901 2.12132 2.12132 \nC 2.683901 1.55874 3 0.795609 3 0 \nC 3 -0.795609 2.683901 -1.55874 2.12132 -2.12132 \nC 1.55874 -2.683901 0.795609 -3 0 -3 \nC -0.795609 -3 -1.55874 -2.683901 -2.12132 -2.12132 \nC -2.683901 -1.55874 -3 -0.795609 -3 0 \nC -3 0.795609 -2.683901 1.55874 -2.12132 2.12132 \nC -1.55874 2.683901 -0.795609 3 0 3 \nz\n\" id=\"m32f5d61095\" style=\"stroke:#2ca02c;\"/>\n     </defs>\n     <g>\n      <use style=\"fill:#2ca02c;stroke:#2ca02c;\" x=\"623.61875\" xlink:href=\"#m32f5d61095\" y=\"65.207813\"/>\n     </g>\n    </g>\n    <g id=\"text_18\">\n     <!-- Documentary -->\n     <g transform=\"translate(641.61875 67.832813)scale(0.1 -0.1)\">\n      <defs>\n       <path d=\"M 19.671875 64.796875 \nL 19.671875 8.109375 \nL 31.59375 8.109375 \nQ 46.6875 8.109375 53.6875 14.9375 \nQ 60.6875 21.78125 60.6875 36.53125 \nQ 60.6875 51.171875 53.6875 57.984375 \nQ 46.6875 64.796875 31.59375 64.796875 \nz\nM 9.8125 72.90625 \nL 30.078125 72.90625 \nQ 51.265625 72.90625 61.171875 64.09375 \nQ 71.09375 55.28125 71.09375 36.53125 \nQ 71.09375 17.671875 61.125 8.828125 \nQ 51.171875 0 30.078125 0 \nL 9.8125 0 \nz\n\" id=\"DejaVuSans-68\"/>\n       <path d=\"M 48.78125 52.59375 \nL 48.78125 44.1875 \nQ 44.96875 46.296875 41.140625 47.34375 \nQ 37.3125 48.390625 33.40625 48.390625 \nQ 24.65625 48.390625 19.8125 42.84375 \nQ 14.984375 37.3125 14.984375 27.296875 \nQ 14.984375 17.28125 19.8125 11.734375 \nQ 24.65625 6.203125 33.40625 6.203125 \nQ 37.3125 6.203125 41.140625 7.25 \nQ 44.96875 8.296875 48.78125 10.40625 \nL 48.78125 2.09375 \nQ 45.015625 0.34375 40.984375 -0.53125 \nQ 36.96875 -1.421875 32.421875 -1.421875 \nQ 20.0625 -1.421875 12.78125 6.34375 \nQ 5.515625 14.109375 5.515625 27.296875 \nQ 5.515625 40.671875 12.859375 48.328125 \nQ 20.21875 56 33.015625 56 \nQ 37.15625 56 41.109375 55.140625 \nQ 45.0625 54.296875 48.78125 52.59375 \nz\n\" id=\"DejaVuSans-99\"/>\n       <path d=\"M 8.5 21.578125 \nL 8.5 54.6875 \nL 17.484375 54.6875 \nL 17.484375 21.921875 \nQ 17.484375 14.15625 20.5 10.265625 \nQ 23.53125 6.390625 29.59375 6.390625 \nQ 36.859375 6.390625 41.078125 11.03125 \nQ 45.3125 15.671875 45.3125 23.6875 \nL 45.3125 54.6875 \nL 54.296875 54.6875 \nL 54.296875 0 \nL 45.3125 0 \nL 45.3125 8.40625 \nQ 42.046875 3.421875 37.71875 1 \nQ 33.40625 -1.421875 27.6875 -1.421875 \nQ 18.265625 -1.421875 13.375 4.4375 \nQ 8.5 10.296875 8.5 21.578125 \nz\nM 31.109375 56 \nz\n\" id=\"DejaVuSans-117\"/>\n       <path d=\"M 52 44.1875 \nQ 55.375 50.25 60.0625 53.125 \nQ 64.75 56 71.09375 56 \nQ 79.640625 56 84.28125 50.015625 \nQ 88.921875 44.046875 88.921875 33.015625 \nL 88.921875 0 \nL 79.890625 0 \nL 79.890625 32.71875 \nQ 79.890625 40.578125 77.09375 44.375 \nQ 74.3125 48.1875 68.609375 48.1875 \nQ 61.625 48.1875 57.5625 43.546875 \nQ 53.515625 38.921875 53.515625 30.90625 \nL 53.515625 0 \nL 44.484375 0 \nL 44.484375 32.71875 \nQ 44.484375 40.625 41.703125 44.40625 \nQ 38.921875 48.1875 33.109375 48.1875 \nQ 26.21875 48.1875 22.15625 43.53125 \nQ 18.109375 38.875 18.109375 30.90625 \nL 18.109375 0 \nL 9.078125 0 \nL 9.078125 54.6875 \nL 18.109375 54.6875 \nL 18.109375 46.1875 \nQ 21.1875 51.21875 25.484375 53.609375 \nQ 29.78125 56 35.6875 56 \nQ 41.65625 56 45.828125 52.96875 \nQ 50 49.953125 52 44.1875 \nz\n\" id=\"DejaVuSans-109\"/>\n       <path d=\"M 18.3125 70.21875 \nL 18.3125 54.6875 \nL 36.8125 54.6875 \nL 36.8125 47.703125 \nL 18.3125 47.703125 \nL 18.3125 18.015625 \nQ 18.3125 11.328125 20.140625 9.421875 \nQ 21.96875 7.515625 27.59375 7.515625 \nL 36.8125 7.515625 \nL 36.8125 0 \nL 27.59375 0 \nQ 17.1875 0 13.234375 3.875 \nQ 9.28125 7.765625 9.28125 18.015625 \nL 9.28125 47.703125 \nL 2.6875 47.703125 \nL 2.6875 54.6875 \nL 9.28125 54.6875 \nL 9.28125 70.21875 \nz\n\" id=\"DejaVuSans-116\"/>\n       <path d=\"M 34.28125 27.484375 \nQ 23.390625 27.484375 19.1875 25 \nQ 14.984375 22.515625 14.984375 16.5 \nQ 14.984375 11.71875 18.140625 8.90625 \nQ 21.296875 6.109375 26.703125 6.109375 \nQ 34.1875 6.109375 38.703125 11.40625 \nQ 43.21875 16.703125 43.21875 25.484375 \nL 43.21875 27.484375 \nz\nM 52.203125 31.203125 \nL 52.203125 0 \nL 43.21875 0 \nL 43.21875 8.296875 \nQ 40.140625 3.328125 35.546875 0.953125 \nQ 30.953125 -1.421875 24.3125 -1.421875 \nQ 15.921875 -1.421875 10.953125 3.296875 \nQ 6 8.015625 6 15.921875 \nQ 6 25.140625 12.171875 29.828125 \nQ 18.359375 34.515625 30.609375 34.515625 \nL 43.21875 34.515625 \nL 43.21875 35.40625 \nQ 43.21875 41.609375 39.140625 45 \nQ 35.0625 48.390625 27.6875 48.390625 \nQ 23 48.390625 18.546875 47.265625 \nQ 14.109375 46.140625 10.015625 43.890625 \nL 10.015625 52.203125 \nQ 14.9375 54.109375 19.578125 55.046875 \nQ 24.21875 56 28.609375 56 \nQ 40.484375 56 46.34375 49.84375 \nQ 52.203125 43.703125 52.203125 31.203125 \nz\n\" id=\"DejaVuSans-97\"/>\n      </defs>\n      <use xlink:href=\"#DejaVuSans-68\"/>\n      <use x=\"77.001953\" xlink:href=\"#DejaVuSans-111\"/>\n      <use x=\"138.183594\" xlink:href=\"#DejaVuSans-99\"/>\n      <use x=\"193.164062\" xlink:href=\"#DejaVuSans-117\"/>\n      <use x=\"256.542969\" xlink:href=\"#DejaVuSans-109\"/>\n      <use x=\"353.955078\" xlink:href=\"#DejaVuSans-101\"/>\n      <use x=\"415.478516\" xlink:href=\"#DejaVuSans-110\"/>\n      <use x=\"478.857422\" xlink:href=\"#DejaVuSans-116\"/>\n      <use x=\"518.066406\" xlink:href=\"#DejaVuSans-97\"/>\n      <use x=\"579.345703\" xlink:href=\"#DejaVuSans-114\"/>\n      <use x=\"620.458984\" xlink:href=\"#DejaVuSans-121\"/>\n     </g>\n    </g>\n   </g>\n  </g>\n </g>\n <defs>\n  <clipPath id=\"p57eb2c0284\">\n   <rect height=\"652.32\" width=\"669.6\" x=\"48.982813\" y=\"7.2\"/>\n  </clipPath>\n </defs>\n</svg>\n",
      "image/png": "[encoded data removed]"
     },
     "metadata": {
      "needs_background": "light"
     }
    }
   ],
   "metadata": {}
  },
  {
   "cell_type": "code",
   "execution_count": 61,
   "source": [
    "import torch.functional as F \n",
    "\n",
    "star_wars_5_index = torch.tensor(6297, device=device)\n",
    "star_war_embeddings = model.embeddings(star_wars_5_index)\n",
    "cosine_similiarities = torch.tensor([F.cosine_similarity(star_war_embeddings, i, dim=0) for i in movie_embeddings])\n",
    "movies.iloc[cosine_similiarities.argsort(descending=True).detach().numpy()]['title'].values[:10]"
   ],
   "outputs": [
    {
     "output_type": "execute_result",
     "data": {
      "text/plain": [
       "array(['Star Wars: Episode IV - A New Hope (1977)',\n",
       "       'Star Wars: Episode V - The Empire Strikes Back (1980)',\n",
       "       'Star Wars: Episode VI - Return of the Jedi (1983)',\n",
       "       'Raiders of the Lost Ark (1981)',\n",
       "       'Indiana Jones and the Last Crusade (1989)', 'Ghostbusters (1984)',\n",
       "       'Star Wars: Episode I - The Phantom Menace (1999)',\n",
       "       'Batman (1989)', 'Princess Bride, The (1987)',\n",
       "       'Back to the Future (1985)'], dtype=object)"
      ]
     },
     "metadata": {},
     "execution_count": 61
    }
   ],
   "metadata": {}
  },
  {
   "cell_type": "code",
   "execution_count": 62,
   "source": [
    "man_embedding = model.embeddings(torch.tensor(9754, device=device))\n",
    "age18_25_embedding = model.embeddings(torch.tensor(9747, device=device))\n",
    "meta_embedding = man_embedding + age18_25_embedding\n",
    "rankings = movie_biases.squeeze() + (meta_embedding*movie_embeddings).sum(1)\n",
    "[i for i in movies.iloc[rankings.argsort(descending=True).cpu()]['title'].values][:10]"
   ],
   "outputs": [
    {
     "output_type": "execute_result",
     "data": {
      "text/plain": [
       "['Shawshank Redemption, The (1994)',\n",
       " 'Usual Suspects, The (1995)',\n",
       " 'American Beauty (1999)',\n",
       " 'Godfather, The (1972)',\n",
       " 'Life Is Beautiful (La Vita è bella) (1997)',\n",
       " 'Braveheart (1995)',\n",
       " 'Monty Python and the Holy Grail (1974)',\n",
       " 'Sanjuro (1962)',\n",
       " 'Star Wars: Episode V - The Empire Strikes Back (1980)',\n",
       " 'GoodFellas (1990)']"
      ]
     },
     "metadata": {},
     "execution_count": 62
    }
   ],
   "metadata": {}
  },
  {
   "cell_type": "code",
   "execution_count": 64,
   "source": [
    "from elasticsearch import Elasticsearch, helpers"
   ],
   "outputs": [],
   "metadata": {}
  },
  {
   "cell_type": "code",
   "execution_count": 65,
   "source": [
    "es = Elasticsearch()"
   ],
   "outputs": [],
   "metadata": {}
  },
  {
   "cell_type": "code",
   "execution_count": 177,
   "source": [
    "recsys_mapping = {\n",
    "  \"mappings\": {\n",
    "    \"properties\": {\n",
    "      \"feature_type\":{\n",
    "        \"type\":\"keyword\"\n",
    "      },\n",
    "      \"embedding\": {\n",
    "        \"type\": \"dense_vector\",\n",
    "        \"dims\": 120\n",
    "      },\n",
    "      \"bias\": {\n",
    "        \"type\":\"double\"\n",
    "      },\n",
    "      \"title\" : {\n",
    "        \"type\" : \"keyword\"\n",
    "      }\n",
    "    }\n",
    "  }\n",
    "}\n",
    "\n",
    "\n",
    "try:\n",
    "    es.indices.delete(index='recsys')\n",
    "except Exception as e:\n",
    "    print(e)\n",
    "finally:\n",
    "    try:\n",
    "      es.indices.create(index='recsys', body=recsys_mapping)\n",
    "    except:\n",
    "      print(e)\n",
    "    finally:\n",
    "      pprint(es.indices.get(index='recsys'))"
   ],
   "outputs": [
    {
     "output_type": "stream",
     "name": "stderr",
     "text": [
      "/Users/seokwoo/opt/anaconda3/envs/bert/lib/python3.7/site-packages/elasticsearch/connection/base.py:208: ElasticsearchWarning: Elasticsearch built-in security features are not enabled. Without authentication, your cluster could be accessible to anyone. See https://www.elastic.co/guide/en/elasticsearch/reference/7.13/security-minimal-setup.html to enable security.\n",
      "  warnings.warn(message, category=ElasticsearchWarning)\n"
     ]
    },
    {
     "output_type": "stream",
     "name": "stdout",
     "text": [
      "{'recsys': {'aliases': {},\n",
      "            'mappings': {'properties': {'bias': {'type': 'double'},\n",
      "                                        'embedding': {'dims': 120,\n",
      "                                                      'type': 'dense_vector'},\n",
      "                                        'feature_type': {'type': 'keyword'},\n",
      "                                        'title': {'type': 'keyword'}}},\n",
      "            'settings': {'index': {'creation_date': '1630244604291',\n",
      "                                   'number_of_replicas': '1',\n",
      "                                   'number_of_shards': '1',\n",
      "                                   'provided_name': 'recsys',\n",
      "                                   'routing': {'allocation': {'include': {'_tier_preference': 'data_content'}}},\n",
      "                                   'uuid': 'XBXxslnEQxehMbVEj4WWsw',\n",
      "                                   'version': {'created': '7130099'}}}}}\n"
     ]
    }
   ],
   "metadata": {}
  },
  {
   "cell_type": "markdown",
   "source": [],
   "metadata": {}
  },
  {
   "cell_type": "code",
   "execution_count": 178,
   "source": [
    "def generate_movie_docs():\n",
    "    for i, movie in movies.iterrows():\n",
    "        movie['embedding'] = [abs(v) for v in movie['embedding']]\n",
    "        yield {\n",
    "            '_index' : 'recsys',\n",
    "            '_id' : f'movie_{movie[\"movieId\"]}',\n",
    "            '_source' : {'embedding' : movie['embedding'],\n",
    "                        'bias' : movie['bias'],\n",
    "                        'feature_type' : 'movie',\n",
    "                        'title' : movie['title']\n",
    "                        }\n",
    "        }"
   ],
   "outputs": [],
   "metadata": {}
  },
  {
   "cell_type": "code",
   "execution_count": 179,
   "source": [
    "helpers.bulk(es, generate_movie_docs())"
   ],
   "outputs": [
    {
     "output_type": "stream",
     "name": "stderr",
     "text": [
      "/Users/seokwoo/opt/anaconda3/envs/bert/lib/python3.7/site-packages/elasticsearch/connection/base.py:208: ElasticsearchWarning: Elasticsearch built-in security features are not enabled. Without authentication, your cluster could be accessible to anyone. See https://www.elastic.co/guide/en/elasticsearch/reference/7.13/security-minimal-setup.html to enable security.\n",
      "  warnings.warn(message, category=ElasticsearchWarning)\n"
     ]
    },
    {
     "output_type": "execute_result",
     "data": {
      "text/plain": [
       "(3706, [])"
      ]
     },
     "metadata": {},
     "execution_count": 179
    }
   ],
   "metadata": {}
  },
  {
   "cell_type": "code",
   "execution_count": 180,
   "source": [
    "users = ratings.drop_duplicates('userId_index').copy()\n",
    "users['embedding'] = model.embeddings(torch.tensor(users['userId_index'].values, device=device)).tolist()\n",
    "users['bias'] = model.bias(torch.tensor(users['userId_index'].values, device=device)).detach().numpy()"
   ],
   "outputs": [],
   "metadata": {}
  },
  {
   "cell_type": "code",
   "execution_count": 181,
   "source": [
    "def generate_user_docs():\n",
    "    for i, user in users.iterrows():\n",
    "        yield {\n",
    "            '_index' : 'recsys',\n",
    "            '_id' : f'user_{user[\"userId\"]}',\n",
    "            '_source' : {'embedding' : user['embedding'],\n",
    "                        'bias': user['bias'],\n",
    "                        'feature_type' : 'user',\n",
    "                        }\n",
    "        }"
   ],
   "outputs": [],
   "metadata": {}
  },
  {
   "cell_type": "code",
   "execution_count": 182,
   "source": [
    "helpers.bulk(es, generate_user_docs())"
   ],
   "outputs": [
    {
     "output_type": "execute_result",
     "data": {
      "text/plain": [
       "(6040, [])"
      ]
     },
     "metadata": {},
     "execution_count": 182
    }
   ],
   "metadata": {}
  },
  {
   "cell_type": "code",
   "execution_count": 183,
   "source": [
    "ages = [i+features_offsets['age_index'] for i in range(features_sizes['age_index'])]"
   ],
   "outputs": [],
   "metadata": {}
  },
  {
   "cell_type": "code",
   "execution_count": 184,
   "source": [
    "def generate_age_docs():\n",
    "    for age_index in ages:\n",
    "        yield {\n",
    "            '_index' : 'recsys',\n",
    "            '_id' : f'age_{age_index}',\n",
    "            '_source' : {'embedding' : model.embeddings(torch.tensor(age_index, device=device)).tolist(),\n",
    "                        'bias' : model.bias(torch.tensor(age_index, device=device)).item(),\n",
    "                        'feature_type' : 'age'\n",
    "                        }\n",
    "        }"
   ],
   "outputs": [],
   "metadata": {}
  },
  {
   "cell_type": "code",
   "execution_count": 185,
   "source": [
    "helpers.bulk(es, generate_age_docs())"
   ],
   "outputs": [
    {
     "output_type": "execute_result",
     "data": {
      "text/plain": [
       "(7, [])"
      ]
     },
     "metadata": {},
     "execution_count": 185
    }
   ],
   "metadata": {}
  },
  {
   "cell_type": "code",
   "execution_count": 186,
   "source": [
    "genders = [i+features_offsets['gender_index'] for i in range(features_sizes['gender_index'])]"
   ],
   "outputs": [],
   "metadata": {}
  },
  {
   "cell_type": "code",
   "execution_count": 187,
   "source": [
    "def generate_gender_docs():\n",
    "    for gender_index in genders:\n",
    "        yield {\n",
    "            '_index' : 'recsys',\n",
    "            '_id' : f'gender_{gender_index}',\n",
    "            '_source' : {'embedding' : model.embeddings(torch.tensor(gender_index, device=device)).tolist(),\n",
    "                        'bias' : model.bias(torch.tensor(gender_index, device=device)).item(),\n",
    "                        'feature_type' : 'gender',\n",
    "            }\n",
    "        }"
   ],
   "outputs": [],
   "metadata": {}
  },
  {
   "cell_type": "code",
   "execution_count": 188,
   "source": [
    "helpers.bulk(es, generate_gender_docs())"
   ],
   "outputs": [
    {
     "output_type": "execute_result",
     "data": {
      "text/plain": [
       "(2, [])"
      ]
     },
     "metadata": {},
     "execution_count": 188
    }
   ],
   "metadata": {}
  },
  {
   "cell_type": "code",
   "execution_count": 189,
   "source": [
    "occupations = [i + features_offsets['occupation_index'] for i in range(features_sizes['occupation_index'])]"
   ],
   "outputs": [],
   "metadata": {}
  },
  {
   "cell_type": "code",
   "execution_count": 190,
   "source": [
    "def generate_occupation_docs():\n",
    "    for occupation_index in occupations:\n",
    "        yield {\n",
    "            '_index' : 'recsys',\n",
    "            '_id' : f'occupation_{occupation_index}',\n",
    "            '_source' : {'embedding' : model.embeddings(torch.tensor(occupation_index, device=device)).tolist(),\n",
    "                        'bias' : model.bias(torch.tensor(occupation_index, device=device)).item(),\n",
    "                        'feature_type' : 'occupation',\n",
    "                        }\n",
    "        }"
   ],
   "outputs": [],
   "metadata": {}
  },
  {
   "cell_type": "code",
   "execution_count": 191,
   "source": [
    "helpers.bulk(es, generate_occupation_docs())"
   ],
   "outputs": [
    {
     "output_type": "execute_result",
     "data": {
      "text/plain": [
       "(21, [])"
      ]
     },
     "metadata": {},
     "execution_count": 191
    }
   ],
   "metadata": {}
  },
  {
   "cell_type": "code",
   "execution_count": 192,
   "source": [
    "pprint(es.indices.get(index='recsys'))"
   ],
   "outputs": [
    {
     "output_type": "stream",
     "name": "stdout",
     "text": [
      "{'recsys': {'aliases': {},\n",
      "            'mappings': {'properties': {'bias': {'type': 'double'},\n",
      "                                        'embedding': {'dims': 120,\n",
      "                                                      'type': 'dense_vector'},\n",
      "                                        'feature_type': {'type': 'keyword'},\n",
      "                                        'title': {'type': 'keyword'}}},\n",
      "            'settings': {'index': {'creation_date': '1630244604291',\n",
      "                                   'number_of_replicas': '1',\n",
      "                                   'number_of_shards': '1',\n",
      "                                   'provided_name': 'recsys',\n",
      "                                   'routing': {'allocation': {'include': {'_tier_preference': 'data_content'}}},\n",
      "                                   'uuid': 'XBXxslnEQxehMbVEj4WWsw',\n",
      "                                   'version': {'created': '7130099'}}}}}\n"
     ]
    }
   ],
   "metadata": {}
  },
  {
   "cell_type": "code",
   "execution_count": 193,
   "source": [
    "metadata = es.mget({\"docs\" : [\n",
    "    {\n",
    "        \"_index\" : \"recsys\",\n",
    "        \"_id\" : \"age_9747\"\n",
    "    },\n",
    "    {\n",
    "        \"_index\" : \"recsys\",\n",
    "        \"_id\" : \"gender_9754\"\n",
    "    }\n",
    "]})"
   ],
   "outputs": [],
   "metadata": {}
  },
  {
   "cell_type": "code",
   "execution_count": 194,
   "source": [
    "from pprint import pprint \n",
    "\n",
    "pprint(metadata)"
   ],
   "outputs": [
    {
     "output_type": "stream",
     "name": "stdout",
     "text": [
      "{'docs': [{'_id': 'age_9747',\n",
      "           '_index': 'recsys',\n",
      "           '_primary_term': 1,\n",
      "           '_seq_no': 9747,\n",
      "           '_source': {'bias': 0.04977013170719147,\n",
      "                       'embedding': [-0.017717693001031876,\n",
      "                                     -0.015451682731509209,\n",
      "                                     0.02026461809873581,\n",
      "                                     0.059114061295986176,\n",
      "                                     0.031505413353443146,\n",
      "                                     -0.04306042566895485,\n",
      "                                     0.01051869336515665,\n",
      "                                     -0.01670573465526104,\n",
      "                                     0.025431832298636436,\n",
      "                                     -0.014832258224487305,\n",
      "                                     0.052585914731025696,\n",
      "                                     0.005719239357858896,\n",
      "                                     0.02500726655125618,\n",
      "                                     -0.1374354511499405,\n",
      "                                     0.26173076033592224,\n",
      "                                     0.012295612134039402,\n",
      "                                     -0.02498306892812252,\n",
      "                                     -0.009584066458046436,\n",
      "                                     -0.025793682783842087,\n",
      "                                     0.032132338732481,\n",
      "                                     0.014044119045138359,\n",
      "                                     0.011681943200528622,\n",
      "                                     0.2637936472892761,\n",
      "                                     -0.04851772263646126,\n",
      "                                     -0.024850431829690933,\n",
      "                                     -0.05029629170894623,\n",
      "                                     0.04273923113942146,\n",
      "                                     -0.008416775614023209,\n",
      "                                     -0.016211455687880516,\n",
      "                                     -0.030956242233514786,\n",
      "                                     -0.009248550049960613,\n",
      "                                     -0.0022075807210057974,\n",
      "                                     -0.0801631435751915,\n",
      "                                     0.02139950357377529,\n",
      "                                     0.0012262486852705479,\n",
      "                                     -0.014282548800110817,\n",
      "                                     0.05543037876486778,\n",
      "                                     0.0582103431224823,\n",
      "                                     -0.029988083988428116,\n",
      "                                     -0.05506853759288788,\n",
      "                                     0.07080220431089401,\n",
      "                                     0.014459580183029175,\n",
      "                                     -0.04196241870522499,\n",
      "                                     -0.048809681087732315,\n",
      "                                     0.04861041530966759,\n",
      "                                     -0.0320628397166729,\n",
      "                                     0.01536270696669817,\n",
      "                                     0.0011603186139836907,\n",
      "                                     0.006292958278208971,\n",
      "                                     0.045499131083488464,\n",
      "                                     0.02342543564736843,\n",
      "                                     -0.0003388171608094126,\n",
      "                                     0.07071607559919357,\n",
      "                                     0.1001235619187355,\n",
      "                                     0.017547866329550743,\n",
      "                                     -0.00026036237250082195,\n",
      "                                     0.02774009481072426,\n",
      "                                     -0.01795058511197567,\n",
      "                                     -0.042898934334516525,\n",
      "                                     -0.09408549964427948,\n",
      "                                     -0.02689949795603752,\n",
      "                                     -0.01802312210202217,\n",
      "                                     0.006516474299132824,\n",
      "                                     0.019458455964922905,\n",
      "                                     -0.03779656067490578,\n",
      "                                     -0.009542022831737995,\n",
      "                                     -0.01669837348163128,\n",
      "                                     -0.03550580516457558,\n",
      "                                     0.0057956762611866,\n",
      "                                     0.015402330085635185,\n",
      "                                     0.13783562183380127,\n",
      "                                     -0.005869843531399965,\n",
      "                                     0.023332197219133377,\n",
      "                                     -0.053340550512075424,\n",
      "                                     0.029854949563741684,\n",
      "                                     0.08145729452371597,\n",
      "                                     -0.05720353499054909,\n",
      "                                     0.04104981943964958,\n",
      "                                     -0.03463659808039665,\n",
      "                                     -0.00807708129286766,\n",
      "                                     0.026109717786312103,\n",
      "                                     0.06539648026227951,\n",
      "                                     -0.035342540591955185,\n",
      "                                     0.033435992896556854,\n",
      "                                     -0.05278206244111061,\n",
      "                                     0.042962606996297836,\n",
      "                                     -0.025359518826007843,\n",
      "                                     0.056163057684898376,\n",
      "                                     0.0016451735282316804,\n",
      "                                     0.017733924090862274,\n",
      "                                     -0.026454869657754898,\n",
      "                                     0.01484915055334568,\n",
      "                                     -0.09151517599821091,\n",
      "                                     -0.5523824095726013,\n",
      "                                     -0.053860925137996674,\n",
      "                                     0.08246348798274994,\n",
      "                                     0.028674567118287086,\n",
      "                                     0.014243175275623798,\n",
      "                                     -0.04321775957942009,\n",
      "                                     -0.045654866844415665,\n",
      "                                     0.08769470453262329,\n",
      "                                     -0.02861943282186985,\n",
      "                                     0.026198411360383034,\n",
      "                                     -0.01261124573647976,\n",
      "                                     0.006251070648431778,\n",
      "                                     0.046142205595970154,\n",
      "                                     0.027697602286934853,\n",
      "                                     -0.012631954625248909,\n",
      "                                     -0.15964508056640625,\n",
      "                                     0.004254868254065514,\n",
      "                                     -0.04380283132195473,\n",
      "                                     0.022333234548568726,\n",
      "                                     0.0011958302929997444,\n",
      "                                     0.003467189148068428,\n",
      "                                     0.04831434413790703,\n",
      "                                     -0.010192728601396084,\n",
      "                                     0.034498631954193115,\n",
      "                                     0.0435798205435276,\n",
      "                                     0.0006337142549455166,\n",
      "                                     0.015401298180222511],\n",
      "                       'feature_type': 'age'},\n",
      "           '_type': '_doc',\n",
      "           '_version': 1,\n",
      "           'found': True},\n",
      "          {'_id': 'gender_9754',\n",
      "           '_index': 'recsys',\n",
      "           '_primary_term': 1,\n",
      "           '_seq_no': 9754,\n",
      "           '_source': {'bias': 0.06539717316627502,\n",
      "                       'embedding': [-0.03622676432132721,\n",
      "                                     0.014263555407524109,\n",
      "                                     0.0020121007692068815,\n",
      "                                     0.01074590627104044,\n",
      "                                     0.014006208628416061,\n",
      "                                     -0.00687950337305665,\n",
      "                                     -0.0159776508808136,\n",
      "                                     0.000722647353541106,\n",
      "                                     0.01525266095995903,\n",
      "                                     -0.028447898104786873,\n",
      "                                     0.03748476505279541,\n",
      "                                     -0.0022906367667019367,\n",
      "                                     0.016163932159543037,\n",
      "                                     -0.4590349793434143,\n",
      "                                     -0.08720189332962036,\n",
      "                                     0.023360032588243484,\n",
      "                                     -0.02291375957429409,\n",
      "                                     0.007131625898182392,\n",
      "                                     -0.013091562315821648,\n",
      "                                     0.06404781341552734,\n",
      "                                     -0.011034997180104256,\n",
      "                                     0.026630356907844543,\n",
      "                                     -0.10041490942239761,\n",
      "                                     -0.0395512580871582,\n",
      "                                     -0.017635934054851532,\n",
      "                                     0.005020167212933302,\n",
      "                                     -0.02497977763414383,\n",
      "                                     0.007328603882342577,\n",
      "                                     0.023011589422822,\n",
      "                                     -0.008594818413257599,\n",
      "                                     0.02043789066374302,\n",
      "                                     -0.015894317999482155,\n",
      "                                     -0.01699771359562874,\n",
      "                                     0.022071458399295807,\n",
      "                                     -0.01367876585572958,\n",
      "                                     0.0471535250544548,\n",
      "                                     0.11532148718833923,\n",
      "                                     -0.03449289873242378,\n",
      "                                     -0.005400014575570822,\n",
      "                                     -0.012102128937840462,\n",
      "                                     0.01628529652953148,\n",
      "                                     -0.037440039217472076,\n",
      "                                     -0.03443571552634239,\n",
      "                                     0.010117104277014732,\n",
      "                                     0.0150266969576478,\n",
      "                                     0.01651764288544655,\n",
      "                                     0.012944595888257027,\n",
      "                                     0.003787502646446228,\n",
      "                                     -0.006457589101046324,\n",
      "                                     0.017377305775880814,\n",
      "                                     0.018252534791827202,\n",
      "                                     -0.009971591643989086,\n",
      "                                     0.016469357535243034,\n",
      "                                     0.027587678283452988,\n",
      "                                     0.031581345945596695,\n",
      "                                     0.03354957327246666,\n",
      "                                     0.009121319279074669,\n",
      "                                     -0.029236292466521263,\n",
      "                                     -0.024982566013932228,\n",
      "                                     -0.05428759381175041,\n",
      "                                     -0.030408654361963272,\n",
      "                                     -0.0023591271601617336,\n",
      "                                     0.01685757003724575,\n",
      "                                     0.019445035606622696,\n",
      "                                     -0.018310226500034332,\n",
      "                                     -0.004076570738106966,\n",
      "                                     -0.026446281000971794,\n",
      "                                     0.013426651246845722,\n",
      "                                     0.006529530044645071,\n",
      "                                     0.021715836599469185,\n",
      "                                     0.019298089668154716,\n",
      "                                     0.022990554571151733,\n",
      "                                     0.015850748866796494,\n",
      "                                     -0.013977575115859509,\n",
      "                                     0.03814834728837013,\n",
      "                                     0.04653676226735115,\n",
      "                                     -0.023025648668408394,\n",
      "                                     0.040274325758218765,\n",
      "                                     -0.015323806554079056,\n",
      "                                     -0.026612795889377594,\n",
      "                                     0.03405194357037544,\n",
      "                                     0.014439059421420097,\n",
      "                                     0.044918373227119446,\n",
      "                                     0.012090162374079227,\n",
      "                                     0.038988146930933,\n",
      "                                     0.004973456263542175,\n",
      "                                     -0.01903102919459343,\n",
      "                                     0.025078874081373215,\n",
      "                                     -0.008085682988166809,\n",
      "                                     0.017253175377845764,\n",
      "                                     -0.008857178501784801,\n",
      "                                     -0.0004886484239250422,\n",
      "                                     -0.029458485543727875,\n",
      "                                     0.046294983476400375,\n",
      "                                     -0.024022789672017097,\n",
      "                                     0.02557920292019844,\n",
      "                                     0.021528225392103195,\n",
      "                                     0.016090933233499527,\n",
      "                                     0.013952669687569141,\n",
      "                                     -0.013551249168813229,\n",
      "                                     0.017224958166480064,\n",
      "                                     -0.010068199597299099,\n",
      "                                     0.023458553478121758,\n",
      "                                     0.014620251022279263,\n",
      "                                     -0.020521124824881554,\n",
      "                                     0.013176011852920055,\n",
      "                                     0.03370872884988785,\n",
      "                                     0.00435879360884428,\n",
      "                                     -0.15089435875415802,\n",
      "                                     0.007914137095212936,\n",
      "                                     -0.0029176666866987944,\n",
      "                                     0.013687512837350368,\n",
      "                                     0.008010837249457836,\n",
      "                                     -0.00986521877348423,\n",
      "                                     0.0254918672144413,\n",
      "                                     0.02340291626751423,\n",
      "                                     0.00928034633398056,\n",
      "                                     0.01973605901002884,\n",
      "                                     0.011464611627161503,\n",
      "                                     -0.016150422394275665],\n",
      "                       'feature_type': 'gender'},\n",
      "           '_type': '_doc',\n",
      "           '_version': 1,\n",
      "           'found': True}]}\n"
     ]
    }
   ],
   "metadata": {}
  },
  {
   "cell_type": "code",
   "execution_count": 195,
   "source": [
    "embeddings = [doc['_source']['embedding'] for doc in metadata['docs']]"
   ],
   "outputs": [],
   "metadata": {}
  },
  {
   "cell_type": "code",
   "execution_count": 196,
   "source": [
    "v_metadata = [ abs(sum(pair)) for pair in zip(*embeddings)]\n",
    "print(len(v_metadata))"
   ],
   "outputs": [
    {
     "output_type": "stream",
     "name": "stdout",
     "text": [
      "120\n"
     ]
    }
   ],
   "metadata": {}
  },
  {
   "cell_type": "code",
   "execution_count": 207,
   "source": [
    "search_body = {\n",
    "    \"query\": {\n",
    "    \"script_score\": {\n",
    "      \"query\" : {\n",
    "          \"bool\" : {\n",
    "          \"filter\" : {\n",
    "            \"term\" : {\n",
    "              \"feature_type\" : \"movie\" \n",
    "            }\n",
    "          }\n",
    "        }\n",
    "      },\n",
    "      \"script\": {\n",
    "        \"source\": \"cosineSimilarity(params.query_vector, 'embedding') + doc['bias'].value\", \n",
    "        # \"source\": \"dotProduct(params.query_vector, 'embedding') + doc['bias'].value\", \n",
    "        # \"source\": \"cosineSimilarity(params.query_vector, 'embedding') + 1.0\", \n",
    "        \"params\": {\n",
    "          \"query_vector\": v_metadata\n",
    "        }\n",
    "      }\n",
    "    }\n",
    "  }\n",
    "}\n",
    "[hit['_source']['title'] for hit in es.search(search_body,index='recsys',_source_includes='title')['hits']['hits']]"
   ],
   "outputs": [
    {
     "output_type": "stream",
     "name": "stderr",
     "text": [
      "/Users/seokwoo/opt/anaconda3/envs/bert/lib/python3.7/site-packages/elasticsearch/connection/base.py:208: ElasticsearchWarning: Elasticsearch built-in security features are not enabled. Without authentication, your cluster could be accessible to anyone. See https://www.elastic.co/guide/en/elasticsearch/reference/7.13/security-minimal-setup.html to enable security.\n",
      "  warnings.warn(message, category=ElasticsearchWarning)\n"
     ]
    },
    {
     "output_type": "execute_result",
     "data": {
      "text/plain": [
       "['Bloody Child, The (1996)',\n",
       " 'Hungarian Fairy Tale, A (1987)',\n",
       " 'Windows (1980)',\n",
       " 'Bye-Bye (1995)',\n",
       " 'Daens (1992)',\n",
       " \"Another Man's Poison (1952)\",\n",
       " 'Chain of Fools (2000)',\n",
       " 'Time of the Gypsies (Dom za vesanje) (1989)',\n",
       " 'Sanjuro (1962)',\n",
       " 'Firelight (1997)']"
      ]
     },
     "metadata": {},
     "execution_count": 207
    }
   ],
   "metadata": {}
  }
 ],
 "metadata": {
  "orig_nbformat": 4,
  "language_info": {
   "name": "python",
   "version": "3.7.10",
   "mimetype": "text/x-python",
   "codemirror_mode": {
    "name": "ipython",
    "version": 3
   },
   "pygments_lexer": "ipython3",
   "nbconvert_exporter": "python",
   "file_extension": ".py"
  },
  "kernelspec": {
   "name": "python3",
   "display_name": "Python 3.7.10 64-bit ('bert': conda)"
  },
  "interpreter": {
   "hash": "4b8b5d311b67da0944822eee6c33d3bd6be7a1af1e828dd7d8e9ea6d0a08f99d"
  }
 },
 "nbformat": 4,
 "nbformat_minor": 2
}