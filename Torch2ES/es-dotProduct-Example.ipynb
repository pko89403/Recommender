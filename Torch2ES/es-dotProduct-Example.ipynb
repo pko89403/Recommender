{
 "cells": [
  {
   "cell_type": "code",
   "execution_count": 1,
   "source": [
    "from pprint import pprint \n",
    "from elasticsearch import Elasticsearch "
   ],
   "outputs": [],
   "metadata": {}
  },
  {
   "cell_type": "code",
   "execution_count": 2,
   "source": [
    "es = Elasticsearch()"
   ],
   "outputs": [],
   "metadata": {}
  },
  {
   "cell_type": "code",
   "execution_count": 3,
   "source": [
    "es.indices.create(index='features', body={\n",
    "  \"mappings\": {\n",
    "    \"properties\": {\n",
    "      \"feature\": {\n",
    "        \"type\": \"dense_vector\",\n",
    "        \"dims\": 128,\n",
    "      },\n",
    "      \"image_id\": {\n",
    "        \"type\": \"text\"\n",
    "      }\n",
    "    }\n",
    "  }\n",
    "}, ignore=400)"
   ],
   "outputs": [
    {
     "output_type": "stream",
     "name": "stderr",
     "text": [
      "/Users/seokwoo/opt/anaconda3/envs/bert/lib/python3.7/site-packages/elasticsearch/connection/base.py:208: ElasticsearchWarning: Elasticsearch built-in security features are not enabled. Without authentication, your cluster could be accessible to anyone. See https://www.elastic.co/guide/en/elasticsearch/reference/7.13/security-minimal-setup.html to enable security.\n",
      "  warnings.warn(message, category=ElasticsearchWarning)\n"
     ]
    },
    {
     "output_type": "execute_result",
     "data": {
      "text/plain": [
       "{'acknowledged': True, 'shards_acknowledged': True, 'index': 'features'}"
      ]
     },
     "metadata": {},
     "execution_count": 3
    }
   ],
   "metadata": {}
  },
  {
   "cell_type": "code",
   "execution_count": 4,
   "source": [
    "pprint(es.indices.get(index='features'))"
   ],
   "outputs": [
    {
     "output_type": "stream",
     "name": "stdout",
     "text": [
      "{'features': {'aliases': {},\n",
      "              'mappings': {'properties': {'feature': {'dims': 128,\n",
      "                                                      'type': 'dense_vector'},\n",
      "                                          'image_id': {'type': 'text'}}},\n",
      "              'settings': {'index': {'creation_date': '1630242301454',\n",
      "                                     'number_of_replicas': '1',\n",
      "                                     'number_of_shards': '1',\n",
      "                                     'provided_name': 'features',\n",
      "                                     'routing': {'allocation': {'include': {'_tier_preference': 'data_content'}}},\n",
      "                                     'uuid': 'oy5V3n2-QqKMEWsZEax6vw',\n",
      "                                     'version': {'created': '7130099'}}}}}\n"
     ]
    }
   ],
   "metadata": {}
  },
  {
   "cell_type": "code",
   "execution_count": 5,
   "source": [
    "import random\n",
    "\n",
    "res = es.search(index='features', body={\n",
    "      'query': {\n",
    "        'script_score': {\n",
    "          'query': {\n",
    "            'match_all': {}\n",
    "          },\n",
    "          'script': {\n",
    "            'source': \"dotProduct(params.query_vector, doc['feature']) + 1.0\",\n",
    "            'params': {\n",
    "              'query_vector': [random.gauss(0, 0.432) for _ in range(128)],\n",
    "            }\n",
    "          }\n",
    "        }\n",
    "      }\n",
    "    })\n",
    "pprint(res['hits']['hits'])"
   ],
   "outputs": [
    {
     "output_type": "stream",
     "name": "stdout",
     "text": [
      "[]\n"
     ]
    }
   ],
   "metadata": {}
  },
  {
   "cell_type": "code",
   "execution_count": null,
   "source": [],
   "outputs": [],
   "metadata": {}
  }
 ],
 "metadata": {
  "orig_nbformat": 4,
  "language_info": {
   "name": "python",
   "version": "3.7.10",
   "mimetype": "text/x-python",
   "codemirror_mode": {
    "name": "ipython",
    "version": 3
   },
   "pygments_lexer": "ipython3",
   "nbconvert_exporter": "python",
   "file_extension": ".py"
  },
  "kernelspec": {
   "name": "python3",
   "display_name": "Python 3.7.10 64-bit ('bert': conda)"
  },
  "interpreter": {
   "hash": "4b8b5d311b67da0944822eee6c33d3bd6be7a1af1e828dd7d8e9ea6d0a08f99d"
  }
 },
 "nbformat": 4,
 "nbformat_minor": 2
}