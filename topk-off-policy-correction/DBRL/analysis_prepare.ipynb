{
 "cells": [
  {
   "cell_type": "code",
   "execution_count": 1,
   "metadata": {},
   "outputs": [],
   "source": [
    "import pandas as pd\n"
   ]
  },
  {
   "cell_type": "code",
   "execution_count": 4,
   "metadata": {},
   "outputs": [],
   "source": [
    "data = pd.read_csv(\n",
    "    \"/Users/blue/Github/reco-ml-models/topk-off-policy-correction/DBRL/resources/tianchi.csv\",\n",
    "    sep=\",\",\n",
    "    names=[\"user\", \"item\", \"label\", \"time\", \"sex\", \"age\", \"pur_power\", \"category\", \"shop\", \"brand\"],\n",
    ")[:100]"
   ]
  },
  {
   "cell_type": "code",
   "execution_count": 5,
   "metadata": {},
   "outputs": [
    {
     "data": {
      "text/html": [
       "<div>\n",
       "<style scoped>\n",
       "    .dataframe tbody tr th:only-of-type {\n",
       "        vertical-align: middle;\n",
       "    }\n",
       "\n",
       "    .dataframe tbody tr th {\n",
       "        vertical-align: top;\n",
       "    }\n",
       "\n",
       "    .dataframe thead th {\n",
       "        text-align: right;\n",
       "    }\n",
       "</style>\n",
       "<table border=\"1\" class=\"dataframe\">\n",
       "  <thead>\n",
       "    <tr style=\"text-align: right;\">\n",
       "      <th></th>\n",
       "      <th>user</th>\n",
       "      <th>item</th>\n",
       "      <th>label</th>\n",
       "      <th>time</th>\n",
       "      <th>sex</th>\n",
       "      <th>age</th>\n",
       "      <th>pur_power</th>\n",
       "      <th>category</th>\n",
       "      <th>shop</th>\n",
       "      <th>brand</th>\n",
       "    </tr>\n",
       "  </thead>\n",
       "  <tbody>\n",
       "    <tr>\n",
       "      <th>0</th>\n",
       "      <td>322277</td>\n",
       "      <td>2028077</td>\n",
       "      <td>pv</td>\n",
       "      <td>242</td>\n",
       "      <td>0</td>\n",
       "      <td>1</td>\n",
       "      <td>3</td>\n",
       "      <td>14676</td>\n",
       "      <td>3959255</td>\n",
       "      <td>-1</td>\n",
       "    </tr>\n",
       "    <tr>\n",
       "      <th>1</th>\n",
       "      <td>628462</td>\n",
       "      <td>16644828</td>\n",
       "      <td>pv</td>\n",
       "      <td>318</td>\n",
       "      <td>0</td>\n",
       "      <td>1</td>\n",
       "      <td>9</td>\n",
       "      <td>7204</td>\n",
       "      <td>2357791</td>\n",
       "      <td>298554</td>\n",
       "    </tr>\n",
       "    <tr>\n",
       "      <th>2</th>\n",
       "      <td>1996053</td>\n",
       "      <td>18966363</td>\n",
       "      <td>pv</td>\n",
       "      <td>351</td>\n",
       "      <td>1</td>\n",
       "      <td>3</td>\n",
       "      <td>6</td>\n",
       "      <td>11215</td>\n",
       "      <td>76214</td>\n",
       "      <td>-1</td>\n",
       "    </tr>\n",
       "    <tr>\n",
       "      <th>3</th>\n",
       "      <td>1263779</td>\n",
       "      <td>3180376</td>\n",
       "      <td>pv</td>\n",
       "      <td>661</td>\n",
       "      <td>0</td>\n",
       "      <td>1</td>\n",
       "      <td>8</td>\n",
       "      <td>3439</td>\n",
       "      <td>2070152</td>\n",
       "      <td>64981</td>\n",
       "    </tr>\n",
       "    <tr>\n",
       "      <th>4</th>\n",
       "      <td>1425382</td>\n",
       "      <td>3282954</td>\n",
       "      <td>pv</td>\n",
       "      <td>703</td>\n",
       "      <td>1</td>\n",
       "      <td>1</td>\n",
       "      <td>4</td>\n",
       "      <td>8588</td>\n",
       "      <td>986630</td>\n",
       "      <td>380693</td>\n",
       "    </tr>\n",
       "    <tr>\n",
       "      <th>...</th>\n",
       "      <td>...</td>\n",
       "      <td>...</td>\n",
       "      <td>...</td>\n",
       "      <td>...</td>\n",
       "      <td>...</td>\n",
       "      <td>...</td>\n",
       "      <td>...</td>\n",
       "      <td>...</td>\n",
       "      <td>...</td>\n",
       "      <td>...</td>\n",
       "    </tr>\n",
       "    <tr>\n",
       "      <th>95</th>\n",
       "      <td>912986</td>\n",
       "      <td>22279738</td>\n",
       "      <td>pv</td>\n",
       "      <td>36444</td>\n",
       "      <td>1</td>\n",
       "      <td>2</td>\n",
       "      <td>9</td>\n",
       "      <td>439</td>\n",
       "      <td>4015932</td>\n",
       "      <td>99873</td>\n",
       "    </tr>\n",
       "    <tr>\n",
       "      <th>96</th>\n",
       "      <td>708006</td>\n",
       "      <td>25241126</td>\n",
       "      <td>pv</td>\n",
       "      <td>36790</td>\n",
       "      <td>1</td>\n",
       "      <td>1</td>\n",
       "      <td>3</td>\n",
       "      <td>7442</td>\n",
       "      <td>2037534</td>\n",
       "      <td>-1</td>\n",
       "    </tr>\n",
       "    <tr>\n",
       "      <th>97</th>\n",
       "      <td>309333</td>\n",
       "      <td>36507389</td>\n",
       "      <td>pv</td>\n",
       "      <td>37275</td>\n",
       "      <td>1</td>\n",
       "      <td>3</td>\n",
       "      <td>7</td>\n",
       "      <td>5119</td>\n",
       "      <td>2150973</td>\n",
       "      <td>581175</td>\n",
       "    </tr>\n",
       "    <tr>\n",
       "      <th>98</th>\n",
       "      <td>941909</td>\n",
       "      <td>2565628</td>\n",
       "      <td>pv</td>\n",
       "      <td>37387</td>\n",
       "      <td>1</td>\n",
       "      <td>2</td>\n",
       "      <td>4</td>\n",
       "      <td>8563</td>\n",
       "      <td>181652</td>\n",
       "      <td>46850</td>\n",
       "    </tr>\n",
       "    <tr>\n",
       "      <th>99</th>\n",
       "      <td>941909</td>\n",
       "      <td>31506268</td>\n",
       "      <td>pv</td>\n",
       "      <td>37439</td>\n",
       "      <td>1</td>\n",
       "      <td>2</td>\n",
       "      <td>4</td>\n",
       "      <td>7442</td>\n",
       "      <td>181652</td>\n",
       "      <td>46850</td>\n",
       "    </tr>\n",
       "  </tbody>\n",
       "</table>\n",
       "<p>100 rows × 10 columns</p>\n",
       "</div>"
      ],
      "text/plain": [
       "       user      item label   time  sex  age  pur_power  category     shop   \n",
       "0    322277   2028077    pv    242    0    1          3     14676  3959255  \\\n",
       "1    628462  16644828    pv    318    0    1          9      7204  2357791   \n",
       "2   1996053  18966363    pv    351    1    3          6     11215    76214   \n",
       "3   1263779   3180376    pv    661    0    1          8      3439  2070152   \n",
       "4   1425382   3282954    pv    703    1    1          4      8588   986630   \n",
       "..      ...       ...   ...    ...  ...  ...        ...       ...      ...   \n",
       "95   912986  22279738    pv  36444    1    2          9       439  4015932   \n",
       "96   708006  25241126    pv  36790    1    1          3      7442  2037534   \n",
       "97   309333  36507389    pv  37275    1    3          7      5119  2150973   \n",
       "98   941909   2565628    pv  37387    1    2          4      8563   181652   \n",
       "99   941909  31506268    pv  37439    1    2          4      7442   181652   \n",
       "\n",
       "     brand  \n",
       "0       -1  \n",
       "1   298554  \n",
       "2       -1  \n",
       "3    64981  \n",
       "4   380693  \n",
       "..     ...  \n",
       "95   99873  \n",
       "96      -1  \n",
       "97  581175  \n",
       "98   46850  \n",
       "99   46850  \n",
       "\n",
       "[100 rows x 10 columns]"
      ]
     },
     "execution_count": 5,
     "metadata": {},
     "output_type": "execute_result"
    }
   ],
   "source": [
    "data"
   ]
  },
  {
   "cell_type": "code",
   "execution_count": 9,
   "metadata": {},
   "outputs": [
    {
     "data": {
      "text/plain": [
       "77"
      ]
     },
     "execution_count": 9,
     "metadata": {},
     "output_type": "execute_result"
    }
   ],
   "source": [
    "n_users = data.user.nunique()\n",
    "n_users"
   ]
  },
  {
   "cell_type": "code",
   "execution_count": 29,
   "metadata": {},
   "outputs": [],
   "source": [
    "user_indices = data.user.to_numpy()\n",
    "user_indices = user_indices[:10]"
   ]
  },
  {
   "cell_type": "code",
   "execution_count": 30,
   "metadata": {},
   "outputs": [],
   "source": [
    "import numpy as np"
   ]
  },
  {
   "cell_type": "code",
   "execution_count": 36,
   "metadata": {},
   "outputs": [
    {
     "data": {
      "text/plain": [
       "array([ 322277,  628462, 1996053, 1263779, 1425382,  590414, 1067078,\n",
       "       1269894, 1269894, 1269894])"
      ]
     },
     "execution_count": 36,
     "metadata": {},
     "output_type": "execute_result"
    }
   ],
   "source": [
    "user_indices"
   ]
  },
  {
   "cell_type": "code",
   "execution_count": 37,
   "metadata": {},
   "outputs": [],
   "source": [
    "\n",
    "users, user_position, user_counts = np.unique(\n",
    "    user_indices,\n",
    "    return_inverse=True,\n",
    "    return_counts=True,\n",
    ")"
   ]
  },
  {
   "cell_type": "code",
   "execution_count": 38,
   "metadata": {},
   "outputs": [
    {
     "data": {
      "text/plain": [
       "array([ 322277,  590414,  628462, 1067078, 1263779, 1269894, 1425382,\n",
       "       1996053])"
      ]
     },
     "execution_count": 38,
     "metadata": {},
     "output_type": "execute_result"
    }
   ],
   "source": [
    "users"
   ]
  },
  {
   "cell_type": "code",
   "execution_count": 39,
   "metadata": {},
   "outputs": [
    {
     "data": {
      "text/plain": [
       "array([0, 2, 7, 4, 6, 1, 3, 5, 5, 5])"
      ]
     },
     "execution_count": 39,
     "metadata": {},
     "output_type": "execute_result"
    }
   ],
   "source": [
    "user_position"
   ]
  },
  {
   "cell_type": "code",
   "execution_count": 40,
   "metadata": {},
   "outputs": [
    {
     "data": {
      "text/plain": [
       "array([1, 1, 1, 1, 1, 3, 1, 1])"
      ]
     },
     "execution_count": 40,
     "metadata": {},
     "output_type": "execute_result"
    }
   ],
   "source": [
    "user_counts"
   ]
  },
  {
   "cell_type": "code",
   "execution_count": 42,
   "metadata": {},
   "outputs": [
    {
     "data": {
      "text/plain": [
       "[array([0]),\n",
       " array([5]),\n",
       " array([1]),\n",
       " array([6]),\n",
       " array([3]),\n",
       " array([7, 8, 9]),\n",
       " array([4]),\n",
       " array([2])]"
      ]
     },
     "execution_count": 42,
     "metadata": {},
     "output_type": "execute_result"
    }
   ],
   "source": [
    "user_split_indices = np.split(\n",
    "    np.argsort(user_position),\n",
    "    np.cumsum(user_counts)[:-1],\n",
    ")\n",
    "user_split_indices"
   ]
  },
  {
   "cell_type": "code",
   "execution_count": 48,
   "metadata": {},
   "outputs": [
    {
     "data": {
      "text/plain": [
       "[[0, 5, 1, 6, 3, 7, 8, 4, 2], [9]]"
      ]
     },
     "execution_count": 48,
     "metadata": {},
     "output_type": "execute_result"
    }
   ],
   "source": [
    "split_indices_all = [[], []]\n",
    "n_users = len(users)\n",
    "\n",
    "for u in range(n_users):\n",
    "    u_data = user_split_indices[u]\n",
    "    u_data_len = len(u_data)\n",
    "    if u_data_len <= 2:\n",
    "        split_indices_all[0].extend(u_data)\n",
    "    else:\n",
    "        split_indices_all[0].extend(list(u_data[:2]))\n",
    "        split_indices_all[1].extend(list(u_data[2:]))\n",
    "\n",
    "split_indices_all"
   ]
  },
  {
   "cell_type": "code",
   "execution_count": 71,
   "metadata": {},
   "outputs": [
    {
     "data": {
      "text/plain": [
       "[      user      item label  time  sex  age  pur_power  category     shop   \n",
       " 0   322277   2028077    pv   242    0    1          3     14676  3959255  \\\n",
       " 5   590414  17311119    pv   944    1    2          1      8954  3346137   \n",
       " 1   628462  16644828    pv   318    0    1          9      7204  2357791   \n",
       " 6  1067078  18657472    pv  1083    0    1          8      3814  3751540   \n",
       " 3  1263779   3180376    pv   661    0    1          8      3439  2070152   \n",
       " 7  1269894  33771711    pv  1207    1    2          6      7022  2804824   \n",
       " 8  1269894  15372456    pv  1231    1    2          6      7022   131814   \n",
       " 4  1425382   3282954    pv   703    1    1          4      8588   986630   \n",
       " 2  1996053  18966363    pv   351    1    3          6     11215    76214   \n",
       " \n",
       "     brand  \n",
       " 0      -1  \n",
       " 5  345468  \n",
       " 1  298554  \n",
       " 6  559398  \n",
       " 3   64981  \n",
       " 7      -1  \n",
       " 8  274025  \n",
       " 4  380693  \n",
       " 2      -1  ,\n",
       "       user      item label  time  sex  age  pur_power  category     shop   \n",
       " 9  1269894  17137999    pv  1240    1    2          6      7022  3743907  \\\n",
       " \n",
       "     brand  \n",
       " 9  398657  ]"
      ]
     },
     "execution_count": 71,
     "metadata": {},
     "output_type": "execute_result"
    }
   ],
   "source": [
    "split_data_all = list(data.iloc[idx] for idx in split_indices_all)\n",
    "split_data_all\n"
   ]
  },
  {
   "cell_type": "code",
   "execution_count": 72,
   "metadata": {},
   "outputs": [],
   "source": [
    "train_data, test_data = split_data_all"
   ]
  },
  {
   "cell_type": "code",
   "execution_count": 73,
   "metadata": {},
   "outputs": [
    {
     "data": {
      "text/html": [
       "<div>\n",
       "<style scoped>\n",
       "    .dataframe tbody tr th:only-of-type {\n",
       "        vertical-align: middle;\n",
       "    }\n",
       "\n",
       "    .dataframe tbody tr th {\n",
       "        vertical-align: top;\n",
       "    }\n",
       "\n",
       "    .dataframe thead th {\n",
       "        text-align: right;\n",
       "    }\n",
       "</style>\n",
       "<table border=\"1\" class=\"dataframe\">\n",
       "  <thead>\n",
       "    <tr style=\"text-align: right;\">\n",
       "      <th></th>\n",
       "      <th>user</th>\n",
       "      <th>item</th>\n",
       "      <th>label</th>\n",
       "      <th>time</th>\n",
       "      <th>sex</th>\n",
       "      <th>age</th>\n",
       "      <th>pur_power</th>\n",
       "      <th>category</th>\n",
       "      <th>shop</th>\n",
       "      <th>brand</th>\n",
       "    </tr>\n",
       "  </thead>\n",
       "  <tbody>\n",
       "    <tr>\n",
       "      <th>0</th>\n",
       "      <td>322277</td>\n",
       "      <td>2028077</td>\n",
       "      <td>pv</td>\n",
       "      <td>242</td>\n",
       "      <td>0</td>\n",
       "      <td>1</td>\n",
       "      <td>3</td>\n",
       "      <td>14676</td>\n",
       "      <td>3959255</td>\n",
       "      <td>-1</td>\n",
       "    </tr>\n",
       "    <tr>\n",
       "      <th>5</th>\n",
       "      <td>590414</td>\n",
       "      <td>17311119</td>\n",
       "      <td>pv</td>\n",
       "      <td>944</td>\n",
       "      <td>1</td>\n",
       "      <td>2</td>\n",
       "      <td>1</td>\n",
       "      <td>8954</td>\n",
       "      <td>3346137</td>\n",
       "      <td>345468</td>\n",
       "    </tr>\n",
       "    <tr>\n",
       "      <th>1</th>\n",
       "      <td>628462</td>\n",
       "      <td>16644828</td>\n",
       "      <td>pv</td>\n",
       "      <td>318</td>\n",
       "      <td>0</td>\n",
       "      <td>1</td>\n",
       "      <td>9</td>\n",
       "      <td>7204</td>\n",
       "      <td>2357791</td>\n",
       "      <td>298554</td>\n",
       "    </tr>\n",
       "    <tr>\n",
       "      <th>6</th>\n",
       "      <td>1067078</td>\n",
       "      <td>18657472</td>\n",
       "      <td>pv</td>\n",
       "      <td>1083</td>\n",
       "      <td>0</td>\n",
       "      <td>1</td>\n",
       "      <td>8</td>\n",
       "      <td>3814</td>\n",
       "      <td>3751540</td>\n",
       "      <td>559398</td>\n",
       "    </tr>\n",
       "    <tr>\n",
       "      <th>3</th>\n",
       "      <td>1263779</td>\n",
       "      <td>3180376</td>\n",
       "      <td>pv</td>\n",
       "      <td>661</td>\n",
       "      <td>0</td>\n",
       "      <td>1</td>\n",
       "      <td>8</td>\n",
       "      <td>3439</td>\n",
       "      <td>2070152</td>\n",
       "      <td>64981</td>\n",
       "    </tr>\n",
       "    <tr>\n",
       "      <th>7</th>\n",
       "      <td>1269894</td>\n",
       "      <td>33771711</td>\n",
       "      <td>pv</td>\n",
       "      <td>1207</td>\n",
       "      <td>1</td>\n",
       "      <td>2</td>\n",
       "      <td>6</td>\n",
       "      <td>7022</td>\n",
       "      <td>2804824</td>\n",
       "      <td>-1</td>\n",
       "    </tr>\n",
       "    <tr>\n",
       "      <th>8</th>\n",
       "      <td>1269894</td>\n",
       "      <td>15372456</td>\n",
       "      <td>pv</td>\n",
       "      <td>1231</td>\n",
       "      <td>1</td>\n",
       "      <td>2</td>\n",
       "      <td>6</td>\n",
       "      <td>7022</td>\n",
       "      <td>131814</td>\n",
       "      <td>274025</td>\n",
       "    </tr>\n",
       "    <tr>\n",
       "      <th>4</th>\n",
       "      <td>1425382</td>\n",
       "      <td>3282954</td>\n",
       "      <td>pv</td>\n",
       "      <td>703</td>\n",
       "      <td>1</td>\n",
       "      <td>1</td>\n",
       "      <td>4</td>\n",
       "      <td>8588</td>\n",
       "      <td>986630</td>\n",
       "      <td>380693</td>\n",
       "    </tr>\n",
       "    <tr>\n",
       "      <th>2</th>\n",
       "      <td>1996053</td>\n",
       "      <td>18966363</td>\n",
       "      <td>pv</td>\n",
       "      <td>351</td>\n",
       "      <td>1</td>\n",
       "      <td>3</td>\n",
       "      <td>6</td>\n",
       "      <td>11215</td>\n",
       "      <td>76214</td>\n",
       "      <td>-1</td>\n",
       "    </tr>\n",
       "  </tbody>\n",
       "</table>\n",
       "</div>"
      ],
      "text/plain": [
       "      user      item label  time  sex  age  pur_power  category     shop   \n",
       "0   322277   2028077    pv   242    0    1          3     14676  3959255  \\\n",
       "5   590414  17311119    pv   944    1    2          1      8954  3346137   \n",
       "1   628462  16644828    pv   318    0    1          9      7204  2357791   \n",
       "6  1067078  18657472    pv  1083    0    1          8      3814  3751540   \n",
       "3  1263779   3180376    pv   661    0    1          8      3439  2070152   \n",
       "7  1269894  33771711    pv  1207    1    2          6      7022  2804824   \n",
       "8  1269894  15372456    pv  1231    1    2          6      7022   131814   \n",
       "4  1425382   3282954    pv   703    1    1          4      8588   986630   \n",
       "2  1996053  18966363    pv   351    1    3          6     11215    76214   \n",
       "\n",
       "    brand  \n",
       "0      -1  \n",
       "5  345468  \n",
       "1  298554  \n",
       "6  559398  \n",
       "3   64981  \n",
       "7      -1  \n",
       "8  274025  \n",
       "4  380693  \n",
       "2      -1  "
      ]
     },
     "execution_count": 73,
     "metadata": {},
     "output_type": "execute_result"
    }
   ],
   "source": [
    "train_data"
   ]
  },
  {
   "cell_type": "code",
   "execution_count": 74,
   "metadata": {},
   "outputs": [
    {
     "data": {
      "text/plain": [
       "user\n",
       "1269894    2\n",
       "322277     1\n",
       "590414     1\n",
       "628462     1\n",
       "1067078    1\n",
       "1263779    1\n",
       "1425382    1\n",
       "1996053    1\n",
       "Name: count, dtype: int64"
      ]
     },
     "execution_count": 74,
     "metadata": {},
     "output_type": "execute_result"
    }
   ],
   "source": [
    "counts = train_data[\"user\"].value_counts()\n",
    "counts"
   ]
  },
  {
   "cell_type": "code",
   "execution_count": 75,
   "metadata": {},
   "outputs": [
    {
     "data": {
      "text/plain": [
       "[1269894, 322277, 590414, 628462, 1067078, 1263779, 1425382, 1996053]"
      ]
     },
     "execution_count": 75,
     "metadata": {},
     "output_type": "execute_result"
    }
   ],
   "source": [
    "freq = counts.index.tolist()\n",
    "freq"
   ]
  },
  {
   "cell_type": "code",
   "execution_count": 76,
   "metadata": {},
   "outputs": [
    {
     "data": {
      "text/plain": [
       "{1269894: 0,\n",
       " 322277: 1,\n",
       " 590414: 2,\n",
       " 628462: 3,\n",
       " 1067078: 4,\n",
       " 1263779: 5,\n",
       " 1425382: 6,\n",
       " 1996053: 7}"
      ]
     },
     "execution_count": 76,
     "metadata": {},
     "output_type": "execute_result"
    }
   ],
   "source": [
    "mapping = dict(zip(freq, range(len(freq))))\n",
    "mapping"
   ]
  },
  {
   "cell_type": "code",
   "execution_count": 77,
   "metadata": {},
   "outputs": [
    {
     "name": "stderr",
     "output_type": "stream",
     "text": [
      "/var/folders/kz/brn1x6ms34b0dsp2hwdjmks40000gn/T/ipykernel_21665/3356251971.py:1: SettingWithCopyWarning: \n",
      "A value is trying to be set on a copy of a slice from a DataFrame.\n",
      "Try using .loc[row_indexer,col_indexer] = value instead\n",
      "\n",
      "See the caveats in the documentation: https://pandas.pydata.org/pandas-docs/stable/user_guide/indexing.html#returning-a-view-versus-a-copy\n",
      "  train_data[\"user\"] = train_data[\"user\"].map(mapping)\n"
     ]
    },
    {
     "data": {
      "text/html": [
       "<div>\n",
       "<style scoped>\n",
       "    .dataframe tbody tr th:only-of-type {\n",
       "        vertical-align: middle;\n",
       "    }\n",
       "\n",
       "    .dataframe tbody tr th {\n",
       "        vertical-align: top;\n",
       "    }\n",
       "\n",
       "    .dataframe thead th {\n",
       "        text-align: right;\n",
       "    }\n",
       "</style>\n",
       "<table border=\"1\" class=\"dataframe\">\n",
       "  <thead>\n",
       "    <tr style=\"text-align: right;\">\n",
       "      <th></th>\n",
       "      <th>user</th>\n",
       "      <th>item</th>\n",
       "      <th>label</th>\n",
       "      <th>time</th>\n",
       "      <th>sex</th>\n",
       "      <th>age</th>\n",
       "      <th>pur_power</th>\n",
       "      <th>category</th>\n",
       "      <th>shop</th>\n",
       "      <th>brand</th>\n",
       "    </tr>\n",
       "  </thead>\n",
       "  <tbody>\n",
       "    <tr>\n",
       "      <th>0</th>\n",
       "      <td>1</td>\n",
       "      <td>2028077</td>\n",
       "      <td>pv</td>\n",
       "      <td>242</td>\n",
       "      <td>0</td>\n",
       "      <td>1</td>\n",
       "      <td>3</td>\n",
       "      <td>14676</td>\n",
       "      <td>3959255</td>\n",
       "      <td>-1</td>\n",
       "    </tr>\n",
       "    <tr>\n",
       "      <th>5</th>\n",
       "      <td>2</td>\n",
       "      <td>17311119</td>\n",
       "      <td>pv</td>\n",
       "      <td>944</td>\n",
       "      <td>1</td>\n",
       "      <td>2</td>\n",
       "      <td>1</td>\n",
       "      <td>8954</td>\n",
       "      <td>3346137</td>\n",
       "      <td>345468</td>\n",
       "    </tr>\n",
       "    <tr>\n",
       "      <th>1</th>\n",
       "      <td>3</td>\n",
       "      <td>16644828</td>\n",
       "      <td>pv</td>\n",
       "      <td>318</td>\n",
       "      <td>0</td>\n",
       "      <td>1</td>\n",
       "      <td>9</td>\n",
       "      <td>7204</td>\n",
       "      <td>2357791</td>\n",
       "      <td>298554</td>\n",
       "    </tr>\n",
       "    <tr>\n",
       "      <th>6</th>\n",
       "      <td>4</td>\n",
       "      <td>18657472</td>\n",
       "      <td>pv</td>\n",
       "      <td>1083</td>\n",
       "      <td>0</td>\n",
       "      <td>1</td>\n",
       "      <td>8</td>\n",
       "      <td>3814</td>\n",
       "      <td>3751540</td>\n",
       "      <td>559398</td>\n",
       "    </tr>\n",
       "    <tr>\n",
       "      <th>3</th>\n",
       "      <td>5</td>\n",
       "      <td>3180376</td>\n",
       "      <td>pv</td>\n",
       "      <td>661</td>\n",
       "      <td>0</td>\n",
       "      <td>1</td>\n",
       "      <td>8</td>\n",
       "      <td>3439</td>\n",
       "      <td>2070152</td>\n",
       "      <td>64981</td>\n",
       "    </tr>\n",
       "    <tr>\n",
       "      <th>7</th>\n",
       "      <td>0</td>\n",
       "      <td>33771711</td>\n",
       "      <td>pv</td>\n",
       "      <td>1207</td>\n",
       "      <td>1</td>\n",
       "      <td>2</td>\n",
       "      <td>6</td>\n",
       "      <td>7022</td>\n",
       "      <td>2804824</td>\n",
       "      <td>-1</td>\n",
       "    </tr>\n",
       "    <tr>\n",
       "      <th>8</th>\n",
       "      <td>0</td>\n",
       "      <td>15372456</td>\n",
       "      <td>pv</td>\n",
       "      <td>1231</td>\n",
       "      <td>1</td>\n",
       "      <td>2</td>\n",
       "      <td>6</td>\n",
       "      <td>7022</td>\n",
       "      <td>131814</td>\n",
       "      <td>274025</td>\n",
       "    </tr>\n",
       "    <tr>\n",
       "      <th>4</th>\n",
       "      <td>6</td>\n",
       "      <td>3282954</td>\n",
       "      <td>pv</td>\n",
       "      <td>703</td>\n",
       "      <td>1</td>\n",
       "      <td>1</td>\n",
       "      <td>4</td>\n",
       "      <td>8588</td>\n",
       "      <td>986630</td>\n",
       "      <td>380693</td>\n",
       "    </tr>\n",
       "    <tr>\n",
       "      <th>2</th>\n",
       "      <td>7</td>\n",
       "      <td>18966363</td>\n",
       "      <td>pv</td>\n",
       "      <td>351</td>\n",
       "      <td>1</td>\n",
       "      <td>3</td>\n",
       "      <td>6</td>\n",
       "      <td>11215</td>\n",
       "      <td>76214</td>\n",
       "      <td>-1</td>\n",
       "    </tr>\n",
       "  </tbody>\n",
       "</table>\n",
       "</div>"
      ],
      "text/plain": [
       "   user      item label  time  sex  age  pur_power  category     shop   brand\n",
       "0     1   2028077    pv   242    0    1          3     14676  3959255      -1\n",
       "5     2  17311119    pv   944    1    2          1      8954  3346137  345468\n",
       "1     3  16644828    pv   318    0    1          9      7204  2357791  298554\n",
       "6     4  18657472    pv  1083    0    1          8      3814  3751540  559398\n",
       "3     5   3180376    pv   661    0    1          8      3439  2070152   64981\n",
       "7     0  33771711    pv  1207    1    2          6      7022  2804824      -1\n",
       "8     0  15372456    pv  1231    1    2          6      7022   131814  274025\n",
       "4     6   3282954    pv   703    1    1          4      8588   986630  380693\n",
       "2     7  18966363    pv   351    1    3          6     11215    76214      -1"
      ]
     },
     "execution_count": 77,
     "metadata": {},
     "output_type": "execute_result"
    }
   ],
   "source": [
    "train_data[\"user\"] = train_data[\"user\"].map(mapping)\n",
    "train_data"
   ]
  },
  {
   "cell_type": "code",
   "execution_count": 78,
   "metadata": {},
   "outputs": [
    {
     "data": {
      "text/plain": [
       "{0: 2, 1: 1, 2: 1, 3: 1, 4: 1, 5: 1, 6: 1, 7: 1}"
      ]
     },
     "execution_count": 78,
     "metadata": {},
     "output_type": "execute_result"
    }
   ],
   "source": [
    "train_data.groupby(\"user\").apply(len).to_dict()"
   ]
  },
  {
   "cell_type": "code",
   "execution_count": 85,
   "metadata": {},
   "outputs": [
    {
     "data": {
      "text/plain": [
       "array([ 242,  944,  318, 1083,  661, 1207, 1231,  703,  351])"
      ]
     },
     "execution_count": 85,
     "metadata": {},
     "output_type": "execute_result"
    }
   ],
   "source": [
    "train_sess_times = train_data[\"time\"].astype('int').to_numpy()\n",
    "train_sess_times"
   ]
  },
  {
   "cell_type": "code",
   "execution_count": 83,
   "metadata": {},
   "outputs": [],
   "source": [
    "train_users, train_user_position, train_user_counts = np.unique(\n",
    "    train_data.user.to_numpy(),\n",
    "    return_inverse=True,\n",
    "    return_counts=True\n",
    ")\n",
    "train_user_split_indices = np.split(\n",
    "    np.argsort(train_user_position, kind=\"mergesort\"),\n",
    "    np.cumsum(train_user_counts)[:-1]\n",
    ")"
   ]
  },
  {
   "cell_type": "code",
   "execution_count": 100,
   "metadata": {},
   "outputs": [
    {
     "data": {
      "text/plain": [
       "array([1, 2, 3])"
      ]
     },
     "execution_count": 100,
     "metadata": {},
     "output_type": "execute_result"
    }
   ],
   "source": [
    "train_user_split_indices\n",
    "np.where(np.ediff1d(np.array([1207, 1231, 1334, 1699, 18880])) > 100)[0]"
   ]
  },
  {
   "cell_type": "code",
   "execution_count": 94,
   "metadata": {},
   "outputs": [
    {
     "data": {
      "text/plain": [
       "array([1207, 1231])"
      ]
     },
     "execution_count": 94,
     "metadata": {},
     "output_type": "execute_result"
    }
   ],
   "source": [
    "train_sess_times[[5,6]]"
   ]
  },
  {
   "cell_type": "code",
   "execution_count": null,
   "metadata": {},
   "outputs": [],
   "source": [
    ")"
   ]
  }
 ],
 "metadata": {
  "kernelspec": {
   "display_name": "rlranker",
   "language": "python",
   "name": "python3"
  },
  "language_info": {
   "codemirror_mode": {
    "name": "ipython",
    "version": 3
   },
   "file_extension": ".py",
   "mimetype": "text/x-python",
   "name": "python",
   "nbconvert_exporter": "python",
   "pygments_lexer": "ipython3",
   "version": "3.9.16"
  },
  "orig_nbformat": 4
 },
 "nbformat": 4,
 "nbformat_minor": 2
}
