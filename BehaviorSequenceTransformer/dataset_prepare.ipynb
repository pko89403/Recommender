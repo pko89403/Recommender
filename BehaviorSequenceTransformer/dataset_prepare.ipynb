{
 "metadata": {
  "language_info": {
   "codemirror_mode": {
    "name": "ipython",
    "version": 3
   },
   "file_extension": ".py",
   "mimetype": "text/x-python",
   "name": "python",
   "nbconvert_exporter": "python",
   "pygments_lexer": "ipython3",
   "version": "3.7.10"
  },
  "orig_nbformat": 4,
  "kernelspec": {
   "name": "python3",
   "display_name": "Python 3.7.10 64-bit ('bert': conda)"
  },
  "interpreter": {
   "hash": "4b8b5d311b67da0944822eee6c33d3bd6be7a1af1e828dd7d8e9ea6d0a08f99d"
  }
 },
 "nbformat": 4,
 "nbformat_minor": 2,
 "cells": [
  {
   "cell_type": "code",
   "execution_count": 49,
   "metadata": {},
   "outputs": [],
   "source": [
    "import pandas as pd"
   ]
  },
  {
   "cell_type": "code",
   "execution_count": 50,
   "metadata": {},
   "outputs": [
    {
     "output_type": "stream",
     "name": "stderr",
     "text": [
      "ipykernel_launcher:4: ParserWarning: Falling back to the 'python' engine because the 'c' engine does not support regex separators (separators > 1 char and different from '\\s+' are interpreted as regex); you can avoid this warning by specifying engine='python'.\n"
     ]
    }
   ],
   "source": [
    "users = pd.read_csv(\n",
    "    \"./datasets/ml-1m/users.dat\",\n",
    "    sep=\"::\",\n",
    "    names=[\"user_id\", \"sex\", \"age_group\", \"occupation\", \"zip_code\"],)"
   ]
  },
  {
   "cell_type": "code",
   "execution_count": 51,
   "metadata": {},
   "outputs": [
    {
     "output_type": "stream",
     "name": "stderr",
     "text": [
      "ipykernel_launcher:3: ParserWarning: Falling back to the 'python' engine because the 'c' engine does not support regex separators (separators > 1 char and different from '\\s+' are interpreted as regex); you can avoid this warning by specifying engine='python'.\n"
     ]
    }
   ],
   "source": [
    "ratings = pd.read_csv(\"./datasets/ml-1m/ratings.dat\",\n",
    "    sep=\"::\",\n",
    "    names=[\"user_id\", \"movie_id\", \"rating\", \"unix_timestamp\"])"
   ]
  },
  {
   "cell_type": "code",
   "execution_count": 52,
   "metadata": {},
   "outputs": [
    {
     "output_type": "stream",
     "name": "stderr",
     "text": [
      "ipykernel_launcher:3: ParserWarning: Falling back to the 'python' engine because the 'c' engine does not support regex separators (separators > 1 char and different from '\\s+' are interpreted as regex); you can avoid this warning by specifying engine='python'.\n"
     ]
    }
   ],
   "source": [
    "movies = pd.read_csv(\"./datasets/ml-1m/movies.dat\",\n",
    "    sep=\"::\",\n",
    "    names=[\"movie_id\", \"title\", \"genres\"])"
   ]
  },
  {
   "cell_type": "code",
   "execution_count": 53,
   "metadata": {},
   "outputs": [],
   "source": [
    "users[\"user_id\"] = users[\"user_id\"].apply(lambda x: f\"user_{x}\")\n",
    "users[\"age_group\"] = users[\"age_group\"].apply(lambda x: f\"group_{x}\")\n",
    "users[\"occupation\"] = users[\"occupation\"].apply(lambda x: f\"occupation_{x}\")\n",
    "\n",
    "movies[\"movie_id\"] = movies[\"movie_id\"].apply(lambda x: f\"movie_{x}\")\n",
    "\n",
    "ratings[\"movie_id\"] = ratings[\"movie_id\"].apply(lambda x: f\"movie_{x}\")\n",
    "ratings[\"user_id\"] = ratings[\"user_id\"].apply(lambda x: f\"user_{x}\")\n",
    "ratings[\"rating\"] = ratings[\"rating\"].apply(lambda x: float(x))"
   ]
  },
  {
   "cell_type": "code",
   "execution_count": 54,
   "metadata": {},
   "outputs": [
    {
     "output_type": "execute_result",
     "data": {
      "text/plain": [
       "        user_id sex age_group     occupation zip_code\n",
       "0        user_1   F   group_1  occupation_10    48067\n",
       "1        user_2   M  group_56  occupation_16    70072\n",
       "2        user_3   M  group_25  occupation_15    55117\n",
       "3        user_4   M  group_45   occupation_7    02460\n",
       "4        user_5   M  group_25  occupation_20    55455\n",
       "...         ...  ..       ...            ...      ...\n",
       "6035  user_6036   F  group_25  occupation_15    32603\n",
       "6036  user_6037   F  group_45   occupation_1    76006\n",
       "6037  user_6038   F  group_56   occupation_1    14706\n",
       "6038  user_6039   F  group_45   occupation_0    01060\n",
       "6039  user_6040   M  group_25   occupation_6    11106\n",
       "\n",
       "[6040 rows x 5 columns]"
      ],
      "text/html": "<div>\n<style scoped>\n    .dataframe tbody tr th:only-of-type {\n        vertical-align: middle;\n    }\n\n    .dataframe tbody tr th {\n        vertical-align: top;\n    }\n\n    .dataframe thead th {\n        text-align: right;\n    }\n</style>\n<table border=\"1\" class=\"dataframe\">\n  <thead>\n    <tr style=\"text-align: right;\">\n      <th></th>\n      <th>user_id</th>\n      <th>sex</th>\n      <th>age_group</th>\n      <th>occupation</th>\n      <th>zip_code</th>\n    </tr>\n  </thead>\n  <tbody>\n    <tr>\n      <th>0</th>\n      <td>user_1</td>\n      <td>F</td>\n      <td>group_1</td>\n      <td>occupation_10</td>\n      <td>48067</td>\n    </tr>\n    <tr>\n      <th>1</th>\n      <td>user_2</td>\n      <td>M</td>\n      <td>group_56</td>\n      <td>occupation_16</td>\n      <td>70072</td>\n    </tr>\n    <tr>\n      <th>2</th>\n      <td>user_3</td>\n      <td>M</td>\n      <td>group_25</td>\n      <td>occupation_15</td>\n      <td>55117</td>\n    </tr>\n    <tr>\n      <th>3</th>\n      <td>user_4</td>\n      <td>M</td>\n      <td>group_45</td>\n      <td>occupation_7</td>\n      <td>02460</td>\n    </tr>\n    <tr>\n      <th>4</th>\n      <td>user_5</td>\n      <td>M</td>\n      <td>group_25</td>\n      <td>occupation_20</td>\n      <td>55455</td>\n    </tr>\n    <tr>\n      <th>...</th>\n      <td>...</td>\n      <td>...</td>\n      <td>...</td>\n      <td>...</td>\n      <td>...</td>\n    </tr>\n    <tr>\n      <th>6035</th>\n      <td>user_6036</td>\n      <td>F</td>\n      <td>group_25</td>\n      <td>occupation_15</td>\n      <td>32603</td>\n    </tr>\n    <tr>\n      <th>6036</th>\n      <td>user_6037</td>\n      <td>F</td>\n      <td>group_45</td>\n      <td>occupation_1</td>\n      <td>76006</td>\n    </tr>\n    <tr>\n      <th>6037</th>\n      <td>user_6038</td>\n      <td>F</td>\n      <td>group_56</td>\n      <td>occupation_1</td>\n      <td>14706</td>\n    </tr>\n    <tr>\n      <th>6038</th>\n      <td>user_6039</td>\n      <td>F</td>\n      <td>group_45</td>\n      <td>occupation_0</td>\n      <td>01060</td>\n    </tr>\n    <tr>\n      <th>6039</th>\n      <td>user_6040</td>\n      <td>M</td>\n      <td>group_25</td>\n      <td>occupation_6</td>\n      <td>11106</td>\n    </tr>\n  </tbody>\n</table>\n<p>6040 rows × 5 columns</p>\n</div>"
     },
     "metadata": {},
     "execution_count": 54
    }
   ],
   "source": [
    "users"
   ]
  },
  {
   "cell_type": "code",
   "execution_count": 55,
   "metadata": {},
   "outputs": [],
   "source": [
    "genres = [\n",
    "    \"Action\",\n",
    "    \"Adventure\",\n",
    "    \"Animation\",\n",
    "    \"Children's\",\n",
    "    \"Comedy\",\n",
    "    \"Crime\",\n",
    "    \"Documentary\",\n",
    "    \"Drama\",\n",
    "    \"Fantasy\",\n",
    "    \"Film-Noir\",\n",
    "    \"Horror\",\n",
    "    \"Musical\",\n",
    "    \"Mystery\",\n",
    "    \"Romance\",\n",
    "    \"Sci-Fi\",\n",
    "    \"Thriller\",\n",
    "    \"War\",\n",
    "    \"Western\",\n",
    "]\n",
    "\n",
    "for genre in genres:\n",
    "    movies[genre] = movies[\"genres\"].apply(\n",
    "        lambda values: int(genre in values.split(\"|\"))\n",
    "    )"
   ]
  },
  {
   "cell_type": "code",
   "execution_count": 56,
   "metadata": {},
   "outputs": [
    {
     "output_type": "execute_result",
     "data": {
      "text/plain": [
       "(3883, 18)"
      ]
     },
     "metadata": {},
     "execution_count": 56
    }
   ],
   "source": [
    "genre_vectors = movies[genres].to_numpy()\n",
    "genre_vectors.shape"
   ]
  },
  {
   "cell_type": "code",
   "execution_count": 57,
   "metadata": {},
   "outputs": [],
   "source": [
    "genres = movies[genres]\n",
    "genres.to_csv(\"./datasets/genres.csv\", index=False, sep=\"|\", header=False)\n"
   ]
  },
  {
   "cell_type": "code",
   "execution_count": 58,
   "metadata": {},
   "outputs": [
    {
     "output_type": "execute_result",
     "data": {
      "text/plain": [
       "        movie_id                               title  \\\n",
       "0        movie_1                    Toy Story (1995)   \n",
       "1        movie_2                      Jumanji (1995)   \n",
       "2        movie_3             Grumpier Old Men (1995)   \n",
       "3        movie_4            Waiting to Exhale (1995)   \n",
       "4        movie_5  Father of the Bride Part II (1995)   \n",
       "...          ...                                 ...   \n",
       "3878  movie_3948             Meet the Parents (2000)   \n",
       "3879  movie_3949          Requiem for a Dream (2000)   \n",
       "3880  movie_3950                    Tigerland (2000)   \n",
       "3881  movie_3951             Two Family House (2000)   \n",
       "3882  movie_3952               Contender, The (2000)   \n",
       "\n",
       "                            genres  Action  Adventure  Animation  Children's  \\\n",
       "0      Animation|Children's|Comedy       0          0          1           1   \n",
       "1     Adventure|Children's|Fantasy       0          1          0           1   \n",
       "2                   Comedy|Romance       0          0          0           0   \n",
       "3                     Comedy|Drama       0          0          0           0   \n",
       "4                           Comedy       0          0          0           0   \n",
       "...                            ...     ...        ...        ...         ...   \n",
       "3878                        Comedy       0          0          0           0   \n",
       "3879                         Drama       0          0          0           0   \n",
       "3880                         Drama       0          0          0           0   \n",
       "3881                         Drama       0          0          0           0   \n",
       "3882                Drama|Thriller       0          0          0           0   \n",
       "\n",
       "      Comedy  Crime  Documentary  ...  Fantasy  Film-Noir  Horror  Musical  \\\n",
       "0          1      0            0  ...        0          0       0        0   \n",
       "1          0      0            0  ...        1          0       0        0   \n",
       "2          1      0            0  ...        0          0       0        0   \n",
       "3          1      0            0  ...        0          0       0        0   \n",
       "4          1      0            0  ...        0          0       0        0   \n",
       "...      ...    ...          ...  ...      ...        ...     ...      ...   \n",
       "3878       1      0            0  ...        0          0       0        0   \n",
       "3879       0      0            0  ...        0          0       0        0   \n",
       "3880       0      0            0  ...        0          0       0        0   \n",
       "3881       0      0            0  ...        0          0       0        0   \n",
       "3882       0      0            0  ...        0          0       0        0   \n",
       "\n",
       "      Mystery  Romance  Sci-Fi  Thriller  War  Western  \n",
       "0           0        0       0         0    0        0  \n",
       "1           0        0       0         0    0        0  \n",
       "2           0        1       0         0    0        0  \n",
       "3           0        0       0         0    0        0  \n",
       "4           0        0       0         0    0        0  \n",
       "...       ...      ...     ...       ...  ...      ...  \n",
       "3878        0        0       0         0    0        0  \n",
       "3879        0        0       0         0    0        0  \n",
       "3880        0        0       0         0    0        0  \n",
       "3881        0        0       0         0    0        0  \n",
       "3882        0        0       0         1    0        0  \n",
       "\n",
       "[3883 rows x 21 columns]"
      ],
      "text/html": "<div>\n<style scoped>\n    .dataframe tbody tr th:only-of-type {\n        vertical-align: middle;\n    }\n\n    .dataframe tbody tr th {\n        vertical-align: top;\n    }\n\n    .dataframe thead th {\n        text-align: right;\n    }\n</style>\n<table border=\"1\" class=\"dataframe\">\n  <thead>\n    <tr style=\"text-align: right;\">\n      <th></th>\n      <th>movie_id</th>\n      <th>title</th>\n      <th>genres</th>\n      <th>Action</th>\n      <th>Adventure</th>\n      <th>Animation</th>\n      <th>Children's</th>\n      <th>Comedy</th>\n      <th>Crime</th>\n      <th>Documentary</th>\n      <th>...</th>\n      <th>Fantasy</th>\n      <th>Film-Noir</th>\n      <th>Horror</th>\n      <th>Musical</th>\n      <th>Mystery</th>\n      <th>Romance</th>\n      <th>Sci-Fi</th>\n      <th>Thriller</th>\n      <th>War</th>\n      <th>Western</th>\n    </tr>\n  </thead>\n  <tbody>\n    <tr>\n      <th>0</th>\n      <td>movie_1</td>\n      <td>Toy Story (1995)</td>\n      <td>Animation|Children's|Comedy</td>\n      <td>0</td>\n      <td>0</td>\n      <td>1</td>\n      <td>1</td>\n      <td>1</td>\n      <td>0</td>\n      <td>0</td>\n      <td>...</td>\n      <td>0</td>\n      <td>0</td>\n      <td>0</td>\n      <td>0</td>\n      <td>0</td>\n      <td>0</td>\n      <td>0</td>\n      <td>0</td>\n      <td>0</td>\n      <td>0</td>\n    </tr>\n    <tr>\n      <th>1</th>\n      <td>movie_2</td>\n      <td>Jumanji (1995)</td>\n      <td>Adventure|Children's|Fantasy</td>\n      <td>0</td>\n      <td>1</td>\n      <td>0</td>\n      <td>1</td>\n      <td>0</td>\n      <td>0</td>\n      <td>0</td>\n      <td>...</td>\n      <td>1</td>\n      <td>0</td>\n      <td>0</td>\n      <td>0</td>\n      <td>0</td>\n      <td>0</td>\n      <td>0</td>\n      <td>0</td>\n      <td>0</td>\n      <td>0</td>\n    </tr>\n    <tr>\n      <th>2</th>\n      <td>movie_3</td>\n      <td>Grumpier Old Men (1995)</td>\n      <td>Comedy|Romance</td>\n      <td>0</td>\n      <td>0</td>\n      <td>0</td>\n      <td>0</td>\n      <td>1</td>\n      <td>0</td>\n      <td>0</td>\n      <td>...</td>\n      <td>0</td>\n      <td>0</td>\n      <td>0</td>\n      <td>0</td>\n      <td>0</td>\n      <td>1</td>\n      <td>0</td>\n      <td>0</td>\n      <td>0</td>\n      <td>0</td>\n    </tr>\n    <tr>\n      <th>3</th>\n      <td>movie_4</td>\n      <td>Waiting to Exhale (1995)</td>\n      <td>Comedy|Drama</td>\n      <td>0</td>\n      <td>0</td>\n      <td>0</td>\n      <td>0</td>\n      <td>1</td>\n      <td>0</td>\n      <td>0</td>\n      <td>...</td>\n      <td>0</td>\n      <td>0</td>\n      <td>0</td>\n      <td>0</td>\n      <td>0</td>\n      <td>0</td>\n      <td>0</td>\n      <td>0</td>\n      <td>0</td>\n      <td>0</td>\n    </tr>\n    <tr>\n      <th>4</th>\n      <td>movie_5</td>\n      <td>Father of the Bride Part II (1995)</td>\n      <td>Comedy</td>\n      <td>0</td>\n      <td>0</td>\n      <td>0</td>\n      <td>0</td>\n      <td>1</td>\n      <td>0</td>\n      <td>0</td>\n      <td>...</td>\n      <td>0</td>\n      <td>0</td>\n      <td>0</td>\n      <td>0</td>\n      <td>0</td>\n      <td>0</td>\n      <td>0</td>\n      <td>0</td>\n      <td>0</td>\n      <td>0</td>\n    </tr>\n    <tr>\n      <th>...</th>\n      <td>...</td>\n      <td>...</td>\n      <td>...</td>\n      <td>...</td>\n      <td>...</td>\n      <td>...</td>\n      <td>...</td>\n      <td>...</td>\n      <td>...</td>\n      <td>...</td>\n      <td>...</td>\n      <td>...</td>\n      <td>...</td>\n      <td>...</td>\n      <td>...</td>\n      <td>...</td>\n      <td>...</td>\n      <td>...</td>\n      <td>...</td>\n      <td>...</td>\n      <td>...</td>\n    </tr>\n    <tr>\n      <th>3878</th>\n      <td>movie_3948</td>\n      <td>Meet the Parents (2000)</td>\n      <td>Comedy</td>\n      <td>0</td>\n      <td>0</td>\n      <td>0</td>\n      <td>0</td>\n      <td>1</td>\n      <td>0</td>\n      <td>0</td>\n      <td>...</td>\n      <td>0</td>\n      <td>0</td>\n      <td>0</td>\n      <td>0</td>\n      <td>0</td>\n      <td>0</td>\n      <td>0</td>\n      <td>0</td>\n      <td>0</td>\n      <td>0</td>\n    </tr>\n    <tr>\n      <th>3879</th>\n      <td>movie_3949</td>\n      <td>Requiem for a Dream (2000)</td>\n      <td>Drama</td>\n      <td>0</td>\n      <td>0</td>\n      <td>0</td>\n      <td>0</td>\n      <td>0</td>\n      <td>0</td>\n      <td>0</td>\n      <td>...</td>\n      <td>0</td>\n      <td>0</td>\n      <td>0</td>\n      <td>0</td>\n      <td>0</td>\n      <td>0</td>\n      <td>0</td>\n      <td>0</td>\n      <td>0</td>\n      <td>0</td>\n    </tr>\n    <tr>\n      <th>3880</th>\n      <td>movie_3950</td>\n      <td>Tigerland (2000)</td>\n      <td>Drama</td>\n      <td>0</td>\n      <td>0</td>\n      <td>0</td>\n      <td>0</td>\n      <td>0</td>\n      <td>0</td>\n      <td>0</td>\n      <td>...</td>\n      <td>0</td>\n      <td>0</td>\n      <td>0</td>\n      <td>0</td>\n      <td>0</td>\n      <td>0</td>\n      <td>0</td>\n      <td>0</td>\n      <td>0</td>\n      <td>0</td>\n    </tr>\n    <tr>\n      <th>3881</th>\n      <td>movie_3951</td>\n      <td>Two Family House (2000)</td>\n      <td>Drama</td>\n      <td>0</td>\n      <td>0</td>\n      <td>0</td>\n      <td>0</td>\n      <td>0</td>\n      <td>0</td>\n      <td>0</td>\n      <td>...</td>\n      <td>0</td>\n      <td>0</td>\n      <td>0</td>\n      <td>0</td>\n      <td>0</td>\n      <td>0</td>\n      <td>0</td>\n      <td>0</td>\n      <td>0</td>\n      <td>0</td>\n    </tr>\n    <tr>\n      <th>3882</th>\n      <td>movie_3952</td>\n      <td>Contender, The (2000)</td>\n      <td>Drama|Thriller</td>\n      <td>0</td>\n      <td>0</td>\n      <td>0</td>\n      <td>0</td>\n      <td>0</td>\n      <td>0</td>\n      <td>0</td>\n      <td>...</td>\n      <td>0</td>\n      <td>0</td>\n      <td>0</td>\n      <td>0</td>\n      <td>0</td>\n      <td>0</td>\n      <td>0</td>\n      <td>1</td>\n      <td>0</td>\n      <td>0</td>\n    </tr>\n  </tbody>\n</table>\n<p>3883 rows × 21 columns</p>\n</div>"
     },
     "metadata": {},
     "execution_count": 58
    }
   ],
   "source": [
    "movies"
   ]
  },
  {
   "cell_type": "code",
   "execution_count": 59,
   "metadata": {},
   "outputs": [
    {
     "output_type": "execute_result",
     "data": {
      "text/plain": [
       "           user_id    movie_id  rating  unix_timestamp\n",
       "0           user_1  movie_1193     5.0       978300760\n",
       "1           user_1   movie_661     3.0       978302109\n",
       "2           user_1   movie_914     3.0       978301968\n",
       "3           user_1  movie_3408     4.0       978300275\n",
       "4           user_1  movie_2355     5.0       978824291\n",
       "...            ...         ...     ...             ...\n",
       "1000204  user_6040  movie_1091     1.0       956716541\n",
       "1000205  user_6040  movie_1094     5.0       956704887\n",
       "1000206  user_6040   movie_562     5.0       956704746\n",
       "1000207  user_6040  movie_1096     4.0       956715648\n",
       "1000208  user_6040  movie_1097     4.0       956715569\n",
       "\n",
       "[1000209 rows x 4 columns]"
      ],
      "text/html": "<div>\n<style scoped>\n    .dataframe tbody tr th:only-of-type {\n        vertical-align: middle;\n    }\n\n    .dataframe tbody tr th {\n        vertical-align: top;\n    }\n\n    .dataframe thead th {\n        text-align: right;\n    }\n</style>\n<table border=\"1\" class=\"dataframe\">\n  <thead>\n    <tr style=\"text-align: right;\">\n      <th></th>\n      <th>user_id</th>\n      <th>movie_id</th>\n      <th>rating</th>\n      <th>unix_timestamp</th>\n    </tr>\n  </thead>\n  <tbody>\n    <tr>\n      <th>0</th>\n      <td>user_1</td>\n      <td>movie_1193</td>\n      <td>5.0</td>\n      <td>978300760</td>\n    </tr>\n    <tr>\n      <th>1</th>\n      <td>user_1</td>\n      <td>movie_661</td>\n      <td>3.0</td>\n      <td>978302109</td>\n    </tr>\n    <tr>\n      <th>2</th>\n      <td>user_1</td>\n      <td>movie_914</td>\n      <td>3.0</td>\n      <td>978301968</td>\n    </tr>\n    <tr>\n      <th>3</th>\n      <td>user_1</td>\n      <td>movie_3408</td>\n      <td>4.0</td>\n      <td>978300275</td>\n    </tr>\n    <tr>\n      <th>4</th>\n      <td>user_1</td>\n      <td>movie_2355</td>\n      <td>5.0</td>\n      <td>978824291</td>\n    </tr>\n    <tr>\n      <th>...</th>\n      <td>...</td>\n      <td>...</td>\n      <td>...</td>\n      <td>...</td>\n    </tr>\n    <tr>\n      <th>1000204</th>\n      <td>user_6040</td>\n      <td>movie_1091</td>\n      <td>1.0</td>\n      <td>956716541</td>\n    </tr>\n    <tr>\n      <th>1000205</th>\n      <td>user_6040</td>\n      <td>movie_1094</td>\n      <td>5.0</td>\n      <td>956704887</td>\n    </tr>\n    <tr>\n      <th>1000206</th>\n      <td>user_6040</td>\n      <td>movie_562</td>\n      <td>5.0</td>\n      <td>956704746</td>\n    </tr>\n    <tr>\n      <th>1000207</th>\n      <td>user_6040</td>\n      <td>movie_1096</td>\n      <td>4.0</td>\n      <td>956715648</td>\n    </tr>\n    <tr>\n      <th>1000208</th>\n      <td>user_6040</td>\n      <td>movie_1097</td>\n      <td>4.0</td>\n      <td>956715569</td>\n    </tr>\n  </tbody>\n</table>\n<p>1000209 rows × 4 columns</p>\n</div>"
     },
     "metadata": {},
     "execution_count": 59
    }
   ],
   "source": [
    "ratings"
   ]
  },
  {
   "cell_type": "code",
   "execution_count": 60,
   "metadata": {},
   "outputs": [],
   "source": [
    "ratings_sort = ratings.sort_values(by=[\"unix_timestamp\"])"
   ]
  },
  {
   "cell_type": "code",
   "execution_count": 61,
   "metadata": {},
   "outputs": [
    {
     "output_type": "execute_result",
     "data": {
      "text/plain": [
       "           user_id    movie_id  rating  unix_timestamp\n",
       "1000138  user_6040   movie_858     4.0       956703932\n",
       "1000153  user_6040  movie_2384     4.0       956703954\n",
       "999873   user_6040   movie_593     5.0       956703954\n",
       "1000007  user_6040  movie_1961     4.0       956703977\n",
       "1000192  user_6040  movie_2019     5.0       956703977\n",
       "...            ...         ...     ...             ...\n",
       "825793   user_4958  movie_2399     1.0      1046454338\n",
       "825438   user_4958  movie_1407     5.0      1046454443\n",
       "825724   user_4958  movie_3264     4.0      1046454548\n",
       "825731   user_4958  movie_2634     3.0      1046454548\n",
       "825603   user_4958  movie_1924     4.0      1046454590\n",
       "\n",
       "[1000209 rows x 4 columns]"
      ],
      "text/html": "<div>\n<style scoped>\n    .dataframe tbody tr th:only-of-type {\n        vertical-align: middle;\n    }\n\n    .dataframe tbody tr th {\n        vertical-align: top;\n    }\n\n    .dataframe thead th {\n        text-align: right;\n    }\n</style>\n<table border=\"1\" class=\"dataframe\">\n  <thead>\n    <tr style=\"text-align: right;\">\n      <th></th>\n      <th>user_id</th>\n      <th>movie_id</th>\n      <th>rating</th>\n      <th>unix_timestamp</th>\n    </tr>\n  </thead>\n  <tbody>\n    <tr>\n      <th>1000138</th>\n      <td>user_6040</td>\n      <td>movie_858</td>\n      <td>4.0</td>\n      <td>956703932</td>\n    </tr>\n    <tr>\n      <th>1000153</th>\n      <td>user_6040</td>\n      <td>movie_2384</td>\n      <td>4.0</td>\n      <td>956703954</td>\n    </tr>\n    <tr>\n      <th>999873</th>\n      <td>user_6040</td>\n      <td>movie_593</td>\n      <td>5.0</td>\n      <td>956703954</td>\n    </tr>\n    <tr>\n      <th>1000007</th>\n      <td>user_6040</td>\n      <td>movie_1961</td>\n      <td>4.0</td>\n      <td>956703977</td>\n    </tr>\n    <tr>\n      <th>1000192</th>\n      <td>user_6040</td>\n      <td>movie_2019</td>\n      <td>5.0</td>\n      <td>956703977</td>\n    </tr>\n    <tr>\n      <th>...</th>\n      <td>...</td>\n      <td>...</td>\n      <td>...</td>\n      <td>...</td>\n    </tr>\n    <tr>\n      <th>825793</th>\n      <td>user_4958</td>\n      <td>movie_2399</td>\n      <td>1.0</td>\n      <td>1046454338</td>\n    </tr>\n    <tr>\n      <th>825438</th>\n      <td>user_4958</td>\n      <td>movie_1407</td>\n      <td>5.0</td>\n      <td>1046454443</td>\n    </tr>\n    <tr>\n      <th>825724</th>\n      <td>user_4958</td>\n      <td>movie_3264</td>\n      <td>4.0</td>\n      <td>1046454548</td>\n    </tr>\n    <tr>\n      <th>825731</th>\n      <td>user_4958</td>\n      <td>movie_2634</td>\n      <td>3.0</td>\n      <td>1046454548</td>\n    </tr>\n    <tr>\n      <th>825603</th>\n      <td>user_4958</td>\n      <td>movie_1924</td>\n      <td>4.0</td>\n      <td>1046454590</td>\n    </tr>\n  </tbody>\n</table>\n<p>1000209 rows × 4 columns</p>\n</div>"
     },
     "metadata": {},
     "execution_count": 61
    }
   ],
   "source": [
    "ratings_sort"
   ]
  },
  {
   "cell_type": "code",
   "execution_count": 62,
   "metadata": {},
   "outputs": [
    {
     "output_type": "stream",
     "name": "stdout",
     "text": [
      "<pandas.core.groupby.generic.DataFrameGroupBy object at 0x7fb87f169b90>\n"
     ]
    }
   ],
   "source": [
    "ratings_group = ratings_sort.groupby([\"user_id\"])\n",
    "print(ratings_group)"
   ]
  },
  {
   "cell_type": "code",
   "execution_count": 63,
   "metadata": {},
   "outputs": [],
   "source": [
    "ratings_data = pd.DataFrame(\n",
    "    data = {\n",
    "        \"user_id\" : list(ratings_group.groups.keys()),\n",
    "        \"movie_ids\" : list(ratings_group.movie_id.apply(list)),\n",
    "        \"ratings\" : list(ratings_group.rating.apply(list)),\n",
    "        \"timestamps\" : list(ratings_group.unix_timestamp.apply(list)),\n",
    "    }\n",
    ")"
   ]
  },
  {
   "cell_type": "code",
   "execution_count": 64,
   "metadata": {},
   "outputs": [
    {
     "output_type": "execute_result",
     "data": {
      "text/plain": [
       "        user_id                                          movie_ids  \\\n",
       "0        user_1  [movie_3186, movie_1721, movie_1270, movie_102...   \n",
       "1       user_10  [movie_597, movie_858, movie_743, movie_1210, ...   \n",
       "2      user_100  [movie_260, movie_1676, movie_1198, movie_541,...   \n",
       "3     user_1000  [movie_971, movie_260, movie_2990, movie_2973,...   \n",
       "4     user_1001  [movie_1198, movie_1617, movie_2885, movie_390...   \n",
       "...         ...                                                ...   \n",
       "6035   user_995  [movie_1894, movie_260, movie_247, movie_433, ...   \n",
       "6036   user_996  [movie_1347, movie_2146, movie_1961, movie_274...   \n",
       "6037   user_997  [movie_1196, movie_2082, movie_3247, movie_244...   \n",
       "6038   user_998  [movie_2266, movie_1264, movie_1097, movie_164...   \n",
       "6039   user_999  [movie_1196, movie_1015, movie_1600, movie_109...   \n",
       "\n",
       "                                                ratings  \\\n",
       "0     [4.0, 4.0, 5.0, 5.0, 3.0, 5.0, 4.0, 4.0, 5.0, ...   \n",
       "1     [4.0, 3.0, 3.0, 4.0, 4.0, 5.0, 5.0, 5.0, 3.0, ...   \n",
       "2     [4.0, 3.0, 4.0, 3.0, 4.0, 3.0, 1.0, 1.0, 5.0, ...   \n",
       "3     [4.0, 5.0, 4.0, 3.0, 5.0, 5.0, 2.0, 5.0, 5.0, ...   \n",
       "4     [4.0, 4.0, 4.0, 2.0, 2.0, 1.0, 4.0, 5.0, 5.0, ...   \n",
       "...                                                 ...   \n",
       "6035  [2.0, 4.0, 5.0, 3.0, 3.0, 4.0, 4.0, 4.0, 3.0, ...   \n",
       "6036  [4.0, 3.0, 5.0, 3.0, 5.0, 5.0, 5.0, 5.0, 4.0, ...   \n",
       "6037  [4.0, 3.0, 3.0, 3.0, 2.0, 5.0, 5.0, 5.0, 4.0, ...   \n",
       "6038  [3.0, 4.0, 5.0, 5.0, 4.0, 3.0, 4.0, 3.0, 4.0, ...   \n",
       "6039  [5.0, 3.0, 1.0, 4.0, 2.0, 4.0, 4.0, 5.0, 5.0, ...   \n",
       "\n",
       "                                             timestamps  \n",
       "0     [978300019, 978300055, 978300055, 978300055, 9...  \n",
       "1     [978224375, 978224375, 978224375, 978224400, 9...  \n",
       "2     [977593595, 977593595, 977593607, 977593624, 9...  \n",
       "3     [975040566, 975040566, 975040566, 975040629, 9...  \n",
       "4     [975039591, 975039702, 975039702, 975039898, 9...  \n",
       "...                                                 ...  \n",
       "6035  [975054785, 975054785, 975054785, 975054853, 9...  \n",
       "6036  [975052132, 975052132, 975052195, 975052284, 9...  \n",
       "6037  [975044235, 975044425, 975044426, 975044426, 9...  \n",
       "6038  [975043499, 975043593, 975043593, 975043593, 9...  \n",
       "6039  [975042787, 975042921, 975043058, 975043058, 9...  \n",
       "\n",
       "[6040 rows x 4 columns]"
      ],
      "text/html": "<div>\n<style scoped>\n    .dataframe tbody tr th:only-of-type {\n        vertical-align: middle;\n    }\n\n    .dataframe tbody tr th {\n        vertical-align: top;\n    }\n\n    .dataframe thead th {\n        text-align: right;\n    }\n</style>\n<table border=\"1\" class=\"dataframe\">\n  <thead>\n    <tr style=\"text-align: right;\">\n      <th></th>\n      <th>user_id</th>\n      <th>movie_ids</th>\n      <th>ratings</th>\n      <th>timestamps</th>\n    </tr>\n  </thead>\n  <tbody>\n    <tr>\n      <th>0</th>\n      <td>user_1</td>\n      <td>[movie_3186, movie_1721, movie_1270, movie_102...</td>\n      <td>[4.0, 4.0, 5.0, 5.0, 3.0, 5.0, 4.0, 4.0, 5.0, ...</td>\n      <td>[978300019, 978300055, 978300055, 978300055, 9...</td>\n    </tr>\n    <tr>\n      <th>1</th>\n      <td>user_10</td>\n      <td>[movie_597, movie_858, movie_743, movie_1210, ...</td>\n      <td>[4.0, 3.0, 3.0, 4.0, 4.0, 5.0, 5.0, 5.0, 3.0, ...</td>\n      <td>[978224375, 978224375, 978224375, 978224400, 9...</td>\n    </tr>\n    <tr>\n      <th>2</th>\n      <td>user_100</td>\n      <td>[movie_260, movie_1676, movie_1198, movie_541,...</td>\n      <td>[4.0, 3.0, 4.0, 3.0, 4.0, 3.0, 1.0, 1.0, 5.0, ...</td>\n      <td>[977593595, 977593595, 977593607, 977593624, 9...</td>\n    </tr>\n    <tr>\n      <th>3</th>\n      <td>user_1000</td>\n      <td>[movie_971, movie_260, movie_2990, movie_2973,...</td>\n      <td>[4.0, 5.0, 4.0, 3.0, 5.0, 5.0, 2.0, 5.0, 5.0, ...</td>\n      <td>[975040566, 975040566, 975040566, 975040629, 9...</td>\n    </tr>\n    <tr>\n      <th>4</th>\n      <td>user_1001</td>\n      <td>[movie_1198, movie_1617, movie_2885, movie_390...</td>\n      <td>[4.0, 4.0, 4.0, 2.0, 2.0, 1.0, 4.0, 5.0, 5.0, ...</td>\n      <td>[975039591, 975039702, 975039702, 975039898, 9...</td>\n    </tr>\n    <tr>\n      <th>...</th>\n      <td>...</td>\n      <td>...</td>\n      <td>...</td>\n      <td>...</td>\n    </tr>\n    <tr>\n      <th>6035</th>\n      <td>user_995</td>\n      <td>[movie_1894, movie_260, movie_247, movie_433, ...</td>\n      <td>[2.0, 4.0, 5.0, 3.0, 3.0, 4.0, 4.0, 4.0, 3.0, ...</td>\n      <td>[975054785, 975054785, 975054785, 975054853, 9...</td>\n    </tr>\n    <tr>\n      <th>6036</th>\n      <td>user_996</td>\n      <td>[movie_1347, movie_2146, movie_1961, movie_274...</td>\n      <td>[4.0, 3.0, 5.0, 3.0, 5.0, 5.0, 5.0, 5.0, 4.0, ...</td>\n      <td>[975052132, 975052132, 975052195, 975052284, 9...</td>\n    </tr>\n    <tr>\n      <th>6037</th>\n      <td>user_997</td>\n      <td>[movie_1196, movie_2082, movie_3247, movie_244...</td>\n      <td>[4.0, 3.0, 3.0, 3.0, 2.0, 5.0, 5.0, 5.0, 4.0, ...</td>\n      <td>[975044235, 975044425, 975044426, 975044426, 9...</td>\n    </tr>\n    <tr>\n      <th>6038</th>\n      <td>user_998</td>\n      <td>[movie_2266, movie_1264, movie_1097, movie_164...</td>\n      <td>[3.0, 4.0, 5.0, 5.0, 4.0, 3.0, 4.0, 3.0, 4.0, ...</td>\n      <td>[975043499, 975043593, 975043593, 975043593, 9...</td>\n    </tr>\n    <tr>\n      <th>6039</th>\n      <td>user_999</td>\n      <td>[movie_1196, movie_1015, movie_1600, movie_109...</td>\n      <td>[5.0, 3.0, 1.0, 4.0, 2.0, 4.0, 4.0, 5.0, 5.0, ...</td>\n      <td>[975042787, 975042921, 975043058, 975043058, 9...</td>\n    </tr>\n  </tbody>\n</table>\n<p>6040 rows × 4 columns</p>\n</div>"
     },
     "metadata": {},
     "execution_count": 64
    }
   ],
   "source": [
    "ratings_data"
   ]
  },
  {
   "cell_type": "code",
   "execution_count": 65,
   "metadata": {},
   "outputs": [],
   "source": [
    "def create_sequence(values, window_size, step_size):\n",
    "    sequences = [] \n",
    "    start_index = 0 \n",
    "    while True:\n",
    "        end_index = start_index + window_size\n",
    "        seq = values[start_index:end_index]\n",
    "        if len(seq) < window_size:\n",
    "            seq = values[-window_size:]\n",
    "            if len(seq) == window_size:\n",
    "                sequences.append(seq)\n",
    "            break \n",
    "        sequences.append(seq)\n",
    "        start_index += step_size\n",
    "    return sequences\n"
   ]
  },
  {
   "cell_type": "code",
   "execution_count": 66,
   "metadata": {},
   "outputs": [],
   "source": [
    "sequence_length = 4 \n",
    "step_size = 2\n",
    "\n",
    "ratings_data.movie_ids = ratings_data.movie_ids.apply(\n",
    "    lambda ids: create_sequence(ids, sequence_length, step_size)\n",
    ")\n",
    "\n",
    "ratings_data.ratings = ratings_data.ratings.apply(\n",
    "    lambda ids: create_sequence(ids, sequence_length, step_size)\n",
    ")\n",
    "\n",
    "del ratings_data[\"timestamps\"]"
   ]
  },
  {
   "cell_type": "code",
   "execution_count": 67,
   "metadata": {},
   "outputs": [
    {
     "output_type": "execute_result",
     "data": {
      "text/plain": [
       "        user_id                                          movie_ids  \\\n",
       "0        user_1  [[movie_3186, movie_1721, movie_1270, movie_10...   \n",
       "1       user_10  [[movie_597, movie_858, movie_743, movie_1210]...   \n",
       "2      user_100  [[movie_260, movie_1676, movie_1198, movie_541...   \n",
       "3     user_1000  [[movie_971, movie_260, movie_2990, movie_2973...   \n",
       "4     user_1001  [[movie_1198, movie_1617, movie_2885, movie_39...   \n",
       "...         ...                                                ...   \n",
       "6035   user_995  [[movie_1894, movie_260, movie_247, movie_433]...   \n",
       "6036   user_996  [[movie_1347, movie_2146, movie_1961, movie_27...   \n",
       "6037   user_997  [[movie_1196, movie_2082, movie_3247, movie_24...   \n",
       "6038   user_998  [[movie_2266, movie_1264, movie_1097, movie_16...   \n",
       "6039   user_999  [[movie_1196, movie_1015, movie_1600, movie_10...   \n",
       "\n",
       "                                                ratings  \n",
       "0     [[4.0, 4.0, 5.0, 5.0], [5.0, 5.0, 3.0, 5.0], [...  \n",
       "1     [[4.0, 3.0, 3.0, 4.0], [3.0, 4.0, 4.0, 5.0], [...  \n",
       "2     [[4.0, 3.0, 4.0, 3.0], [4.0, 3.0, 4.0, 3.0], [...  \n",
       "3     [[4.0, 5.0, 4.0, 3.0], [4.0, 3.0, 5.0, 5.0], [...  \n",
       "4     [[4.0, 4.0, 4.0, 2.0], [4.0, 2.0, 2.0, 1.0], [...  \n",
       "...                                                 ...  \n",
       "6035  [[2.0, 4.0, 5.0, 3.0], [5.0, 3.0, 3.0, 4.0], [...  \n",
       "6036  [[4.0, 3.0, 5.0, 3.0], [5.0, 3.0, 5.0, 5.0], [...  \n",
       "6037  [[4.0, 3.0, 3.0, 3.0], [3.0, 3.0, 2.0, 5.0], [...  \n",
       "6038  [[3.0, 4.0, 5.0, 5.0], [5.0, 5.0, 4.0, 3.0], [...  \n",
       "6039  [[5.0, 3.0, 1.0, 4.0], [1.0, 4.0, 2.0, 4.0], [...  \n",
       "\n",
       "[6040 rows x 3 columns]"
      ],
      "text/html": "<div>\n<style scoped>\n    .dataframe tbody tr th:only-of-type {\n        vertical-align: middle;\n    }\n\n    .dataframe tbody tr th {\n        vertical-align: top;\n    }\n\n    .dataframe thead th {\n        text-align: right;\n    }\n</style>\n<table border=\"1\" class=\"dataframe\">\n  <thead>\n    <tr style=\"text-align: right;\">\n      <th></th>\n      <th>user_id</th>\n      <th>movie_ids</th>\n      <th>ratings</th>\n    </tr>\n  </thead>\n  <tbody>\n    <tr>\n      <th>0</th>\n      <td>user_1</td>\n      <td>[[movie_3186, movie_1721, movie_1270, movie_10...</td>\n      <td>[[4.0, 4.0, 5.0, 5.0], [5.0, 5.0, 3.0, 5.0], [...</td>\n    </tr>\n    <tr>\n      <th>1</th>\n      <td>user_10</td>\n      <td>[[movie_597, movie_858, movie_743, movie_1210]...</td>\n      <td>[[4.0, 3.0, 3.0, 4.0], [3.0, 4.0, 4.0, 5.0], [...</td>\n    </tr>\n    <tr>\n      <th>2</th>\n      <td>user_100</td>\n      <td>[[movie_260, movie_1676, movie_1198, movie_541...</td>\n      <td>[[4.0, 3.0, 4.0, 3.0], [4.0, 3.0, 4.0, 3.0], [...</td>\n    </tr>\n    <tr>\n      <th>3</th>\n      <td>user_1000</td>\n      <td>[[movie_971, movie_260, movie_2990, movie_2973...</td>\n      <td>[[4.0, 5.0, 4.0, 3.0], [4.0, 3.0, 5.0, 5.0], [...</td>\n    </tr>\n    <tr>\n      <th>4</th>\n      <td>user_1001</td>\n      <td>[[movie_1198, movie_1617, movie_2885, movie_39...</td>\n      <td>[[4.0, 4.0, 4.0, 2.0], [4.0, 2.0, 2.0, 1.0], [...</td>\n    </tr>\n    <tr>\n      <th>...</th>\n      <td>...</td>\n      <td>...</td>\n      <td>...</td>\n    </tr>\n    <tr>\n      <th>6035</th>\n      <td>user_995</td>\n      <td>[[movie_1894, movie_260, movie_247, movie_433]...</td>\n      <td>[[2.0, 4.0, 5.0, 3.0], [5.0, 3.0, 3.0, 4.0], [...</td>\n    </tr>\n    <tr>\n      <th>6036</th>\n      <td>user_996</td>\n      <td>[[movie_1347, movie_2146, movie_1961, movie_27...</td>\n      <td>[[4.0, 3.0, 5.0, 3.0], [5.0, 3.0, 5.0, 5.0], [...</td>\n    </tr>\n    <tr>\n      <th>6037</th>\n      <td>user_997</td>\n      <td>[[movie_1196, movie_2082, movie_3247, movie_24...</td>\n      <td>[[4.0, 3.0, 3.0, 3.0], [3.0, 3.0, 2.0, 5.0], [...</td>\n    </tr>\n    <tr>\n      <th>6038</th>\n      <td>user_998</td>\n      <td>[[movie_2266, movie_1264, movie_1097, movie_16...</td>\n      <td>[[3.0, 4.0, 5.0, 5.0], [5.0, 5.0, 4.0, 3.0], [...</td>\n    </tr>\n    <tr>\n      <th>6039</th>\n      <td>user_999</td>\n      <td>[[movie_1196, movie_1015, movie_1600, movie_10...</td>\n      <td>[[5.0, 3.0, 1.0, 4.0], [1.0, 4.0, 2.0, 4.0], [...</td>\n    </tr>\n  </tbody>\n</table>\n<p>6040 rows × 3 columns</p>\n</div>"
     },
     "metadata": {},
     "execution_count": 67
    }
   ],
   "source": [
    "ratings_data"
   ]
  },
  {
   "cell_type": "code",
   "execution_count": 68,
   "metadata": {},
   "outputs": [],
   "source": [
    "ratings_data_movies = ratings_data[[\"user_id\", \"movie_ids\"]].explode(\"movie_ids\", ignore_index=True)"
   ]
  },
  {
   "cell_type": "code",
   "execution_count": 69,
   "metadata": {},
   "outputs": [
    {
     "output_type": "execute_result",
     "data": {
      "text/plain": [
       "         user_id                                         movie_ids\n",
       "0         user_1  [movie_3186, movie_1721, movie_1270, movie_1022]\n",
       "1         user_1  [movie_1270, movie_1022, movie_2340, movie_1836]\n",
       "2         user_1  [movie_2340, movie_1836, movie_3408, movie_1207]\n",
       "3         user_1   [movie_3408, movie_1207, movie_2804, movie_260]\n",
       "4         user_1    [movie_2804, movie_260, movie_720, movie_1193]\n",
       "...          ...                                               ...\n",
       "498618  user_999   [movie_2676, movie_2540, movie_1363, movie_765]\n",
       "498619  user_999   [movie_1363, movie_765, movie_3565, movie_1410]\n",
       "498620  user_999  [movie_3565, movie_1410, movie_2269, movie_2504]\n",
       "498621  user_999    [movie_2269, movie_2504, movie_455, movie_193]\n",
       "498622  user_999    [movie_2269, movie_2504, movie_455, movie_193]\n",
       "\n",
       "[498623 rows x 2 columns]"
      ],
      "text/html": "<div>\n<style scoped>\n    .dataframe tbody tr th:only-of-type {\n        vertical-align: middle;\n    }\n\n    .dataframe tbody tr th {\n        vertical-align: top;\n    }\n\n    .dataframe thead th {\n        text-align: right;\n    }\n</style>\n<table border=\"1\" class=\"dataframe\">\n  <thead>\n    <tr style=\"text-align: right;\">\n      <th></th>\n      <th>user_id</th>\n      <th>movie_ids</th>\n    </tr>\n  </thead>\n  <tbody>\n    <tr>\n      <th>0</th>\n      <td>user_1</td>\n      <td>[movie_3186, movie_1721, movie_1270, movie_1022]</td>\n    </tr>\n    <tr>\n      <th>1</th>\n      <td>user_1</td>\n      <td>[movie_1270, movie_1022, movie_2340, movie_1836]</td>\n    </tr>\n    <tr>\n      <th>2</th>\n      <td>user_1</td>\n      <td>[movie_2340, movie_1836, movie_3408, movie_1207]</td>\n    </tr>\n    <tr>\n      <th>3</th>\n      <td>user_1</td>\n      <td>[movie_3408, movie_1207, movie_2804, movie_260]</td>\n    </tr>\n    <tr>\n      <th>4</th>\n      <td>user_1</td>\n      <td>[movie_2804, movie_260, movie_720, movie_1193]</td>\n    </tr>\n    <tr>\n      <th>...</th>\n      <td>...</td>\n      <td>...</td>\n    </tr>\n    <tr>\n      <th>498618</th>\n      <td>user_999</td>\n      <td>[movie_2676, movie_2540, movie_1363, movie_765]</td>\n    </tr>\n    <tr>\n      <th>498619</th>\n      <td>user_999</td>\n      <td>[movie_1363, movie_765, movie_3565, movie_1410]</td>\n    </tr>\n    <tr>\n      <th>498620</th>\n      <td>user_999</td>\n      <td>[movie_3565, movie_1410, movie_2269, movie_2504]</td>\n    </tr>\n    <tr>\n      <th>498621</th>\n      <td>user_999</td>\n      <td>[movie_2269, movie_2504, movie_455, movie_193]</td>\n    </tr>\n    <tr>\n      <th>498622</th>\n      <td>user_999</td>\n      <td>[movie_2269, movie_2504, movie_455, movie_193]</td>\n    </tr>\n  </tbody>\n</table>\n<p>498623 rows × 2 columns</p>\n</div>"
     },
     "metadata": {},
     "execution_count": 69
    }
   ],
   "source": [
    "ratings_data_movies"
   ]
  },
  {
   "cell_type": "code",
   "execution_count": 70,
   "metadata": {},
   "outputs": [],
   "source": [
    "ratings_data_rating = ratings_data[[\"ratings\"]].explode(\"ratings\", ignore_index=True)"
   ]
  },
  {
   "cell_type": "code",
   "execution_count": 71,
   "metadata": {},
   "outputs": [
    {
     "output_type": "execute_result",
     "data": {
      "text/plain": [
       "                     ratings\n",
       "0       [4.0, 4.0, 5.0, 5.0]\n",
       "1       [5.0, 5.0, 3.0, 5.0]\n",
       "2       [3.0, 5.0, 4.0, 4.0]\n",
       "3       [4.0, 4.0, 5.0, 4.0]\n",
       "4       [5.0, 4.0, 3.0, 5.0]\n",
       "...                      ...\n",
       "498618  [3.0, 2.0, 3.0, 3.0]\n",
       "498619  [3.0, 3.0, 4.0, 2.0]\n",
       "498620  [4.0, 2.0, 3.0, 3.0]\n",
       "498621  [3.0, 3.0, 2.0, 2.0]\n",
       "498622  [3.0, 3.0, 2.0, 2.0]\n",
       "\n",
       "[498623 rows x 1 columns]"
      ],
      "text/html": "<div>\n<style scoped>\n    .dataframe tbody tr th:only-of-type {\n        vertical-align: middle;\n    }\n\n    .dataframe tbody tr th {\n        vertical-align: top;\n    }\n\n    .dataframe thead th {\n        text-align: right;\n    }\n</style>\n<table border=\"1\" class=\"dataframe\">\n  <thead>\n    <tr style=\"text-align: right;\">\n      <th></th>\n      <th>ratings</th>\n    </tr>\n  </thead>\n  <tbody>\n    <tr>\n      <th>0</th>\n      <td>[4.0, 4.0, 5.0, 5.0]</td>\n    </tr>\n    <tr>\n      <th>1</th>\n      <td>[5.0, 5.0, 3.0, 5.0]</td>\n    </tr>\n    <tr>\n      <th>2</th>\n      <td>[3.0, 5.0, 4.0, 4.0]</td>\n    </tr>\n    <tr>\n      <th>3</th>\n      <td>[4.0, 4.0, 5.0, 4.0]</td>\n    </tr>\n    <tr>\n      <th>4</th>\n      <td>[5.0, 4.0, 3.0, 5.0]</td>\n    </tr>\n    <tr>\n      <th>...</th>\n      <td>...</td>\n    </tr>\n    <tr>\n      <th>498618</th>\n      <td>[3.0, 2.0, 3.0, 3.0]</td>\n    </tr>\n    <tr>\n      <th>498619</th>\n      <td>[3.0, 3.0, 4.0, 2.0]</td>\n    </tr>\n    <tr>\n      <th>498620</th>\n      <td>[4.0, 2.0, 3.0, 3.0]</td>\n    </tr>\n    <tr>\n      <th>498621</th>\n      <td>[3.0, 3.0, 2.0, 2.0]</td>\n    </tr>\n    <tr>\n      <th>498622</th>\n      <td>[3.0, 3.0, 2.0, 2.0]</td>\n    </tr>\n  </tbody>\n</table>\n<p>498623 rows × 1 columns</p>\n</div>"
     },
     "metadata": {},
     "execution_count": 71
    }
   ],
   "source": [
    "ratings_data_rating"
   ]
  },
  {
   "cell_type": "code",
   "execution_count": 72,
   "metadata": {},
   "outputs": [],
   "source": [
    "ratings_data_transformed = pd.concat([ratings_data_movies, ratings_data_rating], axis=1)"
   ]
  },
  {
   "cell_type": "code",
   "execution_count": 73,
   "metadata": {},
   "outputs": [
    {
     "output_type": "execute_result",
     "data": {
      "text/plain": [
       "         user_id                                         movie_ids  \\\n",
       "0         user_1  [movie_3186, movie_1721, movie_1270, movie_1022]   \n",
       "1         user_1  [movie_1270, movie_1022, movie_2340, movie_1836]   \n",
       "2         user_1  [movie_2340, movie_1836, movie_3408, movie_1207]   \n",
       "3         user_1   [movie_3408, movie_1207, movie_2804, movie_260]   \n",
       "4         user_1    [movie_2804, movie_260, movie_720, movie_1193]   \n",
       "...          ...                                               ...   \n",
       "498618  user_999   [movie_2676, movie_2540, movie_1363, movie_765]   \n",
       "498619  user_999   [movie_1363, movie_765, movie_3565, movie_1410]   \n",
       "498620  user_999  [movie_3565, movie_1410, movie_2269, movie_2504]   \n",
       "498621  user_999    [movie_2269, movie_2504, movie_455, movie_193]   \n",
       "498622  user_999    [movie_2269, movie_2504, movie_455, movie_193]   \n",
       "\n",
       "                     ratings  \n",
       "0       [4.0, 4.0, 5.0, 5.0]  \n",
       "1       [5.0, 5.0, 3.0, 5.0]  \n",
       "2       [3.0, 5.0, 4.0, 4.0]  \n",
       "3       [4.0, 4.0, 5.0, 4.0]  \n",
       "4       [5.0, 4.0, 3.0, 5.0]  \n",
       "...                      ...  \n",
       "498618  [3.0, 2.0, 3.0, 3.0]  \n",
       "498619  [3.0, 3.0, 4.0, 2.0]  \n",
       "498620  [4.0, 2.0, 3.0, 3.0]  \n",
       "498621  [3.0, 3.0, 2.0, 2.0]  \n",
       "498622  [3.0, 3.0, 2.0, 2.0]  \n",
       "\n",
       "[498623 rows x 3 columns]"
      ],
      "text/html": "<div>\n<style scoped>\n    .dataframe tbody tr th:only-of-type {\n        vertical-align: middle;\n    }\n\n    .dataframe tbody tr th {\n        vertical-align: top;\n    }\n\n    .dataframe thead th {\n        text-align: right;\n    }\n</style>\n<table border=\"1\" class=\"dataframe\">\n  <thead>\n    <tr style=\"text-align: right;\">\n      <th></th>\n      <th>user_id</th>\n      <th>movie_ids</th>\n      <th>ratings</th>\n    </tr>\n  </thead>\n  <tbody>\n    <tr>\n      <th>0</th>\n      <td>user_1</td>\n      <td>[movie_3186, movie_1721, movie_1270, movie_1022]</td>\n      <td>[4.0, 4.0, 5.0, 5.0]</td>\n    </tr>\n    <tr>\n      <th>1</th>\n      <td>user_1</td>\n      <td>[movie_1270, movie_1022, movie_2340, movie_1836]</td>\n      <td>[5.0, 5.0, 3.0, 5.0]</td>\n    </tr>\n    <tr>\n      <th>2</th>\n      <td>user_1</td>\n      <td>[movie_2340, movie_1836, movie_3408, movie_1207]</td>\n      <td>[3.0, 5.0, 4.0, 4.0]</td>\n    </tr>\n    <tr>\n      <th>3</th>\n      <td>user_1</td>\n      <td>[movie_3408, movie_1207, movie_2804, movie_260]</td>\n      <td>[4.0, 4.0, 5.0, 4.0]</td>\n    </tr>\n    <tr>\n      <th>4</th>\n      <td>user_1</td>\n      <td>[movie_2804, movie_260, movie_720, movie_1193]</td>\n      <td>[5.0, 4.0, 3.0, 5.0]</td>\n    </tr>\n    <tr>\n      <th>...</th>\n      <td>...</td>\n      <td>...</td>\n      <td>...</td>\n    </tr>\n    <tr>\n      <th>498618</th>\n      <td>user_999</td>\n      <td>[movie_2676, movie_2540, movie_1363, movie_765]</td>\n      <td>[3.0, 2.0, 3.0, 3.0]</td>\n    </tr>\n    <tr>\n      <th>498619</th>\n      <td>user_999</td>\n      <td>[movie_1363, movie_765, movie_3565, movie_1410]</td>\n      <td>[3.0, 3.0, 4.0, 2.0]</td>\n    </tr>\n    <tr>\n      <th>498620</th>\n      <td>user_999</td>\n      <td>[movie_3565, movie_1410, movie_2269, movie_2504]</td>\n      <td>[4.0, 2.0, 3.0, 3.0]</td>\n    </tr>\n    <tr>\n      <th>498621</th>\n      <td>user_999</td>\n      <td>[movie_2269, movie_2504, movie_455, movie_193]</td>\n      <td>[3.0, 3.0, 2.0, 2.0]</td>\n    </tr>\n    <tr>\n      <th>498622</th>\n      <td>user_999</td>\n      <td>[movie_2269, movie_2504, movie_455, movie_193]</td>\n      <td>[3.0, 3.0, 2.0, 2.0]</td>\n    </tr>\n  </tbody>\n</table>\n<p>498623 rows × 3 columns</p>\n</div>"
     },
     "metadata": {},
     "execution_count": 73
    }
   ],
   "source": [
    "ratings_data_transformed"
   ]
  },
  {
   "cell_type": "code",
   "execution_count": 74,
   "metadata": {},
   "outputs": [],
   "source": [
    "ratings_data_transformed = ratings_data_transformed.join( users.set_index(\"user_id\"), on=\"user_id\")"
   ]
  },
  {
   "cell_type": "code",
   "execution_count": 75,
   "metadata": {},
   "outputs": [
    {
     "output_type": "execute_result",
     "data": {
      "text/plain": [
       "         user_id                                         movie_ids  \\\n",
       "0         user_1  [movie_3186, movie_1721, movie_1270, movie_1022]   \n",
       "1         user_1  [movie_1270, movie_1022, movie_2340, movie_1836]   \n",
       "2         user_1  [movie_2340, movie_1836, movie_3408, movie_1207]   \n",
       "3         user_1   [movie_3408, movie_1207, movie_2804, movie_260]   \n",
       "4         user_1    [movie_2804, movie_260, movie_720, movie_1193]   \n",
       "...          ...                                               ...   \n",
       "498618  user_999   [movie_2676, movie_2540, movie_1363, movie_765]   \n",
       "498619  user_999   [movie_1363, movie_765, movie_3565, movie_1410]   \n",
       "498620  user_999  [movie_3565, movie_1410, movie_2269, movie_2504]   \n",
       "498621  user_999    [movie_2269, movie_2504, movie_455, movie_193]   \n",
       "498622  user_999    [movie_2269, movie_2504, movie_455, movie_193]   \n",
       "\n",
       "                     ratings sex age_group     occupation zip_code  \n",
       "0       [4.0, 4.0, 5.0, 5.0]   F   group_1  occupation_10    48067  \n",
       "1       [5.0, 5.0, 3.0, 5.0]   F   group_1  occupation_10    48067  \n",
       "2       [3.0, 5.0, 4.0, 4.0]   F   group_1  occupation_10    48067  \n",
       "3       [4.0, 4.0, 5.0, 4.0]   F   group_1  occupation_10    48067  \n",
       "4       [5.0, 4.0, 3.0, 5.0]   F   group_1  occupation_10    48067  \n",
       "...                      ...  ..       ...            ...      ...  \n",
       "498618  [3.0, 2.0, 3.0, 3.0]   M  group_25  occupation_15    62558  \n",
       "498619  [3.0, 3.0, 4.0, 2.0]   M  group_25  occupation_15    62558  \n",
       "498620  [4.0, 2.0, 3.0, 3.0]   M  group_25  occupation_15    62558  \n",
       "498621  [3.0, 3.0, 2.0, 2.0]   M  group_25  occupation_15    62558  \n",
       "498622  [3.0, 3.0, 2.0, 2.0]   M  group_25  occupation_15    62558  \n",
       "\n",
       "[498623 rows x 7 columns]"
      ],
      "text/html": "<div>\n<style scoped>\n    .dataframe tbody tr th:only-of-type {\n        vertical-align: middle;\n    }\n\n    .dataframe tbody tr th {\n        vertical-align: top;\n    }\n\n    .dataframe thead th {\n        text-align: right;\n    }\n</style>\n<table border=\"1\" class=\"dataframe\">\n  <thead>\n    <tr style=\"text-align: right;\">\n      <th></th>\n      <th>user_id</th>\n      <th>movie_ids</th>\n      <th>ratings</th>\n      <th>sex</th>\n      <th>age_group</th>\n      <th>occupation</th>\n      <th>zip_code</th>\n    </tr>\n  </thead>\n  <tbody>\n    <tr>\n      <th>0</th>\n      <td>user_1</td>\n      <td>[movie_3186, movie_1721, movie_1270, movie_1022]</td>\n      <td>[4.0, 4.0, 5.0, 5.0]</td>\n      <td>F</td>\n      <td>group_1</td>\n      <td>occupation_10</td>\n      <td>48067</td>\n    </tr>\n    <tr>\n      <th>1</th>\n      <td>user_1</td>\n      <td>[movie_1270, movie_1022, movie_2340, movie_1836]</td>\n      <td>[5.0, 5.0, 3.0, 5.0]</td>\n      <td>F</td>\n      <td>group_1</td>\n      <td>occupation_10</td>\n      <td>48067</td>\n    </tr>\n    <tr>\n      <th>2</th>\n      <td>user_1</td>\n      <td>[movie_2340, movie_1836, movie_3408, movie_1207]</td>\n      <td>[3.0, 5.0, 4.0, 4.0]</td>\n      <td>F</td>\n      <td>group_1</td>\n      <td>occupation_10</td>\n      <td>48067</td>\n    </tr>\n    <tr>\n      <th>3</th>\n      <td>user_1</td>\n      <td>[movie_3408, movie_1207, movie_2804, movie_260]</td>\n      <td>[4.0, 4.0, 5.0, 4.0]</td>\n      <td>F</td>\n      <td>group_1</td>\n      <td>occupation_10</td>\n      <td>48067</td>\n    </tr>\n    <tr>\n      <th>4</th>\n      <td>user_1</td>\n      <td>[movie_2804, movie_260, movie_720, movie_1193]</td>\n      <td>[5.0, 4.0, 3.0, 5.0]</td>\n      <td>F</td>\n      <td>group_1</td>\n      <td>occupation_10</td>\n      <td>48067</td>\n    </tr>\n    <tr>\n      <th>...</th>\n      <td>...</td>\n      <td>...</td>\n      <td>...</td>\n      <td>...</td>\n      <td>...</td>\n      <td>...</td>\n      <td>...</td>\n    </tr>\n    <tr>\n      <th>498618</th>\n      <td>user_999</td>\n      <td>[movie_2676, movie_2540, movie_1363, movie_765]</td>\n      <td>[3.0, 2.0, 3.0, 3.0]</td>\n      <td>M</td>\n      <td>group_25</td>\n      <td>occupation_15</td>\n      <td>62558</td>\n    </tr>\n    <tr>\n      <th>498619</th>\n      <td>user_999</td>\n      <td>[movie_1363, movie_765, movie_3565, movie_1410]</td>\n      <td>[3.0, 3.0, 4.0, 2.0]</td>\n      <td>M</td>\n      <td>group_25</td>\n      <td>occupation_15</td>\n      <td>62558</td>\n    </tr>\n    <tr>\n      <th>498620</th>\n      <td>user_999</td>\n      <td>[movie_3565, movie_1410, movie_2269, movie_2504]</td>\n      <td>[4.0, 2.0, 3.0, 3.0]</td>\n      <td>M</td>\n      <td>group_25</td>\n      <td>occupation_15</td>\n      <td>62558</td>\n    </tr>\n    <tr>\n      <th>498621</th>\n      <td>user_999</td>\n      <td>[movie_2269, movie_2504, movie_455, movie_193]</td>\n      <td>[3.0, 3.0, 2.0, 2.0]</td>\n      <td>M</td>\n      <td>group_25</td>\n      <td>occupation_15</td>\n      <td>62558</td>\n    </tr>\n    <tr>\n      <th>498622</th>\n      <td>user_999</td>\n      <td>[movie_2269, movie_2504, movie_455, movie_193]</td>\n      <td>[3.0, 3.0, 2.0, 2.0]</td>\n      <td>M</td>\n      <td>group_25</td>\n      <td>occupation_15</td>\n      <td>62558</td>\n    </tr>\n  </tbody>\n</table>\n<p>498623 rows × 7 columns</p>\n</div>"
     },
     "metadata": {},
     "execution_count": 75
    }
   ],
   "source": [
    "ratings_data_transformed"
   ]
  },
  {
   "cell_type": "code",
   "execution_count": 76,
   "metadata": {},
   "outputs": [],
   "source": [
    "ratings_data_transformed.movie_ids = ratings_data_transformed.movie_ids.apply( lambda x: \",\".join(x))"
   ]
  },
  {
   "cell_type": "code",
   "execution_count": 77,
   "metadata": {},
   "outputs": [],
   "source": [
    "ratings_data_transformed.ratings = ratings_data_transformed.ratings.apply( lambda x: \",\".join([str(v) for v in x]))"
   ]
  },
  {
   "cell_type": "code",
   "execution_count": 78,
   "metadata": {},
   "outputs": [],
   "source": [
    "del ratings_data_transformed['zip_code']"
   ]
  },
  {
   "cell_type": "code",
   "execution_count": 79,
   "metadata": {},
   "outputs": [],
   "source": [
    "ratings_data_transformed.rename(columns={\"movie_ids\" : \"sequence_movie_ids\", \"ratings\": \"sequence_ratings\"}, inplace=True,)"
   ]
  },
  {
   "cell_type": "code",
   "execution_count": 80,
   "metadata": {},
   "outputs": [
    {
     "output_type": "execute_result",
     "data": {
      "text/plain": [
       "         user_id                           sequence_movie_ids  \\\n",
       "0         user_1  movie_3186,movie_1721,movie_1270,movie_1022   \n",
       "1         user_1  movie_1270,movie_1022,movie_2340,movie_1836   \n",
       "2         user_1  movie_2340,movie_1836,movie_3408,movie_1207   \n",
       "3         user_1   movie_3408,movie_1207,movie_2804,movie_260   \n",
       "4         user_1    movie_2804,movie_260,movie_720,movie_1193   \n",
       "...          ...                                          ...   \n",
       "498618  user_999   movie_2676,movie_2540,movie_1363,movie_765   \n",
       "498619  user_999   movie_1363,movie_765,movie_3565,movie_1410   \n",
       "498620  user_999  movie_3565,movie_1410,movie_2269,movie_2504   \n",
       "498621  user_999    movie_2269,movie_2504,movie_455,movie_193   \n",
       "498622  user_999    movie_2269,movie_2504,movie_455,movie_193   \n",
       "\n",
       "       sequence_ratings sex age_group     occupation  \n",
       "0       4.0,4.0,5.0,5.0   F   group_1  occupation_10  \n",
       "1       5.0,5.0,3.0,5.0   F   group_1  occupation_10  \n",
       "2       3.0,5.0,4.0,4.0   F   group_1  occupation_10  \n",
       "3       4.0,4.0,5.0,4.0   F   group_1  occupation_10  \n",
       "4       5.0,4.0,3.0,5.0   F   group_1  occupation_10  \n",
       "...                 ...  ..       ...            ...  \n",
       "498618  3.0,2.0,3.0,3.0   M  group_25  occupation_15  \n",
       "498619  3.0,3.0,4.0,2.0   M  group_25  occupation_15  \n",
       "498620  4.0,2.0,3.0,3.0   M  group_25  occupation_15  \n",
       "498621  3.0,3.0,2.0,2.0   M  group_25  occupation_15  \n",
       "498622  3.0,3.0,2.0,2.0   M  group_25  occupation_15  \n",
       "\n",
       "[498623 rows x 6 columns]"
      ],
      "text/html": "<div>\n<style scoped>\n    .dataframe tbody tr th:only-of-type {\n        vertical-align: middle;\n    }\n\n    .dataframe tbody tr th {\n        vertical-align: top;\n    }\n\n    .dataframe thead th {\n        text-align: right;\n    }\n</style>\n<table border=\"1\" class=\"dataframe\">\n  <thead>\n    <tr style=\"text-align: right;\">\n      <th></th>\n      <th>user_id</th>\n      <th>sequence_movie_ids</th>\n      <th>sequence_ratings</th>\n      <th>sex</th>\n      <th>age_group</th>\n      <th>occupation</th>\n    </tr>\n  </thead>\n  <tbody>\n    <tr>\n      <th>0</th>\n      <td>user_1</td>\n      <td>movie_3186,movie_1721,movie_1270,movie_1022</td>\n      <td>4.0,4.0,5.0,5.0</td>\n      <td>F</td>\n      <td>group_1</td>\n      <td>occupation_10</td>\n    </tr>\n    <tr>\n      <th>1</th>\n      <td>user_1</td>\n      <td>movie_1270,movie_1022,movie_2340,movie_1836</td>\n      <td>5.0,5.0,3.0,5.0</td>\n      <td>F</td>\n      <td>group_1</td>\n      <td>occupation_10</td>\n    </tr>\n    <tr>\n      <th>2</th>\n      <td>user_1</td>\n      <td>movie_2340,movie_1836,movie_3408,movie_1207</td>\n      <td>3.0,5.0,4.0,4.0</td>\n      <td>F</td>\n      <td>group_1</td>\n      <td>occupation_10</td>\n    </tr>\n    <tr>\n      <th>3</th>\n      <td>user_1</td>\n      <td>movie_3408,movie_1207,movie_2804,movie_260</td>\n      <td>4.0,4.0,5.0,4.0</td>\n      <td>F</td>\n      <td>group_1</td>\n      <td>occupation_10</td>\n    </tr>\n    <tr>\n      <th>4</th>\n      <td>user_1</td>\n      <td>movie_2804,movie_260,movie_720,movie_1193</td>\n      <td>5.0,4.0,3.0,5.0</td>\n      <td>F</td>\n      <td>group_1</td>\n      <td>occupation_10</td>\n    </tr>\n    <tr>\n      <th>...</th>\n      <td>...</td>\n      <td>...</td>\n      <td>...</td>\n      <td>...</td>\n      <td>...</td>\n      <td>...</td>\n    </tr>\n    <tr>\n      <th>498618</th>\n      <td>user_999</td>\n      <td>movie_2676,movie_2540,movie_1363,movie_765</td>\n      <td>3.0,2.0,3.0,3.0</td>\n      <td>M</td>\n      <td>group_25</td>\n      <td>occupation_15</td>\n    </tr>\n    <tr>\n      <th>498619</th>\n      <td>user_999</td>\n      <td>movie_1363,movie_765,movie_3565,movie_1410</td>\n      <td>3.0,3.0,4.0,2.0</td>\n      <td>M</td>\n      <td>group_25</td>\n      <td>occupation_15</td>\n    </tr>\n    <tr>\n      <th>498620</th>\n      <td>user_999</td>\n      <td>movie_3565,movie_1410,movie_2269,movie_2504</td>\n      <td>4.0,2.0,3.0,3.0</td>\n      <td>M</td>\n      <td>group_25</td>\n      <td>occupation_15</td>\n    </tr>\n    <tr>\n      <th>498621</th>\n      <td>user_999</td>\n      <td>movie_2269,movie_2504,movie_455,movie_193</td>\n      <td>3.0,3.0,2.0,2.0</td>\n      <td>M</td>\n      <td>group_25</td>\n      <td>occupation_15</td>\n    </tr>\n    <tr>\n      <th>498622</th>\n      <td>user_999</td>\n      <td>movie_2269,movie_2504,movie_455,movie_193</td>\n      <td>3.0,3.0,2.0,2.0</td>\n      <td>M</td>\n      <td>group_25</td>\n      <td>occupation_15</td>\n    </tr>\n  </tbody>\n</table>\n<p>498623 rows × 6 columns</p>\n</div>"
     },
     "metadata": {},
     "execution_count": 80
    }
   ],
   "source": [
    "ratings_data_transformed"
   ]
  },
  {
   "cell_type": "code",
   "execution_count": 81,
   "metadata": {},
   "outputs": [],
   "source": [
    "import numpy as np\n",
    "\n",
    "random_selection = np.random.rand(len(ratings_data_transformed.index)) <= 0.85\n",
    "train_data = ratings_data_transformed[random_selection]\n",
    "test_data = ratings_data_transformed[~random_selection]\n",
    "\n",
    "train_data.to_csv(\"./datasets/train_data.csv\", index=False, sep=\"|\", header=False)\n",
    "test_data.to_csv(\"./datasets/test_data.csv\", index=False, sep=\"|\", header=False)"
   ]
  },
  {
   "cell_type": "code",
   "execution_count": 82,
   "metadata": {},
   "outputs": [],
   "source": [
    "CSV_HEADER = list(ratings_data_transformed.columns)\n",
    "CATEGORICAL_FEATURES_WITH_VOCABULARY = {\n",
    "    \"user_id\" : list(users.user_id.unique()),\n",
    "    \"movie_id\" : list(movies.movie_id.unique()),\n",
    "    \"sex\" : list(users.sex.unique()),\n",
    "    \"age_group\" : list(users.age_group.unique()),\n",
    "    \"occupation\" : list(users.occupation.unique())\n",
    "}\n",
    "USER_FEATURES = [\"sex\", \"age_group\", \"occupation\"]\n",
    "MOVIE_FEATURES = [\"genres\"]"
   ]
  },
  {
   "cell_type": "code",
   "execution_count": 83,
   "metadata": {},
   "outputs": [],
   "source": [
    "metadata = {\n",
    "    \"CSV_HEADER\" : CSV_HEADER,\n",
    "    \"CATEGORICAL_FEATURES_WITH_VOCABULARY\" : CATEGORICAL_FEATURES_WITH_VOCABULARY,\n",
    "    \"USER_FEATURES\" : USER_FEATURES,\n",
    "    \"MOVIE_FEATURES\" : MOVIE_FEATURES\n",
    "}"
   ]
  },
  {
   "cell_type": "code",
   "execution_count": 84,
   "metadata": {},
   "outputs": [],
   "source": [
    "import json \n",
    "with open('./configs/metadata.json', 'w') as fp:\n",
    "    json.dump(metadata, fp)"
   ]
  },
  {
   "cell_type": "code",
   "execution_count": null,
   "metadata": {},
   "outputs": [],
   "source": []
  },
  {
   "cell_type": "code",
   "execution_count": null,
   "metadata": {},
   "outputs": [],
   "source": []
  }
 ]
}