{
 "cells": [
  {
   "cell_type": "code",
   "execution_count": 1,
   "id": "21709b10-6453-4cde-ac90-10f9e737b61d",
   "metadata": {},
   "outputs": [],
   "source": [
    "import numpy as np"
   ]
  },
  {
   "cell_type": "code",
   "execution_count": 2,
   "id": "1165f066-b954-4579-af8d-bc69dd55abb2",
   "metadata": {},
   "outputs": [],
   "source": [
    "item_size = 5000\n",
    "feature_dimension = 300\n",
    "max_length = 1000"
   ]
  },
  {
   "cell_type": "code",
   "execution_count": 3,
   "id": "43639585-9856-4ba7-a11c-27b59b811d7b",
   "metadata": {},
   "outputs": [
    {
     "data": {
      "text/plain": [
       "((5000,), (5000, 300))"
      ]
     },
     "execution_count": 3,
     "metadata": {},
     "output_type": "execute_result"
    }
   ],
   "source": [
    "scores = np.exp(0.01 * np.random.randn(item_size) + 0.2)\n",
    "feature_vectors = np.random.randn(item_size, feature_dimension)\n",
    "\n",
    "scores.shape, feature_vectors.shape"
   ]
  },
  {
   "cell_type": "code",
   "execution_count": 5,
   "id": "6404ff80-3b37-4b02-a0a8-56747bd0f862",
   "metadata": {},
   "outputs": [],
   "source": [
    "feature_vectors /= np.linalg.norm(feature_vectors, axis=1, keepdims=True)\n",
    "similarities = np.dot(feature_vectors, feature_vectors.T)\n",
    "kernel_matrix = scores.reshape((item_size, 1)) * similarities * scores.reshape((1, item_size))"
   ]
  },
  {
   "cell_type": "code",
   "execution_count": 41,
   "id": "50ab9a96-851b-4bf7-99b6-6c9c2461a211",
   "metadata": {},
   "outputs": [],
   "source": [
    "import math"
   ]
  },
  {
   "cell_type": "code",
   "execution_count": 57,
   "id": "b1e60ada-c498-49f6-a4f8-c08e044f9979",
   "metadata": {},
   "outputs": [],
   "source": [
    "def dpp(kernel_matrix, max_length, epsilon=1e-10):\n",
    "    # kernel_matrix : (item_size, item_size)\n",
    "    item_size = kernel_matrix.shape[0]\n",
    "    cis = np.zeros((max_length, item_size)) # (K, item_size)\n",
    "    di2s = np.copy(np.diag(kernel_matrix)) # 대각 행렬\n",
    "    \n",
    "    selected_items = list()\n",
    "    selected_item = np.argmax(di2s)\n",
    "    selected_items.append(selected_item)\n",
    "    \n",
    "    while len(selected_items) < max_length:\n",
    "        k = len(selected_items) - 1\n",
    "        ci_optimal = cis[:k, selected_item] # iteration 마다 선택된 ci 값\n",
    "        di_optimal = math.sqrt(di2s[selected_item])\n",
    "        elements = kernel_matrix[selected_item, :] # 선택한 아이템의 유사도?\n",
    "        eis = (elements - np.dot(ci_optimal, cis[:k, :])) / di_optimal\n",
    "        cis[k, :] = eis\n",
    "        di2s -= np.square(eis)\n",
    "        di2s[selected_item] = -np.inf\n",
    "        selected_item = np.argmax(di2s)\n",
    "        \n",
    "        if di2s[selected_item] < epsilon:\n",
    "            break\n",
    "            \n",
    "        selected_items.append(selected_item)\n",
    "    return selected_items"
   ]
  },
  {
   "cell_type": "code",
   "execution_count": 58,
   "id": "d2c633dc-d76f-4862-a0c2-ea3610ef5f37",
   "metadata": {},
   "outputs": [
    {
     "data": {
      "text/plain": [
       "[4211, 3309, 1120, 4075, 4438, 2506, 166, 50, 3081, 3430]"
      ]
     },
     "execution_count": 58,
     "metadata": {},
     "output_type": "execute_result"
    }
   ],
   "source": [
    "dpp(kernel_matrix, 10)"
   ]
  },
  {
   "cell_type": "code",
   "execution_count": 65,
   "id": "852a0b71-9791-40ef-ab35-a1d6c9ba9452",
   "metadata": {},
   "outputs": [
    {
     "data": {
      "text/plain": [
       "((1000, 5000), (5000,))"
      ]
     },
     "execution_count": 65,
     "metadata": {},
     "output_type": "execute_result"
    }
   ],
   "source": [
    "cis = np.zeros((max_length, item_size))\n",
    "di2s = np.copy(np.diag(kernel_matrix))\n",
    "cis.shape, di2s.shape"
   ]
  },
  {
   "cell_type": "code",
   "execution_count": 66,
   "id": "39c5b948-bc3d-4950-b2e1-1ad198337cfa",
   "metadata": {},
   "outputs": [
    {
     "data": {
      "text/plain": [
       "[4211]"
      ]
     },
     "execution_count": 66,
     "metadata": {},
     "output_type": "execute_result"
    }
   ],
   "source": [
    "selected_items = list()\n",
    "selected_item = np.argmax(di2s)\n",
    "selected_items.append(selected_item)\n",
    "\n",
    "selected_items"
   ]
  },
  {
   "cell_type": "code",
   "execution_count": 67,
   "id": "3c8c03c0-fccc-490e-93ce-65ee4ed61ff3",
   "metadata": {},
   "outputs": [
    {
     "data": {
      "text/plain": [
       "0"
      ]
     },
     "execution_count": 67,
     "metadata": {},
     "output_type": "execute_result"
    }
   ],
   "source": [
    "k = len(selected_items) - 1\n",
    "k"
   ]
  },
  {
   "cell_type": "code",
   "execution_count": 74,
   "id": "6e8dd730-0f3e-41d6-bfb2-8d2ae77883d6",
   "metadata": {},
   "outputs": [
    {
     "data": {
      "text/plain": [
       "(array([], dtype=float64), 1.2714371879812107)"
      ]
     },
     "execution_count": 74,
     "metadata": {},
     "output_type": "execute_result"
    }
   ],
   "source": [
    "ci_optimal = cis[:k, selected_item]\n",
    "di_optimal = math.sqrt(di2s[selected_item])\n",
    "ci_optimal, di_optimal"
   ]
  },
  {
   "cell_type": "code",
   "execution_count": 77,
   "id": "7d1b51ea-042f-4061-a6c3-2d23f858760a",
   "metadata": {},
   "outputs": [
    {
     "data": {
      "text/plain": [
       "(5000,)"
      ]
     },
     "execution_count": 77,
     "metadata": {},
     "output_type": "execute_result"
    }
   ],
   "source": [
    "elements = kernel_matrix[selected_item, :]\n",
    "elements.shape"
   ]
  },
  {
   "cell_type": "code",
   "execution_count": 79,
   "id": "b0823b96-fbe9-459b-af5a-ba32c0b36eca",
   "metadata": {},
   "outputs": [
    {
     "data": {
      "text/plain": [
       "(5000,)"
      ]
     },
     "execution_count": 79,
     "metadata": {},
     "output_type": "execute_result"
    }
   ],
   "source": [
    "eis = (elements - np.dot(ci_optimal, cis[:k, :])) / di_optimal\n",
    "eis.shape"
   ]
  },
  {
   "cell_type": "code",
   "execution_count": 91,
   "id": "8e4e4b7b-b81c-4f29-bf55-438523f0c3a3",
   "metadata": {},
   "outputs": [],
   "source": [
    "cis[k,:] = eis\n",
    "di2s -= np.square(eis)\n",
    "di2s[selected_item] = -np.inf"
   ]
  },
  {
   "cell_type": "code",
   "execution_count": 92,
   "id": "cdc097d7-e47e-41ff-b6ce-3c52d85c55f1",
   "metadata": {},
   "outputs": [
    {
     "data": {
      "text/plain": [
       "[4211, 4438]"
      ]
     },
     "execution_count": 92,
     "metadata": {},
     "output_type": "execute_result"
    }
   ],
   "source": [
    "selected_item = np.argmax(di2s)\n",
    "selected_items.append(selected_item)\n",
    "\n",
    "selected_items"
   ]
  },
  {
   "cell_type": "code",
   "execution_count": 93,
   "id": "5039cb8e-f8c8-454a-b249-c3e59ed48c1a",
   "metadata": {},
   "outputs": [
    {
     "data": {
      "text/plain": [
       "1"
      ]
     },
     "execution_count": 93,
     "metadata": {},
     "output_type": "execute_result"
    }
   ],
   "source": [
    "k = len(selected_items) - 1\n",
    "k"
   ]
  },
  {
   "cell_type": "code",
   "execution_count": 94,
   "id": "d3675e9a-a08a-46e1-9b40-ad1464c1159a",
   "metadata": {},
   "outputs": [
    {
     "data": {
      "text/plain": [
       "(array([-0.0016445]), 1.2656899622071327)"
      ]
     },
     "execution_count": 94,
     "metadata": {},
     "output_type": "execute_result"
    }
   ],
   "source": [
    "ci_optimal = cis[:k, selected_item]\n",
    "di_optimal = math.sqrt(di2s[selected_item])\n",
    "ci_optimal, di_optimal"
   ]
  },
  {
   "cell_type": "code",
   "execution_count": 95,
   "id": "9090e952-adc1-4fae-aeb4-8aa7dd50781e",
   "metadata": {},
   "outputs": [
    {
     "data": {
      "text/plain": [
       "(5000,)"
      ]
     },
     "execution_count": 95,
     "metadata": {},
     "output_type": "execute_result"
    }
   ],
   "source": [
    "elements = kernel_matrix[selected_item, :]\n",
    "elements.shape"
   ]
  },
  {
   "cell_type": "code",
   "execution_count": 99,
   "id": "e7f358a8-2d4d-40e8-8f4b-e44eb272a7d7",
   "metadata": {},
   "outputs": [
    {
     "data": {
      "text/plain": [
       "(5000,)"
      ]
     },
     "execution_count": 99,
     "metadata": {},
     "output_type": "execute_result"
    }
   ],
   "source": [
    "eis = (elements - np.dot(ci_optimal, cis[:k, :])) / di_optimal\n",
    "cis[k, :] = eis\n",
    "cis[k, :].shape"
   ]
  },
  {
   "cell_type": "code",
   "execution_count": 102,
   "id": "01f73c5e-ae39-496b-b749-e7036fe6a6fe",
   "metadata": {},
   "outputs": [],
   "source": [
    "di2s -= np.square(eis)\n",
    "di2s[selected_item] = -np.inf\n",
    "selected_item =np.argmax(di2s)\n",
    "selected_items.append(selected_item)"
   ]
  },
  {
   "cell_type": "code",
   "execution_count": 103,
   "id": "29c43993-2bb5-487d-a5fd-5e027d54b2dc",
   "metadata": {},
   "outputs": [
    {
     "data": {
      "text/plain": [
       "[4211, 4438, 4075]"
      ]
     },
     "execution_count": 103,
     "metadata": {},
     "output_type": "execute_result"
    }
   ],
   "source": [
    "selected_items"
   ]
  },
  {
   "cell_type": "code",
   "execution_count": null,
   "id": "ec4cc4a9-3379-446f-98bd-0cd53429c6e3",
   "metadata": {},
   "outputs": [],
   "source": []
  }
 ],
 "metadata": {
  "kernelspec": {
   "display_name": "test",
   "language": "python",
   "name": "test"
  },
  "language_info": {
   "codemirror_mode": {
    "name": "ipython",
    "version": 3
   },
   "file_extension": ".py",
   "mimetype": "text/x-python",
   "name": "python",
   "nbconvert_exporter": "python",
   "pygments_lexer": "ipython3",
   "version": "3.8.16"
  }
 },
 "nbformat": 4,
 "nbformat_minor": 5
}
