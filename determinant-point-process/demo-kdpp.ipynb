{
 "cells": [
  {
   "cell_type": "code",
   "execution_count": 2,
   "id": "379c68f0-831f-4d5f-a4f9-a43c50e12586",
   "metadata": {},
   "outputs": [],
   "source": [
    "import numpy as np\n",
    "from scipy.spatial.distance import pdist, squareform, cdist"
   ]
  },
  {
   "cell_type": "code",
   "execution_count": 24,
   "id": "263277f5-942e-4257-b07a-bfc0b879bf48",
   "metadata": {},
   "outputs": [],
   "source": [
    "def kernel_se(_X1, _X2, _hyp={'gain': 1, 'len': 1, 'noise': 1e-8}):\n",
    "    hyp_gain = float(_hyp['gain']) ** 2\n",
    "    hyp_len = 1 / float(_hyp['len'])\n",
    "\n",
    "    pairwise_dists = cdist(_X2, _X2, 'euclidean') # (n,n) shape matrix\n",
    "    K = hyp_gain * np.exp(-pairwise_dists ** 2 / (hyp_len**2)) # (n,n) shape matrix\n",
    "    return K\n",
    "\n",
    "def kdpp(_X, _k):\n",
    "    # Select _n samples out of _X using K-DPP\n",
    "    n, d = _X.shape[0], _X.shape[1]\n",
    "    mid_dist = np.median(cdist(_X, _X, \"euclidean\")) # distance의 중앙값 : median((200,200))\n",
    "    out, idx = np.zeros(shape=(_k,d)), [] \n",
    "\n",
    "    for i in range(_k):\n",
    "        if i == 0: # init\n",
    "            rand_idx = np.random.randint(n)\n",
    "            idx.append(rand_idx) # start index\n",
    "            out[i,:] = _X[rand_idx,:] # start vectors\n",
    "        else:\n",
    "            det_vals = np.zeros(n)\n",
    "            for j in range(n):\n",
    "                if j in idx:\n",
    "                    det_vals[j] = -np.inf\n",
    "                else:\n",
    "                    idx_temp = idx.copy()\n",
    "                    idx_temp.append(j)\n",
    "\n",
    "                    X_curr = _X[idx_temp, :]\n",
    "                    K = kernel_se(X_curr, X_curr, {'gain': 1, 'len': mid_dist, 'noise': 1e-4})\n",
    "                    det_vals[j] = np.linalg.det(K) # 행렬식 Matrix Determinant\n",
    "            max_idx = np.argmax(det_vals) # find argmax j\n",
    "            idx.append(max_idx)\n",
    "            out[i, :] = _X[max_idx, :] # append argmax det(L)\n",
    "    return out, idx"
   ]
  },
  {
   "cell_type": "code",
   "execution_count": 25,
   "id": "aeb4e0b1-247a-4e0b-b8f8-d1b7b581e0f2",
   "metadata": {},
   "outputs": [],
   "source": [
    "# Data\n",
    "n = 200\n",
    "k = 10\n",
    "x = np.random.rand(n, 2)\n",
    "\n",
    "kdpp_out, _ = kdpp(_X=x, _k=k)"
   ]
  },
  {
   "cell_type": "code",
   "execution_count": 27,
   "id": "19aa37b2-9429-454a-85ce-a5dcfeed0d00",
   "metadata": {},
   "outputs": [
    {
     "data": {
      "text/plain": [
       "(array([[0.23564706, 0.46917656],\n",
       "        [0.99138086, 0.97803945],\n",
       "        [0.98666893, 0.02303899],\n",
       "        [0.02641741, 0.03177045],\n",
       "        [0.12991481, 0.94974638],\n",
       "        [0.5710212 , 0.0039967 ],\n",
       "        [0.64201505, 0.97691464],\n",
       "        [0.90308863, 0.57318393],\n",
       "        [0.00304744, 0.59728216],\n",
       "        [0.76916351, 0.24722354]]),\n",
       " [1, 30, 168, 56, 136, 6, 105, 117, 182, 51])"
      ]
     },
     "execution_count": 27,
     "metadata": {},
     "output_type": "execute_result"
    }
   ],
   "source": [
    "kdpp_out, _"
   ]
  },
  {
   "cell_type": "code",
   "execution_count": null,
   "id": "ba909aef-8849-4f8d-9d13-5b03813e81c7",
   "metadata": {},
   "outputs": [],
   "source": []
  }
 ],
 "metadata": {
  "kernelspec": {
   "display_name": "test",
   "language": "python",
   "name": "test"
  },
  "language_info": {
   "codemirror_mode": {
    "name": "ipython",
    "version": 3
   },
   "file_extension": ".py",
   "mimetype": "text/x-python",
   "name": "python",
   "nbconvert_exporter": "python",
   "pygments_lexer": "ipython3",
   "version": "3.8.16"
  }
 },
 "nbformat": 4,
 "nbformat_minor": 5
}
