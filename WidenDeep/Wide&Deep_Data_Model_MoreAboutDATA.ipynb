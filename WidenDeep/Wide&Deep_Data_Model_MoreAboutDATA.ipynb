{
  "nbformat": 4,
  "nbformat_minor": 0,
  "metadata": {
    "colab": {
      "name": "Wide&Deep-Data2Model.ipynb",
      "provenance": [],
      "collapsed_sections": [],
      "toc_visible": true,
      "mount_file_id": "https://github.com/pko89403/Recsys_test/blob/master/Wide%26Deep_Data_Model.ipynb",
      "authorship_tag": "ABX9TyNnkhLBA1JIEafKJ6PzzHAR",
      "include_colab_link": true
    },
    "kernelspec": {
      "name": "python3",
      "display_name": "Python 3"
    },
    "accelerator": "GPU"
  },
  "cells": [
    {
      "cell_type": "markdown",
      "metadata": {
        "id": "view-in-github",
        "colab_type": "text"
      },
      "source": [
        "<a href=\"https://colab.research.google.com/github/pko89403/Recsys_test/blob/master/Wide%26Deep_Data_Model_MoreAboutDATA.ipynb\" target=\"_parent\"><img src=\"https://colab.research.google.com/assets/colab-badge.svg\" alt=\"Open In Colab\"/></a>"
      ]
    },
    {
      "cell_type": "markdown",
      "metadata": {
        "id": "pBJ7-GshRchP",
        "colab_type": "text"
      },
      "source": [
        "# Wide - And - Deep - Pytorch\n",
        "1. Wide : 스파스한 피처들, 원-핫 인코딩 되어 아웃풋 뉴런과 바로 연결됨\n",
        "2. Deep Dense : 카테고리 피처들, 임베딩으로 표횐됨, 연속성 피처들이 덴스 레이어로 보내짐\n",
        "3. Deep Text : 워드 임베딩들 보내지는 RNN들의 스택으로\n",
        "4. Deep Image : RGB 이미지들 CNN으로 보내지는, ResNet"
      ]
    },
    {
      "cell_type": "markdown",
      "metadata": {
        "id": "LVCRvwWtUkuG",
        "colab_type": "text"
      },
      "source": [
        "# 데이터 전처리"
      ]
    },
    {
      "cell_type": "code",
      "metadata": {
        "id": "keehjOrxTXS4",
        "colab_type": "code",
        "outputId": "13ea1b3e-a29a-4c3e-9d64-44a01aa3bd83",
        "colab": {
          "base_uri": "https://localhost:8080/",
          "height": 309
        }
      },
      "source": [
        "import pandas as pd\n",
        "import numpy as np\n",
        "\n",
        "raw_data_path = \"/content/drive/My Drive/data/adult_data/adult-data.csv\"\n",
        "raw_data = pd.read_csv(raw_data_path)\n",
        "raw_data.head()"
      ],
      "execution_count": 248,
      "outputs": [
        {
          "output_type": "execute_result",
          "data": {
            "text/html": [
              "<div>\n",
              "<style scoped>\n",
              "    .dataframe tbody tr th:only-of-type {\n",
              "        vertical-align: middle;\n",
              "    }\n",
              "\n",
              "    .dataframe tbody tr th {\n",
              "        vertical-align: top;\n",
              "    }\n",
              "\n",
              "    .dataframe thead th {\n",
              "        text-align: right;\n",
              "    }\n",
              "</style>\n",
              "<table border=\"1\" class=\"dataframe\">\n",
              "  <thead>\n",
              "    <tr style=\"text-align: right;\">\n",
              "      <th></th>\n",
              "      <th>age</th>\n",
              "      <th>workclass</th>\n",
              "      <th>fnlwgt</th>\n",
              "      <th>education</th>\n",
              "      <th>education_num</th>\n",
              "      <th>marital_status</th>\n",
              "      <th>occupation</th>\n",
              "      <th>relationship</th>\n",
              "      <th>race</th>\n",
              "      <th>sex</th>\n",
              "      <th>capital-gain</th>\n",
              "      <th>capital-loss</th>\n",
              "      <th>wrk_hrs_per_week</th>\n",
              "      <th>native_country</th>\n",
              "      <th>income</th>\n",
              "    </tr>\n",
              "  </thead>\n",
              "  <tbody>\n",
              "    <tr>\n",
              "      <th>0</th>\n",
              "      <td>39</td>\n",
              "      <td>State-gov</td>\n",
              "      <td>77516</td>\n",
              "      <td>Bachelors</td>\n",
              "      <td>13</td>\n",
              "      <td>Never-married</td>\n",
              "      <td>Adm-clerical</td>\n",
              "      <td>Not-in-family</td>\n",
              "      <td>White</td>\n",
              "      <td>Male</td>\n",
              "      <td>2174</td>\n",
              "      <td>0</td>\n",
              "      <td>40</td>\n",
              "      <td>United-States</td>\n",
              "      <td>&lt;=50K</td>\n",
              "    </tr>\n",
              "    <tr>\n",
              "      <th>1</th>\n",
              "      <td>50</td>\n",
              "      <td>Self-emp-not-inc</td>\n",
              "      <td>83311</td>\n",
              "      <td>Bachelors</td>\n",
              "      <td>13</td>\n",
              "      <td>Married-civ-spouse</td>\n",
              "      <td>Exec-managerial</td>\n",
              "      <td>Husband</td>\n",
              "      <td>White</td>\n",
              "      <td>Male</td>\n",
              "      <td>0</td>\n",
              "      <td>0</td>\n",
              "      <td>13</td>\n",
              "      <td>United-States</td>\n",
              "      <td>&lt;=50K</td>\n",
              "    </tr>\n",
              "    <tr>\n",
              "      <th>2</th>\n",
              "      <td>38</td>\n",
              "      <td>Private</td>\n",
              "      <td>215646</td>\n",
              "      <td>HS-grad</td>\n",
              "      <td>9</td>\n",
              "      <td>Divorced</td>\n",
              "      <td>Handlers-cleaners</td>\n",
              "      <td>Not-in-family</td>\n",
              "      <td>White</td>\n",
              "      <td>Male</td>\n",
              "      <td>0</td>\n",
              "      <td>0</td>\n",
              "      <td>40</td>\n",
              "      <td>United-States</td>\n",
              "      <td>&lt;=50K</td>\n",
              "    </tr>\n",
              "    <tr>\n",
              "      <th>3</th>\n",
              "      <td>53</td>\n",
              "      <td>Private</td>\n",
              "      <td>234721</td>\n",
              "      <td>11th</td>\n",
              "      <td>7</td>\n",
              "      <td>Married-civ-spouse</td>\n",
              "      <td>Handlers-cleaners</td>\n",
              "      <td>Husband</td>\n",
              "      <td>Black</td>\n",
              "      <td>Male</td>\n",
              "      <td>0</td>\n",
              "      <td>0</td>\n",
              "      <td>40</td>\n",
              "      <td>United-States</td>\n",
              "      <td>&lt;=50K</td>\n",
              "    </tr>\n",
              "    <tr>\n",
              "      <th>4</th>\n",
              "      <td>28</td>\n",
              "      <td>Private</td>\n",
              "      <td>338409</td>\n",
              "      <td>Bachelors</td>\n",
              "      <td>13</td>\n",
              "      <td>Married-civ-spouse</td>\n",
              "      <td>Prof-specialty</td>\n",
              "      <td>Wife</td>\n",
              "      <td>Black</td>\n",
              "      <td>Female</td>\n",
              "      <td>0</td>\n",
              "      <td>0</td>\n",
              "      <td>40</td>\n",
              "      <td>Cuba</td>\n",
              "      <td>&lt;=50K</td>\n",
              "    </tr>\n",
              "  </tbody>\n",
              "</table>\n",
              "</div>"
            ],
            "text/plain": [
              "   age          workclass  fnlwgt  ... wrk_hrs_per_week  native_country  income\n",
              "0   39          State-gov   77516  ...               40   United-States   <=50K\n",
              "1   50   Self-emp-not-inc   83311  ...               13   United-States   <=50K\n",
              "2   38            Private  215646  ...               40   United-States   <=50K\n",
              "3   53            Private  234721  ...               40   United-States   <=50K\n",
              "4   28            Private  338409  ...               40            Cuba   <=50K\n",
              "\n",
              "[5 rows x 15 columns]"
            ]
          },
          "metadata": {
            "tags": []
          },
          "execution_count": 248
        }
      ]
    },
    {
      "cell_type": "markdown",
      "metadata": {
        "id": "l3TU0YnYY7kf",
        "colab_type": "text"
      },
      "source": [
        "Logist Regression에 사용하기 위한 라벨 만들기"
      ]
    },
    {
      "cell_type": "code",
      "metadata": {
        "id": "3YtLuzgEZIJa",
        "colab_type": "code",
        "outputId": "41c6eb5a-3b0d-43fa-c9b2-3a7da5ec4469",
        "colab": {
          "base_uri": "https://localhost:8080/",
          "height": 309
        }
      },
      "source": [
        "raw_data['income_label'] = (raw_data['income'].apply(lambda x: \">50K\" in x)).astype(int)\n",
        "raw_data.head()"
      ],
      "execution_count": 249,
      "outputs": [
        {
          "output_type": "execute_result",
          "data": {
            "text/html": [
              "<div>\n",
              "<style scoped>\n",
              "    .dataframe tbody tr th:only-of-type {\n",
              "        vertical-align: middle;\n",
              "    }\n",
              "\n",
              "    .dataframe tbody tr th {\n",
              "        vertical-align: top;\n",
              "    }\n",
              "\n",
              "    .dataframe thead th {\n",
              "        text-align: right;\n",
              "    }\n",
              "</style>\n",
              "<table border=\"1\" class=\"dataframe\">\n",
              "  <thead>\n",
              "    <tr style=\"text-align: right;\">\n",
              "      <th></th>\n",
              "      <th>age</th>\n",
              "      <th>workclass</th>\n",
              "      <th>fnlwgt</th>\n",
              "      <th>education</th>\n",
              "      <th>education_num</th>\n",
              "      <th>marital_status</th>\n",
              "      <th>occupation</th>\n",
              "      <th>relationship</th>\n",
              "      <th>race</th>\n",
              "      <th>sex</th>\n",
              "      <th>capital-gain</th>\n",
              "      <th>capital-loss</th>\n",
              "      <th>wrk_hrs_per_week</th>\n",
              "      <th>native_country</th>\n",
              "      <th>income</th>\n",
              "      <th>income_label</th>\n",
              "    </tr>\n",
              "  </thead>\n",
              "  <tbody>\n",
              "    <tr>\n",
              "      <th>0</th>\n",
              "      <td>39</td>\n",
              "      <td>State-gov</td>\n",
              "      <td>77516</td>\n",
              "      <td>Bachelors</td>\n",
              "      <td>13</td>\n",
              "      <td>Never-married</td>\n",
              "      <td>Adm-clerical</td>\n",
              "      <td>Not-in-family</td>\n",
              "      <td>White</td>\n",
              "      <td>Male</td>\n",
              "      <td>2174</td>\n",
              "      <td>0</td>\n",
              "      <td>40</td>\n",
              "      <td>United-States</td>\n",
              "      <td>&lt;=50K</td>\n",
              "      <td>0</td>\n",
              "    </tr>\n",
              "    <tr>\n",
              "      <th>1</th>\n",
              "      <td>50</td>\n",
              "      <td>Self-emp-not-inc</td>\n",
              "      <td>83311</td>\n",
              "      <td>Bachelors</td>\n",
              "      <td>13</td>\n",
              "      <td>Married-civ-spouse</td>\n",
              "      <td>Exec-managerial</td>\n",
              "      <td>Husband</td>\n",
              "      <td>White</td>\n",
              "      <td>Male</td>\n",
              "      <td>0</td>\n",
              "      <td>0</td>\n",
              "      <td>13</td>\n",
              "      <td>United-States</td>\n",
              "      <td>&lt;=50K</td>\n",
              "      <td>0</td>\n",
              "    </tr>\n",
              "    <tr>\n",
              "      <th>2</th>\n",
              "      <td>38</td>\n",
              "      <td>Private</td>\n",
              "      <td>215646</td>\n",
              "      <td>HS-grad</td>\n",
              "      <td>9</td>\n",
              "      <td>Divorced</td>\n",
              "      <td>Handlers-cleaners</td>\n",
              "      <td>Not-in-family</td>\n",
              "      <td>White</td>\n",
              "      <td>Male</td>\n",
              "      <td>0</td>\n",
              "      <td>0</td>\n",
              "      <td>40</td>\n",
              "      <td>United-States</td>\n",
              "      <td>&lt;=50K</td>\n",
              "      <td>0</td>\n",
              "    </tr>\n",
              "    <tr>\n",
              "      <th>3</th>\n",
              "      <td>53</td>\n",
              "      <td>Private</td>\n",
              "      <td>234721</td>\n",
              "      <td>11th</td>\n",
              "      <td>7</td>\n",
              "      <td>Married-civ-spouse</td>\n",
              "      <td>Handlers-cleaners</td>\n",
              "      <td>Husband</td>\n",
              "      <td>Black</td>\n",
              "      <td>Male</td>\n",
              "      <td>0</td>\n",
              "      <td>0</td>\n",
              "      <td>40</td>\n",
              "      <td>United-States</td>\n",
              "      <td>&lt;=50K</td>\n",
              "      <td>0</td>\n",
              "    </tr>\n",
              "    <tr>\n",
              "      <th>4</th>\n",
              "      <td>28</td>\n",
              "      <td>Private</td>\n",
              "      <td>338409</td>\n",
              "      <td>Bachelors</td>\n",
              "      <td>13</td>\n",
              "      <td>Married-civ-spouse</td>\n",
              "      <td>Prof-specialty</td>\n",
              "      <td>Wife</td>\n",
              "      <td>Black</td>\n",
              "      <td>Female</td>\n",
              "      <td>0</td>\n",
              "      <td>0</td>\n",
              "      <td>40</td>\n",
              "      <td>Cuba</td>\n",
              "      <td>&lt;=50K</td>\n",
              "      <td>0</td>\n",
              "    </tr>\n",
              "  </tbody>\n",
              "</table>\n",
              "</div>"
            ],
            "text/plain": [
              "   age          workclass  fnlwgt  ...  native_country  income income_label\n",
              "0   39          State-gov   77516  ...   United-States   <=50K            0\n",
              "1   50   Self-emp-not-inc   83311  ...   United-States   <=50K            0\n",
              "2   38            Private  215646  ...   United-States   <=50K            0\n",
              "3   53            Private  234721  ...   United-States   <=50K            0\n",
              "4   28            Private  338409  ...            Cuba   <=50K            0\n",
              "\n",
              "[5 rows x 16 columns]"
            ]
          },
          "metadata": {
            "tags": []
          },
          "execution_count": 249
        }
      ]
    },
    {
      "cell_type": "markdown",
      "metadata": {
        "id": "7Xu4BIoIbV44",
        "colab_type": "text"
      },
      "source": [
        "## 1-Set 실험\n",
        "\"Wide-\" 나 \"Deep-\" 모델에 넣을 컬럼을 정의한다."
      ]
    },
    {
      "cell_type": "code",
      "metadata": {
        "id": "DNLkimZrbtR1",
        "colab_type": "code",
        "outputId": "62714140-8d8e-462f-db2c-44ba9d96e7cf",
        "colab": {
          "base_uri": "https://localhost:8080/",
          "height": 34
        }
      },
      "source": [
        "wide_cols = ['age', 'wrk_hrs_per_week', 'education', 'relationship', 'workclass', 'occupation', 'native_country', 'sex']\n",
        "crossed_cols = (['education', 'occupation'], ['native_country', 'occupation'])\n",
        "embedding_cols = [('education', 10), ('relationship', 8), ('workclass', 10), ('occupation', 10), ('native_country', 12)]\n",
        "continuous_cols = ['age', 'wrk_hrs_per_week']\n",
        "target = 'income_label'\n",
        "method = 'logistic'\n",
        "\n",
        "if type(embedding_cols[0]) is tuple:\n",
        "  emb_dim = dict(embedding_cols)\n",
        "  embedding_cols = [emb[0] for emb in embedding_cols]\n",
        "else:\n",
        "  emb_dim = {e:def_dim for e in embedding_cols}\n",
        "deep_cols = embedding_cols + continuous_cols\n",
        "print(deep_cols)"
      ],
      "execution_count": 250,
      "outputs": [
        {
          "output_type": "stream",
          "text": [
            "['education', 'relationship', 'workclass', 'occupation', 'native_country', 'age', 'wrk_hrs_per_week']\n"
          ],
          "name": "stdout"
        }
      ]
    },
    {
      "cell_type": "markdown",
      "metadata": {
        "id": "Ltj7Yxe0c0ra",
        "colab_type": "text"
      },
      "source": [
        ""
      ]
    },
    {
      "cell_type": "code",
      "metadata": {
        "id": "FMqdnJmhcwH6",
        "colab_type": "code",
        "outputId": "375dedec-a345-47f2-de87-fbfea0c3238a",
        "colab": {
          "base_uri": "https://localhost:8080/",
          "height": 204
        }
      },
      "source": [
        "Y = np.array(raw_data[target])\n",
        "raw_temp = raw_data.copy()[list(set(wide_cols + deep_cols))]\n",
        "raw_temp.head()"
      ],
      "execution_count": 251,
      "outputs": [
        {
          "output_type": "execute_result",
          "data": {
            "text/html": [
              "<div>\n",
              "<style scoped>\n",
              "    .dataframe tbody tr th:only-of-type {\n",
              "        vertical-align: middle;\n",
              "    }\n",
              "\n",
              "    .dataframe tbody tr th {\n",
              "        vertical-align: top;\n",
              "    }\n",
              "\n",
              "    .dataframe thead th {\n",
              "        text-align: right;\n",
              "    }\n",
              "</style>\n",
              "<table border=\"1\" class=\"dataframe\">\n",
              "  <thead>\n",
              "    <tr style=\"text-align: right;\">\n",
              "      <th></th>\n",
              "      <th>age</th>\n",
              "      <th>wrk_hrs_per_week</th>\n",
              "      <th>education</th>\n",
              "      <th>occupation</th>\n",
              "      <th>sex</th>\n",
              "      <th>relationship</th>\n",
              "      <th>workclass</th>\n",
              "      <th>native_country</th>\n",
              "    </tr>\n",
              "  </thead>\n",
              "  <tbody>\n",
              "    <tr>\n",
              "      <th>0</th>\n",
              "      <td>39</td>\n",
              "      <td>40</td>\n",
              "      <td>Bachelors</td>\n",
              "      <td>Adm-clerical</td>\n",
              "      <td>Male</td>\n",
              "      <td>Not-in-family</td>\n",
              "      <td>State-gov</td>\n",
              "      <td>United-States</td>\n",
              "    </tr>\n",
              "    <tr>\n",
              "      <th>1</th>\n",
              "      <td>50</td>\n",
              "      <td>13</td>\n",
              "      <td>Bachelors</td>\n",
              "      <td>Exec-managerial</td>\n",
              "      <td>Male</td>\n",
              "      <td>Husband</td>\n",
              "      <td>Self-emp-not-inc</td>\n",
              "      <td>United-States</td>\n",
              "    </tr>\n",
              "    <tr>\n",
              "      <th>2</th>\n",
              "      <td>38</td>\n",
              "      <td>40</td>\n",
              "      <td>HS-grad</td>\n",
              "      <td>Handlers-cleaners</td>\n",
              "      <td>Male</td>\n",
              "      <td>Not-in-family</td>\n",
              "      <td>Private</td>\n",
              "      <td>United-States</td>\n",
              "    </tr>\n",
              "    <tr>\n",
              "      <th>3</th>\n",
              "      <td>53</td>\n",
              "      <td>40</td>\n",
              "      <td>11th</td>\n",
              "      <td>Handlers-cleaners</td>\n",
              "      <td>Male</td>\n",
              "      <td>Husband</td>\n",
              "      <td>Private</td>\n",
              "      <td>United-States</td>\n",
              "    </tr>\n",
              "    <tr>\n",
              "      <th>4</th>\n",
              "      <td>28</td>\n",
              "      <td>40</td>\n",
              "      <td>Bachelors</td>\n",
              "      <td>Prof-specialty</td>\n",
              "      <td>Female</td>\n",
              "      <td>Wife</td>\n",
              "      <td>Private</td>\n",
              "      <td>Cuba</td>\n",
              "    </tr>\n",
              "  </tbody>\n",
              "</table>\n",
              "</div>"
            ],
            "text/plain": [
              "   age  wrk_hrs_per_week  ...          workclass  native_country\n",
              "0   39                40  ...          State-gov   United-States\n",
              "1   50                13  ...   Self-emp-not-inc   United-States\n",
              "2   38                40  ...            Private   United-States\n",
              "3   53                40  ...            Private   United-States\n",
              "4   28                40  ...            Private            Cuba\n",
              "\n",
              "[5 rows x 8 columns]"
            ]
          },
          "metadata": {
            "tags": []
          },
          "execution_count": 251
        }
      ]
    },
    {
      "cell_type": "code",
      "metadata": {
        "id": "DWIlP32QfZNM",
        "colab_type": "code",
        "outputId": "383166dd-a763-4200-ee68-5e552e2c8b42",
        "colab": {
          "base_uri": "https://localhost:8080/",
          "height": 170
        }
      },
      "source": [
        "print(crossed_cols)\n",
        "crossed_columns = []\n",
        "# Build the crossed columns\n",
        "for cols in crossed_cols:\n",
        "  colname = '_'.join(cols)\n",
        "  raw_temp[colname] = raw_temp[cols].apply (lambda x: '-'.join(x), axis=1)\n",
        "  crossed_columns.append(colname)\n",
        "\n",
        "\n",
        "\n",
        "# extract the categorical column names that can be one-hot encoded layer\n",
        "categorical_columns = list(raw_temp.select_dtypes(include=['object']).columns)\n",
        "categorical_columns"
      ],
      "execution_count": 252,
      "outputs": [
        {
          "output_type": "stream",
          "text": [
            "(['education', 'occupation'], ['native_country', 'occupation'])\n"
          ],
          "name": "stdout"
        },
        {
          "output_type": "execute_result",
          "data": {
            "text/plain": [
              "['education',\n",
              " 'occupation',\n",
              " 'sex',\n",
              " 'relationship',\n",
              " 'workclass',\n",
              " 'native_country',\n",
              " 'education_occupation',\n",
              " 'native_country_occupation']"
            ]
          },
          "metadata": {
            "tags": []
          },
          "execution_count": 252
        }
      ]
    },
    {
      "cell_type": "code",
      "metadata": {
        "id": "nTKJp0xyhVLe",
        "colab_type": "code",
        "outputId": "358beb41-ef36-4036-b161-c279fdca254c",
        "colab": {
          "base_uri": "https://localhost:8080/",
          "height": 119
        }
      },
      "source": [
        "raw_temp['education_occupation'].head()\n",
        "#raw_temp.head()"
      ],
      "execution_count": 253,
      "outputs": [
        {
          "output_type": "execute_result",
          "data": {
            "text/plain": [
              "0        Bachelors- Adm-clerical\n",
              "1     Bachelors- Exec-managerial\n",
              "2     HS-grad- Handlers-cleaners\n",
              "3        11th- Handlers-cleaners\n",
              "4      Bachelors- Prof-specialty\n",
              "Name: education_occupation, dtype: object"
            ]
          },
          "metadata": {
            "tags": []
          },
          "execution_count": 253
        }
      ]
    },
    {
      "cell_type": "code",
      "metadata": {
        "id": "2gomtR2whiLi",
        "colab_type": "code",
        "colab": {}
      },
      "source": [
        "def label_encode(df, cols=None):\n",
        "  if cols == None:\n",
        "    # 여기서 continuous feature들은 걸러진다\n",
        "    cols = list(df.select_dtypes(include=['object']).columns)\n",
        "  \n",
        "  # 모든 컬럼들에 대해 유일한 값들을 뽑는다.\n",
        "  # 카테고리 컬럼의 각 유일 원소들을 사전에 저장한다. key(string) - value(list(string))\n",
        "  val_types = dict()\n",
        "  for c in cols: \n",
        "    val_types[c] = df[c].unique()\n",
        "  \n",
        "  val_to_idx = dict()\n",
        "  for k, v in val_types.items():\n",
        "    # 카테고리 컬럼의 각 유일 원소들에 인덱스를 부여한다.\n",
        "    val_to_idx[k] = {o: i for i, o in enumerate(val_types[k])}\n",
        "  \n",
        "\n",
        "  for k, v in val_to_idx.items():\n",
        "    # 입력 데이터들을 인코딩한다. category feature의 원소 -> 인덱스 \n",
        "    df[k] = df[k].apply(lambda x: v[x])\n",
        "  \n",
        "  return val_to_idx, df"
      ],
      "execution_count": 0,
      "outputs": []
    },
    {
      "cell_type": "code",
      "metadata": {
        "id": "on5LFxRkkbDU",
        "colab_type": "code",
        "outputId": "8cc62a1f-4e46-4503-ce84-99bc8120d0d0",
        "colab": {
          "base_uri": "https://localhost:8080/",
          "height": 377
        }
      },
      "source": [
        "# 데이터프레임을 인코딩한다. 그리고 인코딩 딕셔너리를 리턴\n",
        "# deep_cols\n",
        "print(raw_temp.head())\n",
        "encoding_dict, raw_temp = label_encode(raw_temp)\n",
        "\n",
        "print(raw_temp.head())\n",
        "print(encoding_dict) # 카테고리 피처들의 원소들에 인덱스가 부여되었다. Continuous Column은 걸러졌다\n",
        "print(encoding_dict.keys())\n",
        "\n",
        "\n",
        "encoding_dict = {k:encoding_dict[k] for k in encoding_dict if k in deep_cols}\n",
        "print(encoding_dict.keys())\n",
        "\n",
        "embeddings_input = []\n",
        "for k, v in encoding_dict.items():\n",
        "  embeddings_input.append((k, len(v), emb_dim[k])) # ( embedding_feature_name,  embedding_max_index, embedding_length )\n",
        "print(embeddings_input)"
      ],
      "execution_count": 255,
      "outputs": [
        {
          "output_type": "stream",
          "text": [
            "   age  ...          native_country_occupation\n",
            "0   39  ...        United-States- Adm-clerical\n",
            "1   50  ...     United-States- Exec-managerial\n",
            "2   38  ...   United-States- Handlers-cleaners\n",
            "3   53  ...   United-States- Handlers-cleaners\n",
            "4   28  ...               Cuba- Prof-specialty\n",
            "\n",
            "[5 rows x 10 columns]\n",
            "   age  wrk_hrs_per_week  ...  education_occupation  native_country_occupation\n",
            "0   39                40  ...                     0                          0\n",
            "1   50                13  ...                     1                          1\n",
            "2   38                40  ...                     2                          2\n",
            "3   53                40  ...                     3                          2\n",
            "4   28                40  ...                     4                          3\n",
            "\n",
            "[5 rows x 10 columns]\n",
            "{'education': {' Bachelors': 0, ' HS-grad': 1, ' 11th': 2, ' Masters': 3, ' 9th': 4, ' Some-college': 5, ' Assoc-acdm': 6, ' Assoc-voc': 7, ' 7th-8th': 8, ' Doctorate': 9, ' Prof-school': 10, ' 5th-6th': 11, ' 10th': 12, ' 1st-4th': 13, ' Preschool': 14, ' 12th': 15}, 'occupation': {' Adm-clerical': 0, ' Exec-managerial': 1, ' Handlers-cleaners': 2, ' Prof-specialty': 3, ' Other-service': 4, ' Sales': 5, ' Craft-repair': 6, ' Transport-moving': 7, ' Farming-fishing': 8, ' Machine-op-inspct': 9, ' Tech-support': 10, ' ?': 11, ' Protective-serv': 12, ' Armed-Forces': 13, ' Priv-house-serv': 14}, 'sex': {' Male': 0, ' Female': 1}, 'relationship': {' Not-in-family': 0, ' Husband': 1, ' Wife': 2, ' Own-child': 3, ' Unmarried': 4, ' Other-relative': 5}, 'workclass': {' State-gov': 0, ' Self-emp-not-inc': 1, ' Private': 2, ' Federal-gov': 3, ' Local-gov': 4, ' ?': 5, ' Self-emp-inc': 6, ' Without-pay': 7, ' Never-worked': 8}, 'native_country': {' United-States': 0, ' Cuba': 1, ' Jamaica': 2, ' India': 3, ' ?': 4, ' Mexico': 5, ' South': 6, ' Puerto-Rico': 7, ' Honduras': 8, ' England': 9, ' Canada': 10, ' Germany': 11, ' Iran': 12, ' Philippines': 13, ' Italy': 14, ' Poland': 15, ' Columbia': 16, ' Cambodia': 17, ' Thailand': 18, ' Ecuador': 19, ' Laos': 20, ' Taiwan': 21, ' Haiti': 22, ' Portugal': 23, ' Dominican-Republic': 24, ' El-Salvador': 25, ' France': 26, ' Guatemala': 27, ' China': 28, ' Japan': 29, ' Yugoslavia': 30, ' Peru': 31, ' Outlying-US(Guam-USVI-etc)': 32, ' Scotland': 33, ' Trinadad&Tobago': 34, ' Greece': 35, ' Nicaragua': 36, ' Vietnam': 37, ' Hong': 38, ' Ireland': 39, ' Hungary': 40, ' Holand-Netherlands': 41}, 'education_occupation': {' Bachelors- Adm-clerical': 0, ' Bachelors- Exec-managerial': 1, ' HS-grad- Handlers-cleaners': 2, ' 11th- Handlers-cleaners': 3, ' Bachelors- Prof-specialty': 4, ' Masters- Exec-managerial': 5, ' 9th- Other-service': 6, ' HS-grad- Exec-managerial': 7, ' Masters- Prof-specialty': 8, ' Some-college- Exec-managerial': 9, ' Assoc-acdm- Sales': 10, ' Assoc-voc- Craft-repair': 11, ' 7th-8th- Transport-moving': 12, ' HS-grad- Farming-fishing': 13, ' HS-grad- Machine-op-inspct': 14, ' 11th- Sales': 15, ' Doctorate- Prof-specialty': 16, ' HS-grad- Other-service': 17, ' 9th- Farming-fishing': 18, ' 11th- Transport-moving': 19, ' HS-grad- Tech-support': 20, ' Bachelors- Tech-support': 21, ' HS-grad- Craft-repair': 22, ' Some-college- ?': 23, ' Assoc-acdm- Protective-serv': 24, ' Some-college- Sales': 25, ' Some-college- Adm-clerical': 26, ' Some-college- Other-service': 27, ' 11th- Machine-op-inspct': 28, ' Some-college- Machine-op-inspct': 29, ' HS-grad- Adm-clerical': 30, ' Assoc-acdm- Prof-specialty': 31, ' 9th- Machine-op-inspct': 32, ' Assoc-voc- Prof-specialty': 33, ' Prof-school- Prof-specialty': 34, ' Some-college- Tech-support': 35, ' 5th-6th- Machine-op-inspct': 36, ' Assoc-voc- Other-service': 37, ' Bachelors- Sales': 38, ' 7th-8th- ?': 39, ' HS-grad- Transport-moving': 40, ' Some-college- Prof-specialty': 41, ' Assoc-acdm- Adm-clerical': 42, ' 10th- ?': 43, ' 11th- Other-service': 44, ' 7th-8th- Farming-fishing': 45, ' HS-grad- Sales': 46, ' Bachelors- Other-service': 47, ' HS-grad- Protective-serv': 48, ' 9th- Sales': 49, ' Some-college- Craft-repair': 50, ' Bachelors- Protective-serv': 51, ' Some-college- Handlers-cleaners': 52, ' Assoc-acdm- Exec-managerial': 53, ' 9th- Handlers-cleaners': 54, ' HS-grad- ?': 55, ' Assoc-acdm- Tech-support': 56, ' Assoc-voc- Adm-clerical': 57, ' 11th- Craft-repair': 58, ' Bachelors- Handlers-cleaners': 59, ' 1st-4th- ?': 60, ' Masters- Sales': 61, ' Masters- Protective-serv': 62, ' Bachelors- Craft-repair': 63, ' 7th-8th- Machine-op-inspct': 64, ' Bachelors- ?': 65, ' 5th-6th- Transport-moving': 66, ' 10th- Craft-repair': 67, ' Preschool- Machine-op-inspct': 68, ' 10th- Other-service': 69, ' Some-college- Transport-moving': 70, ' Assoc-voc- Exec-managerial': 71, ' 7th-8th- Craft-repair': 72, ' Masters- Farming-fishing': 73, ' HS-grad- Prof-specialty': 74, ' Masters- ?': 75, ' Some-college- Farming-fishing': 76, ' 11th- Exec-managerial': 77, ' Masters- Craft-repair': 78, ' Assoc-voc- ?': 79, ' 10th- Adm-clerical': 80, ' 5th-6th- Other-service': 81, ' Some-college- Protective-serv': 82, ' 11th- ?': 83, ' Assoc-acdm- Other-service': 84, ' Assoc-voc- Tech-support': 85, ' 9th- Craft-repair': 86, ' Bachelors- Transport-moving': 87, ' Assoc-voc- Machine-op-inspct': 88, ' 5th-6th- Craft-repair': 89, ' Assoc-acdm- Craft-repair': 90, ' 7th-8th- Handlers-cleaners': 91, ' Doctorate- Exec-managerial': 92, ' 12th- Craft-repair': 93, ' 1st-4th- Machine-op-inspct': 94, ' HS-grad- Armed-Forces': 95, ' Assoc-acdm- Farming-fishing': 96, ' 1st-4th- Craft-repair': 97, ' 12th- ?': 98, ' Assoc-voc- Handlers-cleaners': 99, ' 5th-6th- ?': 100, ' 12th- Tech-support': 101, ' 1st-4th- Priv-house-serv': 102, ' Bachelors- Farming-fishing': 103, ' 11th- Adm-clerical': 104, ' 7th-8th- Other-service': 105, ' 9th- Priv-house-serv': 106, ' Assoc-voc- Transport-moving': 107, ' 9th- ?': 108, ' 12th- Handlers-cleaners': 109, ' 11th- Farming-fishing': 110, ' 12th- Other-service': 111, ' Assoc-acdm- ?': 112, ' Masters- Tech-support': 113, ' 5th-6th- Farming-fishing': 114, ' 12th- Machine-op-inspct': 115, ' 10th- Farming-fishing': 116, ' 10th- Handlers-cleaners': 117, ' Prof-school- Farming-fishing': 118, ' Preschool- Other-service': 119, ' 10th- Transport-moving': 120, ' 10th- Exec-managerial': 121, ' 9th- Exec-managerial': 122, ' HS-grad- Priv-house-serv': 123, ' 12th- Transport-moving': 124, ' 10th- Machine-op-inspct': 125, ' Bachelors- Machine-op-inspct': 126, ' Masters- Transport-moving': 127, ' 1st-4th- Other-service': 128, ' Some-college- Armed-Forces': 129, ' 5th-6th- Adm-clerical': 130, ' Masters- Other-service': 131, ' Assoc-voc- Sales': 132, ' Assoc-voc- Protective-serv': 133, ' Prof-school- Transport-moving': 134, ' 10th- Sales': 135, ' 7th-8th- Protective-serv': 136, ' 12th- Sales': 137, ' 5th-6th- Handlers-cleaners': 138, ' 9th- Tech-support': 139, ' Masters- Adm-clerical': 140, ' Assoc-acdm- Handlers-cleaners': 141, ' 7th-8th- Sales': 142, ' 9th- Transport-moving': 143, ' Prof-school- Exec-managerial': 144, ' 10th- Protective-serv': 145, ' 12th- Adm-clerical': 146, ' Doctorate- ?': 147, ' 5th-6th- Priv-house-serv': 148, ' Some-college- Priv-house-serv': 149, ' 11th- Prof-specialty': 150, ' 10th- Priv-house-serv': 151, ' 5th-6th- Sales': 152, ' Assoc-acdm- Machine-op-inspct': 153, ' Assoc-voc- Farming-fishing': 154, ' Doctorate- Adm-clerical': 155, ' Prof-school- Sales': 156, ' 12th- Protective-serv': 157, ' Prof-school- Adm-clerical': 158, ' 11th- Tech-support': 159, ' 1st-4th- Sales': 160, ' 7th-8th- Exec-managerial': 161, ' 12th- Prof-specialty': 162, ' Preschool- Craft-repair': 163, ' Prof-school- Craft-repair': 164, ' Prof-school- Tech-support': 165, ' 1st-4th- Exec-managerial': 166, ' 11th- Priv-house-serv': 167, ' Preschool- Farming-fishing': 168, ' Preschool- ?': 169, ' Assoc-acdm- Transport-moving': 170, ' 10th- Tech-support': 171, ' 9th- Prof-specialty': 172, ' 1st-4th- Transport-moving': 173, ' 9th- Adm-clerical': 174, ' 12th- Exec-managerial': 175, ' 9th- Protective-serv': 176, ' 7th-8th- Prof-specialty': 177, ' 10th- Prof-specialty': 178, ' Assoc-acdm- Priv-house-serv': 179, ' Prof-school- Protective-serv': 180, ' 1st-4th- Farming-fishing': 181, ' 7th-8th- Adm-clerical': 182, ' 12th- Farming-fishing': 183, ' Doctorate- Sales': 184, ' Doctorate- Tech-support': 185, ' 7th-8th- Tech-support': 186, ' 1st-4th- Prof-specialty': 187, ' Prof-school- ?': 188, ' Doctorate- Craft-repair': 189, ' 1st-4th- Handlers-cleaners': 190, ' Masters- Machine-op-inspct': 191, ' Doctorate- Other-service': 192, ' Bachelors- Priv-house-serv': 193, ' 12th- Priv-house-serv': 194, ' Masters- Handlers-cleaners': 195, ' 11th- Protective-serv': 196, ' 5th-6th- Exec-managerial': 197, ' 5th-6th- Protective-serv': 198, ' Assoc-voc- Priv-house-serv': 199, ' 7th-8th- Priv-house-serv': 200, ' Masters- Priv-house-serv': 201, ' Bachelors- Armed-Forces': 202, ' Preschool- Priv-house-serv': 203, ' 1st-4th- Protective-serv': 204, ' 12th- Armed-Forces': 205, ' 5th-6th- Prof-specialty': 206, ' Prof-school- Machine-op-inspct': 207, ' Doctorate- Farming-fishing': 208, ' Preschool- Prof-specialty': 209, ' Prof-school- Other-service': 210, ' Preschool- Handlers-cleaners': 211, ' Preschool- Adm-clerical': 212, ' Masters- Armed-Forces': 213, ' 5th-6th- Tech-support': 214, ' Doctorate- Transport-moving': 215, ' Doctorate- Machine-op-inspct': 216}, 'native_country_occupation': {' United-States- Adm-clerical': 0, ' United-States- Exec-managerial': 1, ' United-States- Handlers-cleaners': 2, ' Cuba- Prof-specialty': 3, ' Jamaica- Other-service': 4, ' United-States- Prof-specialty': 5, ' India- Prof-specialty': 6, ' United-States- Sales': 7, ' ?- Craft-repair': 8, ' Mexico- Transport-moving': 9, ' United-States- Farming-fishing': 10, ' United-States- Machine-op-inspct': 11, ' United-States- Other-service': 12, ' United-States- Transport-moving': 13, ' United-States- Tech-support': 14, ' United-States- Craft-repair': 15, ' South- ?': 16, ' United-States- Protective-serv': 17, ' Puerto-Rico- Machine-op-inspct': 18, ' ?- Sales': 19, ' ?- Other-service': 20, ' Honduras- Prof-specialty': 21, ' Mexico- Machine-op-inspct': 22, ' Puerto-Rico- Other-service': 23, ' ?- ?': 24, ' United-States- ?': 25, ' Mexico- Other-service': 26, ' Cuba- Other-service': 27, ' England- Exec-managerial': 28, ' Canada- Other-service': 29, ' Germany- Exec-managerial': 30, ' Iran- Prof-specialty': 31, ' Mexico- Adm-clerical': 32, ' Philippines- Exec-managerial': 33, ' Italy- ?': 34, ' Poland- Sales': 35, ' Columbia- Adm-clerical': 36, ' Iran- Exec-managerial': 37, ' ?- Adm-clerical': 38, ' Cambodia- Farming-fishing': 39, ' Thailand- Exec-managerial': 40, ' Canada- ?': 41, ' Germany- Prof-specialty': 42, ' Ecuador- Craft-repair': 43, ' Laos- Adm-clerical': 44, ' Taiwan- Exec-managerial': 45, ' Haiti- Sales': 46, ' Iran- Other-service': 47, ' Portugal- Craft-repair': 48, ' ?- Exec-managerial': 49, ' Puerto-Rico- Handlers-cleaners': 50, ' Dominican-Republic- Handlers-cleaners': 51, ' Philippines- Craft-repair': 52, ' United-States- Armed-Forces': 53, ' Mexico- Craft-repair': 54, ' El-Salvador- Other-service': 55, ' Poland- Farming-fishing': 56, ' France- Other-service': 57, ' United-States- Priv-house-serv': 58, ' Canada- Prof-specialty': 59, ' El-Salvador- Handlers-cleaners': 60, ' Cuba- Transport-moving': 61, ' Taiwan- Prof-specialty': 62, ' Philippines- Adm-clerical': 63, ' Dominican-Republic- Exec-managerial': 64, ' Poland- Prof-specialty': 65, ' Cuba- Sales': 66, ' ?- Prof-specialty': 67, ' Honduras- Adm-clerical': 68, ' Haiti- Craft-repair': 69, ' Portugal- Protective-serv': 70, ' Germany- Sales': 71, ' Guatemala- Farming-fishing': 72, ' Italy- Other-service': 73, ' Mexico- Farming-fishing': 74, ' China- Sales': 75, ' India- Adm-clerical': 76, ' South- Prof-specialty': 77, ' Guatemala- Priv-house-serv': 78, ' India- Exec-managerial': 79, ' Japan- Craft-repair': 80, ' Yugoslavia- Other-service': 81, ' India- Sales': 82, ' Canada- Sales': 83, ' Iran- Craft-repair': 84, ' Taiwan- Sales': 85, ' China- Prof-specialty': 86, ' Mexico- Exec-managerial': 87, ' Mexico- Sales': 88, ' ?- Machine-op-inspct': 89, ' Japan- Prof-specialty': 90, ' Jamaica- Exec-managerial': 91, ' ?- Transport-moving': 92, ' Dominican-Republic- Machine-op-inspct': 93, ' China- ?': 94, ' England- Adm-clerical': 95, ' Philippines- Prof-specialty': 96, ' Japan- Other-service': 97, ' Canada- Handlers-cleaners': 98, ' ?- Handlers-cleaners': 99, ' India- Other-service': 100, ' Italy- Sales': 101, ' Japan- Exec-managerial': 102, ' Poland- Other-service': 103, ' Canada- Exec-managerial': 104, ' Thailand- Other-service': 105, ' Germany- Machine-op-inspct': 106, ' Peru- Machine-op-inspct': 107, ' China- Other-service': 108, ' Outlying-US(Guam-USVI-etc)- Other-service': 109, ' Jamaica- ?': 110, ' Scotland- Exec-managerial': 111, ' Philippines- Other-service': 112, ' England- Prof-specialty': 113, ' Haiti- ?': 114, ' Italy- Prof-specialty': 115, ' Cuba- Protective-serv': 116, ' Italy- Adm-clerical': 117, ' China- Machine-op-inspct': 118, ' Trinadad&Tobago- Machine-op-inspct': 119, ' Mexico- Handlers-cleaners': 120, ' Dominican-Republic- Prof-specialty': 121, ' Greece- Other-service': 122, ' Nicaragua- Prof-specialty': 123, ' South- Sales': 124, ' Germany- Other-service': 125, ' Cambodia- Prof-specialty': 126, ' ?- Priv-house-serv': 127, ' Jamaica- Adm-clerical': 128, ' Cuba- Exec-managerial': 129, ' Nicaragua- Other-service': 130, ' Mexico- Priv-house-serv': 131, ' Honduras- ?': 132, ' Dominican-Republic- Craft-repair': 133, ' El-Salvador- Priv-house-serv': 134, ' Puerto-Rico- Adm-clerical': 135, ' Puerto-Rico- Transport-moving': 136, ' Vietnam- Exec-managerial': 137, ' Poland- Craft-repair': 138, ' Haiti- Protective-serv': 139, ' Guatemala- Machine-op-inspct': 140, ' Canada- Craft-repair': 141, ' England- Farming-fishing': 142, ' England- Machine-op-inspct': 143, ' Greece- Prof-specialty': 144, ' Dominican-Republic- Sales': 145, ' Canada- Tech-support': 146, ' Haiti- Machine-op-inspct': 147, ' Germany- ?': 148, ' Vietnam- Adm-clerical': 149, ' Hong- Adm-clerical': 150, ' Columbia- Prof-specialty': 151, ' El-Salvador- Prof-specialty': 152, ' Nicaragua- Machine-op-inspct': 153, ' Greece- Exec-managerial': 154, ' Canada- Transport-moving': 155, ' Cuba- Adm-clerical': 156, ' Japan- Adm-clerical': 157, ' El-Salvador- Machine-op-inspct': 158, ' Germany- Tech-support': 159, ' Italy- Transport-moving': 160, ' Ireland- Craft-repair': 161, ' Columbia- Exec-managerial': 162, ' Japan- Sales': 163, ' England- Craft-repair': 164, ' Poland- Tech-support': 165, ' Trinadad&Tobago- Other-service': 166, ' Greece- Craft-repair': 167, ' Mexico- Prof-specialty': 168, ' Puerto-Rico- Exec-managerial': 169, ' Philippines- ?': 170, ' Peru- Prof-specialty': 171, ' Cuba- Craft-repair': 172, ' Guatemala- Tech-support': 173, ' Germany- Craft-repair': 174, ' Dominican-Republic- Adm-clerical': 175, ' Columbia- Sales': 176, ' Italy- Craft-repair': 177, ' El-Salvador- Sales': 178, ' Portugal- Handlers-cleaners': 179, ' ?- Farming-fishing': 180, ' Jamaica- Sales': 181, ' Mexico- ?': 182, ' El-Salvador- ?': 183, ' Jamaica- Machine-op-inspct': 184, ' France- Exec-managerial': 185, ' Guatemala- Handlers-cleaners': 186, ' England- Protective-serv': 187, ' China- Exec-managerial': 188, ' Guatemala- Adm-clerical': 189, ' Guatemala- Sales': 190, ' Vietnam- Transport-moving': 191, ' Vietnam- Machine-op-inspct': 192, ' England- Other-service': 193, ' England- Tech-support': 194, ' Ireland- Handlers-cleaners': 195, ' Ecuador- Machine-op-inspct': 196, ' Ireland- Prof-specialty': 197, ' Poland- Handlers-cleaners': 198, ' South- Other-service': 199, ' Peru- Other-service': 200, ' El-Salvador- Craft-repair': 201, ' Germany- Adm-clerical': 202, ' Ecuador- Priv-house-serv': 203, ' Vietnam- Other-service': 204, ' Dominican-Republic- Other-service': 205, ' ?- Tech-support': 206, ' Haiti- Transport-moving': 207, ' ?- Protective-serv': 208, ' Outlying-US(Guam-USVI-etc)- Prof-specialty': 209, ' Cambodia- Craft-repair': 210, ' Ecuador- Tech-support': 211, ' Nicaragua- ?': 212, ' Jamaica- Handlers-cleaners': 213, ' South- Machine-op-inspct': 214, ' Iran- ?': 215, ' Puerto-Rico- Prof-specialty': 216, ' Canada- Machine-op-inspct': 217, ' Yugoslavia- Exec-managerial': 218, ' Outlying-US(Guam-USVI-etc)- Handlers-cleaners': 219, ' India- Craft-repair': 220, ' Philippines- Handlers-cleaners': 221, ' Philippines- Sales': 222, ' Laos- Craft-repair': 223, ' Canada- Adm-clerical': 224, ' France- Prof-specialty': 225, ' Guatemala- Other-service': 226, ' Guatemala- Craft-repair': 227, ' Germany- Transport-moving': 228, ' Vietnam- Sales': 229, ' El-Salvador- Transport-moving': 230, ' Ireland- Machine-op-inspct': 231, ' Philippines- Tech-support': 232, ' Puerto-Rico- Sales': 233, ' Italy- Machine-op-inspct': 234, ' Portugal- Exec-managerial': 235, ' Cuba- Handlers-cleaners': 236, ' Poland- Transport-moving': 237, ' Cuba- Machine-op-inspct': 238, ' Scotland- Other-service': 239, ' Poland- Machine-op-inspct': 240, ' El-Salvador- Adm-clerical': 241, ' Columbia- Machine-op-inspct': 242, ' Poland- ?': 243, ' Japan- Protective-serv': 244, ' England- ?': 245, ' England- Sales': 246, ' Poland- Exec-managerial': 247, ' Ireland- Other-service': 248, ' Puerto-Rico- Craft-repair': 249, ' Philippines- Machine-op-inspct': 250, ' China- Craft-repair': 251, ' Greece- Adm-clerical': 252, ' Laos- Machine-op-inspct': 253, ' Philippines- Farming-fishing': 254, ' Mexico- Tech-support': 255, ' South- Exec-managerial': 256, ' Vietnam- Craft-repair': 257, ' Jamaica- Tech-support': 258, ' Yugoslavia- Adm-clerical': 259, ' Haiti- Prof-specialty': 260, ' Greece- Sales': 261, ' Iran- Transport-moving': 262, ' Taiwan- ?': 263, ' Italy- Farming-fishing': 264, ' Jamaica- Craft-repair': 265, ' Jamaica- Prof-specialty': 266, ' Jamaica- Transport-moving': 267, ' Peru- Sales': 268, ' Iran- Sales': 269, ' Portugal- ?': 270, ' South- Handlers-cleaners': 271, ' Ecuador- Other-service': 272, ' Mexico- Protective-serv': 273, ' Honduras- Other-service': 274, ' Italy- Exec-managerial': 275, ' Haiti- Adm-clerical': 276, ' Portugal- Adm-clerical': 277, ' Guatemala- Transport-moving': 278, ' South- Craft-repair': 279, ' Thailand- Machine-op-inspct': 280, ' Ecuador- Prof-specialty': 281, ' Trinadad&Tobago- ?': 282, ' Columbia- Tech-support': 283, ' Haiti- Other-service': 284, ' Guatemala- ?': 285, ' Germany- Protective-serv': 286, ' Portugal- Machine-op-inspct': 287, ' Vietnam- Handlers-cleaners': 288, ' Cambodia- Exec-managerial': 289, ' France- Priv-house-serv': 290, ' Cambodia- Other-service': 291, ' Nicaragua- Handlers-cleaners': 292, ' Peru- Craft-repair': 293, ' Scotland- Adm-clerical': 294, ' Cuba- Priv-house-serv': 295, ' Greece- Handlers-cleaners': 296, ' Puerto-Rico- Farming-fishing': 297, ' Hungary- Exec-managerial': 298, ' Jamaica- Priv-house-serv': 299, ' Canada- Protective-serv': 300, ' El-Salvador- Exec-managerial': 301, ' Nicaragua- Adm-clerical': 302, ' Japan- Handlers-cleaners': 303, ' Ecuador- Sales': 304, ' Thailand- Adm-clerical': 305, ' Dominican-Republic- Protective-serv': 306, ' Thailand- Priv-house-serv': 307, ' Japan- ?': 308, ' Trinadad&Tobago- Adm-clerical': 309, ' Vietnam- ?': 310, ' Haiti- Handlers-cleaners': 311, ' England- Priv-house-serv': 312, ' Iran- Adm-clerical': 313, ' Hong- Protective-serv': 314, ' India- Handlers-cleaners': 315, ' Peru- Handlers-cleaners': 316, ' Columbia- ?': 317, ' Germany- Handlers-cleaners': 318, ' Cambodia- Machine-op-inspct': 319, ' Vietnam- Farming-fishing': 320, ' Puerto-Rico- Protective-serv': 321, ' India- Tech-support': 322, ' Columbia- Transport-moving': 323, ' Cambodia- Sales': 324, ' South- Adm-clerical': 325, ' Ireland- Exec-managerial': 326, ' India- Transport-moving': 327, ' Columbia- Craft-repair': 328, ' Hong- Machine-op-inspct': 329, ' Nicaragua- Craft-repair': 330, ' Haiti- Priv-house-serv': 331, ' Trinadad&Tobago- Tech-support': 332, ' Nicaragua- Transport-moving': 333, ' Honduras- Sales': 334, ' Italy- Handlers-cleaners': 335, ' Hungary- Prof-specialty': 336, ' Germany- Farming-fishing': 337, ' Columbia- Other-service': 338, ' India- Protective-serv': 339, ' Yugoslavia- Machine-op-inspct': 340, ' England- Handlers-cleaners': 341, ' Peru- Transport-moving': 342, ' China- Tech-support': 343, ' Hong- Sales': 344, ' Taiwan- Adm-clerical': 345, ' Hong- ?': 346, ' Outlying-US(Guam-USVI-etc)- Exec-managerial': 347, ' Scotland- Machine-op-inspct': 348, ' Cuba- ?': 349, ' Japan- Farming-fishing': 350, ' Laos- ?': 351, ' Ecuador- ?': 352, ' France- ?': 353, ' Hong- Exec-managerial': 354, ' China- Adm-clerical': 355, ' Portugal- Other-service': 356, ' Thailand- Protective-serv': 357, ' Columbia- Handlers-cleaners': 358, ' Outlying-US(Guam-USVI-etc)- Craft-repair': 359, ' Canada- Farming-fishing': 360, ' Philippines- Priv-house-serv': 361, ' Philippines- Protective-serv': 362, ' Puerto-Rico- ?': 363, ' Hong- Tech-support': 364, ' Ecuador- Exec-managerial': 365, ' Honduras- Handlers-cleaners': 366, ' Hungary- Craft-repair': 367, ' Nicaragua- Priv-house-serv': 368, ' Poland- Adm-clerical': 369, ' Poland- Priv-house-serv': 370, ' Hungary- Priv-house-serv': 371, ' Philippines- Transport-moving': 372, ' Peru- Protective-serv': 373, ' Nicaragua- Tech-support': 374, ' Dominican-Republic- ?': 375, ' Ecuador- Transport-moving': 376, ' Peru- ?': 377, ' Columbia- Priv-house-serv': 378, ' Vietnam- Tech-support': 379, ' Holand-Netherlands- Machine-op-inspct': 380, ' Dominican-Republic- Transport-moving': 381, ' Vietnam- Prof-specialty': 382, ' Scotland- Prof-specialty': 383, ' Thailand- Prof-specialty': 384, ' Yugoslavia- Farming-fishing': 385, ' Hong- Prof-specialty': 386, ' Cuba- Farming-fishing': 387, ' Hungary- Tech-support': 388, ' France- Protective-serv': 389, ' Thailand- Craft-repair': 390, ' Scotland- Protective-serv': 391, ' Outlying-US(Guam-USVI-etc)- Sales': 392, ' France- Sales': 393, ' Cambodia- ?': 394, ' South- Transport-moving': 395, ' Portugal- Farming-fishing': 396, ' Thailand- ?': 397, ' Dominican-Republic- Priv-house-serv': 398, ' Hungary- Other-service': 399, ' Trinadad&Tobago- Prof-specialty': 400, ' Germany- Priv-house-serv': 401, ' India- Machine-op-inspct': 402, ' Trinadad&Tobago- Craft-repair': 403, ' Yugoslavia- Craft-repair': 404, ' Hong- Craft-repair': 405, ' Nicaragua- Sales': 406, ' Peru- Exec-managerial': 407, ' France- Tech-support': 408, ' Laos- Other-service': 409, ' Guatemala- Protective-serv': 410, ' Guatemala- Prof-specialty': 411, ' Honduras- Machine-op-inspct': 412, ' El-Salvador- Farming-fishing': 413, ' Hong- Farming-fishing': 414, ' Iran- Machine-op-inspct': 415, ' Laos- Exec-managerial': 416, ' Peru- Tech-support': 417, ' Taiwan- Craft-repair': 418, ' Hungary- Transport-moving': 419, ' Honduras- Protective-serv': 420, ' Honduras- Exec-managerial': 421, ' Trinadad&Tobago- Transport-moving': 422, ' France- Adm-clerical': 423, ' Scotland- ?': 424, ' Jamaica- Protective-serv': 425, ' Portugal- Sales': 426, ' Ireland- Farming-fishing': 427, ' Ecuador- Adm-clerical': 428, ' Greece- Machine-op-inspct': 429, ' Yugoslavia- Transport-moving': 430, ' France- Farming-fishing': 431, ' Trinadad&Tobago- Exec-managerial': 432, ' Trinadad&Tobago- Sales': 433, ' Taiwan- Other-service': 434, ' Ecuador- Handlers-cleaners': 435, ' Hungary- Adm-clerical': 436, ' Laos- Sales': 437, ' Iran- Tech-support': 438, ' Outlying-US(Guam-USVI-etc)- Transport-moving': 439, ' Honduras- Craft-repair': 440, ' Taiwan- Tech-support': 441}}\n",
            "dict_keys(['education', 'occupation', 'sex', 'relationship', 'workclass', 'native_country', 'education_occupation', 'native_country_occupation'])\n",
            "dict_keys(['education', 'occupation', 'relationship', 'workclass', 'native_country'])\n",
            "[('education', 16, 10), ('occupation', 15, 10), ('relationship', 6, 8), ('workclass', 9, 10), ('native_country', 42, 12)]\n"
          ],
          "name": "stdout"
        }
      ]
    },
    {
      "cell_type": "code",
      "metadata": {
        "id": "zSYmV4BXlCW6",
        "colab_type": "code",
        "outputId": "e1789717-7669-42ec-8679-af2180cae0ea",
        "colab": {
          "base_uri": "https://localhost:8080/",
          "height": 136
        }
      },
      "source": [
        "# embeding_feature_name -> index에 해당하는 dict를 만들어 준다\n",
        "df_deep = raw_temp[deep_cols] # label_encode()함수를 통해 카테고리 원소들을 인덱스로 이미 변환 했다.\n",
        "deep_column_idx = {k:v for v,k in enumerate(df_deep.columns)}\n",
        "deep_column_idx"
      ],
      "execution_count": 256,
      "outputs": [
        {
          "output_type": "execute_result",
          "data": {
            "text/plain": [
              "{'age': 5,\n",
              " 'education': 0,\n",
              " 'native_country': 4,\n",
              " 'occupation': 3,\n",
              " 'relationship': 1,\n",
              " 'workclass': 2,\n",
              " 'wrk_hrs_per_week': 6}"
            ]
          },
          "metadata": {
            "tags": []
          },
          "execution_count": 256
        }
      ]
    },
    {
      "cell_type": "code",
      "metadata": {
        "id": "m4PIcg8GlGb0",
        "colab_type": "code",
        "outputId": "84b7e30b-a8d2-4e6b-eb97-fdc0ec6d1134",
        "colab": {
          "base_uri": "https://localhost:8080/",
          "height": 428
        }
      },
      "source": [
        "# continuous column들에 대해 standardization을 한다.\n",
        "from sklearn.preprocessing import StandardScaler\n",
        "scaler = StandardScaler()\n",
        "for cc in continuous_cols:\n",
        "  df_deep[cc] = scaler.fit_transform(df_deep[cc].values.reshape(-1,1))\n",
        "\n",
        "df_deep.head()"
      ],
      "execution_count": 257,
      "outputs": [
        {
          "output_type": "stream",
          "text": [
            "/usr/local/lib/python3.6/dist-packages/ipykernel_launcher.py:4: SettingWithCopyWarning: \n",
            "A value is trying to be set on a copy of a slice from a DataFrame.\n",
            "Try using .loc[row_indexer,col_indexer] = value instead\n",
            "\n",
            "See the caveats in the documentation: http://pandas.pydata.org/pandas-docs/stable/user_guide/indexing.html#returning-a-view-versus-a-copy\n",
            "  after removing the cwd from sys.path.\n",
            "/usr/local/lib/python3.6/dist-packages/ipykernel_launcher.py:4: SettingWithCopyWarning: \n",
            "A value is trying to be set on a copy of a slice from a DataFrame.\n",
            "Try using .loc[row_indexer,col_indexer] = value instead\n",
            "\n",
            "See the caveats in the documentation: http://pandas.pydata.org/pandas-docs/stable/user_guide/indexing.html#returning-a-view-versus-a-copy\n",
            "  after removing the cwd from sys.path.\n"
          ],
          "name": "stderr"
        },
        {
          "output_type": "execute_result",
          "data": {
            "text/html": [
              "<div>\n",
              "<style scoped>\n",
              "    .dataframe tbody tr th:only-of-type {\n",
              "        vertical-align: middle;\n",
              "    }\n",
              "\n",
              "    .dataframe tbody tr th {\n",
              "        vertical-align: top;\n",
              "    }\n",
              "\n",
              "    .dataframe thead th {\n",
              "        text-align: right;\n",
              "    }\n",
              "</style>\n",
              "<table border=\"1\" class=\"dataframe\">\n",
              "  <thead>\n",
              "    <tr style=\"text-align: right;\">\n",
              "      <th></th>\n",
              "      <th>education</th>\n",
              "      <th>relationship</th>\n",
              "      <th>workclass</th>\n",
              "      <th>occupation</th>\n",
              "      <th>native_country</th>\n",
              "      <th>age</th>\n",
              "      <th>wrk_hrs_per_week</th>\n",
              "    </tr>\n",
              "  </thead>\n",
              "  <tbody>\n",
              "    <tr>\n",
              "      <th>0</th>\n",
              "      <td>0</td>\n",
              "      <td>0</td>\n",
              "      <td>0</td>\n",
              "      <td>0</td>\n",
              "      <td>0</td>\n",
              "      <td>0.030671</td>\n",
              "      <td>-0.035429</td>\n",
              "    </tr>\n",
              "    <tr>\n",
              "      <th>1</th>\n",
              "      <td>0</td>\n",
              "      <td>1</td>\n",
              "      <td>1</td>\n",
              "      <td>1</td>\n",
              "      <td>0</td>\n",
              "      <td>0.837109</td>\n",
              "      <td>-2.222153</td>\n",
              "    </tr>\n",
              "    <tr>\n",
              "      <th>2</th>\n",
              "      <td>1</td>\n",
              "      <td>0</td>\n",
              "      <td>2</td>\n",
              "      <td>2</td>\n",
              "      <td>0</td>\n",
              "      <td>-0.042642</td>\n",
              "      <td>-0.035429</td>\n",
              "    </tr>\n",
              "    <tr>\n",
              "      <th>3</th>\n",
              "      <td>2</td>\n",
              "      <td>1</td>\n",
              "      <td>2</td>\n",
              "      <td>2</td>\n",
              "      <td>0</td>\n",
              "      <td>1.057047</td>\n",
              "      <td>-0.035429</td>\n",
              "    </tr>\n",
              "    <tr>\n",
              "      <th>4</th>\n",
              "      <td>0</td>\n",
              "      <td>2</td>\n",
              "      <td>2</td>\n",
              "      <td>3</td>\n",
              "      <td>1</td>\n",
              "      <td>-0.775768</td>\n",
              "      <td>-0.035429</td>\n",
              "    </tr>\n",
              "  </tbody>\n",
              "</table>\n",
              "</div>"
            ],
            "text/plain": [
              "   education  relationship  ...       age  wrk_hrs_per_week\n",
              "0          0             0  ...  0.030671         -0.035429\n",
              "1          0             1  ...  0.837109         -2.222153\n",
              "2          1             0  ... -0.042642         -0.035429\n",
              "3          2             1  ...  1.057047         -0.035429\n",
              "4          0             2  ... -0.775768         -0.035429\n",
              "\n",
              "[5 rows x 7 columns]"
            ]
          },
          "metadata": {
            "tags": []
          },
          "execution_count": 257
        }
      ]
    },
    {
      "cell_type": "code",
      "metadata": {
        "id": "ukAtyVYmb5M_",
        "colab_type": "code",
        "colab": {
          "base_uri": "https://localhost:8080/",
          "height": 270
        },
        "outputId": "9ea24e9b-6799-4c88-ba90-611b0ddb393a"
      },
      "source": [
        "df_wide = raw_temp[wide_cols + crossed_columns]\n",
        "del(raw_temp)\n",
        "\n",
        "# 카테고리 피처들만 추려낸다. \n",
        "dummy_cols = [c for c in wide_cols+crossed_columns if c in categorical_columns]\n",
        "print(dummy_cols)\n",
        "df_wide.head()\n",
        "df_wide = pd.get_dummies(df_wide, columns=dummy_cols) # pd.get_dummies() 를 이용해 가변수(dummy var) 만들기\n",
        "df_wide.head()"
      ],
      "execution_count": 258,
      "outputs": [
        {
          "output_type": "stream",
          "text": [
            "['education', 'relationship', 'workclass', 'occupation', 'native_country', 'sex', 'education_occupation', 'native_country_occupation']\n"
          ],
          "name": "stdout"
        },
        {
          "output_type": "execute_result",
          "data": {
            "text/html": [
              "<div>\n",
              "<style scoped>\n",
              "    .dataframe tbody tr th:only-of-type {\n",
              "        vertical-align: middle;\n",
              "    }\n",
              "\n",
              "    .dataframe tbody tr th {\n",
              "        vertical-align: top;\n",
              "    }\n",
              "\n",
              "    .dataframe thead th {\n",
              "        text-align: right;\n",
              "    }\n",
              "</style>\n",
              "<table border=\"1\" class=\"dataframe\">\n",
              "  <thead>\n",
              "    <tr style=\"text-align: right;\">\n",
              "      <th></th>\n",
              "      <th>age</th>\n",
              "      <th>wrk_hrs_per_week</th>\n",
              "      <th>education_0</th>\n",
              "      <th>education_1</th>\n",
              "      <th>education_2</th>\n",
              "      <th>education_3</th>\n",
              "      <th>education_4</th>\n",
              "      <th>education_5</th>\n",
              "      <th>education_6</th>\n",
              "      <th>education_7</th>\n",
              "      <th>education_8</th>\n",
              "      <th>education_9</th>\n",
              "      <th>education_10</th>\n",
              "      <th>education_11</th>\n",
              "      <th>education_12</th>\n",
              "      <th>education_13</th>\n",
              "      <th>education_14</th>\n",
              "      <th>education_15</th>\n",
              "      <th>relationship_0</th>\n",
              "      <th>relationship_1</th>\n",
              "      <th>relationship_2</th>\n",
              "      <th>relationship_3</th>\n",
              "      <th>relationship_4</th>\n",
              "      <th>relationship_5</th>\n",
              "      <th>workclass_0</th>\n",
              "      <th>workclass_1</th>\n",
              "      <th>workclass_2</th>\n",
              "      <th>workclass_3</th>\n",
              "      <th>workclass_4</th>\n",
              "      <th>workclass_5</th>\n",
              "      <th>workclass_6</th>\n",
              "      <th>workclass_7</th>\n",
              "      <th>workclass_8</th>\n",
              "      <th>occupation_0</th>\n",
              "      <th>occupation_1</th>\n",
              "      <th>occupation_2</th>\n",
              "      <th>occupation_3</th>\n",
              "      <th>occupation_4</th>\n",
              "      <th>occupation_5</th>\n",
              "      <th>occupation_6</th>\n",
              "      <th>...</th>\n",
              "      <th>native_country_occupation_402</th>\n",
              "      <th>native_country_occupation_403</th>\n",
              "      <th>native_country_occupation_404</th>\n",
              "      <th>native_country_occupation_405</th>\n",
              "      <th>native_country_occupation_406</th>\n",
              "      <th>native_country_occupation_407</th>\n",
              "      <th>native_country_occupation_408</th>\n",
              "      <th>native_country_occupation_409</th>\n",
              "      <th>native_country_occupation_410</th>\n",
              "      <th>native_country_occupation_411</th>\n",
              "      <th>native_country_occupation_412</th>\n",
              "      <th>native_country_occupation_413</th>\n",
              "      <th>native_country_occupation_414</th>\n",
              "      <th>native_country_occupation_415</th>\n",
              "      <th>native_country_occupation_416</th>\n",
              "      <th>native_country_occupation_417</th>\n",
              "      <th>native_country_occupation_418</th>\n",
              "      <th>native_country_occupation_419</th>\n",
              "      <th>native_country_occupation_420</th>\n",
              "      <th>native_country_occupation_421</th>\n",
              "      <th>native_country_occupation_422</th>\n",
              "      <th>native_country_occupation_423</th>\n",
              "      <th>native_country_occupation_424</th>\n",
              "      <th>native_country_occupation_425</th>\n",
              "      <th>native_country_occupation_426</th>\n",
              "      <th>native_country_occupation_427</th>\n",
              "      <th>native_country_occupation_428</th>\n",
              "      <th>native_country_occupation_429</th>\n",
              "      <th>native_country_occupation_430</th>\n",
              "      <th>native_country_occupation_431</th>\n",
              "      <th>native_country_occupation_432</th>\n",
              "      <th>native_country_occupation_433</th>\n",
              "      <th>native_country_occupation_434</th>\n",
              "      <th>native_country_occupation_435</th>\n",
              "      <th>native_country_occupation_436</th>\n",
              "      <th>native_country_occupation_437</th>\n",
              "      <th>native_country_occupation_438</th>\n",
              "      <th>native_country_occupation_439</th>\n",
              "      <th>native_country_occupation_440</th>\n",
              "      <th>native_country_occupation_441</th>\n",
              "    </tr>\n",
              "  </thead>\n",
              "  <tbody>\n",
              "    <tr>\n",
              "      <th>0</th>\n",
              "      <td>39</td>\n",
              "      <td>40</td>\n",
              "      <td>1</td>\n",
              "      <td>0</td>\n",
              "      <td>0</td>\n",
              "      <td>0</td>\n",
              "      <td>0</td>\n",
              "      <td>0</td>\n",
              "      <td>0</td>\n",
              "      <td>0</td>\n",
              "      <td>0</td>\n",
              "      <td>0</td>\n",
              "      <td>0</td>\n",
              "      <td>0</td>\n",
              "      <td>0</td>\n",
              "      <td>0</td>\n",
              "      <td>0</td>\n",
              "      <td>0</td>\n",
              "      <td>1</td>\n",
              "      <td>0</td>\n",
              "      <td>0</td>\n",
              "      <td>0</td>\n",
              "      <td>0</td>\n",
              "      <td>0</td>\n",
              "      <td>1</td>\n",
              "      <td>0</td>\n",
              "      <td>0</td>\n",
              "      <td>0</td>\n",
              "      <td>0</td>\n",
              "      <td>0</td>\n",
              "      <td>0</td>\n",
              "      <td>0</td>\n",
              "      <td>0</td>\n",
              "      <td>1</td>\n",
              "      <td>0</td>\n",
              "      <td>0</td>\n",
              "      <td>0</td>\n",
              "      <td>0</td>\n",
              "      <td>0</td>\n",
              "      <td>0</td>\n",
              "      <td>...</td>\n",
              "      <td>0</td>\n",
              "      <td>0</td>\n",
              "      <td>0</td>\n",
              "      <td>0</td>\n",
              "      <td>0</td>\n",
              "      <td>0</td>\n",
              "      <td>0</td>\n",
              "      <td>0</td>\n",
              "      <td>0</td>\n",
              "      <td>0</td>\n",
              "      <td>0</td>\n",
              "      <td>0</td>\n",
              "      <td>0</td>\n",
              "      <td>0</td>\n",
              "      <td>0</td>\n",
              "      <td>0</td>\n",
              "      <td>0</td>\n",
              "      <td>0</td>\n",
              "      <td>0</td>\n",
              "      <td>0</td>\n",
              "      <td>0</td>\n",
              "      <td>0</td>\n",
              "      <td>0</td>\n",
              "      <td>0</td>\n",
              "      <td>0</td>\n",
              "      <td>0</td>\n",
              "      <td>0</td>\n",
              "      <td>0</td>\n",
              "      <td>0</td>\n",
              "      <td>0</td>\n",
              "      <td>0</td>\n",
              "      <td>0</td>\n",
              "      <td>0</td>\n",
              "      <td>0</td>\n",
              "      <td>0</td>\n",
              "      <td>0</td>\n",
              "      <td>0</td>\n",
              "      <td>0</td>\n",
              "      <td>0</td>\n",
              "      <td>0</td>\n",
              "    </tr>\n",
              "    <tr>\n",
              "      <th>1</th>\n",
              "      <td>50</td>\n",
              "      <td>13</td>\n",
              "      <td>1</td>\n",
              "      <td>0</td>\n",
              "      <td>0</td>\n",
              "      <td>0</td>\n",
              "      <td>0</td>\n",
              "      <td>0</td>\n",
              "      <td>0</td>\n",
              "      <td>0</td>\n",
              "      <td>0</td>\n",
              "      <td>0</td>\n",
              "      <td>0</td>\n",
              "      <td>0</td>\n",
              "      <td>0</td>\n",
              "      <td>0</td>\n",
              "      <td>0</td>\n",
              "      <td>0</td>\n",
              "      <td>0</td>\n",
              "      <td>1</td>\n",
              "      <td>0</td>\n",
              "      <td>0</td>\n",
              "      <td>0</td>\n",
              "      <td>0</td>\n",
              "      <td>0</td>\n",
              "      <td>1</td>\n",
              "      <td>0</td>\n",
              "      <td>0</td>\n",
              "      <td>0</td>\n",
              "      <td>0</td>\n",
              "      <td>0</td>\n",
              "      <td>0</td>\n",
              "      <td>0</td>\n",
              "      <td>0</td>\n",
              "      <td>1</td>\n",
              "      <td>0</td>\n",
              "      <td>0</td>\n",
              "      <td>0</td>\n",
              "      <td>0</td>\n",
              "      <td>0</td>\n",
              "      <td>...</td>\n",
              "      <td>0</td>\n",
              "      <td>0</td>\n",
              "      <td>0</td>\n",
              "      <td>0</td>\n",
              "      <td>0</td>\n",
              "      <td>0</td>\n",
              "      <td>0</td>\n",
              "      <td>0</td>\n",
              "      <td>0</td>\n",
              "      <td>0</td>\n",
              "      <td>0</td>\n",
              "      <td>0</td>\n",
              "      <td>0</td>\n",
              "      <td>0</td>\n",
              "      <td>0</td>\n",
              "      <td>0</td>\n",
              "      <td>0</td>\n",
              "      <td>0</td>\n",
              "      <td>0</td>\n",
              "      <td>0</td>\n",
              "      <td>0</td>\n",
              "      <td>0</td>\n",
              "      <td>0</td>\n",
              "      <td>0</td>\n",
              "      <td>0</td>\n",
              "      <td>0</td>\n",
              "      <td>0</td>\n",
              "      <td>0</td>\n",
              "      <td>0</td>\n",
              "      <td>0</td>\n",
              "      <td>0</td>\n",
              "      <td>0</td>\n",
              "      <td>0</td>\n",
              "      <td>0</td>\n",
              "      <td>0</td>\n",
              "      <td>0</td>\n",
              "      <td>0</td>\n",
              "      <td>0</td>\n",
              "      <td>0</td>\n",
              "      <td>0</td>\n",
              "    </tr>\n",
              "    <tr>\n",
              "      <th>2</th>\n",
              "      <td>38</td>\n",
              "      <td>40</td>\n",
              "      <td>0</td>\n",
              "      <td>1</td>\n",
              "      <td>0</td>\n",
              "      <td>0</td>\n",
              "      <td>0</td>\n",
              "      <td>0</td>\n",
              "      <td>0</td>\n",
              "      <td>0</td>\n",
              "      <td>0</td>\n",
              "      <td>0</td>\n",
              "      <td>0</td>\n",
              "      <td>0</td>\n",
              "      <td>0</td>\n",
              "      <td>0</td>\n",
              "      <td>0</td>\n",
              "      <td>0</td>\n",
              "      <td>1</td>\n",
              "      <td>0</td>\n",
              "      <td>0</td>\n",
              "      <td>0</td>\n",
              "      <td>0</td>\n",
              "      <td>0</td>\n",
              "      <td>0</td>\n",
              "      <td>0</td>\n",
              "      <td>1</td>\n",
              "      <td>0</td>\n",
              "      <td>0</td>\n",
              "      <td>0</td>\n",
              "      <td>0</td>\n",
              "      <td>0</td>\n",
              "      <td>0</td>\n",
              "      <td>0</td>\n",
              "      <td>0</td>\n",
              "      <td>1</td>\n",
              "      <td>0</td>\n",
              "      <td>0</td>\n",
              "      <td>0</td>\n",
              "      <td>0</td>\n",
              "      <td>...</td>\n",
              "      <td>0</td>\n",
              "      <td>0</td>\n",
              "      <td>0</td>\n",
              "      <td>0</td>\n",
              "      <td>0</td>\n",
              "      <td>0</td>\n",
              "      <td>0</td>\n",
              "      <td>0</td>\n",
              "      <td>0</td>\n",
              "      <td>0</td>\n",
              "      <td>0</td>\n",
              "      <td>0</td>\n",
              "      <td>0</td>\n",
              "      <td>0</td>\n",
              "      <td>0</td>\n",
              "      <td>0</td>\n",
              "      <td>0</td>\n",
              "      <td>0</td>\n",
              "      <td>0</td>\n",
              "      <td>0</td>\n",
              "      <td>0</td>\n",
              "      <td>0</td>\n",
              "      <td>0</td>\n",
              "      <td>0</td>\n",
              "      <td>0</td>\n",
              "      <td>0</td>\n",
              "      <td>0</td>\n",
              "      <td>0</td>\n",
              "      <td>0</td>\n",
              "      <td>0</td>\n",
              "      <td>0</td>\n",
              "      <td>0</td>\n",
              "      <td>0</td>\n",
              "      <td>0</td>\n",
              "      <td>0</td>\n",
              "      <td>0</td>\n",
              "      <td>0</td>\n",
              "      <td>0</td>\n",
              "      <td>0</td>\n",
              "      <td>0</td>\n",
              "    </tr>\n",
              "    <tr>\n",
              "      <th>3</th>\n",
              "      <td>53</td>\n",
              "      <td>40</td>\n",
              "      <td>0</td>\n",
              "      <td>0</td>\n",
              "      <td>1</td>\n",
              "      <td>0</td>\n",
              "      <td>0</td>\n",
              "      <td>0</td>\n",
              "      <td>0</td>\n",
              "      <td>0</td>\n",
              "      <td>0</td>\n",
              "      <td>0</td>\n",
              "      <td>0</td>\n",
              "      <td>0</td>\n",
              "      <td>0</td>\n",
              "      <td>0</td>\n",
              "      <td>0</td>\n",
              "      <td>0</td>\n",
              "      <td>0</td>\n",
              "      <td>1</td>\n",
              "      <td>0</td>\n",
              "      <td>0</td>\n",
              "      <td>0</td>\n",
              "      <td>0</td>\n",
              "      <td>0</td>\n",
              "      <td>0</td>\n",
              "      <td>1</td>\n",
              "      <td>0</td>\n",
              "      <td>0</td>\n",
              "      <td>0</td>\n",
              "      <td>0</td>\n",
              "      <td>0</td>\n",
              "      <td>0</td>\n",
              "      <td>0</td>\n",
              "      <td>0</td>\n",
              "      <td>1</td>\n",
              "      <td>0</td>\n",
              "      <td>0</td>\n",
              "      <td>0</td>\n",
              "      <td>0</td>\n",
              "      <td>...</td>\n",
              "      <td>0</td>\n",
              "      <td>0</td>\n",
              "      <td>0</td>\n",
              "      <td>0</td>\n",
              "      <td>0</td>\n",
              "      <td>0</td>\n",
              "      <td>0</td>\n",
              "      <td>0</td>\n",
              "      <td>0</td>\n",
              "      <td>0</td>\n",
              "      <td>0</td>\n",
              "      <td>0</td>\n",
              "      <td>0</td>\n",
              "      <td>0</td>\n",
              "      <td>0</td>\n",
              "      <td>0</td>\n",
              "      <td>0</td>\n",
              "      <td>0</td>\n",
              "      <td>0</td>\n",
              "      <td>0</td>\n",
              "      <td>0</td>\n",
              "      <td>0</td>\n",
              "      <td>0</td>\n",
              "      <td>0</td>\n",
              "      <td>0</td>\n",
              "      <td>0</td>\n",
              "      <td>0</td>\n",
              "      <td>0</td>\n",
              "      <td>0</td>\n",
              "      <td>0</td>\n",
              "      <td>0</td>\n",
              "      <td>0</td>\n",
              "      <td>0</td>\n",
              "      <td>0</td>\n",
              "      <td>0</td>\n",
              "      <td>0</td>\n",
              "      <td>0</td>\n",
              "      <td>0</td>\n",
              "      <td>0</td>\n",
              "      <td>0</td>\n",
              "    </tr>\n",
              "    <tr>\n",
              "      <th>4</th>\n",
              "      <td>28</td>\n",
              "      <td>40</td>\n",
              "      <td>1</td>\n",
              "      <td>0</td>\n",
              "      <td>0</td>\n",
              "      <td>0</td>\n",
              "      <td>0</td>\n",
              "      <td>0</td>\n",
              "      <td>0</td>\n",
              "      <td>0</td>\n",
              "      <td>0</td>\n",
              "      <td>0</td>\n",
              "      <td>0</td>\n",
              "      <td>0</td>\n",
              "      <td>0</td>\n",
              "      <td>0</td>\n",
              "      <td>0</td>\n",
              "      <td>0</td>\n",
              "      <td>0</td>\n",
              "      <td>0</td>\n",
              "      <td>1</td>\n",
              "      <td>0</td>\n",
              "      <td>0</td>\n",
              "      <td>0</td>\n",
              "      <td>0</td>\n",
              "      <td>0</td>\n",
              "      <td>1</td>\n",
              "      <td>0</td>\n",
              "      <td>0</td>\n",
              "      <td>0</td>\n",
              "      <td>0</td>\n",
              "      <td>0</td>\n",
              "      <td>0</td>\n",
              "      <td>0</td>\n",
              "      <td>0</td>\n",
              "      <td>0</td>\n",
              "      <td>1</td>\n",
              "      <td>0</td>\n",
              "      <td>0</td>\n",
              "      <td>0</td>\n",
              "      <td>...</td>\n",
              "      <td>0</td>\n",
              "      <td>0</td>\n",
              "      <td>0</td>\n",
              "      <td>0</td>\n",
              "      <td>0</td>\n",
              "      <td>0</td>\n",
              "      <td>0</td>\n",
              "      <td>0</td>\n",
              "      <td>0</td>\n",
              "      <td>0</td>\n",
              "      <td>0</td>\n",
              "      <td>0</td>\n",
              "      <td>0</td>\n",
              "      <td>0</td>\n",
              "      <td>0</td>\n",
              "      <td>0</td>\n",
              "      <td>0</td>\n",
              "      <td>0</td>\n",
              "      <td>0</td>\n",
              "      <td>0</td>\n",
              "      <td>0</td>\n",
              "      <td>0</td>\n",
              "      <td>0</td>\n",
              "      <td>0</td>\n",
              "      <td>0</td>\n",
              "      <td>0</td>\n",
              "      <td>0</td>\n",
              "      <td>0</td>\n",
              "      <td>0</td>\n",
              "      <td>0</td>\n",
              "      <td>0</td>\n",
              "      <td>0</td>\n",
              "      <td>0</td>\n",
              "      <td>0</td>\n",
              "      <td>0</td>\n",
              "      <td>0</td>\n",
              "      <td>0</td>\n",
              "      <td>0</td>\n",
              "      <td>0</td>\n",
              "      <td>0</td>\n",
              "    </tr>\n",
              "  </tbody>\n",
              "</table>\n",
              "<p>5 rows × 751 columns</p>\n",
              "</div>"
            ],
            "text/plain": [
              "   age  ...  native_country_occupation_441\n",
              "0   39  ...                              0\n",
              "1   50  ...                              0\n",
              "2   38  ...                              0\n",
              "3   53  ...                              0\n",
              "4   28  ...                              0\n",
              "\n",
              "[5 rows x 751 columns]"
            ]
          },
          "metadata": {
            "tags": []
          },
          "execution_count": 258
        }
      ]
    },
    {
      "cell_type": "code",
      "metadata": {
        "id": "K_Lj4KbwxopM",
        "colab_type": "code",
        "colab": {}
      },
      "source": [
        "from sklearn.model_selection import train_test_split\n",
        "\n",
        "seed = 1981\n",
        "x_train_deep, x_test_deep = train_test_split(df_deep.values, test_size=0.3, random_state=seed)\n",
        "x_train_wide, x_test_wide = train_test_split(df_wide.values, test_size=0.3, random_state=seed)\n",
        "y_train, y_test = train_test_split(Y, test_size=0.3, random_state=seed)"
      ],
      "execution_count": 0,
      "outputs": []
    },
    {
      "cell_type": "code",
      "metadata": {
        "id": "iinv1JZR0GDF",
        "colab_type": "code",
        "colab": {}
      },
      "source": [
        "from collections import namedtuple\n",
        "\n",
        "wd_dataset = dict()\n",
        "train_dataset = namedtuple('train_dataset', 'wide, deep, labels')\n",
        "test_dataset = namedtuple('test_dataset', 'wide, deep, labels')\n",
        "wd_dataset['train_dataset'] = train_dataset(x_train_wide, x_train_deep, y_train)\n",
        "wd_dataset['test_dataset'] = test_dataset(x_test_wide, x_test_deep, y_test)\n",
        "wd_dataset['embeddings_input'] = embeddings_input\n",
        "wd_dataset['deep_column_idx'] = deep_column_idx\n",
        "wd_dataset['encoding_dict'] = encoding_dict"
      ],
      "execution_count": 0,
      "outputs": []
    },
    {
      "cell_type": "markdown",
      "metadata": {
        "id": "MsBr3kAhfzac",
        "colab_type": "text"
      },
      "source": [
        "## 모델을 만들어 보자\n",
        "### Wide"
      ]
    },
    {
      "cell_type": "code",
      "metadata": {
        "id": "bdoxGQfgf2j9",
        "colab_type": "code",
        "outputId": "a34e30b6-33a0-4f86-d6cf-6d2a819d3cc9",
        "colab": {
          "base_uri": "https://localhost:8080/",
          "height": 34
        }
      },
      "source": [
        "# Wide Model\n",
        "import torch.nn as nn\n",
        "import torch.nn.functional as F\n",
        "\n",
        "wide_dim = wd_dataset['train_dataset'].wide.shape[1]\n",
        "n_class = 1\n",
        "wide_part = nn.Linear(wide_dim, n_class)\n",
        "print(wide_part)"
      ],
      "execution_count": 262,
      "outputs": [
        {
          "output_type": "stream",
          "text": [
            "Linear(in_features=751, out_features=1, bias=True)\n"
          ],
          "name": "stdout"
        }
      ]
    },
    {
      "cell_type": "code",
      "metadata": {
        "id": "CKYPnd_xgWCr",
        "colab_type": "code",
        "colab": {}
      },
      "source": [
        "import torch\n",
        "import torch.autograd as autograd\n",
        "import torch.nn as nn\n",
        "import torch.nn.functional as F\n",
        "from torch.utils.data import Dataset\n",
        "from torch.autograd import Variable \n",
        "from torch.utils.data import DataLoader\n",
        "\n",
        "\n",
        "class Wide(nn.Module):\n",
        "  def __init__(self, wide_dim, n_class):\n",
        "    super(Wide, self).__init__()\n",
        "    self.wide_dim = wide_dim\n",
        "    self.n_class = n_class\n",
        "    self.linear = nn.Linear(self.wide_dim, self.n_class)\n",
        "\n",
        "  def forward(self, x):\n",
        "    return F.sigmoid(self.linear(x))"
      ],
      "execution_count": 0,
      "outputs": []
    },
    {
      "cell_type": "code",
      "metadata": {
        "id": "JOzOxZsPD1-e",
        "colab_type": "code",
        "outputId": "b1d63fd9-9e4c-4758-cf08-672738635fbd",
        "colab": {
          "base_uri": "https://localhost:8080/",
          "height": 68
        }
      },
      "source": [
        "wide_model = Wide(wide_dim, n_class)\n",
        "print(wide_model)"
      ],
      "execution_count": 264,
      "outputs": [
        {
          "output_type": "stream",
          "text": [
            "Wide(\n",
            "  (linear): Linear(in_features=751, out_features=1, bias=True)\n",
            ")\n"
          ],
          "name": "stdout"
        }
      ]
    },
    {
      "cell_type": "code",
      "metadata": {
        "id": "t-50TUfpEE0Q",
        "colab_type": "code",
        "outputId": "dbc3815e-6b37-41c7-bb0e-8709beeaf34f",
        "colab": {
          "base_uri": "https://localhost:8080/",
          "height": 136
        }
      },
      "source": [
        "train_dataset = np.hstack([wd_dataset['train_dataset'].labels.reshape(-1,1), wd_dataset['train_dataset'].wide])\n",
        "train_dataset"
      ],
      "execution_count": 265,
      "outputs": [
        {
          "output_type": "execute_result",
          "data": {
            "text/plain": [
              "array([[ 0, 49, 40, ...,  0,  0,  0],\n",
              "       [ 0, 67, 25, ...,  0,  0,  0],\n",
              "       [ 0, 48, 40, ...,  0,  0,  0],\n",
              "       ...,\n",
              "       [ 1, 73, 50, ...,  0,  0,  0],\n",
              "       [ 0, 45, 37, ...,  0,  0,  0],\n",
              "       [ 0, 40, 45, ...,  0,  0,  0]])"
            ]
          },
          "metadata": {
            "tags": []
          },
          "execution_count": 265
        }
      ]
    },
    {
      "cell_type": "code",
      "metadata": {
        "id": "1_WdM3wMEihV",
        "colab_type": "code",
        "colab": {}
      },
      "source": [
        "optimizer = torch.optim.Adam(wide_model.parameters())\n",
        "batch_size = 64\n",
        "n_epochs = 10\n",
        "train_loader = torch.utils.data.DataLoader(dataset=train_dataset,\n",
        "                                           batch_size=batch_size,\n",
        "                                           shuffle=True)"
      ],
      "execution_count": 0,
      "outputs": []
    },
    {
      "cell_type": "code",
      "metadata": {
        "id": "S7OFZYzUGAaB",
        "colab_type": "code",
        "outputId": "1f3a54a2-4b3c-49b1-a752-84f9e9b2345e",
        "colab": {
          "base_uri": "https://localhost:8080/",
          "height": 309
        }
      },
      "source": [
        "for epoch in range(n_epochs):\n",
        "  total = 0\n",
        "  correct = 0\n",
        "\n",
        "  for i, batch in enumerate(train_loader):\n",
        "    x_w = Variable(batch[:, 1:]).float()\n",
        "    y = Variable(batch[:, 0]).float()\n",
        "\n",
        "    optimizer.zero_grad() # zeroes the gradient buffers of all parameters\n",
        "    y_pred = wide_model(x_w)\n",
        "\n",
        "    loss = F.binary_cross_entropy(y_pred, y)\n",
        "    loss.backward()\n",
        "    optimizer.step()\n",
        "\n",
        "    total += y.size(0)\n",
        "    y_pred_cat = (y_pred > 0.5).squeeze(1).float()\n",
        "  \n",
        "    correct += float((y_pred_cat == y).sum().item())\n",
        "\n",
        "  print('Epoch {} of {}, Loss: {}, Accuracy: {}'.format(epoch+1, n_epochs, round(loss.item(),3), round(correct/total,4)))"
      ],
      "execution_count": 267,
      "outputs": [
        {
          "output_type": "stream",
          "text": [
            "/usr/local/lib/python3.6/dist-packages/torch/nn/functional.py:1351: UserWarning: nn.functional.sigmoid is deprecated. Use torch.sigmoid instead.\n",
            "  warnings.warn(\"nn.functional.sigmoid is deprecated. Use torch.sigmoid instead.\")\n",
            "/usr/local/lib/python3.6/dist-packages/ipykernel_launcher.py:12: UserWarning: Using a target size (torch.Size([64])) that is different to the input size (torch.Size([64, 1])) is deprecated. Please ensure they have the same size.\n",
            "  if sys.path[0] == '':\n",
            "/usr/local/lib/python3.6/dist-packages/ipykernel_launcher.py:12: UserWarning: Using a target size (torch.Size([8])) that is different to the input size (torch.Size([8, 1])) is deprecated. Please ensure they have the same size.\n",
            "  if sys.path[0] == '':\n"
          ],
          "name": "stderr"
        },
        {
          "output_type": "stream",
          "text": [
            "Epoch 1 of 10, Loss: 0.388, Accuracy: 0.7202\n",
            "Epoch 2 of 10, Loss: 0.374, Accuracy: 0.8\n",
            "Epoch 3 of 10, Loss: 0.372, Accuracy: 0.8181\n",
            "Epoch 4 of 10, Loss: 0.692, Accuracy: 0.8259\n",
            "Epoch 5 of 10, Loss: 0.209, Accuracy: 0.8284\n",
            "Epoch 6 of 10, Loss: 0.344, Accuracy: 0.8315\n",
            "Epoch 7 of 10, Loss: 0.183, Accuracy: 0.8321\n",
            "Epoch 8 of 10, Loss: 0.347, Accuracy: 0.8334\n",
            "Epoch 9 of 10, Loss: 0.506, Accuracy: 0.8352\n",
            "Epoch 10 of 10, Loss: 0.286, Accuracy: 0.8362\n"
          ],
          "name": "stdout"
        }
      ]
    },
    {
      "cell_type": "markdown",
      "metadata": {
        "id": "Pau_fMLUJbXb",
        "colab_type": "text"
      },
      "source": [
        "### Deep"
      ]
    },
    {
      "cell_type": "code",
      "metadata": {
        "id": "5WGgr1ubJdl-",
        "colab_type": "code",
        "outputId": "bde1cc67-5ccd-498d-bb40-1f13840f3e71",
        "colab": {
          "base_uri": "https://localhost:8080/",
          "height": 71
        }
      },
      "source": [
        "print(wd_dataset['embeddings_input'])\n",
        "print(wd_dataset['deep_column_idx'])"
      ],
      "execution_count": 268,
      "outputs": [
        {
          "output_type": "stream",
          "text": [
            "[('education', 16, 10), ('occupation', 15, 10), ('relationship', 6, 8), ('workclass', 9, 10), ('native_country', 42, 12)]\n",
            "{'education': 0, 'relationship': 1, 'workclass': 2, 'occupation': 3, 'native_country': 4, 'age': 5, 'wrk_hrs_per_week': 6}\n"
          ],
          "name": "stdout"
        }
      ]
    },
    {
      "cell_type": "code",
      "metadata": {
        "id": "XL0jP9fFIUNo",
        "colab_type": "code",
        "outputId": "45fd6ab7-e0cf-48a4-9827-65370622792e",
        "colab": {
          "base_uri": "https://localhost:8080/",
          "height": 34
        }
      },
      "source": [
        "col_name, unique_vals, n_emb = wd_dataset['embeddings_input'][0]\n",
        "emb_layer = nn.Embedding(unique_vals, n_emb)\n",
        "print(emb_layer)"
      ],
      "execution_count": 269,
      "outputs": [
        {
          "output_type": "stream",
          "text": [
            "Embedding(16, 10)\n"
          ],
          "name": "stdout"
        }
      ]
    },
    {
      "cell_type": "code",
      "metadata": {
        "id": "iIFCm9hNJ3rp",
        "colab_type": "code",
        "colab": {}
      },
      "source": [
        "class Deep(nn.Module):\n",
        "  def __init__(self, embeddings_input, continuous_cols, deep_column_idx, hidden_layers, n_class):\n",
        "    super(Deep, self).__init__()\n",
        "    self.deep_column_idx = deep_column_idx\n",
        "    self.embeddings_input = embeddings_input\n",
        "    self.continuous_cols = continuous_cols\n",
        "    self.hidden_layers = hidden_layers\n",
        "    self.n_class = n_class\n",
        "\n",
        "    for col, val, dim in self.embeddings_input:\n",
        "      setattr(self, 'emb_layer_' + col, nn.Embedding(val, dim))\n",
        "\n",
        "      input_emb_dim = np.sum([emb[2] for emb in self.embeddings_input])\n",
        "      self.linear_1 = nn.Linear(input_emb_dim + len(continuous_cols), self.hidden_layers[0])\n",
        "      for i, h in enumerate(self.hidden_layers[1:],1):\n",
        "        setattr(self, 'linear_' + str(i+1), nn.Linear( self.hidden_layers[i-1], self.hidden_layers[i]))\n",
        "\n",
        "      self.output = nn.Linear(self.hidden_layers[-1], n_class)\n",
        "  \n",
        "  def forward(self, x):\n",
        "    pass"
      ],
      "execution_count": 0,
      "outputs": []
    },
    {
      "cell_type": "code",
      "metadata": {
        "id": "iLIXQ1J8Lkq7",
        "colab_type": "code",
        "colab": {}
      },
      "source": [
        ""
      ],
      "execution_count": 0,
      "outputs": []
    }
  ]
}