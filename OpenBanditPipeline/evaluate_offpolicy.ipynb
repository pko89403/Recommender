{
 "cells": [
  {
   "cell_type": "markdown",
   "metadata": {},
   "source": [
    "[실습 진행 예제 코드](https://github.com/st-tech/zr-obp/tree/master/examples/online)\n",
    "\n",
    "SyntheticBanditDataset을 온라인 밴딧 알고리즘의 OPE를 검증에 사용한다.     \n",
    "잘 알려진 off-policy 정책 추정기의 추정 성능을 검증하는데 synthetic data로 계산 가능한 검증 정책의 그라운드 트루스 정책 값을 사용한다."
   ]
  },
  {
   "cell_type": "markdown",
   "metadata": {},
   "source": [
    "Replay Method(RM)의 추정 성능을 검증한다. \n",
    "## RM\n",
    "로깅 밴딧 피드백 데이터의 서브셋을 사용하는데      \n",
    "이 로깅 데이터에서 선택된 액션들이 evaluation_policy와 같은 behavior_policy를 사용해서 선택된다.     \n",
    "evaluation_policy가 고정되고 behavior_policy가 유니폼 랜덤이면 unbiased 하다고 한다.    \n",
    "보통 evaluation_policy가 학습 알고리즘이면 잘 동작한다고 한다.   "
   ]
  },
  {
   "cell_type": "code",
   "execution_count": 1,
   "metadata": {},
   "outputs": [],
   "source": [
    "from sklearn.linear_model import LogisticRegression\n",
    "from obp.ope import (\n",
    "    OffPolicyEvaluation,\n",
    "    ReplayMethod,\n",
    "    InverseProbabilityWeighting as IPW,\n",
    "    DirectMethod,\n",
    "    RegressionModel\n",
    ")\n",
    "from obp.policy import LinUCB\n",
    "from obp.dataset import SyntheticBanditDataset\n",
    "from obp.dataset import logistic_reward_function\n",
    "from obp.simulator import (\n",
    "    run_bandit_simulation,\n",
    "    calc_ground_truth_policy_value\n",
    ")\n"
   ]
  },
  {
   "cell_type": "code",
   "execution_count": 2,
   "metadata": {},
   "outputs": [],
   "source": [
    "# ope_estimators = [ReplayMethod(), IPW(), DirectMethod()]\n",
    "ope_estimators = [ReplayMethod(), IPW()]"
   ]
  },
  {
   "cell_type": "code",
   "execution_count": 3,
   "metadata": {},
   "outputs": [],
   "source": [
    "n_runs = 1\n",
    "n_rounds = 10000\n",
    "n_actions = 10\n",
    "dim_context = 5\n",
    "n_sim = 1\n",
    "evaluation_policy_name = 'lin_ucb'\n",
    "n_jobs = 1\n",
    "random_seed = 12345\n"
   ]
  },
  {
   "cell_type": "code",
   "execution_count": 4,
   "metadata": {},
   "outputs": [],
   "source": [
    "evaluation_policy = LinUCB(dim=dim_context, n_actions=n_actions, random_state=random_seed)"
   ]
  },
  {
   "cell_type": "markdown",
   "metadata": {},
   "source": [
    "uniformly random state 를 사용하는 synthetic dataset generator.    \n",
    "오프라인 정책 검증을 위한 데이터셋을 생성한다."
   ]
  },
  {
   "cell_type": "code",
   "execution_count": 5,
   "metadata": {},
   "outputs": [],
   "source": [
    "dataset = SyntheticBanditDataset(\n",
    "    n_actions = n_actions,\n",
    "    dim_context = dim_context, \n",
    "    reward_type='binary',\n",
    "    reward_function = logistic_reward_function, # 랜덤하게 생성한 파라미터들로 sigmoid(logit) # reward_type도 있긴하다.\n",
    "    reward_std = 1.0,\n",
    "    behavior_policy_function = None, # Uniformly random \n",
    "    tau = 1.0,\n",
    "    random_state = random_seed, \n",
    "    dataset_name='synthetic_bandit_dataset'\n",
    ")"
   ]
  },
  {
   "cell_type": "markdown",
   "metadata": {},
   "source": [
    "1. behavior_policy 를 사용해서 action을 샘플링한다. \n",
    "2. context를 이용해서 expected_reward를 reward_function을 사용해서 계산한다\n",
    "3. scipy.truncnorm(잘린 정규 분포 : 확률 분포에 범위를 제한) 을 사용해서 expected_reward를 수정한다.\n",
    "4. expected_reward를 사용해서 reward를 계산한다. "
   ]
  },
  {
   "cell_type": "markdown",
   "metadata": {},
   "source": [
    "behavior_policy에 None을 넣으면 Uniformly Random Sampling으로 action을 선택한다. "
   ]
  },
  {
   "cell_type": "code",
   "execution_count": 6,
   "metadata": {},
   "outputs": [
    {
     "name": "stdout",
     "output_type": "stream",
     "text": [
      "(10000, 5)\n",
      "(10,)\n",
      "[0.1 0.1 0.1 0.1 0.1 0.1 0.1 0.1 0.1 0.1]\n",
      "(10000, 10)\n"
     ]
    }
   ],
   "source": [
    "import numpy as np \n",
    "import random \n",
    "\n",
    "context = np.random.normal(size=(n_rounds, dim_context))\n",
    "print(context.shape)\n",
    "behavior_policy = np.ones(n_actions) / n_actions \n",
    "print(behavior_policy.shape)\n",
    "print(behavior_policy)\n",
    "behavior_policy = np.tile(behavior_policy, (n_rounds, 1))\n",
    "print(behavior_policy.shape)"
   ]
  },
  {
   "cell_type": "markdown",
   "metadata": {},
   "source": [
    "새로운 synthetic logged bandit feedback의 샘플링한다"
   ]
  },
  {
   "cell_type": "code",
   "execution_count": 7,
   "metadata": {},
   "outputs": [],
   "source": [
    "bandit_feedback = dataset.obtain_batch_bandit_feedback(n_rounds=n_rounds)"
   ]
  },
  {
   "cell_type": "code",
   "execution_count": 8,
   "metadata": {},
   "outputs": [
    {
     "data": {
      "text/plain": [
       "dict_keys(['n_rounds', 'n_actions', 'context', 'action_context', 'action', 'position', 'reward', 'expected_reward', 'pscore'])"
      ]
     },
     "execution_count": 8,
     "metadata": {},
     "output_type": "execute_result"
    }
   ],
   "source": [
    "bandit_feedback.keys()"
   ]
  },
  {
   "cell_type": "markdown",
   "metadata": {},
   "source": [
    "뭐지 ? expected_reward와 reward의 차이가 무엇인가? \n",
    "```\n",
    "expected_reward_ = self.calc_expected_reward(context)\n",
    "return self.sample_reward_given_expected_reward(expected_reward_, action)\n",
    "```\n",
    "Reward Type이 binomial 인지 continous 인지에 따라 random sampling 하는게 달라진다. \n"
   ]
  },
  {
   "cell_type": "code",
   "execution_count": 9,
   "metadata": {},
   "outputs": [
    {
     "data": {
      "text/plain": [
       "(10000, 10, 1)"
      ]
     },
     "execution_count": 9,
     "metadata": {},
     "output_type": "execute_result"
    }
   ],
   "source": [
    "# ML 모델로 평균 보상 함수를 추정한다. \n",
    "regression_model = RegressionModel(\n",
    "    n_actions = dataset.n_actions,\n",
    "    len_list = dataset.len_list, \n",
    "    action_context = dataset.action_context, \n",
    "    base_model = LogisticRegression(max_iter=10000, C=100, random_state=12345)\n",
    ")\n",
    "\n",
    "estimated_rewards_by_reg_model = regression_model.fit_predict(\n",
    "    context = bandit_feedback['context'],\n",
    "    action = bandit_feedback['action'], \n",
    "    reward = bandit_feedback['reward'], \n",
    "    position = bandit_feedback['position'], \n",
    "    pscore = bandit_feedback['pscore'], \n",
    "    n_folds = 3, \n",
    "    random_state = random_seed\n",
    ")\n",
    "\n",
    "estimated_rewards_by_reg_model.shape"
   ]
  },
  {
   "cell_type": "markdown",
   "metadata": {},
   "source": [
    "검증 정책(LinUCB)을 시뮬레이트 한다"
   ]
  },
  {
   "cell_type": "code",
   "execution_count": 10,
   "metadata": {},
   "outputs": [
    {
     "name": "stderr",
     "output_type": "stream",
     "text": [
      "100%|██████████| 10000/10000 [00:00<00:00, 12022.68it/s]\n"
     ]
    }
   ],
   "source": [
    "action_dist = run_bandit_simulation(bandit_feedback=bandit_feedback, policy=evaluation_policy)"
   ]
  },
  {
   "cell_type": "markdown",
   "metadata": {},
   "source": [
    "검증 정책의 그라운드 트루스 정책 값을 추정한다    \n",
    "보상 분포는 p(r|x,a)를 사용한 몬테 카를로 결과를 사용한다"
   ]
  },
  {
   "cell_type": "markdown",
   "metadata": {},
   "source": [
    "주어진 온라인 밴딧 알고리즘의 그라운드 트루스 정책 값을 몬테 카를로 시뮬레이션을 사용해서 계산한다 \n",
    "n_sim 만큼 전체 과정을 반복한다. \n",
    "- 정책을 초기화 한다. ( deepcopy )\n",
    "- bandit_feedback에 기록되어 있는 각 round 마다 \n",
    "    - 검증 정책을 사용해 각 라운드의 액션을 선택한다. \n",
    "    - 검증 정책이 선택한 액션과 bandit_feedback['expected_reward']로 누적 보상을 계산한다. \n",
    "    - 검증 정책이 선택한 액션과 reward_sampler의 결과로 나온 reward를 사용해서 검증 정책을 업데이트한다. \n",
    "- 누적 보상 / ( n_sim * bandit_feedback['n_rounds'] ) 를 리턴한다. "
   ]
  },
  {
   "cell_type": "code",
   "execution_count": 11,
   "metadata": {},
   "outputs": [
    {
     "name": "stderr",
     "output_type": "stream",
     "text": [
      "100%|██████████| 1/1 [00:03<00:00,  3.91s/it]\n"
     ]
    }
   ],
   "source": [
    "ground_truth_policy_value = calc_ground_truth_policy_value(\n",
    "    bandit_feedback = bandit_feedback,\n",
    "    reward_sampler = dataset.sample_reward, # p(r|x,a)\n",
    "    policy = evaluation_policy, \n",
    "    n_sim = n_sim # 시뮬레이션 진행 횟수 \n",
    ")"
   ]
  },
  {
   "cell_type": "code",
   "execution_count": 12,
   "metadata": {},
   "outputs": [
    {
     "data": {
      "text/plain": [
       "0.7066556496362245"
      ]
     },
     "execution_count": 12,
     "metadata": {},
     "output_type": "execute_result"
    }
   ],
   "source": [
    "ground_truth_policy_value"
   ]
  },
  {
   "cell_type": "markdown",
   "metadata": {},
   "source": [
    "relative estimation error(relative-ee)를 사용해서 추정기의 성능을 검증한다"
   ]
  },
  {
   "cell_type": "markdown",
   "metadata": {},
   "source": [
    "# OffPolicyEvaluation \n",
    "추정기 들로 OPE를 수행하기 위한 클래스 \n",
    "\n",
    "## 파라미터 \n",
    "- bandit_feedback : OPE를 수행에 사용하는 밴딧 피드백 로그\n",
    "- ope_estimators : 검증 정책의 정책 값을 검증하는데 사용되는 OPE 추정기( obp.ope.BaseOffPolicyEstimator 인터페이스를 따라야함 ) 리스트\n",
    "\n",
    "## 함수 \n",
    "1. _create_estimator_inputs( action_dist, estimated_rewards_by_reg_model )\n",
    "2. estimate_policy_value( action_dist, estimated_rewards_by_reg_model )\n",
    "3. estimated_intervals( action_dist, estimated_rewards_by_reg_model, alpha, n_bootstrap_samples, random_state ) \n",
    "4. summarize_off_policy_estimates( action_dist, estimated_rewards_by_reg_model, alpha, n_bootstrap_samples, random_state )\n",
    "5. visualize_off_policy_estimates ( action_dist, estimated_rewards_by_reg_model, alpha, is_relative, n_bootstrap_samples, random_state, fig_dir, fig_name )\n",
    "6. evaluate_performance_of_estimators( ground_truth_policy_value, action_dist, estimated_rewards_by_reg_model, metric )\n",
    "7. summarize_estimators_comparision( ground_truth_policy_value, action_dist, estimated_rewards_by_reg_model, metric )\n",
    "8. visualize_off_policy_estimates_of_multiple_polices(policy_name_list, action_dist_list, estimated_rewards_by_reg_model, alpha, is_relative, n_bootstrap_samples, random_state, fig_dir, fig_name )\n",
    "\n",
    "* DM 이나 DR 추정기 같은 모델에 의존하는 추정기가 아니면, estimated_rewards_by_reg_model은 사용하지는 않는다. \n"
   ]
  },
  {
   "cell_type": "code",
   "execution_count": 13,
   "metadata": {},
   "outputs": [],
   "source": [
    "ope = OffPolicyEvaluation(\n",
    "    bandit_feedback=bandit_feedback, \n",
    "    ope_estimators = ope_estimators, \n",
    ")"
   ]
  },
  {
   "cell_type": "markdown",
   "metadata": {},
   "source": [
    "## _create_estimator_inputs( action_dist, estimted_rewards_by_reg_model )\n",
    "ope_estimators에 정의한 추정기 마다 입력으로 사용할 action_dist 와 estimated_rewards_by_reg_model을 나눈다."
   ]
  },
  {
   "cell_type": "code",
   "execution_count": 14,
   "metadata": {},
   "outputs": [
    {
     "data": {
      "text/plain": [
       "{'rm': {'reward': array([1, 1, 1, ..., 0, 1, 0]),\n",
       "  'action': array([6, 4, 2, ..., 9, 4, 7]),\n",
       "  'position': array([0, 0, 0, ..., 0, 0, 0]),\n",
       "  'pscore': array([0.1, 0.1, 0.1, ..., 0.1, 0.1, 0.1]),\n",
       "  'action_dist': array([[[0.],\n",
       "          [0.],\n",
       "          [0.],\n",
       "          ...,\n",
       "          [0.],\n",
       "          [0.],\n",
       "          [1.]],\n",
       "  \n",
       "         [[0.],\n",
       "          [0.],\n",
       "          [0.],\n",
       "          ...,\n",
       "          [0.],\n",
       "          [0.],\n",
       "          [1.]],\n",
       "  \n",
       "         [[0.],\n",
       "          [0.],\n",
       "          [0.],\n",
       "          ...,\n",
       "          [0.],\n",
       "          [0.],\n",
       "          [1.]],\n",
       "  \n",
       "         ...,\n",
       "  \n",
       "         [[0.],\n",
       "          [0.],\n",
       "          [0.],\n",
       "          ...,\n",
       "          [0.],\n",
       "          [0.],\n",
       "          [1.]],\n",
       "  \n",
       "         [[0.],\n",
       "          [0.],\n",
       "          [0.],\n",
       "          ...,\n",
       "          [0.],\n",
       "          [0.],\n",
       "          [0.]],\n",
       "  \n",
       "         [[0.],\n",
       "          [0.],\n",
       "          [0.],\n",
       "          ...,\n",
       "          [0.],\n",
       "          [1.],\n",
       "          [0.]]]),\n",
       "  'estimated_rewards_by_reg_model': None},\n",
       " 'ipw': {'reward': array([1, 1, 1, ..., 0, 1, 0]),\n",
       "  'action': array([6, 4, 2, ..., 9, 4, 7]),\n",
       "  'position': array([0, 0, 0, ..., 0, 0, 0]),\n",
       "  'pscore': array([0.1, 0.1, 0.1, ..., 0.1, 0.1, 0.1]),\n",
       "  'action_dist': array([[[0.],\n",
       "          [0.],\n",
       "          [0.],\n",
       "          ...,\n",
       "          [0.],\n",
       "          [0.],\n",
       "          [1.]],\n",
       "  \n",
       "         [[0.],\n",
       "          [0.],\n",
       "          [0.],\n",
       "          ...,\n",
       "          [0.],\n",
       "          [0.],\n",
       "          [1.]],\n",
       "  \n",
       "         [[0.],\n",
       "          [0.],\n",
       "          [0.],\n",
       "          ...,\n",
       "          [0.],\n",
       "          [0.],\n",
       "          [1.]],\n",
       "  \n",
       "         ...,\n",
       "  \n",
       "         [[0.],\n",
       "          [0.],\n",
       "          [0.],\n",
       "          ...,\n",
       "          [0.],\n",
       "          [0.],\n",
       "          [1.]],\n",
       "  \n",
       "         [[0.],\n",
       "          [0.],\n",
       "          [0.],\n",
       "          ...,\n",
       "          [0.],\n",
       "          [0.],\n",
       "          [0.]],\n",
       "  \n",
       "         [[0.],\n",
       "          [0.],\n",
       "          [0.],\n",
       "          ...,\n",
       "          [0.],\n",
       "          [1.],\n",
       "          [0.]]]),\n",
       "  'estimated_rewards_by_reg_model': None}}"
      ]
     },
     "execution_count": 14,
     "metadata": {},
     "output_type": "execute_result"
    }
   ],
   "source": [
    "estimator_input = ope._create_estimator_inputs(action_dist=action_dist)\n",
    "estimator_input"
   ]
  },
  {
   "cell_type": "markdown",
   "metadata": {},
   "source": [
    "## estimated_policy_values ( action_dist, estimated_rewards_by_reg_model )\n",
    "검증 정책의 정책 값을 추정한다. 추정기 들마다 구현한 estimate_policy_value 함수를 수행한 결과를 리턴한다.\n"
   ]
  },
  {
   "cell_type": "code",
   "execution_count": 15,
   "metadata": {},
   "outputs": [
    {
     "data": {
      "text/plain": [
       "{'rm': 0.6407480314960629, 'ipw': 0.651}"
      ]
     },
     "execution_count": 15,
     "metadata": {},
     "output_type": "execute_result"
    }
   ],
   "source": [
    "estimated_policy_value = ope.estimate_policy_values(action_dist=action_dist)\n",
    "estimated_policy_value"
   ]
  },
  {
   "cell_type": "markdown",
   "metadata": {},
   "source": [
    "## estimated_intervals( action_dist, estimated_rewards_by_reg_model, alpha, n_bootstrap_samples, random_state )\n",
    "정책 값의 신뢰 구간을 파라미터가 없는 부츠스트랩으로 추정한다. 추정기 들마다 구현한 estimated_interval 함수를 수행한 결과를 리턴한다."
   ]
  },
  {
   "cell_type": "code",
   "execution_count": 16,
   "metadata": {},
   "outputs": [
    {
     "data": {
      "text/plain": [
       "{'rm': {'mean': 0.6431003937007873,\n",
       "  '95.0% CI (lower)': 0.5939222440944882,\n",
       "  '95.0% CI (upper)': 0.6924458661417323},\n",
       " 'ipw': {'mean': 0.65035,\n",
       "  '95.0% CI (lower)': 0.599475,\n",
       "  '95.0% CI (upper)': 0.693525}}"
      ]
     },
     "execution_count": 16,
     "metadata": {},
     "output_type": "execute_result"
    }
   ],
   "source": [
    "estimated_interval = ope.estimate_intervals(action_dist=action_dist)\n",
    "estimated_interval\n"
   ]
  },
  {
   "cell_type": "code",
   "execution_count": 17,
   "metadata": {},
   "outputs": [
    {
     "name": "stdout",
     "output_type": "stream",
     "text": [
      "     estimated_policy_value  relative_estimated_policy_value\n",
      "rm                 0.640748                         1.062248\n",
      "ipw                0.651000                         1.079244\n",
      "        mean  95.0% CI (lower)  95.0% CI (upper)\n",
      "rm   0.64310          0.589518          0.712328\n",
      "ipw  0.64436          0.593425          0.692200\n"
     ]
    }
   ],
   "source": [
    "estimated_policy_value, estimated_interval = ope.summarize_off_policy_estimates(action_dist=action_dist)\n",
    "print(estimated_policy_value) # relative_estimated_policy_value는 behavior policy의 정책 값을 나눈 값이다. \n",
    "print(estimated_interval)"
   ]
  },
  {
   "cell_type": "markdown",
   "metadata": {},
   "source": [
    "## visualize_off_policy_estimates( action_dist, estimated_rewards_by_reg_model, alpha, is_relative, n_bootstrap_samples, random_state, fig_dir, fig_name )\n",
    "1. estimated_round_rewards 를 각 추정기 마다 구현된 _estimate_round_rewards를 사용해서 계산한다\n",
    "2. seaborn.barplot 을 사용해서 round_rewards를 그린다"
   ]
  },
  {
   "cell_type": "code",
   "execution_count": 18,
   "metadata": {},
   "outputs": [
    {
     "data": {
      "image/png": "[encoded data removed]",
      "text/plain": [
       "<Figure size 576x432 with 1 Axes>"
      ]
     },
     "metadata": {},
     "output_type": "display_data"
    }
   ],
   "source": [
    "visualize_policy_estimates = ope.visualize_off_policy_estimates(action_dist=action_dist)"
   ]
  },
  {
   "cell_type": "code",
   "execution_count": 19,
   "metadata": {},
   "outputs": [
    {
     "data": {
      "image/png": "[encoded data removed]",
      "text/plain": [
       "<Figure size 576x432 with 1 Axes>"
      ]
     },
     "metadata": {},
     "output_type": "display_data"
    }
   ],
   "source": [
    "visualize_policy_estimates = ope.visualize_off_policy_estimates(action_dist=action_dist, is_relative=True)"
   ]
  },
  {
   "cell_type": "markdown",
   "metadata": {},
   "source": [
    "## evaluate_performance_of_estimators( ground_truth_policy_value, action_dist, estimated_rewards_by_reg_model, metric)\n",
    "OPE 추정기 들의 추정 성능을 검증한다. 추정기의 estimate_policy_value 함수로 정책 값을 추정한다\n",
    "- Relative Estimation Error[ relative_ee ] := abs( (estimated - ground_truth) / ground_truth )\n",
    "- Squared Error [ se ] := ( estimated - ground_truth ) ** 2"
   ]
  },
  {
   "cell_type": "code",
   "execution_count": 20,
   "metadata": {},
   "outputs": [],
   "source": [
    "relative_ee_i = ope.evaluate_performance_of_estimators(\n",
    "    ground_truth_policy_value=ground_truth_policy_value, \n",
    "    action_dist=action_dist, \n",
    ")\n",
    "se_i = ope.evaluate_performance_of_estimators(\n",
    "    ground_truth_policy_value=ground_truth_policy_value,\n",
    "    action_dist=action_dist, \n",
    "    metric='se'\n",
    ")"
   ]
  },
  {
   "cell_type": "code",
   "execution_count": 21,
   "metadata": {},
   "outputs": [
    {
     "name": "stdout",
     "output_type": "stream",
     "text": [
      "{'rm': 0.0932669514127424, 'ipw': 0.07875922263534603}\n",
      "{'rm': 0.004343814128909366, 'ipw': 0.0030975513364301754}\n"
     ]
    }
   ],
   "source": [
    "print(f'{relative_ee_i}')\n",
    "\n",
    "\n",
    "print(f'{se_i}')"
   ]
  },
  {
   "cell_type": "markdown",
   "metadata": {},
   "source": [
    "## summarize_estimators_comparision( ground_truth_policy_value, action_dist, estimated_rewards_by_reg_model, metric )\n",
    "OPE 추정기들의 성능 비교를 요약한다"
   ]
  },
  {
   "cell_type": "code",
   "execution_count": 22,
   "metadata": {},
   "outputs": [
    {
     "data": {
      "text/html": [
       "<div>\n",
       "<style scoped>\n",
       "    .dataframe tbody tr th:only-of-type {\n",
       "        vertical-align: middle;\n",
       "    }\n",
       "\n",
       "    .dataframe tbody tr th {\n",
       "        vertical-align: top;\n",
       "    }\n",
       "\n",
       "    .dataframe thead th {\n",
       "        text-align: right;\n",
       "    }\n",
       "</style>\n",
       "<table border=\"1\" class=\"dataframe\">\n",
       "  <thead>\n",
       "    <tr style=\"text-align: right;\">\n",
       "      <th></th>\n",
       "      <th>relative-ee</th>\n",
       "    </tr>\n",
       "  </thead>\n",
       "  <tbody>\n",
       "    <tr>\n",
       "      <th>rm</th>\n",
       "      <td>0.093267</td>\n",
       "    </tr>\n",
       "    <tr>\n",
       "      <th>ipw</th>\n",
       "      <td>0.078759</td>\n",
       "    </tr>\n",
       "  </tbody>\n",
       "</table>\n",
       "</div>"
      ],
      "text/plain": [
       "     relative-ee\n",
       "rm      0.093267\n",
       "ipw     0.078759"
      ]
     },
     "execution_count": 22,
     "metadata": {},
     "output_type": "execute_result"
    }
   ],
   "source": [
    "relative_ee_j = ope.summarize_estimators_comparison(ground_truth_policy_value=ground_truth_policy_value,\n",
    "                                                    action_dist=action_dist)\n",
    "\n",
    "relative_ee_j"
   ]
  },
  {
   "cell_type": "code",
   "execution_count": 23,
   "metadata": {},
   "outputs": [
    {
     "data": {
      "image/png": "[encoded data removed]",
      "text/plain": [
       "<Figure size 576x892.8 with 2 Axes>"
      ]
     },
     "metadata": {},
     "output_type": "display_data"
    }
   ],
   "source": [
    "ope.visualize_off_policy_estimates_of_multiple_policies(policy_name_list=['Replay', 'IPW'],\n",
    "                                                    action_dist_list=[action_dist, action_dist])"
   ]
  }
 ],
 "metadata": {
  "interpreter": {
   "hash": "c17c117548a26697884d4b24d77e40bd7766e640ea8225bfd0e51b0c9e2fee49"
  },
  "kernelspec": {
   "display_name": "Python 3",
   "language": "python",
   "name": "python3"
  },
  "language_info": {
   "codemirror_mode": {
    "name": "ipython",
    "version": 3
   },
   "file_extension": ".py",
   "mimetype": "text/x-python",
   "name": "python",
   "nbconvert_exporter": "python",
   "pygments_lexer": "ipython3",
   "version": "3.8.12"
  }
 },
 "nbformat": 4,
 "nbformat_minor": 4
}
