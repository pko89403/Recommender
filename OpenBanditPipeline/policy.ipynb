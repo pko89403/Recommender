{
 "cells": [
  {
   "cell_type": "markdown",
   "metadata": {},
   "source": [
    "# obp>policy>base.py\n",
    "각각의 policy들은 base.py의 추상화 클래스 중 하나를 상속받는다. \n",
    "\n",
    "## BaseContextFreePolicy 클래스    \n",
    "파라미터\n",
    "- n_actions \n",
    "- len_list\n",
    "- batch_size\n",
    "- random_state \n",
    "\n",
    "메소드 \n",
    "- select_action() \n",
    "- update_params(action, reward)\n",
    "\n",
    "상속하는 클래스 \n",
    "- contextfree.py > EpslionGreedy > Random \n",
    "- contextfree.py > BernouliTS\n",
    "\n",
    "## BaseContextualPolicy 클래스\n",
    "파라미터 \n",
    "- dim \n",
    "- n_actions \n",
    "- len_list\n",
    "- batch_size\n",
    "- random_state\n",
    "\n",
    "메소드 \n",
    "- select_action(context)\n",
    "- update_params(action, reward, context)\n",
    "\n",
    "상속하는 클래스 \n",
    "\n",
    "### BaseLinPolicy(BaseContextualPolicy) 클래스\n",
    "파라미터 \n",
    "- epsilon\n",
    "        \n",
    "메소드 \n",
    "- update_params(action, reward, context)\n",
    "\n",
    "\n",
    "- linear.py > BaseLinPolicy > LinEpsilonGreedy, LinUCB, LinTS \n",
    "\n",
    "### LinUCB(BaseLinPolicy(BaseContextualPolicy)) 클래스 \n",
    "파라미터     \n",
    "\n",
    "메소드\n",
    "- select_action(context)\n",
    "\n",
    "                \n",
    "- logistic.py > BaseLogisticPolicy > LogisticEpslionGreedy, LogisticUCB, LogisticTS\n",
    "## BaseOfflinePolicyLearner 클래스 \n",
    "파라미터 \n",
    "- n_actions \n",
    "- len_list\n",
    "\n",
    "메소드 \n",
    "- fit()\n",
    "- predict(context)\n",
    "\n",
    "상속하는 클래스 \n",
    "- offline.py > BaseOfflinePolicyLearner > IPWLearner, NNPolicyLearner, \n",
    "- \n",
    "## BaseContinuousOfflinePolicyLearner 클래스 \n",
    "메소드 \n",
    "- fit()\n",
    "- predict(context)\n",
    "\n",
    "상속하는 클래스 \n",
    "- offline_continuous.py > ContinuousNNPolicyLearner\n",
    "- logistic.py > MiniBatchLogisticRegression\n",
    "- offine_continuous.py > QFuncEstimatorForContinuousAction \n",
    "- offline_continuous.py > NNPolicyDatasetForContinuousAction \n",
    "- QFuncEstimatorDatasetForContinuousAction \n",
    "- offline.py > QFuncEstimator\n",
    "- offline.py > NNPolicyDataset\n",
    "- offline.py > QFuncEstimatorDataset \n"
   ]
  },
  {
   "cell_type": "code",
   "execution_count": 1,
   "metadata": {},
   "outputs": [],
   "source": [
    "import obp \n",
    "from obp.dataset import OpenBanditDataset"
   ]
  },
  {
   "cell_type": "markdown",
   "metadata": {},
   "source": [
    "https://github.com/st-tech/zr-obp/blob/master/examples/online/evaluate_off_policy_estimators.py"
   ]
  },
  {
   "cell_type": "code",
   "execution_count": 2,
   "metadata": {},
   "outputs": [
    {
     "name": "stderr",
     "output_type": "stream",
     "text": [
      "INFO:obp.dataset.real:When `data_path` is not given, this class downloads the example small-sized version of the Open Bandit Dataset.\n",
      "/Users/7048518/opt/anaconda3/envs/obp/lib/python3.8/site-packages/obp/dataset/real.py:203: FutureWarning: In a future version of pandas all arguments of DataFrame.drop except for the argument 'labels' will be keyword-only\n",
      "  item_feature_cat = self.item_context.drop(\"item_feature_0\", 1).apply(\n",
      "/Users/7048518/opt/anaconda3/envs/obp/lib/python3.8/site-packages/obp/dataset/real.py:206: FutureWarning: In a future version of pandas all arguments of concat except for the argument 'objs' will be keyword-only\n",
      "  self.action_context = pd.concat([item_feature_cat, item_feature_0], 1).values\n"
     ]
    }
   ],
   "source": [
    "dataset = OpenBanditDataset(behavior_policy='random', campaign='all')\n",
    "bandit_feedback = dataset.obtain_batch_bandit_feedback()"
   ]
  },
  {
   "cell_type": "code",
   "execution_count": 3,
   "metadata": {},
   "outputs": [
    {
     "data": {
      "text/plain": [
       "3"
      ]
     },
     "execution_count": 3,
     "metadata": {},
     "output_type": "execute_result"
    }
   ],
   "source": [
    "dataset.len_list\n"
   ]
  },
  {
   "cell_type": "code",
   "execution_count": 4,
   "metadata": {},
   "outputs": [
    {
     "data": {
      "text/plain": [
       "dict_keys(['n_rounds', 'n_actions', 'action', 'position', 'reward', 'pscore', 'context', 'action_context'])"
      ]
     },
     "execution_count": 4,
     "metadata": {},
     "output_type": "execute_result"
    }
   ],
   "source": [
    "bandit_feedback.keys()"
   ]
  },
  {
   "cell_type": "code",
   "execution_count": 5,
   "metadata": {},
   "outputs": [],
   "source": [
    "from obp.policy.linear import LinUCB\n",
    "from obp.policy.logistic import LogisticUCB\n",
    "from obp.policy import Random"
   ]
  },
  {
   "cell_type": "code",
   "execution_count": 6,
   "metadata": {},
   "outputs": [],
   "source": [
    "lin_ucb = LinUCB(dim = dataset.dim_context, \n",
    "                n_actions = dataset.n_actions,\n",
    "                len_list = dataset.len_list,\n",
    "                random_state=12345)\n",
    "\n",
    "logistic_ucb = LogisticUCB(dim = dataset.dim_context, \n",
    "                        n_actions=dataset.n_actions, \n",
    "                        len_list = dataset.len_list,\n",
    "                        random_state=12345)"
   ]
  },
  {
   "cell_type": "code",
   "execution_count": 7,
   "metadata": {},
   "outputs": [],
   "source": [
    "lin_ucb_update = LinUCB(dim = dataset.dim_context, \n",
    "                n_actions = dataset.n_actions,\n",
    "                len_list = dataset.len_list,\n",
    "                batch_size= 10,\n",
    "                random_state=12345)\n",
    "\n",
    "logistic_ucb_update = LogisticUCB(dim = dataset.dim_context, \n",
    "                        n_actions=dataset.n_actions, \n",
    "                        len_list = dataset.len_list,\n",
    "                        batch_size = 10,\n",
    "                        random_state=12345)"
   ]
  },
  {
   "cell_type": "code",
   "execution_count": 8,
   "metadata": {},
   "outputs": [
    {
     "data": {
      "text/plain": [
       "dict_keys(['dim', 'n_actions', 'len_list', 'batch_size', 'random_state', 'epsilon', 'policy_name', 'n_trial', 'random_', 'action_counts', 'reward_lists', 'context_lists', 'theta_hat', 'A_inv', 'b', 'A_inv_temp', 'b_temp'])"
      ]
     },
     "execution_count": 8,
     "metadata": {},
     "output_type": "execute_result"
    }
   ],
   "source": [
    "lin_ucb.__dict__.keys()"
   ]
  },
  {
   "cell_type": "code",
   "execution_count": 9,
   "metadata": {},
   "outputs": [
    {
     "data": {
      "text/plain": [
       "PolicyType.CONTEXTUAL"
      ]
     },
     "execution_count": 9,
     "metadata": {},
     "output_type": "execute_result"
    }
   ],
   "source": [
    "lin_ucb.policy_type\n"
   ]
  },
  {
   "cell_type": "markdown",
   "metadata": {},
   "source": [
    "# LinUCB\n",
    "\n",
    "[2010년 발표된 야후 프론트 페이지 투데이 모듈에 사용했던 개인화 뉴스 추천의 컨텍스튜얼 밴딧](https://arxiv.org/abs/1003.0146) \n",
    "\n",
    "\n",
    "## 간단 소개 \n",
    "매 trial의 의사결정 전, 관측 가능한 최적의 의사결정을 하는 Bandit을 Contextual Bandits라고 한다.    \n",
    "linUCB는 기대 보상을 선형 함수로 나타내어 linear expected reward로 context와 reward를 유기적으로 연결시키는 방법이다.   \n",
    "Context의 Linear Expected Reward를 계산할 coefficient vector를 Ridge Regression의 방법으로 추정하여 모델링하는 방법이다. \n",
    "\n",
    "## 입력 파라미터 \n",
    "- dim : 컨텍스트 벡터들의 차원 수 \n",
    "- n_actions : 전체 액션 ( 추천할 아이템 ) 수 \n",
    "- len_list : 매번 추천할 액션 리스트의 길이 \n",
    "- batch_size : 파라미터를 업데이트 할 샘플의 수 \n",
    "- random_state : 샘플링 액션 용도의 랜덤 시드 \n",
    "- epsilon : Exploration 하이퍼 파라미터 ( 0 ~ 1 )\n",
    "\n",
    "## 초기화 어트리뷰트 ( __post_init__ )\n",
    "- theta_hat -> 0으로 채워진 (dim, n_action) 모양의 행렬\n",
    "- A_inv -> 대각 행렬을 액션 만큼 생성한 ( n_action, dim, dim) 모양의 행렬 ( 액션 컨택스트 벡터 )\n",
    "- b -> 액션의 bias 행렬로 ( dim, n_action ) 모양의 행렬 \n",
    "- 정의된 배치 사이드 만큼의 정책 업데이트를 위한 A_inv, b_temp \n",
    "\n",
    "## 메소드 \n",
    "- select_action( context ) : 들어오는 데이터로 액션을 선택한다\n",
    "- update_params( action, reward, context ) : 정책의 파라미터를 업데이트한다 \n",
    "\n",
    "### select_action( context )\n",
    "1. theta_hat을 정의한다            \n",
    "    전체 액션 수 만큼 루프를 반복해서 A_inv(n_action, dim, dim)와 b(dim, action)를 matmul -> (dim, n_action)\n",
    "2. sigma_hat을 정의한다        \n",
    "    전체 앤션 수 만큼 루프를 반복해서      \n",
    "        context(1, dim )과 한 액션의 A_inv(dim, dim)을 matmul -> (1, dim)\n",
    "        다시 한번 (1,dim) context(1, dim)를 Transpose(dim, 1)해서 matmul -> (1,1)     \n",
    "    -> (1, n_action)\n",
    "3. ucb_score를 계산한다     \n",
    "    Empirical Part(Reward Expectation)     \n",
    "    context(1, dim)과 theta_hat(dim, n_action) matmul -> ( 1, n_action )   \n",
    "    Uncertainty Part(Reward Deviation)      \n",
    "    epsilon(scalar)과 sigma_hat(1, n_action) 을 곱해서 \n",
    "    둘을 합한다 -> (1, n_action ), flatten() 해서 반환한다\n",
    "4. ucb_score를 numpy의 argsort()[::-1]로 내림차순으로 정렬해서 len_list 만큼 리턴한다\n",
    "\n",
    "### update_params( action, reward, context )\n",
    "1. n_trial을 +1 한다. 그리고 들어온 action의 action_counts를 +1 한다\n",
    "2. A_inv_temp를 업데이트한다. 아래 계산한 결과를 빼서 업데이트 한다    \n",
    "    A_inv_temp[action] @ contex.T @ context @ A_inv_temp[action]       \n",
    "    (dim, dim)           @ (dim, 1)  @ (1, dim) @ (dim, dim)    \n",
    "    -> (dim, dim)를 계산하고        \n",
    "    ( 1 + (1, dim) @ (dim, dim) @ (dim, 1) ) -> (1, 1)을 나눈다    \n",
    "3. b_temp를 업데이트한다. 아래 계산한 결고를 더해서 업데이트 한다    \n",
    "    reward * context.flatten() -> (dim, )\n",
    "4. n_trial이 batch_size의 배수면 A_inv, b를 복사하며 종료한다"
   ]
  },
  {
   "cell_type": "code",
   "execution_count": 10,
   "metadata": {},
   "outputs": [
    {
     "name": "stdout",
     "output_type": "stream",
     "text": [
      "1 번째 액션을 선택한다\n",
      "한 액션의 A_inv 차원 : (20, 20)\n",
      "한 액션의 b 차원 : (20,)\n",
      "theta_hat을 구하기 위한 b 차원 변환 : (20, 1)\n",
      "한 액션의 theta_hat 차원 : (20, 1)\n"
     ]
    }
   ],
   "source": [
    "import numpy as np \n",
    "\n",
    "i = 1 \n",
    "print(f\"{i} 번째 액션을 선택한다\")\n",
    "print(f\"한 액션의 A_inv 차원 : {lin_ucb.A_inv[i].shape}\")\n",
    "print(f\"한 액션의 b 차원 : {lin_ucb.b[:, i].shape}\")\n",
    "print(f\"theta_hat을 구하기 위한 b 차원 변환 : {lin_ucb.b[:, i][:,np.newaxis].shape}\")\n",
    "print(f\"한 액션의 theta_hat 차원 : {(lin_ucb.A_inv[i] @ lin_ucb.b[:, i][:,np.newaxis]).shape}\")"
   ]
  },
  {
   "cell_type": "code",
   "execution_count": 11,
   "metadata": {},
   "outputs": [
    {
     "name": "stdout",
     "output_type": "stream",
     "text": [
      "[1 0 3 2]\n",
      "[2 3 0 1]\n"
     ]
    }
   ],
   "source": [
    "a = np.array([1.5, 0.2, 4.2, 2.5])\n",
    "s = a.argsort()\n",
    "print(s)\n",
    "print(s[::-1])"
   ]
  },
  {
   "cell_type": "code",
   "execution_count": 12,
   "metadata": {},
   "outputs": [
    {
     "data": {
      "text/plain": [
       "0"
      ]
     },
     "execution_count": 12,
     "metadata": {},
     "output_type": "execute_result"
    }
   ],
   "source": [
    "lin_ucb.n_trial"
   ]
  },
  {
   "cell_type": "code",
   "execution_count": 13,
   "metadata": {},
   "outputs": [
    {
     "data": {
      "text/plain": [
       "dict_keys(['dim', 'n_actions', 'len_list', 'batch_size', 'random_state', 'alpha_', 'lambda_', 'epsilon', 'policy_name', 'n_trial', 'random_', 'action_counts', 'reward_lists', 'context_lists', 'alpha_list', 'lambda_list', 'model_list'])"
      ]
     },
     "execution_count": 13,
     "metadata": {},
     "output_type": "execute_result"
    }
   ],
   "source": [
    "logistic_ucb.__dict__.keys()"
   ]
  },
  {
   "cell_type": "code",
   "execution_count": 14,
   "metadata": {},
   "outputs": [
    {
     "data": {
      "text/plain": [
       "PolicyType.CONTEXTUAL"
      ]
     },
     "execution_count": 14,
     "metadata": {},
     "output_type": "execute_result"
    }
   ],
   "source": [
    "logistic_ucb.policy_type"
   ]
  },
  {
   "cell_type": "markdown",
   "metadata": {},
   "source": [
    "# LogisticUCB\n",
    "\n",
    "## 간단소개 \n",
    "logistic regression을 이용한 컨택스튜얼 밴딧 정책   \n",
    "linUCB에서 Ridge Regression으로 Update했던 Coefficient Vector를 Logistic Regression으로 하겠다\n",
    "Expectation 부분을 LR로 진행한다 \n",
    "\n",
    "## 입력 파라미터 \n",
    "- dim : 컨텍스트 벡터들의 차원 수 \n",
    "- n_actions : 전체 액션 ( 추천할 아이템 ) 수 \n",
    "- len_list : 매번 추천할 액션 리스트의 길이 \n",
    "- batch_size : 파라미터를 업데이트 할 샘플의 수 \n",
    "- random_state : 샘플링 액션 용도의 랜덤 시드 \n",
    "- epsilon : Exploration 하이퍼 파라미터 ( 0 ~ 1 )\n",
    "- alpha_ : 온라인 LR을 위한 Prior 파라미터\n",
    "- lambda_ : 온라인 LR을 위한 정규화 파라미터 \n",
    "\n",
    "## 초기화 어트리뷰트 ( __post_init__ )\n",
    "- alpha_list -> alpha_를 액션 수 만큼 가지는 매트릭스 \n",
    "- lambda_list -> lambda_를 액션 수 만큼 가지는 매트릭스 \n",
    "- model_list -> MiniBatchLogisticRegression 모델을 아이템 수 만큼 생성 \n",
    "\n",
    "## 메소드 \n",
    "- select_action( context )\n",
    "- update_params( action, reward, context )\n",
    "\n",
    "### select_action( context )\n",
    "1. theta를 정의한다    \n",
    "    context를 입력으로 각각의 액션에 해당하는 액션 모델의 확률을 예측한다 -> (1, n_action)\n",
    "2. std를 정의한다    \n",
    "    context를 입력으로 각각의 액션에 해당하는 액션 모델의 model._q를 사용해서 연산한다 -> (1, n_action)\n",
    "3. ucb_score를 계산한다.\n",
    "    ucb_score = theta + self.epsilon * std -> (1, n_action)\n",
    "4. ucb_score를 numpy의 argsort()[::-1]로 내림차순으로 정렬해서 len_list 만큼 리턴한다\n",
    "\n",
    "### update_params( action, reward, context )\n",
    "1. n_trial을 +1 한다\n",
    "2. 입력으로 들어온 action에 해당하는 action_counts, reward_lists, context_lists 리스트에 +1, reward, context를 추가한다\n",
    "3. n_trial이 batch_size의 배수면 선택된 액션의 LR모델을 재학습(fit)한다. \n",
    "4. reward_lists, context_lists를 clear 한다."
   ]
  },
  {
   "cell_type": "markdown",
   "metadata": {},
   "source": [
    "# 각 액션이 가지는 MiniBatchLogisticRegression 모델\n",
    "MiniBatch 사이즈 만큼 Online Train이 가능한 LR Model \n",
    "\n",
    "## 입력 파라미터\n",
    "- lambda_ \n",
    "- alpha\n",
    "- dim\n",
    "- random_state\n",
    "\n",
    "## 초기화 어트리뷰트 ( __post_init__ )\n",
    "- _m -> 0으로 채워진 (dim, )\n",
    "- _q -> lambda_ 값으로 채워진 (dim, )\n",
    "\n",
    "## 메소드 \n",
    "- loss( w, x, y) : 로스를 계산한다\n",
    "- grad( w, x, y) : 그래디언트를 계산한다\n",
    "- sample() : 사전 분포로 부터 coefficient 벡터를 샘플링한다\n",
    "- fit(x, t) : mini-batch 데이터로 coefficient 벡터를 업데이트한다\n",
    "- sd() : coefficient를 위한 표준편차를 계산한다\n",
    "- predict_proba(x) : coefficient를 X를 사용해서 expected 예측 결과를 계산한다\n",
    "- predict_proba_with_sampling(x) : 샘플링한 coefficient를 X를 사용해서 expected 예측 결과를 계산한다"
   ]
  },
  {
   "cell_type": "code",
   "execution_count": 15,
   "metadata": {},
   "outputs": [
    {
     "data": {
      "text/plain": [
       "(20,)"
      ]
     },
     "execution_count": 15,
     "metadata": {},
     "output_type": "execute_result"
    }
   ],
   "source": [
    "import numpy as np \n",
    "np.zeros(20).shape"
   ]
  },
  {
   "cell_type": "code",
   "execution_count": 16,
   "metadata": {},
   "outputs": [
    {
     "data": {
      "text/plain": [
       "(10000, 80, 3)"
      ]
     },
     "execution_count": 16,
     "metadata": {},
     "output_type": "execute_result"
    }
   ],
   "source": [
    "random = Random(n_actions=dataset.n_actions, \n",
    "                len_list=dataset.len_list)\n",
    "\n",
    "random_action_dist = random.compute_batch_action_dist(\n",
    "    n_rounds=bandit_feedback['n_rounds']\n",
    ")\n",
    "\n",
    "random_action_dist.shape"
   ]
  },
  {
   "cell_type": "code",
   "execution_count": 31,
   "metadata": {},
   "outputs": [
    {
     "name": "stderr",
     "output_type": "stream",
     "text": [
      "100%|██████████| 10000/10000 [00:36<00:00, 273.71it/s]\n"
     ]
    }
   ],
   "source": [
    "# obp.simulator.run_bandit_simulation 함수\n",
    "from tqdm import tqdm \n",
    "\n",
    "lin_ucb_selected_actions = [] \n",
    "logistic_ucb_selected_actions = []\n",
    "\n",
    "lin_ucb_update_selected_actions = [] \n",
    "logistic_ucb_update_selected_actions = [] \n",
    "\n",
    "with tqdm(total=bandit_feedback['n_rounds']) as pbar:\n",
    "    for i, (action, reward, position, context) in enumerate(zip(\n",
    "                                            bandit_feedback['action'],\n",
    "                                            bandit_feedback['reward'], \n",
    "                                            bandit_feedback['position'], \n",
    "                                            bandit_feedback['context'])):\n",
    "        ctx = context.reshape(1,-1)\n",
    "        \n",
    "        lin_ucb_action = lin_ucb.select_action(ctx)\n",
    "        logistic_ucb_action = logistic_ucb.select_action(ctx)\n",
    "\n",
    "        lin_ucb_update_action = lin_ucb_update.select_action(ctx)\n",
    "        logistic_ucb_update_action = logistic_ucb_update.select_action(ctx)\n",
    "\n",
    "        lin_ucb_selected_actions.append(lin_ucb_action)\n",
    "        logistic_ucb_selected_actions.append(logistic_ucb_action)\n",
    "        lin_ucb_update_selected_actions.append(lin_ucb_update_action )\n",
    "        logistic_ucb_update_selected_actions.append(logistic_ucb_update_action)\n",
    "\n",
    "\n",
    "        if lin_ucb_update_action[position] == action:\n",
    "            lin_ucb_update.update_params(action=action, reward=reward, context=ctx)\n",
    "        if logistic_ucb_update_action[position] == action:\n",
    "            logistic_ucb_update.update_params(action=action, reward=reward, context=ctx)\n",
    "\n",
    "        pbar.update(1)\n",
    "\n"
   ]
  },
  {
   "cell_type": "code",
   "execution_count": 33,
   "metadata": {},
   "outputs": [
    {
     "name": "stdout",
     "output_type": "stream",
     "text": [
      "(10000, 3)\n"
     ]
    }
   ],
   "source": [
    "lin_ucb_selected_actions = np.array(lin_ucb_selected_actions)\n",
    "logistic_ucb_selected_actions = np.array(logistic_ucb_selected_actions)\n",
    "\n",
    "lin_ucb_update_selected_actions = np.array(lin_ucb_update_selected_actions)\n",
    "logistic_ucb_update_selected_actions = np.array(logistic_ucb_update_selected_actions)\n",
    "\n",
    "print(lin_ucb_selected_actions.shape)\n"
   ]
  },
  {
   "cell_type": "code",
   "execution_count": 34,
   "metadata": {},
   "outputs": [],
   "source": [
    "from obp.utils import convert_to_action_dist\n",
    "import numpy as np "
   ]
  },
  {
   "cell_type": "code",
   "execution_count": 35,
   "metadata": {},
   "outputs": [
    {
     "data": {
      "text/plain": [
       "(10000, 80, 3)"
      ]
     },
     "execution_count": 35,
     "metadata": {},
     "output_type": "execute_result"
    }
   ],
   "source": [
    "lin_ucb_action_dist = convert_to_action_dist(n_actions=dataset.n_actions, \n",
    "                                    selected_actions=lin_ucb_selected_actions)\n",
    "logistic_ucb_action_dist = convert_to_action_dist(n_actions=dataset.n_actions, \n",
    "                                    selected_actions=logistic_ucb_selected_actions)\n",
    "\n",
    "lin_ucb_update_action_dist = convert_to_action_dist(n_actions=dataset.n_actions, \n",
    "                                    selected_actions=lin_ucb_update_selected_actions)\n",
    "logistic_ucb_update_action_dist = convert_to_action_dist(n_actions=dataset.n_actions, \n",
    "                                    selected_actions=logistic_ucb_update_selected_actions)\n",
    "\n",
    "\n",
    "logistic_ucb_action_dist.shape"
   ]
  },
  {
   "cell_type": "code",
   "execution_count": 36,
   "metadata": {},
   "outputs": [
    {
     "data": {
      "text/plain": [
       "array([[[0., 0., 0.],\n",
       "        [0., 0., 0.],\n",
       "        [0., 0., 0.],\n",
       "        ...,\n",
       "        [0., 0., 0.],\n",
       "        [0., 1., 0.],\n",
       "        [1., 0., 0.]],\n",
       "\n",
       "       [[0., 0., 0.],\n",
       "        [0., 0., 0.],\n",
       "        [0., 0., 0.],\n",
       "        ...,\n",
       "        [0., 0., 0.],\n",
       "        [0., 1., 0.],\n",
       "        [1., 0., 0.]],\n",
       "\n",
       "       [[0., 0., 0.],\n",
       "        [0., 0., 0.],\n",
       "        [0., 0., 0.],\n",
       "        ...,\n",
       "        [0., 0., 0.],\n",
       "        [0., 1., 0.],\n",
       "        [1., 0., 0.]],\n",
       "\n",
       "       ...,\n",
       "\n",
       "       [[0., 0., 0.],\n",
       "        [0., 0., 0.],\n",
       "        [0., 0., 0.],\n",
       "        ...,\n",
       "        [0., 0., 0.],\n",
       "        [0., 1., 0.],\n",
       "        [1., 0., 0.]],\n",
       "\n",
       "       [[0., 0., 0.],\n",
       "        [0., 0., 0.],\n",
       "        [0., 0., 0.],\n",
       "        ...,\n",
       "        [0., 0., 0.],\n",
       "        [0., 1., 0.],\n",
       "        [1., 0., 0.]],\n",
       "\n",
       "       [[0., 0., 0.],\n",
       "        [0., 0., 0.],\n",
       "        [0., 0., 0.],\n",
       "        ...,\n",
       "        [0., 0., 0.],\n",
       "        [0., 1., 0.],\n",
       "        [1., 0., 0.]]])"
      ]
     },
     "execution_count": 36,
     "metadata": {},
     "output_type": "execute_result"
    }
   ],
   "source": [
    "logistic_ucb_action_dist"
   ]
  },
  {
   "cell_type": "code",
   "execution_count": 37,
   "metadata": {},
   "outputs": [],
   "source": [
    "from obp.ope import (\n",
    "    OffPolicyEvaluation,\n",
    "    RegressionModel, \n",
    "    DirectMethod, \n",
    "    InverseProbabilityWeighting, \n",
    "    DoublyRobust\n",
    ")\n",
    "from sklearn.linear_model import LogisticRegression"
   ]
  },
  {
   "cell_type": "code",
   "execution_count": 38,
   "metadata": {},
   "outputs": [],
   "source": [
    "regression_model = RegressionModel(\n",
    "    n_actions = dataset.n_actions, \n",
    "    len_list = dataset.len_list, \n",
    "    action_context = dataset.action_context, \n",
    "    base_model=LogisticRegression(random_state=12345),\n",
    ")"
   ]
  },
  {
   "cell_type": "code",
   "execution_count": 39,
   "metadata": {},
   "outputs": [
    {
     "name": "stderr",
     "output_type": "stream",
     "text": [
      "/Users/7048518/opt/anaconda3/envs/obp/lib/python3.8/site-packages/sklearn/linear_model/_logistic.py:763: ConvergenceWarning: lbfgs failed to converge (status=1):\n",
      "STOP: TOTAL NO. of ITERATIONS REACHED LIMIT.\n",
      "\n",
      "Increase the number of iterations (max_iter) or scale the data as shown in:\n",
      "    https://scikit-learn.org/stable/modules/preprocessing.html\n",
      "Please also refer to the documentation for alternative solver options:\n",
      "    https://scikit-learn.org/stable/modules/linear_model.html#logistic-regression\n",
      "  n_iter_i = _check_optimize_result(\n",
      "/Users/7048518/opt/anaconda3/envs/obp/lib/python3.8/site-packages/sklearn/linear_model/_logistic.py:763: ConvergenceWarning: lbfgs failed to converge (status=1):\n",
      "STOP: TOTAL NO. of ITERATIONS REACHED LIMIT.\n",
      "\n",
      "Increase the number of iterations (max_iter) or scale the data as shown in:\n",
      "    https://scikit-learn.org/stable/modules/preprocessing.html\n",
      "Please also refer to the documentation for alternative solver options:\n",
      "    https://scikit-learn.org/stable/modules/linear_model.html#logistic-regression\n",
      "  n_iter_i = _check_optimize_result(\n",
      "/Users/7048518/opt/anaconda3/envs/obp/lib/python3.8/site-packages/sklearn/linear_model/_logistic.py:763: ConvergenceWarning: lbfgs failed to converge (status=1):\n",
      "STOP: TOTAL NO. of ITERATIONS REACHED LIMIT.\n",
      "\n",
      "Increase the number of iterations (max_iter) or scale the data as shown in:\n",
      "    https://scikit-learn.org/stable/modules/preprocessing.html\n",
      "Please also refer to the documentation for alternative solver options:\n",
      "    https://scikit-learn.org/stable/modules/linear_model.html#logistic-regression\n",
      "  n_iter_i = _check_optimize_result(\n",
      "/Users/7048518/opt/anaconda3/envs/obp/lib/python3.8/site-packages/sklearn/linear_model/_logistic.py:763: ConvergenceWarning: lbfgs failed to converge (status=1):\n",
      "STOP: TOTAL NO. of ITERATIONS REACHED LIMIT.\n",
      "\n",
      "Increase the number of iterations (max_iter) or scale the data as shown in:\n",
      "    https://scikit-learn.org/stable/modules/preprocessing.html\n",
      "Please also refer to the documentation for alternative solver options:\n",
      "    https://scikit-learn.org/stable/modules/linear_model.html#logistic-regression\n",
      "  n_iter_i = _check_optimize_result(\n",
      "/Users/7048518/opt/anaconda3/envs/obp/lib/python3.8/site-packages/sklearn/linear_model/_logistic.py:763: ConvergenceWarning: lbfgs failed to converge (status=1):\n",
      "STOP: TOTAL NO. of ITERATIONS REACHED LIMIT.\n",
      "\n",
      "Increase the number of iterations (max_iter) or scale the data as shown in:\n",
      "    https://scikit-learn.org/stable/modules/preprocessing.html\n",
      "Please also refer to the documentation for alternative solver options:\n",
      "    https://scikit-learn.org/stable/modules/linear_model.html#logistic-regression\n",
      "  n_iter_i = _check_optimize_result(\n",
      "/Users/7048518/opt/anaconda3/envs/obp/lib/python3.8/site-packages/sklearn/linear_model/_logistic.py:763: ConvergenceWarning: lbfgs failed to converge (status=1):\n",
      "STOP: TOTAL NO. of ITERATIONS REACHED LIMIT.\n",
      "\n",
      "Increase the number of iterations (max_iter) or scale the data as shown in:\n",
      "    https://scikit-learn.org/stable/modules/preprocessing.html\n",
      "Please also refer to the documentation for alternative solver options:\n",
      "    https://scikit-learn.org/stable/modules/linear_model.html#logistic-regression\n",
      "  n_iter_i = _check_optimize_result(\n",
      "/Users/7048518/opt/anaconda3/envs/obp/lib/python3.8/site-packages/sklearn/linear_model/_logistic.py:763: ConvergenceWarning: lbfgs failed to converge (status=1):\n",
      "STOP: TOTAL NO. of ITERATIONS REACHED LIMIT.\n",
      "\n",
      "Increase the number of iterations (max_iter) or scale the data as shown in:\n",
      "    https://scikit-learn.org/stable/modules/preprocessing.html\n",
      "Please also refer to the documentation for alternative solver options:\n",
      "    https://scikit-learn.org/stable/modules/linear_model.html#logistic-regression\n",
      "  n_iter_i = _check_optimize_result(\n",
      "/Users/7048518/opt/anaconda3/envs/obp/lib/python3.8/site-packages/sklearn/linear_model/_logistic.py:763: ConvergenceWarning: lbfgs failed to converge (status=1):\n",
      "STOP: TOTAL NO. of ITERATIONS REACHED LIMIT.\n",
      "\n",
      "Increase the number of iterations (max_iter) or scale the data as shown in:\n",
      "    https://scikit-learn.org/stable/modules/preprocessing.html\n",
      "Please also refer to the documentation for alternative solver options:\n",
      "    https://scikit-learn.org/stable/modules/linear_model.html#logistic-regression\n",
      "  n_iter_i = _check_optimize_result(\n",
      "/Users/7048518/opt/anaconda3/envs/obp/lib/python3.8/site-packages/sklearn/linear_model/_logistic.py:763: ConvergenceWarning: lbfgs failed to converge (status=1):\n",
      "STOP: TOTAL NO. of ITERATIONS REACHED LIMIT.\n",
      "\n",
      "Increase the number of iterations (max_iter) or scale the data as shown in:\n",
      "    https://scikit-learn.org/stable/modules/preprocessing.html\n",
      "Please also refer to the documentation for alternative solver options:\n",
      "    https://scikit-learn.org/stable/modules/linear_model.html#logistic-regression\n",
      "  n_iter_i = _check_optimize_result(\n"
     ]
    }
   ],
   "source": [
    "estimated_rewards_by_reg_model = regression_model.fit_predict(\n",
    "    context=bandit_feedback['context'], \n",
    "    action=bandit_feedback['action'], \n",
    "    reward=bandit_feedback['reward'],\n",
    "    position=bandit_feedback['position'], \n",
    "    pscore=bandit_feedback['pscore'],\n",
    "    n_folds=3, \n",
    "    random_state=12345,\n",
    ")"
   ]
  },
  {
   "cell_type": "code",
   "execution_count": 40,
   "metadata": {},
   "outputs": [],
   "source": [
    "ope = OffPolicyEvaluation(\n",
    "    bandit_feedback=bandit_feedback, \n",
    "    ope_estimators=[InverseProbabilityWeighting(), DirectMethod()]\n",
    ")"
   ]
  },
  {
   "cell_type": "code",
   "execution_count": 41,
   "metadata": {},
   "outputs": [
    {
     "data": {
      "text/plain": [
       "(10000, 80, 3)"
      ]
     },
     "execution_count": 41,
     "metadata": {},
     "output_type": "execute_result"
    }
   ],
   "source": [
    "estimated_rewards_by_reg_model.shape"
   ]
  },
  {
   "cell_type": "code",
   "execution_count": 42,
   "metadata": {},
   "outputs": [],
   "source": [
    "estimated_policy_lin_ucb, estimated_interval_lin_ucb = ope.summarize_off_policy_estimates(\n",
    "    action_dist=lin_ucb_action_dist, \n",
    "    estimated_rewards_by_reg_model=estimated_rewards_by_reg_model\n",
    ")\n",
    "\n",
    "estimated_policy_logistic_ucb, estimated_interval_logistic_ucb = ope.summarize_off_policy_estimates(\n",
    "    action_dist=logistic_ucb_action_dist, \n",
    "    estimated_rewards_by_reg_model=estimated_rewards_by_reg_model\n",
    ")\n",
    "\n",
    "estimated_policy_lin_ucb_update, estimated_interval_lin_ucb_update = ope.summarize_off_policy_estimates(\n",
    "    action_dist=lin_ucb_update_action_dist, \n",
    "    estimated_rewards_by_reg_model=estimated_rewards_by_reg_model\n",
    ")\n",
    "\n",
    "estimated_policy_logistic_ucb_update, estimated_interval_logistic_ucb_update = ope.summarize_off_policy_estimates(\n",
    "    action_dist=logistic_ucb_update_action_dist, \n",
    "    estimated_rewards_by_reg_model=estimated_rewards_by_reg_model\n",
    ")\n"
   ]
  },
  {
   "cell_type": "code",
   "execution_count": 46,
   "metadata": {},
   "outputs": [],
   "source": [
    "import pandas as pd "
   ]
  },
  {
   "cell_type": "code",
   "execution_count": 68,
   "metadata": {},
   "outputs": [],
   "source": [
    "estimated_concat_lin_ucb = pd.concat([estimated_policy_lin_ucb, estimated_interval_lin_ucb], axis=1)\n",
    "estimated_concat_lin_ucb = estimated_concat_lin_ucb.set_index('lin_ucb_' + estimated_concat_lin_ucb.index.astype(str))"
   ]
  },
  {
   "cell_type": "code",
   "execution_count": 69,
   "metadata": {},
   "outputs": [],
   "source": [
    "estimated_concat_logistic_ucb = pd.concat([estimated_policy_logistic_ucb, estimated_interval_logistic_ucb], axis=1)\n",
    "estimated_concat_logistic_ucb = estimated_concat_logistic_ucb.set_index('logistic_ucb_' + estimated_concat_logistic_ucb.index.astype(str))"
   ]
  },
  {
   "cell_type": "code",
   "execution_count": 71,
   "metadata": {},
   "outputs": [],
   "source": [
    "estimated_concat_lin_ucb_update = pd.concat([estimated_policy_lin_ucb_update, estimated_interval_lin_ucb_update], axis=1)\n",
    "estimated_concat_lin_ucb_update = estimated_concat_lin_ucb_update.set_index('lin_ucb_update_' + estimated_concat_lin_ucb_update.index.astype(str))"
   ]
  },
  {
   "cell_type": "code",
   "execution_count": 72,
   "metadata": {},
   "outputs": [],
   "source": [
    "estimated_concat_logistic_ucb_update = pd.concat([estimated_policy_logistic_ucb_update, estimated_interval_logistic_ucb_update], axis=1)\n",
    "estimated_concat_logistic_ucb_update = estimated_concat_logistic_ucb_update.set_index('logistic_ucb_update_' + estimated_concat_logistic_ucb_update.index.astype(str))"
   ]
  },
  {
   "cell_type": "code",
   "execution_count": 74,
   "metadata": {},
   "outputs": [
    {
     "data": {
      "text/html": [
       "<div>\n",
       "<style scoped>\n",
       "    .dataframe tbody tr th:only-of-type {\n",
       "        vertical-align: middle;\n",
       "    }\n",
       "\n",
       "    .dataframe tbody tr th {\n",
       "        vertical-align: top;\n",
       "    }\n",
       "\n",
       "    .dataframe thead th {\n",
       "        text-align: right;\n",
       "    }\n",
       "</style>\n",
       "<table border=\"1\" class=\"dataframe\">\n",
       "  <thead>\n",
       "    <tr style=\"text-align: right;\">\n",
       "      <th></th>\n",
       "      <th>estimated_policy_value</th>\n",
       "      <th>relative_estimated_policy_value</th>\n",
       "      <th>mean</th>\n",
       "      <th>95.0% CI (lower)</th>\n",
       "      <th>95.0% CI (upper)</th>\n",
       "    </tr>\n",
       "  </thead>\n",
       "  <tbody>\n",
       "    <tr>\n",
       "      <th>lin_ucb_ipw</th>\n",
       "      <td>0.008000</td>\n",
       "      <td>2.105263</td>\n",
       "      <td>0.007600</td>\n",
       "      <td>0.000000</td>\n",
       "      <td>0.024000</td>\n",
       "    </tr>\n",
       "    <tr>\n",
       "      <th>lin_ucb_dm</th>\n",
       "      <td>0.006723</td>\n",
       "      <td>1.769228</td>\n",
       "      <td>0.006731</td>\n",
       "      <td>0.006614</td>\n",
       "      <td>0.006828</td>\n",
       "    </tr>\n",
       "    <tr>\n",
       "      <th>logistic_ucb_ipw</th>\n",
       "      <td>0.008000</td>\n",
       "      <td>2.105263</td>\n",
       "      <td>0.008080</td>\n",
       "      <td>0.000000</td>\n",
       "      <td>0.024000</td>\n",
       "    </tr>\n",
       "    <tr>\n",
       "      <th>logistic_ucb_dm</th>\n",
       "      <td>0.006723</td>\n",
       "      <td>1.769228</td>\n",
       "      <td>0.006717</td>\n",
       "      <td>0.006589</td>\n",
       "      <td>0.006845</td>\n",
       "    </tr>\n",
       "    <tr>\n",
       "      <th>lin_ucb_update_ipw</th>\n",
       "      <td>0.008000</td>\n",
       "      <td>2.105263</td>\n",
       "      <td>0.009840</td>\n",
       "      <td>0.000000</td>\n",
       "      <td>0.028200</td>\n",
       "    </tr>\n",
       "    <tr>\n",
       "      <th>lin_ucb_update_dm</th>\n",
       "      <td>0.006488</td>\n",
       "      <td>1.707279</td>\n",
       "      <td>0.006483</td>\n",
       "      <td>0.006355</td>\n",
       "      <td>0.006589</td>\n",
       "    </tr>\n",
       "    <tr>\n",
       "      <th>logistic_ucb_update_ipw</th>\n",
       "      <td>0.008000</td>\n",
       "      <td>2.105263</td>\n",
       "      <td>0.009200</td>\n",
       "      <td>0.000000</td>\n",
       "      <td>0.032000</td>\n",
       "    </tr>\n",
       "    <tr>\n",
       "      <th>logistic_ucb_update_dm</th>\n",
       "      <td>0.006496</td>\n",
       "      <td>1.709576</td>\n",
       "      <td>0.006489</td>\n",
       "      <td>0.006348</td>\n",
       "      <td>0.006600</td>\n",
       "    </tr>\n",
       "  </tbody>\n",
       "</table>\n",
       "</div>"
      ],
      "text/plain": [
       "                         estimated_policy_value  \\\n",
       "lin_ucb_ipw                            0.008000   \n",
       "lin_ucb_dm                             0.006723   \n",
       "logistic_ucb_ipw                       0.008000   \n",
       "logistic_ucb_dm                        0.006723   \n",
       "lin_ucb_update_ipw                     0.008000   \n",
       "lin_ucb_update_dm                      0.006488   \n",
       "logistic_ucb_update_ipw                0.008000   \n",
       "logistic_ucb_update_dm                 0.006496   \n",
       "\n",
       "                         relative_estimated_policy_value      mean  \\\n",
       "lin_ucb_ipw                                     2.105263  0.007600   \n",
       "lin_ucb_dm                                      1.769228  0.006731   \n",
       "logistic_ucb_ipw                                2.105263  0.008080   \n",
       "logistic_ucb_dm                                 1.769228  0.006717   \n",
       "lin_ucb_update_ipw                              2.105263  0.009840   \n",
       "lin_ucb_update_dm                               1.707279  0.006483   \n",
       "logistic_ucb_update_ipw                         2.105263  0.009200   \n",
       "logistic_ucb_update_dm                          1.709576  0.006489   \n",
       "\n",
       "                         95.0% CI (lower)  95.0% CI (upper)  \n",
       "lin_ucb_ipw                      0.000000          0.024000  \n",
       "lin_ucb_dm                       0.006614          0.006828  \n",
       "logistic_ucb_ipw                 0.000000          0.024000  \n",
       "logistic_ucb_dm                  0.006589          0.006845  \n",
       "lin_ucb_update_ipw               0.000000          0.028200  \n",
       "lin_ucb_update_dm                0.006355          0.006589  \n",
       "logistic_ucb_update_ipw          0.000000          0.032000  \n",
       "logistic_ucb_update_dm           0.006348          0.006600  "
      ]
     },
     "execution_count": 74,
     "metadata": {},
     "output_type": "execute_result"
    }
   ],
   "source": [
    "merged = estimated_concat_lin_ucb.append(estimated_concat_logistic_ucb)\\\n",
    "                            .append(estimated_concat_lin_ucb_update)\\\n",
    "                            .append(estimated_concat_logistic_ucb_update)\n",
    "merged"
   ]
  },
  {
   "cell_type": "code",
   "execution_count": 75,
   "metadata": {},
   "outputs": [
    {
     "data": {
      "image/png": "[encoded data removed]",
      "text/plain": [
       "<Figure size 576x432 with 1 Axes>"
      ]
     },
     "metadata": {},
     "output_type": "display_data"
    }
   ],
   "source": [
    "ope.visualize_off_policy_estimates(\n",
    "    action_dist=lin_ucb_action_dist, \n",
    "    estimated_rewards_by_reg_model=estimated_rewards_by_reg_model, \n",
    "    n_bootstrap_samples=10000,\n",
    "    random_state=12345,\n",
    ")"
   ]
  },
  {
   "cell_type": "code",
   "execution_count": 76,
   "metadata": {},
   "outputs": [
    {
     "name": "stderr",
     "output_type": "stream",
     "text": [
      "INFO:obp.dataset.real:When `data_path` is not given, this class downloads the example small-sized version of the Open Bandit Dataset.\n",
      "/Users/7048518/opt/anaconda3/envs/obp/lib/python3.8/site-packages/obp/dataset/real.py:203: FutureWarning: In a future version of pandas all arguments of DataFrame.drop except for the argument 'labels' will be keyword-only\n",
      "  item_feature_cat = self.item_context.drop(\"item_feature_0\", 1).apply(\n",
      "/Users/7048518/opt/anaconda3/envs/obp/lib/python3.8/site-packages/obp/dataset/real.py:206: FutureWarning: In a future version of pandas all arguments of concat except for the argument 'objs' will be keyword-only\n",
      "  self.action_context = pd.concat([item_feature_cat, item_feature_0], 1).values\n"
     ]
    }
   ],
   "source": [
    "policy_value_random = OpenBanditDataset.calc_on_policy_policy_value_estimate(\n",
    "    behavior_policy='random', campaign='all'\n",
    ")"
   ]
  },
  {
   "cell_type": "code",
   "execution_count": 77,
   "metadata": {},
   "outputs": [],
   "source": [
    "relative_ee = ope.summarize_estimators_comparison(\n",
    "    ground_truth_policy_value=policy_value_random, \n",
    "    action_dist = lin_ucb_action_dist, \n",
    "    estimated_rewards_by_reg_model=estimated_rewards_by_reg_model,\n",
    "    metric='relative-ee',\n",
    ")"
   ]
  },
  {
   "cell_type": "code",
   "execution_count": 78,
   "metadata": {},
   "outputs": [
    {
     "data": {
      "text/html": [
       "<div>\n",
       "<style scoped>\n",
       "    .dataframe tbody tr th:only-of-type {\n",
       "        vertical-align: middle;\n",
       "    }\n",
       "\n",
       "    .dataframe tbody tr th {\n",
       "        vertical-align: top;\n",
       "    }\n",
       "\n",
       "    .dataframe thead th {\n",
       "        text-align: right;\n",
       "    }\n",
       "</style>\n",
       "<table border=\"1\" class=\"dataframe\">\n",
       "  <thead>\n",
       "    <tr style=\"text-align: right;\">\n",
       "      <th></th>\n",
       "      <th>relative-ee</th>\n",
       "    </tr>\n",
       "  </thead>\n",
       "  <tbody>\n",
       "    <tr>\n",
       "      <th>ipw</th>\n",
       "      <td>1.105263</td>\n",
       "    </tr>\n",
       "    <tr>\n",
       "      <th>dm</th>\n",
       "      <td>0.769228</td>\n",
       "    </tr>\n",
       "  </tbody>\n",
       "</table>\n",
       "</div>"
      ],
      "text/plain": [
       "     relative-ee\n",
       "ipw     1.105263\n",
       "dm      0.769228"
      ]
     },
     "execution_count": 78,
     "metadata": {},
     "output_type": "execute_result"
    }
   ],
   "source": [
    "relative_ee"
   ]
  },
  {
   "cell_type": "code",
   "execution_count": 79,
   "metadata": {},
   "outputs": [
    {
     "data": {
      "image/png": "[encoded data removed]",
      "text/plain": [
       "<Figure size 576x892.8 with 2 Axes>"
      ]
     },
     "metadata": {},
     "output_type": "display_data"
    }
   ],
   "source": [
    "mutiple_comparision = ope.visualize_off_policy_estimates_of_multiple_policies(\n",
    "    policy_name_list=['lin_ucb', 'logistic_ucb', 'random', 'lin_ucb_update', 'logistic_ucb_update'],\n",
    "    action_dist_list = [lin_ucb_action_dist, logistic_ucb_action_dist, random_action_dist, lin_ucb_update_action_dist, logistic_ucb_update_action_dist],\n",
    "    estimated_rewards_by_reg_model=estimated_rewards_by_reg_model,\n",
    ")"
   ]
  }
 ],
 "metadata": {
  "interpreter": {
   "hash": "c17c117548a26697884d4b24d77e40bd7766e640ea8225bfd0e51b0c9e2fee49"
  },
  "kernelspec": {
   "display_name": "Python 3",
   "language": "python",
   "name": "python3"
  },
  "language_info": {
   "codemirror_mode": {
    "name": "ipython",
    "version": 3
   },
   "file_extension": ".py",
   "mimetype": "text/x-python",
   "name": "python",
   "nbconvert_exporter": "python",
   "pygments_lexer": "ipython3",
   "version": "3.8.8"
  }
 },
 "nbformat": 4,
 "nbformat_minor": 4
}
